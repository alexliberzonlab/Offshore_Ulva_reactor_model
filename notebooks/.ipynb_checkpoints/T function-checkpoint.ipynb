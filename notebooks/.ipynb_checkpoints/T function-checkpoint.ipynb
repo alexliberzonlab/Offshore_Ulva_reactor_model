{
 "cells": [
  {
   "cell_type": "code",
   "execution_count": 1,
   "metadata": {},
   "outputs": [],
   "source": [
    "from __future__ import division\n",
    "import numpy as np\n",
    "from scipy.integrate import solve_ivp\n",
    "from scipy import interpolate \n",
    "import matplotlib.pyplot as plt\n",
    "import pandas as pd\n",
    "import datetime\n",
    "from datetime import date\n",
    "import datetime\n",
    "from myfunctions import *\n",
    "%matplotlib inline"
   ]
  },
  {
   "cell_type": "code",
   "execution_count": 2,
   "metadata": {},
   "outputs": [
    {
     "name": "stdout",
     "output_type": "stream",
     "text": [
      "Parameter Indoor_value\n",
      "umol_to_percent_DW 0.0014\n",
      "n_days 7\n",
      "Duration 7\n",
      "Nint0 1.85\n",
      "m0 0.15\n",
      "Nintcrit 4.5\n",
      "miu 0.04\n",
      "Nintmax 5.5\n",
      "Nintmin 0.48\n",
      "Ks 14\n",
      "Vmax 60\n",
      "Z 0.178\n",
      "KI 35\n",
      "K0 0.5\n",
      "Ka 0.05\n",
      "Topt 18\n",
      "Tmin 5\n",
      "Tmax 35\n",
      "n 5\n",
      "losses20 0.0016\n",
      "teta 1.047\n",
      "Sopt 25\n",
      "Smin 3\n",
      "Smax 48\n",
      "Shigh 30\n",
      "Slow 12\n",
      "KN 1.1\n",
      "dNextoutdt 0.014\n",
      "dNextindt 0\n",
      "dmoutdt 0\n",
      "Next00  4032\n",
      "dilution 0\n"
     ]
    }
   ],
   "source": [
    "x1 = pd.ExcelFile('../data/Parameters.xlsx')\n",
    "df1 = x1.parse('Parameters',header=None)\n",
    "\n",
    "# assigmment of parameters to values: \n",
    "for key,val in zip(df1.iloc[:][0],df1.iloc[:][1]):\n",
    "    exec(key + '=val')\n",
    "    print(key,val)\n",
    "\n",
    "#n_reactors = np.int(n_reactors)"
   ]
  },
  {
   "cell_type": "code",
   "execution_count": 3,
   "metadata": {},
   "outputs": [
    {
     "data": {
      "text/plain": [
       "[0.9999481651374325,\n",
       " 0.9996064462729727,\n",
       " 0.9983426163863822,\n",
       " 0.994950661489069,\n",
       " 0.9874828019870482,\n",
       " 0.9731419218688973,\n",
       " 0.9483038843462392,\n",
       " 0.9087798720638244,\n",
       " 0.8504512875359893,\n",
       " 0.7703706428524044,\n",
       " 0.6682597470268776]"
      ]
     },
     "execution_count": 3,
     "metadata": {},
     "output_type": "execute_result"
    },
    {
     "data": {
      "image/png": "[encoded data removed]",
      "text/plain": [
       "<Figure size 432x360 with 1 Axes>"
      ]
     },
     "metadata": {
      "needs_background": "light"
     },
     "output_type": "display_data"
    }
   ],
   "source": [
    "# Temperature growth function\n",
    "n = 5\n",
    "Tmax = 35\n",
    "Topt = 18\n",
    "T = list(range(0,36))\n",
    "fTT = []\n",
    "\n",
    "for Temp in T:\n",
    "    if Temp <= Topt:\n",
    "        Tx = Tmin\n",
    "    else:\n",
    "        Tx = Tmax\n",
    "    fT = np.exp(-2.3 * ((Temp - Topt) / (Tx - Topt))**n) # Temp from temperature data\n",
    "    fTT.append(fT)\n",
    "\n",
    "fig,ax = plt.subplots(1,1,sharex=True,figsize=(6,5))\n",
    "ax.plot(T,fTT,'.',markersize=8)\n",
    "ax.set_ylabel('fT',fontsize=12, weight=\"bold\")\n",
    "ax.set_xlabel('Temperature \\n [C]',fontsize=12, weight=\"bold\")\n",
    "\n",
    "fTT[20:31]"
   ]
  },
  {
   "cell_type": "code",
   "execution_count": 4,
   "metadata": {},
   "outputs": [
    {
     "data": {
      "text/plain": [
       "[0.9686674546631939,\n",
       " 0.9308787024448945,\n",
       " 0.8804381126290546,\n",
       " 0.8195810878671661,\n",
       " 0.7508831812034266,\n",
       " 0.6770803024770028,\n",
       " 0.6008904980966794,\n",
       " 0.5248531980780585,\n",
       " 0.4511985687657461,\n",
       " 0.3817551751666066,\n",
       " 0.31789925287856224]"
      ]
     },
     "execution_count": 4,
     "metadata": {},
     "output_type": "execute_result"
    },
    {
     "data": {
      "image/png": "[encoded data removed]",
      "text/plain": [
       "<Figure size 432x360 with 1 Axes>"
      ]
     },
     "metadata": {
      "needs_background": "light"
     },
     "output_type": "display_data"
    }
   ],
   "source": [
    "# Temperature growth function\n",
    "n = 2\n",
    "Tmax = 35\n",
    "Topt = 18\n",
    "T = list(range(0,36))\n",
    "fTT = []\n",
    "\n",
    "for Temp in T:\n",
    "    if Temp <= Topt:\n",
    "        Tx = Tmin\n",
    "    else:\n",
    "        Tx = Tmax\n",
    "    fT = np.exp(-2.3 * ((Temp - Topt) / (Tx - Topt))**n) # Temp from temperature data\n",
    "    fTT.append(fT)\n",
    "\n",
    "fig,ax = plt.subplots(1,1,sharex=True,figsize=(6,5))\n",
    "ax.plot(T,fTT,'.',markersize=8)\n",
    "ax.set_ylabel('fT',fontsize=12, weight=\"bold\")\n",
    "ax.set_xlabel('Temperature \\n [C]',fontsize=12, weight=\"bold\")\n",
    "\n",
    "fTT[20:31]"
   ]
  },
  {
   "cell_type": "code",
   "execution_count": 5,
   "metadata": {},
   "outputs": [
    {
     "name": "stdout",
     "output_type": "stream",
     "text": [
      "0.9275280226570297\n",
      "0.8683127572016461\n"
     ]
    },
    {
     "data": {
      "image/png": "[encoded data removed]",
      "text/plain": [
       "<Figure size 432x360 with 1 Axes>"
      ]
     },
     "metadata": {
      "needs_background": "light"
     },
     "output_type": "display_data"
    }
   ],
   "source": [
    "# S (salinity) function\n",
    "Smin = 0\n",
    "Sopt = 20\n",
    "Smax = 50\n",
    "Salinity = list(range(1,50))\n",
    "fSS = []\n",
    "\n",
    "for S in Salinity:\n",
    "    if S < Sopt:\n",
    "        Sx = Smin\n",
    "        n = 2.5\n",
    "        if S < 5:\n",
    "            fS = ((S - Smin)/(Sopt - Sx))\n",
    "            fSS.append(fS)\n",
    "        elif S >= 5:\n",
    "            fS = 1 - ((S - Sopt)/(Sx - Sopt)) ** n           \n",
    "            fSS.append(fS)\n",
    "    elif S >= Sopt:\n",
    "        Sx = Smax\n",
    "        n = 5 #4.4 # found by solver in fs file\n",
    "        fS = 1 - ((S - Sopt)/(Sx - Sopt)) ** n\n",
    "        fSS.append(fS)\n",
    "        \n",
    "fig,ax = plt.subplots(1,1,sharex=True,figsize=(6,5))\n",
    "ax.plot(S,fS,'.',markersize=8)\n",
    "ax.set_ylabel('fS',fontsize=12, weight=\"bold\")\n",
    "ax.set_xlabel('Salinity \\n [PSU]',fontsize=12, weight=\"bold\")\n",
    "\n",
    "plt.plot(Salinity,fSS,'.')\n",
    "\n",
    "print(fSS[12])\n",
    "print(fSS[39])"
   ]
  },
  {
   "cell_type": "code",
   "execution_count": 12,
   "metadata": {},
   "outputs": [
    {
     "data": {
      "text/plain": [
       "[<matplotlib.lines.Line2D at 0x1c2a3d9de10>]"
      ]
     },
     "execution_count": 12,
     "metadata": {},
     "output_type": "execute_result"
    },
    {
     "data": {
      "image/png": "[encoded data removed]",
      "text/plain": [
       "<Figure size 432x360 with 1 Axes>"
      ]
     },
     "metadata": {
      "needs_background": "light"
     },
     "output_type": "display_data"
    }
   ],
   "source": [
    "# N  function\n",
    "Nintmin = 0.5\n",
    "Nintmax = 4.25\n",
    "Nintcrit = 2.5\n",
    "N = list(range(1,6))\n",
    "N = list(np.linspace(0.5,6,1000))\n",
    "fNN = []\n",
    "\n",
    "for Nint in N:\n",
    "    if Nint >= Nintcrit:\n",
    "        fN = 1\n",
    "    else:\n",
    "        fN = ((Nint - Nintmin)/Nint) / ((Nintcrit - Nintmin)/Nintcrit)  # units: [ ]\n",
    "    fNN.append(fN)\n",
    "fig,ax = plt.subplots(1,1,sharex=True,figsize=(6,5))\n",
    "ax.plot(N,fNN,'.',markersize=8)\n",
    "ax.set_ylabel('fN',fontsize=12, weight=\"bold\")\n",
    "ax.set_xlabel('Nint \\n [% gN/gDW]',fontsize=12, weight=\"bold\")\n",
    "\n",
    "plt.plot(N,fNN,'.')\n"
   ]
  },
  {
   "cell_type": "code",
   "execution_count": null,
   "metadata": {},
   "outputs": [],
   "source": []
  }
 ],
 "metadata": {
  "kernelspec": {
   "display_name": "Python 3",
   "language": "python",
   "name": "python3"
  },
  "language_info": {
   "codemirror_mode": {
    "name": "ipython",
    "version": 3
   },
   "file_extension": ".py",
   "mimetype": "text/x-python",
   "name": "python",
   "nbconvert_exporter": "python",
   "pygments_lexer": "ipython3",
   "version": "3.7.3"
  }
 },
 "nbformat": 4,
 "nbformat_minor": 4
}
