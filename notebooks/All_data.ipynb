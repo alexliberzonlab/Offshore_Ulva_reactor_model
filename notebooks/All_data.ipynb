{
 "cells": [
  {
   "cell_type": "markdown",
   "metadata": {
    "colab_type": "text",
    "id": "raGTYa1h4iD_"
   },
   "source": [
    "# Closed system simulation with experimental data markers\n",
    "\n",
    "In this simulation we have a system of 5 liters in which we start with Next = 1000/500/200, some Nint (measured) of some mass (m). After this we \"feed\" for a period of 7/3.5/2.33 days, i.e. solve the \"feeding\" part of the simulation. After that, we add 1000/500/200 uM to the last value of Next and keep \"feeding\". After one duration (7 days) we reset the water, mass and the amplitude to the beginning of the first cycle. The only difference from the t_0 is the Nint which is accumulating all the effects through the time. The mass is reset to m_0 and Next is reset to 1000 ppm (per something per something)\n"
   ]
  },
  {
   "cell_type": "code",
   "execution_count": 1,
   "metadata": {
    "colab": {},
    "colab_type": "code",
    "id": "yUfAvi3l4iEA"
   },
   "outputs": [],
   "source": [
    "from __future__ import division\n",
    "import numpy as np\n",
    "import scipy as sp\n",
    "from scipy.integrate import odeint\n",
    "from scipy import stats\n",
    "import matplotlib.pyplot as plt\n",
    "import pandas as pd # to read excel\n",
    "import seaborn as sns\n",
    "from array import *\n",
    "import researchpy as rp\n",
    "import scipy.stats as stats\n",
    "%matplotlib inline\n",
    "\n",
    "from myfunctions import *\n",
    "\n",
    "import datetime"
   ]
  },
  {
   "cell_type": "code",
   "execution_count": 2,
   "metadata": {},
   "outputs": [],
   "source": [
    "# statistics functions\n",
    "\n",
    "import scikit_posthocs as scp"
   ]
  },
  {
   "cell_type": "code",
   "execution_count": 3,
   "metadata": {
    "colab": {
     "base_uri": "https://localhost:8080/",
     "height": 277
    },
    "colab_type": "code",
    "executionInfo": {
     "elapsed": 62295,
     "status": "ok",
     "timestamp": 1565466545086,
     "user": {
      "displayName": "Meiron Zollmann",
      "photoUrl": "",
      "userId": "18114482091462006341"
     },
     "user_tz": -180
    },
    "id": "d4VzbZ484iED",
    "inputHidden": false,
    "outputHidden": false,
    "outputId": "6d76a9eb-17b9-400c-de1d-c0cec8fc215c"
   },
   "outputs": [],
   "source": [
    "# Import data and parameters\n",
    "\n",
    "xl = pd.ExcelFile('../data/Parameters.xlsx')\n",
    "x2 = pd.ExcelFile('../data/Data.xlsx')\n",
    "\n",
    "# Import all data df\n",
    "df = x2.parse('All_data')#,header=None)"
   ]
  },
  {
   "cell_type": "code",
   "execution_count": 4,
   "metadata": {},
   "outputs": [
    {
     "data": {
      "text/html": [
       "<div>\n",
       "<style scoped>\n",
       "    .dataframe tbody tr th:only-of-type {\n",
       "        vertical-align: middle;\n",
       "    }\n",
       "\n",
       "    .dataframe tbody tr th {\n",
       "        vertical-align: top;\n",
       "    }\n",
       "\n",
       "    .dataframe thead th {\n",
       "        text-align: right;\n",
       "    }\n",
       "</style>\n",
       "<table border=\"1\" class=\"dataframe\">\n",
       "  <thead>\n",
       "    <tr style=\"text-align: right;\">\n",
       "      <th></th>\n",
       "      <th>System</th>\n",
       "      <th>Sample</th>\n",
       "      <th>DW</th>\n",
       "      <th>mmi</th>\n",
       "      <th>mm</th>\n",
       "      <th>V</th>\n",
       "      <th>N</th>\n",
       "      <th>Assimilated N</th>\n",
       "      <th>Added N</th>\n",
       "      <th>Fertilizing_Efficiency</th>\n",
       "      <th>...</th>\n",
       "      <th>DGR</th>\n",
       "      <th>GR</th>\n",
       "      <th>Treatment</th>\n",
       "      <th>Frequency</th>\n",
       "      <th>Amplitude</th>\n",
       "      <th>Duration</th>\n",
       "      <th>Flux</th>\n",
       "      <th>Sporulated</th>\n",
       "      <th>N_Saturation</th>\n",
       "      <th>Depth</th>\n",
       "    </tr>\n",
       "  </thead>\n",
       "  <tbody>\n",
       "    <tr>\n",
       "      <th>0</th>\n",
       "      <td>Indoor</td>\n",
       "      <td>1.7</td>\n",
       "      <td>0.408</td>\n",
       "      <td>4.8</td>\n",
       "      <td>13.6</td>\n",
       "      <td>5.0</td>\n",
       "      <td>2.070695</td>\n",
       "      <td>0.028932</td>\n",
       "      <td>0.07</td>\n",
       "      <td>0.413309</td>\n",
       "      <td>...</td>\n",
       "      <td>26.190476</td>\n",
       "      <td>16.041665</td>\n",
       "      <td>1000/1/168</td>\n",
       "      <td>1.0</td>\n",
       "      <td>1000.0</td>\n",
       "      <td>168.0</td>\n",
       "      <td>1000.0</td>\n",
       "      <td>No</td>\n",
       "      <td>yes</td>\n",
       "      <td>NaN</td>\n",
       "    </tr>\n",
       "    <tr>\n",
       "      <th>1</th>\n",
       "      <td>Indoor</td>\n",
       "      <td>2.7</td>\n",
       "      <td>0.426</td>\n",
       "      <td>5.1</td>\n",
       "      <td>14.2</td>\n",
       "      <td>5.0</td>\n",
       "      <td>2.014144</td>\n",
       "      <td>0.028759</td>\n",
       "      <td>0.07</td>\n",
       "      <td>0.410840</td>\n",
       "      <td>...</td>\n",
       "      <td>25.490196</td>\n",
       "      <td>15.752710</td>\n",
       "      <td>1000/1/168</td>\n",
       "      <td>1.0</td>\n",
       "      <td>1000.0</td>\n",
       "      <td>168.0</td>\n",
       "      <td>1000.0</td>\n",
       "      <td>No</td>\n",
       "      <td>yes</td>\n",
       "      <td>NaN</td>\n",
       "    </tr>\n",
       "    <tr>\n",
       "      <th>2</th>\n",
       "      <td>Indoor</td>\n",
       "      <td>3.7</td>\n",
       "      <td>0.330</td>\n",
       "      <td>5.3</td>\n",
       "      <td>11.0</td>\n",
       "      <td>5.0</td>\n",
       "      <td>2.179134</td>\n",
       "      <td>0.021259</td>\n",
       "      <td>0.07</td>\n",
       "      <td>0.303695</td>\n",
       "      <td>...</td>\n",
       "      <td>15.363881</td>\n",
       "      <td>10.994741</td>\n",
       "      <td>1000/1/168</td>\n",
       "      <td>1.0</td>\n",
       "      <td>1000.0</td>\n",
       "      <td>168.0</td>\n",
       "      <td>1000.0</td>\n",
       "      <td>No</td>\n",
       "      <td>yes</td>\n",
       "      <td>NaN</td>\n",
       "    </tr>\n",
       "    <tr>\n",
       "      <th>3</th>\n",
       "      <td>Indoor</td>\n",
       "      <td>4.7</td>\n",
       "      <td>0.267</td>\n",
       "      <td>5.2</td>\n",
       "      <td>8.9</td>\n",
       "      <td>5.0</td>\n",
       "      <td>1.401001</td>\n",
       "      <td>0.004284</td>\n",
       "      <td>0.14</td>\n",
       "      <td>0.030597</td>\n",
       "      <td>...</td>\n",
       "      <td>10.164835</td>\n",
       "      <td>7.979410</td>\n",
       "      <td>2000/1/4</td>\n",
       "      <td>1.0</td>\n",
       "      <td>2000.0</td>\n",
       "      <td>4.0</td>\n",
       "      <td>2000.0</td>\n",
       "      <td>No</td>\n",
       "      <td>no</td>\n",
       "      <td>NaN</td>\n",
       "    </tr>\n",
       "    <tr>\n",
       "      <th>4</th>\n",
       "      <td>Indoor</td>\n",
       "      <td>5.7</td>\n",
       "      <td>0.267</td>\n",
       "      <td>4.8</td>\n",
       "      <td>8.9</td>\n",
       "      <td>5.0</td>\n",
       "      <td>1.285626</td>\n",
       "      <td>0.003853</td>\n",
       "      <td>0.14</td>\n",
       "      <td>0.027518</td>\n",
       "      <td>...</td>\n",
       "      <td>12.202381</td>\n",
       "      <td>9.221206</td>\n",
       "      <td>2000/1/4</td>\n",
       "      <td>1.0</td>\n",
       "      <td>2000.0</td>\n",
       "      <td>4.0</td>\n",
       "      <td>2000.0</td>\n",
       "      <td>No</td>\n",
       "      <td>no</td>\n",
       "      <td>NaN</td>\n",
       "    </tr>\n",
       "    <tr>\n",
       "      <th>...</th>\n",
       "      <td>...</td>\n",
       "      <td>...</td>\n",
       "      <td>...</td>\n",
       "      <td>...</td>\n",
       "      <td>...</td>\n",
       "      <td>...</td>\n",
       "      <td>...</td>\n",
       "      <td>...</td>\n",
       "      <td>...</td>\n",
       "      <td>...</td>\n",
       "      <td>...</td>\n",
       "      <td>...</td>\n",
       "      <td>...</td>\n",
       "      <td>...</td>\n",
       "      <td>...</td>\n",
       "      <td>...</td>\n",
       "      <td>...</td>\n",
       "      <td>...</td>\n",
       "      <td>...</td>\n",
       "      <td>...</td>\n",
       "      <td>...</td>\n",
       "    </tr>\n",
       "    <tr>\n",
       "      <th>494</th>\n",
       "      <td>Beakers</td>\n",
       "      <td>212.0</td>\n",
       "      <td>NaN</td>\n",
       "      <td>NaN</td>\n",
       "      <td>NaN</td>\n",
       "      <td>NaN</td>\n",
       "      <td>NaN</td>\n",
       "      <td>NaN</td>\n",
       "      <td>NaN</td>\n",
       "      <td>NaN</td>\n",
       "      <td>...</td>\n",
       "      <td>0.692394</td>\n",
       "      <td>0.609847</td>\n",
       "      <td>NaN</td>\n",
       "      <td>NaN</td>\n",
       "      <td>NaN</td>\n",
       "      <td>NaN</td>\n",
       "      <td>NaN</td>\n",
       "      <td>NaN</td>\n",
       "      <td>no</td>\n",
       "      <td>NaN</td>\n",
       "    </tr>\n",
       "    <tr>\n",
       "      <th>495</th>\n",
       "      <td>Beakers</td>\n",
       "      <td>213.0</td>\n",
       "      <td>NaN</td>\n",
       "      <td>NaN</td>\n",
       "      <td>NaN</td>\n",
       "      <td>NaN</td>\n",
       "      <td>NaN</td>\n",
       "      <td>NaN</td>\n",
       "      <td>NaN</td>\n",
       "      <td>NaN</td>\n",
       "      <td>...</td>\n",
       "      <td>4.660993</td>\n",
       "      <td>3.735506</td>\n",
       "      <td>NaN</td>\n",
       "      <td>NaN</td>\n",
       "      <td>NaN</td>\n",
       "      <td>NaN</td>\n",
       "      <td>NaN</td>\n",
       "      <td>NaN</td>\n",
       "      <td>no</td>\n",
       "      <td>NaN</td>\n",
       "    </tr>\n",
       "    <tr>\n",
       "      <th>496</th>\n",
       "      <td>Beakers</td>\n",
       "      <td>214.0</td>\n",
       "      <td>NaN</td>\n",
       "      <td>NaN</td>\n",
       "      <td>NaN</td>\n",
       "      <td>NaN</td>\n",
       "      <td>NaN</td>\n",
       "      <td>NaN</td>\n",
       "      <td>NaN</td>\n",
       "      <td>NaN</td>\n",
       "      <td>...</td>\n",
       "      <td>2.171599</td>\n",
       "      <td>1.842968</td>\n",
       "      <td>NaN</td>\n",
       "      <td>NaN</td>\n",
       "      <td>NaN</td>\n",
       "      <td>NaN</td>\n",
       "      <td>NaN</td>\n",
       "      <td>NaN</td>\n",
       "      <td>no</td>\n",
       "      <td>NaN</td>\n",
       "    </tr>\n",
       "    <tr>\n",
       "      <th>497</th>\n",
       "      <td>Beakers</td>\n",
       "      <td>215.0</td>\n",
       "      <td>NaN</td>\n",
       "      <td>NaN</td>\n",
       "      <td>NaN</td>\n",
       "      <td>NaN</td>\n",
       "      <td>NaN</td>\n",
       "      <td>NaN</td>\n",
       "      <td>NaN</td>\n",
       "      <td>NaN</td>\n",
       "      <td>...</td>\n",
       "      <td>0.637002</td>\n",
       "      <td>0.561868</td>\n",
       "      <td>NaN</td>\n",
       "      <td>NaN</td>\n",
       "      <td>NaN</td>\n",
       "      <td>NaN</td>\n",
       "      <td>NaN</td>\n",
       "      <td>NaN</td>\n",
       "      <td>no</td>\n",
       "      <td>NaN</td>\n",
       "    </tr>\n",
       "    <tr>\n",
       "      <th>498</th>\n",
       "      <td>Beakers</td>\n",
       "      <td>216.0</td>\n",
       "      <td>NaN</td>\n",
       "      <td>NaN</td>\n",
       "      <td>NaN</td>\n",
       "      <td>NaN</td>\n",
       "      <td>NaN</td>\n",
       "      <td>NaN</td>\n",
       "      <td>NaN</td>\n",
       "      <td>NaN</td>\n",
       "      <td>...</td>\n",
       "      <td>-3.675014</td>\n",
       "      <td>-3.678690</td>\n",
       "      <td>NaN</td>\n",
       "      <td>NaN</td>\n",
       "      <td>NaN</td>\n",
       "      <td>NaN</td>\n",
       "      <td>NaN</td>\n",
       "      <td>NaN</td>\n",
       "      <td>no</td>\n",
       "      <td>NaN</td>\n",
       "    </tr>\n",
       "  </tbody>\n",
       "</table>\n",
       "<p>499 rows × 23 columns</p>\n",
       "</div>"
      ],
      "text/plain": [
       "      System  Sample     DW  mmi    mm    V         N  Assimilated N  Added N  \\\n",
       "0     Indoor     1.7  0.408  4.8  13.6  5.0  2.070695       0.028932     0.07   \n",
       "1     Indoor     2.7  0.426  5.1  14.2  5.0  2.014144       0.028759     0.07   \n",
       "2     Indoor     3.7  0.330  5.3  11.0  5.0  2.179134       0.021259     0.07   \n",
       "3     Indoor     4.7  0.267  5.2   8.9  5.0  1.401001       0.004284     0.14   \n",
       "4     Indoor     5.7  0.267  4.8   8.9  5.0  1.285626       0.003853     0.14   \n",
       "..       ...     ...    ...  ...   ...  ...       ...            ...      ...   \n",
       "494  Beakers   212.0    NaN  NaN   NaN  NaN       NaN            NaN      NaN   \n",
       "495  Beakers   213.0    NaN  NaN   NaN  NaN       NaN            NaN      NaN   \n",
       "496  Beakers   214.0    NaN  NaN   NaN  NaN       NaN            NaN      NaN   \n",
       "497  Beakers   215.0    NaN  NaN   NaN  NaN       NaN            NaN      NaN   \n",
       "498  Beakers   216.0    NaN  NaN   NaN  NaN       NaN            NaN      NaN   \n",
       "\n",
       "     Fertilizing_Efficiency  ...        DGR         GR   Treatment  Frequency  \\\n",
       "0                  0.413309  ...  26.190476  16.041665  1000/1/168        1.0   \n",
       "1                  0.410840  ...  25.490196  15.752710  1000/1/168        1.0   \n",
       "2                  0.303695  ...  15.363881  10.994741  1000/1/168        1.0   \n",
       "3                  0.030597  ...  10.164835   7.979410    2000/1/4        1.0   \n",
       "4                  0.027518  ...  12.202381   9.221206    2000/1/4        1.0   \n",
       "..                      ...  ...        ...        ...         ...        ...   \n",
       "494                     NaN  ...   0.692394   0.609847         NaN        NaN   \n",
       "495                     NaN  ...   4.660993   3.735506         NaN        NaN   \n",
       "496                     NaN  ...   2.171599   1.842968         NaN        NaN   \n",
       "497                     NaN  ...   0.637002   0.561868         NaN        NaN   \n",
       "498                     NaN  ...  -3.675014  -3.678690         NaN        NaN   \n",
       "\n",
       "     Amplitude Duration    Flux  Sporulated  N_Saturation  Depth  \n",
       "0       1000.0    168.0  1000.0          No           yes    NaN  \n",
       "1       1000.0    168.0  1000.0          No           yes    NaN  \n",
       "2       1000.0    168.0  1000.0          No           yes    NaN  \n",
       "3       2000.0      4.0  2000.0          No            no    NaN  \n",
       "4       2000.0      4.0  2000.0          No            no    NaN  \n",
       "..         ...      ...     ...         ...           ...    ...  \n",
       "494        NaN      NaN     NaN         NaN            no    NaN  \n",
       "495        NaN      NaN     NaN         NaN            no    NaN  \n",
       "496        NaN      NaN     NaN         NaN            no    NaN  \n",
       "497        NaN      NaN     NaN         NaN            no    NaN  \n",
       "498        NaN      NaN     NaN         NaN            no    NaN  \n",
       "\n",
       "[499 rows x 23 columns]"
      ]
     },
     "execution_count": 4,
     "metadata": {},
     "output_type": "execute_result"
    }
   ],
   "source": [
    "df#.head()"
   ]
  },
  {
   "cell_type": "code",
   "execution_count": 5,
   "metadata": {},
   "outputs": [],
   "source": [
    "# Reduced datastes\n",
    "d = df[(np.isnan(df.DGR)!= True)]\n",
    "dr = df[(np.isnan(df.RGR)!= True)]\n",
    "dg = df[(np.isnan(df.GR)!= True)]\n",
    "dN = df[(np.isnan(df.N)!= True)]"
   ]
  },
  {
   "cell_type": "code",
   "execution_count": 6,
   "metadata": {},
   "outputs": [
    {
     "name": "stdout",
     "output_type": "stream",
     "text": [
      "\n",
      "\n"
     ]
    },
    {
     "data": {
      "text/html": [
       "<div>\n",
       "<style scoped>\n",
       "    .dataframe tbody tr th:only-of-type {\n",
       "        vertical-align: middle;\n",
       "    }\n",
       "\n",
       "    .dataframe tbody tr th {\n",
       "        vertical-align: top;\n",
       "    }\n",
       "\n",
       "    .dataframe thead th {\n",
       "        text-align: right;\n",
       "    }\n",
       "</style>\n",
       "<table border=\"1\" class=\"dataframe\">\n",
       "  <thead>\n",
       "    <tr style=\"text-align: right;\">\n",
       "      <th></th>\n",
       "      <th>N</th>\n",
       "      <th>Mean</th>\n",
       "      <th>SD</th>\n",
       "      <th>SE</th>\n",
       "      <th>95% Conf.</th>\n",
       "      <th>Interval</th>\n",
       "    </tr>\n",
       "    <tr>\n",
       "      <th>System</th>\n",
       "      <th></th>\n",
       "      <th></th>\n",
       "      <th></th>\n",
       "      <th></th>\n",
       "      <th></th>\n",
       "      <th></th>\n",
       "    </tr>\n",
       "  </thead>\n",
       "  <tbody>\n",
       "    <tr>\n",
       "      <th>Beakers</th>\n",
       "      <td>216</td>\n",
       "      <td>19.5156</td>\n",
       "      <td>13.1241</td>\n",
       "      <td>0.8930</td>\n",
       "      <td>17.7555</td>\n",
       "      <td>21.2758</td>\n",
       "    </tr>\n",
       "    <tr>\n",
       "      <th>Indoor</th>\n",
       "      <td>144</td>\n",
       "      <td>15.8287</td>\n",
       "      <td>10.0293</td>\n",
       "      <td>0.8358</td>\n",
       "      <td>14.1767</td>\n",
       "      <td>17.4808</td>\n",
       "    </tr>\n",
       "    <tr>\n",
       "      <th>Offshore</th>\n",
       "      <td>76</td>\n",
       "      <td>1.0438</td>\n",
       "      <td>8.9395</td>\n",
       "      <td>1.0254</td>\n",
       "      <td>-0.9989</td>\n",
       "      <td>3.0866</td>\n",
       "    </tr>\n",
       "    <tr>\n",
       "      <th>Outdoor_Porter</th>\n",
       "      <td>37</td>\n",
       "      <td>9.8229</td>\n",
       "      <td>9.6507</td>\n",
       "      <td>1.5866</td>\n",
       "      <td>6.6052</td>\n",
       "      <td>13.0406</td>\n",
       "    </tr>\n",
       "  </tbody>\n",
       "</table>\n",
       "</div>"
      ],
      "text/plain": [
       "                  N     Mean       SD      SE  95% Conf.  Interval\n",
       "System                                                            \n",
       "Beakers         216  19.5156  13.1241  0.8930    17.7555   21.2758\n",
       "Indoor          144  15.8287  10.0293  0.8358    14.1767   17.4808\n",
       "Offshore         76   1.0438   8.9395  1.0254    -0.9989    3.0866\n",
       "Outdoor_Porter   37   9.8229   9.6507  1.5866     6.6052   13.0406"
      ]
     },
     "execution_count": 6,
     "metadata": {},
     "output_type": "execute_result"
    }
   ],
   "source": [
    "rp.summary_cont(d['DGR'].groupby(d['System']))"
   ]
  },
  {
   "cell_type": "code",
   "execution_count": 7,
   "metadata": {},
   "outputs": [
    {
     "name": "stdout",
     "output_type": "stream",
     "text": [
      "\n",
      "\n"
     ]
    },
    {
     "data": {
      "text/html": [
       "<div>\n",
       "<style scoped>\n",
       "    .dataframe tbody tr th:only-of-type {\n",
       "        vertical-align: middle;\n",
       "    }\n",
       "\n",
       "    .dataframe tbody tr th {\n",
       "        vertical-align: top;\n",
       "    }\n",
       "\n",
       "    .dataframe thead th {\n",
       "        text-align: right;\n",
       "    }\n",
       "</style>\n",
       "<table border=\"1\" class=\"dataframe\">\n",
       "  <thead>\n",
       "    <tr style=\"text-align: right;\">\n",
       "      <th></th>\n",
       "      <th>N</th>\n",
       "      <th>Mean</th>\n",
       "      <th>SD</th>\n",
       "      <th>SE</th>\n",
       "      <th>95% Conf.</th>\n",
       "      <th>Interval</th>\n",
       "    </tr>\n",
       "    <tr>\n",
       "      <th>System</th>\n",
       "      <th></th>\n",
       "      <th></th>\n",
       "      <th></th>\n",
       "      <th></th>\n",
       "      <th></th>\n",
       "      <th></th>\n",
       "    </tr>\n",
       "  </thead>\n",
       "  <tbody>\n",
       "    <tr>\n",
       "      <th>Beakers</th>\n",
       "      <td>216</td>\n",
       "      <td>11.2106</td>\n",
       "      <td>6.1876</td>\n",
       "      <td>0.4210</td>\n",
       "      <td>10.3808</td>\n",
       "      <td>12.0405</td>\n",
       "    </tr>\n",
       "    <tr>\n",
       "      <th>Indoor</th>\n",
       "      <td>144</td>\n",
       "      <td>10.2764</td>\n",
       "      <td>6.4074</td>\n",
       "      <td>0.5340</td>\n",
       "      <td>9.2210</td>\n",
       "      <td>11.3319</td>\n",
       "    </tr>\n",
       "    <tr>\n",
       "      <th>Offshore</th>\n",
       "      <td>76</td>\n",
       "      <td>-4.5533</td>\n",
       "      <td>19.3130</td>\n",
       "      <td>2.2153</td>\n",
       "      <td>-8.9665</td>\n",
       "      <td>-0.1401</td>\n",
       "    </tr>\n",
       "    <tr>\n",
       "      <th>Outdoor_Porter</th>\n",
       "      <td>37</td>\n",
       "      <td>3.7411</td>\n",
       "      <td>2.8378</td>\n",
       "      <td>0.4665</td>\n",
       "      <td>2.7950</td>\n",
       "      <td>4.6873</td>\n",
       "    </tr>\n",
       "  </tbody>\n",
       "</table>\n",
       "</div>"
      ],
      "text/plain": [
       "                  N     Mean       SD      SE  95% Conf.  Interval\n",
       "System                                                            \n",
       "Beakers         216  11.2106   6.1876  0.4210    10.3808   12.0405\n",
       "Indoor          144  10.2764   6.4074  0.5340     9.2210   11.3319\n",
       "Offshore         76  -4.5533  19.3130  2.2153    -8.9665   -0.1401\n",
       "Outdoor_Porter   37   3.7411   2.8378  0.4665     2.7950    4.6873"
      ]
     },
     "execution_count": 7,
     "metadata": {},
     "output_type": "execute_result"
    }
   ],
   "source": [
    "rp.summary_cont(dg['GR'].groupby(dg['System']))"
   ]
  },
  {
   "cell_type": "code",
   "execution_count": 8,
   "metadata": {},
   "outputs": [
    {
     "name": "stdout",
     "output_type": "stream",
     "text": [
      "MannwhitneyuResult(statistic=11874.5, pvalue=1.734177552654563e-27)\n",
      "MannwhitneyuResult(statistic=10722.5, pvalue=2.754914509315089e-31)\n",
      "MannwhitneyuResult(statistic=10763.0, pvalue=4.475555898381316e-29)\n",
      "MannwhitneyuResult(statistic=316.0, pvalue=7.654803978046363e-20)\n"
     ]
    }
   ],
   "source": [
    "# Mann-Whitney U Test between short and long fertilizing - DGR and N\n",
    "print(stats.mannwhitneyu(d[(d['N_Saturation'] == 'yes')]['DGR'],d[(d['N_Saturation'] == 'no')]['DGR']))\n",
    "print(stats.mannwhitneyu(dg[(dg['N_Saturation'] == 'yes')]['GR'],dg[(dg['N_Saturation'] == 'no')]['GR']))\n",
    "print(stats.mannwhitneyu(dr[(dr['N_Saturation'] == 'yes')]['RGR'],dr[(dr['N_Saturation'] == 'no')]['RGR']))\n",
    "print(stats.mannwhitneyu(dN[(dN['N_Saturation'] == 'yes')]['N'],dN[(dN['N_Saturation'] == 'no')]['N']))"
   ]
  },
  {
   "cell_type": "code",
   "execution_count": 9,
   "metadata": {},
   "outputs": [
    {
     "name": "stdout",
     "output_type": "stream",
     "text": [
      "\n",
      "\n"
     ]
    },
    {
     "data": {
      "text/html": [
       "<div>\n",
       "<style scoped>\n",
       "    .dataframe tbody tr th:only-of-type {\n",
       "        vertical-align: middle;\n",
       "    }\n",
       "\n",
       "    .dataframe tbody tr th {\n",
       "        vertical-align: top;\n",
       "    }\n",
       "\n",
       "    .dataframe thead th {\n",
       "        text-align: right;\n",
       "    }\n",
       "</style>\n",
       "<table border=\"1\" class=\"dataframe\">\n",
       "  <thead>\n",
       "    <tr style=\"text-align: right;\">\n",
       "      <th></th>\n",
       "      <th>N</th>\n",
       "      <th>Mean</th>\n",
       "      <th>SD</th>\n",
       "      <th>SE</th>\n",
       "      <th>95% Conf.</th>\n",
       "      <th>Interval</th>\n",
       "    </tr>\n",
       "    <tr>\n",
       "      <th>System</th>\n",
       "      <th></th>\n",
       "      <th></th>\n",
       "      <th></th>\n",
       "      <th></th>\n",
       "      <th></th>\n",
       "      <th></th>\n",
       "    </tr>\n",
       "  </thead>\n",
       "  <tbody>\n",
       "    <tr>\n",
       "      <th>Beakers</th>\n",
       "      <td>90</td>\n",
       "      <td>27.2602</td>\n",
       "      <td>12.5319</td>\n",
       "      <td>1.3210</td>\n",
       "      <td>24.6355</td>\n",
       "      <td>29.8850</td>\n",
       "    </tr>\n",
       "    <tr>\n",
       "      <th>Indoor</th>\n",
       "      <td>132</td>\n",
       "      <td>17.1218</td>\n",
       "      <td>9.1400</td>\n",
       "      <td>0.7955</td>\n",
       "      <td>15.5481</td>\n",
       "      <td>18.6956</td>\n",
       "    </tr>\n",
       "    <tr>\n",
       "      <th>Outdoor_Porter</th>\n",
       "      <td>4</td>\n",
       "      <td>28.6415</td>\n",
       "      <td>10.8407</td>\n",
       "      <td>5.4204</td>\n",
       "      <td>11.3915</td>\n",
       "      <td>45.8915</td>\n",
       "    </tr>\n",
       "  </tbody>\n",
       "</table>\n",
       "</div>"
      ],
      "text/plain": [
       "                  N     Mean       SD      SE  95% Conf.  Interval\n",
       "System                                                            \n",
       "Beakers          90  27.2602  12.5319  1.3210    24.6355   29.8850\n",
       "Indoor          132  17.1218   9.1400  0.7955    15.5481   18.6956\n",
       "Outdoor_Porter    4  28.6415  10.8407  5.4204    11.3915   45.8915"
      ]
     },
     "execution_count": 9,
     "metadata": {},
     "output_type": "execute_result"
    }
   ],
   "source": [
    "rp.summary_cont(d[(d.N_Saturation == 'yes')]['DGR'].groupby(d['System']))"
   ]
  },
  {
   "cell_type": "code",
   "execution_count": 10,
   "metadata": {},
   "outputs": [
    {
     "data": {
      "text/plain": [
       "KruskalResult(statistic=34.7749265482611, pvalue=2.810092693526822e-08)"
      ]
     },
     "execution_count": 10,
     "metadata": {},
     "output_type": "execute_result"
    }
   ],
   "source": [
    "dy = d[(d.N_Saturation == 'yes')]\n",
    "\n",
    "sp.stats.kruskal(dy[(dy['System'] == 'Beakers')]['DGR'],\n",
    "                dy[(dy['System'] == 'Indoor')]['DGR'],\n",
    "                dy[(dy['System'] == 'Outdoor_Porter')]['DGR'])"
   ]
  },
  {
   "cell_type": "code",
   "execution_count": 11,
   "metadata": {},
   "outputs": [
    {
     "ename": "NameError",
     "evalue": "name 'a' is not defined",
     "output_type": "error",
     "traceback": [
      "\u001b[1;31m---------------------------------------------------------------------------\u001b[0m",
      "\u001b[1;31mNameError\u001b[0m                                 Traceback (most recent call last)",
      "\u001b[1;32m<ipython-input-11-488ec8b6eb94>\u001b[0m in \u001b[0;36m<module>\u001b[1;34m\u001b[0m\n\u001b[1;32m----> 1\u001b[1;33m data = [a,\n\u001b[0m\u001b[0;32m      2\u001b[0m                 \u001b[0mdy\u001b[0m\u001b[1;33m[\u001b[0m\u001b[1;33m(\u001b[0m\u001b[0mdy\u001b[0m\u001b[1;33m[\u001b[0m\u001b[1;34m'System'\u001b[0m\u001b[1;33m]\u001b[0m \u001b[1;33m==\u001b[0m \u001b[1;34m'Indoor'\u001b[0m\u001b[1;33m)\u001b[0m\u001b[1;33m]\u001b[0m\u001b[1;33m[\u001b[0m\u001b[1;34m'DGR'\u001b[0m\u001b[1;33m]\u001b[0m\u001b[1;33m,\u001b[0m\u001b[1;33m\u001b[0m\u001b[1;33m\u001b[0m\u001b[0m\n\u001b[0;32m      3\u001b[0m                 dy[(dy['System'] == 'Outdoor_Porter')]['DGR']]\n\u001b[0;32m      4\u001b[0m \u001b[1;33m\u001b[0m\u001b[0m\n\u001b[0;32m      5\u001b[0m \u001b[0mscp\u001b[0m\u001b[1;33m.\u001b[0m\u001b[0mposthoc_dunn\u001b[0m\u001b[1;33m(\u001b[0m\u001b[0mdata\u001b[0m\u001b[1;33m,\u001b[0m \u001b[0mp_adjust\u001b[0m \u001b[1;33m=\u001b[0m \u001b[1;34m'bonferroni'\u001b[0m\u001b[1;33m)\u001b[0m\u001b[1;33m\u001b[0m\u001b[1;33m\u001b[0m\u001b[0m\n",
      "\u001b[1;31mNameError\u001b[0m: name 'a' is not defined"
     ]
    }
   ],
   "source": [
    "data = [a,\n",
    "                dy[(dy['System'] == 'Indoor')]['DGR'],\n",
    "                dy[(dy['System'] == 'Outdoor_Porter')]['DGR']]\n",
    "\n",
    "scp.posthoc_dunn(data, p_adjust = 'bonferroni')"
   ]
  },
  {
   "cell_type": "code",
   "execution_count": null,
   "metadata": {},
   "outputs": [],
   "source": [
    "dn = d[(d.N_Saturation == 'no')]\n",
    "\n",
    "sp.stats.kruskal(dn[(dn['System'] == 'Beakers')]['DGR'],\n",
    "                dn[(dn['System'] == 'Indoor')]['DGR'],\n",
    "                dn[(dn['System'] == 'Offshore')]['DGR'],\n",
    "                dn[(dn['System'] == 'Outdoor_Porter')]['DGR'])"
   ]
  },
  {
   "cell_type": "code",
   "execution_count": 12,
   "metadata": {},
   "outputs": [
    {
     "ename": "NameError",
     "evalue": "name 'dn' is not defined",
     "output_type": "error",
     "traceback": [
      "\u001b[1;31m---------------------------------------------------------------------------\u001b[0m",
      "\u001b[1;31mNameError\u001b[0m                                 Traceback (most recent call last)",
      "\u001b[1;32m<ipython-input-12-fccfce672231>\u001b[0m in \u001b[0;36m<module>\u001b[1;34m\u001b[0m\n\u001b[1;32m----> 1\u001b[1;33m data = [dn[(dn['System'] == 'Beakers')]['DGR'],\n\u001b[0m\u001b[0;32m      2\u001b[0m                 \u001b[0mdn\u001b[0m\u001b[1;33m[\u001b[0m\u001b[1;33m(\u001b[0m\u001b[0mdn\u001b[0m\u001b[1;33m[\u001b[0m\u001b[1;34m'System'\u001b[0m\u001b[1;33m]\u001b[0m \u001b[1;33m==\u001b[0m \u001b[1;34m'Indoor'\u001b[0m\u001b[1;33m)\u001b[0m\u001b[1;33m]\u001b[0m\u001b[1;33m[\u001b[0m\u001b[1;34m'DGR'\u001b[0m\u001b[1;33m]\u001b[0m\u001b[1;33m,\u001b[0m\u001b[1;33m\u001b[0m\u001b[1;33m\u001b[0m\u001b[0m\n\u001b[0;32m      3\u001b[0m                 \u001b[0mdn\u001b[0m\u001b[1;33m[\u001b[0m\u001b[1;33m(\u001b[0m\u001b[0mdn\u001b[0m\u001b[1;33m[\u001b[0m\u001b[1;34m'System'\u001b[0m\u001b[1;33m]\u001b[0m \u001b[1;33m==\u001b[0m \u001b[1;34m'Offshore'\u001b[0m\u001b[1;33m)\u001b[0m\u001b[1;33m]\u001b[0m\u001b[1;33m[\u001b[0m\u001b[1;34m'DGR'\u001b[0m\u001b[1;33m]\u001b[0m\u001b[1;33m,\u001b[0m\u001b[1;33m\u001b[0m\u001b[1;33m\u001b[0m\u001b[0m\n\u001b[0;32m      4\u001b[0m                 dn[(dn['System'] == 'Outdoor_Porter')]['DGR']]\n\u001b[0;32m      5\u001b[0m \u001b[1;33m\u001b[0m\u001b[0m\n",
      "\u001b[1;31mNameError\u001b[0m: name 'dn' is not defined"
     ]
    }
   ],
   "source": [
    "data = [dn[(dn['System'] == 'Beakers')]['DGR'],\n",
    "                dn[(dn['System'] == 'Indoor')]['DGR'],\n",
    "                dn[(dn['System'] == 'Offshore')]['DGR'],\n",
    "                dn[(dn['System'] == 'Outdoor_Porter')]['DGR']]\n",
    "\n",
    "scp.posthoc_dunn(data, p_adjust = 'bonferroni')"
   ]
  },
  {
   "cell_type": "code",
   "execution_count": 13,
   "metadata": {},
   "outputs": [
    {
     "data": {
      "text/plain": [
       "KruskalResult(statistic=70.50434807349609, pvalue=3.3285660371322467e-15)"
      ]
     },
     "execution_count": 13,
     "metadata": {},
     "output_type": "execute_result"
    }
   ],
   "source": [
    "dgn = d[(d.N_Saturation == 'no')]\n",
    "\n",
    "sp.stats.kruskal(dgn[(dgn['System'] == 'Beakers')]['GR'],\n",
    "                dgn[(dgn['System'] == 'Indoor')]['GR'],\n",
    "                dgn[(dgn['System'] == 'Offshore')]['GR'],\n",
    "                dgn[(dgn['System'] == 'Outdoor_Porter')]['GR'])"
   ]
  },
  {
   "cell_type": "code",
   "execution_count": 14,
   "metadata": {},
   "outputs": [
    {
     "data": {
      "text/html": [
       "<div>\n",
       "<style scoped>\n",
       "    .dataframe tbody tr th:only-of-type {\n",
       "        vertical-align: middle;\n",
       "    }\n",
       "\n",
       "    .dataframe tbody tr th {\n",
       "        vertical-align: top;\n",
       "    }\n",
       "\n",
       "    .dataframe thead th {\n",
       "        text-align: right;\n",
       "    }\n",
       "</style>\n",
       "<table border=\"1\" class=\"dataframe\">\n",
       "  <thead>\n",
       "    <tr style=\"text-align: right;\">\n",
       "      <th></th>\n",
       "      <th>1</th>\n",
       "      <th>2</th>\n",
       "      <th>3</th>\n",
       "      <th>4</th>\n",
       "    </tr>\n",
       "  </thead>\n",
       "  <tbody>\n",
       "    <tr>\n",
       "      <th>1</th>\n",
       "      <td>1.000000e+00</td>\n",
       "      <td>0.004671</td>\n",
       "      <td>4.196821e-14</td>\n",
       "      <td>0.000017</td>\n",
       "    </tr>\n",
       "    <tr>\n",
       "      <th>2</th>\n",
       "      <td>4.671001e-03</td>\n",
       "      <td>1.000000</td>\n",
       "      <td>1.000000e+00</td>\n",
       "      <td>1.000000</td>\n",
       "    </tr>\n",
       "    <tr>\n",
       "      <th>3</th>\n",
       "      <td>4.196821e-14</td>\n",
       "      <td>1.000000</td>\n",
       "      <td>1.000000e+00</td>\n",
       "      <td>1.000000</td>\n",
       "    </tr>\n",
       "    <tr>\n",
       "      <th>4</th>\n",
       "      <td>1.720185e-05</td>\n",
       "      <td>1.000000</td>\n",
       "      <td>1.000000e+00</td>\n",
       "      <td>1.000000</td>\n",
       "    </tr>\n",
       "  </tbody>\n",
       "</table>\n",
       "</div>"
      ],
      "text/plain": [
       "              1         2             3         4\n",
       "1  1.000000e+00  0.004671  4.196821e-14  0.000017\n",
       "2  4.671001e-03  1.000000  1.000000e+00  1.000000\n",
       "3  4.196821e-14  1.000000  1.000000e+00  1.000000\n",
       "4  1.720185e-05  1.000000  1.000000e+00  1.000000"
      ]
     },
     "execution_count": 14,
     "metadata": {},
     "output_type": "execute_result"
    }
   ],
   "source": [
    "data = [dgn[(dgn['System'] == 'Beakers')]['GR'],\n",
    "                dgn[(dgn['System'] == 'Indoor')]['GR'],\n",
    "                dgn[(dgn['System'] == 'Offshore')]['GR'],\n",
    "                dgn[(dgn['System'] == 'Outdoor_Porter')]['GR']]\n",
    "\n",
    "scp.posthoc_dunn(data, p_adjust = 'bonferroni')"
   ]
  },
  {
   "cell_type": "code",
   "execution_count": 15,
   "metadata": {},
   "outputs": [
    {
     "name": "stdout",
     "output_type": "stream",
     "text": [
      "\n",
      "\n"
     ]
    },
    {
     "data": {
      "text/html": [
       "<div>\n",
       "<style scoped>\n",
       "    .dataframe tbody tr th:only-of-type {\n",
       "        vertical-align: middle;\n",
       "    }\n",
       "\n",
       "    .dataframe tbody tr th {\n",
       "        vertical-align: top;\n",
       "    }\n",
       "\n",
       "    .dataframe thead th {\n",
       "        text-align: right;\n",
       "    }\n",
       "</style>\n",
       "<table border=\"1\" class=\"dataframe\">\n",
       "  <thead>\n",
       "    <tr style=\"text-align: right;\">\n",
       "      <th></th>\n",
       "      <th>N</th>\n",
       "      <th>Mean</th>\n",
       "      <th>SD</th>\n",
       "      <th>SE</th>\n",
       "      <th>95% Conf.</th>\n",
       "      <th>Interval</th>\n",
       "    </tr>\n",
       "    <tr>\n",
       "      <th>System</th>\n",
       "      <th></th>\n",
       "      <th></th>\n",
       "      <th></th>\n",
       "      <th></th>\n",
       "      <th></th>\n",
       "      <th></th>\n",
       "    </tr>\n",
       "  </thead>\n",
       "  <tbody>\n",
       "    <tr>\n",
       "      <th>Beakers</th>\n",
       "      <td>90</td>\n",
       "      <td>14.7700</td>\n",
       "      <td>4.9868</td>\n",
       "      <td>0.5257</td>\n",
       "      <td>13.7255</td>\n",
       "      <td>15.8144</td>\n",
       "    </tr>\n",
       "    <tr>\n",
       "      <th>Indoor</th>\n",
       "      <td>132</td>\n",
       "      <td>11.2584</td>\n",
       "      <td>5.1149</td>\n",
       "      <td>0.4452</td>\n",
       "      <td>10.3777</td>\n",
       "      <td>12.1391</td>\n",
       "    </tr>\n",
       "    <tr>\n",
       "      <th>Outdoor_Porter</th>\n",
       "      <td>4</td>\n",
       "      <td>9.5053</td>\n",
       "      <td>1.8070</td>\n",
       "      <td>0.9035</td>\n",
       "      <td>6.6299</td>\n",
       "      <td>12.3807</td>\n",
       "    </tr>\n",
       "  </tbody>\n",
       "</table>\n",
       "</div>"
      ],
      "text/plain": [
       "                  N     Mean      SD      SE  95% Conf.  Interval\n",
       "System                                                           \n",
       "Beakers          90  14.7700  4.9868  0.5257    13.7255   15.8144\n",
       "Indoor          132  11.2584  5.1149  0.4452    10.3777   12.1391\n",
       "Outdoor_Porter    4   9.5053  1.8070  0.9035     6.6299   12.3807"
      ]
     },
     "execution_count": 15,
     "metadata": {},
     "output_type": "execute_result"
    }
   ],
   "source": [
    "rp.summary_cont(dg[(dg.N_Saturation == 'yes')]['GR'].groupby(dg['System']))"
   ]
  },
  {
   "cell_type": "code",
   "execution_count": 16,
   "metadata": {},
   "outputs": [
    {
     "data": {
      "text/plain": [
       "KruskalResult(statistic=24.16790141927357, pvalue=5.6494593387758385e-06)"
      ]
     },
     "execution_count": 16,
     "metadata": {},
     "output_type": "execute_result"
    }
   ],
   "source": [
    "dgy = dg[(dg.N_Saturation == 'yes')]\n",
    "\n",
    "sp.stats.kruskal(dgy[(dgy['System'] == 'Beakers')]['GR'],\n",
    "                dgy[(dgy['System'] == 'Indoor')]['GR'],\n",
    "                dgy[(dgy['System'] == 'Outdoor_Porter')]['GR'])"
   ]
  },
  {
   "cell_type": "code",
   "execution_count": 17,
   "metadata": {},
   "outputs": [
    {
     "ename": "NameError",
     "evalue": "name 'b' is not defined",
     "output_type": "error",
     "traceback": [
      "\u001b[1;31m---------------------------------------------------------------------------\u001b[0m",
      "\u001b[1;31mNameError\u001b[0m                                 Traceback (most recent call last)",
      "\u001b[1;32m<ipython-input-17-8c4b8477b84c>\u001b[0m in \u001b[0;36m<module>\u001b[1;34m\u001b[0m\n\u001b[1;32m----> 1\u001b[1;33m data = [b,\n\u001b[0m\u001b[0;32m      2\u001b[0m                 \u001b[0mdgy\u001b[0m\u001b[1;33m[\u001b[0m\u001b[1;33m(\u001b[0m\u001b[0mdgy\u001b[0m\u001b[1;33m[\u001b[0m\u001b[1;34m'System'\u001b[0m\u001b[1;33m]\u001b[0m \u001b[1;33m==\u001b[0m \u001b[1;34m'Indoor'\u001b[0m\u001b[1;33m)\u001b[0m\u001b[1;33m]\u001b[0m\u001b[1;33m[\u001b[0m\u001b[1;34m'GR'\u001b[0m\u001b[1;33m]\u001b[0m\u001b[1;33m,\u001b[0m\u001b[1;33m\u001b[0m\u001b[1;33m\u001b[0m\u001b[0m\n\u001b[0;32m      3\u001b[0m                 dgy[(dgy['System'] == 'Outdoor_Porter')]['GR']]\n\u001b[0;32m      4\u001b[0m \u001b[1;33m\u001b[0m\u001b[0m\n\u001b[0;32m      5\u001b[0m \u001b[0mscp\u001b[0m\u001b[1;33m.\u001b[0m\u001b[0mposthoc_dunn\u001b[0m\u001b[1;33m(\u001b[0m\u001b[0mdata\u001b[0m\u001b[1;33m,\u001b[0m \u001b[0mp_adjust\u001b[0m \u001b[1;33m=\u001b[0m \u001b[1;34m'bonferroni'\u001b[0m\u001b[1;33m)\u001b[0m\u001b[1;33m\u001b[0m\u001b[1;33m\u001b[0m\u001b[0m\n",
      "\u001b[1;31mNameError\u001b[0m: name 'b' is not defined"
     ]
    }
   ],
   "source": [
    "data = [b,\n",
    "                dgy[(dgy['System'] == 'Indoor')]['GR'],\n",
    "                dgy[(dgy['System'] == 'Outdoor_Porter')]['GR']]\n",
    "\n",
    "scp.posthoc_dunn(data, p_adjust = 'bonferroni')"
   ]
  },
  {
   "cell_type": "code",
   "execution_count": 18,
   "metadata": {},
   "outputs": [
    {
     "data": {
      "text/plain": [
       "[9.0,\n",
       " 10.0,\n",
       " 11.7,\n",
       " 20.8,\n",
       " 8.6,\n",
       " 10.5,\n",
       " 4.7,\n",
       " 12.1,\n",
       " 10.1,\n",
       " 17.7,\n",
       " 12.3,\n",
       " 13.8,\n",
       " 29.3,\n",
       " 13.7,\n",
       " 19.0,\n",
       " 19.8,\n",
       " 14.5,\n",
       " 17.2,\n",
       " 21.5,\n",
       " 17.6,\n",
       " 29.7,\n",
       " 14.3,\n",
       " 23.0,\n",
       " 25.1,\n",
       " 20.3,\n",
       " 22.6,\n",
       " 23.9,\n",
       " 30.8,\n",
       " 34.8,\n",
       " 53.5,\n",
       " 38.1,\n",
       " 42.3,\n",
       " 27.5,\n",
       " 43.5,\n",
       " 39.2,\n",
       " 37.5,\n",
       " 39.5,\n",
       " 31.0,\n",
       " 29.6,\n",
       " 34.6,\n",
       " 39.5,\n",
       " 26.2,\n",
       " 42.7,\n",
       " 27.1,\n",
       " 27.9,\n",
       " 28.5,\n",
       " 46.7,\n",
       " 32.4,\n",
       " 45.1,\n",
       " 64.3,\n",
       " 39.3,\n",
       " 51.6,\n",
       " 43.2,\n",
       " 36.6,\n",
       " 32.5,\n",
       " 41.2,\n",
       " 18.8,\n",
       " 35.5,\n",
       " 35.8,\n",
       " 13.4,\n",
       " 29.9,\n",
       " 50.6,\n",
       " 27.2,\n",
       " 32.2,\n",
       " 32.6,\n",
       " 18.0,\n",
       " 35.6,\n",
       " 36.6,\n",
       " 19.2,\n",
       " 22.6,\n",
       " 34.9,\n",
       " 22.0,\n",
       " 32.2,\n",
       " 40.5,\n",
       " 19.0,\n",
       " 37.7,\n",
       " 14.0,\n",
       " 40.6,\n",
       " 45.8,\n",
       " 35.7,\n",
       " 27.9]"
      ]
     },
     "execution_count": 18,
     "metadata": {},
     "output_type": "execute_result"
    }
   ],
   "source": [
    "# DGR of N_saturated stirred beakers\n",
    "\n",
    "a = [9.0,\n",
    "10.0,\n",
    "11.7,\n",
    "20.8,\n",
    "8.6,\n",
    "10.5,\n",
    "4.7,\n",
    "12.1,\n",
    "10.1,\n",
    "17.7,\n",
    "12.3,\n",
    "13.8,\n",
    "29.3,\n",
    "13.7,\n",
    "19.0,\n",
    "19.8,\n",
    "14.5,\n",
    "17.2,\n",
    "21.5,\n",
    "17.6,\n",
    "29.7,\n",
    "14.3,\n",
    "23.0,\n",
    "25.1,\n",
    "20.3,\n",
    "22.6,\n",
    "23.9,\n",
    "30.8,\n",
    "34.8,\n",
    "53.5,\n",
    "38.1,\n",
    "42.3,\n",
    "27.5,\n",
    "43.5,\n",
    "39.2,\n",
    "37.5,\n",
    "39.5,\n",
    "31.0,\n",
    "29.6,\n",
    "34.6,\n",
    "39.5,\n",
    "26.2,\n",
    "42.7,\n",
    "27.1,\n",
    "27.9,\n",
    "28.5,\n",
    "46.7,\n",
    "32.4,\n",
    "45.1,\n",
    "64.3,\n",
    "39.3,\n",
    "51.6,\n",
    "43.2,\n",
    "36.6,\n",
    "32.5,\n",
    "41.2,\n",
    "18.8,\n",
    "35.5,\n",
    "35.8,\n",
    "13.4,\n",
    "29.9,\n",
    "50.6,\n",
    "27.2,\n",
    "32.2,\n",
    "32.6,\n",
    "18.0,\n",
    "35.6,\n",
    "36.6,\n",
    "19.2,\n",
    "22.6,\n",
    "34.9,\n",
    "22.0,\n",
    "32.2,\n",
    "40.5,\n",
    "19.0,\n",
    "37.7,\n",
    "14.0,\n",
    "40.6,\n",
    "45.8,\n",
    "35.7,\n",
    "27.9\n",
    "]\n",
    "a"
   ]
  },
  {
   "cell_type": "code",
   "execution_count": 19,
   "metadata": {},
   "outputs": [
    {
     "data": {
      "text/plain": [
       "[6.6,\n",
       " 7.2,\n",
       " 8.2,\n",
       " 12.7,\n",
       " 6.4,\n",
       " 7.5,\n",
       " 3.7,\n",
       " 8.4,\n",
       " 7.3,\n",
       " 11.3,\n",
       " 8.5,\n",
       " 9.3,\n",
       " 16.1,\n",
       " 9.3,\n",
       " 11.9,\n",
       " 12.2,\n",
       " 9.7,\n",
       " 11.0,\n",
       " 13.0,\n",
       " 11.2,\n",
       " 16.2,\n",
       " 9.6,\n",
       " 13.6,\n",
       " 14.5,\n",
       " 12.4,\n",
       " 13.4,\n",
       " 14.0,\n",
       " 16.6,\n",
       " 18.0,\n",
       " 23.4,\n",
       " 19.1,\n",
       " 20.4,\n",
       " 15.4,\n",
       " 20.7,\n",
       " 19.4,\n",
       " 18.9,\n",
       " 19.5,\n",
       " 16.7,\n",
       " 16.2,\n",
       " 17.9,\n",
       " 19.5,\n",
       " 14.9,\n",
       " 20.5,\n",
       " 15.3,\n",
       " 15.5,\n",
       " 15.8,\n",
       " 21.6,\n",
       " 17.2,\n",
       " 21.2,\n",
       " 26.0,\n",
       " 19.4,\n",
       " 22.9,\n",
       " 20.6,\n",
       " 18.6,\n",
       " 17.2,\n",
       " 20.0,\n",
       " 11.8,\n",
       " 18.2,\n",
       " 18.3,\n",
       " 9.1,\n",
       " 16.3,\n",
       " 22.7,\n",
       " 15.3,\n",
       " 17.1,\n",
       " 17.3,\n",
       " 11.4,\n",
       " 18.3,\n",
       " 18.6,\n",
       " 12.0,\n",
       " 13.5,\n",
       " 18.0,\n",
       " 13.2,\n",
       " 17.1,\n",
       " 19.8,\n",
       " 11.9,\n",
       " 19.0,\n",
       " 9.4,\n",
       " 19.8,\n",
       " 21.3,\n",
       " 18.3,\n",
       " 15.5]"
      ]
     },
     "execution_count": 19,
     "metadata": {},
     "output_type": "execute_result"
    }
   ],
   "source": [
    "# GR of N_saturated stirred beakers\n",
    "\n",
    "b = [6.6,\n",
    "7.2,\n",
    "8.2,\n",
    "12.7,\n",
    "6.4,\n",
    "7.5,\n",
    "3.7,\n",
    "8.4,\n",
    "7.3,\n",
    "11.3,\n",
    "8.5,\n",
    "9.3,\n",
    "16.1,\n",
    "9.3,\n",
    "11.9,\n",
    "12.2,\n",
    "9.7,\n",
    "11.0,\n",
    "13.0,\n",
    "11.2,\n",
    "16.2,\n",
    "9.6,\n",
    "13.6,\n",
    "14.5,\n",
    "12.4,\n",
    "13.4,\n",
    "14.0,\n",
    "16.6,\n",
    "18.0,\n",
    "23.4,\n",
    "19.1,\n",
    "20.4,\n",
    "15.4,\n",
    "20.7,\n",
    "19.4,\n",
    "18.9,\n",
    "19.5,\n",
    "16.7,\n",
    "16.2,\n",
    "17.9,\n",
    "19.5,\n",
    "14.9,\n",
    "20.5,\n",
    "15.3,\n",
    "15.5,\n",
    "15.8,\n",
    "21.6,\n",
    "17.2,\n",
    "21.2,\n",
    "26.0,\n",
    "19.4,\n",
    "22.9,\n",
    "20.6,\n",
    "18.6,\n",
    "17.2,\n",
    "20.0,\n",
    "11.8,\n",
    "18.2,\n",
    "18.3,\n",
    "9.1,\n",
    "16.3,\n",
    "22.7,\n",
    "15.3,\n",
    "17.1,\n",
    "17.3,\n",
    "11.4,\n",
    "18.3,\n",
    "18.6,\n",
    "12.0,\n",
    "13.5,\n",
    "18.0,\n",
    "13.2,\n",
    "17.1,\n",
    "19.8,\n",
    "11.9,\n",
    "19.0,\n",
    "9.4,\n",
    "19.8,\n",
    "21.3,\n",
    "18.3,\n",
    "15.5\n",
    "]\n",
    "b"
   ]
  },
  {
   "cell_type": "code",
   "execution_count": 20,
   "metadata": {},
   "outputs": [
    {
     "name": "stdout",
     "output_type": "stream",
     "text": [
      "\n",
      "\n"
     ]
    },
    {
     "data": {
      "text/html": [
       "<div>\n",
       "<style scoped>\n",
       "    .dataframe tbody tr th:only-of-type {\n",
       "        vertical-align: middle;\n",
       "    }\n",
       "\n",
       "    .dataframe tbody tr th {\n",
       "        vertical-align: top;\n",
       "    }\n",
       "\n",
       "    .dataframe thead th {\n",
       "        text-align: right;\n",
       "    }\n",
       "</style>\n",
       "<table border=\"1\" class=\"dataframe\">\n",
       "  <thead>\n",
       "    <tr style=\"text-align: right;\">\n",
       "      <th></th>\n",
       "      <th>N</th>\n",
       "      <th>Mean</th>\n",
       "      <th>SD</th>\n",
       "      <th>SE</th>\n",
       "      <th>95% Conf.</th>\n",
       "      <th>Interval</th>\n",
       "    </tr>\n",
       "    <tr>\n",
       "      <th>System</th>\n",
       "      <th></th>\n",
       "      <th></th>\n",
       "      <th></th>\n",
       "      <th></th>\n",
       "      <th></th>\n",
       "      <th></th>\n",
       "    </tr>\n",
       "  </thead>\n",
       "  <tbody>\n",
       "    <tr>\n",
       "      <th>Beakers</th>\n",
       "      <td>90</td>\n",
       "      <td>13.6817</td>\n",
       "      <td>4.3761</td>\n",
       "      <td>0.4613</td>\n",
       "      <td>12.7652</td>\n",
       "      <td>14.5983</td>\n",
       "    </tr>\n",
       "    <tr>\n",
       "      <th>Indoor</th>\n",
       "      <td>132</td>\n",
       "      <td>10.5346</td>\n",
       "      <td>4.6581</td>\n",
       "      <td>0.4054</td>\n",
       "      <td>9.7325</td>\n",
       "      <td>11.3366</td>\n",
       "    </tr>\n",
       "    <tr>\n",
       "      <th>Outdoor_Porter</th>\n",
       "      <td>4</td>\n",
       "      <td>9.0700</td>\n",
       "      <td>1.6540</td>\n",
       "      <td>0.8270</td>\n",
       "      <td>6.4381</td>\n",
       "      <td>11.7020</td>\n",
       "    </tr>\n",
       "  </tbody>\n",
       "</table>\n",
       "</div>"
      ],
      "text/plain": [
       "                  N     Mean      SD      SE  95% Conf.  Interval\n",
       "System                                                           \n",
       "Beakers          90  13.6817  4.3761  0.4613    12.7652   14.5983\n",
       "Indoor          132  10.5346  4.6581  0.4054     9.7325   11.3366\n",
       "Outdoor_Porter    4   9.0700  1.6540  0.8270     6.4381   11.7020"
      ]
     },
     "execution_count": 20,
     "metadata": {},
     "output_type": "execute_result"
    }
   ],
   "source": [
    "rp.summary_cont(dr[(dr.N_Saturation == 'yes')]['RGR'].groupby(dr['System']))"
   ]
  },
  {
   "cell_type": "code",
   "execution_count": 21,
   "metadata": {},
   "outputs": [
    {
     "name": "stdout",
     "output_type": "stream",
     "text": [
      "\n",
      "\n"
     ]
    },
    {
     "data": {
      "text/html": [
       "<div>\n",
       "<style scoped>\n",
       "    .dataframe tbody tr th:only-of-type {\n",
       "        vertical-align: middle;\n",
       "    }\n",
       "\n",
       "    .dataframe tbody tr th {\n",
       "        vertical-align: top;\n",
       "    }\n",
       "\n",
       "    .dataframe thead th {\n",
       "        text-align: right;\n",
       "    }\n",
       "</style>\n",
       "<table border=\"1\" class=\"dataframe\">\n",
       "  <thead>\n",
       "    <tr style=\"text-align: right;\">\n",
       "      <th></th>\n",
       "      <th>N</th>\n",
       "      <th>Mean</th>\n",
       "      <th>SD</th>\n",
       "      <th>SE</th>\n",
       "      <th>95% Conf.</th>\n",
       "      <th>Interval</th>\n",
       "    </tr>\n",
       "    <tr>\n",
       "      <th>System</th>\n",
       "      <th></th>\n",
       "      <th></th>\n",
       "      <th></th>\n",
       "      <th></th>\n",
       "      <th></th>\n",
       "      <th></th>\n",
       "    </tr>\n",
       "  </thead>\n",
       "  <tbody>\n",
       "    <tr>\n",
       "      <th>Beakers</th>\n",
       "      <td>90</td>\n",
       "      <td>14.7700</td>\n",
       "      <td>4.9868</td>\n",
       "      <td>0.5257</td>\n",
       "      <td>13.7255</td>\n",
       "      <td>15.8144</td>\n",
       "    </tr>\n",
       "    <tr>\n",
       "      <th>Indoor</th>\n",
       "      <td>132</td>\n",
       "      <td>11.2584</td>\n",
       "      <td>5.1149</td>\n",
       "      <td>0.4452</td>\n",
       "      <td>10.3777</td>\n",
       "      <td>12.1391</td>\n",
       "    </tr>\n",
       "    <tr>\n",
       "      <th>Outdoor_Porter</th>\n",
       "      <td>4</td>\n",
       "      <td>9.5053</td>\n",
       "      <td>1.8070</td>\n",
       "      <td>0.9035</td>\n",
       "      <td>6.6299</td>\n",
       "      <td>12.3807</td>\n",
       "    </tr>\n",
       "  </tbody>\n",
       "</table>\n",
       "</div>"
      ],
      "text/plain": [
       "                  N     Mean      SD      SE  95% Conf.  Interval\n",
       "System                                                           \n",
       "Beakers          90  14.7700  4.9868  0.5257    13.7255   15.8144\n",
       "Indoor          132  11.2584  5.1149  0.4452    10.3777   12.1391\n",
       "Outdoor_Porter    4   9.5053  1.8070  0.9035     6.6299   12.3807"
      ]
     },
     "execution_count": 21,
     "metadata": {},
     "output_type": "execute_result"
    }
   ],
   "source": [
    "rp.summary_cont(dg[(dg.N_Saturation == 'yes')]['GR'].groupby(dg['System']))"
   ]
  },
  {
   "cell_type": "code",
   "execution_count": null,
   "metadata": {},
   "outputs": [],
   "source": []
  },
  {
   "cell_type": "code",
   "execution_count": 22,
   "metadata": {},
   "outputs": [
    {
     "name": "stdout",
     "output_type": "stream",
     "text": [
      "\n",
      "\n"
     ]
    },
    {
     "data": {
      "text/html": [
       "<div>\n",
       "<style scoped>\n",
       "    .dataframe tbody tr th:only-of-type {\n",
       "        vertical-align: middle;\n",
       "    }\n",
       "\n",
       "    .dataframe tbody tr th {\n",
       "        vertical-align: top;\n",
       "    }\n",
       "\n",
       "    .dataframe thead th {\n",
       "        text-align: right;\n",
       "    }\n",
       "</style>\n",
       "<table border=\"1\" class=\"dataframe\">\n",
       "  <thead>\n",
       "    <tr style=\"text-align: right;\">\n",
       "      <th></th>\n",
       "      <th>N</th>\n",
       "      <th>Mean</th>\n",
       "      <th>SD</th>\n",
       "      <th>SE</th>\n",
       "      <th>95% Conf.</th>\n",
       "      <th>Interval</th>\n",
       "    </tr>\n",
       "    <tr>\n",
       "      <th>System</th>\n",
       "      <th></th>\n",
       "      <th></th>\n",
       "      <th></th>\n",
       "      <th></th>\n",
       "      <th></th>\n",
       "      <th></th>\n",
       "    </tr>\n",
       "  </thead>\n",
       "  <tbody>\n",
       "    <tr>\n",
       "      <th>Beakers</th>\n",
       "      <td>126</td>\n",
       "      <td>13.9838</td>\n",
       "      <td>10.5075</td>\n",
       "      <td>0.9361</td>\n",
       "      <td>12.1312</td>\n",
       "      <td>15.8364</td>\n",
       "    </tr>\n",
       "    <tr>\n",
       "      <th>Indoor</th>\n",
       "      <td>12</td>\n",
       "      <td>1.6050</td>\n",
       "      <td>8.4847</td>\n",
       "      <td>2.4493</td>\n",
       "      <td>-3.7860</td>\n",
       "      <td>6.9959</td>\n",
       "    </tr>\n",
       "    <tr>\n",
       "      <th>Offshore</th>\n",
       "      <td>76</td>\n",
       "      <td>1.0438</td>\n",
       "      <td>8.9395</td>\n",
       "      <td>1.0254</td>\n",
       "      <td>-0.9989</td>\n",
       "      <td>3.0866</td>\n",
       "    </tr>\n",
       "    <tr>\n",
       "      <th>Outdoor_Porter</th>\n",
       "      <td>33</td>\n",
       "      <td>7.5419</td>\n",
       "      <td>6.6428</td>\n",
       "      <td>1.1564</td>\n",
       "      <td>5.1865</td>\n",
       "      <td>9.8973</td>\n",
       "    </tr>\n",
       "  </tbody>\n",
       "</table>\n",
       "</div>"
      ],
      "text/plain": [
       "                  N     Mean       SD      SE  95% Conf.  Interval\n",
       "System                                                            \n",
       "Beakers         126  13.9838  10.5075  0.9361    12.1312   15.8364\n",
       "Indoor           12   1.6050   8.4847  2.4493    -3.7860    6.9959\n",
       "Offshore         76   1.0438   8.9395  1.0254    -0.9989    3.0866\n",
       "Outdoor_Porter   33   7.5419   6.6428  1.1564     5.1865    9.8973"
      ]
     },
     "execution_count": 22,
     "metadata": {},
     "output_type": "execute_result"
    }
   ],
   "source": [
    "rp.summary_cont(d[(d.N_Saturation == 'no')]['DGR'].groupby(d['System']))"
   ]
  },
  {
   "cell_type": "code",
   "execution_count": 23,
   "metadata": {},
   "outputs": [
    {
     "name": "stdout",
     "output_type": "stream",
     "text": [
      "\n",
      "\n"
     ]
    },
    {
     "data": {
      "text/html": [
       "<div>\n",
       "<style scoped>\n",
       "    .dataframe tbody tr th:only-of-type {\n",
       "        vertical-align: middle;\n",
       "    }\n",
       "\n",
       "    .dataframe tbody tr th {\n",
       "        vertical-align: top;\n",
       "    }\n",
       "\n",
       "    .dataframe thead th {\n",
       "        text-align: right;\n",
       "    }\n",
       "</style>\n",
       "<table border=\"1\" class=\"dataframe\">\n",
       "  <thead>\n",
       "    <tr style=\"text-align: right;\">\n",
       "      <th></th>\n",
       "      <th>N</th>\n",
       "      <th>Mean</th>\n",
       "      <th>SD</th>\n",
       "      <th>SE</th>\n",
       "      <th>95% Conf.</th>\n",
       "      <th>Interval</th>\n",
       "    </tr>\n",
       "    <tr>\n",
       "      <th>System</th>\n",
       "      <th></th>\n",
       "      <th></th>\n",
       "      <th></th>\n",
       "      <th></th>\n",
       "      <th></th>\n",
       "      <th></th>\n",
       "    </tr>\n",
       "  </thead>\n",
       "  <tbody>\n",
       "    <tr>\n",
       "      <th>Beakers</th>\n",
       "      <td>126</td>\n",
       "      <td>8.1754</td>\n",
       "      <td>5.2771</td>\n",
       "      <td>0.4701</td>\n",
       "      <td>7.2449</td>\n",
       "      <td>9.1058</td>\n",
       "    </tr>\n",
       "    <tr>\n",
       "      <th>Indoor</th>\n",
       "      <td>12</td>\n",
       "      <td>-0.5821</td>\n",
       "      <td>9.4009</td>\n",
       "      <td>2.7138</td>\n",
       "      <td>-6.5552</td>\n",
       "      <td>5.3910</td>\n",
       "    </tr>\n",
       "    <tr>\n",
       "      <th>Offshore</th>\n",
       "      <td>66</td>\n",
       "      <td>-0.7622</td>\n",
       "      <td>10.8588</td>\n",
       "      <td>1.3366</td>\n",
       "      <td>-3.4316</td>\n",
       "      <td>1.9072</td>\n",
       "    </tr>\n",
       "    <tr>\n",
       "      <th>Outdoor_Porter</th>\n",
       "      <td>33</td>\n",
       "      <td>2.9785</td>\n",
       "      <td>1.9551</td>\n",
       "      <td>0.3403</td>\n",
       "      <td>2.2853</td>\n",
       "      <td>3.6718</td>\n",
       "    </tr>\n",
       "  </tbody>\n",
       "</table>\n",
       "</div>"
      ],
      "text/plain": [
       "                  N    Mean       SD      SE  95% Conf.  Interval\n",
       "System                                                           \n",
       "Beakers         126  8.1754   5.2771  0.4701     7.2449    9.1058\n",
       "Indoor           12 -0.5821   9.4009  2.7138    -6.5552    5.3910\n",
       "Offshore         66 -0.7622  10.8588  1.3366    -3.4316    1.9072\n",
       "Outdoor_Porter   33  2.9785   1.9551  0.3403     2.2853    3.6718"
      ]
     },
     "execution_count": 23,
     "metadata": {},
     "output_type": "execute_result"
    }
   ],
   "source": [
    "rp.summary_cont(dr[(dr.N_Saturation == 'no')]['RGR'].groupby(dr['System']))"
   ]
  },
  {
   "cell_type": "code",
   "execution_count": 24,
   "metadata": {},
   "outputs": [
    {
     "name": "stdout",
     "output_type": "stream",
     "text": [
      "\n",
      "\n"
     ]
    },
    {
     "data": {
      "text/html": [
       "<div>\n",
       "<style scoped>\n",
       "    .dataframe tbody tr th:only-of-type {\n",
       "        vertical-align: middle;\n",
       "    }\n",
       "\n",
       "    .dataframe tbody tr th {\n",
       "        vertical-align: top;\n",
       "    }\n",
       "\n",
       "    .dataframe thead th {\n",
       "        text-align: right;\n",
       "    }\n",
       "</style>\n",
       "<table border=\"1\" class=\"dataframe\">\n",
       "  <thead>\n",
       "    <tr style=\"text-align: right;\">\n",
       "      <th></th>\n",
       "      <th>N</th>\n",
       "      <th>Mean</th>\n",
       "      <th>SD</th>\n",
       "      <th>SE</th>\n",
       "      <th>95% Conf.</th>\n",
       "      <th>Interval</th>\n",
       "    </tr>\n",
       "    <tr>\n",
       "      <th>System</th>\n",
       "      <th></th>\n",
       "      <th></th>\n",
       "      <th></th>\n",
       "      <th></th>\n",
       "      <th></th>\n",
       "      <th></th>\n",
       "    </tr>\n",
       "  </thead>\n",
       "  <tbody>\n",
       "    <tr>\n",
       "      <th>Beakers</th>\n",
       "      <td>126</td>\n",
       "      <td>8.6683</td>\n",
       "      <td>5.7018</td>\n",
       "      <td>0.5080</td>\n",
       "      <td>7.6630</td>\n",
       "      <td>9.6736</td>\n",
       "    </tr>\n",
       "    <tr>\n",
       "      <th>Indoor</th>\n",
       "      <td>12</td>\n",
       "      <td>-0.5255</td>\n",
       "      <td>9.1262</td>\n",
       "      <td>2.6345</td>\n",
       "      <td>-6.3240</td>\n",
       "      <td>5.2731</td>\n",
       "    </tr>\n",
       "    <tr>\n",
       "      <th>Offshore</th>\n",
       "      <td>76</td>\n",
       "      <td>-4.5533</td>\n",
       "      <td>19.3130</td>\n",
       "      <td>2.2153</td>\n",
       "      <td>-8.9665</td>\n",
       "      <td>-0.1401</td>\n",
       "    </tr>\n",
       "    <tr>\n",
       "      <th>Outdoor_Porter</th>\n",
       "      <td>33</td>\n",
       "      <td>3.0425</td>\n",
       "      <td>2.0241</td>\n",
       "      <td>0.3523</td>\n",
       "      <td>2.3248</td>\n",
       "      <td>3.7602</td>\n",
       "    </tr>\n",
       "  </tbody>\n",
       "</table>\n",
       "</div>"
      ],
      "text/plain": [
       "                  N    Mean       SD      SE  95% Conf.  Interval\n",
       "System                                                           \n",
       "Beakers         126  8.6683   5.7018  0.5080     7.6630    9.6736\n",
       "Indoor           12 -0.5255   9.1262  2.6345    -6.3240    5.2731\n",
       "Offshore         76 -4.5533  19.3130  2.2153    -8.9665   -0.1401\n",
       "Outdoor_Porter   33  3.0425   2.0241  0.3523     2.3248    3.7602"
      ]
     },
     "execution_count": 24,
     "metadata": {},
     "output_type": "execute_result"
    }
   ],
   "source": [
    "rp.summary_cont(dg[(dg.N_Saturation == 'no')]['GR'].groupby(dg['System']))"
   ]
  },
  {
   "cell_type": "code",
   "execution_count": 25,
   "metadata": {},
   "outputs": [
    {
     "name": "stdout",
     "output_type": "stream",
     "text": [
      "\n",
      "\n"
     ]
    },
    {
     "data": {
      "text/html": [
       "<div>\n",
       "<style scoped>\n",
       "    .dataframe tbody tr th:only-of-type {\n",
       "        vertical-align: middle;\n",
       "    }\n",
       "\n",
       "    .dataframe tbody tr th {\n",
       "        vertical-align: top;\n",
       "    }\n",
       "\n",
       "    .dataframe thead th {\n",
       "        text-align: right;\n",
       "    }\n",
       "</style>\n",
       "<table border=\"1\" class=\"dataframe\">\n",
       "  <thead>\n",
       "    <tr style=\"text-align: right;\">\n",
       "      <th></th>\n",
       "      <th>N</th>\n",
       "      <th>Mean</th>\n",
       "      <th>SD</th>\n",
       "      <th>SE</th>\n",
       "      <th>95% Conf.</th>\n",
       "      <th>Interval</th>\n",
       "    </tr>\n",
       "    <tr>\n",
       "      <th>System</th>\n",
       "      <th></th>\n",
       "      <th></th>\n",
       "      <th></th>\n",
       "      <th></th>\n",
       "      <th></th>\n",
       "      <th></th>\n",
       "    </tr>\n",
       "  </thead>\n",
       "  <tbody>\n",
       "    <tr>\n",
       "      <th>Indoor</th>\n",
       "      <td>104</td>\n",
       "      <td>2.6953</td>\n",
       "      <td>0.7185</td>\n",
       "      <td>0.0705</td>\n",
       "      <td>2.5556</td>\n",
       "      <td>2.8350</td>\n",
       "    </tr>\n",
       "    <tr>\n",
       "      <th>Outdoor_Porter</th>\n",
       "      <td>6</td>\n",
       "      <td>2.8850</td>\n",
       "      <td>0.4932</td>\n",
       "      <td>0.2013</td>\n",
       "      <td>2.3675</td>\n",
       "      <td>3.4026</td>\n",
       "    </tr>\n",
       "  </tbody>\n",
       "</table>\n",
       "</div>"
      ],
      "text/plain": [
       "                  N    Mean      SD      SE  95% Conf.  Interval\n",
       "System                                                          \n",
       "Indoor          104  2.6953  0.7185  0.0705     2.5556    2.8350\n",
       "Outdoor_Porter    6  2.8850  0.4932  0.2013     2.3675    3.4026"
      ]
     },
     "execution_count": 25,
     "metadata": {},
     "output_type": "execute_result"
    }
   ],
   "source": [
    "rp.summary_cont(dN[(dN.N_Saturation == 'yes')]['N'].groupby(dN['System']))"
   ]
  },
  {
   "cell_type": "code",
   "execution_count": 26,
   "metadata": {},
   "outputs": [
    {
     "name": "stdout",
     "output_type": "stream",
     "text": [
      "\n",
      "\n"
     ]
    },
    {
     "data": {
      "text/html": [
       "<div>\n",
       "<style scoped>\n",
       "    .dataframe tbody tr th:only-of-type {\n",
       "        vertical-align: middle;\n",
       "    }\n",
       "\n",
       "    .dataframe tbody tr th {\n",
       "        vertical-align: top;\n",
       "    }\n",
       "\n",
       "    .dataframe thead th {\n",
       "        text-align: right;\n",
       "    }\n",
       "</style>\n",
       "<table border=\"1\" class=\"dataframe\">\n",
       "  <thead>\n",
       "    <tr style=\"text-align: right;\">\n",
       "      <th></th>\n",
       "      <th>N</th>\n",
       "      <th>Mean</th>\n",
       "      <th>SD</th>\n",
       "      <th>SE</th>\n",
       "      <th>95% Conf.</th>\n",
       "      <th>Interval</th>\n",
       "    </tr>\n",
       "    <tr>\n",
       "      <th>System</th>\n",
       "      <th></th>\n",
       "      <th></th>\n",
       "      <th></th>\n",
       "      <th></th>\n",
       "      <th></th>\n",
       "      <th></th>\n",
       "    </tr>\n",
       "  </thead>\n",
       "  <tbody>\n",
       "    <tr>\n",
       "      <th>Indoor</th>\n",
       "      <td>12</td>\n",
       "      <td>1.6445</td>\n",
       "      <td>0.5534</td>\n",
       "      <td>0.1598</td>\n",
       "      <td>1.2929</td>\n",
       "      <td>1.9961</td>\n",
       "    </tr>\n",
       "    <tr>\n",
       "      <th>Offshore</th>\n",
       "      <td>31</td>\n",
       "      <td>1.2288</td>\n",
       "      <td>0.5698</td>\n",
       "      <td>0.1023</td>\n",
       "      <td>1.0198</td>\n",
       "      <td>1.4378</td>\n",
       "    </tr>\n",
       "    <tr>\n",
       "      <th>Outdoor_Porter</th>\n",
       "      <td>8</td>\n",
       "      <td>0.6600</td>\n",
       "      <td>0.2074</td>\n",
       "      <td>0.0733</td>\n",
       "      <td>0.4866</td>\n",
       "      <td>0.8334</td>\n",
       "    </tr>\n",
       "  </tbody>\n",
       "</table>\n",
       "</div>"
      ],
      "text/plain": [
       "                 N    Mean      SD      SE  95% Conf.  Interval\n",
       "System                                                         \n",
       "Indoor          12  1.6445  0.5534  0.1598     1.2929    1.9961\n",
       "Offshore        31  1.2288  0.5698  0.1023     1.0198    1.4378\n",
       "Outdoor_Porter   8  0.6600  0.2074  0.0733     0.4866    0.8334"
      ]
     },
     "execution_count": 26,
     "metadata": {},
     "output_type": "execute_result"
    }
   ],
   "source": [
    "rp.summary_cont(dN[(dN.N_Saturation == 'no')]['N'].groupby(dN['System']))"
   ]
  },
  {
   "cell_type": "code",
   "execution_count": 27,
   "metadata": {},
   "outputs": [
    {
     "name": "stdout",
     "output_type": "stream",
     "text": [
      "\n",
      "\n"
     ]
    },
    {
     "data": {
      "text/html": [
       "<div>\n",
       "<style scoped>\n",
       "    .dataframe tbody tr th:only-of-type {\n",
       "        vertical-align: middle;\n",
       "    }\n",
       "\n",
       "    .dataframe tbody tr th {\n",
       "        vertical-align: top;\n",
       "    }\n",
       "\n",
       "    .dataframe thead th {\n",
       "        text-align: right;\n",
       "    }\n",
       "</style>\n",
       "<table border=\"1\" class=\"dataframe\">\n",
       "  <thead>\n",
       "    <tr style=\"text-align: right;\">\n",
       "      <th></th>\n",
       "      <th>N</th>\n",
       "      <th>Mean</th>\n",
       "      <th>SD</th>\n",
       "      <th>SE</th>\n",
       "      <th>95% Conf.</th>\n",
       "      <th>Interval</th>\n",
       "    </tr>\n",
       "    <tr>\n",
       "      <th>System</th>\n",
       "      <th></th>\n",
       "      <th></th>\n",
       "      <th></th>\n",
       "      <th></th>\n",
       "      <th></th>\n",
       "      <th></th>\n",
       "    </tr>\n",
       "  </thead>\n",
       "  <tbody>\n",
       "    <tr>\n",
       "      <th>Indoor</th>\n",
       "      <td>116</td>\n",
       "      <td>2.5866</td>\n",
       "      <td>0.7714</td>\n",
       "      <td>0.0716</td>\n",
       "      <td>2.4447</td>\n",
       "      <td>2.7285</td>\n",
       "    </tr>\n",
       "    <tr>\n",
       "      <th>Offshore</th>\n",
       "      <td>31</td>\n",
       "      <td>1.2288</td>\n",
       "      <td>0.5698</td>\n",
       "      <td>0.1023</td>\n",
       "      <td>1.0198</td>\n",
       "      <td>1.4378</td>\n",
       "    </tr>\n",
       "    <tr>\n",
       "      <th>Outdoor_Porter</th>\n",
       "      <td>14</td>\n",
       "      <td>1.6136</td>\n",
       "      <td>1.1927</td>\n",
       "      <td>0.3188</td>\n",
       "      <td>0.9250</td>\n",
       "      <td>2.3022</td>\n",
       "    </tr>\n",
       "  </tbody>\n",
       "</table>\n",
       "</div>"
      ],
      "text/plain": [
       "                  N    Mean      SD      SE  95% Conf.  Interval\n",
       "System                                                          \n",
       "Indoor          116  2.5866  0.7714  0.0716     2.4447    2.7285\n",
       "Offshore         31  1.2288  0.5698  0.1023     1.0198    1.4378\n",
       "Outdoor_Porter   14  1.6136  1.1927  0.3188     0.9250    2.3022"
      ]
     },
     "execution_count": 27,
     "metadata": {},
     "output_type": "execute_result"
    }
   ],
   "source": [
    "rp.summary_cont(dN['N'].groupby(dN['System']))"
   ]
  },
  {
   "cell_type": "code",
   "execution_count": 28,
   "metadata": {},
   "outputs": [
    {
     "name": "stdout",
     "output_type": "stream",
     "text": [
      "\n",
      "\n"
     ]
    },
    {
     "data": {
      "text/html": [
       "<div>\n",
       "<style scoped>\n",
       "    .dataframe tbody tr th:only-of-type {\n",
       "        vertical-align: middle;\n",
       "    }\n",
       "\n",
       "    .dataframe tbody tr th {\n",
       "        vertical-align: top;\n",
       "    }\n",
       "\n",
       "    .dataframe thead th {\n",
       "        text-align: right;\n",
       "    }\n",
       "</style>\n",
       "<table border=\"1\" class=\"dataframe\">\n",
       "  <thead>\n",
       "    <tr style=\"text-align: right;\">\n",
       "      <th></th>\n",
       "      <th>N</th>\n",
       "      <th>Mean</th>\n",
       "      <th>SD</th>\n",
       "      <th>SE</th>\n",
       "      <th>95% Conf.</th>\n",
       "      <th>Interval</th>\n",
       "    </tr>\n",
       "    <tr>\n",
       "      <th>N_Saturation</th>\n",
       "      <th></th>\n",
       "      <th></th>\n",
       "      <th></th>\n",
       "      <th></th>\n",
       "      <th></th>\n",
       "      <th></th>\n",
       "    </tr>\n",
       "  </thead>\n",
       "  <tbody>\n",
       "    <tr>\n",
       "      <th>no</th>\n",
       "      <td>247</td>\n",
       "      <td>8.5402</td>\n",
       "      <td>11.1554</td>\n",
       "      <td>0.7098</td>\n",
       "      <td>7.1421</td>\n",
       "      <td>9.9383</td>\n",
       "    </tr>\n",
       "    <tr>\n",
       "      <th>yes</th>\n",
       "      <td>226</td>\n",
       "      <td>21.3631</td>\n",
       "      <td>11.7360</td>\n",
       "      <td>0.7807</td>\n",
       "      <td>19.8248</td>\n",
       "      <td>22.9015</td>\n",
       "    </tr>\n",
       "  </tbody>\n",
       "</table>\n",
       "</div>"
      ],
      "text/plain": [
       "                N     Mean       SD      SE  95% Conf.  Interval\n",
       "N_Saturation                                                    \n",
       "no            247   8.5402  11.1554  0.7098     7.1421    9.9383\n",
       "yes           226  21.3631  11.7360  0.7807    19.8248   22.9015"
      ]
     },
     "execution_count": 28,
     "metadata": {},
     "output_type": "execute_result"
    }
   ],
   "source": [
    "rp.summary_cont(d['DGR'].groupby(d['N_Saturation']))"
   ]
  },
  {
   "cell_type": "code",
   "execution_count": 29,
   "metadata": {},
   "outputs": [
    {
     "name": "stdout",
     "output_type": "stream",
     "text": [
      "\n",
      "\n"
     ]
    },
    {
     "data": {
      "text/html": [
       "<div>\n",
       "<style scoped>\n",
       "    .dataframe tbody tr th:only-of-type {\n",
       "        vertical-align: middle;\n",
       "    }\n",
       "\n",
       "    .dataframe tbody tr th {\n",
       "        vertical-align: top;\n",
       "    }\n",
       "\n",
       "    .dataframe thead th {\n",
       "        text-align: right;\n",
       "    }\n",
       "</style>\n",
       "<table border=\"1\" class=\"dataframe\">\n",
       "  <thead>\n",
       "    <tr style=\"text-align: right;\">\n",
       "      <th></th>\n",
       "      <th>N</th>\n",
       "      <th>Mean</th>\n",
       "      <th>SD</th>\n",
       "      <th>SE</th>\n",
       "      <th>95% Conf.</th>\n",
       "      <th>Interval</th>\n",
       "    </tr>\n",
       "    <tr>\n",
       "      <th>N_Saturation</th>\n",
       "      <th></th>\n",
       "      <th></th>\n",
       "      <th></th>\n",
       "      <th></th>\n",
       "      <th></th>\n",
       "      <th></th>\n",
       "    </tr>\n",
       "  </thead>\n",
       "  <tbody>\n",
       "    <tr>\n",
       "      <th>no</th>\n",
       "      <td>237</td>\n",
       "      <td>4.5194</td>\n",
       "      <td>8.2738</td>\n",
       "      <td>0.5374</td>\n",
       "      <td>3.4606</td>\n",
       "      <td>5.5782</td>\n",
       "    </tr>\n",
       "    <tr>\n",
       "      <th>yes</th>\n",
       "      <td>226</td>\n",
       "      <td>11.7620</td>\n",
       "      <td>4.7677</td>\n",
       "      <td>0.3171</td>\n",
       "      <td>11.1370</td>\n",
       "      <td>12.3869</td>\n",
       "    </tr>\n",
       "  </tbody>\n",
       "</table>\n",
       "</div>"
      ],
      "text/plain": [
       "                N     Mean      SD      SE  95% Conf.  Interval\n",
       "N_Saturation                                                   \n",
       "no            237   4.5194  8.2738  0.5374     3.4606    5.5782\n",
       "yes           226  11.7620  4.7677  0.3171    11.1370   12.3869"
      ]
     },
     "execution_count": 29,
     "metadata": {},
     "output_type": "execute_result"
    }
   ],
   "source": [
    "rp.summary_cont(dr['RGR'].groupby(dr['N_Saturation']))"
   ]
  },
  {
   "cell_type": "code",
   "execution_count": 30,
   "metadata": {},
   "outputs": [
    {
     "name": "stdout",
     "output_type": "stream",
     "text": [
      "\n",
      "\n"
     ]
    },
    {
     "data": {
      "text/html": [
       "<div>\n",
       "<style scoped>\n",
       "    .dataframe tbody tr th:only-of-type {\n",
       "        vertical-align: middle;\n",
       "    }\n",
       "\n",
       "    .dataframe tbody tr th {\n",
       "        vertical-align: top;\n",
       "    }\n",
       "\n",
       "    .dataframe thead th {\n",
       "        text-align: right;\n",
       "    }\n",
       "</style>\n",
       "<table border=\"1\" class=\"dataframe\">\n",
       "  <thead>\n",
       "    <tr style=\"text-align: right;\">\n",
       "      <th></th>\n",
       "      <th>N</th>\n",
       "      <th>Mean</th>\n",
       "      <th>SD</th>\n",
       "      <th>SE</th>\n",
       "      <th>95% Conf.</th>\n",
       "      <th>Interval</th>\n",
       "    </tr>\n",
       "    <tr>\n",
       "      <th>N_Saturation</th>\n",
       "      <th></th>\n",
       "      <th></th>\n",
       "      <th></th>\n",
       "      <th></th>\n",
       "      <th></th>\n",
       "      <th></th>\n",
       "    </tr>\n",
       "  </thead>\n",
       "  <tbody>\n",
       "    <tr>\n",
       "      <th>no</th>\n",
       "      <td>51</td>\n",
       "      <td>1.2374</td>\n",
       "      <td>0.6012</td>\n",
       "      <td>0.0842</td>\n",
       "      <td>1.0683</td>\n",
       "      <td>1.4065</td>\n",
       "    </tr>\n",
       "    <tr>\n",
       "      <th>yes</th>\n",
       "      <td>110</td>\n",
       "      <td>2.7056</td>\n",
       "      <td>0.7077</td>\n",
       "      <td>0.0675</td>\n",
       "      <td>2.5719</td>\n",
       "      <td>2.8394</td>\n",
       "    </tr>\n",
       "  </tbody>\n",
       "</table>\n",
       "</div>"
      ],
      "text/plain": [
       "                N    Mean      SD      SE  95% Conf.  Interval\n",
       "N_Saturation                                                  \n",
       "no             51  1.2374  0.6012  0.0842     1.0683    1.4065\n",
       "yes           110  2.7056  0.7077  0.0675     2.5719    2.8394"
      ]
     },
     "execution_count": 30,
     "metadata": {},
     "output_type": "execute_result"
    }
   ],
   "source": [
    "rp.summary_cont(dN['N'].groupby(dN['N_Saturation']))"
   ]
  },
  {
   "cell_type": "code",
   "execution_count": 31,
   "metadata": {},
   "outputs": [
    {
     "name": "stdout",
     "output_type": "stream",
     "text": [
      "MannwhitneyuResult(statistic=11874.5, pvalue=1.734177552654563e-27)\n",
      "MannwhitneyuResult(statistic=10722.5, pvalue=2.754914509315089e-31)\n",
      "MannwhitneyuResult(statistic=10763.0, pvalue=4.475555898381316e-29)\n",
      "MannwhitneyuResult(statistic=316.0, pvalue=7.654803978046363e-20)\n"
     ]
    }
   ],
   "source": [
    "# Mann-Whitney U Test between short and long fertilizing - DGR and N\n",
    "print(stats.mannwhitneyu(d[(d['N_Saturation'] == 'yes')]['DGR'],d[(d['N_Saturation'] == 'no')]['DGR']))\n",
    "print(stats.mannwhitneyu(dg[(dg['N_Saturation'] == 'yes')]['GR'],dg[(dg['N_Saturation'] == 'no')]['GR']))\n",
    "print(stats.mannwhitneyu(dr[(dr['N_Saturation'] == 'yes')]['RGR'],dr[(dr['N_Saturation'] == 'no')]['RGR']))\n",
    "print(stats.mannwhitneyu(dN[(dN['N_Saturation'] == 'yes')]['N'],dN[(dN['N_Saturation'] == 'no')]['N']))\n"
   ]
  },
  {
   "cell_type": "code",
   "execution_count": 32,
   "metadata": {},
   "outputs": [
    {
     "data": {
      "text/plain": [
       "Text(0, 0.5, 'Frequency of observations')"
      ]
     },
     "execution_count": 32,
     "metadata": {},
     "output_type": "execute_result"
    },
    {
     "data": {
      "image/png": "[encoded data removed]",
      "text/plain": [
       "<Figure size 432x288 with 1 Axes>"
      ]
     },
     "metadata": {
      "needs_background": "light"
     },
     "output_type": "display_data"
    }
   ],
   "source": [
    "plt.hist(d['DGR'], bins = 20)#,density = True,stacked =True)\n",
    "#n, bins, patches = plt.hist(x, num_bins, facecolor='blue', alpha=0.5)\n",
    "plt.xlabel(xlabel = 'DGR\\n [% per day]')#, fontdict=None, labelpad=None, **kwargs)\n",
    "plt.ylabel(ylabel = 'Frequency of observations')"
   ]
  },
  {
   "cell_type": "code",
   "execution_count": 33,
   "metadata": {},
   "outputs": [
    {
     "data": {
      "text/plain": [
       "Text(0, 0.5, 'Frequency of observations')"
      ]
     },
     "execution_count": 33,
     "metadata": {},
     "output_type": "execute_result"
    },
    {
     "data": {
      "image/png": "[encoded data removed]",
      "text/plain": [
       "<Figure size 432x288 with 1 Axes>"
      ]
     },
     "metadata": {
      "needs_background": "light"
     },
     "output_type": "display_data"
    }
   ],
   "source": [
    "plt.hist(dg['GR'], bins = 20)#,density = True,stacked =True)\n",
    "#n, bins, patches = plt.hist(x, num_bins, facecolor='blue', alpha=0.5)\n",
    "plt.xlabel(xlabel = 'GR\\n [% per day]')#, fontdict=None, labelpad=None, **kwargs)\n",
    "plt.ylabel(ylabel = 'Frequency of observations')"
   ]
  },
  {
   "cell_type": "code",
   "execution_count": 34,
   "metadata": {},
   "outputs": [
    {
     "data": {
      "text/plain": [
       "Text(0, 0.5, 'Frequency of observations')"
      ]
     },
     "execution_count": 34,
     "metadata": {},
     "output_type": "execute_result"
    },
    {
     "data": {
      "image/png": "[encoded data removed]",
      "text/plain": [
       "<Figure size 432x288 with 1 Axes>"
      ]
     },
     "metadata": {
      "needs_background": "light"
     },
     "output_type": "display_data"
    }
   ],
   "source": [
    "plt.hist(dr['RGR'], bins = 20)#,density = True,stacked =True)\n",
    "#n, bins, patches = plt.hist(x, num_bins, facecolor='blue', alpha=0.5)\n",
    "plt.xlabel(xlabel = 'RGR\\n [% per day]')#, fontdict=None, labelpad=None, **kwargs)\n",
    "plt.ylabel(ylabel = 'Frequency of observations')"
   ]
  },
  {
   "cell_type": "code",
   "execution_count": 35,
   "metadata": {},
   "outputs": [
    {
     "data": {
      "image/png": "[encoded data removed]",
      "text/plain": [
       "<Figure size 432x288 with 1 Axes>"
      ]
     },
     "metadata": {
      "needs_background": "light"
     },
     "output_type": "display_data"
    }
   ],
   "source": [
    "Systems = ['Beakers', 'Indoor','Offshore','Outdoor_Porter']\n",
    "colors = ['dodgerblue','orange','green','red']\n",
    "for i in Systems:\n",
    "    plt.hist(d[(d.N_Saturation == 'yes')&(d.System == i)]['DGR'], bins = 20,alpha=0.6,color = colors[Systems.index(i)],label=['Beakers', 'Indoor','Offshore','Outdoor_Porter'])#,density = True,stacked =True)\n",
    "#n, bins, patches = plt.hist(x, num_bins, facecolor='blue', alpha=0.5)\n",
    "    plt.xlabel(xlabel = 'Daily growth rate\\n [% per day]',weight = 'bold',fontsize = 12)#, fontdict=None, labelpad=None, **kwargs)\n",
    "    plt.ylabel(ylabel = 'Frequency of observations',weight = 'bold',fontsize = 12)\n",
    "    plt.legend(['Beakers', 'Indoor','Offshore','Outdoor MPBR'])"
   ]
  },
  {
   "cell_type": "code",
   "execution_count": 36,
   "metadata": {},
   "outputs": [
    {
     "data": {
      "image/png": "[encoded data removed]",
      "text/plain": [
       "<Figure size 432x288 with 1 Axes>"
      ]
     },
     "metadata": {
      "needs_background": "light"
     },
     "output_type": "display_data"
    }
   ],
   "source": [
    "Systems = ['Beakers', 'Indoor','Offshore','Outdoor_Porter']\n",
    "colors = ['dodgerblue','orange','green','red']\n",
    "for i in Systems:\n",
    "    plt.hist(dr[(dr.N_Saturation == 'yes')&(dr.System == i)]['RGR'], bins = 20,alpha=0.6,color = colors[Systems.index(i)],label=['Beakers', 'Indoor','Offshore','Outdoor_Porter'])#,density = True,stacked =True)\n",
    "#n, bins, patches = plt.hist(x, num_bins, facecolor='blue', alpha=0.5)\n",
    "    plt.xlabel(xlabel = 'Daily growth rate\\n [% per day]',weight = 'bold',fontsize = 12)#, fontdict=None, labelpad=None, **kwargs)\n",
    "    plt.ylabel(ylabel = 'Frequency of observations',weight = 'bold',fontsize = 12)\n",
    "    plt.legend(['Beakers', 'Indoor','Offshore','Outdoor MPBR'])"
   ]
  },
  {
   "cell_type": "code",
   "execution_count": 37,
   "metadata": {},
   "outputs": [
    {
     "data": {
      "image/png": "[encoded data removed]",
      "text/plain": [
       "<Figure size 432x288 with 1 Axes>"
      ]
     },
     "metadata": {
      "needs_background": "light"
     },
     "output_type": "display_data"
    }
   ],
   "source": [
    "Systems = ['Beakers', 'Indoor','Offshore','Outdoor_Porter']\n",
    "colors = ['dodgerblue','orange','green','red']\n",
    "for i in Systems:\n",
    "    plt.hist(d[(d.N_Saturation == 'no')&(d.System == i)]['DGR'], bins = 20,alpha=0.6,color = colors[Systems.index(i)],label=['Beakers', 'Indoor','Offshore','Outdoor_Porter'])#,density = True,stacked =True)\n",
    "#n, bins, patches = plt.hist(x, num_bins, facecolor='blue', alpha=0.5)\n",
    "    plt.xlabel(xlabel = 'Daily growth rate\\n [% per day]',weight = 'bold',fontsize = 12)#, fontdict=None, labelpad=None, **kwargs)\n",
    "    plt.ylabel(ylabel = 'Frequency of observations',weight = 'bold',fontsize = 12)\n",
    "    plt.legend(['Beakers', 'Indoor','Offshore','Outdoor MPBR'])"
   ]
  },
  {
   "cell_type": "code",
   "execution_count": 38,
   "metadata": {},
   "outputs": [
    {
     "data": {
      "image/png": "[encoded data removed]",
      "text/plain": [
       "<Figure size 432x288 with 1 Axes>"
      ]
     },
     "metadata": {
      "needs_background": "light"
     },
     "output_type": "display_data"
    }
   ],
   "source": [
    "Systems = ['Beakers', 'Indoor','Offshore','Outdoor_Porter']\n",
    "#N = ['no','yes']\n",
    "#a = [0.5, 1]\n",
    "colors = ['dodgerblue','orange','green','red']\n",
    "for i in Systems:\n",
    "    #for j in N:\n",
    "        #alp = a[N.index(j)] \n",
    "    #for i in Systems:\n",
    "    plt.hist(d[(d.System == i)]['DGR'], bins = 20,alpha=0.6,color = colors[Systems.index(i)],label=['Beakers', 'Indoor','Offshore','Outdoor_Porter'])#,density = True,stacked =True)\n",
    "#n, bins, patches = plt.hist(x, num_bins, facecolor='blue', alpha=0.5)\n",
    "    plt.xlabel(xlabel = 'Daily growth rate\\n [% per day]',weight = 'bold',fontsize = 12)#, fontdict=None, labelpad=None, **kwargs)\n",
    "    plt.ylabel(ylabel = 'Frequency of observations',weight = 'bold',fontsize = 12)\n",
    "    plt.legend(['Beakers', 'Indoor','Offshore','Outdoor MPBR'])"
   ]
  },
  {
   "cell_type": "code",
   "execution_count": 39,
   "metadata": {},
   "outputs": [
    {
     "data": {
      "image/png": "[encoded data removed]",
      "text/plain": [
       "<Figure size 504x360 with 1 Axes>"
      ]
     },
     "metadata": {
      "needs_background": "light"
     },
     "output_type": "display_data"
    }
   ],
   "source": [
    "Systems = ['Beakers', 'Indoor','Offshore','Outdoor_Porter']\n",
    "#N = ['no','yes']\n",
    "#a = [0.5, 1]\n",
    "colors = ['dodgerblue','orange','green','red']\n",
    "fig,ax = plt.subplots(1,1,figsize=(7,5))#,sharex=True)\n",
    "sns.set_context(\"paper\", rc={\"font.size\":16,\"axes.titlesize\":16,\"axes.labelsize\":16,\"weight\":'bold'}) \n",
    "\n",
    "for i in Systems:\n",
    "    #for j in N:\n",
    "        #alp = a[N.index(j)] \n",
    "    #for i in Systems:\n",
    "    ax = sns.histplot(d[(d.System == i)]['DGR'], kde = True,bins = 20,alpha=0.6,legend=True,color = colors[Systems.index(i)],label=['Beakers', 'Indoor','Offshore','Outdoor_Porter'])\n",
    "    ax.legend(['Beakers', 'Indoor','Offshore','Outdoor MPBR'],fontsize = 12)\n",
    "    ax.set(xlabel= 'Daily growth rate\\n [% per day]')\n",
    "    #ax.show()\n",
    "    #plt.hist(d[(d.System == i)]['DGR'], bins = 20,alpha=0.6,color = colors[Systems.index(i)],label=['Beakers', 'Indoor','Offshore','Outdoor_Porter'])#,density = True,stacked =True)\n",
    "#n, bins, patches = plt.hist(x, num_bins, facecolor='blue', alpha=0.5)\n",
    "    #sns.xlabel(xlabel = 'Daily growth rate\\n [% per day]',weight = 'bold',fontsize = 12)#, fontdict=None, labelpad=None, **kwargs)\n",
    "    #plt.ylabel(ylabel = 'Frequency of observations',weight = 'bold',fontsize = 12)\n",
    "    #plt.legend(['Beakers', 'Indoor','Offshore','Outdoor MPBR'])"
   ]
  },
  {
   "cell_type": "code",
   "execution_count": 40,
   "metadata": {},
   "outputs": [
    {
     "data": {
      "image/png": "[encoded data removed]",
      "text/plain": [
       "<Figure size 504x360 with 1 Axes>"
      ]
     },
     "metadata": {
      "needs_background": "light"
     },
     "output_type": "display_data"
    }
   ],
   "source": [
    "Systems = ['Beakers', 'Indoor','Offshore','Outdoor_Porter']\n",
    "#N = ['no','yes']\n",
    "#a = [0.5, 1]\n",
    "colors = ['dodgerblue','orange','green','red']\n",
    "fig,ax = plt.subplots(1,1,figsize=(7,5))#,sharex=True)\n",
    "sns.set_context(\"paper\", rc={\"font.size\":16,\"axes.titlesize\":16,\"axes.labelsize\":16,\"weight\":'bold'}) \n",
    "\n",
    "for i in Systems:\n",
    "    #for j in N:\n",
    "        #alp = a[N.index(j)] \n",
    "    #for i in Systems:\n",
    "    ax = sns.histplot(dg[(dg.System == i)]['GR'], kde = True,bins = 20,alpha=0.6,legend=True,color = colors[Systems.index(i)],label=['Beakers', 'Indoor','Offshore','Outdoor_Porter'])\n",
    "    ax.legend(['Beakers', 'Indoor','Offshore','Outdoor MPBR'],fontsize = 12)\n",
    "    ax.set(xlabel= 'Daily growth rate\\n [% per day]')\n",
    "    #ax.show()\n",
    "    #plt.hist(d[(d.System == i)]['DGR'], bins = 20,alpha=0.6,color = colors[Systems.index(i)],label=['Beakers', 'Indoor','Offshore','Outdoor_Porter'])#,density = True,stacked =True)\n",
    "#n, bins, patches = plt.hist(x, num_bins, facecolor='blue', alpha=0.5)\n",
    "    #sns.xlabel(xlabel = 'Daily growth rate\\n [% per day]',weight = 'bold',fontsize = 12)#, fontdict=None, labelpad=None, **kwargs)\n",
    "    #plt.ylabel(ylabel = 'Frequency of observations',weight = 'bold',fontsize = 12)\n",
    "    #plt.legend(['Beakers', 'Indoor','Offshore','Outdoor MPBR'])"
   ]
  },
  {
   "cell_type": "code",
   "execution_count": null,
   "metadata": {},
   "outputs": [],
   "source": [
    "Systems = ['Beakers', 'Indoor','Offshore','Outdoor_Porter']\n",
    "#N = ['no','yes']\n",
    "#a = [0.5, 1]\n",
    "colors = ['dodgerblue','orange','green','red']\n",
    "fig,ax = plt.subplots(1,1,figsize=(7,5))#,sharex=True)\n",
    "sns.set_context(\"paper\", rc={\"font.size\":16,\"axes.titlesize\":16,\"axes.labelsize\":16,\"weight\":'bold'}) \n",
    "\n",
    "#for i in Systems:\n",
    "#for j in N:\n",
    "    #alp = a[N.index(j)] \n",
    "#for i in Systems:\n",
    "ax = sns.catplot(dg, alpha=0.6,legend=True,hue = 'System',label=['Beakers', 'Indoor','Offshore','Outdoor_Porter'])\n",
    "ax.legend(['Beakers', 'Indoor','Offshore','Outdoor MPBR'],fontsize = 12)\n",
    "ax.set(xlabel= 'Daily growth rate\\n [% per day]')\n",
    "#ax.show()\n",
    "#plt.hist(d[(d.System == i)]['DGR'], bins = 20,alpha=0.6,color = colors[Systems.index(i)],label=['Beakers', 'Indoor','Offshore','Outdoor_Porter'])#,density = True,stacked =True)\n",
    "#n, bins, patches = plt.hist(x, num_bins, facecolor='blue', alpha=0.5)\n",
    "#sns.xlabel(xlabel = 'Daily growth rate\\n [% per day]',weight = 'bold',fontsize = 12)#, fontdict=None, labelpad=None, **kwargs)\n",
    "#plt.ylabel(ylabel = 'Frequency of observations',weight = 'bold',fontsize = 12)\n",
    "#plt.legend(['Beakers', 'Indoor','Offshore','Outdoor MPBR'])"
   ]
  },
  {
   "cell_type": "code",
   "execution_count": null,
   "metadata": {},
   "outputs": [],
   "source": [
    "Systems = ['Beakers', 'Indoor','Offshore','Outdoor_Porter']\n",
    "#N = ['no','yes']\n",
    "#a = [0.5, 1]\n",
    "colors = ['dodgerblue','orange','green','red']\n",
    "fig,ax = plt.subplots(1,1,figsize=(7,5))#,sharex=True)\n",
    "sns.set_context(\"paper\", rc={\"font.size\":16,\"axes.titlesize\":16,\"axes.labelsize\":16,\"weight\":'bold'}) \n",
    "\n",
    "N_Sat = ['yes','no']\n",
    "for i in N_Sat:\n",
    "    #for j in N:\n",
    "        #alp = a[N.index(j)] \n",
    "    #for i in Systems:\n",
    "    ax = sns.histplot(d[(d.N_Saturation == i)]['DGR'], kde = True,bins = 20,alpha=0.6,legend=True,color = colors[N_Sat.index(i)])\n",
    "    ax.legend(['High N', 'Low N'],fontsize = 14)\n",
    "    ax.set(xlabel= 'Daily growth rate\\n [% per day]')\n",
    "    #ax.show()\n",
    "    #plt.hist(d[(d.System == i)]['DGR'], bins = 20,alpha=0.6,color = colors[Systems.index(i)],label=['Beakers', 'Indoor','Offshore','Outdoor_Porter'])#,density = True,stacked =True)\n",
    "#n, bins, patches = plt.hist(x, num_bins, facecolor='blue', alpha=0.5)\n",
    "    #sns.xlabel(xlabel = 'Daily growth rate\\n [% per day]',weight = 'bold',fontsize = 12)#, fontdict=None, labelpad=None, **kwargs)\n",
    "    #plt.ylabel(ylabel = 'Frequency of observations',weight = 'bold',fontsize = 12)\n",
    "    #plt.legend(['Beakers', 'Indoor','Offshore','Outdoor MPBR'])"
   ]
  },
  {
   "cell_type": "code",
   "execution_count": null,
   "metadata": {},
   "outputs": [],
   "source": [
    "Systems = ['Beakers', 'Indoor','Offshore','Outdoor_Porter']\n",
    "#N = ['no','yes']\n",
    "#a = [0.5, 1]\n",
    "colors = ['dodgerblue','orange','green','red']\n",
    "fig,ax = plt.subplots(1,1,figsize=(7,5))#,sharex=True)\n",
    "sns.set_context(\"paper\", rc={\"font.size\":16,\"axes.titlesize\":16,\"axes.labelsize\":16,\"weight\":'bold'}) \n",
    "\n",
    "N_Sat = ['yes','no']\n",
    "for i in N_Sat:\n",
    "    #for j in N:\n",
    "        #alp = a[N.index(j)] \n",
    "    #for i in Systems:\n",
    "    ax = sns.histplot(dg[(dg.N_Saturation == i)]['GR'], kde = True,bins = 20,alpha=0.6,legend=True,color = colors[N_Sat.index(i)])\n",
    "    ax.legend(['High N', 'Low N'],fontsize = 12)\n",
    "    ax.set(xlabel= 'Daily growth rate\\n [% per day]')\n",
    "    #ax.show()\n",
    "    #plt.hist(d[(d.System == i)]['DGR'], bins = 20,alpha=0.6,color = colors[Systems.index(i)],label=['Beakers', 'Indoor','Offshore','Outdoor_Porter'])#,density = True,stacked =True)\n",
    "#n, bins, patches = plt.hist(x, num_bins, facecolor='blue', alpha=0.5)\n",
    "    #sns.xlabel(xlabel = 'Daily growth rate\\n [% per day]',weight = 'bold',fontsize = 12)#, fontdict=None, labelpad=None, **kwargs)\n",
    "    #plt.ylabel(ylabel = 'Frequency of observations',weight = 'bold',fontsize = 12)\n",
    "    #plt.legend(['Beakers', 'Indoor','Offshore','Outdoor MPBR'])"
   ]
  },
  {
   "cell_type": "code",
   "execution_count": null,
   "metadata": {},
   "outputs": [],
   "source": [
    "Systems = ['Beakers', 'Indoor','Offshore','Outdoor_Porter']\n",
    "#N = ['no','yes']\n",
    "#a = [0.5, 1]\n",
    "colors = ['dodgerblue','orange','green','red']\n",
    "fig,ax = plt.subplots(1,1,figsize=(7,5))#,sharex=True)\n",
    "sns.set_context(\"paper\", rc={\"font.size\":16,\"axes.titlesize\":16,\"axes.labelsize\":16,\"weight\":'bold'}) \n",
    "\n",
    "N_Sat = ['yes','no']\n",
    "for i in N_Sat:\n",
    "    #for j in N:\n",
    "        #alp = a[N.index(j)] \n",
    "    #for i in Systems:\n",
    "    ax = sns.histplot(dr[(dr.N_Saturation == i)]['RGR'], kde = True,bins = 20,alpha=0.6,legend=True,color = colors[N_Sat.index(i)])\n",
    "    ax.legend(['High N', 'Low N'],fontsize = 12)\n",
    "    ax.set(xlabel= 'Daily growth rate\\n [% per day]')\n",
    "    #ax.show()\n",
    "    #plt.hist(d[(d.System == i)]['DGR'], bins = 20,alpha=0.6,color = colors[Systems.index(i)],label=['Beakers', 'Indoor','Offshore','Outdoor_Porter'])#,density = True,stacked =True)\n",
    "#n, bins, patches = plt.hist(x, num_bins, facecolor='blue', alpha=0.5)\n",
    "    #sns.xlabel(xlabel = 'Daily growth rate\\n [% per day]',weight = 'bold',fontsize = 12)#, fontdict=None, labelpad=None, **kwargs)\n",
    "    #plt.ylabel(ylabel = 'Frequency of observations',weight = 'bold',fontsize = 12)\n",
    "    #plt.legend(['Beakers', 'Indoor','Offshore','Outdoor MPBR'])"
   ]
  },
  {
   "cell_type": "code",
   "execution_count": null,
   "metadata": {},
   "outputs": [],
   "source": [
    "Systems = ['Beakers', 'Indoor','Offshore','Outdoor_Porter']\n",
    "#N = ['no','yes']\n",
    "#a = [0.5, 1]\n",
    "colors = ['dodgerblue','orange','green','red']\n",
    "fig,ax = plt.subplots(1,1,figsize=(7,5))#,sharex=True)\n",
    "sns.set_context(\"paper\", rc={\"font.size\":16,\"axes.titlesize\":16,\"axes.labelsize\":16,\"weight\":'bold'}) \n",
    "\n",
    "N_Sat = ['yes','no']\n",
    "for i in N_Sat:\n",
    "    #for j in N:\n",
    "        #alp = a[N.index(j)] \n",
    "    #for i in Systems:\n",
    "    ax = sns.histplot(dN[(dN.N_Saturation == i)]['N'], kde = True,bins = 20,alpha=0.6,legend=True,color = colors[N_Sat.index(i)])\n",
    "    #ax.legend(['High N', 'Low N'],fontsize = 12)\n",
    "    ax.set(xlabel= 'Internal N\\n [% g N $g^{-1}$ DW]')\n",
    "    #ax.show()\n",
    "    #plt.hist(d[(d.System == i)]['DGR'], bins = 20,alpha=0.6,color = colors[Systems.index(i)],label=['Beakers', 'Indoor','Offshore','Outdoor_Porter'])#,density = True,stacked =True)\n",
    "#n, bins, patches = plt.hist(x, num_bins, facecolor='blue', alpha=0.5)\n",
    "    #sns.xlabel(xlabel = 'Daily growth rate\\n [% per day]',weight = 'bold',fontsize = 12)#, fontdict=None, labelpad=None, **kwargs)\n",
    "    #plt.ylabel(ylabel = 'Frequency of observations',weight = 'bold',fontsize = 12)\n",
    "    #plt.legend(['Beakers', 'Indoor','Offshore','Outdoor MPBR'])"
   ]
  },
  {
   "cell_type": "code",
   "execution_count": null,
   "metadata": {},
   "outputs": [],
   "source": [
    "d"
   ]
  },
  {
   "cell_type": "code",
   "execution_count": null,
   "metadata": {},
   "outputs": [],
   "source": [
    "Systems = ['Indoor','Offshore','Outdoor_Porter']\n",
    "#N = ['no','yes']\n",
    "#a = [0.5, 1]\n",
    "colors = ['orange','green','red']\n",
    "fig,ax = plt.subplots(1,1,figsize=(7,5))#,sharex=True)\n",
    "sns.set_context(\"paper\", rc={\"font.size\":16,\"axes.titlesize\":16,\"axes.labelsize\":16,\"weight\":'bold'}) \n",
    "\n",
    "for i in Systems:\n",
    "    #for j in N:\n",
    "        #alp = a[N.index(j)] \n",
    "    #for i in Systems:\n",
    "    ax = sns.histplot(dN[(dN.System == i)]['N'], kde = True,bins = 20,alpha=0.6,legend=True,color = colors[Systems.index(i)],label=['Beakers', 'Indoor','Offshore','Outdoor_Porter'])\n",
    "    #ax.legend(['Indoor','Offshore','Outdoor MPBR'],fontsize = 12)\n",
    "    ax.set(xlabel= 'Internal N\\n [% g N $g^{-1}$ DW]')\n",
    "    #ax.show()\n",
    "    #plt.hist(d[(d.System == i)]['DGR'], bins = 20,alpha=0.6,color = colors[Systems.index(i)],label=['Beakers', 'Indoor','Offshore','Outdoor_Porter'])#,density = True,stacked =True)\n",
    "#n, bins, patches = plt.hist(x, num_bins, facecolor='blue', alpha=0.5)\n",
    "    #sns.xlabel(xlabel = 'Daily growth rate\\n [% per day]',weight = 'bold',fontsize = 12)#, fontdict=None, labelpad=None, **kwargs)\n",
    "    #plt.ylabel(ylabel = 'Frequency of observations',weight = 'bold',fontsize = 12)\n",
    "    #plt.legend(['Beakers', 'Indoor','Offshore','Outdoor MPBR'])"
   ]
  },
  {
   "cell_type": "code",
   "execution_count": null,
   "metadata": {},
   "outputs": [],
   "source": [
    "sp.stats.kruskal(d[(d['System'] == 'Beakers')]['DGR'],\n",
    "                d[(d['System'] == 'Indoor')]['DGR'],\n",
    "                d[(d['System'] == 'Offshore')]['DGR'],\n",
    "                d[(d['System'] == 'Outdoor_Porter')]['DGR'])\n",
    "\n",
    "#'Beakers', 'Indoor','Offshore','Outdoor_Porter'"
   ]
  },
  {
   "cell_type": "code",
   "execution_count": null,
   "metadata": {},
   "outputs": [],
   "source": [
    "data = [d[(d['System'] == 'Beakers')]['DGR'],\n",
    "                d[(d['System'] == 'Indoor')]['DGR'],\n",
    "                d[(d['System'] == 'Offshore')]['DGR'],\n",
    "                d[(d['System'] == 'Outdoor_Porter')]['DGR']]\n",
    "\n",
    "scp.posthoc_dunn(data, p_adjust = 'bonferroni')\n"
   ]
  },
  {
   "cell_type": "code",
   "execution_count": null,
   "metadata": {},
   "outputs": [],
   "source": [
    "sp.stats.kruskal(dg[(dg['System'] == 'Beakers')]['GR'],\n",
    "                dg[(dg['System'] == 'Indoor')]['GR'],\n",
    "                dg[(dg['System'] == 'Offshore')]['GR'],\n",
    "                dg[(dg['System'] == 'Outdoor_Porter')]['GR'])"
   ]
  },
  {
   "cell_type": "code",
   "execution_count": null,
   "metadata": {},
   "outputs": [],
   "source": [
    "data = [dg[(dg['System'] == 'Beakers')]['GR'],\n",
    "                dg[(dg['System'] == 'Indoor')]['GR'],\n",
    "                dg[(dg['System'] == 'Offshore')]['GR'],\n",
    "                dg[(dg['System'] == 'Outdoor_Porter')]['GR']]\n",
    "\n",
    "scp.posthoc_dunn(data, p_adjust = 'bonferroni')"
   ]
  },
  {
   "cell_type": "code",
   "execution_count": null,
   "metadata": {},
   "outputs": [],
   "source": [
    "Systems = ['Beakers', 'Indoor','Offshore','Outdoor_Porter']\n",
    "#N = ['no','yes']\n",
    "#a = [0.5, 1]\n",
    "colors = ['dodgerblue','orange','green','red']\n",
    "#for i in Systems:\n",
    "#sns.histplot(data = d['DGR'])\n",
    "# Plot histogram \n",
    "sns.histplot(data = d['DGR'], kde = True)\n",
    "#plt.hist(d[(d.System == i)]['DGR'], bins = 20,alpha=0.6,color = colors[Systems.index(i)],label=['Beakers', 'Indoor','Offshore','Outdoor_Porter'])#,density = True,stacked =True)\n",
    "#plt.xlabel(xlabel = 'Daily growth rate\\n [% per day]',weight = 'bold',fontsize = 12)#, fontdict=None, labelpad=None, **kwargs)\n",
    "#plt.ylabel(ylabel = 'Frequency of observations',weight = 'bold',fontsize = 12)\n",
    "#plt.legend(['Beakers', 'Indoor','Offshore','Outdoor MPBR'])"
   ]
  },
  {
   "cell_type": "code",
   "execution_count": null,
   "metadata": {},
   "outputs": [],
   "source": [
    "Systems = ['Beakers', 'Indoor','Offshore','Outdoor_Porter']\n",
    "#N = ['no','yes']\n",
    "#a = [0.5, 1]\n",
    "colors = ['dodgerblue','orange','green','red']\n",
    "for i in Systems:\n",
    "    #for j in N:\n",
    "        #alp = a[N.index(j)] \n",
    "    #for i in Systems:\n",
    "    plt.hist(dr[(dr.System == i)]['RGR'], bins = 20,alpha=0.6,color = colors[Systems.index(i)],label=['Beakers', 'Indoor','Offshore','Outdoor_Porter'])#,density = True,stacked =True)\n",
    "#n, bins, patches = plt.hist(x, num_bins, facecolor='blue', alpha=0.5)\n",
    "    plt.xlabel(xlabel = 'Relative growth rate\\n [% per day]',weight = 'bold',fontsize = 12)#, fontdict=None, labelpad=None, **kwargs)\n",
    "    plt.ylabel(ylabel = 'Frequency of observations',weight = 'bold',fontsize = 12)\n",
    "    plt.legend(['Beakers', 'Indoor','Offshore','Outdoor MPBR'])"
   ]
  },
  {
   "cell_type": "code",
   "execution_count": null,
   "metadata": {},
   "outputs": [],
   "source": [
    "Systems = ['Beakers', 'Indoor','Offshore','Outdoor_Porter']\n",
    "#N = ['no','yes']\n",
    "#a = [0.5, 1]\n",
    "colors = ['dodgerblue','orange','green','red']\n",
    "for i in Systems:\n",
    "    #for j in N:\n",
    "        #alp = a[N.index(j)] \n",
    "    #for i in Systems:\n",
    "    plt.hist(dg[(dg.System == i)]['GR'], bins = 20,alpha=0.6, histtype = 'bar', color = colors[Systems.index(i)],label=['Beakers', 'Indoor','Offshore','Outdoor_Porter'])#bins = 20,#,density = True,stacked =True)\n",
    "#n, bins, patches = plt.hist(x, num_bins, facecolor='blue', alpha=0.5)\n",
    "    plt.xlabel(xlabel = 'Growth rate\\n [% per day]',weight = 'bold',fontsize = 12)#, fontdict=None, labelpad=None, **kwargs)\n",
    "    #plt.xlim([-50,50])\n",
    "    plt.ylabel(ylabel = 'Frequency of observations',weight = 'bold',fontsize = 12)\n",
    "    plt.legend(['Beakers', 'Indoor','Offshore','Outdoor MPBR'])"
   ]
  },
  {
   "cell_type": "code",
   "execution_count": null,
   "metadata": {},
   "outputs": [],
   "source": [
    "# histogram of DGR in N saturation\n",
    "\n",
    "Systems = ['Beakers', 'Indoor','Outdoor_Porter']\n",
    "for i in Systems:\n",
    "    plt.hist(d[(d.N_Saturation == 'yes')&(d.System == i)]['DGR'], bins = 20,alpha=0.5,label=['Beakers', 'Indoor','Outdoor_Porter'])#,density = True,stacked =True)\n",
    "#n, bins, patches = plt.hist(x, num_bins, facecolor='blue', alpha=0.5)\n",
    "    plt.xlabel(xlabel = 'Daily growth rate\\n [% per day]',weight = 'bold',fontsize = 12)#, fontdict=None, labelpad=None, **kwargs)\n",
    "    plt.ylabel(ylabel = 'Frequency of observations',weight = 'bold',fontsize = 12)\n",
    "    plt.legend(['Beakers','Indoor','Outdoor_Porter'])"
   ]
  },
  {
   "cell_type": "code",
   "execution_count": null,
   "metadata": {},
   "outputs": [],
   "source": [
    "Systems = ['Beakers', 'Indoor','Outdoor_Porter','Offshore']\n",
    "for i in Systems:\n",
    "    plt.hist(dN[(dN.N_Saturation == 'no')&(dN.System == i)]['N'], bins = 20,alpha=0.5,label=['Beakers', 'Indoor','Outdoor_Porter'])#,density = True,stacked =True)\n",
    "#n, bins, patches = plt.hist(x, num_bins, facecolor='blue', alpha=0.5)\n",
    "    plt.xlabel(xlabel = 'DGR\\n [% per day]')#, fontdict=None, labelpad=None, **kwargs)\n",
    "    plt.ylabel(ylabel = 'Frequency of observations')\n",
    "    plt.legend(['Beakers','Indoor','Outdoor_Porter', 'Offshore'])"
   ]
  },
  {
   "cell_type": "code",
   "execution_count": null,
   "metadata": {},
   "outputs": [],
   "source": [
    "\n",
    "Systems = ['Indoor','Offshore','Outdoor_Porter']\n",
    "colors = ['orange','green','red']\n",
    "for i in Systems:\n",
    "    plt.hist(dN[(dN.System == i)]['N'], bins = 20,alpha=0.6,color = colors[Systems.index(i)],label=['Indoor','Offshore','Outdoor_Porter'])#,density = True,stacked =True)\n",
    "#n, bins, patches = plt.hist(x, num_bins, facecolor='blue', alpha=0.5)\n",
    "    plt.xlabel(xlabel = 'Internal N\\n [% g N $g^{-1}$ DW]',weight = 'bold',fontsize = 12)#, fontdict=None, labelpad=None, **kwargs)\n",
    "    plt.ylabel(ylabel = 'Frequency of observations',weight = 'bold',fontsize = 12)\n",
    "    #plt.legend(['Indoor','Offshore','Outdoor MPBR'])"
   ]
  },
  {
   "cell_type": "code",
   "execution_count": null,
   "metadata": {},
   "outputs": [],
   "source": [
    "rp.summary_cont(d['Fertilizing_Efficiency'].groupby(d['System']))"
   ]
  },
  {
   "cell_type": "code",
   "execution_count": null,
   "metadata": {},
   "outputs": [],
   "source": [
    "# DGR hystogram in N saturation\n",
    "\n",
    "Systems = ['Beakers', 'Indoor','Outdoor_Porter']\n",
    "for i in Systems:\n",
    "    plt.hist(d[(d.N_Saturation == 'yes')&(d.System == i)]['DGR'], bins = 20,alpha=0.5,label=['Beakers', 'Indoor','Outdoor_Porter'])#,density = True,stacked =True)\n",
    "#n, bins, patches = plt.hist(x, num_bins, facecolor='blue', alpha=0.5)\n",
    "    plt.xlabel(xlabel = 'Daily growth rate\\n [% per day]')#, fontdict=None, labelpad=None, **kwargs)\n",
    "    plt.ylabel(ylabel = 'Frequency of observations')\n",
    "    plt.legend(['Beakers','Indoor','Outdoor_Porter'])"
   ]
  },
  {
   "cell_type": "code",
   "execution_count": null,
   "metadata": {},
   "outputs": [],
   "source": [
    "N_Sat = ['no', 'yes']\n",
    "for i in N_Sat:\n",
    "    plt.hist(d[(d.N_Saturation == i)]['DGR'], bins = 20, alpha=0.7,label=['Beakers', 'Indoor','Offshore','Outdoor_Porter'])#,density = True,stacked =True)\n",
    "#n, bins, patches = plt.hist(x, num_bins, facecolor='blue', alpha=0.5)\n",
    "    plt.xlabel(xlabel = 'Daily growth rate\\n [% per day]',weight = 'bold',fontsize = 12)#, fontdict=None, labelpad=None, **kwargs)\n",
    "    plt.ylabel(ylabel = 'Frequency of observations',weight = 'bold',fontsize = 12)\n",
    "    plt.legend(['Low N', 'High N'])"
   ]
  },
  {
   "cell_type": "code",
   "execution_count": null,
   "metadata": {},
   "outputs": [],
   "source": [
    "N_Sat = ['no', 'yes']\n",
    "for i in N_Sat:\n",
    "    plt.hist(dg[(dg.N_Saturation == i)]['GR'], bins = 20, alpha=0.7,label=['Beakers', 'Indoor','Offshore','Outdoor_Porter'])#,density = True,stacked =True)\n",
    "#n, bins, patches = plt.hist(x, num_bins, facecolor='blue', alpha=0.5)\n",
    "    plt.xlabel(xlabel = 'Daily growth rate\\n [% per day]',weight = 'bold',fontsize = 12)#, fontdict=None, labelpad=None, **kwargs)\n",
    "    plt.ylabel(ylabel = 'Frequency of observations',weight = 'bold',fontsize = 12)\n",
    "    plt.legend(['Low N', 'High N'])"
   ]
  },
  {
   "cell_type": "code",
   "execution_count": null,
   "metadata": {},
   "outputs": [],
   "source": [
    "N_Sat = ['no', 'yes']\n",
    "for i in N_Sat:\n",
    "    plt.hist(dN[(dN.N_Saturation == i)]['N'], bins = 20, alpha=0.7,label=['Beakers', 'Indoor','Offshore','Outdoor_Porter'])#,density = True,stacked =True)\n",
    "#n, bins, patches = plt.hist(x, num_bins, facecolor='blue', alpha=0.5)\n",
    "    plt.xlabel(xlabel = 'Internal N\\n [% g N $g^{-1}$ DW]',weight = 'bold',fontsize = 12)#, fontdict=None, labelpad=None, **kwargs)\n",
    "    plt.ylabel(ylabel = 'Frequency of observations',weight = 'bold',fontsize = 12)\n",
    "    #plt.legend(['Low N', 'High N'])"
   ]
  },
  {
   "cell_type": "code",
   "execution_count": null,
   "metadata": {},
   "outputs": [],
   "source": [
    "d.System"
   ]
  },
  {
   "cell_type": "code",
   "execution_count": null,
   "metadata": {},
   "outputs": [],
   "source": [
    "for i in d.System\n",
    "plt.hist(d['DGR'], bins = 20)#,density = True,stacked =True)\n",
    "#n, bins, patches = plt.hist(x, num_bins, facecolor='blue', alpha=0.5)\n",
    "plt.xlabel(xlabel = 'DGR\\n [% per day]')#, fontdict=None, labelpad=None, **kwargs)\n",
    "plt.ylabel(ylabel = 'Frequency of observations')"
   ]
  },
  {
   "cell_type": "code",
   "execution_count": null,
   "metadata": {},
   "outputs": [],
   "source": [
    "dNormfull = df3[(df3.Stage == 'f')&(np.isnan(df3.DGR)!= True)&(df3.Comment != 'Losses')&(df3.Treatment != 'Acclimation')]\n",
    "print(len(dNormfull.DGR))\n",
    "plt.hist(dNormfull['DGR'], bins = 20)#,density = True,stacked =True)\n",
    "#n, bins, patches = plt.hist(x, num_bins, facecolor='blue', alpha=0.5)\n",
    "plt.xlabel(xlabel = 'DGR\\n [% per day]')#, fontdict=None, labelpad=None, **kwargs)\n",
    "plt.ylabel(ylabel = 'Frequency of observations')"
   ]
  },
  {
   "cell_type": "code",
   "execution_count": null,
   "metadata": {},
   "outputs": [],
   "source": [
    "dNormfullN = df3[(df3.Stage == 'f')&(np.isnan(df3.N)!= True)&(df3.Treatment != 'Acclimation')]\n",
    "print(len(dNormfullN.N))\n",
    "plt.hist(dNormfullN['N'], bins = 20)#,density = True,stacked =True)\n",
    "#n, bins, patches = plt.hist(x, num_bins, facecolor='blue', alpha=0.5)\n",
    "plt.xlabel(xlabel = 'N\\n [% gN / gDW]')#, fontdict=None, labelpad=None, **kwargs)\n",
    "plt.ylabel(ylabel = 'Frequency of observations')"
   ]
  },
  {
   "cell_type": "code",
   "execution_count": null,
   "metadata": {},
   "outputs": [],
   "source": [
    "rp.summary_cont(d['DGR'])"
   ]
  },
  {
   "cell_type": "code",
   "execution_count": null,
   "metadata": {},
   "outputs": [],
   "source": [
    "rp.summary_cont(dN['N'])"
   ]
  },
  {
   "cell_type": "code",
   "execution_count": null,
   "metadata": {},
   "outputs": [],
   "source": [
    "rp.summary_cont(d[(d.Period == 'Rapid')&(d.Depth == 5)]['DGR'].groupby(d['Exp']))#,rp.summary_cont(d['N'].groupby(d['Exp']))"
   ]
  },
  {
   "cell_type": "code",
   "execution_count": null,
   "metadata": {},
   "outputs": [],
   "source": [
    "rp.summary_cont(d[(d.Period == 'Continuous')&(d.Depth == 5)]['DGR'].groupby(d['Exp']))#,rp.summary_cont(d['N'].groupby(d['Exp']))"
   ]
  },
  {
   "cell_type": "code",
   "execution_count": null,
   "metadata": {},
   "outputs": [],
   "source": [
    "palette = sns.color_palette(\"hls\",4)\n"
   ]
  },
  {
   "cell_type": "code",
   "execution_count": null,
   "metadata": {},
   "outputs": [],
   "source": [
    "# Mann-Whitney U Test between short and long fertilizing - DGR and N\n",
    "print(stats.mannwhitneyu(d[(d['Period'] == 'Continuous')]['DGR'],d[(d['Period'] == 'Rapid')]['DGR']))\n",
    "print(stats.mannwhitneyu(dN[(dN['Period'] == 'Continuous')]['N'],dN[(dN['Period'] == 'Rapid')]['N']))"
   ]
  },
  {
   "cell_type": "code",
   "execution_count": null,
   "metadata": {},
   "outputs": [],
   "source": [
    "# Mann-Whitney U Test between rapid fertilizing in sea water and rapid fertilizing in enriched seawater\n",
    "seawater = [-8.3,-11.3,-2.8,-10.0,-12.5,-12.9,-9.4,-12.1,-7.6,-7.0,-4.6]\n",
    "enriched_seawater = [-11.9,-12.3,0.1,-10.2,-12.5,-4.1,-13.5,-7.9,-11.7,-8.3,-8.3]\n",
    "\n",
    "print(stats.mannwhitneyu(seawater,enriched_seawater))"
   ]
  },
  {
   "cell_type": "code",
   "execution_count": null,
   "metadata": {},
   "outputs": [],
   "source": [
    "# Mann-Whitney U test for N and DGR in different periods in depth 1 and 5\n",
    "for i in [1,5]:\n",
    "    print('\\nDepth: ' + str(i))\n",
    "    print(stats.mannwhitneyu(d[(d['Depth'] == i)&(d['Period'] == 'Continuous')]['DGR'],d[(d['Depth'] == i)&(d['Period'] == 'Rapid')]['DGR']))\n",
    "    print(stats.mannwhitneyu(dN[(dN['Depth'] == i)&(dN['Period'] == 'Continuous')]['N'],dN[(dN['Depth'] == i)&(dN['Period'] == 'Rapid')]['N']))"
   ]
  },
  {
   "cell_type": "code",
   "execution_count": null,
   "metadata": {},
   "outputs": [],
   "source": [
    "# Mann-Whitney U test for N and DGR in different periods in depth 1 and 5 - preliminary run and run 1\n",
    "for i in [1,5]:\n",
    "    print('\\nDepth: ' + str(i))\n",
    "    print(stats.mannwhitneyu(d[(d.Exp != 3)&(d.Exp != 4)&(d.Exp != 5)&(d['Depth'] == i)&(d['Period'] == 'Continuous')]['DGR'],d[(d.Exp != 3)&(d.Exp != 4)&(d.Exp != 5)&(d['Depth'] == i)&(d['Period'] == 'Rapid')]['DGR']))\n",
    "    print(stats.mannwhitneyu(dN[(dN.Exp != 3)&(dN.Exp != 4)&(dN.Exp != 5)&(dN['Depth'] == i)&(dN['Period'] == 'Continuous')]['N'],dN[(dN.Exp != 3)&(dN.Exp != 4)&(dN.Exp != 5)&(dN['Depth'] == i)&(dN['Period'] == 'Rapid')]['N']))"
   ]
  },
  {
   "cell_type": "code",
   "execution_count": null,
   "metadata": {},
   "outputs": [],
   "source": []
  },
  {
   "cell_type": "code",
   "execution_count": null,
   "metadata": {},
   "outputs": [],
   "source": [
    "# Mann-Whitney U test for N and DGR in different periods in depth 1 and 5 - only exp 2\n",
    "print(stats.mannwhitneyu(d[(d['Exp'] != 3)&(d['Exp'] != 4)&(d['Exp'] != 5)&(d['Period'] == 'Continuous')]['DGR'],d[(d['Exp'] != 3)&(d['Exp'] != 4)&(d['Exp'] != 5)&(d['Period'] == 'Rapid')]['DGR']))\n",
    "print(stats.mannwhitneyu(dN[(dN['Exp'] != 3)&(dN['Exp'] != 4)&(dN['Exp'] != 5)&(dN['Period'] == 'Continuous')]['N'],dN[(dN['Exp'] != 3)&(dN['Exp'] != 4)&(dN['Exp'] != 5)&(dN['Period'] == 'Rapid')]['N']))"
   ]
  },
  {
   "cell_type": "raw",
   "metadata": {},
   "source": [
    "# T-test for N and DGR in different periods in depth 1 and 5\n",
    "for i in [1,5]:\n",
    "    t_statDGR, p_valDGR = stats.ttest_ind(d[(d.Period == 1)&(d.Depth == i)]['DGR'],d[(d.Period == 2)&(d.Depth == i)]['DGR'], equal_var=False)\n",
    "    t_statN, p_valN = stats.ttest_ind(dN[(dN.Period == 1)&(dN.Depth == i)]['N'],dN[(dN.Period == 2)&(dN.Depth == i)]['N'], equal_var=False)\n",
    "    print('for DGR in depth ' + str(i) + ' t-stat is: ' + str(t_statDGR) + ' and p-val is ' +str(p_valDGR))\n",
    "    print('for N in depth ' + str(i) + ' t-stat is: ' + str(t_statN) + ' and p-val is ' +str(p_valN) + '\\n')\n"
   ]
  },
  {
   "cell_type": "raw",
   "metadata": {},
   "source": [
    "# T-test for N and DGR in different periods - all experiments\n",
    "t_statDGR, p_valDGR = stats.ttest_ind(d[(d['Period'] == 1)]['DGR'],d[(d['Period'] == 2)]['DGR'], equal_var=False)\n",
    "t_statN, p_valN = stats.ttest_ind(dN[(dN['Period'] == 1)]['N'],dN[(dN['Period'] == 2)]['N'], equal_var=False)\n",
    "\n",
    "print(t_statDGR, p_valDGR)\n",
    "print(t_statN,p_valN)"
   ]
  },
  {
   "cell_type": "code",
   "execution_count": null,
   "metadata": {},
   "outputs": [],
   "source": [
    "# growth rates in different fertilizing regimes - preliminary run and run 1\n",
    "sns.set_context(\"paper\", rc={\"font.size\":16,\"axes.titlesize\":16,\"axes.labelsize\":16}) \n",
    "\n",
    "# combined strip plot - all data\n",
    "SA2_DEP_DGR = sns.catplot(x = 'Period', y = 'DGR', data = df3[(df3.Exp == 2)&(df3.Comment != 'Losses')&(df3.Stage == 'f')],kind='box',palette=palette,order = ['Rapid','Continuous'])\n",
    "#SA2_PER_DGR.set(xlabel = ['a','b'])#, ylabel=y_axis)\n",
    "SA2_DEP_DGR.set_xticklabels(['Continuous N \\nEnrichment', '1-day N\\n Enrichment'],fontdict= { 'fontsize': 14, 'fontweight':'bold','color': 'k'})\n",
    "#SA2_DEP_DGR = sns.stripplot(x = 'Period', y = 'DGR', data = df3[(df3.Exp != 2)&(df3.Comment != 'Losses')&(df3.Stage == 'f')],color='k').set(xlabel='Fertilizing regime', ylabel='Daily growth rate')\n",
    "SA2_DEP_DGR = sns.stripplot(x = 'Period', y = 'DGR', data = df3[(df3.Exp == 2)&(df3.Comment != 'Losses')&(df3.Stage == 'f')],color='k',order = ['Rapid','Continuous']).set(xlabel='Fertilizing regime', ylabel='Daily growth rate')"
   ]
  },
  {
   "cell_type": "code",
   "execution_count": null,
   "metadata": {},
   "outputs": [],
   "source": [
    "# growth rates in different fertilizing regimes - preliminary run and run 1 - without scatter\n",
    "sns.set_context(\"paper\", rc={\"font.size\":16,\"axes.titlesize\":16,\"axes.labelsize\":16}) \n",
    "\n",
    "# combined strip plot - all data\n",
    "SA2_DEP_DGR = sns.catplot(x = 'Period', y = 'DGR', data = df3[(df3.Exp == 2)&(df3.Comment != 'Losses')&(df3.Stage == 'f')],kind='box',palette=palette,order = ['Rapid','Continuous']).set(xlabel='\\nFertilizing regime', ylabel='Daily growth rate')\n",
    "#SA2_PER_DGR.set(xlabel = ['a','b'])#, ylabel=y_axis)\n",
    "SA2_DEP_DGR.set_xticklabels(['1-day N\\n Enrichment','Continuous N \\nEnrichment'],fontdict= { 'fontsize': 14, 'fontweight':'bold','color': 'k'})\n",
    "#SA2_DEP_DGR = sns.stripplot(x = 'Period', y = 'DGR', data = df3[(df3.Exp != 2)&(df3.Comment != 'Losses')&(df3.Stage == 'f')],color='k').set(xlabel='Fertilizing regime', ylabel='Daily growth rate')\n",
    "#SA2_DEP_DGR = sns.stripplot(x = 'Period', y = 'DGR', data = df3[(df3.Exp == 2)&(df3.Comment != 'Losses')&(df3.Stage == 'f')],color='k',order = ['Rapid','Continuous']).set(xlabel='Fertilizing regime', ylabel='Daily growth rate')"
   ]
  },
  {
   "cell_type": "code",
   "execution_count": null,
   "metadata": {},
   "outputs": [],
   "source": [
    "# N in different fertilizing regimes - preliminary run and run 1\n",
    "sns.set_context(\"paper\", rc={\"font.size\":16,\"axes.titlesize\":16,\"axes.labelsize\":16}) \n",
    "\n",
    "# combined strip plot - all data\n",
    "SA2_DEP_N = sns.catplot(x = 'Period', y = 'N', data = dN[(dN.Exp != 3)&(dN.Exp != 4)&(dN.Exp != 5)],kind='box',palette=palette,order = ['Rapid','Continuous']).set(xlabel='\\nFertilizing regime', ylabel='Internal N \\n[% g N / g DW]')\n",
    "SA2_DEP_N.set_xticklabels(['1-day N\\n Enrichment','Continuous N \\nEnrichment'],fontdict= { 'fontsize': 14, 'fontweight':'bold','color': 'k'})\n",
    "#SA2_DEP_N = sns.stripplot(x = 'Period', y = 'N', data = dN[(dN.Exp != 2)],color='k',order = ['Rapid','Continuous']).set(xlabel='Fertilizing regime', ylabel='Internal N \\n[% gN / gDW]')\n",
    "#SA2_DEP_N = sns.stripplot(x = 'Period', y = 'N', data = dN[(dN.Exp != 3)&(dN.Exp != 4)&(dN.Exp != 5)],color='k',order = ['Rapid','Continuous']).set(xlabel='Fertilizing regime', ylabel='Internal N \\n[% gN / gDW]')"
   ]
  },
  {
   "cell_type": "raw",
   "metadata": {},
   "source": [
    "# growth rates in different periods - by depth\n",
    "sns.set_context(\"paper\", rc={\"font.size\":16,\"axes.titlesize\":16,\"axes.labelsize\":16}) \n",
    "\n",
    "# combined strip plot - all data\n",
    "for i in [1,5]:\n",
    "    SA2_DEP_DGR_D = sns.catplot(x = 'Period', y = 'DGR', data = d[(d.Depth == i)],kind='box',palette=palette)#.set(xlabel='Fertilization Duration\\n [hours]', ylabel='Daily growth rate')\n",
    "    SA2_DEP_DGR_D.set_xticklabels([1, 5],fontdict= { 'fontsize': 14, 'fontweight':'bold','color': 'k'})\n",
    "    SA2_DEP_DGR_D = sns.stripplot(x = 'Period', y = 'DGR', data = d[(d.Depth == i)],color='k').set(xlabel='Period', ylabel='Daily growth rate')"
   ]
  },
  {
   "cell_type": "code",
   "execution_count": null,
   "metadata": {},
   "outputs": [],
   "source": [
    "dc = d[(d['Exp'] != 1)&(d['Exp'] != 4)&(d['Exp'] != 5)]\n",
    "dNc = dN[(dN['Exp'] != 1)&(dN['Exp'] != 4)&(dN['Exp'] != 5)]"
   ]
  },
  {
   "cell_type": "code",
   "execution_count": null,
   "metadata": {},
   "outputs": [],
   "source": [
    "# growth rates in different periods - by depth\n",
    "sns.set_context(\"paper\", rc={\"font.size\":16,\"axes.titlesize\":16,\"axes.labelsize\":16}) \n",
    "\n",
    "# combined strip plot - all data\n",
    "#for i in [1,5]:\n",
    "SA2_DEP_DGR_D = sns.catplot(x = 'Period', y = 'DGR', data = d,kind='box',palette=palette,hue = 'Depth').set(xlabel='', ylabel='Daily growth rate')\n",
    "SA2_DEP_DGR_D.set_xticklabels(['1-day N\\n Enrichment','Continuous N \\nEnrichment'],fontdict= { 'fontsize': 14, 'fontweight':'bold','color': 'k'})\n",
    "#SA2_DEP_DGR_W = sns.stripplot(x = 'Period', y = 'DGR', data = d,color='k').set(xlabel='Period', ylabel='Daily growth rate')"
   ]
  },
  {
   "cell_type": "code",
   "execution_count": null,
   "metadata": {},
   "outputs": [],
   "source": [
    "# growth rates in different periods - by depth - only run 1\n",
    "sns.set_context(\"paper\", rc={\"font.size\":16,\"axes.titlesize\":16,\"axes.labelsize\":16}) \n",
    "\n",
    "# combined strip plot - all data\n",
    "#for i in [1,5]:\n",
    "SA2_DEP_DGR_D = sns.catplot(x = 'Period', y = 'DGR', data = d[(d.Exp != 3)&(d.Exp != 4)&(d.Exp != 5)],kind='box',palette=palette,hue = 'Depth',order = ['Rapid','Continuous']).set(xlabel='', ylabel='Daily growth rate')\n",
    "SA2_DEP_DGR_D.set_xticklabels(['1-day N\\n Enrichment','Continuous N \\nEnrichment'],fontdict= { 'fontsize': 14, 'fontweight':'bold','color': 'k'})\n",
    "#SA2_DEP_DGR_W = sns.stripplot(x = 'Period', y = 'DGR', data = d,color='k').set(xlabel='Period', ylabel='Daily growth rate')"
   ]
  },
  {
   "cell_type": "code",
   "execution_count": null,
   "metadata": {},
   "outputs": [],
   "source": [
    "# N in different periods - by depth\n",
    "sns.set_context(\"paper\", rc={\"font.size\":16,\"axes.titlesize\":16,\"axes.labelsize\":16}) \n",
    "\n",
    "# combined strip plot - all data\n",
    "#for i in [1,5]:\n",
    "SA2_DEP_N_D = sns.catplot(x = 'Period', y = 'N', data = dN,kind='box',palette=palette,hue='Depth',order = ['Rapid','Continuous']).set(xlabel='', ylabel='Internal N\\n[% gN / gDW]')\n",
    "SA2_DEP_N_D.set_xticklabels(['1-day N\\n Enrichment','Continuous N \\nEnrichment'],fontdict= { 'fontsize': 14, 'fontweight':'bold','color': 'k'})\n",
    "#SA2_DEP_N_D = sns.stripplot(x = 'Period', y = 'N', data = dN[(dN.Depth == i)&(dN.Exp == j)],color='k').set(xlabel='Period', ylabel='Internal N\\n[% gN / gDW]')"
   ]
  },
  {
   "cell_type": "code",
   "execution_count": null,
   "metadata": {},
   "outputs": [],
   "source": [
    "# N in different periods - by depth - run 1\n",
    "sns.set_context(\"paper\", rc={\"font.size\":16,\"axes.titlesize\":16,\"axes.labelsize\":16}) \n",
    "\n",
    "# combined strip plot - all data\n",
    "#for i in [1,5]:\n",
    "SA2_DEP_N_D = sns.catplot(x = 'Period', y = 'N', data = dN[(dN.Exp != 3)&(dN.Exp != 4)&(dN.Exp != 5)],kind='box',palette=palette,hue='Depth',order = ['Rapid','Continuous']).set(xlabel='', ylabel='Internal N\\n[% gN / gDW]')\n",
    "SA2_DEP_N_D.set_xticklabels(['Rapid','Continuous'],fontdict= { 'fontsize': 14, 'fontweight':'bold','color': 'k'})\n",
    "#SA2_DEP_N_D = sns.stripplot(x = 'Period', y = 'N', data = dN[(dN.Depth == i)&(dN.Exp == j)],color='k').set(xlabel='Period', ylabel='Internal N\\n[% gN / gDW]')"
   ]
  },
  {
   "cell_type": "raw",
   "metadata": {},
   "source": [
    "# N in different periods - by depth\n",
    "sns.set_context(\"paper\", rc={\"font.size\":16,\"axes.titlesize\":16,\"axes.labelsize\":16}) \n",
    "\n",
    "# combined strip plot - all data\n",
    "for i in [1,5]:\n",
    "    SA2_DEP_N_W = sns.catplot(x = 'Exp', y = 'N', data = dN[(dN.Depth == i)],kind='box',palette=palette,hue='Period')#.set(xlabel='Fertilization Duration\\n [hours]', ylabel='Daily growth rate')\n",
    "    SA2_DEP_N_W.set_xticklabels([1, 5],fontdict= { 'fontsize': 14, 'fontweight':'bold','color': 'k'})\n",
    "    SA2_DEP_N_W = sns.stripplot(x = 'Exp', y = 'N', data = dN[(dN.Depth == i)],color='k').set(xlabel='Period', ylabel='Internal N\\n[% gN / gDW]')"
   ]
  },
  {
   "cell_type": "raw",
   "metadata": {},
   "source": [
    "# T-test for N and DGR in different depths - all experiments\n",
    "t_statDGR, p_valDGR = stats.ttest_ind(d[(d['Period'] == 1)&(d['Depth'] == 1)]['DGR'],d[(d['Period'] == 1)&(d['Depth'] == 5)]['DGR'], equal_var=False)\n",
    "t_statN, p_valN = stats.ttest_ind(dN[(dN['Period'] == 1)&(dN['Depth'] == 1)]['N'],dN[(dN['Period'] == 1)&(dN['Depth'] == 5)]['N'], equal_var=False)\n",
    "\n",
    "print(t_statDGR, p_valDGR)\n",
    "print(t_statN,p_valN)"
   ]
  },
  {
   "cell_type": "code",
   "execution_count": null,
   "metadata": {},
   "outputs": [],
   "source": [
    "# Mann-Whitney U test for N and DGR in different periods in depth 1 and 5\n",
    "dc = d[(d['Period'] == 'Continuous')&(d['Exp'] != 1)&(d['Exp'] != 4)&(d['Exp'] != 5)]\n",
    "dNc = dN[(dN['Period'] == 'Continuous')&(dN['Exp'] != 1)&(dN['Exp'] != 4)&(dN['Exp'] != 5)]\n",
    "\n",
    "print(stats.mannwhitneyu(dc[(dc['Depth'] == 1)]['DGR'],dc[(dc['Depth'] == 5)]['DGR']))\n",
    "print(stats.mannwhitneyu(dNc[(dN['Depth'] == 1)]['N'],dNc[(dNc['Depth'] == 5)]['N']))"
   ]
  },
  {
   "cell_type": "code",
   "execution_count": null,
   "metadata": {},
   "outputs": [],
   "source": [
    "# growth rates in different depths - all data\n",
    "sns.set_context(\"paper\", rc={\"font.size\":16,\"axes.titlesize\":16,\"axes.labelsize\":16}) \n",
    "\n",
    "# combined strip plot - all data\n",
    "SA1_DUR_DGR = sns.catplot(x = 'Depth', y = 'DGR', data = dc,kind='box',palette=palette)\n",
    "SA1_DUR_DGR.set_xticklabels([1, 5],fontdict= { 'fontsize': 14, 'fontweight':'bold','color': 'k'})\n",
    "SA1_DUR_DGR = sns.stripplot(x = 'Depth', y = 'DGR', data = dc,color='k').set(xlabel='Depth\\n [m]', ylabel='Daily growth rate')"
   ]
  },
  {
   "cell_type": "code",
   "execution_count": null,
   "metadata": {},
   "outputs": [],
   "source": [
    "# N in different depths - all data\n",
    "sns.set_context(\"paper\", rc={\"font.size\":16,\"axes.titlesize\":16,\"axes.labelsize\":16}) \n",
    "\n",
    "# combined strip plot - all data\n",
    "SA2_DUR_DGR = sns.catplot(x = 'Depth', y = 'N', data = dNc,kind='box',palette=palette)#.set(xlabel='Fertilization Duration\\n [hours]', ylabel='Daily growth rate')\n",
    "SA2_DUR_DGR.set_xticklabels([1, 5],fontdict= { 'fontsize': 14, 'fontweight':'bold','color': 'k'})\n",
    "SA2_DUR_DGR = sns.stripplot(x = 'Depth', y = 'N', data = dNc,color='k').set(xlabel='Depth\\n [m]', ylabel='Internal N\\n [% gN / gDW]')"
   ]
  },
  {
   "cell_type": "code",
   "execution_count": null,
   "metadata": {},
   "outputs": [],
   "source": [
    "# data summary of depth = 5, period =1, by exp (DGR)\n",
    "d5 = d[(d['Depth'] == 5)&(d['Period'] == 'Continuous')&(d['Exp'] != 1)]\n",
    "d5N = dN[(dN['Depth'] == 5)&(dN['Period'] == 'Continuous')&(np.isnan(dN.N) != True)]\n",
    "rp.summary_cont(d5['DGR'].groupby(d5['Exp']))"
   ]
  },
  {
   "cell_type": "code",
   "execution_count": null,
   "metadata": {},
   "outputs": [],
   "source": [
    "# data summary of depth = 5, period =1, by exp (DGR)\n",
    "d1 = d[(d['Depth'] == 1)&(d['Period'] == 'Continuous')&(d['Exp'] != 1)]\n",
    "d1N = dN[(dN['Depth'] == 1)&(dN['Period'] == 'Continuous')&(np.isnan(dN.N) != True)]\n",
    "rp.summary_cont(d1['DGR'].groupby(d1['Exp']))"
   ]
  },
  {
   "cell_type": "code",
   "execution_count": null,
   "metadata": {},
   "outputs": [],
   "source": [
    "#Offshore results for D = 5, first period, without the preliminary experiment\n",
    "sns.set_context(\"paper\", rc={\"font.size\":14,\"axes.titlesize\":14,\"axes.labelsize\":14}) \n",
    "SA2D5 = sns.catplot(x = 'Exp', y = 'DGR', data = df3[(df3.Depth == 5)&(df3.Period == 'Continuous')&(df3.Exp != 1)],hue='Depth',palette=palette).set(xlabel='', ylabel='Daily growth rate\\n[% / day]')\n",
    "#SA2D5 = sns.catplot(x = 'Exp', y = 'N', data = df3[(df3.Depth == 5)&(df3.Period == 'Continuous')&(df3.Exp != 1)],hue='Depth',palette=palette).set(xlabel='', ylabel='Daily growth rate')\n",
    "SA2D5.set_xticklabels([\"Jul\\n19\", \"Oct-Nov\\n19\",\"Dec\\n19\",\"Apr-May\\n20\"],fontdict= { 'fontsize': 12, 'fontweight':'bold','color': 'k'})\n",
    "SA2D5.set_yticklabels(fontdict= { 'fontsize': 10, 'fontweight':'bold','color': 'k'})"
   ]
  },
  {
   "cell_type": "code",
   "execution_count": null,
   "metadata": {},
   "outputs": [],
   "source": [
    "# kruskal test - diffrences between experiments (depth 5m, period 1)\n",
    "\n",
    "sp.stats.kruskal(d5[(d5['Exp'] == 2)]['DGR'],\n",
    "                d5[(d5['Exp'] == 3)]['DGR'],\n",
    "                d5[(d5['Exp'] == 4)]['DGR'],\n",
    "                d5[(d5['Exp'] == 5)]['DGR'])\n",
    "\n",
    "# There is a significant difference between frequencies"
   ]
  },
  {
   "cell_type": "code",
   "execution_count": null,
   "metadata": {},
   "outputs": [],
   "source": [
    "# post - hoc multiple comparisons between frequencies\n",
    "\n",
    "data = [d5[(d5['Exp'] == 2)]['DGR'],\n",
    "                d5[(d5['Exp'] == 3)]['DGR'],\n",
    "                d5[(d5['Exp'] == 4)]['DGR'],\n",
    "                d5[(d5['Exp'] == 5)]['DGR']]\n",
    "\n",
    "scp.posthoc_dunn(data, p_adjust = 'bonferroni')\n",
    "\n",
    "#results: Significan difference between:\n",
    "#No significant difference between any two frequencies"
   ]
  },
  {
   "cell_type": "code",
   "execution_count": null,
   "metadata": {},
   "outputs": [],
   "source": [
    "# Internal N at beggining and end of experiments - period 1 (starting with N rich Ulva)\n",
    "\n",
    "# strip plot\n",
    "sns.set_context(\"paper\", rc={\"font.size\":14,\"axes.titlesize\":14,\"axes.labelsize\":14})\n",
    "N1 = sns.catplot(x = 'Exp', y = 'N', data = df3[(df3.Depth == 5)&(df3.Period == 'Continuous')],hue = 'Stage',palette=palette).set(xlabel='', ylabel='Internal N\\n[% g N/ g DW]')\n",
    "N1.set_xticklabels([\"May*\\n  19\", \"Jul\\n  19\", \"Oct-Nov\\n  19\",\"Dec\\n  19\",\"Apr-May\\n  20\"],fontdict= { 'fontsize': 11, 'fontweight':'bold','color': 'k'})\n",
    "N1.set_yticklabels(fontdict= { 'fontsize': 12, 'fontweight':'bold','color': 'k'})\n",
    "\n",
    "# box plot\n",
    "#N1BOX = sns.catplot(x = 'Exp', y = 'N', data = df3[(df3.Period == 1)],hue = 'Stage',kind = 'box').set(xlabel='', ylabel='Internal N')\n",
    "#N1BOX.set_xticklabels([\"May-Jun*\\n  19\", \"Jul-Aug\\n  19\", \"Oct-Nov\\n  19\",\"Dec\\n  19\",\"Apr-May\\n  20\"],fontdict= { 'fontsize': 11, 'fontweight':'bold','color': 'k'})\n",
    "#N1BOX.set_yticklabels(fontdict= { 'fontsize': 12, 'fontweight':'bold','color': 'k'})"
   ]
  },
  {
   "cell_type": "code",
   "execution_count": null,
   "metadata": {},
   "outputs": [],
   "source": [
    "# average DGR and N in 5m depth, continuous fertilizing\n",
    "\n",
    "DGR_V,N_V = [],[]\n",
    "for i in [2,3,4,5]:\n",
    "    Dval = df3[(df3.Depth == 5)&(df3.Period == 'Continuous')&(df3.Exp == i)].DGR\n",
    "    Nval = df3[(df3.Depth == 5)&(df3.Period == 'Continuous')&(df3.Exp == i)].N\n",
    "    DGR_V.append(Dval)\n",
    "    N_V.append(Nval)\n",
    "    \n",
    "print(DGR_V)\n",
    "print(N_V)"
   ]
  },
  {
   "cell_type": "code",
   "execution_count": null,
   "metadata": {},
   "outputs": [],
   "source": [
    "Dval = df3[(df3.Depth == 5)&(df3.Period == 'Continuous')&(df3.Exp != 1)&(np.isnan(df3.dN)!= True)].DGR\n",
    "Nval = df3[(df3.Depth == 5)&(df3.Period == 'Continuous')&(df3.Exp != 1)&(np.isnan(df3.dN)!= True)].dN"
   ]
  },
  {
   "cell_type": "code",
   "execution_count": null,
   "metadata": {},
   "outputs": [],
   "source": [
    "# Pearson DGR vs N offshore (except exp 5)\n",
    "\n",
    "from scipy.stats import pearsonr \n",
    "   \n",
    "# Apply the pearsonr() \n",
    "corr, _ = pearsonr(Dval, Nval)\n",
    "print('Pearsons correlation: %.3f' % corr) \n",
    "  \n",
    "# This code is contributed by Amiya Rout "
   ]
  },
  {
   "cell_type": "code",
   "execution_count": null,
   "metadata": {},
   "outputs": [],
   "source": [
    "#Offshore results for D = 5, first period, without the preliminary experiment\n",
    "sns.set_context(\"paper\", rc={\"font.size\":14,\"axes.titlesize\":14,\"axes.labelsize\":14}) \n",
    "SA2D5 = sns.catplot(x = 'DGR', y = 'dN', data = df3[(df3.Depth == 5)&(df3.Period == 'Continuous')&(df3.Exp != 1)&(np.isnan(df3.dN)!= True)],hue='Exp').set(xlabel='DGR', ylabel='Used internal N')\n",
    "#SA2D5 = sns.catplot(x = 'Exp', y = 'N', data = df3[(df3.Depth == 5)&(df3.Period == 'Continuous')&(df3.Exp != 1)],hue='Depth',palette=palette).set(xlabel='', ylabel='Daily growth rate')\n",
    "SA2D5.set_xticklabels([\"\"],fontdict= { 'fontsize': 12, 'fontweight':'bold','color': 'k'})\n",
    "SA2D5.set_yticklabels(fontdict= { 'fontsize': 10, 'fontweight':'bold','color': 'k'})"
   ]
  },
  {
   "cell_type": "code",
   "execution_count": null,
   "metadata": {},
   "outputs": [],
   "source": [
    "# Mann-Whitney U Test between beggining and end of cultivation experiments-  N\n",
    "#print(stats.mannwhitneyu(dN[(dN['Period'] == 'Continuous')&(dN['Stage'] == 'i')]['N'],dN[(dN['Period'] == 'Continuous')&(dN['Stage'] == 'f')])\n",
    "#print(stats.mannwhitneyu(dN[(dN['Period'] == 'Continuous')]['N'],dN[(dN['Period'] == 'Rapid')]['N']))\n",
    "      \n",
    "    \n",
    "# Mann-Whitney U Test between short and long fertilizing - DGR and N\n",
    "stats.mannwhitneyu(df3[(df3.Depth == 5)&(df3.Period == 'Continuous')&(df3['Stage'] == 'i')]['N'],df3[(df3.Depth == 5)&(df3.Period == 'Continuous')&(df3['Stage'] == 'f')]['N'])"
   ]
  },
  {
   "cell_type": "code",
   "execution_count": null,
   "metadata": {},
   "outputs": [],
   "source": [
    "for i in [1,2,3,4,5]:\n",
    "    a = stats.mannwhitneyu(df3[(df3.Depth == 5)&(df3.Period == 'Continuous')&(df3['Stage'] == 'i')&(df3['Exp'] == i)]['N'],df3[(df3.Depth == 5)&(df3.Period == 'Continuous')&(df3['Stage'] == 'f')&(df3['Exp'] == i)]['N'])\n",
    "    print(a)"
   ]
  },
  {
   "cell_type": "code",
   "execution_count": null,
   "metadata": {},
   "outputs": [],
   "source": [
    "dN.Stage"
   ]
  },
  {
   "cell_type": "code",
   "execution_count": null,
   "metadata": {},
   "outputs": [],
   "source": [
    "# Internal N at beggining and end of experiments - period 1 (starting with N rich Ulva)\n",
    "\n",
    "# strip plot\n",
    "sns.set_context(\"paper\", rc={\"font.size\":14,\"axes.titlesize\":14,\"axes.labelsize\":14})\n",
    "N1 = sns.catplot(x = 'Exp', y = 'N', data = df3[(df3.Stage == 'f')],hue = 'Period').set(xlabel='', ylabel='Internal N')\n",
    "N1.set_xticklabels([\"May-Jun*\\n  19\", \"Jul-Aug\\n  19\", \"Oct-Nov\\n  19\",\"Dec\\n  19\",\"Apr-May\\n  20\"],fontdict= { 'fontsize': 11, 'fontweight':'bold','color': 'k'})\n",
    "N1.set_yticklabels(fontdict= { 'fontsize': 12, 'fontweight':'bold','color': 'k'})\n",
    "\n",
    "# box plot\n",
    "#N1BOX = sns.catplot(x = 'Exp', y = 'N', data = df3[(df3.Period == 1)],hue = 'Stage',kind = 'box').set(xlabel='', ylabel='Internal N')\n",
    "#N1BOX.set_xticklabels([\"May-Jun*\\n  19\", \"Jul-Aug\\n  19\", \"Oct-Nov\\n  19\",\"Dec\\n  19\",\"Apr-May\\n  20\"],fontdict= { 'fontsize': 11, 'fontweight':'bold','color': 'k'})\n",
    "#N1BOX.set_yticklabels(fontdict= { 'fontsize': 12, 'fontweight':'bold','color': 'k'})"
   ]
  },
  {
   "cell_type": "code",
   "execution_count": null,
   "metadata": {},
   "outputs": [],
   "source": [
    "# kruskal test - diffrences between experiments (depth 5m, period 1)\n",
    "\n",
    "sp.stats.kruskal(d5N[(d5N['Exp'] == 1)]['N'],\n",
    "                d5N[(d5N['Exp'] == 2)]['N'],\n",
    "                d5N[(d5N['Exp'] == 3)]['N'],\n",
    "                d5N[(d5N['Exp'] == 4)]['N'],\n",
    "                d5N[(d5N['Exp'] == 5)]['N'])\n",
    "\n",
    "# There is a significant difference between frequencies"
   ]
  },
  {
   "cell_type": "code",
   "execution_count": null,
   "metadata": {},
   "outputs": [],
   "source": [
    "# post - hoc multiple comparisons between frequencies\n",
    "\n",
    "data = [d5N[(d5N['Exp'] == 1)]['N'],\n",
    "                d5N[(d5N['Exp'] == 2)]['N'],\n",
    "                d5N[(d5N['Exp'] == 3)]['N'],\n",
    "                d5N[(d5N['Exp'] == 4)]['N'],\n",
    "                d5N[(d5N['Exp'] == 5)]['N']]\n",
    "\n",
    "scp.posthoc_dunn(data, p_adjust = 'bonferroni')\n",
    "\n",
    "#results: Significan difference between:\n",
    "#No significant difference between any two frequencies"
   ]
  },
  {
   "cell_type": "raw",
   "metadata": {},
   "source": [
    "# T-test for N and DGR in different depths - all experiments\n",
    "\n",
    "d5N = d[(d['Depth'] == 5)&(d['Period'] == 'Continuous')&(np.isnan(d.N) != True)]\n",
    "dN = df3[(df3.Stage == 'f')&(np.isnan(df3.N)!= True)]\n",
    "\n",
    "t_statN, p_valN = stats.ttest_ind(df3[(df3['Depth'] == 5)&(df3['Period'] == 1)&(df3.Stage == 'f')&(np.isnan(df3.N)!= True)].N,df3[(df3['Depth'] == 5)&(df3['Period'] == 1)&(df3.Stage == 'i')&(np.isnan(df3.N)!= True)].N, equal_var=False)\n",
    "\n",
    "#print(t_statDGR, p_valDGR)\n",
    "print(t_statN,p_valN)"
   ]
  },
  {
   "cell_type": "raw",
   "metadata": {},
   "source": [
    "# growth rates in different experiments\n",
    "sns.set_context(\"paper\", rc={\"font.size\":16,\"axes.titlesize\":16,\"axes.labelsize\":16}) \n",
    "\n",
    "# combined strip plot - all data\n",
    "SA2_5_DGR = sns.catplot(x = 'Exp', y = 'DGR', data = d[(d['Exp'] != 1)&(d['Period'] == 'Continuous')&(d['Depth'] == 5)],kind='box',palette=palette)#.set(xlabel='Fertilization Duration\\n [hours]', ylabel='Daily growth rate')\n",
    "SA2_5_DGR.set_xticklabels([2, 5],fontdict= { 'fontsize': 14, 'fontweight':'bold','color': 'k'})\n",
    "SA2_5_DGR = sns.stripplot(x = 'Exp', y = 'DGR', data = d[(d['Exp'] != 1)&(d['Period'] == 'Continuous')&(d['Depth'] == 5)],color='k').set(xlabel='Depth\\n [m]', ylabel='Daily growth rate')"
   ]
  },
  {
   "cell_type": "code",
   "execution_count": null,
   "metadata": {},
   "outputs": [],
   "source": [
    "#Offshore results for D = 5, first period - comparison between 2 different cultivation periods\n",
    "\n",
    "# strip plot\n",
    "sns.set_context(\"paper\", rc={\"font.size\":14,\"axes.titlesize\":14,\"axes.labelsize\":14}) \n",
    "SA2Days = sns.catplot(x = 'Exp', y = 'DGR', data = df3[(df3.Depth == 5)&(df3.Exp == 4)],palette = palette,hue = 'Days').set(xlabel='', ylabel='Daily growth rate')\n",
    "SA2Days.set_xticklabels([\"Dec\\n 19\"],fontdict= {'fontsize': 12, 'fontweight':'bold','color': 'k'})\n",
    "SA2Days.set_yticklabels(fontdict= {'fontsize': 12, 'fontweight':'bold','color': 'k'})\n",
    "\n",
    "\n",
    "#N1.set_xticklabels([\"May-Jun*\\n  19\", \"Jul-Aug\\n  19\", \"Oct-Nov\\n  19\",\"Dec\\n  19\",\"Apr-May\\n  20\"],fontdict= { 'fontsize': 11, 'fontweight':'bold','color': 'k'})\n",
    "#N1.set_yticklabels(fontdict= { 'fontsize': 12, 'fontweight':'bold','color': 'k'})\n",
    "\n",
    "# box plot\n",
    "SA2DaysBOX = sns.catplot(x = 'Exp', y = 'DGR', data = df3[(df3.Depth == 5)&(df3.Exp == 4)],hue = 'Days',kind = 'box').set(xlabel='', ylabel='Daily growth rate')\n",
    "SA2DaysBOX = sns.catplot(x = 'Exp', y = 'DGR', data = df3[(df3.Depth == 5)&(df3.Exp == 4)],palette = palette,hue = 'Days').set(xlabel='', ylabel='Daily growth rate')\n",
    "SA2DaysBOX.set_xticklabels([\"Dec\\n 20\"],fontdict= {'fontsize': 12, 'fontweight':'bold','color': 'k'})\n",
    "SA2DaysBOX.set_yticklabels(fontdict= { 'fontsize': 10, 'fontweight':'bold','color': 'k'})\n"
   ]
  },
  {
   "cell_type": "code",
   "execution_count": null,
   "metadata": {},
   "outputs": [],
   "source": [
    "# Mann-Whitney U Test between short and long cultivation duration - DGR and N\n",
    "print(stats.mannwhitneyu(df3[(df3.Depth == 5)&(df3.Period == 'Continuous')&(df3.Stage == 'f')&(df3['Exp'] == 4)&(df3['Days'] == 7)]['DGR'],df3[(df3.Depth == 5)&(df3.Period == 'Continuous')&(df3.Stage == 'f')&(df3['Exp'] == 4)&(df3['Days'] == 12)]['DGR']))\n",
    "print(stats.mannwhitneyu(df3[(df3.Depth == 5)&(df3.Period == 'Continuous')&(df3.Stage == 'f')&(df3['Exp'] == 4)&(df3['Days'] == 7)]['N'],df3[(df3.Depth == 5)&(df3.Period == 'Continuous')&(df3.Stage == 'f')&(df3['Exp'] == 4)&(df3['Days'] == 12)]['N']))"
   ]
  },
  {
   "cell_type": "code",
   "execution_count": null,
   "metadata": {},
   "outputs": [],
   "source": [
    "# Mann-Whitney U Test between short and long cultivation duration - DGR and N\n",
    "print(stats.mannwhitneyu(df3[(df3.Depth == 5)&(df3.Exp == 4)&(df3['Days'] == 7)]['DGR'],df3[(df3.Depth == 5)&(df3.Exp == 4)&(df3['Days'] == 12)]['DGR']))\n",
    "print(stats.mannwhitneyu(df3[(df3.Depth == 5)&(df3.Exp == 4)&(df3['Days'] == 7)]['N'],df3[(df3.Depth == 5)&(df3.Exp == 4)&(df3['Days'] == 12)]['N']))"
   ]
  },
  {
   "cell_type": "code",
   "execution_count": null,
   "metadata": {},
   "outputs": [],
   "source": [
    "t_statN, p_valN = stats.ttest_ind(df3[(df3.Depth == 5)&(df3.Period == 'Continuous')&(df3.Stage == 'f')&(df3['Exp'] == 4)&(df3['Days'] == 7)]['N'],df3[(df3.Depth == 5)&(df3.Period == 'Continuous')&(df3.Stage == 'f')&(df3['Exp'] == 4)&(df3['Days'] == 12)]['N'], equal_var=False)\n"
   ]
  },
  {
   "cell_type": "code",
   "execution_count": null,
   "metadata": {},
   "outputs": [],
   "source": [
    "# N in different depths - all data\n",
    "sns.set_context(\"paper\", rc={\"font.size\":16,\"axes.titlesize\":16,\"axes.labelsize\":16}) \n",
    "\n",
    "# combined strip plot - all data\n",
    "SA2_DUR_DGR = sns.catplot(x = 'Days', y = 'DGR', data = df3[(df3.Depth == 5)&(df3.Exp == 4)],kind='box',palette=palette,hue='Days')#.set(xlabel='Fertilization Duration\\n [hours]', ylabel='Daily growth rate')\n",
    "SA2_DUR_DGR.set_xticklabels([1, 5],fontdict= { 'fontsize': 14, 'fontweight':'bold','color': 'k'})\n",
    "SA2_DUR_DGR = sns.stripplot(x = 'Days', y = 'DGR', data = df3[(df3.Depth == 5)&(df3.Exp == 4)],color='k').set(xlabel='Cultivation duration\\n [Days]', ylabel='Daily growth rate')"
   ]
  },
  {
   "cell_type": "code",
   "execution_count": null,
   "metadata": {},
   "outputs": [],
   "source": [
    "# N in different depths - all data\n",
    "sns.set_context(\"paper\", rc={\"font.size\":16,\"axes.titlesize\":16,\"axes.labelsize\":16}) \n",
    "\n",
    "# combined strip plot - all data\n",
    "SA2_DUR_DGR = sns.catplot(x = 'Days', y = 'N', data = df3[(df3.Depth == 5)&(df3.Exp == 4)&(df3.Stage == 'f')],kind='box',palette=palette,hue='Days')#.set(xlabel='Fertilization Duration\\n [hours]', ylabel='Daily growth rate')\n",
    "SA2_DUR_DGR.set_xticklabels([1, 5],fontdict= { 'fontsize': 14, 'fontweight':'bold','color': 'k'})\n",
    "SA2_DUR_DGR = sns.stripplot(x = 'Days', y = 'N', data = df3[(df3.Depth == 5)&(df3.Exp == 4)&(df3.Stage == 'f')],color='k').set(xlabel='Cultivation duration\\n [Days]', ylabel='Internal N\\n[% g N / g DW]')"
   ]
  },
  {
   "cell_type": "code",
   "execution_count": null,
   "metadata": {},
   "outputs": [],
   "source": [
    "# N in different depths - all data\n",
    "sns.set_context(\"paper\", rc={\"font.size\":16,\"axes.titlesize\":16,\"axes.labelsize\":16}) \n",
    "\n",
    "# combined strip plot - all data\n",
    "SA2_DUR_DGR = sns.catplot(x = 'Exp', y = 'DGR', data = df3[(df3.Depth == 5)&(df3.Exp == 4)],palette = palette,hue = 'Days').set(xlabel='', ylabel='Daily growth rate')\n",
    "#SA2Days = sns.catplot(x = 'Exp', y = 'DGR', data = df3[(df3.Depth == 5)&(df3.Exp == 4)],palette = palette,hue = 'Days').set(xlabel='', ylabel='Daily growth rate')\n",
    "SA2_DUR_DGR.set_xticklabels([\"Dec\\n 19\"],fontdict= {'fontsize': 12, 'fontweight':'bold','color': 'k'})\n",
    "\n",
    "#SA2_DUR_DGR.set_xticklabels([1, 5],fontdict= { 'fontsize': 14, 'fontweight':'bold','color': 'k'})\n",
    "SA2_DUR_DGR = sns.stripplot((x = 'Exp', y = 'DGR', data = df3[(df3.Depth == 5)&(df3.Exp == 4)],color='k').set(xlabel='Depth\\n [m]', ylabel='Internal N\\n [% gN / gDW]')"
   ]
  },
  {
   "cell_type": "code",
   "execution_count": null,
   "metadata": {},
   "outputs": [],
   "source": [
    "#Offshore results for D = 5, first period - comparison between 2 different cultivation periods\n",
    "\n",
    "# strip plot\n",
    "sns.set_context(\"paper\", rc={\"font.size\":14,\"axes.titlesize\":14,\"axes.labelsize\":14}) \n",
    "SA2Days = sns.catplot(x = 'Exp', y = 'N', data = df3[(df3.Depth == 5)&(df3.Exp == 4)],palette = palette,hue = 'Days').set(xlabel='', ylabel='Internal N\\n[% gN / gDW]')\n",
    "SA2Days.set_xticklabels([\"Dec\\n 19\"],fontdict= {'fontsize': 12, 'fontweight':'bold','color': 'k'})\n",
    "SA2Days.set_yticklabels(fontdict= {'fontsize': 12, 'fontweight':'bold','color': 'k'})\n",
    "\n",
    "\n",
    "# box plot\n",
    "SA2DaysBOX = sns.catplot(x = 'Exp', y = 'N', data = df3[(df3.Depth == 5)&(df3.Exp == 4)],hue = 'Days',kind = 'box').set(xlabel='', ylabel='Internal N\\n[% gN / gDW]')\n",
    "SA2DaysBOX.set_xticklabels([\"Dec\\n 20\"],fontdict= { 'fontsize': 12, 'fontweight':'bold','color': 'k'})\n",
    "SA2DaysBOX.set_yticklabels(fontdict= { 'fontsize': 10, 'fontweight':'bold','color': 'k'})\n"
   ]
  },
  {
   "cell_type": "code",
   "execution_count": null,
   "metadata": {},
   "outputs": [],
   "source": [
    "# T-test for N and DGR in different durations of exp 4 (only positive DGR)\n",
    "dN = df3[(df3.Stage == 'f')&(np.isnan(df3.N)!= True)]\n",
    "#for i in [7,12]:\n",
    "t_statDGR, p_valDGR = stats.ttest_ind(d[(d['Exp'] == 4)&(d['Days'] == 7)&(d['DGR'] > 0)]['DGR'],d[(d['Exp'] == 4)&(d['Days'] == 12)&(d['DGR'] > 0)]['DGR'], equal_var=False)\n",
    "t_statN, p_valN = stats.ttest_ind(dN[(dN['Exp'] == 4)&(dN['Days'] == 7)&(dN['DGR'] > 0)]['N'],dN[(dN['Exp'] == 4)&(dN['Days'] == 12)&(dN['DGR'] > 0)]['N'], equal_var=False)\n",
    "\n",
    "print(t_statDGR, p_valDGR)\n",
    "print(t_statN,p_valN)"
   ]
  },
  {
   "cell_type": "code",
   "execution_count": null,
   "metadata": {},
   "outputs": [],
   "source": [
    "# growth rates in different depths - all data\n",
    "sns.set_context(\"paper\", rc={\"font.size\":16,\"axes.titlesize\":16,\"axes.labelsize\":16}) \n",
    "\n",
    "# combined strip plot - all data\n",
    "SA1_DUR_DGR = sns.catplot(x = 'Depth', y = 'DGR', data = d[(d['Period'] == 'Continuous')],kind='box',palette=palette)#.set(xlabel='Fertilization Duration\\n [hours]', ylabel='Daily growth rate')\n",
    "SA1_DUR_DGR.set_xticklabels([1, 5],fontdict= { 'fontsize': 14, 'fontweight':'bold','color': 'k'})\n",
    "SA1_DUR_DGR = sns.stripplot(x = 'Depth', y = 'DGR', data = d[(d['Period'] == 'Continuous')],color='k').set(xlabel='Depth\\n [m]', ylabel='Daily growth rate')"
   ]
  },
  {
   "cell_type": "code",
   "execution_count": null,
   "metadata": {},
   "outputs": [],
   "source": [
    "# T-test for N and DGR in different periods\n",
    "t_statDGR, p_valDGR = stats.ttest_ind(d[(d['Period'] == 1)]['DGR'],d[(d['Period'] == 2)]['DGR'], equal_var=False)\n",
    "t_statN, p_valN = stats.ttest_ind(dN[(dN['Period'] == 1)]['N'],dN[(dN['Period'] == 2)]['N'], equal_var=False)\n",
    "\n",
    "print(t_statDGR, p_valDGR)\n",
    "print(t_statN,p_valN)"
   ]
  },
  {
   "cell_type": "code",
   "execution_count": null,
   "metadata": {},
   "outputs": [],
   "source": [
    "# S.A #2 - growth rates in different periods\n",
    "sns.set_context(\"paper\", rc={\"font.size\":16,\"axes.titlesize\":16,\"axes.labelsize\":16}) \n",
    "\n",
    "# combined strip plot - all data\n",
    "SA1_DUR_DGR = sns.catplot(x = 'Period', y = 'DGR', data = df3[(df3.Exp != 1)&(df3.Stage == 'f')],kind='box')\n",
    "SA1_DUR_DGR.set_xticklabels([1, 2],fontdict= { 'fontsize': 14, 'fontweight':'bold','color': 'k'})\n",
    "SA1_DUR_DGR = sns.stripplot(x = 'Period', y = 'DGR', data = df3[(df3.Exp != 1)&(df3.Stage == 'f')],color='k').set(xlabel='Depth\\n [m]', ylabel='Daily growth rate')"
   ]
  },
  {
   "cell_type": "code",
   "execution_count": null,
   "metadata": {},
   "outputs": [],
   "source": [
    "# S.A #2 - growth rates in different periods\n",
    "sns.set_context(\"paper\", rc={\"font.size\":16,\"axes.titlesize\":16,\"axes.labelsize\":16}) \n",
    "\n",
    "# combined strip plot - all data\n",
    "SA1_DUR_DGR = sns.catplot(x = 'Period', y = 'N', data = df3[(df3.Exp != 1)&(df3.Stage == 'f')],kind='box')\n",
    "SA1_DUR_DGR.set_xticklabels([1, 2],fontdict= { 'fontsize': 14, 'fontweight':'bold','color': 'k'})\n",
    "SA1_DUR_DGR = sns.stripplot(x = 'Period', y = 'N', data = df3[(df3.Exp != 1)&(df3.Stage == 'f')],color='k').set(xlabel='Depth\\n [m]', ylabel='Internal N\\n [% gN / gDW]')"
   ]
  },
  {
   "cell_type": "code",
   "execution_count": null,
   "metadata": {},
   "outputs": [],
   "source": [
    "# data summary of depth = 5, period =1, by exp (DGR)\n",
    "d5 = d[(d['Depth'] == 5)&(d['Period'] == 1)&(d['Exp'] != 1)&(np.isnan(d.N)!= True)]\n",
    "rp.summary_cont(d5['DGR'].groupby(d5['Exp']))"
   ]
  },
  {
   "cell_type": "code",
   "execution_count": null,
   "metadata": {},
   "outputs": [],
   "source": [
    "# data summary of depth = 5, period =1, by exp (N)\n",
    "d5 = d[(d['Depth'] == 5)&(d['Period'] == 1)&(d['Exp'] != 1)]\n",
    "rp.summary_cont(d5['DGR'].groupby(d5['Exp']))"
   ]
  },
  {
   "cell_type": "code",
   "execution_count": null,
   "metadata": {},
   "outputs": [],
   "source": []
  },
  {
   "cell_type": "code",
   "execution_count": null,
   "metadata": {},
   "outputs": [],
   "source": [
    "dN = df3[(df3.Stage == 'f')&(np.isnan(df3.N)!= True)]\n",
    "rp.summary_cont(dN['N'].groupby(dN['Exp']))"
   ]
  },
  {
   "cell_type": "raw",
   "metadata": {},
   "source": [
    "#Offshore experiments figures/statistics:\n",
    "1. Comparison between experiments in final DGR + statistical analysis (ANNOVA?).\n",
    "2. Comparison between initial and final Nint (ANNOVA?).\n",
    "3. Comarison between depths - DGR and Nint \n",
    "4. Comparison between periods (1 and 2) - DGR and Nint"
   ]
  },
  {
   "cell_type": "code",
   "execution_count": null,
   "metadata": {},
   "outputs": [],
   "source": [
    "df3.head()"
   ]
  },
  {
   "cell_type": "code",
   "execution_count": null,
   "metadata": {},
   "outputs": [],
   "source": [
    "#Offshore results by period (all results)\n",
    "\n",
    "# strip plot - all data\n",
    "SA2Per = sns.catplot(x = 'Exp', y = 'DGR', data = df3[(df3.Comment != 'Losses')],hue = 'Period').set(xlabel='', ylabel='Daily growth rate')\n",
    "SA2Per.set_xticklabels([\"May-Jun*\\n  19\", \"Jul-Aug\\n  19\", \"Oct-Nov\\n  19\",\"Dec\\n  19\",\"Apr-May\\n  20\"],fontdict= { 'fontsize': 11, 'fontweight':'bold','color': 'k'})\n",
    "SA2Per.set_yticklabels(fontdict= { 'fontsize': 12, 'fontweight':'bold','color': 'k'})\n",
    "\n",
    "# box plot\n",
    "#SA2PerBOX = sns.catplot(x = 'Exp', y = 'DGR', data = df3[(df3.Comment != 'Losses')],hue = 'Period',kind = 'box').set(xlabel='', ylabel='Daily growth rate')\n",
    "#SA2PerBOX.set_xticklabels([\"May-Jun*\\n  19\", \"Jul-Aug\\n  19\", \"Oct-Nov\\n  19\",\"Dec\\n  19\",\"Apr-May\\n  20\"],fontdict= { 'fontsize': 11, 'fontweight':'bold','color': 'k'})\n",
    "#SA2PerBOX.set_yticklabels(fontdict= { 'fontsize': 12, 'fontweight':'bold','color': 'k'})"
   ]
  },
  {
   "cell_type": "raw",
   "metadata": {},
   "source": [
    "#Offshore results by period (all results)\n",
    "sns.set_context(\"paper\", rc={\"font.size\":16,\"axes.titlesize\":16,\"axes.labelsize\":16}) \n",
    "\n",
    "SA2Per = sns.catplot(x = 'Exp', y = 'DGR', data = df3[(df3.Depth == 5)&(df3.Exp != 1)],hue = 'Period').set(xlabel='', ylabel='Daily growth rate')#,kind=\"box\")\n",
    "SA2Per.set_xticklabels([\"Jul-Aug\", \"Oct-Nov\",\"Dec\",\"Apr-May\"],fontdict= { 'fontsize': 14, 'fontweight':'bold','color': 'k'})\n",
    "\n",
    "#SA2D5 = sns.catplot(x = 'Exp', y = 'DGR', data = df3[(df3.Depth == 5)&(df3.Period == 1)&(df3.Exp != 1)],hue='Depth').set(xlabel='', ylabel='Daily growth rate')#,hue = 'Depth')#,kind=\"box\")\n",
    "#SA2D5.set_xticklabels([\"Jul-Aug\", \"Oct-Nov\",\"Dec\",\"Apr-May\"],fontdict= { 'fontsize': 12, 'fontweight':'bold','color': 'k'})\n",
    "\n",
    "#N1.set_xticklabels([\"May-Jun\", \"Jul-Aug\", \"Oct-Nov\",\"3\\nDec\",\"4\\nApr-May\"],fontdict= { 'fontsize': 14, 'fontweight':'bold','color': 'darkred'})#,fontsize = 12, fontweight = bold)\n",
    "SA2Per.set_yticklabels(fontdict= { 'fontsize': 12, 'fontweight':'bold','color': 'k'})#,fontsize = 12, fontweight = bold)\n",
    "#N1.set_ylabel('lololo')"
   ]
  },
  {
   "cell_type": "code",
   "execution_count": null,
   "metadata": {},
   "outputs": [],
   "source": [
    "#Offshore growth rates by Depth (all results)\n",
    "\n",
    "# strip plot - all data\n",
    "SA2D = sns.catplot(x = 'Exp', y = 'DGR', data = df3[(df3.Exp != 1)&(df3.Period == 1)],hue = 'Depth').set(xlabel='', ylabel='Daily growth rate')\n",
    "SA2D.set_xticklabels([\"Jul-Aug\\n  19\", \"Oct-Nov\\n  19\",\"Dec\\n  19\",\"Apr-May\\n  20\"],fontdict= { 'fontsize': 11, 'fontweight':'bold','color': 'k'})\n",
    "SA2D.set_yticklabels(fontdict= { 'fontsize': 12, 'fontweight':'bold','color': 'k'})\n",
    "\n",
    "# box plot\n",
    "#SA2DBOX = sns.catplot(x = 'Exp', y = 'DGR', data = df3[(df3.Exp != 1)&(df3.Period == 1)],hue = 'Depth',kind = 'box').set(xlabel='', ylabel='Daily growth rate')\n",
    "#SA2DBOX.set_xticklabels([\"Jul-Aug\\n  19\", \"Oct-Nov\\n  19\",\"Dec\\n  19\",\"Apr-May\\n  20\"],fontdict= { 'fontsize': 11, 'fontweight':'bold','color': 'k'})\n",
    "#SA2DBOX.set_yticklabels(fontdict= { 'fontsize': 12, 'fontweight':'bold','color': 'k'})\n",
    "\n",
    "#SA2D.set_xticklabels([\"Pre\\nMay-Jun\", \"1\\nJul-Aug\", \"2\\nOct-Nov\",\"3\\nDec\",\"4\\nApr-May\"])\n",
    "\n",
    "\n",
    "# strip plot - all data\n",
    "#SA2Per = sns.catplot(x = 'Exp', y = 'DGR', data = df3[(df3.Comment != 'Losses')],hue = 'Period').set(xlabel='', ylabel='Daily growth rate')\n",
    "#SA2Per.set_xticklabels([\"May-Jun*\\n  19\", \"Jul-Aug\\n  19\", \"Oct-Nov\\n  19\",\"Dec\\n  19\",\"Apr-May\\n  20\"],fontdict= { 'fontsize': 11, 'fontweight':'bold','color': 'k'})\n",
    "#SA2Per.set_yticklabels(fontdict= { 'fontsize': 12, 'fontweight':'bold','color': 'k'})\n"
   ]
  },
  {
   "cell_type": "code",
   "execution_count": null,
   "metadata": {},
   "outputs": [],
   "source": [
    "#Offshore results for D = 5, first period - comparison between 2 different cultivation periods (cages with losses are ommited)\n",
    "\n",
    "# strip plot\n",
    "sns.set_context(\"paper\", rc={\"font.size\":14,\"axes.titlesize\":14,\"axes.labelsize\":14})\n",
    "SA2DaysL = sns.catplot(x = 'Exp', y = 'DGR', data = df3[(df3.Depth == 5)&(df3.Exp == 4)&(df3.Comment != 'Losses')],hue = 'Days').set(xlabel='', ylabel='Daily growth rate')\n",
    "SA2DaysL.set_xticklabels([\"Dec\\n 20\"],fontdict= { 'fontsize': 12, 'fontweight':'bold','color': 'k'})\n",
    "SA2DaysL.set_yticklabels(fontdict= { 'fontsize': 10, 'fontweight':'bold','color': 'k'})\n",
    "\n",
    "# box plot\n",
    "SA2DaysLBOX = sns.catplot(x = 'Exp', y = 'DGR', data = df3[(df3.Depth == 5)&(df3.Exp == 4)&(df3.Comment != 'Losses')],hue = 'Days',kind = 'box').set(xlabel='', ylabel='Daily growth rate')\n",
    "SA2DaysLBOX.set_xticklabels([\"Dec\\n 20\"],fontdict= { 'fontsize': 12, 'fontweight':'bold','color': 'k'})\n",
    "SA2DaysLBOX.set_yticklabels(fontdict= { 'fontsize': 10, 'fontweight':'bold','color': 'k'})"
   ]
  },
  {
   "cell_type": "code",
   "execution_count": null,
   "metadata": {},
   "outputs": [],
   "source": [
    "# Internal N at beggining and end of experiments - period 1 (starting with N rich Ulva)\n",
    "\n",
    "# strip plot\n",
    "sns.set_context(\"paper\", rc={\"font.size\":14,\"axes.titlesize\":14,\"axes.labelsize\":14})\n",
    "N1 = sns.catplot(x = 'Exp', y = 'N', data = df3[(df3.Period == 1)&(df3.Depth == 5)],hue = 'Stage').set(xlabel='', ylabel='Internal N\\n[% gN / gDW]')\n",
    "N1.set_xticklabels([\"May-Jun*\\n  19\", \"Jul-Aug\\n  19\", \"Oct-Nov\\n  19\",\"Dec\\n  19\",\"Apr-May\\n  20\"],fontdict= { 'fontsize': 11, 'fontweight':'bold','color': 'k'})\n",
    "N1.set_yticklabels(fontdict= { 'fontsize': 12, 'fontweight':'bold','color': 'k'})\n",
    "\n",
    "# box plot\n",
    "N1BOX = sns.catplot(x = 'Exp', y = 'N', data = df3[(df3.Period == 1)&(df3.Depth == 5)],hue = 'Stage',kind = 'box').set(xlabel='', ylabel='Internal N\\n[% gN / gDW]')\n",
    "N1BOX.set_xticklabels([\"May-Jun*\\n  19\", \"Jul-Aug\\n  19\", \"Oct-Nov\\n  19\",\"Dec\\n  19\",\"Apr-May\\n  20\"],fontdict= { 'fontsize': 11, 'fontweight':'bold','color': 'k'})\n",
    "N1BOX.set_yticklabels(fontdict= { 'fontsize': 12, 'fontweight':'bold','color': 'k'})"
   ]
  },
  {
   "cell_type": "code",
   "execution_count": null,
   "metadata": {},
   "outputs": [],
   "source": [
    "# Internal N at beggining and end of experiments - period 2 (using Ulva that was cultivated offshore and fertilized onshore for ~20 hours)\n",
    "\n",
    "# strip plot\n",
    "N2 = sns.catplot(x = 'Exp', y = 'N', data = df3[(df3.Period == 2)],hue = 'Stage').set(xlabel='', ylabel='Internal N')\n",
    "N2.set_xticklabels([\"May-Jun*\\n  19\", \"Jul-Aug\\n  19\", \"Oct-Nov\\n  19\",\"Dec\\n  19\",\"Apr-May\\n  20\"],fontdict= { 'fontsize': 11, 'fontweight':'bold','color': 'k'})\n",
    "N2.set_yticklabels(fontdict= { 'fontsize': 12, 'fontweight':'bold','color': 'k'})\n",
    "\n",
    "# box plot\n",
    "N2BOX = sns.catplot(x = 'Exp', y = 'N', data = df3[(df3.Period == 2)],hue = 'Stage',kind='box').set(xlabel='', ylabel='Internal N')\n",
    "N2BOX.set_xticklabels([\"May-Jun*\\n  19\", \"Jul-Aug\\n  19\", \"Oct-Nov\\n  19\",\"Dec\\n  19\",\"Apr-May\\n  20\"],fontdict= { 'fontsize': 11, 'fontweight':'bold','color': 'k'})\n",
    "N2BOX.set_yticklabels(fontdict= { 'fontsize': 12, 'fontweight':'bold','color': 'k'})\n"
   ]
  },
  {
   "cell_type": "code",
   "execution_count": null,
   "metadata": {},
   "outputs": [],
   "source": [
    "# Internal N at beggining and end of experiments - period 2 (using Ulva that was cultivated offshore and fertilized onshore for ~20 hours)\n",
    "\n",
    "# strip plot\n",
    "N2 = sns.catplot(x = 'Exp', y = 'N', data = df3[(df3.Stage == 'f')&(df3.Exp != 4)&(df3.Exp != 5)],hue = 'Depth').set(xlabel='', ylabel='Internal N')\n",
    "N2.set_xticklabels([\"May-Jun*\\n  19\", \"Jul-Aug\\n  19\", \"Oct-Nov\\n  19\",\"Dec\\n  19\",\"Apr-May\\n  20\"],fontdict= { 'fontsize': 11, 'fontweight':'bold','color': 'k'})\n",
    "N2.set_yticklabels(fontdict= { 'fontsize': 12, 'fontweight':'bold','color': 'k'})\n",
    "\n",
    "# box plot\n",
    "#N2BOX = sns.catplot(x = 'Exp', y = 'N', data = df3[(df3.Stage == 'f')&(df3.Exp != 4)&(df3.Exp != 5)],hue = 'Depth',kind='box').set(xlabel='', ylabel='Internal N')\n",
    "#N2BOX.set_xticklabels([\"May-Jun*\\n  19\", \"Jul-Aug\\n  19\", \"Oct-Nov\\n  19\",\"Dec\\n  19\",\"Apr-May\\n  20\"],fontdict= { 'fontsize': 11, 'fontweight':'bold','color': 'k'})\n",
    "#N2BOX.set_yticklabels(fontdict= { 'fontsize': 12, 'fontweight':'bold','color': 'k'})\n"
   ]
  },
  {
   "cell_type": "code",
   "execution_count": null,
   "metadata": {},
   "outputs": [],
   "source": [
    "# Pearson onshore fertilizing\n",
    "\n",
    "from scipy.stats import pearsonr \n",
    "   \n",
    "list1a = [310,442,246] \n",
    "list1b = [301,350,346]\n",
    "\n",
    "list13a = [382,216,240]\n",
    "list13b = [292,351,228]\n",
    "\n",
    "# Apply the pearsonr() \n",
    "corr, _ = pearsonr(list1a, list1b) \n",
    "print('\\nPearsons correlation for no-shade bottles, 1000/1/168: %.3f' % corr) \n",
    "# Mann-Whitney U Test\n",
    "print(stats.mannwhitneyu(list1a,list1b))\n",
    "      \n",
    "corr, _ = pearsonr(list13a, list13b) \n",
    "print('\\nPearsons correlation for exp 2, 1000/1/168: %.3f' % corr) \n",
    "print(stats.mannwhitneyu(list13a,list13b))"
   ]
  },
  {
   "cell_type": "code",
   "execution_count": null,
   "metadata": {},
   "outputs": [],
   "source": []
  }
 ],
 "metadata": {
  "colab": {
   "collapsed_sections": [],
   "name": "Meiron_closed_system_simulation.ipynb",
   "provenance": [
    {
     "file_id": "1uKvJsJ-_1-aLrYIrSnGQNnOsG9l8ysjY",
     "timestamp": 1561926275385
    }
   ],
   "version": "0.3.2"
  },
  "kernel_info": {
   "name": "python3"
  },
  "kernelspec": {
   "display_name": "Python 3",
   "language": "python",
   "name": "python3"
  },
  "language_info": {
   "codemirror_mode": {
    "name": "ipython",
    "version": 3
   },
   "file_extension": ".py",
   "mimetype": "text/x-python",
   "name": "python",
   "nbconvert_exporter": "python",
   "pygments_lexer": "ipython3",
   "version": "3.7.3"
  },
  "nteract": {
   "version": "0.15.0"
  }
 },
 "nbformat": 4,
 "nbformat_minor": 1
}
