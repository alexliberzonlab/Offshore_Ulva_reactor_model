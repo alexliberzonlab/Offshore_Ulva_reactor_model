{
 "cells": [
  {
   "cell_type": "markdown",
   "metadata": {
    "colab_type": "text",
    "id": "raGTYa1h4iD_"
   },
   "source": [
    "# Closed system simulation with experimental data markers\n",
    "\n",
    "In this simulation we have a system of 5 liters in which we start with Next = 1000/500/200, some Nint (measured) of some mass (m). After this we \"feed\" for a period of 7/3.5/2.33 days, i.e. solve the \"feeding\" part of the simulation. After that, we add 1000/500/200 uM to the last value of Next and keep \"feeding\". After one duration (7 days) we reset the water, mass and the amplitude to the beginning of the first cycle. The only difference from the t_0 is the Nint which is accumulating all the effects through the time. The mass is reset to m_0 and Next is reset to 1000 ppm (per something per something)\n"
   ]
  },
  {
   "cell_type": "code",
   "execution_count": 1,
   "metadata": {
    "colab": {},
    "colab_type": "code",
    "id": "yUfAvi3l4iEA"
   },
   "outputs": [],
   "source": [
    "from __future__ import division\n",
    "import numpy as np\n",
    "import scipy as sp\n",
    "from scipy.integrate import odeint\n",
    "from scipy import stats\n",
    "import matplotlib.pyplot as plt\n",
    "import pandas as pd # to read excel\n",
    "import seaborn as sns\n",
    "from array import *\n",
    "import researchpy as rp\n",
    "import scipy.stats as stats\n",
    "%matplotlib inline\n",
    "\n",
    "from myfunctions_Brine import *\n",
    "\n",
    "import datetime"
   ]
  },
  {
   "cell_type": "code",
   "execution_count": 2,
   "metadata": {},
   "outputs": [],
   "source": [
    "# statistics functions\n",
    "\n",
    "import scikit_posthocs as scp"
   ]
  },
  {
   "cell_type": "code",
   "execution_count": 3,
   "metadata": {
    "colab": {
     "base_uri": "https://localhost:8080/",
     "height": 277
    },
    "colab_type": "code",
    "executionInfo": {
     "elapsed": 62295,
     "status": "ok",
     "timestamp": 1565466545086,
     "user": {
      "displayName": "Meiron Zollmann",
      "photoUrl": "",
      "userId": "18114482091462006341"
     },
     "user_tz": -180
    },
    "id": "d4VzbZ484iED",
    "inputHidden": false,
    "outputHidden": false,
    "outputId": "6d76a9eb-17b9-400c-de1d-c0cec8fc215c"
   },
   "outputs": [],
   "source": [
    "# Import data and parameters\n",
    "\n",
    "x1 = pd.ExcelFile('C:/Users/meiro/Desktop/GitHub/Model/Meiron_model/data/Parameters.xlsx')\n",
    "x2 = pd.ExcelFile('C:/Users/meiro/Desktop/GitHub/Model/Meiron_model/data/Data.xlsx')\n",
    "\n",
    "# Import parameters into df1\n",
    "df1 = x1.parse('Parameters',header=None)\n",
    "\n",
    "# Import bottles data into df5\n",
    "df5 = x2.parse('Bottles')"
   ]
  },
  {
   "cell_type": "code",
   "execution_count": 4,
   "metadata": {},
   "outputs": [
    {
     "data": {
      "text/html": [
       "<div>\n",
       "<style scoped>\n",
       "    .dataframe tbody tr th:only-of-type {\n",
       "        vertical-align: middle;\n",
       "    }\n",
       "\n",
       "    .dataframe tbody tr th {\n",
       "        vertical-align: top;\n",
       "    }\n",
       "\n",
       "    .dataframe thead th {\n",
       "        text-align: right;\n",
       "    }\n",
       "</style>\n",
       "<table border=\"1\" class=\"dataframe\">\n",
       "  <thead>\n",
       "    <tr style=\"text-align: right;\">\n",
       "      <th></th>\n",
       "      <th>Bottle</th>\n",
       "      <th>Exp</th>\n",
       "      <th>Brine:ASW</th>\n",
       "      <th>density</th>\n",
       "      <th>Dwi</th>\n",
       "      <th>Ni</th>\n",
       "      <th>P</th>\n",
       "      <th>NO3</th>\n",
       "      <th>NO3-N</th>\n",
       "      <th>NO3.1</th>\n",
       "      <th>...</th>\n",
       "      <th>N_assimilation_day</th>\n",
       "      <th>N_Saturation</th>\n",
       "      <th>Final_NO3</th>\n",
       "      <th>Comment</th>\n",
       "      <th>NO3_removal</th>\n",
       "      <th>N_removal</th>\n",
       "      <th>N_removal_day</th>\n",
       "      <th>NO3_removal_efficiency</th>\n",
       "      <th>Duration</th>\n",
       "      <th>Diluted</th>\n",
       "    </tr>\n",
       "  </thead>\n",
       "  <tbody>\n",
       "    <tr>\n",
       "      <th>0</th>\n",
       "      <td>2</td>\n",
       "      <td>1</td>\n",
       "      <td>1:0</td>\n",
       "      <td>1.0</td>\n",
       "      <td>0.15150</td>\n",
       "      <td>3.014334</td>\n",
       "      <td>No</td>\n",
       "      <td>265.714286</td>\n",
       "      <td>60.0</td>\n",
       "      <td>4274.0</td>\n",
       "      <td>...</td>\n",
       "      <td>0.197800</td>\n",
       "      <td>yes</td>\n",
       "      <td>NaN</td>\n",
       "      <td>NaN</td>\n",
       "      <td>NaN</td>\n",
       "      <td>NaN</td>\n",
       "      <td>NaN</td>\n",
       "      <td>NaN</td>\n",
       "      <td>Week</td>\n",
       "      <td>No</td>\n",
       "    </tr>\n",
       "    <tr>\n",
       "      <th>1</th>\n",
       "      <td>3</td>\n",
       "      <td>1</td>\n",
       "      <td>1:0</td>\n",
       "      <td>1.0</td>\n",
       "      <td>0.15825</td>\n",
       "      <td>3.014334</td>\n",
       "      <td>No</td>\n",
       "      <td>265.714286</td>\n",
       "      <td>60.0</td>\n",
       "      <td>4274.0</td>\n",
       "      <td>...</td>\n",
       "      <td>0.349681</td>\n",
       "      <td>yes</td>\n",
       "      <td>NaN</td>\n",
       "      <td>NaN</td>\n",
       "      <td>NaN</td>\n",
       "      <td>NaN</td>\n",
       "      <td>NaN</td>\n",
       "      <td>NaN</td>\n",
       "      <td>Week</td>\n",
       "      <td>No</td>\n",
       "    </tr>\n",
       "    <tr>\n",
       "      <th>2</th>\n",
       "      <td>4</td>\n",
       "      <td>1</td>\n",
       "      <td>1:0</td>\n",
       "      <td>2.0</td>\n",
       "      <td>0.30150</td>\n",
       "      <td>3.014334</td>\n",
       "      <td>No</td>\n",
       "      <td>265.714286</td>\n",
       "      <td>60.0</td>\n",
       "      <td>4274.0</td>\n",
       "      <td>...</td>\n",
       "      <td>0.833286</td>\n",
       "      <td>yes</td>\n",
       "      <td>NaN</td>\n",
       "      <td>NaN</td>\n",
       "      <td>NaN</td>\n",
       "      <td>NaN</td>\n",
       "      <td>NaN</td>\n",
       "      <td>NaN</td>\n",
       "      <td>Week</td>\n",
       "      <td>No</td>\n",
       "    </tr>\n",
       "    <tr>\n",
       "      <th>3</th>\n",
       "      <td>5</td>\n",
       "      <td>1</td>\n",
       "      <td>1:0</td>\n",
       "      <td>2.0</td>\n",
       "      <td>0.30000</td>\n",
       "      <td>3.014334</td>\n",
       "      <td>No</td>\n",
       "      <td>265.714286</td>\n",
       "      <td>60.0</td>\n",
       "      <td>4274.0</td>\n",
       "      <td>...</td>\n",
       "      <td>0.532428</td>\n",
       "      <td>yes</td>\n",
       "      <td>NaN</td>\n",
       "      <td>NaN</td>\n",
       "      <td>NaN</td>\n",
       "      <td>NaN</td>\n",
       "      <td>NaN</td>\n",
       "      <td>NaN</td>\n",
       "      <td>Week</td>\n",
       "      <td>No</td>\n",
       "    </tr>\n",
       "    <tr>\n",
       "      <th>4</th>\n",
       "      <td>7</td>\n",
       "      <td>1</td>\n",
       "      <td>0.5:0.5</td>\n",
       "      <td>1.0</td>\n",
       "      <td>0.15150</td>\n",
       "      <td>3.014334</td>\n",
       "      <td>No</td>\n",
       "      <td>132.857143</td>\n",
       "      <td>30.0</td>\n",
       "      <td>2137.0</td>\n",
       "      <td>...</td>\n",
       "      <td>1.265124</td>\n",
       "      <td>yes</td>\n",
       "      <td>NaN</td>\n",
       "      <td>NaN</td>\n",
       "      <td>NaN</td>\n",
       "      <td>NaN</td>\n",
       "      <td>NaN</td>\n",
       "      <td>NaN</td>\n",
       "      <td>Week</td>\n",
       "      <td>Yes</td>\n",
       "    </tr>\n",
       "  </tbody>\n",
       "</table>\n",
       "<p>5 rows × 29 columns</p>\n",
       "</div>"
      ],
      "text/plain": [
       "   Bottle  Exp Brine:ASW  density      Dwi        Ni   P         NO3  NO3-N  \\\n",
       "0       2    1       1:0      1.0  0.15150  3.014334  No  265.714286   60.0   \n",
       "1       3    1       1:0      1.0  0.15825  3.014334  No  265.714286   60.0   \n",
       "2       4    1       1:0      2.0  0.30150  3.014334  No  265.714286   60.0   \n",
       "3       5    1       1:0      2.0  0.30000  3.014334  No  265.714286   60.0   \n",
       "4       7    1   0.5:0.5      1.0  0.15150  3.014334  No  132.857143   30.0   \n",
       "\n",
       "    NO3.1  ...  N_assimilation_day  N_Saturation  Final_NO3  Comment  \\\n",
       "0  4274.0  ...            0.197800           yes        NaN      NaN   \n",
       "1  4274.0  ...            0.349681           yes        NaN      NaN   \n",
       "2  4274.0  ...            0.833286           yes        NaN      NaN   \n",
       "3  4274.0  ...            0.532428           yes        NaN      NaN   \n",
       "4  2137.0  ...            1.265124           yes        NaN      NaN   \n",
       "\n",
       "   NO3_removal  N_removal  N_removal_day  NO3_removal_efficiency  Duration  \\\n",
       "0          NaN        NaN            NaN                     NaN      Week   \n",
       "1          NaN        NaN            NaN                     NaN      Week   \n",
       "2          NaN        NaN            NaN                     NaN      Week   \n",
       "3          NaN        NaN            NaN                     NaN      Week   \n",
       "4          NaN        NaN            NaN                     NaN      Week   \n",
       "\n",
       "   Diluted  \n",
       "0       No  \n",
       "1       No  \n",
       "2       No  \n",
       "3       No  \n",
       "4      Yes  \n",
       "\n",
       "[5 rows x 29 columns]"
      ]
     },
     "execution_count": 4,
     "metadata": {},
     "output_type": "execute_result"
    }
   ],
   "source": [
    "df5.head()"
   ]
  },
  {
   "cell_type": "code",
   "execution_count": 5,
   "metadata": {},
   "outputs": [
    {
     "name": "stdout",
     "output_type": "stream",
     "text": [
      "\n",
      "\n"
     ]
    },
    {
     "data": {
      "text/html": [
       "<div>\n",
       "<style scoped>\n",
       "    .dataframe tbody tr th:only-of-type {\n",
       "        vertical-align: middle;\n",
       "    }\n",
       "\n",
       "    .dataframe tbody tr th {\n",
       "        vertical-align: top;\n",
       "    }\n",
       "\n",
       "    .dataframe thead th {\n",
       "        text-align: right;\n",
       "    }\n",
       "</style>\n",
       "<table border=\"1\" class=\"dataframe\">\n",
       "  <thead>\n",
       "    <tr style=\"text-align: right;\">\n",
       "      <th></th>\n",
       "      <th>N</th>\n",
       "      <th>Mean</th>\n",
       "      <th>SD</th>\n",
       "      <th>SE</th>\n",
       "      <th>95% Conf.</th>\n",
       "      <th>Interval</th>\n",
       "    </tr>\n",
       "    <tr>\n",
       "      <th>Exp</th>\n",
       "      <th></th>\n",
       "      <th></th>\n",
       "      <th></th>\n",
       "      <th></th>\n",
       "      <th></th>\n",
       "      <th></th>\n",
       "    </tr>\n",
       "  </thead>\n",
       "  <tbody>\n",
       "    <tr>\n",
       "      <th>1</th>\n",
       "      <td>12</td>\n",
       "      <td>0.8902</td>\n",
       "      <td>0.4069</td>\n",
       "      <td>0.1175</td>\n",
       "      <td>0.6316</td>\n",
       "      <td>1.1487</td>\n",
       "    </tr>\n",
       "    <tr>\n",
       "      <th>2</th>\n",
       "      <td>11</td>\n",
       "      <td>0.7380</td>\n",
       "      <td>0.4611</td>\n",
       "      <td>0.1390</td>\n",
       "      <td>0.4282</td>\n",
       "      <td>1.0477</td>\n",
       "    </tr>\n",
       "    <tr>\n",
       "      <th>3</th>\n",
       "      <td>7</td>\n",
       "      <td>0.2713</td>\n",
       "      <td>0.6372</td>\n",
       "      <td>0.2408</td>\n",
       "      <td>-0.3179</td>\n",
       "      <td>0.8606</td>\n",
       "    </tr>\n",
       "    <tr>\n",
       "      <th>4</th>\n",
       "      <td>11</td>\n",
       "      <td>0.8397</td>\n",
       "      <td>3.0330</td>\n",
       "      <td>0.9145</td>\n",
       "      <td>-1.1979</td>\n",
       "      <td>2.8774</td>\n",
       "    </tr>\n",
       "    <tr>\n",
       "      <th>5</th>\n",
       "      <td>12</td>\n",
       "      <td>-0.9249</td>\n",
       "      <td>1.7462</td>\n",
       "      <td>0.5041</td>\n",
       "      <td>-2.0344</td>\n",
       "      <td>0.1846</td>\n",
       "    </tr>\n",
       "  </tbody>\n",
       "</table>\n",
       "</div>"
      ],
      "text/plain": [
       "      N    Mean      SD      SE  95% Conf.  Interval\n",
       "Exp                                                 \n",
       "1    12  0.8902  0.4069  0.1175     0.6316    1.1487\n",
       "2    11  0.7380  0.4611  0.1390     0.4282    1.0477\n",
       "3     7  0.2713  0.6372  0.2408    -0.3179    0.8606\n",
       "4    11  0.8397  3.0330  0.9145    -1.1979    2.8774\n",
       "5    12 -0.9249  1.7462  0.5041    -2.0344    0.1846"
      ]
     },
     "execution_count": 5,
     "metadata": {},
     "output_type": "execute_result"
    }
   ],
   "source": [
    "# All normalized N assimilation rate results by exp\n",
    "dall = df5[(np.isnan(df5.N_assimilation_day)!= True)]\n",
    "rp.summary_cont(dall['N_assimilation_day'].groupby(dall['Exp']))"
   ]
  },
  {
   "cell_type": "code",
   "execution_count": 6,
   "metadata": {},
   "outputs": [
    {
     "name": "stdout",
     "output_type": "stream",
     "text": [
      "\n",
      "\n"
     ]
    },
    {
     "data": {
      "text/html": [
       "<div>\n",
       "<style scoped>\n",
       "    .dataframe tbody tr th:only-of-type {\n",
       "        vertical-align: middle;\n",
       "    }\n",
       "\n",
       "    .dataframe tbody tr th {\n",
       "        vertical-align: top;\n",
       "    }\n",
       "\n",
       "    .dataframe thead th {\n",
       "        text-align: right;\n",
       "    }\n",
       "</style>\n",
       "<table border=\"1\" class=\"dataframe\">\n",
       "  <thead>\n",
       "    <tr style=\"text-align: right;\">\n",
       "      <th></th>\n",
       "      <th>N</th>\n",
       "      <th>Mean</th>\n",
       "      <th>SD</th>\n",
       "      <th>SE</th>\n",
       "      <th>95% Conf.</th>\n",
       "      <th>Interval</th>\n",
       "    </tr>\n",
       "    <tr>\n",
       "      <th>P</th>\n",
       "      <th></th>\n",
       "      <th></th>\n",
       "      <th></th>\n",
       "      <th></th>\n",
       "      <th></th>\n",
       "      <th></th>\n",
       "    </tr>\n",
       "  </thead>\n",
       "  <tbody>\n",
       "    <tr>\n",
       "      <th>No</th>\n",
       "      <td>3</td>\n",
       "      <td>0.5856</td>\n",
       "      <td>0.8854</td>\n",
       "      <td>0.5112</td>\n",
       "      <td>-1.6138</td>\n",
       "      <td>2.7851</td>\n",
       "    </tr>\n",
       "    <tr>\n",
       "      <th>Yes</th>\n",
       "      <td>4</td>\n",
       "      <td>0.0356</td>\n",
       "      <td>0.3413</td>\n",
       "      <td>0.1706</td>\n",
       "      <td>-0.5074</td>\n",
       "      <td>0.5786</td>\n",
       "    </tr>\n",
       "  </tbody>\n",
       "</table>\n",
       "</div>"
      ],
      "text/plain": [
       "     N    Mean      SD      SE  95% Conf.  Interval\n",
       "P                                                  \n",
       "No   3  0.5856  0.8854  0.5112    -1.6138    2.7851\n",
       "Yes  4  0.0356  0.3413  0.1706    -0.5074    0.5786"
      ]
     },
     "execution_count": 6,
     "metadata": {},
     "output_type": "execute_result"
    }
   ],
   "source": [
    "#  normalized N assimilation rate results by P (yes/no)\n",
    "dP = df5[(np.isnan(df5.N_assimilation_day)!= True)&(df5['Exp'] == 3)]\n",
    "rp.summary_cont(dP['N_assimilation_day'].groupby(dP['P']))"
   ]
  },
  {
   "cell_type": "code",
   "execution_count": 7,
   "metadata": {},
   "outputs": [
    {
     "name": "stdout",
     "output_type": "stream",
     "text": [
      "\n",
      "\n"
     ]
    },
    {
     "data": {
      "text/html": [
       "<div>\n",
       "<style scoped>\n",
       "    .dataframe tbody tr th:only-of-type {\n",
       "        vertical-align: middle;\n",
       "    }\n",
       "\n",
       "    .dataframe tbody tr th {\n",
       "        vertical-align: top;\n",
       "    }\n",
       "\n",
       "    .dataframe thead th {\n",
       "        text-align: right;\n",
       "    }\n",
       "</style>\n",
       "<table border=\"1\" class=\"dataframe\">\n",
       "  <thead>\n",
       "    <tr style=\"text-align: right;\">\n",
       "      <th></th>\n",
       "      <th>N</th>\n",
       "      <th>Mean</th>\n",
       "      <th>SD</th>\n",
       "      <th>SE</th>\n",
       "      <th>95% Conf.</th>\n",
       "      <th>Interval</th>\n",
       "    </tr>\n",
       "    <tr>\n",
       "      <th>Exp</th>\n",
       "      <th></th>\n",
       "      <th></th>\n",
       "      <th></th>\n",
       "      <th></th>\n",
       "      <th></th>\n",
       "      <th></th>\n",
       "    </tr>\n",
       "  </thead>\n",
       "  <tbody>\n",
       "    <tr>\n",
       "      <th>4</th>\n",
       "      <td>11</td>\n",
       "      <td>0.8397</td>\n",
       "      <td>3.0330</td>\n",
       "      <td>0.9145</td>\n",
       "      <td>-1.1979</td>\n",
       "      <td>2.8774</td>\n",
       "    </tr>\n",
       "    <tr>\n",
       "      <th>5</th>\n",
       "      <td>12</td>\n",
       "      <td>-0.9249</td>\n",
       "      <td>1.7462</td>\n",
       "      <td>0.5041</td>\n",
       "      <td>-2.0344</td>\n",
       "      <td>0.1846</td>\n",
       "    </tr>\n",
       "  </tbody>\n",
       "</table>\n",
       "</div>"
      ],
      "text/plain": [
       "      N    Mean      SD      SE  95% Conf.  Interval\n",
       "Exp                                                 \n",
       "4    11  0.8397  3.0330  0.9145    -1.1979    2.8774\n",
       "5    12 -0.9249  1.7462  0.5041    -2.0344    0.1846"
      ]
     },
     "execution_count": 7,
     "metadata": {},
     "output_type": "execute_result"
    }
   ],
   "source": [
    "#  normalized N assimilation rate results by P (yes/no)\n",
    "dDur = df5[(np.isnan(df5.N_assimilation_day)!= True)&(df5['Duration'] == 'Day')]\n",
    "rp.summary_cont(dDur['N_assimilation_day'].groupby(dDur['Exp']))"
   ]
  },
  {
   "cell_type": "code",
   "execution_count": 8,
   "metadata": {},
   "outputs": [
    {
     "name": "stdout",
     "output_type": "stream",
     "text": [
      "\n",
      "\n"
     ]
    },
    {
     "data": {
      "text/html": [
       "<div>\n",
       "<style scoped>\n",
       "    .dataframe tbody tr th:only-of-type {\n",
       "        vertical-align: middle;\n",
       "    }\n",
       "\n",
       "    .dataframe tbody tr th {\n",
       "        vertical-align: top;\n",
       "    }\n",
       "\n",
       "    .dataframe thead th {\n",
       "        text-align: right;\n",
       "    }\n",
       "</style>\n",
       "<table border=\"1\" class=\"dataframe\">\n",
       "  <thead>\n",
       "    <tr style=\"text-align: right;\">\n",
       "      <th></th>\n",
       "      <th>N</th>\n",
       "      <th>Mean</th>\n",
       "      <th>SD</th>\n",
       "      <th>SE</th>\n",
       "      <th>95% Conf.</th>\n",
       "      <th>Interval</th>\n",
       "    </tr>\n",
       "    <tr>\n",
       "      <th>Exp</th>\n",
       "      <th></th>\n",
       "      <th></th>\n",
       "      <th></th>\n",
       "      <th></th>\n",
       "      <th></th>\n",
       "      <th></th>\n",
       "    </tr>\n",
       "  </thead>\n",
       "  <tbody>\n",
       "    <tr>\n",
       "      <th>4</th>\n",
       "      <td>11</td>\n",
       "      <td>13.7038</td>\n",
       "      <td>8.0913</td>\n",
       "      <td>2.4396</td>\n",
       "      <td>8.2681</td>\n",
       "      <td>19.1396</td>\n",
       "    </tr>\n",
       "    <tr>\n",
       "      <th>5</th>\n",
       "      <td>12</td>\n",
       "      <td>5.4264</td>\n",
       "      <td>5.6212</td>\n",
       "      <td>1.6227</td>\n",
       "      <td>1.8548</td>\n",
       "      <td>8.9980</td>\n",
       "    </tr>\n",
       "  </tbody>\n",
       "</table>\n",
       "</div>"
      ],
      "text/plain": [
       "      N     Mean      SD      SE  95% Conf.  Interval\n",
       "Exp                                                  \n",
       "4    11  13.7038  8.0913  2.4396     8.2681   19.1396\n",
       "5    12   5.4264  5.6212  1.6227     1.8548    8.9980"
      ]
     },
     "execution_count": 8,
     "metadata": {},
     "output_type": "execute_result"
    }
   ],
   "source": [
    "#  normalized N assimilation rate results by P (yes/no)\n",
    "dDur = df5[(np.isnan(df5.N_assimilation_day)!= True)&(df5['Duration'] == 'Day')]\n",
    "rp.summary_cont(dDur['N_removal_day'].groupby(dDur['Exp']))"
   ]
  },
  {
   "cell_type": "code",
   "execution_count": 9,
   "metadata": {},
   "outputs": [
    {
     "name": "stdout",
     "output_type": "stream",
     "text": [
      "\n",
      "\n"
     ]
    },
    {
     "data": {
      "text/html": [
       "<div>\n",
       "<style scoped>\n",
       "    .dataframe tbody tr th:only-of-type {\n",
       "        vertical-align: middle;\n",
       "    }\n",
       "\n",
       "    .dataframe tbody tr th {\n",
       "        vertical-align: top;\n",
       "    }\n",
       "\n",
       "    .dataframe thead th {\n",
       "        text-align: right;\n",
       "    }\n",
       "</style>\n",
       "<table border=\"1\" class=\"dataframe\">\n",
       "  <thead>\n",
       "    <tr style=\"text-align: right;\">\n",
       "      <th></th>\n",
       "      <th>N</th>\n",
       "      <th>Mean</th>\n",
       "      <th>SD</th>\n",
       "      <th>SE</th>\n",
       "      <th>95% Conf.</th>\n",
       "      <th>Interval</th>\n",
       "    </tr>\n",
       "    <tr>\n",
       "      <th>P</th>\n",
       "      <th></th>\n",
       "      <th></th>\n",
       "      <th></th>\n",
       "      <th></th>\n",
       "      <th></th>\n",
       "      <th></th>\n",
       "    </tr>\n",
       "  </thead>\n",
       "  <tbody>\n",
       "    <tr>\n",
       "      <th>No</th>\n",
       "      <td>3</td>\n",
       "      <td>0.0989</td>\n",
       "      <td>0.1083</td>\n",
       "      <td>0.0625</td>\n",
       "      <td>-0.1702</td>\n",
       "      <td>0.3680</td>\n",
       "    </tr>\n",
       "    <tr>\n",
       "      <th>Yes</th>\n",
       "      <td>3</td>\n",
       "      <td>0.0441</td>\n",
       "      <td>0.0520</td>\n",
       "      <td>0.0300</td>\n",
       "      <td>-0.0851</td>\n",
       "      <td>0.1733</td>\n",
       "    </tr>\n",
       "  </tbody>\n",
       "</table>\n",
       "</div>"
      ],
      "text/plain": [
       "     N    Mean      SD      SE  95% Conf.  Interval\n",
       "P                                                  \n",
       "No   3  0.0989  0.1083  0.0625    -0.1702    0.3680\n",
       "Yes  3  0.0441  0.0520  0.0300    -0.0851    0.1733"
      ]
     },
     "execution_count": 9,
     "metadata": {},
     "output_type": "execute_result"
    }
   ],
   "source": [
    "#  DGR results by P (yes/no)\n",
    "dP = df5[(np.isnan(df5.N_assimilation_day)!= True)&(df5['Exp'] == 3)]\n",
    "rp.summary_cont(dP['DGR'].groupby(dP['P']))"
   ]
  },
  {
   "cell_type": "code",
   "execution_count": 10,
   "metadata": {},
   "outputs": [
    {
     "name": "stdout",
     "output_type": "stream",
     "text": [
      "\n",
      "\n"
     ]
    },
    {
     "name": "stderr",
     "output_type": "stream",
     "text": [
      "C:\\Users\\meiro\\Anaconda3new\\lib\\site-packages\\scipy\\stats\\_distn_infrastructure.py:2003: RuntimeWarning: invalid value encountered in multiply\n",
      "  lower_bound = _a * scale + loc\n",
      "C:\\Users\\meiro\\Anaconda3new\\lib\\site-packages\\scipy\\stats\\_distn_infrastructure.py:2004: RuntimeWarning: invalid value encountered in multiply\n",
      "  upper_bound = _b * scale + loc\n"
     ]
    },
    {
     "data": {
      "text/html": [
       "<div>\n",
       "<style scoped>\n",
       "    .dataframe tbody tr th:only-of-type {\n",
       "        vertical-align: middle;\n",
       "    }\n",
       "\n",
       "    .dataframe tbody tr th {\n",
       "        vertical-align: top;\n",
       "    }\n",
       "\n",
       "    .dataframe thead th {\n",
       "        text-align: right;\n",
       "    }\n",
       "</style>\n",
       "<table border=\"1\" class=\"dataframe\">\n",
       "  <thead>\n",
       "    <tr style=\"text-align: right;\">\n",
       "      <th></th>\n",
       "      <th>N</th>\n",
       "      <th>Mean</th>\n",
       "      <th>SD</th>\n",
       "      <th>SE</th>\n",
       "      <th>95% Conf.</th>\n",
       "      <th>Interval</th>\n",
       "    </tr>\n",
       "    <tr>\n",
       "      <th>density</th>\n",
       "      <th></th>\n",
       "      <th></th>\n",
       "      <th></th>\n",
       "      <th></th>\n",
       "      <th></th>\n",
       "      <th></th>\n",
       "    </tr>\n",
       "  </thead>\n",
       "  <tbody>\n",
       "    <tr>\n",
       "      <th>0.0</th>\n",
       "      <td>6</td>\n",
       "      <td>0.0000</td>\n",
       "      <td>0.0000</td>\n",
       "      <td>0.0000</td>\n",
       "      <td>NaN</td>\n",
       "      <td>NaN</td>\n",
       "    </tr>\n",
       "    <tr>\n",
       "      <th>1.0</th>\n",
       "      <td>6</td>\n",
       "      <td>0.8080</td>\n",
       "      <td>0.4736</td>\n",
       "      <td>0.1933</td>\n",
       "      <td>0.3110</td>\n",
       "      <td>1.3050</td>\n",
       "    </tr>\n",
       "    <tr>\n",
       "      <th>2.0</th>\n",
       "      <td>25</td>\n",
       "      <td>0.4443</td>\n",
       "      <td>1.2770</td>\n",
       "      <td>0.2554</td>\n",
       "      <td>-0.0828</td>\n",
       "      <td>0.9714</td>\n",
       "    </tr>\n",
       "    <tr>\n",
       "      <th>3.0</th>\n",
       "      <td>4</td>\n",
       "      <td>0.7975</td>\n",
       "      <td>0.4049</td>\n",
       "      <td>0.2025</td>\n",
       "      <td>0.1532</td>\n",
       "      <td>1.4418</td>\n",
       "    </tr>\n",
       "    <tr>\n",
       "      <th>5.0</th>\n",
       "      <td>6</td>\n",
       "      <td>-0.0369</td>\n",
       "      <td>1.4510</td>\n",
       "      <td>0.5924</td>\n",
       "      <td>-1.5597</td>\n",
       "      <td>1.4858</td>\n",
       "    </tr>\n",
       "    <tr>\n",
       "      <th>7.5</th>\n",
       "      <td>3</td>\n",
       "      <td>-0.5096</td>\n",
       "      <td>2.9461</td>\n",
       "      <td>1.7009</td>\n",
       "      <td>-7.8280</td>\n",
       "      <td>6.8089</td>\n",
       "    </tr>\n",
       "    <tr>\n",
       "      <th>10.0</th>\n",
       "      <td>3</td>\n",
       "      <td>0.4804</td>\n",
       "      <td>6.4977</td>\n",
       "      <td>3.7515</td>\n",
       "      <td>-15.6609</td>\n",
       "      <td>16.6217</td>\n",
       "    </tr>\n",
       "  </tbody>\n",
       "</table>\n",
       "</div>"
      ],
      "text/plain": [
       "          N    Mean      SD      SE  95% Conf.  Interval\n",
       "density                                                 \n",
       "0.0       6  0.0000  0.0000  0.0000        NaN       NaN\n",
       "1.0       6  0.8080  0.4736  0.1933     0.3110    1.3050\n",
       "2.0      25  0.4443  1.2770  0.2554    -0.0828    0.9714\n",
       "3.0       4  0.7975  0.4049  0.2025     0.1532    1.4418\n",
       "5.0       6 -0.0369  1.4510  0.5924    -1.5597    1.4858\n",
       "7.5       3 -0.5096  2.9461  1.7009    -7.8280    6.8089\n",
       "10.0      3  0.4804  6.4977  3.7515   -15.6609   16.6217"
      ]
     },
     "execution_count": 10,
     "metadata": {},
     "output_type": "execute_result"
    }
   ],
   "source": [
    "rp.summary_cont(dall['N_assimilation_day'].groupby(dall['density']))"
   ]
  },
  {
   "cell_type": "code",
   "execution_count": 11,
   "metadata": {},
   "outputs": [
    {
     "data": {
      "text/plain": [
       "MannwhitneyuResult(statistic=89.0, pvalue=0.00029663038866156765)"
      ]
     },
     "execution_count": 11,
     "metadata": {},
     "output_type": "execute_result"
    }
   ],
   "source": [
    "# Mann-Whitney U Test between dliuted and non-diluted brine - N_assimilation_day\n",
    "stats.mannwhitneyu(dall[(dall.density != 0)&(dall.Diluted == 'Yes')].N_assimilation_day, dall[(dall.density != 0)&(dall.Diluted == 'No')].N_assimilation_day)"
   ]
  },
  {
   "cell_type": "code",
   "execution_count": 12,
   "metadata": {},
   "outputs": [
    {
     "data": {
      "text/plain": [
       "<seaborn.axisgrid.FacetGrid at 0x26728886e10>"
      ]
     },
     "execution_count": 12,
     "metadata": {},
     "output_type": "execute_result"
    },
    {
     "data": {
      "image/png": "[encoded data removed]",
      "text/plain": [
       "<Figure size 360x360 with 1 Axes>"
      ]
     },
     "metadata": {
      "needs_background": "light"
     },
     "output_type": "display_data"
    }
   ],
   "source": [
    "# N_assimilation_day in different dilutions (Yes/No)\n",
    "sns.set_context(\"paper\", rc={\"font.size\":16,\"axes.titlesize\":16,\"axes.labelsize\":16}) \n",
    "\n",
    "# combined strip plot - all data\n",
    "#dall_ND = dall[(dall.Diluted == 'Yes')]\n",
    "fig = sns.catplot(x = 'Diluted', y = 'N_assimilation_day', data = dall[(dall.density != 0)],kind='box').set(xlabel='Dilution', ylabel='Normalized N assimilation\\n [mg-N $L^{-1}$ $day^{-1}$]')\n",
    "fig.set_xticklabels(['No', 'Yes'],fontdict= { 'fontsize': 14, 'fontweight':'bold','color': 'k'})\n",
    "#fig.set_ylabel(['No', 'Yes'],fontdict= { 'fontsize': 14, 'fontweight':'bold','color': 'k'})\n",
    "\n",
    "#fig = sns.stripplot(x = 'Diluted', y = 'N_assimilation_day', data = dall,color='k',hue='Duration').set(xlabel='Dilution', ylabel='normalized N assimilation\\n [mg-N $L^{-1}$ $day^{-1}$]')"
   ]
  },
  {
   "cell_type": "code",
   "execution_count": 13,
   "metadata": {},
   "outputs": [
    {
     "data": {
      "text/plain": [
       "<seaborn.axisgrid.FacetGrid at 0x267291dbef0>"
      ]
     },
     "execution_count": 13,
     "metadata": {},
     "output_type": "execute_result"
    },
    {
     "data": {
      "image/png": "[encoded data removed]",
      "text/plain": [
       "<Figure size 360x360 with 1 Axes>"
      ]
     },
     "metadata": {
      "needs_background": "light"
     },
     "output_type": "display_data"
    }
   ],
   "source": [
    "# N_assimilation_day in different dilutions (Yes/No)\n",
    "sns.set_context(\"paper\", rc={\"font.size\":16,\"axes.titlesize\":16,\"axes.labelsize\":16}) \n",
    "\n",
    "# combined strip plot - all data\n",
    "#dall_ND = dall[(dall.Diluted == 'Yes')]\n",
    "fig = sns.catplot(x = 'Diluted', y = 'N_assimilation_day', data = dall[(dall.Duration == 'Week')&(dall.density != 0)],kind='box').set(xlabel='Dilution', ylabel='Normalized N assimilation\\n [mg-N $L^{-1}$ $day^{-1}$]')\n",
    "fig.set_xticklabels(['No', 'Yes'],fontdict= { 'fontsize': 14, 'fontweight':'bold','color': 'k'})\n",
    "#fig.set_ylabel(['No', 'Yes'],fontdict= { 'fontsize': 14, 'fontweight':'bold','color': 'k'})\n",
    "\n",
    "#fig = sns.stripplot(x = 'Diluted', y = 'N_assimilation_day', data = dall,color='k',hue='Duration').set(xlabel='Dilution', ylabel='normalized N assimilation\\n [mg-N $L^{-1}$ $day^{-1}$]')"
   ]
  },
  {
   "cell_type": "code",
   "execution_count": 14,
   "metadata": {},
   "outputs": [
    {
     "data": {
      "text/plain": [
       "<seaborn.axisgrid.FacetGrid at 0x2672889d668>"
      ]
     },
     "execution_count": 14,
     "metadata": {},
     "output_type": "execute_result"
    },
    {
     "data": {
      "image/png": "[encoded data removed]",
      "text/plain": [
       "<Figure size 360x360 with 1 Axes>"
      ]
     },
     "metadata": {
      "needs_background": "light"
     },
     "output_type": "display_data"
    }
   ],
   "source": [
    "# N_assimilation_day in different dilutions (Yes/No)\n",
    "sns.set_context(\"paper\", rc={\"font.size\":16,\"axes.titlesize\":16,\"axes.labelsize\":16}) \n",
    "\n",
    "# combined strip plot - all data\n",
    "#dall_ND = dall[(dall.Diluted == 'Yes')]\n",
    "fig = sns.catplot(x = 'Diluted', y = 'Yield', data = dall[(dall.Duration == 'Week')&(dall.density != 0)],kind='box').set(xlabel='Dilution', ylabel='Yield\\n [g DW $m^{-3}$ $day^{-1}$]')\n",
    "fig.set_xticklabels(['No', 'Yes'],fontdict= { 'fontsize': 14, 'fontweight':'bold','color': 'k'})\n",
    "#fig.set_ylabel(['No', 'Yes'],fontdict= { 'fontsize': 14, 'fontweight':'bold','color': 'k'})\n",
    "\n",
    "#fig = sns.stripplot(x = 'Diluted', y = 'N_assimilation_day', data = dall,color='k',hue='Duration').set(xlabel='Dilution', ylabel='normalized N assimilation\\n [mg-N $L^{-1}$ $day^{-1}$]')"
   ]
  },
  {
   "cell_type": "code",
   "execution_count": 15,
   "metadata": {},
   "outputs": [
    {
     "data": {
      "text/plain": [
       "<seaborn.axisgrid.FacetGrid at 0x267293cffd0>"
      ]
     },
     "execution_count": 15,
     "metadata": {},
     "output_type": "execute_result"
    },
    {
     "data": {
      "image/png": "[encoded data removed]",
      "text/plain": [
       "<Figure size 433.68x360 with 1 Axes>"
      ]
     },
     "metadata": {
      "needs_background": "light"
     },
     "output_type": "display_data"
    }
   ],
   "source": [
    "# N_assimilation_day in different densities\n",
    "sns.set_context(\"paper\", rc={\"font.size\":16,\"axes.titlesize\":16,\"axes.labelsize\":16}) \n",
    "\n",
    "# combined strip plot - all data\n",
    "#dall_ND = dall[(dall.Diluted == 'Yes')]\n",
    "fig = sns.catplot(x = 'density', y = 'N_assimilation_day', data = dall[(dall.Duration == 'Week')&(dall.density != 0)],kind='box',hue = 'Brine:ASW').set(xlabel='Density', ylabel='Normalized N assimilation\\n [mg-N $L^{-1}$ $day^{-1}$]')\n",
    "fig.set_xticklabels(['1', '2','3'],fontdict= { 'fontsize': 14, 'fontweight':'bold','color': 'k'})\n",
    "#fig.set_ylabel(['No', 'Yes'],fontdict= { 'fontsize': 14, 'fontweight':'bold','color': 'k'})\n",
    "\n",
    "#fig = sns.stripplot(x = 'Diluted', y = 'N_assimilation_day', data = dall,color='k',hue='Duration').set(xlabel='Dilution', ylabel='normalized N assimilation\\n [mg-N $L^{-1}$ $day^{-1}$]')"
   ]
  },
  {
   "cell_type": "code",
   "execution_count": 16,
   "metadata": {},
   "outputs": [
    {
     "data": {
      "text/plain": [
       "<seaborn.axisgrid.FacetGrid at 0x26729569470>"
      ]
     },
     "execution_count": 16,
     "metadata": {},
     "output_type": "execute_result"
    },
    {
     "data": {
      "image/png": "[encoded data removed]",
      "text/plain": [
       "<Figure size 360x360 with 1 Axes>"
      ]
     },
     "metadata": {
      "needs_background": "light"
     },
     "output_type": "display_data"
    }
   ],
   "source": [
    "# N_assimilation_day in different densities\n",
    "sns.set_context(\"paper\", rc={\"font.size\":16,\"axes.titlesize\":16,\"axes.labelsize\":16}) \n",
    "\n",
    "# combined strip plot - all data\n",
    "#dall_ND = dall[(dall.Diluted == 'Yes')]\n",
    "fig = sns.catplot(x = 'density', y = 'Yield', data = dall[(dall.Duration == 'Week')&(dall.density != 0)],kind='box').set(xlabel='Density', ylabel='Normalized N assimilation\\n [mg-N $L^{-1}$ $day^{-1}$]')\n",
    "fig.set_xticklabels(['1', '2','3'],fontdict= { 'fontsize': 14, 'fontweight':'bold','color': 'k'})\n",
    "#fig.set_ylabel(['No', 'Yes'],fontdict= { 'fontsize': 14, 'fontweight':'bold','color': 'k'})\n",
    "\n",
    "#fig = sns.stripplot(x = 'Diluted', y = 'N_assimilation_day', data = dall,color='k',hue='Duration').set(xlabel='Dilution', ylabel='normalized N assimilation\\n [mg-N $L^{-1}$ $day^{-1}$]')"
   ]
  },
  {
   "cell_type": "code",
   "execution_count": 17,
   "metadata": {},
   "outputs": [
    {
     "data": {
      "text/plain": [
       "MannwhitneyuResult(statistic=210.0, pvalue=0.13454459643292188)"
      ]
     },
     "execution_count": 17,
     "metadata": {},
     "output_type": "execute_result"
    }
   ],
   "source": [
    "# Mann-Whitney U Test between 1-day and 1-week treatments (all densities except 0) - N_assimilation_day\n",
    "\n",
    "stats.mannwhitneyu(dall[(dall.density != 0)&(dall.Duration == 'Day')].N_assimilation_day, dall[(dall.density != 0)&(dall.Duration == 'Week')].N_assimilation_day)"
   ]
  },
  {
   "cell_type": "code",
   "execution_count": 18,
   "metadata": {},
   "outputs": [
    {
     "data": {
      "image/png": "[encoded data removed]",
      "text/plain": [
       "<Figure size 360x360 with 1 Axes>"
      ]
     },
     "metadata": {
      "needs_background": "light"
     },
     "output_type": "display_data"
    }
   ],
   "source": [
    "# N_assimilation_day in different durations - all densities except 0\n",
    "sns.set_context(\"paper\", rc={\"font.size\":16,\"axes.titlesize\":16,\"axes.labelsize\":16}) \n",
    "\n",
    "# combined strip plot - all data\n",
    "#dall_ND = dall[(dall.Diluted == 'Yes')]\n",
    "fig = sns.catplot(x = 'Duration', y = 'N_assimilation_day', data = dall[(dall.density != 0)],kind='box')\n",
    "fig.set_xticklabels(['Day', 'Week'],fontdict= { 'fontsize': 14, 'fontweight':'bold','color': 'k'})\n",
    "fig = sns.stripplot(x = 'Duration', y = 'N_assimilation_day', data = dall[(dall.density != 0)],color='k').set(xlabel='Duration', ylabel='Normalized N assimilation\\n [mg-N $L^{-1}$ $day^{-1}$]')"
   ]
  },
  {
   "cell_type": "code",
   "execution_count": 19,
   "metadata": {},
   "outputs": [
    {
     "data": {
      "text/plain": [
       "MannwhitneyuResult(statistic=76.0, pvalue=0.12889074113731785)"
      ]
     },
     "execution_count": 19,
     "metadata": {},
     "output_type": "execute_result"
    }
   ],
   "source": [
    "# Mann-Whitney U Test between 1-day and 1-week treatments (only diluted, all densities except 0) - N_assimilation_day\n",
    "\n",
    "stats.mannwhitneyu(dall[(dall.density != 0)&(dall.Duration == 'Day')&(dall.Diluted == 'Yes')].N_assimilation_day, dall[(dall.density != 0)&(dall.Duration == 'Week')&(dall.Diluted == 'Yes')].N_assimilation_day)"
   ]
  },
  {
   "cell_type": "code",
   "execution_count": 20,
   "metadata": {
    "scrolled": true
   },
   "outputs": [
    {
     "data": {
      "image/png": "[encoded data removed]",
      "text/plain": [
       "<Figure size 360x360 with 1 Axes>"
      ]
     },
     "metadata": {
      "needs_background": "light"
     },
     "output_type": "display_data"
    }
   ],
   "source": [
    "# N_assimilation_day in different durations - all densities except 0\n",
    "sns.set_context(\"paper\", rc={\"font.size\":16,\"axes.titlesize\":16,\"axes.labelsize\":16}) \n",
    "\n",
    "# combined strip plot - all data\n",
    "dall_ND = dall[(dall.density != 0)&(dall.Diluted == 'Yes')]\n",
    "fig = sns.catplot(x = 'Duration', y = 'N_assimilation_day', data = dall_ND,kind='box')\n",
    "fig.set_xticklabels(['Day', 'Week'],fontdict= { 'fontsize': 14, 'fontweight':'bold','color': 'k'})\n",
    "fig = sns.stripplot(x = 'Duration', y = 'N_assimilation_day', data = dall_ND,color='k').set(xlabel='Duration', ylabel='Normalized N assimilation\\n [mg-N $L^{-1}$ $day^{-1}$]')"
   ]
  },
  {
   "cell_type": "code",
   "execution_count": 21,
   "metadata": {},
   "outputs": [
    {
     "data": {
      "text/plain": [
       "MannwhitneyuResult(statistic=14.0, pvalue=1.528192669806368e-06)"
      ]
     },
     "execution_count": 21,
     "metadata": {},
     "output_type": "execute_result"
    }
   ],
   "source": [
    "# Mann-Whitney U Test between N_assimilation_day and N_removal_day - all densities\n",
    "#dall = df5[(np.isnan(dfall.N_assimilation_day)!= True)]\n",
    "stats.mannwhitneyu(dall[(dall.density != 0)&(np.isnan(dall.N_removal_day)!= True)].N_assimilation_day, dall[(dall.density != 0)&(np.isnan(dall.N_removal_day)!= True)].N_removal_day)"
   ]
  },
  {
   "cell_type": "code",
   "execution_count": 22,
   "metadata": {},
   "outputs": [
    {
     "data": {
      "text/plain": [
       "MannwhitneyuResult(statistic=4.0, pvalue=0.015319493968851633)"
      ]
     },
     "execution_count": 22,
     "metadata": {},
     "output_type": "execute_result"
    }
   ],
   "source": [
    "# Mann-Whitney U Test between N_assimilation_day and N_removal_day - density <= 2g FW / l\n",
    "#dall = df5[(np.isnan(dfall.N_assimilation_day)!= True)]\n",
    "stats.mannwhitneyu(dall[(dall.density != 0)&(np.isnan(dall.N_removal_day)!= True)&(dall.density <= 2)].N_assimilation_day, dall[(dall.density != 0)&(np.isnan(dall.N_removal_day)!= True)&(dall.density < 5)].N_removal_day)"
   ]
  },
  {
   "cell_type": "code",
   "execution_count": 23,
   "metadata": {},
   "outputs": [
    {
     "data": {
      "text/plain": [
       "Text(0.5, 1.0, 'N assimilation vs removal')"
      ]
     },
     "execution_count": 23,
     "metadata": {},
     "output_type": "execute_result"
    },
    {
     "data": {
      "image/png": "[encoded data removed]",
      "text/plain": [
       "<Figure size 432x288 with 1 Axes>"
      ]
     },
     "metadata": {
      "needs_background": "light"
     },
     "output_type": "display_data"
    }
   ],
   "source": [
    "# comparison between assimilation and removal\n",
    "x1 = dall[(dall.density != 0)&(np.isnan(dall.N_removal_day)!= True)].N_assimilation_day\n",
    "x2 = dall[(dall.density != 0)&(np.isnan(dall.N_removal_day)!= True)].N_removal_day\n",
    "x = [x1,x2]\n",
    "plt.boxplot(x)\n",
    "\n",
    "# x-axis labels\n",
    "#ax.set_xticklabels(['N_assimilation', 'N_removal'])\n",
    "\n",
    "# Adding title\n",
    "plt.title(\"N assimilation vs removal\")\n",
    "\n",
    "     \n",
    "# show plot\n",
    "#plt.show(ax)"
   ]
  },
  {
   "cell_type": "code",
   "execution_count": 24,
   "metadata": {},
   "outputs": [
    {
     "data": {
      "text/plain": [
       "KruskalResult(statistic=1.1228260869565219, pvalue=0.5704024906021594)"
      ]
     },
     "execution_count": 24,
     "metadata": {},
     "output_type": "execute_result"
    }
   ],
   "source": [
    "# kruskal test - comparing daily N assimilation rate in different densities (diluted, week duration)\n",
    "d = dall[(np.isnan(dall.N_assimilation_day)!= True)&(dall['Diluted']=='Yes')]\n",
    "sp.stats.kruskal(d[(d['Duration'] == 'Week')&(d['density'] == 1)]['N_assimilation_day'],\n",
    "                d[(d['Duration'] == 'Week')&(d['density'] == 2)]['N_assimilation_day'],\n",
    "                d[(d['Duration'] == 'Week')&(d['density'] == 3)]['N_assimilation_day'])\n",
    "\n",
    "# There is a significant difference between fluxes"
   ]
  },
  {
   "cell_type": "code",
   "execution_count": 25,
   "metadata": {},
   "outputs": [
    {
     "data": {
      "text/plain": [
       "KruskalResult(statistic=0.8848417408506335, pvalue=0.6424791780608364)"
      ]
     },
     "execution_count": 25,
     "metadata": {},
     "output_type": "execute_result"
    }
   ],
   "source": [
    "# kruskal test - comparing yield in different densities (diluted, week duration)\n",
    "d = dall[(np.isnan(dall.N_assimilation_day)!= True)&(dall['Diluted']=='Yes')]\n",
    "sp.stats.kruskal(d[(d['Duration'] == 'Week')&(d['density'] == 1)]['Yield'],\n",
    "                d[(d['Duration'] == 'Week')&(d['density'] == 2)]['Yield'],\n",
    "                d[(d['Duration'] == 'Week')&(d['density'] == 3)]['Yield'])\n",
    "\n",
    "# There is a significant difference between fluxes"
   ]
  },
  {
   "cell_type": "code",
   "execution_count": 26,
   "metadata": {},
   "outputs": [
    {
     "data": {
      "text/plain": [
       "KruskalResult(statistic=2.2499239138704947, pvalue=0.5221819714304328)"
      ]
     },
     "execution_count": 26,
     "metadata": {},
     "output_type": "execute_result"
    }
   ],
   "source": [
    "# kruskal test - comparing yield in different densities (diluted, week duration)\n",
    "d = dall[(np.isnan(dall.Yield)!= True)&(dall['Diluted']=='Yes')]\n",
    "sp.stats.kruskal(d[(d['Duration'] == 'Week')&(d['Brine:ASW'] == '0.5:0.5')]['Yield'],\n",
    "                d[(d['Duration'] == 'Week')&(d['Brine:ASW'] == '0.33:0.67')]['Yield'],\n",
    "                d[(d['Duration'] == 'Week')&(d['Brine:ASW'] == '0.67:0.33')]['Yield'],\n",
    "                d[(d['Duration'] == 'Week')&(d['Brine:ASW'] == '1:0+salt')]['Yield'])\n",
    "\n",
    "# There is a significant difference between fluxes\n",
    "#d"
   ]
  },
  {
   "cell_type": "code",
   "execution_count": 27,
   "metadata": {},
   "outputs": [
    {
     "data": {
      "text/plain": [
       "KruskalResult(statistic=0.6428571428571388, pvalue=0.8865548644479578)"
      ]
     },
     "execution_count": 27,
     "metadata": {},
     "output_type": "execute_result"
    }
   ],
   "source": [
    "# kruskal test - comparing yield in different densities (diluted, week duration)\n",
    "d = dall[(np.isnan(dall.N_assimilation_day)!= True)&(dall['Diluted']=='Yes')]\n",
    "sp.stats.kruskal(d[(d['Duration'] == 'Week')&(d['Brine:ASW'] == '0.5:0.5')]['N_assimilation_day'],\n",
    "                d[(d['Duration'] == 'Week')&(d['Brine:ASW'] == '0.33:0.67')]['N_assimilation_day'],\n",
    "                d[(d['Duration'] == 'Week')&(d['Brine:ASW'] == '0.67:0.33')]['N_assimilation_day'],\n",
    "                d[(d['Duration'] == 'Week')&(d['Brine:ASW'] == '1:0+salt')]['N_assimilation_day'])\n",
    "\n",
    "# There is a significant difference between fluxes\n",
    "#d"
   ]
  },
  {
   "cell_type": "code",
   "execution_count": 28,
   "metadata": {},
   "outputs": [
    {
     "data": {
      "text/plain": [
       "KruskalResult(statistic=9.452054794520553, pvalue=0.02384692526594434)"
      ]
     },
     "execution_count": 28,
     "metadata": {},
     "output_type": "execute_result"
    }
   ],
   "source": [
    "# kruskal test - comparing daily N removal rate in different densities (diluted)\n",
    "d = dall[(np.isnan(dall.N_removal_day)!= True)&(dall['Diluted']=='Yes')]\n",
    "sp.stats.kruskal(d[(d['Duration'] == 'Day')&(d['density'] == 0)]['N_removal_day'],\n",
    "                d[(d['Duration'] == 'Day')&(d['density'] == 2)]['N_removal_day'],\n",
    "                d[(d['Duration'] == 'Day')&(d['density'] == 5)]['N_removal_day'],\n",
    "                d[(d['Duration'] == 'Day')&(d['density'] == 10)]['N_removal_day'])\n",
    "\n",
    "# There is a significant difference between fluxes"
   ]
  },
  {
   "cell_type": "code",
   "execution_count": 29,
   "metadata": {},
   "outputs": [
    {
     "data": {
      "text/plain": [
       "KruskalResult(statistic=9.512820512820511, pvalue=0.02319536210572101)"
      ]
     },
     "execution_count": 29,
     "metadata": {},
     "output_type": "execute_result"
    }
   ],
   "source": [
    "# kruskal test - comparing daily N removal rate in different densities (non-diluted)\n",
    "d = dall[(np.isnan(dall.N_removal_day)!= True)&(dall['Diluted']=='No')]\n",
    "sp.stats.kruskal(d[(d['Duration'] == 'Day')&(d['density'] == 0)]['N_removal_day'],\n",
    "                d[(d['Duration'] == 'Day')&(d['density'] == 2)]['N_removal_day'],\n",
    "                d[(d['Duration'] == 'Day')&(d['density'] == 5)]['N_removal_day'],\n",
    "                d[(d['Duration'] == 'Day')&(d['density'] == 7.5)]['N_removal_day'])\n",
    "\n",
    "# There is a significant difference between fluxes"
   ]
  },
  {
   "cell_type": "code",
   "execution_count": 30,
   "metadata": {},
   "outputs": [
    {
     "data": {
      "text/plain": [
       "Text(0.5, 1.0, 'Daily N removal for different densities')"
      ]
     },
     "execution_count": 30,
     "metadata": {},
     "output_type": "execute_result"
    },
    {
     "data": {
      "image/png": "[encoded data removed]",
      "text/plain": [
       "<Figure size 432x288 with 1 Axes>"
      ]
     },
     "metadata": {
      "needs_background": "light"
     },
     "output_type": "display_data"
    }
   ],
   "source": [
    "# comparison between removal in different densities\n",
    "x1 = dall[(np.isnan(dall.N_removal_day)!= True)&(dall.density == 0)].N_removal_day\n",
    "x2 = dall[(np.isnan(dall.N_removal_day)!= True)&(dall.density == 2)].N_removal_day\n",
    "x3 = dall[(np.isnan(dall.N_removal_day)!= True)&(dall.density == 5)].N_removal_day\n",
    "x4 = dall[(np.isnan(dall.N_removal_day)!= True)&(dall.density == 7.5)].N_removal_day\n",
    "x5 = dall[(np.isnan(dall.N_removal_day)!= True)&(dall.density == 10)].N_removal_day\n",
    "\n",
    "x = [x1,x2,x3,x4,x5]\n",
    "ax = plt.boxplot(x)\n",
    "\n",
    "# x-axis labels\n",
    "#ax.set_xticklabels(['0','2', '5','10'])\n",
    "\n",
    "# Adding title\n",
    "plt.title(\"Daily N removal for different densities\")\n",
    "\n",
    "     \n",
    "# show plot\n",
    "#plt.show(ax)"
   ]
  },
  {
   "cell_type": "code",
   "execution_count": null,
   "metadata": {},
   "outputs": [],
   "source": []
  },
  {
   "cell_type": "code",
   "execution_count": 31,
   "metadata": {},
   "outputs": [
    {
     "data": {
      "text/plain": [
       "Text(0.5, 1.0, 'Daily N assimilation for different densities\\n 1-week experiments')"
      ]
     },
     "execution_count": 31,
     "metadata": {},
     "output_type": "execute_result"
    },
    {
     "data": {
      "image/png": "[encoded data removed]",
      "text/plain": [
       "<Figure size 432x288 with 1 Axes>"
      ]
     },
     "metadata": {
      "needs_background": "light"
     },
     "output_type": "display_data"
    }
   ],
   "source": [
    "# comparison between assimilation in different densities\n",
    "x1 = dall[(np.isnan(dall.N_assimilation_day)!= True)&(dall.Duration == 'Week')&(dall.density == 1)].N_assimilation_day\n",
    "x2 = dall[(np.isnan(dall.N_assimilation_day)!= True)&(dall.Duration == 'Week')&(dall.density == 2)].N_assimilation_day\n",
    "x3 = dall[(np.isnan(dall.N_assimilation_day)!= True)&(dall.Duration == 'Week')&(dall.density == 3)].N_assimilation_day\n",
    "\n",
    "x = [x1,x2,x3]\n",
    "ax = plt.boxplot(x)\n",
    "\n",
    "# x-axis labels\n",
    "#ax.set_xticklabels(['0','2', '5','10'])\n",
    "\n",
    "# Adding title\n",
    "plt.title(\"Daily N assimilation for different densities\\n 1-week experiments\")\n",
    "\n",
    "     \n",
    "# show plot\n",
    "#plt.show(ax)"
   ]
  },
  {
   "cell_type": "code",
   "execution_count": 32,
   "metadata": {},
   "outputs": [
    {
     "data": {
      "text/plain": [
       "Text(0.5, 1.0, 'Yield for different densities\\n 1-week experiments')"
      ]
     },
     "execution_count": 32,
     "metadata": {},
     "output_type": "execute_result"
    },
    {
     "data": {
      "image/png": "[encoded data removed]",
      "text/plain": [
       "<Figure size 432x288 with 1 Axes>"
      ]
     },
     "metadata": {
      "needs_background": "light"
     },
     "output_type": "display_data"
    }
   ],
   "source": [
    "# comparison between assimilation in different densities\n",
    "x1 = dall[(np.isnan(dall.Yield)!= True)&(dall.Duration == 'Week')&(dall.density == 1)].Yield\n",
    "x2 = dall[(np.isnan(dall.Yield)!= True)&(dall.Duration == 'Week')&(dall.density == 2)].Yield\n",
    "x3 = dall[(np.isnan(dall.Yield)!= True)&(dall.Duration == 'Week')&(dall.density == 3)].Yield\n",
    "\n",
    "x = [x1,x2,x3]\n",
    "ax = plt.boxplot(x)\n",
    "\n",
    "# x-axis labels\n",
    "#ax.set_xticklabels(['0','2', '5','10'])\n",
    "\n",
    "# Adding title\n",
    "plt.title(\"Yield for different densities\\n 1-week experiments\")\n",
    "\n",
    "     \n",
    "# show plot\n",
    "#plt.show(ax)"
   ]
  },
  {
   "cell_type": "code",
   "execution_count": 33,
   "metadata": {},
   "outputs": [
    {
     "data": {
      "text/plain": [
       "Text(0.5, 1.0, 'Daily N assimilation for different densities\\n 1-week experiments')"
      ]
     },
     "execution_count": 33,
     "metadata": {},
     "output_type": "execute_result"
    },
    {
     "data": {
      "image/png": "[encoded data removed]",
      "text/plain": [
       "<Figure size 432x288 with 1 Axes>"
      ]
     },
     "metadata": {
      "needs_background": "light"
     },
     "output_type": "display_data"
    }
   ],
   "source": [
    "# comparison between assimilation in different densities\n",
    "x1 = dall[(np.isnan(dall.N_assimilation_day)!= True)&(dall.Diluted == 'Yes')&(dall.Exp != 3)&(dall.Duration == 'Week')&(dall.density == 1)].Yield\n",
    "x2 = dall[(np.isnan(dall.N_assimilation_day)!= True)&(dall.Diluted == 'Yes')&(dall.Exp != 3)&(dall.Duration == 'Week')&(dall.density == 2)].Yield\n",
    "x3 = dall[(np.isnan(dall.N_assimilation_day)!= True)&(dall.Diluted == 'Yes')&(dall.Exp != 3)&(dall.Duration == 'Week')&(dall.density == 3)].Yield\n",
    "\n",
    "x = [x1,x2,x3]\n",
    "ax = plt.boxplot(x)\n",
    "\n",
    "# x-axis labels\n",
    "#ax.set_xticklabels(['0','2', '5','10'])\n",
    "\n",
    "# Adding title\n",
    "plt.title(\"Daily N assimilation for different densities\\n 1-week experiments\")\n",
    "\n",
    "     \n",
    "# show plot\n",
    "#plt.show(ax)"
   ]
  },
  {
   "cell_type": "code",
   "execution_count": 34,
   "metadata": {},
   "outputs": [
    {
     "data": {
      "text/plain": [
       "MannwhitneyuResult(statistic=16.0, pvalue=0.017034597572071968)"
      ]
     },
     "execution_count": 34,
     "metadata": {},
     "output_type": "execute_result"
    }
   ],
   "source": [
    "# Mann-Whitney U Test between N_assimilation_day and N_removal_day - all densities\n",
    "#dall = df5[(np.isnan(dfall.N_assimilation_day)!= True)]\n",
    "stats.mannwhitneyu(dall[(dall.density != 0)&(np.isnan(dall.N_removal_day)!= True)&(dall.Exp == 4)].N_assimilation_day, dall[(dall.density != 0)&(np.isnan(dall.N_removal_day)!= True)&(dall.Exp == 5)].N_assimilation_day)"
   ]
  },
  {
   "cell_type": "code",
   "execution_count": 35,
   "metadata": {},
   "outputs": [
    {
     "data": {
      "text/plain": [
       "MannwhitneyuResult(statistic=10.0, pvalue=0.004019437313372977)"
      ]
     },
     "execution_count": 35,
     "metadata": {},
     "output_type": "execute_result"
    }
   ],
   "source": [
    "# Mann-Whitney U Test between N_removal_day in diluted and non-diluted brine - all densities, 1 day\n",
    "#dall = df5[(np.isnan(dfall.N_assimilation_day)!= True)]\n",
    "stats.mannwhitneyu(dall[(dall.density != 0)&(np.isnan(dall.N_removal_day)!= True)&(dall.Exp == 4)].N_removal_day, dall[(dall.density != 0)&(np.isnan(dall.N_removal_day)!= True)&(dall.Exp == 5)].N_removal_day)"
   ]
  },
  {
   "cell_type": "code",
   "execution_count": 36,
   "metadata": {},
   "outputs": [
    {
     "data": {
      "text/plain": [
       "<matplotlib.legend.Legend at 0x2672a9b2358>"
      ]
     },
     "execution_count": 36,
     "metadata": {},
     "output_type": "execute_result"
    },
    {
     "data": {
      "image/png": "[encoded data removed]",
      "text/plain": [
       "<Figure size 720x504 with 1 Axes>"
      ]
     },
     "metadata": {
      "needs_background": "light"
     },
     "output_type": "display_data"
    }
   ],
   "source": [
    "# N_removal_day in different durations\n",
    "sns.set_context(\"paper\", rc={\"font.size\":16,\"axes.titlesize\":16,\"axes.labelsize\":16}) \n",
    "\n",
    "fig = plt.figure(figsize =(10, 7)) \n",
    "#ax = fig.add_subplot(111) \n",
    "# combined strip plot - all data\n",
    "#dall_ND = dall[(dall.Diluted == 'Yes')]\n",
    "#fig.set_xticklabels(['0','2','5','7.5','10'],fontdict= { 'fontsize': 14, 'fontweight':'bold','color': 'k'})\n",
    "\n",
    "fig = sns.stripplot(x = 'density', y = 'N_removal_day', data = dall[(dall.Duration == 'Day')],hue = 'Diluted').set(xlabel='Stocking density\\n [g FW $L^{-1}$]', ylabel='Normalized N removal\\n [mg-N $L^{-1}$ $day^{-1}$]')\n",
    "plt.legend(title=\"Diluted\",title_fontsize = 18,fontsize = 15)\n",
    "#plt.xaxis(fontsize = 15)\n",
    "#fig = sns.catplot(x = 'density', y = 'N_removal_day', data = dall[(dall.Duration == 'Day')],kind='box')\n"
   ]
  },
  {
   "cell_type": "code",
   "execution_count": 37,
   "metadata": {},
   "outputs": [
    {
     "data": {
      "text/plain": [
       "<matplotlib.legend.Legend at 0x2672abb2518>"
      ]
     },
     "execution_count": 37,
     "metadata": {},
     "output_type": "execute_result"
    },
    {
     "data": {
      "image/png": "[encoded data removed]",
      "text/plain": [
       "<Figure size 720x504 with 1 Axes>"
      ]
     },
     "metadata": {
      "needs_background": "light"
     },
     "output_type": "display_data"
    }
   ],
   "source": [
    "# N_assimilation_day in different durations\n",
    "sns.set_context(\"paper\", rc={\"font.size\":16,\"axes.titlesize\":16,\"axes.labelsize\":16}) \n",
    "\n",
    "fig = plt.figure(figsize =(10, 7)) \n",
    "#ax = fig.add_subplot(111) \n",
    "# combined strip plot - all data\n",
    "#dall_ND = dall[(dall.Diluted == 'Yes')]\n",
    "#fig.set_xticklabels(['0','2','5','7.5','10'],fontdict= { 'fontsize': 14, 'fontweight':'bold','color': 'k'})\n",
    "\n",
    "fig = sns.stripplot(x = 'density', y = 'N_assimilation_day', data = dall[(dall.Duration == 'Day')],hue = 'Diluted').set(xlabel='Stocking density\\n [g FW $L^{-1}$]', ylabel='Normalized N assimilation\\n [mg-N $L^{-1}$ $day^{-1}$]')\n",
    "plt.legend(title=\"Diluted\",title_fontsize = 18,fontsize = 15)\n",
    "\n",
    "#fig = sns.catplot(x = 'density', y = 'N_removal_day', data = dall[(dall.Duration == 'Day')],kind='box')\n"
   ]
  },
  {
   "cell_type": "code",
   "execution_count": 38,
   "metadata": {},
   "outputs": [
    {
     "data": {
      "text/plain": [
       "MannwhitneyuResult(statistic=4.0, pvalue=0.29794154528258887)"
      ]
     },
     "execution_count": 38,
     "metadata": {},
     "output_type": "execute_result"
    }
   ],
   "source": [
    "# effect of P addition in weekly treatment - N_assimilation_day\n",
    "\n",
    "d3 = dall[(dall.Exp == 3)&(dall.density >= 0)]\n",
    "\n",
    "# Mann-Whitney U Test between N_assimilation_day and N_removal_day - density <= 2g FW / l\n",
    "stats.mannwhitneyu(d3[(d3.P == 'Yes')].N_assimilation_day, d3[(d3.P == 'No')].N_assimilation_day)"
   ]
  },
  {
   "cell_type": "code",
   "execution_count": 39,
   "metadata": {},
   "outputs": [
    {
     "data": {
      "text/plain": [
       "MannwhitneyuResult(statistic=6.0, pvalue=0.4298418975993331)"
      ]
     },
     "execution_count": 39,
     "metadata": {},
     "output_type": "execute_result"
    }
   ],
   "source": [
    "# effect of P addition in weekly treatment - DGR\n",
    "\n",
    "d3 = dall[(dall.Exp == 3)&(dall.density >= 0)]\n",
    "\n",
    "# Mann-Whitney U Test between N_assimilation_day and N_removal_day - density <= 2g FW / l\n",
    "stats.mannwhitneyu(d3[(d3.P == 'Yes')].DGR, d3[(d3.P == 'No')].DGR)"
   ]
  },
  {
   "cell_type": "code",
   "execution_count": 40,
   "metadata": {
    "scrolled": true
   },
   "outputs": [
    {
     "data": {
      "image/png": "[encoded data removed]",
      "text/plain": [
       "<Figure size 360x360 with 1 Axes>"
      ]
     },
     "metadata": {
      "needs_background": "light"
     },
     "output_type": "display_data"
    }
   ],
   "source": [
    "# DGR with and without P\n",
    "sns.set_context(\"paper\", rc={\"font.size\":16,\"axes.titlesize\":16,\"axes.labelsize\":16}) \n",
    "\n",
    "# combined strip plot - all data\n",
    "dall_DGR = dall[(dall.Exp == 3)&(dall.density != 0)]\n",
    "fig = sns.catplot(x = 'P', y = 'DGR', data = dall_DGR,kind='box')\n",
    "fig.set_xticklabels(['Yes', 'No'],fontdict= { 'fontsize': 14, 'fontweight':'bold','color': 'k'})\n",
    "fig = sns.stripplot(x = 'P', y = 'DGR', data = dall_DGR,color='k').set(xlabel='Added P', ylabel='Daily growth rate\\n [$day^{-1}$]')"
   ]
  },
  {
   "cell_type": "code",
   "execution_count": 41,
   "metadata": {},
   "outputs": [
    {
     "data": {
      "image/png": "[encoded data removed]",
      "text/plain": [
       "<Figure size 360x360 with 1 Axes>"
      ]
     },
     "metadata": {
      "needs_background": "light"
     },
     "output_type": "display_data"
    }
   ],
   "source": [
    "# DGR with and without P\n",
    "sns.set_context(\"paper\", rc={\"font.size\":16,\"axes.titlesize\":16,\"axes.labelsize\":16}) \n",
    "\n",
    "# combined strip plot - all data\n",
    "dall_DGR = dall[(dall.Exp == 3)&(dall.density != 0)]\n",
    "fig = sns.catplot(x = 'P', y = 'N_assimilation_day', data = dall_DGR,kind='box')\n",
    "fig.set_xticklabels(['Yes', 'No'],fontdict= { 'fontsize': 14, 'fontweight':'bold','color': 'k'})\n",
    "fig = sns.stripplot(x = 'P', y = 'N_assimilation_day', data = dall_DGR,color='k').set(xlabel='Added P', ylabel='Normalized N assimilation\\n [mg-N $L^{-1}$ $day^{-1}$]')"
   ]
  },
  {
   "cell_type": "code",
   "execution_count": null,
   "metadata": {},
   "outputs": [],
   "source": []
  },
  {
   "cell_type": "code",
   "execution_count": null,
   "metadata": {},
   "outputs": [],
   "source": []
  },
  {
   "cell_type": "code",
   "execution_count": null,
   "metadata": {},
   "outputs": [],
   "source": []
  },
  {
   "cell_type": "code",
   "execution_count": null,
   "metadata": {},
   "outputs": [],
   "source": []
  },
  {
   "cell_type": "code",
   "execution_count": 42,
   "metadata": {},
   "outputs": [
    {
     "data": {
      "text/plain": [
       "4    59.785714\n",
       "5    75.214286\n",
       "8    57.857143\n",
       "9    52.821429\n",
       "Name: Yield, dtype: float64"
      ]
     },
     "execution_count": 42,
     "metadata": {},
     "output_type": "execute_result"
    }
   ],
   "source": [
    "x1"
   ]
  },
  {
   "cell_type": "code",
   "execution_count": 43,
   "metadata": {},
   "outputs": [
    {
     "data": {
      "image/png": "[encoded data removed]",
      "text/plain": [
       "<Figure size 360x360 with 1 Axes>"
      ]
     },
     "metadata": {
      "needs_background": "light"
     },
     "output_type": "display_data"
    }
   ],
   "source": [
    "# N_assimilation_day in different durations\n",
    "sns.set_context(\"paper\", rc={\"font.size\":16,\"axes.titlesize\":16,\"axes.labelsize\":16}) \n",
    "\n",
    "# combined strip plot - all data\n",
    "fig = sns.catplot(x = 'Duration', y = 'N_assimilation_day', data = dall,kind='box')\n",
    "fig.set_xticklabels(['Day', 'Week'],fontdict= { 'fontsize': 14, 'fontweight':'bold','color': 'k'})\n",
    "fig = sns.stripplot(x = 'Duration', y = 'N_assimilation_day', data = dall,color='k').set(xlabel='Duration', ylabel='normalized N assimilation\\n [mg-N $L^{-1}$ $day^{-1}$]')"
   ]
  },
  {
   "cell_type": "code",
   "execution_count": 44,
   "metadata": {},
   "outputs": [
    {
     "data": {
      "image/png": "[encoded data removed]",
      "text/plain": [
       "<Figure size 360x360 with 1 Axes>"
      ]
     },
     "metadata": {
      "needs_background": "light"
     },
     "output_type": "display_data"
    }
   ],
   "source": [
    "# N_assimilation_day in different durations\n",
    "sns.set_context(\"paper\", rc={\"font.size\":16,\"axes.titlesize\":16,\"axes.labelsize\":16}) \n",
    "\n",
    "# combined strip plot - all data\n",
    "dall_ND = dall[(dall.Diluted == 'Yes')]\n",
    "fig = sns.catplot(x = 'Duration', y = 'N_removal_day', data = dall_ND,kind='box')\n",
    "fig.set_xticklabels(['Day', 'Week'],fontdict= { 'fontsize': 14, 'fontweight':'bold','color': 'k'})\n",
    "fig = sns.stripplot(x = 'Duration', y = 'N_removal_day', data = dall_ND,color='k').set(xlabel='Duration', ylabel='normalized N removal\\n [mg-N $L^{-1}$ $day^{-1}$]')"
   ]
  },
  {
   "cell_type": "code",
   "execution_count": 45,
   "metadata": {},
   "outputs": [
    {
     "data": {
      "image/png": "[encoded data removed]",
      "text/plain": [
       "<Figure size 360x360 with 1 Axes>"
      ]
     },
     "metadata": {
      "needs_background": "light"
     },
     "output_type": "display_data"
    }
   ],
   "source": [
    "# N_assimilation_day in different durations\n",
    "sns.set_context(\"paper\", rc={\"font.size\":16,\"axes.titlesize\":16,\"axes.labelsize\":16}) \n",
    "\n",
    "# combined strip plot - all data\n",
    "dall_1D = dall[(dall.Duration == 'Day')]\n",
    "fig = sns.catplot(x = 'Exp', y = 'N_removal_day', data = dall_1D,kind='box')\n",
    "fig.set_xticklabels(['Diluted', 'Non diluted'],fontdict= { 'fontsize': 14, 'fontweight':'bold','color': 'k'})\n",
    "fig = sns.stripplot(x = 'Exp', y = 'N_removal_day', data = dall_1D,color='k').set(xlabel='Dilution', ylabel='normalized N removal\\n [mg-N $L^{-1}$ $day^{-1}$]')"
   ]
  },
  {
   "cell_type": "code",
   "execution_count": 46,
   "metadata": {},
   "outputs": [
    {
     "data": {
      "image/png": "[encoded data removed]",
      "text/plain": [
       "<Figure size 360x360 with 1 Axes>"
      ]
     },
     "metadata": {
      "needs_background": "light"
     },
     "output_type": "display_data"
    }
   ],
   "source": [
    "# N_assimilation_day in different durations\n",
    "sns.set_context(\"paper\", rc={\"font.size\":16,\"axes.titlesize\":16,\"axes.labelsize\":16}) \n",
    "\n",
    "# combined strip plot - all data\n",
    "dall_1D = dall[(dall.Duration == 'Day')]\n",
    "fig = sns.catplot(x = 'Exp', y = 'N_assimilation_day', data = dall_1D,kind='box')\n",
    "fig.set_xticklabels(['Diluted', 'Non diluted'],fontdict= { 'fontsize': 14, 'fontweight':'bold','color': 'k'})\n",
    "fig = sns.stripplot(x = 'Exp', y = 'N_assimilation_day', data = dall_1D,color='k').set(xlabel='Dilution', ylabel='normalized N assimilation\\n [mg-N $L^{-1}$ $day^{-1}$]')"
   ]
  },
  {
   "cell_type": "code",
   "execution_count": 47,
   "metadata": {},
   "outputs": [
    {
     "data": {
      "image/png": "[encoded data removed]",
      "text/plain": [
       "<Figure size 360x360 with 1 Axes>"
      ]
     },
     "metadata": {
      "needs_background": "light"
     },
     "output_type": "display_data"
    }
   ],
   "source": [
    "# N_assimilation_day in different durations\n",
    "sns.set_context(\"paper\", rc={\"font.size\":16,\"axes.titlesize\":16,\"axes.labelsize\":16}) \n",
    "\n",
    "# combined strip plot - all data\n",
    "fig = sns.catplot(x = 'Duration', y = 'N_assimilation_day', data = dall,kind='box')\n",
    "fig.set_xticklabels(['Day', 'Week'],fontdict= { 'fontsize': 14, 'fontweight':'bold','color': 'k'})\n",
    "fig = sns.stripplot(x = 'Duration', y = 'N_assimilation_day', data = dall,color='k').set(xlabel='Duration', ylabel='normalized N assimilation\\n [mg-N $L^{-1}$ $day^{-1}$]')"
   ]
  },
  {
   "cell_type": "code",
   "execution_count": 48,
   "metadata": {},
   "outputs": [
    {
     "data": {
      "text/plain": [
       "<seaborn.axisgrid.FacetGrid at 0x2672aaa1c50>"
      ]
     },
     "execution_count": 48,
     "metadata": {},
     "output_type": "execute_result"
    },
    {
     "data": {
      "image/png": "[encoded data removed]",
      "text/plain": [
       "<Figure size 360x360 with 1 Axes>"
      ]
     },
     "metadata": {
      "needs_background": "light"
     },
     "output_type": "display_data"
    }
   ],
   "source": [
    "# DGR in different durations - all weeks together - no scatter\n",
    "sns.set_context(\"paper\", rc={\"font.size\":16,\"axes.titlesize\":16,\"axes.labelsize\":16}) \n",
    "\n",
    "# combined strip plot - all data\n",
    "fig = sns.catplot(x = 'Duration', y = 'DGR', data = dall,kind='box').set(xlabel='Fertilization Duration\\n [hours]', ylabel='Daily growth rate')\n",
    "fig.set_xticklabels([4, 168],fontdict= { 'fontsize': 14, 'fontweight':'bold','color': 'k'})\n",
    "#fig = sns.stripplot(x = 'Duration', y = 'DGR', data = dall,color='k').set(xlabel='Fertilization Duration\\n [hours]', ylabel='Daily growth rate')"
   ]
  },
  {
   "cell_type": "code",
   "execution_count": 49,
   "metadata": {},
   "outputs": [
    {
     "ename": "NameError",
     "evalue": "name 'dNall' is not defined",
     "output_type": "error",
     "traceback": [
      "\u001b[1;31m---------------------------------------------------------------------------\u001b[0m",
      "\u001b[1;31mNameError\u001b[0m                                 Traceback (most recent call last)",
      "\u001b[1;32m<ipython-input-49-f8d2ababe0a2>\u001b[0m in \u001b[0;36m<module>\u001b[1;34m\u001b[0m\n\u001b[0;32m      3\u001b[0m \u001b[1;33m\u001b[0m\u001b[0m\n\u001b[0;32m      4\u001b[0m \u001b[1;31m# combined strip plot - all data\u001b[0m\u001b[1;33m\u001b[0m\u001b[1;33m\u001b[0m\u001b[1;33m\u001b[0m\u001b[0m\n\u001b[1;32m----> 5\u001b[1;33m \u001b[0mfig\u001b[0m \u001b[1;33m=\u001b[0m \u001b[0msns\u001b[0m\u001b[1;33m.\u001b[0m\u001b[0mcatplot\u001b[0m\u001b[1;33m(\u001b[0m\u001b[0mx\u001b[0m \u001b[1;33m=\u001b[0m \u001b[1;34m'Duration'\u001b[0m\u001b[1;33m,\u001b[0m \u001b[0my\u001b[0m \u001b[1;33m=\u001b[0m \u001b[1;34m'N'\u001b[0m\u001b[1;33m,\u001b[0m \u001b[0mdata\u001b[0m \u001b[1;33m=\u001b[0m \u001b[0mdNall\u001b[0m\u001b[1;33m,\u001b[0m\u001b[0mkind\u001b[0m\u001b[1;33m=\u001b[0m\u001b[1;34m'box'\u001b[0m\u001b[1;33m)\u001b[0m\u001b[1;31m#.set(xlabel='Fertilization Duration\\n [hours]', ylabel='Daily growth rate')\u001b[0m\u001b[1;33m\u001b[0m\u001b[1;33m\u001b[0m\u001b[0m\n\u001b[0m\u001b[0;32m      6\u001b[0m \u001b[0mfig\u001b[0m\u001b[1;33m.\u001b[0m\u001b[0mset_xticklabels\u001b[0m\u001b[1;33m(\u001b[0m\u001b[1;33m[\u001b[0m\u001b[1;36m4\u001b[0m\u001b[1;33m,\u001b[0m \u001b[1;36m168\u001b[0m\u001b[1;33m]\u001b[0m\u001b[1;33m,\u001b[0m\u001b[0mfontdict\u001b[0m\u001b[1;33m=\u001b[0m \u001b[1;33m{\u001b[0m \u001b[1;34m'fontsize'\u001b[0m\u001b[1;33m:\u001b[0m \u001b[1;36m14\u001b[0m\u001b[1;33m,\u001b[0m \u001b[1;34m'fontweight'\u001b[0m\u001b[1;33m:\u001b[0m\u001b[1;34m'bold'\u001b[0m\u001b[1;33m,\u001b[0m\u001b[1;34m'color'\u001b[0m\u001b[1;33m:\u001b[0m \u001b[1;34m'k'\u001b[0m\u001b[1;33m}\u001b[0m\u001b[1;33m)\u001b[0m\u001b[1;33m\u001b[0m\u001b[1;33m\u001b[0m\u001b[0m\n\u001b[0;32m      7\u001b[0m \u001b[0mfig\u001b[0m \u001b[1;33m=\u001b[0m \u001b[0msns\u001b[0m\u001b[1;33m.\u001b[0m\u001b[0mstripplot\u001b[0m\u001b[1;33m(\u001b[0m\u001b[0mx\u001b[0m \u001b[1;33m=\u001b[0m \u001b[1;34m'Duration'\u001b[0m\u001b[1;33m,\u001b[0m \u001b[0my\u001b[0m \u001b[1;33m=\u001b[0m \u001b[1;34m'N'\u001b[0m\u001b[1;33m,\u001b[0m \u001b[0mdata\u001b[0m \u001b[1;33m=\u001b[0m \u001b[0mdNall\u001b[0m\u001b[1;33m,\u001b[0m\u001b[0mcolor\u001b[0m\u001b[1;33m=\u001b[0m\u001b[1;34m'k'\u001b[0m\u001b[1;33m)\u001b[0m\u001b[1;33m.\u001b[0m\u001b[0mset\u001b[0m\u001b[1;33m(\u001b[0m\u001b[0mxlabel\u001b[0m\u001b[1;33m=\u001b[0m\u001b[1;34m'Fertilization Duration\\n [hours]'\u001b[0m\u001b[1;33m,\u001b[0m \u001b[0mylabel\u001b[0m\u001b[1;33m=\u001b[0m\u001b[1;34m'Internal N\\n [%g N / g DW]'\u001b[0m\u001b[1;33m)\u001b[0m\u001b[1;33m\u001b[0m\u001b[1;33m\u001b[0m\u001b[0m\n",
      "\u001b[1;31mNameError\u001b[0m: name 'dNall' is not defined"
     ]
    }
   ],
   "source": [
    "# N in different durations - all weeks together\n",
    "sns.set_context(\"paper\", rc={\"font.size\":16,\"axes.titlesize\":16,\"axes.labelsize\":16}) \n",
    "\n",
    "# combined strip plot - all data\n",
    "fig = sns.catplot(x = 'Duration', y = 'N', data = dNall,kind='box')#.set(xlabel='Fertilization Duration\\n [hours]', ylabel='Daily growth rate')\n",
    "fig.set_xticklabels([4, 168],fontdict= { 'fontsize': 14, 'fontweight':'bold','color': 'k'})\n",
    "fig = sns.stripplot(x = 'Duration', y = 'N', data = dNall,color='k').set(xlabel='Fertilization Duration\\n [hours]', ylabel='Internal N\\n [%g N / g DW]')"
   ]
  },
  {
   "cell_type": "code",
   "execution_count": null,
   "metadata": {},
   "outputs": [],
   "source": [
    "# N in different durations - all weeks together - no scatter\n",
    "sns.set_context(\"paper\", rc={\"font.size\":16,\"axes.titlesize\":16,\"axes.labelsize\":16}) \n",
    "\n",
    "# combined strip plot - all data\n",
    "fig = sns.catplot(x = 'Duration', y = 'N', data = dNall,kind='box').set(xlabel='Fertilization Duration\\n [hours]', ylabel='Internal N\\n [%g N $g^{-1}$ DW]')\n",
    "fig.set_xticklabels([4, 168],fontdict= { 'fontsize': 14, 'fontweight':'bold','color': 'k'})\n",
    "\n",
    "#fig = sns.stripplot(x = 'Duration', y = 'N', data = dNall,color='k').set(xlabel='Fertilization Duration\\n [hours]', ylabel='Internal N\\n [%g N / g DW]')"
   ]
  },
  {
   "cell_type": "code",
   "execution_count": null,
   "metadata": {},
   "outputs": [],
   "source": [
    "# Fertilization efficiency in different durations - all weeks together\n",
    "sns.set_context(\"paper\", rc={\"font.size\":16,\"axes.titlesize\":16,\"axes.labelsize\":16}) \n",
    "\n",
    "# combined strip plot - all data\n",
    "fig = sns.catplot(x = 'Duration', y = 'Fertilizing_Efficiency', data = dEffall,kind='box')#.set(xlabel='Fertilization Duration\\n [hours]', ylabel='Daily growth rate')\n",
    "fig.set_xticklabels([4, 168],fontdict= { 'fontsize': 14, 'fontweight':'bold','color': 'k'})\n",
    "fig = sns.stripplot(x = 'Duration', y = 'Fertilizing_Efficiency', data = dEffall,color='k').set(xlabel='Fertilization Duration\\n [hours]', ylabel='Fertilizing Efficiency \\n [g N assimilated / g N added]')"
   ]
  },
  {
   "cell_type": "code",
   "execution_count": null,
   "metadata": {},
   "outputs": [],
   "source": [
    "# Fertilization efficiency in different durations - all weeks together - no scatter\n",
    "sns.set_context(\"paper\", rc={\"font.size\":16,\"axes.titlesize\":16,\"axes.labelsize\":16}) \n",
    "\n",
    "# combined strip plot - all data\n",
    "fig = sns.catplot(x = 'Duration', y = 'Fertilizing_Efficiency', data = dEffall,kind='box').set(xlabel='Fertilization Duration\\n [hours]', ylabel='Fertilizing Efficiency \\n [g N assimilated $g^{-1}$ N added]')\n",
    "fig.set_xticklabels([4, 168],fontdict= { 'fontsize': 14, 'fontweight':'bold','color': 'k'})\n",
    "#fig = sns.stripplot(x = 'Duration', y = 'Fertilizing_Efficiency', data = dEffall,color='k').set(xlabel='Fertilization Duration\\n [hours]', ylabel='Fertilizing Efficiency \\n [g N assimilated / g N added]')"
   ]
  },
  {
   "cell_type": "code",
   "execution_count": null,
   "metadata": {},
   "outputs": [],
   "source": [
    "# All DGR results by duration by week\n",
    "for i in [1,2]:\n",
    "    print('\\nweek: ' + str(i) + '\\n')\n",
    "    print(rp.summary_cont(dall[(dall.Week == i)]['DGR'].groupby(dall[(dall.Week == i)]['Duration'])))"
   ]
  },
  {
   "cell_type": "code",
   "execution_count": null,
   "metadata": {},
   "outputs": [],
   "source": [
    "# All N results by duration by week\n",
    "for i in [1,2]:\n",
    "    print('\\nweek: ' + str(i) + '\\n')\n",
    "    print(rp.summary_cont(dNall[(dNall.Week == i)]['N'].groupby(dNall[(dNall.Week == i)]['Duration'])))\n"
   ]
  },
  {
   "cell_type": "code",
   "execution_count": null,
   "metadata": {},
   "outputs": [],
   "source": [
    "# All fertilization efficiency results by duration by week\n",
    "for i in [1,2]:\n",
    "    print('\\nweek: ' + str(i) + '\\n')\n",
    "    print(rp.summary_cont(dEffall[(dEffall.Week == i)]['Fertilizing_Efficiency'].groupby(dEffall[(dEffall.Week == i)]['Duration'])))"
   ]
  },
  {
   "cell_type": "code",
   "execution_count": null,
   "metadata": {},
   "outputs": [],
   "source": [
    "# DGR/N/Fertilizing Efficiency in different durations - by week\n",
    "\n",
    "for i in [1,2]:\n",
    "    # Mann-Whitney U Test between durations of 4 and 168 hours - DGR\n",
    "    print('\\nWeek ' + str(i) + ':\\n')\n",
    "    a = stats.mannwhitneyu(dall[(dall.Week == i)&(dall.Duration == 4)].DGR, dall[(dall.Week == i)&(dall.Duration == 168)].DGR)\n",
    "    print('DGR: ')\n",
    "    print(a)\n",
    "\n",
    "    # Mann-Whitney U Test between durations of 4 and 168 hours - N\n",
    "    b = stats.mannwhitneyu(dNall[(dNall.Week == i)&(dNall.Duration == 4)].N, dNall[(dNall.Week == i)&(dNall.Duration == 168)].N)\n",
    "    print('\\nN: ')\n",
    "    print(b)\n",
    "       \n",
    "    # Mann-Whitney U Test between durations of 4 and 168 hours - fertilizing efficiency\n",
    "    c = stats.mannwhitneyu(dEffall[(dEffall.Week == i)&(dEffall.Duration == 4)].Fertilizing_Efficiency, dEffall[(dEffall.Week == i)&(dEffall.Duration == 168)].Fertilizing_Efficiency)\n",
    "    print('\\nFertilizing Efficiency: ')\n",
    "    print(c)"
   ]
  },
  {
   "cell_type": "code",
   "execution_count": null,
   "metadata": {},
   "outputs": [],
   "source": [
    "# DGR/N/Fertilizing Efficiency in different weeks - by duration\n",
    "\n",
    "for i in [4,168]:\n",
    "    # Mann-Whitney U Test between durations of 4 and 168 hours - DGR\n",
    "    print('\\nDuration ' + str(i) + ':\\n')\n",
    "    a = stats.mannwhitneyu(dall[(dall.Duration == i)&(dall.Week == 1)].DGR, dall[(dall.Duration == i)&(dall.Week == 2)].DGR)\n",
    "    print('DGR: ')\n",
    "    print(a)\n",
    "\n",
    "    # Mann-Whitney U Test between durations of 4 and 168 hours - N\n",
    "    b = stats.mannwhitneyu(dNall[(dNall.Duration == i)&(dNall.Week == 1)].N, dNall[(dNall.Duration == i)&(dNall.Week == 2)].N)\n",
    "    print('\\nN: ')\n",
    "    print(b)\n",
    "       \n",
    "    # Mann-Whitney U Test between durations of 4 and 168 hours - fertilizing efficiency\n",
    "    c = stats.mannwhitneyu(dEffall[(dEffall.Duration == i)&(dEffall.Week == 1)].Fertilizing_Efficiency, dEffall[(dEffall.Duration == i)&(dEffall.Week == 2)].Fertilizing_Efficiency)\n",
    "    print('\\nFertilizing Efficiency: ')\n",
    "    print(c)"
   ]
  },
  {
   "cell_type": "code",
   "execution_count": null,
   "metadata": {},
   "outputs": [],
   "source": [
    "# DGR in different durations - by week\n",
    "sns.set_context(\"paper\", rc={\"font.size\":16,\"axes.titlesize\":16,\"axes.labelsize\":16}) \n",
    "\n",
    "# combined strip plot - all data\n",
    "for i in [1,2]:\n",
    "    fig = sns.catplot(x = 'Duration', y = 'DGR', data = dall[(dall.Week == i)],kind='box')#.set(xlabel='Fertilization Duration\\n [hours]', ylabel='Daily growth rate')\n",
    "    fig.set_xticklabels([4, 168],fontdict= { 'fontsize': 14, 'fontweight':'bold','color': 'k'})\n",
    "    fig = sns.stripplot(x = 'Duration', y = 'DGR', data = dall[(dall.Week == i)],color='k').set(xlabel='Fertilization Duration\\n [hours]', ylabel='Daily growth rate')"
   ]
  },
  {
   "cell_type": "code",
   "execution_count": null,
   "metadata": {},
   "outputs": [],
   "source": [
    "# DGR in different durations - by week - no scatter, one plot\n",
    "sns.set_context(\"paper\", rc={\"font.size\":16,\"axes.titlesize\":16,\"axes.labelsize\":16}) \n",
    "\n",
    "# combined strip plot - all data\n",
    "#for i in [1,2]:\n",
    "fig = sns.catplot(x = 'Duration', y = 'DGR', data = dall,kind='box',hue='Week').set(xlabel='Fertilization Duration\\n [hours]', ylabel='Daily growth rate')\n",
    "fig.set_xticklabels([4, 168],fontdict= { 'fontsize': 14, 'fontweight':'bold','color': 'k'})\n",
    "    #fig = sns.stripplot(x = 'Duration', y = 'DGR', data = dall[(dall.Week == i)],color='k').set(xlabel='Fertilization Duration\\n [hours]', ylabel='Daily growth rate')"
   ]
  },
  {
   "cell_type": "code",
   "execution_count": null,
   "metadata": {},
   "outputs": [],
   "source": [
    "# N in different durations - by week\n",
    "sns.set_context(\"paper\", rc={\"font.size\":16,\"axes.titlesize\":16,\"axes.labelsize\":16}) \n",
    "\n",
    "# combined strip plot - all data\n",
    "for i in [1,2]:\n",
    "    fig = sns.catplot(x = 'Duration', y = 'N', data = dNall[(dNall.Week == i)],kind='box')#.set(xlabel='Fertilization Duration\\n [hours]', ylabel='Daily growth rate')\n",
    "    fig.set_xticklabels([4, 168],fontdict= { 'fontsize': 14, 'fontweight':'bold','color': 'k'})\n",
    "    fig = sns.stripplot(x = 'Duration', y = 'N', data = dNall[(dNall.Week == i)],color='k').set(xlabel='Fertilization Duration\\n [hours]', ylabel='Internal N\\n [%g N / g DW]')"
   ]
  },
  {
   "cell_type": "code",
   "execution_count": null,
   "metadata": {},
   "outputs": [],
   "source": [
    "# N in different durations - by week\n",
    "sns.set_context(\"paper\", rc={\"font.size\":16,\"axes.titlesize\":16,\"axes.labelsize\":16}) \n",
    "\n",
    "# combined strip plot - all data\n",
    "#for i in [1,2]:\n",
    "fig = sns.catplot(x = 'Duration', y = 'N', data = dNall,kind='box',hue='Week').set(xlabel='Fertilization Duration\\n [hours]', ylabel='Internal N\\n [%g N $g^{-1}$ DW]')\n",
    "fig.set_xticklabels([4, 168],fontdict= { 'fontsize': 14, 'fontweight':'bold','color': 'k'})\n",
    "#fig = sns.stripplot(x = 'Duration', y = 'N', data = dNall[(dNall.Week == i)],color='k').set(xlabel='Fertilization Duration\\n [hours]', ylabel='Internal N\\n [%g N / g DW]')"
   ]
  },
  {
   "cell_type": "code",
   "execution_count": null,
   "metadata": {},
   "outputs": [],
   "source": [
    "# Fertilizing Efficiency in different durations - by week\n",
    "sns.set_context(\"paper\", rc={\"font.size\":16,\"axes.titlesize\":16,\"axes.labelsize\":16}) \n",
    "\n",
    "# combined strip plot - all data\n",
    "for i in [1,2]:\n",
    "    fig = sns.catplot(x = 'Duration', y = 'Fertilizing_Efficiency', data = dEffall[(dEffall.Week == i)],kind='box')#.set(xlabel='Fertilization Duration\\n [hours]', ylabel='Daily growth rate')\n",
    "    fig.set_xticklabels([4, 168],fontdict= { 'fontsize': 14, 'fontweight':'bold','color': 'k'})\n",
    "    fig = sns.stripplot(x = 'Duration', y = 'Fertilizing_Efficiency', data = dEffall[(dEffall.Week == i)],color='k').set(xlabel='Fertilization Duration\\n [hours]', ylabel='Fertilizing Efficiency \\n [g N assimilated / g N added]')"
   ]
  },
  {
   "cell_type": "code",
   "execution_count": null,
   "metadata": {},
   "outputs": [],
   "source": [
    "# Fertilizing Efficiency in different durations - by week\n",
    "sns.set_context(\"paper\", rc={\"font.size\":16,\"axes.titlesize\":16,\"axes.labelsize\":16}) \n",
    "\n",
    "# combined strip plot - all data\n",
    "#for i in [1,2]:\n",
    "fig = sns.catplot(x = 'Duration', y = 'Fertilizing_Efficiency', data = dEffall,kind='box',hue='Week').set(xlabel='Fertilization Duration\\n [hours]', ylabel='Fertilizing Efficiency \\n [g N assimilated $g^{-1}$ N added]')\n",
    "fig.set_xticklabels([4, 168],fontdict= { 'fontsize': 14, 'fontweight':'bold','color': 'k'})\n",
    "#fig = sns.stripplot(x = 'Duration', y = 'Fertilizing_Efficiency', data = dEffall[(dEffall.Week == i)],color='k').set(xlabel='Fertilization Duration\\n [hours]', ylabel='Fertilizing Efficiency \\n [g N assimilated / g N added]')"
   ]
  },
  {
   "cell_type": "code",
   "execution_count": null,
   "metadata": {},
   "outputs": [],
   "source": [
    "# Weekly total added N\n",
    "dall = df2[(df2.Stage == 'f')&(np.isnan(df2.DW)!= True)&(df2.Treatment != 'Acclimation')&(df2.Comment != 'Exclude')&(df2.Week <= 3)]\n",
    "dNall = df2[(df2.Stage == 'f')&(np.isnan(df2.N)!= True)&(df2.Treatment != 'Acclimation')&(df2.Comment != 'Exclude')&(df2.Week <= 3)]\n",
    "dEffall = df2[(df2.Stage == 'f')&(np.isnan(df2.Fertilizing_Efficiency)!= True)&(df2.Treatment != 'Acclimation')&(df2.Comment != 'Exclude')&(df2.Week <= 3)]"
   ]
  },
  {
   "cell_type": "code",
   "execution_count": null,
   "metadata": {},
   "outputs": [],
   "source": [
    "# data summary of duration = 168, by flux (DGR)\n",
    "dall168 = dall[(dall['Duration'] == 168)]\n",
    "rp.summary_cont(dall168['DGR'].groupby(dall168['Flux']))"
   ]
  },
  {
   "cell_type": "code",
   "execution_count": null,
   "metadata": {},
   "outputs": [],
   "source": [
    "# data summary of duration = 168, by flux (N)\n",
    "dNall168 = dNall[(dNall['Duration'] == 168)]\n",
    "rp.summary_cont(dNall168['N'].groupby(dNall168['Flux']))"
   ]
  },
  {
   "cell_type": "code",
   "execution_count": null,
   "metadata": {},
   "outputs": [],
   "source": [
    "# data summary of duration = 168, by flux (Fertilizing Efficiency)\n",
    "dEffall168 = dEffall[(dEffall['Duration'] == 168)]\n",
    "rp.summary_cont(dEffall168['Fertilizing_Efficiency'].groupby(dEffall168['Flux']))"
   ]
  },
  {
   "cell_type": "code",
   "execution_count": null,
   "metadata": {},
   "outputs": [],
   "source": [
    "# kruskal test - comparing DGR in different fluxes\n",
    "\n",
    "sp.stats.kruskal(dall168[(dall168['Flux'] == 1000)]['DGR'],\n",
    "                dall168[(dall168['Flux'] == 1500)]['DGR'],\n",
    "                dall168[(dall168['Flux'] == 2000)]['DGR'])\n",
    "\n",
    "# There is a significant difference between fluxes"
   ]
  },
  {
   "cell_type": "code",
   "execution_count": null,
   "metadata": {},
   "outputs": [],
   "source": [
    "# kruskal test - comparing N in different fluxes\n",
    "\n",
    "sp.stats.kruskal(dNall168[(dNall168['Flux'] == 1000)]['N'],\n",
    "                dNall168[(dNall168['Flux'] == 1500)]['N'],\n",
    "                dNall168[(dNall168['Flux'] == 2000)]['N'])\n",
    "\n",
    "# There is a significant difference between fluxes"
   ]
  },
  {
   "cell_type": "code",
   "execution_count": null,
   "metadata": {},
   "outputs": [],
   "source": [
    "# kruskal test - comparing Fertilizing Efficiencies in different fluxes\n",
    "\n",
    "sp.stats.kruskal(dEffall168[(dEffall168['Flux'] == 1000)]['Fertilizing_Efficiency'],\n",
    "                dEffall168[(dEffall168['Flux'] == 1500)]['Fertilizing_Efficiency'],\n",
    "                dEffall168[(dEffall168['Flux'] == 2000)]['Fertilizing_Efficiency'])\n",
    "\n",
    "# There is a significant difference between fluxes"
   ]
  },
  {
   "cell_type": "code",
   "execution_count": null,
   "metadata": {},
   "outputs": [],
   "source": [
    "# post - hoc multiple comparisons between fluxes - DGR\n",
    "\n",
    "data = [dall168[(dall168['Flux'] == 1000)]['DGR'],\n",
    "                dall168[(dall168['Flux'] == 1500)]['DGR'],\n",
    "                dall168[(dall168['Flux'] == 2000)]['DGR']]\n",
    "\n",
    "scp.posthoc_dunn(data, p_adjust = 'bonferroni')\n",
    "\n",
    "#results: Significan difference between:\n",
    "#1000 and 2000"
   ]
  },
  {
   "cell_type": "code",
   "execution_count": null,
   "metadata": {},
   "outputs": [],
   "source": [
    "# post - hoc multiple comparisons between fluxes - N\n",
    "\n",
    "data = [dNall168[(dNall168['Flux'] == 1000)]['N'],\n",
    "                dNall168[(dNall168['Flux'] == 1500)]['N'],\n",
    "                dNall168[(dNall168['Flux'] == 2000)]['N']]\n",
    "\n",
    "scp.posthoc_dunn(data, p_adjust = 'bonferroni')\n",
    "\n",
    "#results: Significan difference between:\n",
    "#1000 and 1500 and 1000 and 2000"
   ]
  },
  {
   "cell_type": "code",
   "execution_count": null,
   "metadata": {},
   "outputs": [],
   "source": [
    "# post - hoc multiple comparisons between fluxes - Fertilizing Efficiency\n",
    "\n",
    "data = [dEffall168[(dEffall168['Flux'] == 1000)]['Fertilizing_Efficiency'],\n",
    "                dEffall168[(dEffall168['Flux'] == 1500)]['Fertilizing_Efficiency'],\n",
    "                dEffall168[(dEffall168['Flux'] == 2000)]['Fertilizing_Efficiency']]\n",
    "\n",
    "scp.posthoc_dunn(data, p_adjust = 'bonferroni')\n",
    "\n",
    "#results: Significan difference between:\n",
    "#1000 and 2000"
   ]
  },
  {
   "cell_type": "code",
   "execution_count": null,
   "metadata": {},
   "outputs": [],
   "source": [
    "# DGR in different fluxes - all weeks together\n",
    "sns.set_context(\"paper\", rc={\"font.size\":16,\"axes.titlesize\":16,\"axes.labelsize\":16}) \n",
    "\n",
    "# combined strip plot - all data\n",
    "fig = sns.catplot(x = 'Flux', y = 'DGR', data = dall168,kind='box')#.set(xlabel='Fertilization Duration\\n [hours]', ylabel='Daily growth rate')\n",
    "fig.set_xticklabels([1000, 1500, 2000],fontdict= { 'fontsize': 14, 'fontweight':'bold','color': 'k'})\n",
    "fig = sns.stripplot(x = 'Flux', y = 'DGR', data = dall168,color='k').set(xlabel='Total weekly nutrient addition\\n [µM NH4/week]', ylabel='Daily growth rate')"
   ]
  },
  {
   "cell_type": "code",
   "execution_count": null,
   "metadata": {},
   "outputs": [],
   "source": [
    "# DGR in different fluxes - all weeks together - without scatter\n",
    "sns.set_context(\"paper\", rc={\"font.size\":16,\"axes.titlesize\":16,\"axes.labelsize\":16}) \n",
    "\n",
    "# combined strip plot - all data\n",
    "fig = sns.catplot(x = 'Flux', y = 'DGR', data = dall168,kind='box').set(xlabel='Total weekly nutrient addition\\n [µM NH4 $week^{-1}$]', ylabel='Daily growth rate')\n",
    "fig.set_xticklabels([1000, 1500, 2000],fontdict= { 'fontsize': 14, 'fontweight':'bold','color': 'k'})\n",
    "#fig = sns.stripplot(x = 'Flux', y = 'DGR', data = dall168,color='k').set(xlabel='Total weekly nutrient addition\\n [µM NH4/week]', ylabel='Daily growth rate')"
   ]
  },
  {
   "cell_type": "code",
   "execution_count": null,
   "metadata": {},
   "outputs": [],
   "source": [
    "# N in different fluxes - all weeks together\n",
    "sns.set_context(\"paper\", rc={\"font.size\":16,\"axes.titlesize\":16,\"axes.labelsize\":16}) \n",
    "\n",
    "# combined strip plot - all data\n",
    "fig = sns.catplot(x = 'Flux', y = 'N', data = dNall168,kind='box')#.set(xlabel='Fertilization Duration\\n [hours]', ylabel='Daily growth rate')\n",
    "fig.set_xticklabels([1000, 1500, 2000],fontdict= { 'fontsize': 14, 'fontweight':'bold','color': 'k'})\n",
    "fig = sns.stripplot(x = 'Flux', y = 'N', data = dNall168,color='k').set(xlabel='Total weekly nutrient addition\\n [µM NH4 $week^{-1}$]', ylabel='Internal N\\n [%g N / g DW]')"
   ]
  },
  {
   "cell_type": "code",
   "execution_count": null,
   "metadata": {},
   "outputs": [],
   "source": [
    "# N in different fluxes - all weeks together - no scatter\n",
    "sns.set_context(\"paper\", rc={\"font.size\":16,\"axes.titlesize\":16,\"axes.labelsize\":16}) \n",
    "\n",
    "# combined strip plot - all data\n",
    "fig = sns.catplot(x = 'Flux', y = 'N', data = dNall168,kind='box').set(xlabel='Total weekly nutrient addition\\n [µM NH4 $week^{-1}$]', ylabel='Internal N\\n [%g N $g^{-1}$ DW]')\n",
    "fig.set_xticklabels([1000, 1500, 2000],fontdict= { 'fontsize': 14, 'fontweight':'bold','color': 'k'})\n",
    "#fig = sns.stripplot(x = 'Flux', y = 'N', data = dNall168,color='k').set(xlabel='Total weekly nutrient addition\\n [µM NH4/week]', ylabel='Internal N\\n [%g N / g DW]')"
   ]
  },
  {
   "cell_type": "code",
   "execution_count": null,
   "metadata": {},
   "outputs": [],
   "source": [
    "# N in different fluxes - all weeks together\n",
    "sns.set_context(\"paper\", rc={\"font.size\":16,\"axes.titlesize\":16,\"axes.labelsize\":16}) \n",
    "\n",
    "# combined strip plot - all data\n",
    "fig = sns.catplot(x = 'Flux', y = 'Fertilizing_Efficiency', data = dNall168,kind='box')#.set(xlabel='Fertilization Duration\\n [hours]', ylabel='Daily growth rate')\n",
    "fig.set_xticklabels([1000, 1500, 2000],fontdict= { 'fontsize': 14, 'fontweight':'bold','color': 'k'})\n",
    "fig = sns.stripplot(x = 'Flux', y = 'Fertilizing_Efficiency', data = dNall168,color='k').set(xlabel='Total weekly nutrient addition\\n [µM NH4 $week^{-1}$]', ylabel='Fertilizing Efficiency\\n [% g assimilated N $g^{-1}$ added N]')"
   ]
  },
  {
   "cell_type": "code",
   "execution_count": null,
   "metadata": {},
   "outputs": [],
   "source": [
    "# N in different fluxes - all weeks together - no scatter\n",
    "sns.set_context(\"paper\", rc={\"font.size\":16,\"axes.titlesize\":16,\"axes.labelsize\":16}) \n",
    "\n",
    "# combined strip plot - all data\n",
    "fig = sns.catplot(x = 'Flux', y = 'Fertilizing_Efficiency', data = dNall168,kind='box').set(xlabel='Total weekly nutrient addition\\n [µM NH4 $week^{-1}$]', ylabel='Fertilizing Efficiency\\n [% g assimilated N $g^{-1}$ added N]')\n",
    "fig.set_xticklabels([1000, 1500, 2000],fontdict= { 'fontsize': 14, 'fontweight':'bold','color': 'k'})\n",
    "#fig = sns.stripplot(x = 'Flux', y = 'Fertilizing_Efficiency', data = dNall168,color='k').set(xlabel='Total weekly nutrient addition\\n [µM NH4/week]', ylabel='Fertilizing Efficiency\\n [% g assimilated N / g added N]')"
   ]
  },
  {
   "cell_type": "code",
   "execution_count": null,
   "metadata": {},
   "outputs": [],
   "source": [
    "# kruskal test - comparing DGR in different fluxes - different weeks\n",
    "for i in [1,2,3]:\n",
    "    s = sp.stats.kruskal(dall168[(dall168['Week'] == i)&(dall168['Flux'] == 1000)]['DGR'],\n",
    "                    dall168[(dall168['Week'] == i)&(dall168['Flux'] == 1500)]['DGR'],\n",
    "                    dall168[(dall168['Week'] == i)&(dall168['Flux'] == 2000)]['DGR'])\n",
    "    print('\\nWeek ' + str(i) + ':')\n",
    "    print(s)\n",
    "# There is a significant difference between fluxes in all weeks"
   ]
  },
  {
   "cell_type": "code",
   "execution_count": null,
   "metadata": {},
   "outputs": [],
   "source": [
    "# post - hoc multiple comparisons between fluxes - DGR, per week\n",
    "for i in [1,2,3]:\n",
    "    print('\\nWeek: ' + str(i))\n",
    "    data = [dall168[(dall168['Flux'] == 1000)&(dall168['Week'] == i)]['DGR'],\n",
    "                    dall168[(dall168['Flux'] == 1500)&(dall168['Week'] == i)]['DGR'],\n",
    "                    dall168[(dall168['Flux'] == 2000)&(dall168['Week'] == i)]['DGR']]\n",
    "\n",
    "    s = scp.posthoc_dunn(data, p_adjust = 'bonferroni')\n",
    "    print(s)\n",
    "#results: Significan difference between:\n",
    "#1000 and 2000"
   ]
  },
  {
   "cell_type": "code",
   "execution_count": null,
   "metadata": {},
   "outputs": [],
   "source": [
    "# post - hoc multiple comparisons between weeks - DGR, per flux\n",
    "for i in [1000,1500,2000]:\n",
    "    print('\\nFlux: ' + str(i))\n",
    "    data = [dall168[(dall168['Week'] == 1)&(dall168['Flux'] == i)]['DGR'],\n",
    "                    dall168[(dall168['Week'] == 2)&(dall168['Flux'] == i)]['DGR'],\n",
    "                    dall168[(dall168['Week'] == 3)&(dall168['Flux'] == i)]['DGR']]\n",
    "\n",
    "    s = scp.posthoc_dunn(data, p_adjust = 'bonferroni')\n",
    "    print(s)\n",
    "#results: Significan difference between:\n",
    "#1000 and 2000"
   ]
  },
  {
   "cell_type": "code",
   "execution_count": null,
   "metadata": {},
   "outputs": [],
   "source": [
    "# post - hoc multiple comparisons between weeks - DGR, per flux\n",
    "#for i in [1000,1500,2000]:\n",
    "#    print('\\nFlux: ' + str(i))\n",
    "data = [dall168[(dall168['Week'] == 1)&(dall168['Flux'] == 1000)]['DGR'],\n",
    "                dall168[(dall168['Week'] == 2)&(dall168['Flux'] == 1000)]['DGR'],\n",
    "                dall168[(dall168['Week'] == 3)&(dall168['Flux'] == 1000)]['DGR'],\n",
    "                dall168[(dall168['Week'] == 1)&(dall168['Flux'] == 1500)]['DGR'],\n",
    "                dall168[(dall168['Week'] == 2)&(dall168['Flux'] == 1500)]['DGR'],\n",
    "                dall168[(dall168['Week'] == 3)&(dall168['Flux'] == 1500)]['DGR'],\n",
    "                dall168[(dall168['Week'] == 1)&(dall168['Flux'] == 2000)]['DGR'],\n",
    "                dall168[(dall168['Week'] == 2)&(dall168['Flux'] == 2000)]['DGR'],\n",
    "                dall168[(dall168['Week'] == 3)&(dall168['Flux'] == 2000)]['DGR']]\n",
    "\n",
    "s = scp.posthoc_dunn(data, p_adjust = 'bonferroni')\n",
    "print(s)\n",
    "#results: Significan difference between:\n",
    "#1000 and 2000"
   ]
  },
  {
   "cell_type": "code",
   "execution_count": null,
   "metadata": {},
   "outputs": [],
   "source": [
    "# DGR in different fluxes - by week\n",
    "sns.set_context(\"paper\", rc={\"font.size\":16,\"axes.titlesize\":16,\"axes.labelsize\":16}) \n",
    "\n",
    "for i in [1,2,3]:\n",
    "    fig = sns.catplot(x = 'Flux', y = 'DGR', data = dall168[(dall168.Week == i)],kind='box')#.set(xlabel='Fertilization Duration\\n [hours]', ylabel='Daily growth rate')\n",
    "    fig.set_xticklabels([1000, 1500, 2000],fontdict= { 'fontsize': 14, 'fontweight':'bold','color': 'k'})\n",
    "    fig = sns.stripplot(x = 'Flux', y = 'DGR', data = dall168[(dall168.Week == i)],color='k').set(xlabel='Total weekly nutrient addition\\n [µM NH4/week]', ylabel='Daily growth rate')"
   ]
  },
  {
   "cell_type": "code",
   "execution_count": null,
   "metadata": {},
   "outputs": [],
   "source": [
    "# DGR in different fluxes - by week - no scatter, one plot\n",
    "sns.set_context(\"paper\", rc={\"font.size\":16,\"axes.titlesize\":16,\"axes.labelsize\":16}) \n",
    "\n",
    "#for i in [1,2,3]:\n",
    "fig = sns.catplot(x = 'Flux', y = 'DGR', data = dall168,hue='Week',kind='box').set(xlabel='Total weekly nutrient addition\\n [µM NH4 $week^{-1}$]', ylabel='Daily growth rate')\n",
    "fig.set_xticklabels([1000, 1500, 2000],fontdict= { 'fontsize': 14, 'fontweight':'bold','color': 'k'})\n",
    "#fig = sns.stripplot(x = 'Flux', y = 'DGR', data = dall168[(dall168.Week == i)],color='k').set(xlabel='Total weekly nutrient addition\\n [µM NH4/week]', ylabel='Daily growth rate')"
   ]
  },
  {
   "cell_type": "code",
   "execution_count": null,
   "metadata": {},
   "outputs": [],
   "source": [
    "# kruskal test - comparing N in different fluxes - different weeks\n",
    "for i in [1,2,3]:\n",
    "    s = sp.stats.kruskal(dNall168[(dNall168['Week'] == i)&(dNall168['Flux'] == 1000)]['N'],\n",
    "                    dNall168[(dNall168['Week'] == i)&(dNall168['Flux'] == 1500)]['N'],\n",
    "                    dNall168[(dNall168['Week'] == i)&(dNall168['Flux'] == 2000)]['N'])\n",
    "    print('\\nWeek ' + str(i) + ':')\n",
    "    print(s)\n",
    "# There is a significant difference between fluxes in all weeks"
   ]
  },
  {
   "cell_type": "code",
   "execution_count": null,
   "metadata": {},
   "outputs": [],
   "source": [
    "# post - hoc multiple comparisons between fluxes - N, per week\n",
    "for i in [1,2,3]:\n",
    "    print('\\nWeek: ' + str(i))\n",
    "    data = [dNall168[(dNall168['Flux'] == 1000)&(dNall168['Week'] == i)]['N'],\n",
    "                    dNall168[(dNall168['Flux'] == 1500)&(dNall168['Week'] == i)]['N'],\n",
    "                    dNall168[(dNall168['Flux'] == 2000)&(dNall168['Week'] == i)]['N']]\n",
    "\n",
    "    s = scp.posthoc_dunn(data, p_adjust = 'bonferroni')\n",
    "    print(s)\n",
    "    \n",
    "#results: Significan difference between:\n",
    "#1000 and 2000"
   ]
  },
  {
   "cell_type": "code",
   "execution_count": null,
   "metadata": {},
   "outputs": [],
   "source": [
    "# post - hoc multiple comparisons between weeks - DGR, per flux\n",
    "for i in [1000,1500,2000]:\n",
    "    print('\\nFlux: ' + str(i))\n",
    "    data = [dNall168[(dNall168['Week'] == 1)&(dNall168['Flux'] == i)]['N'],\n",
    "                    dNall168[(dNall168['Week'] == 2)&(dNall168['Flux'] == i)]['N'],\n",
    "                    dNall168[(dNall168['Week'] == 3)&(dNall168['Flux'] == i)]['N']]\n",
    "\n",
    "    s = scp.posthoc_dunn(data, p_adjust = 'bonferroni')\n",
    "    print(s)\n",
    "#results: Significan difference between:\n",
    "#1000 and 2000"
   ]
  },
  {
   "cell_type": "code",
   "execution_count": null,
   "metadata": {},
   "outputs": [],
   "source": []
  },
  {
   "cell_type": "code",
   "execution_count": null,
   "metadata": {},
   "outputs": [],
   "source": [
    "# N in different fluxes - by week\n",
    "sns.set_context(\"paper\", rc={\"font.size\":16,\"axes.titlesize\":16,\"axes.labelsize\":16}) \n",
    "\n",
    "for i in [1,2,3]:\n",
    "    fig = sns.catplot(x = 'Flux', y = 'N', data = dNall168[(dNall168.Week == i)],kind='box')#.set(xlabel='Fertilization Duration\\n [hours]', ylabel='Daily growth rate')\n",
    "    fig.set_xticklabels([1000, 1500, 2000],fontdict= { 'fontsize': 14, 'fontweight':'bold','color': 'k'})\n",
    "    fig = sns.stripplot(x = 'Flux', y = 'N', data = dNall168[(dNall168.Week == i)],color='k').set(xlabel='Total weekly nutrient addition\\n [µM NH4/week]', ylabel='Internal N\\n [% g N / g DW]')"
   ]
  },
  {
   "cell_type": "code",
   "execution_count": null,
   "metadata": {},
   "outputs": [],
   "source": [
    "# N in different fluxes - by week - one plot, no scatter\n",
    "sns.set_context(\"paper\", rc={\"font.size\":16,\"axes.titlesize\":16,\"axes.labelsize\":16}) \n",
    "\n",
    "#for i in [1,2,3]:\n",
    "fig = sns.catplot(x = 'Flux', y = 'N', data = dNall168,hue='Week',kind='box').set(xlabel='Total weekly nutrient addition\\n [µM NH4 $week^{-1}$]', ylabel='Internal N\\n [% g N $g^{-1}$ DW]')\n",
    "fig.set_xticklabels([1000, 1500, 2000],fontdict= { 'fontsize': 14, 'fontweight':'bold','color': 'k'})\n",
    "#fig = sns.stripplot(x = 'Flux', y = 'N', data = dNall168[(dNall168.Week == i)],color='k').set(xlabel='Total weekly nutrient addition\\n [µM NH4/week]', ylabel='Internal N\\n [% g N / g DW]')"
   ]
  },
  {
   "cell_type": "code",
   "execution_count": null,
   "metadata": {},
   "outputs": [],
   "source": [
    "# N in different fluxes - by week, no scatter, one plot\n",
    "sns.set_context(\"paper\", rc={\"font.size\":16,\"axes.titlesize\":16,\"axes.labelsize\":16}) \n",
    "\n",
    "#for i in [1,2,3]:\n",
    "fig = sns.catplot(x = 'Flux', y = 'N', data = dNall168,hue='Week',kind='box').set(xlabel='Total weekly nutrient addition\\n [µM NH4 / week]', ylabel='Internal N\\n [% g N / g DW]')\n",
    "fig.set_xticklabels([1000, 1500, 2000],fontdict= { 'fontsize': 14, 'fontweight':'bold','color': 'k'})\n",
    "#fig = sns.stripplot(x = 'Flux', y = 'N', data = dNall168[(dNall168.Week == i)],color='k').set(xlabel='Total weekly nutrient addition\\n [µM NH4/week]', ylabel='Internal N\\n [% g N / g DW]')"
   ]
  },
  {
   "cell_type": "code",
   "execution_count": null,
   "metadata": {},
   "outputs": [],
   "source": [
    "# kruskal test - comparing Fertilizing Efficiencies in different fluxes - different weeks\n",
    "for i in [1,2,3]:\n",
    "    s = sp.stats.kruskal(dEffall168[(dEffall168['Week'] == i)&(dEffall168['Flux'] == 1000)]['Fertilizing_Efficiency'],\n",
    "                    dEffall168[(dEffall168['Week'] == i)&(dEffall168['Flux'] == 1500)]['Fertilizing_Efficiency'],\n",
    "                    dEffall168[(dEffall168['Week'] == i)&(dEffall168['Flux'] == 2000)]['Fertilizing_Efficiency'])\n",
    "    print('\\nWeek ' + str(i) + ':')\n",
    "    print(s)\n",
    "# There is a significant difference between fluxes in all weeks"
   ]
  },
  {
   "cell_type": "code",
   "execution_count": null,
   "metadata": {},
   "outputs": [],
   "source": [
    "# post - hoc multiple comparisons between fluxes - Fertilizing Efficiency\n",
    "for i in [1,2,3]:\n",
    "    print('\\nWeek: ' + str(i))\n",
    "    data = [dEffall168[(dEffall168['Flux'] == 1000)&(dEffall168['Week'] == i)]['Fertilizing_Efficiency'],\n",
    "                    dEffall168[(dEffall168['Flux'] == 1500)&(dEffall168['Week'] == i)]['Fertilizing_Efficiency'],\n",
    "                    dEffall168[(dEffall168['Flux'] == 2000)&(dEffall168['Week'] == i)]['Fertilizing_Efficiency']]\n",
    "\n",
    "    s = scp.posthoc_dunn(data, p_adjust = 'bonferroni')\n",
    "    print(s)\n",
    "#results: Significan difference between:\n",
    "#1000 and 2000"
   ]
  },
  {
   "cell_type": "code",
   "execution_count": null,
   "metadata": {},
   "outputs": [],
   "source": [
    "# post - hoc multiple comparisons between weeks - DGR, per flux\n",
    "for i in [1000,1500,2000]:\n",
    "    print('\\nFlux: ' + str(i))\n",
    "    data = [dEffall168[(dEffall168['Week'] == 1)&(dEffall168['Flux'] == i)]['Fertilizing_Efficiency'],\n",
    "                    dEffall168[(dEffall168['Week'] == 2)&(dEffall168['Flux'] == i)]['Fertilizing_Efficiency'],\n",
    "                    dEffall168[(dEffall168['Week'] == 3)&(dEffall168['Flux'] == i)]['Fertilizing_Efficiency']]\n",
    "\n",
    "    s = scp.posthoc_dunn(data, p_adjust = 'bonferroni')\n",
    "    print(s)\n",
    "#results: Significan difference between:\n",
    "#1000 and 2000"
   ]
  },
  {
   "cell_type": "code",
   "execution_count": null,
   "metadata": {},
   "outputs": [],
   "source": []
  },
  {
   "cell_type": "code",
   "execution_count": null,
   "metadata": {},
   "outputs": [],
   "source": [
    "# N in different fluxes - by week\n",
    "sns.set_context(\"paper\", rc={\"font.size\":16,\"axes.titlesize\":16,\"axes.labelsize\":16}) \n",
    "\n",
    "for i in [1,2,3]:\n",
    "    fig = sns.catplot(x = 'Flux', y = 'Fertilizing_Efficiency', data = dEffall168[(dEffall168.Week == i)],kind='box')#.set(xlabel='Fertilization Duration\\n [hours]', ylabel='Daily growth rate')\n",
    "    fig.set_xticklabels([1000, 1500, 2000],fontdict= { 'fontsize': 14, 'fontweight':'bold','color': 'k'})\n",
    "    fig = sns.stripplot(x = 'Flux', y = 'Fertilizing_Efficiency', data = dEffall168[(dEffall168.Week == i)],color='k').set(xlabel='Total weekly nutrient addition\\n [µM NH4/week]', ylabel='Fertilizing Efficiency \\n [% g Assimilated N / g Added N]')"
   ]
  },
  {
   "cell_type": "code",
   "execution_count": null,
   "metadata": {},
   "outputs": [],
   "source": [
    "# N in different fluxes - by week\n",
    "sns.set_context(\"paper\", rc={\"font.size\":16,\"axes.titlesize\":16,\"axes.labelsize\":16}) \n",
    "\n",
    "#for i in [1,2,3]:\n",
    "fig = sns.catplot(x = 'Flux', y = 'Fertilizing_Efficiency', data = dEffall168,hue='Week',kind='box').set(xlabel='Total weekly nutrient addition\\n [µM NH4 $week^{-1}$]', ylabel='Fertilizing Efficiency \\n [% g Assimilated N $g^{-1}$ Added N]')\n",
    "fig.set_xticklabels([1000, 1500, 2000],fontdict= { 'fontsize': 14, 'fontweight':'bold','color': 'k'})\n",
    "#fig = sns.stripplot(x = 'Flux', y = 'Fertilizing_Efficiency', data = dEffall168[(dEffall168.Week == i)],color='k').set(xlabel='Total weekly nutrient addition\\n [µM NH4/week]', ylabel='Fertilizing Efficiency \\n [% g Assimilated N / g Added N]')"
   ]
  },
  {
   "cell_type": "code",
   "execution_count": null,
   "metadata": {},
   "outputs": [],
   "source": [
    "# Effects of amplitudes (treatments)"
   ]
  },
  {
   "cell_type": "code",
   "execution_count": null,
   "metadata": {},
   "outputs": [],
   "source": [
    "# data summary of flux = 1000, by treatment (DGR)\n",
    "dall1000 = dall[(dall['Duration'] == 168)&(dall['Flux'] == 1000)]\n",
    "print(rp.summary_cont(dall1000['DGR'].groupby(dall1000['Amplitude'])))\n",
    "\n",
    "# data summary of flux = 1000, by flux (N)\n",
    "dNall1000 = dNall[(dNall['Duration'] == 168)&(dNall['Flux'] == 1000)]\n",
    "print(rp.summary_cont(dNall1000['N'].groupby(dNall1000['Amplitude'])))\n",
    "\n",
    "# data summary of duration = 168, by flux (Fertilizing Efficiency)\n",
    "dEffall1000 = dEffall[(dEffall['Duration'] == 168)&(dEffall['Flux'] == 1000)]\n",
    "print(rp.summary_cont(dEffall1000['Fertilizing_Efficiency'].groupby(dEffall1000['Amplitude'])))"
   ]
  },
  {
   "cell_type": "code",
   "execution_count": null,
   "metadata": {},
   "outputs": [],
   "source": [
    "# kruskal test - comparing N in different amplitudes\n",
    "print('\\nDGR: ')\n",
    "print(sp.stats.kruskal(dall1000[(dall1000['Amplitude'] == 1000)]['DGR'],\n",
    "                dall1000[(dall1000['Amplitude'] == 500)]['DGR'],\n",
    "                dall1000[(dall1000['Amplitude'] == 200)]['DGR']))\n",
    "\n",
    "print('\\nN: ')\n",
    "print(sp.stats.kruskal(dNall1000[(dNall1000['Amplitude'] == 1000)]['N'],\n",
    "                dNall1000[(dNall1000['Amplitude'] == 500)]['N'],\n",
    "                dNall1000[(dNall1000['Amplitude'] == 200)]['N']))\n",
    "\n",
    "print('\\nFertilizing Efficiency: ')\n",
    "print(sp.stats.kruskal(dEffall1000[(dEffall1000['Amplitude'] == 1000)]['Fertilizing_Efficiency'],\n",
    "                dEffall1000[(dEffall1000['Amplitude'] == 500)]['Fertilizing_Efficiency'],\n",
    "                dEffall1000[(dEffall1000['Amplitude'] == 200)]['Fertilizing_Efficiency']))\n"
   ]
  },
  {
   "cell_type": "code",
   "execution_count": null,
   "metadata": {},
   "outputs": [],
   "source": [
    "# post - hoc multiple comparisons between treatments\n",
    "print('\\nDGR: ')\n",
    "data = [dall1000[(dall1000['Amplitude'] == 1000)]['DGR'],\n",
    "                dall1000[(dall1000['Amplitude'] == 500)]['DGR'],\n",
    "                dall1000[(dall1000['Amplitude'] == 200)]['DGR']]\n",
    "\n",
    "print(scp.posthoc_dunn(data, p_adjust = 'bonferroni'))\n",
    "\n",
    "print('\\nN: ')\n",
    "data = [dNall1000[(dNall1000['Amplitude'] == 1000)]['N'],\n",
    "                dNall1000[(dNall1000['Amplitude'] == 500)]['N'],\n",
    "                dNall1000[(dNall1000['Amplitude'] == 200)]['N']]\n",
    "\n",
    "print(scp.posthoc_dunn(data, p_adjust = 'bonferroni'))\n",
    "\n",
    "print('\\nFertilizing Efficiency: ')\n",
    "data = [dEffall1000[(dEffall1000['Amplitude'] == 1000)]['Fertilizing_Efficiency'],\n",
    "                dEffall1000[(dEffall1000['Amplitude'] == 500)]['Fertilizing_Efficiency'],\n",
    "                dEffall1000[(dEffall1000['Amplitude'] == 200)]['Fertilizing_Efficiency']]\n",
    "\n",
    "print(scp.posthoc_dunn(data, p_adjust = 'bonferroni'))"
   ]
  },
  {
   "cell_type": "code",
   "execution_count": null,
   "metadata": {},
   "outputs": [],
   "source": [
    "# Exp #5\n",
    "\n",
    "# data summary of flux = 1000, by treatment (DGR)\n",
    "dall1000_5 = dall[(dall['Duration'] == 168)&(dall['Flux'] == 1000)&(dall['Exp'] == 5)]\n",
    "print(rp.summary_cont(dall1000_5['DGR'].groupby(dall1000_5['Treatment'])))\n",
    "\n",
    "# data summary of flux = 1000, by flux (N)\n",
    "dNall1000_5= dNall[(dNall['Duration'] == 168)&(dNall['Flux'] == 1000)&(dNall['Exp'] == 5)]\n",
    "print(rp.summary_cont(dNall1000_5['N'].groupby(dNall1000_5['Treatment'])))\n",
    "\n",
    "# data summary of duration = 168, by flux (Fertilizing Efficiency)\n",
    "dEffall1000_5 = dEffall[(dEffall['Duration'] == 168)&(dEffall['Flux'] == 1000)&(dEffall['Exp'] == 5)]\n",
    "print(rp.summary_cont(dEffall1000_5['Fertilizing_Efficiency'].groupby(dEffall1000_5['Treatment'])))"
   ]
  },
  {
   "cell_type": "code",
   "execution_count": null,
   "metadata": {},
   "outputs": [],
   "source": [
    "# post - hoc multiple comparisons between treatments - DGR - exp #5\n",
    "data = [dall1000_5[(dall1000_5['Amplitude'] == 1000)]['DGR'],\n",
    "                dall1000_5[(dall1000_5['Amplitude'] == 500)]['DGR'],\n",
    "                dall1000_5[(dall1000_5['Amplitude'] == 200)]['DGR']]\n",
    "\n",
    "scp.posthoc_dunn(data, p_adjust = 'bonferroni')"
   ]
  },
  {
   "cell_type": "code",
   "execution_count": null,
   "metadata": {},
   "outputs": [],
   "source": [
    "# DGR in different amplitudes -  exp 5 in red\n",
    "sns.set_context(\"paper\", rc={\"font.size\":16,\"axes.titlesize\":16,\"axes.labelsize\":16}) \n",
    "\n",
    "fig = sns.catplot(x = 'Amplitude', y = 'DGR', data = dall1000,kind='box')#.set(xlabel='Fertilization Duration\\n [hours]', ylabel='Daily growth rate')\n",
    "fig.set_xticklabels([200, 500, 1000],fontdict= { 'fontsize': 14, 'fontweight':'bold','color': 'k'})\n",
    "#fig = sns.stripplot(x = 'Amplitude', y = 'DGR', data = dall1000,color = 'k').set(xlabel='Amplitude\\n [µM NH4]', ylabel='Daily growth rate')\n",
    "colors = ['r','k','k']\n",
    "for i in [1,2,3]:\n",
    "    fig = sns.stripplot(x = 'Amplitude', y = 'DGR', data = dall1000[(dall1000.Exp == 5)&(dall1000.Week == i)],color = colors[i-1]).set(xlabel='Amplitude\\n [µM NH4]', ylabel='Daily growth rate')"
   ]
  },
  {
   "cell_type": "code",
   "execution_count": null,
   "metadata": {},
   "outputs": [],
   "source": [
    "# N in different amplitudes -  exp 5 in red\n",
    "sns.set_context(\"paper\", rc={\"font.size\":16,\"axes.titlesize\":16,\"axes.labelsize\":16}) \n",
    "\n",
    "fig = sns.catplot(x = 'Amplitude', y = 'N', data = dNall1000,kind='box')#.set(xlabel='Fertilization Duration\\n [hours]', ylabel='Daily growth rate')\n",
    "fig.set_xticklabels([1000, 500, 200],fontdict= { 'fontsize': 14, 'fontweight':'bold','color': 'k'})\n",
    "#fig = sns.stripplot(x = 'Amplitude', y = 'N', data = dNall1000,color = 'k').set(xlabel='Amplitude\\n [µM NH4]', ylabel='Daily growth rate')\n",
    "colors = ['r','k','k']\n",
    "for i in [1,2,3]:\n",
    "    fig = sns.stripplot(x = 'Amplitude', y = 'N', data = dNall1000[(dNall1000.Exp == 5)&(dNall1000.Week == i)],color = colors[i-1]).set(xlabel='Amplitude\\n [µM NH4]', ylabel='Internal N\\n[% g N $g^{-1}$ DW]')"
   ]
  },
  {
   "cell_type": "code",
   "execution_count": null,
   "metadata": {},
   "outputs": [],
   "source": [
    "# N in different amplitudes -  exp 5 in red\n",
    "sns.set_context(\"paper\", rc={\"font.size\":16,\"axes.titlesize\":16,\"axes.labelsize\":16}) \n",
    "\n",
    "fig = sns.catplot(x = 'Amplitude', y = 'Fertilizing_Efficiency', data = dEffall1000,kind='box')#.set(xlabel='Fertilization Duration\\n [hours]', ylabel='Daily growth rate')\n",
    "fig.set_xticklabels([1000, 500, 200],fontdict= { 'fontsize': 14, 'fontweight':'bold','color': 'k'})\n",
    "#fig = sns.stripplot(x = 'Amplitude', y = 'N', data = dNall1000,color = 'k').set(xlabel='Amplitude\\n [µM NH4]', ylabel='Daily growth rate')\n",
    "colors = ['r','k','k']\n",
    "for i in [1,2,3]:\n",
    "    fig = sns.stripplot(x = 'Amplitude', y = 'Fertilizing_Efficiency', data = dEffall1000[(dNall1000.Exp == 5)&(dNall1000.Week == i)],color = colors[i-1]).set(xlabel='Amplitude\\n [µM NH4]', ylabel='Fertilizing Efficiency\\n[% g N Assimilated $g^{-1}$ N Added]')"
   ]
  },
  {
   "cell_type": "raw",
   "metadata": {},
   "source": [
    "# DGR in different amplitudes - by exp\n",
    "sns.set_context(\"paper\", rc={\"font.size\":16,\"axes.titlesize\":16,\"axes.labelsize\":16}) \n",
    "\n",
    "for i in [2,4,5]:\n",
    "    fig = sns.catplot(x = 'Amplitude', y = 'DGR', data = dall1000[(dall1000.Exp == i)],kind='box')#.set(xlabel='Fertilization Duration\\n [hours]', ylabel='Daily growth rate')\n",
    "    fig.set_xticklabels([1000, 500, 200],fontdict= { 'fontsize': 14, 'fontweight':'bold','color': 'k'})\n",
    "    fig = sns.stripplot(x = 'Amplitude', y = 'DGR', data = dall1000[(dall1000.Exp == i)],color='k').set(xlabel='Amplitude\\n [µM NH4]', ylabel='Daily growth rate')"
   ]
  },
  {
   "cell_type": "raw",
   "metadata": {},
   "source": [
    "# N in different amplitudes - by exp\n",
    "sns.set_context(\"paper\", rc={\"font.size\":16,\"axes.titlesize\":16,\"axes.labelsize\":16}) \n",
    "\n",
    "for i in [2,4,5]:\n",
    "    fig = sns.catplot(x = 'Amplitude', y = 'N', data = dNall1000[(dNall1000.Exp == i)],kind='box')#.set(xlabel='Fertilization Duration\\n [hours]', ylabel='Daily growth rate')\n",
    "    fig.set_xticklabels([1000, 500, 200],fontdict= { 'fontsize': 14, 'fontweight':'bold','color': 'k'})\n",
    "    fig = sns.stripplot(x = 'Amplitude', y = 'N', data = dNall1000[(dNall1000.Exp == i)],color='k').set(xlabel='Amplitude\\n [µM NH4]', ylabel='Internal N \\n [% g N / g DW]')"
   ]
  },
  {
   "cell_type": "raw",
   "metadata": {},
   "source": [
    "# Fertilizing_Efficiency in different amplitudes - by week\n",
    "sns.set_context(\"paper\", rc={\"font.size\":16,\"axes.titlesize\":16,\"axes.labelsize\":16}) \n",
    "\n",
    "for i in [2,4,5]:\n",
    "    fig = sns.catplot(x = 'Amplitude', y = 'Fertilizing_Efficiency', data = dEffall1000[(dEffall1000.Exp == i)],kind='box')#.set(xlabel='Fertilization Duration\\n [hours]', ylabel='Daily growth rate')\n",
    "    fig.set_xticklabels([1000, 500, 200],fontdict= { 'fontsize': 14, 'fontweight':'bold','color': 'k'})\n",
    "    fig = sns.stripplot(x = 'Amplitude', y = 'Fertilizing_Efficiency', data = dEffall1000[(dEffall1000.Exp == i)],color='k').set(xlabel='Total weekly nutrient addition\\n [µM NH4/week]', ylabel='Fertilizing Efficiency \\n [% g Assimilated N / g Added N]')"
   ]
  },
  {
   "cell_type": "raw",
   "metadata": {},
   "source": [
    "# Exp #2"
   ]
  },
  {
   "cell_type": "raw",
   "metadata": {},
   "source": [
    "# data summary of flux = 1000, by treatment (DGR)\n",
    "dall1000_2 = dall[(dall['Duration'] == 168)&(dall['Flux'] == 1000)&(dall['Exp'] == 2)]\n",
    "print(rp.summary_cont(dall1000_2['DGR'].groupby(dall1000_2['Treatment'])))\n",
    "\n",
    "# data summary of flux = 1000, by flux (N)\n",
    "dNall1000_2= dNall[(dNall['Duration'] == 168)&(dNall['Flux'] == 1000)&(dNall['Exp'] == 2)]\n",
    "print(rp.summary_cont(dNall1000_2['N'].groupby(dNall1000_2['Treatment'])))\n",
    "\n",
    "# data summary of duration = 168, by flux (Fertilizing Efficiency)\n",
    "dEffall1000_2 = dEffall[(dEffall['Duration'] == 168)&(dEffall['Flux'] == 1000)&(dEffall['Exp'] == 2)]\n",
    "print(rp.summary_cont(dEffall1000_2['Fertilizing_Efficiency'].groupby(dEffall1000_2['Treatment'])))"
   ]
  },
  {
   "cell_type": "raw",
   "metadata": {},
   "source": [
    "# Mann-Whitney U Test between durations of 1000/1 and 500/2 - DGR/N/Fertilizing_Efficiency\n",
    "\n",
    "a = stats.mannwhitneyu(dall1000_2[(dall1000_2.Amplitude == 1000)].DGR, dall1000_2[(dall1000_2.Amplitude == 500)].DGR)\n",
    "print('DGR: ')\n",
    "print(a)\n",
    "\n",
    "b = stats.mannwhitneyu(dNall1000_2[(dNall1000_2.Amplitude == 1000)].N, dNall1000_2[(dNall1000_2.Amplitude == 500)].N)\n",
    "print('\\nN: ')\n",
    "print(b)\n",
    "\n",
    "c = stats.mannwhitneyu(dEffall1000_2[(dEffall1000_2.Amplitude == 1000)].Fertilizing_Efficiency, dEffall1000_2[(dEffall1000_2.Amplitude == 500)].Fertilizing_Efficiency)\n",
    "print('\\nFertilizing Efficiency: ')\n",
    "print(c)"
   ]
  },
  {
   "cell_type": "raw",
   "metadata": {},
   "source": [
    "# DGR/N/Fertilizing Efficiency in different treatment - Exp #2, flux - 1000\n",
    "\n",
    "# Mann-Whitney U Test between durations of 1000/1 and 500/2 - DGR\n",
    "for i in [1,2,3]:\n",
    "    print('\\nWeek ' + str(i) + ':\\n')\n",
    "    a = stats.mannwhitneyu(dall1000_2[(dall1000_2.Amplitude == 1000)&(dall1000_2.Week == i)].DGR, dall1000_2[(dall1000_2.Amplitude == 500)&(dall1000_2.Week == i)].DGR)\n",
    "    print('DGR: ')\n",
    "    print(a)\n",
    "\n",
    "    b = stats.mannwhitneyu(dNall1000_2[(dNall1000_2.Amplitude == 1000)&(dNall1000_2.Week == i)].N, dNall1000_2[(dNall1000_2.Amplitude == 500)&(dNall1000_2.Week == i)].N)\n",
    "    print('\\nN: ')\n",
    "    print(b)\n",
    "       \n",
    "    c = stats.mannwhitneyu(dEffall1000_2[(dEffall1000_2.Amplitude == 1000)&(dEffall1000_2.Week == i)].Fertilizing_Efficiency, dEffall1000_2[(dEffall1000_2.Amplitude == 500)&(dEffall1000_2.Week == i)].Fertilizing_Efficiency)\n",
    "    print('\\nFertilizing Efficiency: ')\n",
    "    print(c)"
   ]
  },
  {
   "cell_type": "raw",
   "metadata": {},
   "source": [
    "# Exp #4"
   ]
  },
  {
   "cell_type": "raw",
   "metadata": {},
   "source": [
    "# data summary of flux = 1000, by treatment (DGR)\n",
    "dall1000_4 = dall[(dall['Duration'] == 168)&(dall['Flux'] == 1000)&(dall['Exp'] == 4)]\n",
    "print(rp.summary_cont(dall1000_4['DGR'].groupby(dall1000_4['Treatment'])))\n",
    "\n",
    "# data summary of flux = 1000, by flux (N)\n",
    "dNall1000_4= dNall[(dNall['Duration'] == 168)&(dNall['Flux'] == 1000)&(dNall['Exp'] == 4)]\n",
    "print(rp.summary_cont(dNall1000_4['N'].groupby(dNall1000_4['Treatment'])))\n",
    "\n",
    "# data summary of duration = 168, by flux (Fertilizing Efficiency)\n",
    "dEffall1000_4 = dEffall[(dEffall['Duration'] == 168)&(dEffall['Flux'] == 1000)&(dEffall['Exp'] == 4)]\n",
    "print(rp.summary_cont(dEffall1000_4['Fertilizing_Efficiency'].groupby(dEffall1000_4['Treatment'])))"
   ]
  },
  {
   "cell_type": "raw",
   "metadata": {},
   "source": [
    "# Mann-Whitney U Test between durations of 1000/1 and 500/2 - DGR/N/Fertilizing_Efficiency\n",
    "\n",
    "a = stats.mannwhitneyu(dall1000_4[(dall1000_4.Amplitude == 1000)].DGR, dall1000_4[(dall1000_4.Amplitude == 500)].DGR)\n",
    "print('DGR: ')\n",
    "print(a)\n",
    "\n",
    "b = stats.mannwhitneyu(dNall1000_4[(dNall1000_4.Amplitude == 1000)].N, dNall1000_4[(dNall1000_4.Amplitude == 500)].N)\n",
    "print('\\nN: ')\n",
    "print(b)\n",
    "\n",
    "c = stats.mannwhitneyu(dEffall1000_4[(dEffall1000_4.Amplitude == 1000)].Fertilizing_Efficiency, dEffall1000_4[(dEffall1000_4.Amplitude == 500)].Fertilizing_Efficiency)\n",
    "print('\\nFertilizing Efficiency: ')\n",
    "print(c)"
   ]
  },
  {
   "cell_type": "raw",
   "metadata": {},
   "source": [
    "# DGR/N/Fertilizing Efficiency in different treatment - Exp #4, flux - 1000\n",
    "\n",
    "# Mann-Whitney U Test between durations of 1000/1 and 500/2 - DGR\n",
    "for i in [1,2,3]:\n",
    "    print('\\nWeek ' + str(i) + ':\\n')\n",
    "    a = stats.mannwhitneyu(dall1000_4[(dall1000_4.Amplitude == 1000)&(dall1000_4.Week == i)].DGR, dall1000_4[(dall1000_4.Amplitude == 500)&(dall1000_4.Week == i)].DGR)\n",
    "    print('DGR: ')\n",
    "    print(a)\n",
    "\n",
    "    b = stats.mannwhitneyu(dNall1000_4[(dNall1000_4.Amplitude == 1000)&(dNall1000_4.Week == i)].N, dNall1000_4[(dNall1000_4.Amplitude == 500)&(dNall1000_4.Week == i)].N)\n",
    "    print('\\nN: ')\n",
    "    print(b)\n",
    "\n",
    "    c = stats.mannwhitneyu(dEffall1000_4[(dEffall1000_4.Amplitude == 1000)&(dEffall1000_4.Week == i)].Fertilizing_Efficiency, dEffall1000_4[(dEffall1000_4.Amplitude == 500)&(dEffall1000_4.Week == i)].Fertilizing_Efficiency)\n",
    "    print('\\nFertilizing Efficiency: ')\n",
    "    print(c)"
   ]
  },
  {
   "cell_type": "code",
   "execution_count": null,
   "metadata": {},
   "outputs": [],
   "source": [
    "# Exp #5"
   ]
  },
  {
   "cell_type": "code",
   "execution_count": null,
   "metadata": {},
   "outputs": [],
   "source": [
    "# kruskal test - comparing N in different treatments\n",
    "\n",
    "sp.stats.kruskal(dall1000_5[(dall1000_5['Amplitude'] == 1000)]['DGR'],\n",
    "                dall1000_5[(dall1000_5['Amplitude'] == 500)]['DGR'],\n",
    "                dall1000_5[(dall1000_5['Amplitude'] == 200)]['DGR'])\n",
    "\n",
    "# There is a significant difference between fluxes"
   ]
  },
  {
   "cell_type": "code",
   "execution_count": null,
   "metadata": {},
   "outputs": [],
   "source": [
    "# post - hoc multiple comparisons between treatments - DGR\n",
    "data = [dall1000_5[(dall1000_5['Amplitude'] == 1000)]['DGR'],\n",
    "                dall1000_5[(dall1000_5['Amplitude'] == 500)]['DGR'],\n",
    "                dall1000_5[(dall1000_5['Amplitude'] == 200)]['DGR']]\n",
    "\n",
    "scp.posthoc_dunn(data, p_adjust = 'bonferroni')"
   ]
  },
  {
   "cell_type": "code",
   "execution_count": null,
   "metadata": {},
   "outputs": [],
   "source": [
    "# post - hoc multiple comparisons between treatments - N\n",
    "data = [dNall1000_5[(dNall1000_5['Amplitude'] == 1000)]['N'],\n",
    "                dNall1000_5[(dNall1000_5['Amplitude'] == 500)]['N'],\n",
    "                dNall1000_5[(dNall1000_5['Amplitude'] == 200)]['N']]\n",
    "\n",
    "scp.posthoc_dunn(data, p_adjust = 'bonferroni')"
   ]
  },
  {
   "cell_type": "code",
   "execution_count": null,
   "metadata": {},
   "outputs": [],
   "source": [
    "# Pearson DGR week 1\n",
    "\n",
    "from scipy.stats import pearsonr \n",
    "   \n",
    "list1 = [200,500,1000] \n",
    "list2 = [0.6,10.3,22.3] \n",
    "  \n",
    "# Apply the pearsonr() \n",
    "corr, _ = pearsonr(list1, list2) \n",
    "print('Pearsons correlation: %.3f' % corr) \n",
    "  \n",
    "# This code is contributed by Amiya Rout "
   ]
  },
  {
   "cell_type": "code",
   "execution_count": null,
   "metadata": {},
   "outputs": [],
   "source": [
    "# kruskal test - comparing N in different treatments\n",
    "\n",
    "sp.stats.kruskal(dNall1000_5[(dNall1000_5['Amplitude'] == 1000)]['N'],\n",
    "                dNall1000_5[(dNall1000_5['Amplitude'] == 500)]['N'],\n",
    "                dNall1000_5[(dNall1000_5['Amplitude'] == 200)]['N'])\n",
    "\n",
    "# There is a significant difference between fluxes"
   ]
  },
  {
   "cell_type": "code",
   "execution_count": null,
   "metadata": {},
   "outputs": [],
   "source": [
    "# post - hoc multiple comparisons between treatments - N\n",
    "data = [dNall1000_5[(dNall1000_5['Amplitude'] == 1000)]['N'],\n",
    "                dNall1000_5[(dNall1000_5['Amplitude'] == 500)]['N'],\n",
    "                dNall1000_5[(dNall1000_5['Amplitude'] == 200)]['N']]\n",
    "\n",
    "scp.posthoc_dunn(data, p_adjust = 'bonferroni')\n",
    "\n",
    "#results: Significan difference between:\n",
    "#1000 and 2000"
   ]
  },
  {
   "cell_type": "code",
   "execution_count": null,
   "metadata": {},
   "outputs": [],
   "source": [
    "# kruskal test - comparing Fertilizing Efficiencies in different treatments\n",
    "\n",
    "sp.stats.kruskal(dEffall1000_5[(dEffall1000_5['Amplitude'] == 1000)]['Fertilizing_Efficiency'],\n",
    "                dEffall1000_5[(dEffall1000_5['Amplitude'] == 500)]['Fertilizing_Efficiency'],\n",
    "                dEffall1000_5[(dEffall1000_5['Amplitude'] == 200)]['Fertilizing_Efficiency'])\n",
    "\n",
    "# There is a significant difference between fluxes"
   ]
  },
  {
   "cell_type": "code",
   "execution_count": null,
   "metadata": {},
   "outputs": [],
   "source": [
    "# post - hoc multiple comparisons between treatments - Fertilizing Efficiency\n",
    "data = [dEffall1000_5[(dEffall1000_5['Amplitude'] == 1000)]['Fertilizing_Efficiency'],\n",
    "                dEffall1000_5[(dEffall1000_5['Amplitude'] == 500)]['Fertilizing_Efficiency'],\n",
    "                dEffall1000_5[(dEffall1000_5['Amplitude'] == 200)]['Fertilizing_Efficiency']]\n",
    "\n",
    "scp.posthoc_dunn(data, p_adjust = 'bonferroni')\n",
    "\n",
    "#results: Significan difference between:\n",
    "#1000 and 2000"
   ]
  },
  {
   "cell_type": "code",
   "execution_count": null,
   "metadata": {},
   "outputs": [],
   "source": [
    "# normality test for all N results"
   ]
  },
  {
   "cell_type": "code",
   "execution_count": null,
   "metadata": {},
   "outputs": [],
   "source": [
    "# normality test for all fertilization efficiency results"
   ]
  },
  {
   "cell_type": "code",
   "execution_count": null,
   "metadata": {},
   "outputs": [],
   "source": [
    "# For model - calibration, validation and excluded data"
   ]
  },
  {
   "cell_type": "code",
   "execution_count": null,
   "metadata": {},
   "outputs": [],
   "source": [
    "dd = df2[(df2.Stage != 'i')&(np.isnan(df2.DW)!= True)&(df2.Treatment != 'Acclimation')&(df2.Sporulated != 'Yes')&(df2.Exp != 1)&(df2.Exp != 2)&(df2.Exp != 5)&(df2.Comment != 'Exclude')&(df2.Week <= 3)]\n",
    "rp.summary_cont(dd['DW'].groupby(dd['Treatment']))"
   ]
  },
  {
   "cell_type": "code",
   "execution_count": null,
   "metadata": {},
   "outputs": [],
   "source": [
    "ddval = df2[(df2.Stage != 'i')&(np.isnan(df2.DW)!= True)&(df2.Treatment != 'Acclimation')&(df2.Comment != 'Exclude')&(df2.Week <= 3)&(df2.Treatment != '2000/1/4')&(df2.Treatment != '500/1/4')&(df2.Exp != 3)&(df2.Exp != 4)]\n",
    "rp.summary_cont(ddval['N'].groupby(ddval['Treatment']))\n",
    "rp.summary_cont(ddval['DW'].groupby(ddval['Treatment']))"
   ]
  },
  {
   "cell_type": "code",
   "execution_count": null,
   "metadata": {},
   "outputs": [],
   "source": [
    "ddexc = df2[(df2.Stage != 'i')&(np.isnan(df2.DW)!= True)&(df2.Treatment != 'Acclimation')&(df2.Sporulated == 'Yes')&(df2.Week <= 3)&(df2.Treatment != '2000/1/4')&(df2.Treatment != '500/1/4')]\n",
    "rp.summary_cont(ddexc['N'].groupby(ddexc['Treatment']))\n",
    "rp.summary_cont(ddexc['DW'].groupby(ddexc['Treatment']))"
   ]
  },
  {
   "cell_type": "code",
   "execution_count": null,
   "metadata": {},
   "outputs": [],
   "source": [
    "ddN = df2[(df2.Stage != 'i')&(np.isnan(df2.N)!= True)&(df2.Treatment != 'Acclimation')&(df2.Exp != 1)&(df2.Exp != 2)&(df2.Exp != 5)&(df2.Comment != 'Exclude')&(df2.Week <= 3)]\n",
    "rp.summary_cont(ddN['N'].groupby(ddN['Treatment']))"
   ]
  },
  {
   "cell_type": "code",
   "execution_count": null,
   "metadata": {},
   "outputs": [],
   "source": [
    "ddNval = df2[(df2.Stage != 'i')&(np.isnan(df2.N)!= True)&(df2.Treatment != 'Acclimation')&(df2.Comment != 'Exclude')&(df2.Week <= 3)&(df2.Treatment != '2000/1/4')&(df2.Treatment != '500/1/4')&(df2.Exp != 3)&(df2.Exp != 4)]\n",
    "rp.summary_cont(ddNval['N'].groupby(ddNval['Treatment']))"
   ]
  },
  {
   "cell_type": "raw",
   "metadata": {},
   "source": [
    "#Indoor experiments figures/statistics:\n",
    "1. Comparison between treatments in final Next, final Nit and DGR + statistical analysis.\n",
    "2. Comparison between weeks in final Next, final Nit and DGR - can be shown in fig 1 with differen colors.\n",
    "3. Effect of time - comparison between weeks\n",
    "4. Starvation experiment - DGR vs t[days]\n",
    "5. System error analysis - effects of weighing stress and biomass trimming"
   ]
  },
  {
   "cell_type": "code",
   "execution_count": null,
   "metadata": {},
   "outputs": [],
   "source": [
    "# Statistical analysis for indoor experiments results\n",
    "# 1. Check normal distribution of DGR in 500/2/168 treatment\n",
    "# 2. ANOVA / Multiple T-test 2-side unequal...\n",
    "# a. Effect of Date, frequency and concentration (and also weighing and trimming) on DGR/Nint (all data combined)\n",
    "# b. Effect of Date, frequency and concentration (and also weighing and trimming) on DGR/Nint (data divided by week)\n"
   ]
  },
  {
   "cell_type": "raw",
   "metadata": {},
   "source": [
    "dNormpartial = df2[(df2.Stage == 'f')&(np.isnan(df2.DGR)!= True)&(df2.Treatment != 'Acclimation')&(df2.Treatment != '200/5/168')&(df2.Treatment != '2000/1/168')&(df2.Treatment != '2000/1/4')&(df2.Treatment != '500/1/4')]\n",
    "print(len(dNormpartial.DGR))\n",
    "plt.hist(dNormpartial['DGR'], bins = 20)\n",
    "#n, bins, patches = plt.hist(x, num_bins, facecolor='blue', alpha=0.5)\n"
   ]
  },
  {
   "cell_type": "raw",
   "metadata": {},
   "source": [
    "# normality test\n",
    "sp.stats.normaltest(dNormpartial.DGR, axis=0, nan_policy='propagate')\n",
    "#https://docs.scipy.org/doc/scipy/reference/generated/scipy.stats.normaltest.html"
   ]
  },
  {
   "cell_type": "raw",
   "metadata": {},
   "source": [
    "dNormfull = df2[(df2.Stage == 'f')&(np.isnan(df2.DGR)!= True)&(df2.Treatment != 'Acclimation')]\n",
    "print(len(dNormfull.DGR))\n",
    "plt.hist(dNormfull['DGR'], bins = 20)#,density = True,stacked =True)\n",
    "#n, bins, patches = plt.hist(x, num_bins, facecolor='blue', alpha=0.5)\n",
    "plt.xlabel(xlabel = 'DGR\\n [% per day]')#, fontdict=None, labelpad=None, **kwargs)\n",
    "plt.ylabel(ylabel = 'Frequency of observations')"
   ]
  },
  {
   "cell_type": "raw",
   "metadata": {},
   "source": [
    "# Normality test #1 - DGR for all treatments - week #2\n",
    "\n",
    "dNormWeek2 = df2[(df2.Stage == 'f')&(np.isnan(df2.DGR)!= True)&(df2.Treatment != 'Acclimation')&(df2.Week == 2)]\n",
    "print(len(dNormWeek2.DGR))\n",
    "plt.hist(dNormWeek2['DGR'], bins = 20)#,density = True,stacked =True)\n",
    "#n, bins, patches = plt.hist(x, num_bins, facecolor='blue', alpha=0.5)\n",
    "plt.xlabel(xlabel = 'DGR\\n [% per day]')#, fontdict=None, labelpad=None, **kwargs)\n",
    "plt.ylabel(ylabel = 'Frequency of observations')"
   ]
  },
  {
   "cell_type": "raw",
   "metadata": {},
   "source": [
    "# Normality test #2 - DGR for all treatments - week #2\n",
    "sp.stats.normaltest(dNormWeek2.DGR, axis=0, nan_policy='propagate')\n",
    "#https://docs.scipy.org/doc/scipy/reference/generated/scipy.stats.normaltest.html"
   ]
  },
  {
   "cell_type": "raw",
   "metadata": {},
   "source": [
    "# Homogeneity of variance - DGR for all treatments - week #2\n",
    "\n",
    "import scipy.stats as stats\n",
    "\n",
    "a = df2[(df2.Treatment != 'Acclimation')&(df2.Stage == 'f')&(np.isnan(df2.N)!= True)&(df2.Duration == 168)].N\n",
    "b = df2[(df2.Treatment != 'Acclimation')&(df2.Stage == 'f')&(np.isnan(df2.N)!= True)&(df2.Duration == 168)].N\n",
    "\n",
    "a = a.tolist()\n",
    "b = b.tolist()\n",
    "\n",
    "#Levene's test centered at the median\n",
    "stats.levene(a,b)\n"
   ]
  },
  {
   "cell_type": "raw",
   "metadata": {},
   "source": [
    "dNormfullN = df2[(df2.Stage == 'f')&(np.isnan(df2.N)!= True)&(df2.Treatment != 'Acclimation')]\n",
    "print(len(dNormfullN.DGR))\n",
    "plt.hist(dNormfullN['N'], bins = 20)#,density = True,stacked =True)\n",
    "#n, bins, patches = plt.hist(x, num_bins, facecolor='blue', alpha=0.5)\n",
    "plt.xlabel(xlabel = 'N\\n [% gN per gDW]')#, fontdict=None, labelpad=None, **kwargs)\n",
    "#plt.ylabel(ylabel = 'Frequency of observations')"
   ]
  },
  {
   "cell_type": "raw",
   "metadata": {},
   "source": [
    "# normality test\n",
    "sp.stats.normaltest(dNormfull.DGR, axis=0, nan_policy='propagate')\n",
    "#https://docs.scipy.org/doc/scipy/reference/generated/scipy.stats.normaltest.html"
   ]
  },
  {
   "cell_type": "raw",
   "metadata": {
    "scrolled": false
   },
   "source": [
    "# Reduced data based - ommiting nan DGR or Nint\n",
    "\n",
    "d = df2[(df2.Stage == 'f')&(np.isnan(df2.DGR)!= True)]\n",
    "dN = df2[(df2.Stage == 'f')&(np.isnan(df2.N)!= True)]"
   ]
  },
  {
   "cell_type": "raw",
   "metadata": {},
   "source": [
    "import scipy.stats as stats\n",
    "\n",
    "a = df2[(df2.Treatment != 'Acclimation')&(df2.Stage == 'f')&(np.isnan(df2.DGR)!= True)&(df2.Duration == 168)].DGR\n",
    "b = df2[(df2.Treatment != 'Acclimation')&(df2.Stage == 'f')&(np.isnan(df2.DGR)!= True)&(df2.Duration == 168)].DGR\n",
    "\n",
    "a = a.tolist()\n",
    "b = b.tolist()\n",
    "\n",
    "#Levene's test centered at the median\n",
    "stats.levene(a,b)"
   ]
  },
  {
   "cell_type": "raw",
   "metadata": {},
   "source": [
    "import scipy.stats as stats\n",
    "\n",
    "a = df2[(df2.Treatment != 'Acclimation')&(df2.Stage == 'f')&(np.isnan(df2.N)!= True)&(df2.Duration == 168)].N\n",
    "b = df2[(df2.Treatment != 'Acclimation')&(df2.Stage == 'f')&(np.isnan(df2.N)!= True)&(df2.Duration == 168)].N\n",
    "\n",
    "a = a.tolist()\n",
    "b = b.tolist()\n",
    "\n",
    "#Levene's test centered at the median\n",
    "stats.levene(a,b)"
   ]
  },
  {
   "cell_type": "raw",
   "metadata": {},
   "source": [
    "sp.stats.levene(df2[(df2.Treatment != 'Acclimation')&(df2.Stage == 'f')&(df2.Duration == 168)].DGR,df2[(df2.Treatment != 'Acclimation')&(df2.Stage == 'f')&(df2.Duration == 4)].DGR)"
   ]
  },
  {
   "cell_type": "code",
   "execution_count": null,
   "metadata": {},
   "outputs": [],
   "source": []
  },
  {
   "cell_type": "code",
   "execution_count": null,
   "metadata": {},
   "outputs": [],
   "source": [
    "# kruskal test - diffrences between exp\n",
    "d = df2[(df2.Stage == 'f')&(np.isnan(df2.DGR)!= True)]\n",
    "dN = df2[(df2.Stage == 'f')&(np.isnan(df2.N)!= True)]\n",
    "\n",
    "\n",
    "dd = d[(d['Treatment'] == '500/2/168')]\n",
    "\n",
    "#dd = dd[(dd['Week'] == i)]\n",
    "pDGR = sp.stats.kruskal(dd[(dd['Exp'] == 2)]['DGR'],\n",
    "                        dd[(dd['Exp'] == 3)]['DGR'],\n",
    "                        dd[(dd['Exp'] == 4)]['DGR'],\n",
    "                        dd[(dd['Exp'] == 5)]['DGR'])\n",
    "\n",
    "\n",
    "#print(len(d168[(d168['Flux'] == 1500)].DGR))\n",
    "print(pDGR)\n",
    "# There is a significant difference between frequencies"
   ]
  },
  {
   "cell_type": "code",
   "execution_count": null,
   "metadata": {},
   "outputs": [],
   "source": [
    "# kruskal test - diffrences between exp\n",
    "d = df2[(df2.Stage == 'f')&(np.isnan(df2.DGR)!= True)]\n",
    "dN = df2[(df2.Stage == 'f')&(np.isnan(df2.N)!= True)]\n",
    "\n",
    "\n",
    "dd = d[(d['Treatment'] == '1000/1/168')]\n",
    "\n",
    "#dd = dd[(dd['Week'] == i)]\n",
    "pDGR = sp.stats.kruskal(dd[(dd['Exp'] == 1)]['DGR'],\n",
    "                        dd[(dd['Exp'] == 2)]['DGR'],\n",
    "                        dd[(dd['Exp'] == 4)]['DGR'],\n",
    "                        dd[(dd['Exp'] == 5)]['DGR'])\n",
    "\n",
    "\n",
    "#print(len(d168[(d168['Flux'] == 1500)].DGR))\n",
    "print(pDGR)\n",
    "# There is a significant difference between frequencies"
   ]
  },
  {
   "cell_type": "code",
   "execution_count": null,
   "metadata": {},
   "outputs": [],
   "source": [
    "# kruskal test - diffrences between exp\n",
    "d = df2[(df2.Stage == 'f')&(np.isnan(df2.DGR)!= True)]\n",
    "dN = df2[(df2.Stage == 'f')&(np.isnan(df2.N)!= True)]\n",
    "\n",
    "\n",
    "ddN = dN[(dN['Treatment'] == '500/2/168')]\n",
    "\n",
    "#dd = dd[(dd['Week'] == i)]\n",
    "pN = sp.stats.kruskal(ddN[(ddN['Exp'] == 2)]['N'],\n",
    "                        ddN[(ddN['Exp'] == 3)]['N'],\n",
    "                        ddN[(ddN['Exp'] == 4)]['N'],\n",
    "                        ddN[(ddN['Exp'] == 5)]['N'])\n",
    "\n",
    "\n",
    "#print(len(d168[(d168['Flux'] == 1500)].DGR))\n",
    "print(pN)\n",
    "# There is a significant difference between frequencies\n",
    "# initial internal N:\n",
    "# Exp 2: 2.05\n",
    "# Exp 3: 1.57\n",
    "# Exp 4: 3.00\n",
    "# Exp 5: 1.3"
   ]
  },
  {
   "cell_type": "code",
   "execution_count": null,
   "metadata": {},
   "outputs": [],
   "source": [
    "# kruskal test - diffrences between exp\n",
    "d = df2[(df2.Stage == 'f')&(np.isnan(df2.DGR)!= True)]\n",
    "dN = df2[(df2.Stage == 'f')&(np.isnan(df2.N)!= True)]\n",
    "\n",
    "\n",
    "ddN = dN[(dN['Treatment'] == '1000/1/168')]\n",
    "\n",
    "#dd = dd[(dd['Week'] == i)]\n",
    "pN = sp.stats.kruskal(ddN[(ddN['Exp'] == 1)]['N'],\n",
    "                        ddN[(ddN['Exp'] == 2)]['N'],\n",
    "                        ddN[(ddN['Exp'] == 4)]['N'],\n",
    "                        ddN[(ddN['Exp'] == 5)]['N'])\n",
    "\n",
    "\n",
    "#print(len(d168[(d168['Flux'] == 1500)].DGR))\n",
    "print(pN)\n",
    "# There is a significant difference between frequencies\n",
    "# initial internal N:\n",
    "# Exp 2: 2.05\n",
    "# Exp 3: 1.57\n",
    "# Exp 4: 3.00\n",
    "# Exp 5: 1.3"
   ]
  },
  {
   "cell_type": "code",
   "execution_count": null,
   "metadata": {},
   "outputs": [],
   "source": [
    "# kruskal test - diffrences between exp\n",
    "d = df2[(df2.Stage == 'f')&(np.isnan(df2.DGR)!= True)]\n",
    "dN = df2[(df2.Stage == 'f')&(np.isnan(df2.N)!= True)]\n",
    "\n",
    "for i in [1,2,3]:\n",
    "    dd = d[(d['Treatment'] == '500/2/168')]\n",
    "\n",
    "    dd = dd[(dd['Week'] == i)]\n",
    "    pDGR = sp.stats.kruskal(dd[(dd['Exp'] == 2)]['DGR'],\n",
    "                            dd[(dd['Exp'] == 3)]['DGR'],\n",
    "                            dd[(dd['Exp'] == 4)]['DGR'],\n",
    "                            dd[(dd['Exp'] == 5)]['DGR'])\n",
    "                            \n",
    "        \n",
    "    #print(len(d168[(d168['Flux'] == 1500)].DGR))\n",
    "    print(pDGR)\n",
    "# There is a significant difference between frequencies\n",
    "\n",
    "# initial internal N:\n",
    "# Exp 2: 2.05\n",
    "# Exp 3: 1.57\n",
    "# Exp 4: 3.00\n",
    "# Exp 5: 1.3"
   ]
  },
  {
   "cell_type": "code",
   "execution_count": null,
   "metadata": {},
   "outputs": [],
   "source": [
    "# kruskal test - diffrences between exp\n",
    "d = df2[(df2.Stage == 'f')&(np.isnan(df2.DGR)!= True)]\n",
    "dN = df2[(df2.Stage == 'f')&(np.isnan(df2.N)!= True)]\n",
    "\n",
    "for i in [1,2,3]:\n",
    "    dd = d[(d['Treatment'] == '1000/1/168')]\n",
    "\n",
    "    dd = dd[(dd['Week'] == i)]\n",
    "    pDGR = sp.stats.kruskal(dd[(dd['Exp'] == 1)]['DGR'],\n",
    "                            dd[(dd['Exp'] == 2)]['DGR'],\n",
    "                            dd[(dd['Exp'] == 4)]['DGR'],\n",
    "                            dd[(dd['Exp'] == 5)]['DGR'])\n",
    "                            \n",
    "        \n",
    "    #print(len(d168[(d168['Flux'] == 1500)].DGR))\n",
    "    print(pDGR)\n",
    "# There is a significant difference between frequencies\n",
    "\n",
    "# initial internal N:\n",
    "# Exp 2: 2.05\n",
    "# Exp 3: 1.57\n",
    "# Exp 4: 3.00\n",
    "# Exp 5: 1.3"
   ]
  },
  {
   "cell_type": "code",
   "execution_count": null,
   "metadata": {},
   "outputs": [],
   "source": [
    "# kruskal test - diffrences between exp by week (N)\n",
    "d = df2[(df2.Stage == 'f')&(np.isnan(df2.DGR)!= True)]\n",
    "dN = df2[(df2.Stage == 'f')&(np.isnan(df2.N)!= True)]\n",
    "\n",
    "for i in [1,2,3]:\n",
    "    ddN = dN[(dN['Treatment'] == '500/2/168')]\n",
    "\n",
    "    ddN = ddN[(ddN['Week'] == i)]\n",
    "    pN = sp.stats.kruskal(ddN[(ddN['Exp'] == 2)]['N'],\n",
    "                            ddN[(ddN['Exp'] == 3)]['N'],\n",
    "                            ddN[(ddN['Exp'] == 4)]['N'],\n",
    "                            ddN[(ddN['Exp'] == 5)]['N'])\n",
    "                            \n",
    "        \n",
    "    #print(len(d168[(d168['Flux'] == 1500)].DGR))\n",
    "    print(pN)\n",
    "# There is a significant difference between frequencies\n",
    "# initial internal N:\n",
    "# Exp 2: 2.05\n",
    "# Exp 3: 1.57\n",
    "# Exp 4: 3.00\n",
    "# Exp 5: 1.3"
   ]
  },
  {
   "cell_type": "code",
   "execution_count": null,
   "metadata": {},
   "outputs": [],
   "source": [
    "# kruskal test - diffrences between exp by week (N)\n",
    "d = df2[(df2.Stage == 'f')&(np.isnan(df2.DGR)!= True)]\n",
    "dN = df2[(df2.Stage == 'f')&(np.isnan(df2.N)!= True)]\n",
    "\n",
    "for i in [1,2,3]:\n",
    "    ddN = dN[(dN['Treatment'] == '1000/1/168')]\n",
    "\n",
    "    ddN = ddN[(ddN['Week'] == i)]\n",
    "    pN = sp.stats.kruskal(ddN[(ddN['Exp'] == 1)]['N'],\n",
    "                            ddN[(ddN['Exp'] == 2)]['N'],\n",
    "                            ddN[(ddN['Exp'] == 4)]['N'],\n",
    "                            ddN[(ddN['Exp'] == 5)]['N'])\n",
    "                            \n",
    "        \n",
    "    #print(len(d168[(d168['Flux'] == 1500)].DGR))\n",
    "    print(pN)\n",
    "# There is a significant difference between frequencies\n",
    "# initial internal N:\n",
    "# Exp 2: 2.05\n",
    "# Exp 3: 1.57\n",
    "# Exp 4: 3.00\n",
    "# Exp 5: 1.3"
   ]
  },
  {
   "cell_type": "code",
   "execution_count": null,
   "metadata": {},
   "outputs": [],
   "source": [
    "# post - hoc multiple comparisons between experiments by weeks - 500/2/168\n",
    "\n",
    "for i in [1,2,3]:\n",
    "    print('\\nWeek: ' + str(i))\n",
    "    d = df2[(df2.Stage == 'f')&(np.isnan(df2.DGR)!= True)]\n",
    "    dd = d[(d['Treatment'] == '500/2/168')&(d['Week']==i)]\n",
    "\n",
    "    data = [dd[(dd['Exp'] == 2)]['DGR'],\n",
    "                                dd[(dd['Exp'] == 3)]['DGR'],\n",
    "                                dd[(dd['Exp'] == 4)]['DGR'],\n",
    "                                dd[(dd['Exp'] == 5)]['DGR']]\n",
    "\n",
    "    print(scp.posthoc_dunn(data, p_adjust = 'bonferroni'))\n",
    "\n",
    "#No significant difference between any two frequencies\n",
    "# initial internal N:\n",
    "# Exp 2: 2.05\n",
    "# Exp 3: 1.57\n",
    "# Exp 4: 3.00\n",
    "# Exp 5: 1.3"
   ]
  },
  {
   "cell_type": "code",
   "execution_count": null,
   "metadata": {},
   "outputs": [],
   "source": [
    "# post - hoc multiple comparisons between experiments - 1000/1/168\n",
    "\n",
    "#for i in [1,2,3]:\n",
    "#    print('\\nWeek: ' + str(i))\n",
    "d = df2[(df2.Stage == 'f')&(np.isnan(df2.DGR)!= True)]\n",
    "dd = d[(d['Treatment'] == '1000/1/168')]\n",
    "\n",
    "data = [dd[(dd['Exp'] == 1)]['DGR'],\n",
    "                            dd[(dd['Exp'] == 2)]['DGR'],\n",
    "                            dd[(dd['Exp'] == 4)]['DGR'],\n",
    "                            dd[(dd['Exp'] == 5)]['DGR']]\n",
    "\n",
    "print(scp.posthoc_dunn(data, p_adjust = 'bonferroni'))\n",
    "\n",
    "#No significant difference between any two frequencies\n",
    "# initial internal N:\n",
    "# Exp 1: 1.85\n",
    "# Exp 2: 2.05\n",
    "# Exp 3: 1.57\n",
    "# Exp 4: 3.00\n",
    "# Exp 5: 1.3"
   ]
  },
  {
   "cell_type": "code",
   "execution_count": null,
   "metadata": {},
   "outputs": [],
   "source": [
    "# post - hoc multiple comparisons between experiments by weeks - 1000/1/168\n",
    "\n",
    "for i in [1,2,3]:\n",
    "    print('\\nWeek: ' + str(i))\n",
    "    d = df2[(df2.Stage == 'f')&(np.isnan(df2.DGR)!= True)]\n",
    "    dd = d[(d['Treatment'] == '1000/1/168')&(d['Week']==i)]\n",
    "\n",
    "    data = [dd[(dd['Exp'] == 1)]['DGR'],\n",
    "                                dd[(dd['Exp'] == 2)]['DGR'],\n",
    "                                dd[(dd['Exp'] == 4)]['DGR'],\n",
    "                                dd[(dd['Exp'] == 5)]['DGR']]\n",
    "\n",
    "    print(scp.posthoc_dunn(data, p_adjust = 'bonferroni'))\n",
    "\n",
    "#No significant difference between any two frequencies\n",
    "# initial internal N:\n",
    "# Exp 1: 1.85\n",
    "# Exp 2: 2.05\n",
    "# Exp 3: 1.57\n",
    "# Exp 4: 3.00\n",
    "# Exp 5: 1.3"
   ]
  },
  {
   "cell_type": "code",
   "execution_count": null,
   "metadata": {},
   "outputs": [],
   "source": [
    "# post - hoc multiple comparisons between experiments  - 1000/1/168 - N\n",
    "\n",
    "dN = df2[(df2.Stage == 'f')&(np.isnan(df2.N)!= True)]\n",
    "\n",
    "ddN = dN[(dN['Treatment'] == '1000/1/168')]\n",
    "\n",
    "data = [ddN[(ddN['Exp'] == 1)]['N'],\n",
    "                            ddN[(ddN['Exp'] == 2)]['N'],\n",
    "                            ddN[(ddN['Exp'] == 4)]['N'],\n",
    "                            ddN[(ddN['Exp'] == 5)]['N']]\n",
    "\n",
    "print(scp.posthoc_dunn(data, p_adjust = 'bonferroni'))\n",
    "\n",
    "#No significant difference between any two frequencies\n",
    "# initial internal N:\n",
    "# Exp 1: 1.85\n",
    "# Exp 2: 2.05\n",
    "# Exp 3: 1.57\n",
    "# Exp 4: 3.00\n",
    "# Exp 5: 1.3"
   ]
  },
  {
   "cell_type": "code",
   "execution_count": null,
   "metadata": {},
   "outputs": [],
   "source": [
    "# post - hoc multiple comparisons between experiments by weeks - 1000/1/168\n",
    "\n",
    "dN = df2[(df2.Stage == 'f')&(np.isnan(df2.N)!= True)]\n",
    "for i in [1,2,3]:\n",
    "    print('\\nWeek: ' + str(i))\n",
    "    #d = df2[(df2.Stage == 'f')&(np.isnan(df2.DGR)!= True)]\n",
    "    ddN = dN[(dN['Treatment'] == '1000/1/168')&(d['Week']==i)]\n",
    "\n",
    "    data = [ddN[(ddN['Exp'] == 1)]['N'],\n",
    "                                ddN[(ddN['Exp'] == 2)]['N'],\n",
    "                                ddN[(ddN['Exp'] == 4)]['N'],\n",
    "                                ddN[(ddN['Exp'] == 5)]['N']]\n",
    "\n",
    "    print(scp.posthoc_dunn(data, p_adjust = 'bonferroni'))\n",
    "\n",
    "#No significant difference between any two frequencies\n",
    "# initial internal N:\n",
    "# Exp 1: 1.85\n",
    "# Exp 2: 2.05\n",
    "# Exp 3: 1.57\n",
    "# Exp 4: 3.00\n",
    "# Exp 5: 1.3"
   ]
  },
  {
   "cell_type": "code",
   "execution_count": null,
   "metadata": {},
   "outputs": [],
   "source": [
    "# post - hoc multiple comparisons between experiments by weeks - week 1\n",
    "\n",
    "i = 1\n",
    "d = df2[(df2.Stage == 'f')&(np.isnan(df2.DGR)!= True)]\n",
    "dd = d[(d['Treatment'] == '1000/1/168')&(d['Week']==i)]\n",
    "\n",
    "data = [dd[(dd['Exp'] == 1)]['DGR'],\n",
    "                            dd[(dd['Exp'] == 2)]['DGR'],\n",
    "                            dd[(dd['Exp'] == 4)]['DGR'],\n",
    "                            dd[(dd['Exp'] == 5)]['DGR']]\n",
    "\n",
    "scp.posthoc_dunn(data, p_adjust = 'bonferroni')\n",
    "\n",
    "#No significant difference between any two frequencies\n",
    "# initial internal N:\n",
    "# Exp 2: 2.05\n",
    "# Exp 3: 1.57\n",
    "# Exp 4: 3.00\n",
    "# Exp 5: 1.3"
   ]
  },
  {
   "cell_type": "raw",
   "metadata": {},
   "source": [
    "# post - hoc multiple comparisons between experiments by weeks - week 2\n",
    "\n",
    "i = 2\n",
    "d = df2[(df2.Stage == 'f')&(np.isnan(df2.DGR)!= True)]\n",
    "dd = d[(d['Duration'] == 168)&(d['Treatment'] == '500/2/168')&(d['Week']==i)]\n",
    "\n",
    "data = [dd[(dd['Exp'] == 2)]['DGR'],\n",
    "                            dd[(dd['Exp'] == 3)]['DGR'],\n",
    "                            dd[(dd['Exp'] == 4)]['DGR'],\n",
    "                            dd[(dd['Exp'] == 5)]['DGR']]\n",
    "\n",
    "scp.posthoc_dunn(data, p_adjust = 'bonferroni')\n",
    "\n",
    "#No significant difference between any two frequencies"
   ]
  },
  {
   "cell_type": "code",
   "execution_count": null,
   "metadata": {},
   "outputs": [],
   "source": [
    "# post - hoc multiple comparisons between experiments by weeks - week 1\n",
    "\n",
    "i = 1\n",
    "dN = df2[(df2.Stage == 'f')&(np.isnan(df2.N)!= True)]\n",
    "ddN = dN[(dN['Treatment'] == '500/2/168')&(dN['Week']==i)]\n",
    "\n",
    "data = [ddN[(ddN['Exp'] == 2)]['N'],\n",
    "                            ddN[(ddN['Exp'] == 3)]['N'],\n",
    "                            ddN[(ddN['Exp'] == 4)]['N'],\n",
    "                            ddN[(ddN['Exp'] == 5)]['N']]\n",
    "\n",
    "scp.posthoc_dunn(data, p_adjust = 'bonferroni')\n",
    "\n",
    "#No significant difference between any two frequencies\n",
    "# initial internal N:\n",
    "# Exp 2: 2.05\n",
    "# Exp 3: 1.57\n",
    "# Exp 4: 3.00\n",
    "# Exp 5: 1.3"
   ]
  },
  {
   "cell_type": "code",
   "execution_count": null,
   "metadata": {},
   "outputs": [],
   "source": [
    "# post - hoc multiple comparisons between experiments by weeks - week 1\n",
    "\n",
    "i = 1\n",
    "dN = df2[(df2.Stage == 'f')&(np.isnan(df2.N)!= True)]\n",
    "ddN = dN[((dN['Treatment'] == '1000/1/168')&(dN['Week']==i))]\n",
    "\n",
    "data = [ddN[(ddN['Exp'] == 1)]['N'],\n",
    "                            ddN[(ddN['Exp'] == 2)]['N'],\n",
    "                            ddN[(ddN['Exp'] == 4)]['N'],\n",
    "                            ddN[(ddN['Exp'] == 5)]['N']]\n",
    "\n",
    "scp.posthoc_dunn(data, p_adjust = 'bonferroni')\n",
    "\n",
    "#No significant difference between any two frequencies\n",
    "# initial internal N:\n",
    "# Exp 2: 2.05\n",
    "# Exp 3: 1.57\n",
    "# Exp 4: 3.00\n",
    "# Exp 5: 1.3"
   ]
  },
  {
   "cell_type": "code",
   "execution_count": null,
   "metadata": {},
   "outputs": [],
   "source": [
    "rp.summary_cont(df2[(df2.Stage == 'f')&(df2.Treatment == '500/2/168')]['DGR'].groupby(df2[(df2.Stage == 'f')&(df2.Treatment == '500/2/168')]['Exp']))"
   ]
  },
  {
   "cell_type": "code",
   "execution_count": null,
   "metadata": {},
   "outputs": [],
   "source": [
    "rp.summary_cont(df2[(df2.Stage == 'f')&(df2.Treatment == '500/2/168')]['N'].groupby(df2[(df2.Stage == 'f')&(df2.Treatment == '500/2/168')]['Exp']))"
   ]
  },
  {
   "cell_type": "code",
   "execution_count": null,
   "metadata": {},
   "outputs": [],
   "source": [
    "rp.summary_cont(df2[(df2.Stage == 'f')&(df2.Treatment == '500/2/168')]['Fertilizing_Efficiency'].groupby(df2[(df2.Stage == 'f')&(df2.Treatment == '500/2/168')]['Exp']))"
   ]
  },
  {
   "cell_type": "code",
   "execution_count": null,
   "metadata": {},
   "outputs": [],
   "source": [
    "# growth rates in treatment 500/2/168 in different experiments\n",
    "\n",
    "sns.set_context(\"paper\", rc={\"font.size\":16,\"axes.titlesize\":16,\"axes.labelsize\":16}) \n",
    "\n",
    "# combined strip plot - all data\n",
    "SA1_W_DGR = sns.catplot(x = 'Exp', y = 'DGR', data = df2[(df2.Stage == 'f')&(df2.Treatment == '500/2/168')],kind='box').set(xlabel='')\n",
    "SA1_W_DGR.set_xticklabels(['2,3,4,5'])\n",
    "SA1_W_DGR.set_xticklabels([2,3,4,5],fontdict= { 'fontsize': 14, 'fontweight':'bold','color': 'k'})\n",
    "SA1_W_DGR = sns.stripplot(x = 'Exp', y = 'DGR', data = df2[(df2.Stage == 'f')&(df2.Treatment == '500/2/168')],color='k').set(xlabel='\\n Experiment #', ylabel='Daily growth rate')\n"
   ]
  },
  {
   "cell_type": "code",
   "execution_count": null,
   "metadata": {},
   "outputs": [],
   "source": [
    "# growth rates in treatment 500/2/168 in different experiments - no scatter\n",
    "\n",
    "sns.set_context(\"paper\", rc={\"font.size\":16,\"axes.titlesize\":16,\"axes.labelsize\":16}) \n",
    "\n",
    "# combined strip plot - all data\n",
    "SA1_W_DGR = sns.catplot(x = 'Exp', y = 'DGR', data = df2[(df2.Stage == 'f')&(df2.Treatment == '500/2/168')],kind='box').set(xlabel='\\n Run #', ylabel='Daily growth rate')\n",
    "SA1_W_DGR.set_xticklabels(['2,3,4,5'])\n",
    "SA1_W_DGR.set_xticklabels([2,3,4,5],fontdict= { 'fontsize': 14, 'fontweight':'bold','color': 'k'})\n",
    "#SA1_W_DGR = sns.stripplot(x = 'Exp', y = 'DGR', data = df2[(df2.Stage == 'f')&(df2.Treatment == '500/2/168')],color='k').set(xlabel='\\n Experiment #', ylabel='Daily growth rate')\n"
   ]
  },
  {
   "cell_type": "code",
   "execution_count": null,
   "metadata": {},
   "outputs": [],
   "source": [
    "# N in treatment 500/2/168 in different experiments - no scatter\n",
    "\n",
    "sns.set_context(\"paper\", rc={\"font.size\":16,\"axes.titlesize\":16,\"axes.labelsize\":16}) \n",
    "\n",
    "# combined strip plot - all data\n",
    "SA1_W_DGR = sns.catplot(x = 'Exp', y = 'N', data = df2[(df2.Stage == 'f')&(df2.Treatment == '500/2/168')],kind='box').set(xlabel='\\n Run #', ylabel='Internal N\\n[% g N $g^{-1}$ DW]')\n",
    "SA1_W_DGR.set_xticklabels(['2,3,4,5'])\n",
    "SA1_W_DGR.set_xticklabels([2,3,4,5],fontdict= { 'fontsize': 14, 'fontweight':'bold','color': 'k'})\n",
    "#SA1_W_DGR = sns.stripplot(x = 'Exp', y = 'N', data = df2[(df2.Stage == 'f')&(df2.Treatment == '500/2/168')],color='k').set(xlabel='\\n Experiment #', ylabel='Internal N\\n[% g N/ g DW]')\n"
   ]
  },
  {
   "cell_type": "code",
   "execution_count": null,
   "metadata": {},
   "outputs": [],
   "source": [
    "# Fertilizing Efficiency in treatment 500/2/168 in different experiments - no scatter\n",
    "\n",
    "sns.set_context(\"paper\", rc={\"font.size\":16,\"axes.titlesize\":16,\"axes.labelsize\":16}) \n",
    "\n",
    "# combined strip plot - all data\n",
    "SA1_W_DGR = sns.catplot(x = 'Exp', y = 'Fertilizing_Efficiency', data = df2[(df2.Stage == 'f')&(df2.Treatment == '500/2/168')],kind='box').set(xlabel='\\n Run #', ylabel='Fertilizing Efficiency\\n[% g Assimilated N $g^{-1}$ Added N]')\n",
    "SA1_W_DGR.set_xticklabels(['2,3,4,5'])\n",
    "SA1_W_DGR.set_xticklabels([2,3,4,5],fontdict= { 'fontsize': 14, 'fontweight':'bold','color': 'k'})\n",
    "#SA1_W_DGR = sns.stripplot(x = 'Exp', y = 'N', data = df2[(df2.Stage == 'f')&(df2.Treatment == '500/2/168')],color='k').set(xlabel='\\n Experiment #', ylabel='Internal N\\n[% g N/ g DW]')\n"
   ]
  },
  {
   "cell_type": "code",
   "execution_count": null,
   "metadata": {},
   "outputs": [],
   "source": [
    "# N in treatment 500/2/168 in different experiments\n",
    "\n",
    "sns.set_context(\"paper\", rc={\"font.size\":16,\"axes.titlesize\":16,\"axes.labelsize\":16}) \n",
    "\n",
    "# combined strip plot - all data\n",
    "SA1_W_DGR = sns.catplot(x = 'Exp', y = 'N', data = df2[(df2.Stage == 'f')&(df2.Treatment == '500/2/168')],kind='box').set(xlabel='')\n",
    "SA1_W_DGR.set_xticklabels(['2,3,4,5'])\n",
    "SA1_W_DGR.set_xticklabels([2,3,4,5],fontdict= { 'fontsize': 14, 'fontweight':'bold','color': 'k'})\n",
    "SA1_W_DGR = sns.stripplot(x = 'Exp', y = 'N', data = df2[(df2.Stage == 'f')&(df2.Treatment == '500/2/168')],color='k').set(xlabel='\\n Experiment #', ylabel='Internal N\\n[% g N/ g DW]')\n"
   ]
  },
  {
   "cell_type": "raw",
   "metadata": {},
   "source": [
    "# growth rates in different experiments - by week (DGR)\n",
    "sns.set_context(\"paper\", rc={\"font.size\":16,\"axes.titlesize\":16,\"axes.labelsize\":16}) \n",
    "\n",
    "# combined strip plot - all data\n",
    "for i in [1,2,3]:\n",
    "    #SA1_EXP_DGR_W = sns.catplot(x = 'Exp', y = 'DGR', data = df2[(df2.Stage == 'f')&(df2.Treatment == '500/2/168')&(df2.Week == i)],kind='box')\n",
    "    SA1_EXP_DGR_W = sns.catplot(x = 'Exp', y = 'DGR', data = df2[(df2.Stage == 'f')&(df2.Treatment == '500/2/168')&(df2.Week == i)],hue='Exp',kind = 'strip').set(xlabel='Experiment #', ylabel='Daily growth rate')\n",
    "    SA1_EXP_DGR_W.set_xticklabels([2,3,4,5],fontdict= { 'fontsize': 14, 'fontweight':'bold','color': 'k'})\n",
    "# Initial internal N:    \n",
    "# Exp 2: 2.05\n",
    "# Exp 3: 1.57\n",
    "# Exp 4: 3.00\n",
    "# Exp 5: 1.3"
   ]
  },
  {
   "cell_type": "code",
   "execution_count": null,
   "metadata": {},
   "outputs": [],
   "source": [
    "# growth rates in different experiments - by week (DGR)\n",
    "sns.set_context(\"paper\", rc={\"font.size\":16,\"axes.titlesize\":16,\"axes.labelsize\":16}) \n",
    "\n",
    "# combined strip plot - all data\n",
    "from sklearn.linear_model import LinearRegression\n",
    "\n",
    "#for i in [2,3,4,5]:\n",
    "    #SA1_EXP_DGR_W = sns.catplot(x = 'Exp', y = 'DGR', data = df2[(df2.Stage == 'f')&(df2.Treatment == '500/2/168')&(df2.Week == i)],kind='box')\n",
    "ax0 = sns.catplot(x = 'Week', y = 'DGR', data = df2[(df2.Stage == 'f')&(df2.Treatment == '500/2/168')],hue='Exp',kind = 'strip',col='Exp').set(xlabel='Week #', ylabel='Daily growth rate')\n",
    "ax0.set_xticklabels([1,2,3],fontdict= { 'fontsize': 14, 'fontweight':'bold','color': 'k'})\n",
    "    # Initial internal N:    \n",
    "# Exp 2: 2.05\n",
    "# Exp 3: 1.57\n",
    "# Exp 4: 3.00\n",
    "# Exp 5: 1.3\n",
    "\n",
    "# S.A #1 - Week effect on DGR\n",
    "\n",
    "#i = 2\n",
    "#x = df2[(df2.Stage == 'f')&(df2.Treatment == '500/2/168')&(df2.Exp == i)].Week\n",
    "#y = df2[(df2.Stage == 'f')&(df2.Treatment == '500/2/168')&(df2.Exp == i)].DGR\n",
    "\n",
    "\n",
    "#fig,ax0 = plt.subplots(1,1,figsize=(7,5))#,sharex=True)\n",
    "#ax0.plot(x[4:-1],y[4:-1],'.',markersize=6,color = 'k')\n",
    "#ax0.plot(x[0:3],y[0:3],'.',markersize=6,color = 'r')\n",
    "\n",
    "\n",
    "#mm, bb = np.polyfit(x, y, 1)\n",
    "#xx = np.array(x).reshape((-1, 1))\n",
    "#model = LinearRegression()\n",
    "#model.fit(xx, y)\n",
    "#model = LinearRegression().fit(xx, y)\n",
    "#r_sq = model.score(xx, y)\n",
    "\n",
    "#ax0.plot(x, mm*x + bb,'--',color = 'orange',markersize=6)\n",
    "\n",
    "#ax0.set_ylabel('Daily growth rate', fontsize=12, weight='bold')\n",
    "#ax0.set_xlabel('Time\\n[Week]', fontsize=12, weight='bold')\n",
    "\n",
    "#ax0.xlabel('Week')\n",
    "#ax0.ylabel('DGR')\n",
    "\n",
    "#ax0.legend([['$R^{2}$ = ' + str(round(r_sq,2)) + ', y = ' + str(round(mm,2)) + 'x +' + str(round(bb,2))]])"
   ]
  },
  {
   "cell_type": "code",
   "execution_count": null,
   "metadata": {},
   "outputs": [],
   "source": [
    "# N in different treatments - by week\n",
    "sns.set_context(\"paper\", rc={\"font.size\":16,\"axes.titlesize\":16,\"axes.labelsize\":16}) \n",
    "\n",
    "# combined strip plot - all data\n",
    "#for i in [1,2,3]:\n",
    "    #SA1_EXP_N_W = sns.catplot(x = 'Exp', y = 'N', data = df2[(df2.Stage == 'f')&(df2.Treatment == '500/2/168')&(df2.Week == i)],kind='box')\n",
    "SA1_EXP_N_W = sns.catplot(x = 'Week', y = 'N', data = df2[(df2.Stage == 'f')&(df2.Treatment == '500/2/168')],hue='Exp',kind='strip',col='Exp').set(xlabel='Week #', ylabel='Internal N \\n [% g N $g^{-1}$ DW]')\n",
    "SA1_EXP_N_W.set_xticklabels([1,2,3],fontdict= { 'fontsize': 14, 'fontweight':'bold','color': 'k'})\n",
    "\n",
    "# Initial internal N:    \n",
    "# Exp 2: 2.05\n",
    "# Exp 3: 1.57\n",
    "# Exp 4: 3.00\n",
    "# Exp 5: 1.3"
   ]
  },
  {
   "cell_type": "raw",
   "metadata": {},
   "source": [
    "# Fertilizing Efficiency in different treatments - by week \n",
    "sns.set_context(\"paper\", rc={\"font.size\":16,\"axes.titlesize\":16,\"axes.labelsize\":16}) \n",
    "\n",
    "# combined strip plot - all data\n",
    "for i in [1,2,3]:\n",
    "    #SA1_EXP_N_W = sns.catplot(x = 'Exp', y = 'Fertilizing_Efficiency', data = df2[(df2.Stage == 'f')&(df2.Treatment == '500/2/168')&(df2.Week == i)],kind='box')\n",
    "    SA1_EXP_N_W = sns.catplot(x = 'Exp', y = 'Fertilizing_Efficiency', data = df2[(df2.Stage == 'f')&(df2.Treatment == '500/2/168')&(df2.Week == i)],hue='Exp',kind = 'strip').set(xlabel='Experiment #', ylabel='Fertilizing Efficiency \\n [% g Assimilated N / g Added N]')\n",
    "    SA1_EXP_N_W.set_xticklabels([2,3,4,5],fontdict= { 'fontsize': 14, 'fontweight':'bold','color': 'k'})\n",
    "\n",
    "# Initial internal N:    \n",
    "# Exp 2: 2.05\n",
    "# Exp 3: 1.57\n",
    "# Exp 4: 3.00\n",
    "# Exp 5: 1.3"
   ]
  },
  {
   "cell_type": "code",
   "execution_count": null,
   "metadata": {},
   "outputs": [],
   "source": [
    "rp.summary_cont(df2[(df2.Stage == 'f')&(df2.Treatment == '1000/1/168')]['DGR'].groupby(df2[(df2.Stage == 'f')&(df2.Treatment == '1000/1/168')]['Exp']))"
   ]
  },
  {
   "cell_type": "code",
   "execution_count": null,
   "metadata": {},
   "outputs": [],
   "source": [
    "rp.summary_cont(df2[(df2.Stage == 'f')&(df2.Treatment == '1000/1/168')]['N'].groupby(df2[(df2.Stage == 'f')&(df2.Treatment == '1000/1/168')]['Exp']))"
   ]
  },
  {
   "cell_type": "code",
   "execution_count": null,
   "metadata": {},
   "outputs": [],
   "source": [
    "rp.summary_cont(df2[(df2.Stage == 'f')&(df2.Treatment == '1000/1/168')]['Fertilizing_Efficiency'].groupby(df2[(df2.Stage == 'f')&(df2.Treatment == '1000/1/168')]['Exp']))"
   ]
  },
  {
   "cell_type": "code",
   "execution_count": null,
   "metadata": {},
   "outputs": [],
   "source": [
    "# growth rates in treatment 1000/1/168 in different experiments\n",
    "\n",
    "sns.set_context(\"paper\", rc={\"font.size\":16,\"axes.titlesize\":16,\"axes.labelsize\":16}) \n",
    "\n",
    "# combined strip plot - all data\n",
    "SA1_W_DGR = sns.catplot(x = 'Exp', y = 'DGR', data = df2[(df2.Stage == 'f')&(df2.Treatment == '1000/1/168')],kind='box').set(xlabel='')\n",
    "SA1_W_DGR.set_xticklabels(['1,2,4,5'])\n",
    "SA1_W_DGR.set_xticklabels([1,2,4,5],fontdict= { 'fontsize': 14, 'fontweight':'bold','color': 'k'})\n",
    "SA1_W_DGR = sns.stripplot(x = 'Exp', y = 'DGR', data = df2[(df2.Stage == 'f')&(df2.Treatment == '1000/1/168')],color='k').set(xlabel='\\n Experiment #', ylabel='Daily growth rate')\n"
   ]
  },
  {
   "cell_type": "code",
   "execution_count": null,
   "metadata": {},
   "outputs": [],
   "source": [
    "# growth rates in treatment 1000/1/168 in different experiments - no scatter\n",
    "\n",
    "sns.set_context(\"paper\", rc={\"font.size\":16,\"axes.titlesize\":16,\"axes.labelsize\":16}) \n",
    "\n",
    "# combined strip plot - all data\n",
    "SA1_W_DGR = sns.catplot(x = 'Exp', y = 'DGR', data = df2[(df2.Stage == 'f')&(df2.Treatment == '1000/1/168')],kind='box').set(xlabel='\\n Run #', ylabel='Daily growth rate')\n",
    "SA1_W_DGR.set_xticklabels(['1,2,4,5'])\n",
    "SA1_W_DGR.set_xticklabels([1,2,4,5],fontdict= { 'fontsize': 14, 'fontweight':'bold','color': 'k'})\n",
    "#SA1_W_DGR = sns.stripplot(x = 'Exp', y = 'DGR', data = df2[(df2.Stage == 'f')&(df2.Treatment == '1000/1/168')],color='k').set(xlabel='\\n Experiment #', ylabel='Daily growth rate')\n"
   ]
  },
  {
   "cell_type": "code",
   "execution_count": null,
   "metadata": {},
   "outputs": [],
   "source": [
    "# N in treatment 1000/1/168 in different experiments\n",
    "\n",
    "sns.set_context(\"paper\", rc={\"font.size\":16,\"axes.titlesize\":16,\"axes.labelsize\":16}) \n",
    "\n",
    "# combined strip plot - all data\n",
    "SA1_W_DGR = sns.catplot(x = 'Exp', y = 'N', data = df2[(df2.Stage == 'f')&(df2.Treatment == '1000/1/168')],kind='box').set(xlabel='')\n",
    "SA1_W_DGR.set_xticklabels(['1,2,4,5'])\n",
    "SA1_W_DGR.set_xticklabels([1,2,4,5],fontdict= { 'fontsize': 14, 'fontweight':'bold','color': 'k'})\n",
    "SA1_W_DGR = sns.stripplot(x = 'Exp', y = 'N', data = df2[(df2.Stage == 'f')&(df2.Treatment == '1000/1/168')],color='k').set(xlabel='\\n Experiment #', ylabel='Internal N\\n[% g N/ g DW]')\n"
   ]
  },
  {
   "cell_type": "code",
   "execution_count": null,
   "metadata": {},
   "outputs": [],
   "source": [
    "# N in treatment 1000/1/168 in different experiments - no scatter\n",
    "\n",
    "sns.set_context(\"paper\", rc={\"font.size\":16,\"axes.titlesize\":16,\"axes.labelsize\":16}) \n",
    "\n",
    "# combined strip plot - all data\n",
    "SA1_W_DGR = sns.catplot(x = 'Exp', y = 'N', data = df2[(df2.Stage == 'f')&(df2.Treatment == '1000/1/168')],kind='box').set(xlabel='\\n Run #', ylabel='Internal N\\n[% g N $g^{-1}$ DW]')\n",
    "#SA1_W_DGR.set_xticklabels(['1,2,4,5'])\n",
    "SA1_W_DGR.set_xticklabels([1,2,4,5],fontdict= { 'fontsize': 14, 'fontweight':'bold','color': 'k'})\n",
    "#A1_W_DGR = sns.stripplot(x = 'Exp', y = 'N', data = df2[(df2.Stage == 'f')&(df2.Treatment == '1000/1/168')],color='k').set(xlabel='\\n Experiment #', ylabel='Internal N\\n[% g N/ g DW]')\n"
   ]
  },
  {
   "cell_type": "code",
   "execution_count": null,
   "metadata": {},
   "outputs": [],
   "source": [
    "# Fertilizing Efficiency in treatment 1000/1/168 in different experiments - no scatter\n",
    "\n",
    "sns.set_context(\"paper\", rc={\"font.size\":16,\"axes.titlesize\":16,\"axes.labelsize\":16}) \n",
    "\n",
    "# combined strip plot - all data\n",
    "SA1_W_DGR = sns.catplot(x = 'Exp', y = 'Fertilizing_Efficiency', data = df2[(df2.Stage == 'f')&(df2.Treatment == '1000/1/168')],kind='box').set(xlabel='\\n Run #', ylabel='Fertilizing Efficiency\\n[% g assimilated N $g^{-1}$ added N]')\n",
    "#SA1_W_DGR.set_xticklabels(['1,2,4,5'])\n",
    "SA1_W_DGR.set_xticklabels([1,2,4,5],fontdict= { 'fontsize': 14, 'fontweight':'bold','color': 'k'})\n",
    "#A1_W_DGR = sns.stripplot(x = 'Exp', y = 'N', data = df2[(df2.Stage == 'f')&(df2.Treatment == '1000/1/168')],color='k').set(xlabel='\\n Experiment #', ylabel='Internal N\\n[% g N/ g DW]')\n"
   ]
  },
  {
   "cell_type": "code",
   "execution_count": null,
   "metadata": {},
   "outputs": [],
   "source": [
    "# growth rates in different experiments - by week (DGR)\n",
    "sns.set_context(\"paper\", rc={\"font.size\":16,\"axes.titlesize\":16,\"axes.labelsize\":16}) \n",
    "\n",
    "# combined strip plot - all data\n",
    "#for i in [1,2,3]:\n",
    "    #SA1_EXP_DGR_W = sns.catplot(x = 'Exp', y = 'DGR', data = df2[(df2.Stage == 'f')&(df2.Treatment == '500/2/168')&(df2.Week == i)],kind='box')\n",
    "SA1_EXP_DGR_W = sns.catplot(x = 'Week', y = 'DGR', data = df2[(df2.Stage == 'f')&(df2.Treatment == '1000/1/168')],hue='Exp',kind = 'strip',col='Exp').set(xlabel='Week #', ylabel='Daily growth rate')\n",
    "SA1_EXP_DGR_W.set_xticklabels([1,2,3],fontdict= { 'fontsize': 14, 'fontweight':'bold','color': 'k'})\n",
    "# Initial internal N:    \n",
    "# Exp 2: 2.05\n",
    "# Exp 3: 1.57\n",
    "# Exp 4: 3.00\n",
    "# Exp 5: 1.3"
   ]
  },
  {
   "cell_type": "code",
   "execution_count": null,
   "metadata": {},
   "outputs": [],
   "source": [
    "# N in different experiments - by week (DGR)\n",
    "sns.set_context(\"paper\", rc={\"font.size\":16,\"axes.titlesize\":16,\"axes.labelsize\":16}) \n",
    "\n",
    "# combined strip plot - all data\n",
    "#for i in [1,2,3]:\n",
    "    #SA1_EXP_DGR_W = sns.catplot(x = 'Exp', y = 'DGR', data = df2[(df2.Stage == 'f')&(df2.Treatment == '500/2/168')&(df2.Week == i)],kind='box')\n",
    "SA1_EXP_DGR_W = sns.catplot(x = 'Week', y = 'N', data = df2[(df2.Stage == 'f')&(df2.Treatment == '1000/1/168')],hue='Exp',kind = 'strip',col='Exp').set(xlabel='Week #', ylabel='Internal N\\n[% g N $g^{-1}$ DW]')\n",
    "SA1_EXP_DGR_W.set_xticklabels([1,2,3],fontdict= { 'fontsize': 14, 'fontweight':'bold','color': 'k'})\n",
    "# Initial internal N:    \n",
    "# Exp 2: 2.05\n",
    "# Exp 3: 1.57\n",
    "# Exp 4: 3.00\n",
    "# Exp 5: 1.3"
   ]
  },
  {
   "cell_type": "code",
   "execution_count": null,
   "metadata": {},
   "outputs": [],
   "source": [
    "# All fertilization efficiency results by treatment\n",
    "dd = df2[(df2.Stage == 'f')&(np.isnan(df2.DGR)!= True)]\n",
    "\n",
    "rp.summary_cont(dd[(dd.Treatment == '1000/1/168')]['DGR'].groupby(dd['Exp']))"
   ]
  },
  {
   "cell_type": "code",
   "execution_count": null,
   "metadata": {},
   "outputs": [],
   "source": [
    "# All fertilization efficiency results by treatment\n",
    "dd = df2[(df2.Stage == 'f')&(np.isnan(df2.DGR)!= True)]\n",
    "for i in [1,2,3]:\n",
    "    print(rp.summary_cont(dd[(dd.Treatment == '500/2/168')&(dd.Week == i)]['DGR'].groupby(dd['Exp'])))"
   ]
  },
  {
   "cell_type": "code",
   "execution_count": null,
   "metadata": {},
   "outputs": [],
   "source": [
    "# All fertilization efficiency results by treatment\n",
    "dN = df2[(df2.Stage == 'f')&(np.isnan(df2.N)!= True)]\n",
    "for i in [1,2,3]:\n",
    "    print(rp.summary_cont(dN[(dN.Treatment == '500/2/168')&(dN.Week == i)]['N'].groupby(dN['Exp'])))"
   ]
  },
  {
   "cell_type": "code",
   "execution_count": null,
   "metadata": {},
   "outputs": [],
   "source": [
    "# Pearson DGR Exp 1 and 2,1000/1/168\n",
    "\n",
    "from scipy.stats import pearsonr \n",
    "   \n",
    "list1 = [1,2,3] \n",
    "list2 = [1.744,2.837,2.986] \n",
    "  \n",
    "# Apply the pearsonr() \n",
    "corr, _ = pearsonr(list1, list2) \n",
    "print('\\nPearsons correlation for exp 2, 1000/1/168: %.3f' % corr) \n",
    "  \n",
    "# This code is contributed by Amiya Rout \n",
    " \n",
    "list1 = [1,2,3] \n",
    "list2 = [3.365,2.5025,2.805] \n",
    "  \n",
    "# Apply the pearsonr() \n",
    "corr, _ = pearsonr(list1, list2) \n",
    "print('\\nPearsons correlation for exp 4, 1000/1/168: %.3f' % corr) \n",
    "  \n",
    "# This code is contributed by Amiya Rout "
   ]
  },
  {
   "cell_type": "code",
   "execution_count": null,
   "metadata": {},
   "outputs": [],
   "source": [
    "# Pearson DGR Exp 1 and 2,1000/1/168\n",
    "\n",
    "from scipy.stats import pearsonr \n",
    "   \n",
    "list1 = [1,2,3] \n",
    "list2 = [0.281,0.0817,0.1329] \n",
    "  \n",
    "# Apply the pearsonr() \n",
    "corr, _ = pearsonr(list1, list2) \n",
    "print('\\nPearsons correlation for exp 2, 1000/1/168: %.3f' % corr) \n",
    "  \n",
    "# This code is contributed by Amiya Rout \n",
    " \n",
    "list1 = [1,2,3] \n",
    "list2 = [0.0476,0.2067,0.2571] \n",
    "  \n",
    "# Apply the pearsonr() \n",
    "corr, _ = pearsonr(list1, list2) \n",
    "print('\\nPearsons correlation for exp 4, 1000/1/168: %.3f' % corr) \n",
    "  \n",
    "# This code is contributed by Amiya Rout "
   ]
  },
  {
   "cell_type": "code",
   "execution_count": null,
   "metadata": {},
   "outputs": [],
   "source": [
    "# All fertilization efficiency results by treatment\n",
    "dd = df2[(df2.Stage == 'f')&(np.isnan(df2.DGR)!= True)]\n",
    "for i in [1,2,3]:\n",
    "    print(rp.summary_cont(dd[(dd.Treatment == '1000/1/168')&(dd.Week == i)]['DGR'].groupby(dd['Exp'])))"
   ]
  },
  {
   "cell_type": "code",
   "execution_count": null,
   "metadata": {},
   "outputs": [],
   "source": [
    "# All fertilization efficiency results by treatment\n",
    "dN = df2[(df2.Stage == 'f')&(np.isnan(df2.N)!= True)]\n",
    "for i in [1,2,3]:\n",
    "    print(rp.summary_cont(dd[(dd.Treatment == '1000/1/168')&(dd.Week == i)]['N'].groupby(dd['Exp'])))"
   ]
  },
  {
   "cell_type": "code",
   "execution_count": null,
   "metadata": {},
   "outputs": [],
   "source": [
    "# Pearson DGR Exp 1 and 2,1000/1/168\n",
    "\n",
    "from scipy.stats import pearsonr \n",
    "   \n",
    "list1 = [1,2,3] \n",
    "list2 = [0.2235,0.0833,0.0622] \n",
    "  \n",
    "# Apply the pearsonr() \n",
    "corr, _ = pearsonr(list1, list2) \n",
    "print('\\nPearsons correlation for exp 1, 1000/1/168: %.3f' % corr) \n",
    "  \n",
    " \n",
    " \n",
    "list1 = [1,2,3] \n",
    "list2 = [0.2515,0.0472,0.0905] \n",
    "  \n",
    "# Apply the pearsonr() \n",
    "corr, _ = pearsonr(list1, list2) \n",
    "print('\\nPearsons correlation for exp 2, 1000/1/168: %.3f' % corr) \n",
    "\n",
    "list1 = [1,2,3] \n",
    "list2 = [0.145,0.282,0.3324] \n",
    "  \n",
    "# Apply the pearsonr() \n",
    "corr, _ = pearsonr(list1, list2) \n",
    "print('\\nPearsons correlation for exp 4, 1000/1/168: %.3f' % corr)"
   ]
  },
  {
   "cell_type": "code",
   "execution_count": null,
   "metadata": {},
   "outputs": [],
   "source": [
    "# Pearson DGR Exp 1 and 2,1000/1/168\n",
    "\n",
    "from scipy.stats import pearsonr \n",
    "   \n",
    "list1 = [1,2,3] \n",
    "list2 = [2.088,2.818,3.41] \n",
    "  \n",
    "# Apply the pearsonr() \n",
    "corr, _ = pearsonr(list1, list2) \n",
    "print('\\nPearsons correlation for exp 1, 1000/1/168: %.3f' % corr) \n",
    "  \n",
    "# This code is contributed by Amiya Rout \n",
    " \n",
    "list1 = [1,2,3] \n",
    "list2 = [1.705,2.98,3.24] \n",
    "  \n",
    "# Apply the pearsonr() \n",
    "corr, _ = pearsonr(list1, list2) \n",
    "print('\\nPearsons correlation for exp 2, 1000/1/168: %.3f' % corr) \n",
    "\n",
    "list1 = [1,2,3] \n",
    "list2 = [2.48,2.377,2.709] \n",
    "  \n",
    "# Apply the pearsonr() \n",
    "corr, _ = pearsonr(list1, list2) \n",
    "print('\\nPearsons correlation for exp 4, 1000/1/168: %.3f' % corr) \n"
   ]
  },
  {
   "cell_type": "code",
   "execution_count": null,
   "metadata": {},
   "outputs": [],
   "source": [
    "# N in different treatments - by week\n",
    "sns.set_context(\"paper\", rc={\"font.size\":16,\"axes.titlesize\":16,\"axes.labelsize\":16}) \n",
    "\n",
    "# combined strip plot - all data\n",
    "#for i in [1,2,3]:\n",
    "    #SA1_EXP_N_W = sns.catplot(x = 'Exp', y = 'N', data = df2[(df2.Stage == 'f')&(df2.Treatment == '500/2/168')&(df2.Week == i)],kind='box')\n",
    "SA1_EXP_N_W = sns.catplot(x = 'Exp', y = 'N', data = df2[(df2.Stage == 'f')&(df2.Treatment == '1000/1/168')],hue='Exp',kind='strip',col='Week').set(xlabel='Experiment #', ylabel='Internal N \\n [% gN / gDW]')\n",
    "SA1_EXP_N_W.set_xticklabels([1,2,4,5],fontdict= { 'fontsize': 14, 'fontweight':'bold','color': 'k'})\n",
    "\n",
    "# Initial internal N:    \n",
    "# Exp 2: 2.05\n",
    "# Exp 3: 1.57\n",
    "# Exp 4: 3.00\n",
    "# Exp 5: 1.3"
   ]
  },
  {
   "cell_type": "raw",
   "metadata": {},
   "source": [
    "# Fertilizing Efficiency in different treatments - by week \n",
    "sns.set_context(\"paper\", rc={\"font.size\":16,\"axes.titlesize\":16,\"axes.labelsize\":16}) \n",
    "\n",
    "# combined strip plot - all data\n",
    "for i in [1,2,3]:\n",
    "    #SA1_EXP_N_W = sns.catplot(x = 'Exp', y = 'Fertilizing_Efficiency', data = df2[(df2.Stage == 'f')&(df2.Treatment == '500/2/168')&(df2.Week == i)],kind='box')\n",
    "    SA1_EXP_N_W = sns.catplot(x = 'Exp', y = 'Fertilizing_Efficiency', data = df2[(df2.Stage == 'f')&(df2.Treatment == '1000/1/168')&(df2.Week == i)],hue='Exp',kind = 'strip').set(xlabel='Experiment #', ylabel='Fertilizing Efficiency \\n [% g Assimilated N / g Added N]')\n",
    "    SA1_EXP_N_W.set_xticklabels([1,2,4,5],fontdict= { 'fontsize': 14, 'fontweight':'bold','color': 'k'})\n",
    "\n",
    "# Initial internal N:    \n",
    "# Exp 2: 2.05\n",
    "# Exp 3: 1.57\n",
    "# Exp 4: 3.00\n",
    "# Exp 5: 1.3"
   ]
  },
  {
   "cell_type": "code",
   "execution_count": null,
   "metadata": {},
   "outputs": [],
   "source": []
  },
  {
   "cell_type": "raw",
   "metadata": {},
   "source": [
    "#Next"
   ]
  },
  {
   "cell_type": "raw",
   "metadata": {},
   "source": [
    "# growth rates in different treatments - by week (DGR)\n",
    "sns.set_context(\"paper\", rc={\"font.size\":16,\"axes.titlesize\":16,\"axes.labelsize\":16}) \n",
    "\n",
    "# combined strip plot - all data\n",
    "for i in [1,2,3]:\n",
    "    SA1_EXP_NH4_W = sns.catplot(x = 'Exp', y = 'NH4', data = df2[(df2.Stage == 'f')&(df2.Treatment == '500/2/168')&(df2.Week == i)],kind='box')\n",
    "    SA1_EXP_NH4_W.set_xticklabels([2,3,4,5],fontdict= { 'fontsize': 14, 'fontweight':'bold','color': 'k'})\n",
    "    SA1_EXP_NH4_W = sns.stripplot(x = 'Exp', y = 'NH4', data = df2[(df2.Stage == 'f')&(df2.Treatment == '500/2/168')&(df2.Week == i)],color='k').set(xlabel='Experiment #', ylabel='External N \\n [% uM NH4]')"
   ]
  },
  {
   "cell_type": "raw",
   "metadata": {},
   "source": [
    "# kruskal test - diffrences between exp\n",
    "d = df2[(df2.Stage == 'f')&(np.isnan(df2.DGR)!= True)]\n",
    "dNext = df2[(df2.Stage == 'f')&(np.isnan(df2.NH4)!= True)]\n",
    "\n",
    "\n",
    "ddNext = dNext\n",
    "\n",
    "#dd = dd[(dd['Week'] == i)]\n",
    "pNext = sp.stats.kruskal(ddNext[(ddNext['Treatment'] == '1000/1/168')]['NH4'],\n",
    "                        ddNext[(ddNext['Treatment'] == '2000/1/168')]['NH4'],\n",
    "                         ddNext[(ddNext['Treatment'] == '500/2/168')]['NH4'],\n",
    "                         ddNext[(ddNext['Treatment'] == '500/3/168')]['NH4'],\n",
    "                         ddNext[(ddNext['Treatment'] == '200/5/168')]['NH4'],\n",
    "                         #ddNext[(ddNext['Treatment'] == '2000/1/4')]['NH4'],\n",
    "                         #ddNext[(ddNext['Treatment'] == '500/1/4')]['NH4']\n",
    "                        )\n",
    "\n",
    "#print(len(d168[(d168['Flux'] == 1500)].DGR))\n",
    "print(pNext)\n",
    "# There is a significant difference between frequencies"
   ]
  },
  {
   "cell_type": "raw",
   "metadata": {},
   "source": [
    "# growth rates in different treatments - by week (DGR)\n",
    "sns.set_context(\"paper\", rc={\"font.size\":16,\"axes.titlesize\":16,\"axes.labelsize\":16}) \n",
    "\n",
    "# combined strip plot - all data\n",
    "for i in [1,2,3]:\n",
    "    SA1_EXP_NH4_W = sns.catplot(x = 'Treatment', y = 'NH4', data = df2[(df2.Stage == 'f')&(df2.Week == i)],kind='box')\n",
    "    #SA1_EXP_NH4_W.set_xticklabels(['1000/1/168'],fontdict= { 'fontsize': 14, 'fontweight':'bold','color': 'k'})\n",
    "    SA1_EXP_NH4_W = sns.stripplot(x = 'Treatment', y = 'NH4', data = df2[(df2.Stage == 'f')&(df2.Week == i)],color='k').set(xlabel='Treatment', ylabel='External N \\n [% uM NH4]')"
   ]
  },
  {
   "cell_type": "raw",
   "metadata": {},
   "source": [
    "# post - hoc multiple comparisons between experiments by weeks - week 1\n",
    "\n",
    "i = 1\n",
    "dNext = df2[(df2.Stage == 'f')&(np.isnan(df2.NH4)!= True)]\n",
    "\n",
    "data = [ddNext[(ddNext['Treatment'] == '1000/1/168')]['NH4'],\n",
    "                        ddNext[(ddNext['Treatment'] == '2000/1/168')]['NH4'],\n",
    "                         ddNext[(ddNext['Treatment'] == '500/2/168')]['NH4'],\n",
    "                         ddNext[(ddNext['Treatment'] == '500/3/168')]['NH4'],\n",
    "                         ddNext[(ddNext['Treatment'] == '200/5/168')]['NH4']]\n",
    "                         #ddNext[(ddNext['Treatment'] == '2000/1/4')]['NH4'],\n",
    "                         #ddNext[(ddNext['Treatment'] == '500/1/4')]['NH4']\n",
    "                        \n",
    "\n",
    "\n",
    "        \n",
    "scp.posthoc_dunn(data, p_adjust = 'bonferroni')\n",
    "\n",
    "# significant difference only between '500/2/168' and '500/3/168'"
   ]
  },
  {
   "cell_type": "raw",
   "metadata": {},
   "source": [
    "# S.A #1 - Next in different treatments\n",
    "\n",
    "#strip plot - all data\n",
    "for i in df2.NH4:\n",
    "    if i < 0:\n",
    "        df2.NH4[i] = 0\n",
    "print(df2.NH4)\n",
    "\n",
    "SA1Next = sns.catplot(x = 'Treatment', y = 'NH4', data = df2[(df2.Treatment != 'Acclimation')&(df2.Stage == 'f')],hue = 'Week').set(xlabel='', ylabel='External N\\n [uM NH4]')\n",
    "SA1Next.set_xticklabels([\"1000/1/168\", \"2000/1/4\", \"500/1/4\",\"2000/1/168\",\"500/2/168\",\"500/3/168\",\"200/5/168\"], rotation=90,fontdict= { 'fontsize': 14, 'fontweight':'bold','color': 'k'})\n",
    "\n",
    "#box plot\n",
    "SA1NextBOX = sns.catplot(x = 'Treatment', y = 'NH4', data = df2[(df2.Treatment != 'Acclimation')&(df2.Stage == 'f')],hue = 'Week',kind ='box').set(xlabel='', ylabel='External N\\n [uM NH4]')\n",
    "SA1NextBOX.set_xticklabels([\"1000/1/168\", \"2000/1/4\", \"500/1/4\",\"2000/1/168\",\"500/2/168\",\"500/3/168\",\"200/5/168\"], rotation=90,fontdict= { 'fontsize': 14, 'fontweight':'bold','color': 'k'})"
   ]
  },
  {
   "cell_type": "raw",
   "metadata": {},
   "source": [
    "# S.A #1 - Next in different treatments\n",
    "SA1NH4 = sns.catplot(x = 'Treatment', y = 'NH4', data = df2[(df2.Treatment != 'Acclimation')&(df2.Stage == 'f')],kind=\"box\")#,hue = 'Sporulated')\n",
    "SA1NH4.set_xticklabels([\"1000/1/168\", \"2000/1/4\", \"500/1/4\",\"2000/1/168\",\"500/2/168\",\"500/3/168\",\"200/5/168\"], rotation=90)"
   ]
  },
  {
   "cell_type": "code",
   "execution_count": null,
   "metadata": {},
   "outputs": [],
   "source": []
  }
 ],
 "metadata": {
  "colab": {
   "collapsed_sections": [],
   "name": "Meiron_closed_system_simulation.ipynb",
   "provenance": [
    {
     "file_id": "1uKvJsJ-_1-aLrYIrSnGQNnOsG9l8ysjY",
     "timestamp": 1561926275385
    }
   ],
   "version": "0.3.2"
  },
  "kernel_info": {
   "name": "python3"
  },
  "kernelspec": {
   "display_name": "Python 3",
   "language": "python",
   "name": "python3"
  },
  "language_info": {
   "codemirror_mode": {
    "name": "ipython",
    "version": 3
   },
   "file_extension": ".py",
   "mimetype": "text/x-python",
   "name": "python",
   "nbconvert_exporter": "python",
   "pygments_lexer": "ipython3",
   "version": "3.7.3"
  },
  "nteract": {
   "version": "0.15.0"
  }
 },
 "nbformat": 4,
 "nbformat_minor": 1
}
