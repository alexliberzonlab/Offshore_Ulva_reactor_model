{
 "cells": [
  {
   "cell_type": "code",
   "execution_count": null,
   "metadata": {},
   "outputs": [],
   "source": [
    "# effects of weighing and trimming"
   ]
  },
  {
   "cell_type": "code",
   "execution_count": 1,
   "metadata": {
    "colab": {},
    "colab_type": "code",
    "id": "yUfAvi3l4iEA"
   },
   "outputs": [],
   "source": [
    "from __future__ import division\n",
    "import numpy as np\n",
    "import scipy as sp\n",
    "from scipy.integrate import odeint\n",
    "from scipy import stats\n",
    "import matplotlib.pyplot as plt\n",
    "import pandas as pd # to read excel\n",
    "import seaborn as sns\n",
    "from array import *\n",
    "import researchpy as rp\n",
    "import scipy.stats as stats\n",
    "%matplotlib inline\n",
    "\n",
    "from myfunctions_controlled_conditions import *\n",
    "import datetime"
   ]
  },
  {
   "cell_type": "code",
   "execution_count": 2,
   "metadata": {},
   "outputs": [],
   "source": [
    "# statistics functions\n",
    "\n",
    "import scikit_posthocs as scp"
   ]
  },
  {
   "cell_type": "code",
   "execution_count": 3,
   "metadata": {
    "colab": {
     "base_uri": "https://localhost:8080/",
     "height": 277
    },
    "colab_type": "code",
    "executionInfo": {
     "elapsed": 62295,
     "status": "ok",
     "timestamp": 1565466545086,
     "user": {
      "displayName": "Meiron Zollmann",
      "photoUrl": "",
      "userId": "18114482091462006341"
     },
     "user_tz": -180
    },
    "id": "d4VzbZ484iED",
    "inputHidden": false,
    "outputHidden": false,
    "outputId": "6d76a9eb-17b9-400c-de1d-c0cec8fc215c"
   },
   "outputs": [],
   "source": [
    "# Import data and parameters\n",
    "\n",
    "xl = pd.ExcelFile('C:/Users/meiro/Desktop/GitHub/Model/Meiron_model/data/Parameters.xlsx')\n",
    "x2 = pd.ExcelFile('C:/Users/meiro/Desktop/GitHub/Model/Meiron_model/data/Data.xlsx')\n",
    "\n",
    "# Import parameters into df1\n",
    "df1 = xl.parse('Parameters',header=None)\n",
    "\n",
    "# Import indoor data into df2\n",
    "df2 = x2.parse('Indoor')\n",
    "\n",
    "# Import offshore data ito df2\n",
    "df3 = x2.parse('Offshore')\n",
    "\n",
    "# Import outdoor data ito df4\n",
    "df4 = x2.parse('Outdoor')"
   ]
  },
  {
   "cell_type": "code",
   "execution_count": 4,
   "metadata": {},
   "outputs": [
    {
     "data": {
      "text/html": [
       "<div>\n",
       "<style scoped>\n",
       "    .dataframe tbody tr th:only-of-type {\n",
       "        vertical-align: middle;\n",
       "    }\n",
       "\n",
       "    .dataframe tbody tr th {\n",
       "        vertical-align: top;\n",
       "    }\n",
       "\n",
       "    .dataframe thead th {\n",
       "        text-align: right;\n",
       "    }\n",
       "</style>\n",
       "<table border=\"1\" class=\"dataframe\">\n",
       "  <thead>\n",
       "    <tr style=\"text-align: right;\">\n",
       "      <th></th>\n",
       "      <th>Sample</th>\n",
       "      <th>Exp</th>\n",
       "      <th>Sleeve</th>\n",
       "      <th>Week</th>\n",
       "      <th>Stage</th>\n",
       "      <th>Timei</th>\n",
       "      <th>Timeh</th>\n",
       "      <th>Time</th>\n",
       "      <th>DW</th>\n",
       "      <th>mmi</th>\n",
       "      <th>...</th>\n",
       "      <th>Frequency</th>\n",
       "      <th>Amplitude</th>\n",
       "      <th>Duration</th>\n",
       "      <th>Flux</th>\n",
       "      <th>Sporulated</th>\n",
       "      <th>Comment</th>\n",
       "      <th>Day</th>\n",
       "      <th>Comment2</th>\n",
       "      <th>Unnamed: 38</th>\n",
       "      <th>N_Saturation</th>\n",
       "    </tr>\n",
       "  </thead>\n",
       "  <tbody>\n",
       "    <tr>\n",
       "      <th>0</th>\n",
       "      <td>0.0</td>\n",
       "      <td>1</td>\n",
       "      <td>0</td>\n",
       "      <td>0.0</td>\n",
       "      <td>i</td>\n",
       "      <td>2019,3,12,13,0</td>\n",
       "      <td>2019,3,12,13,0</td>\n",
       "      <td>2019,3,12,13,0</td>\n",
       "      <td>0.750</td>\n",
       "      <td>NaN</td>\n",
       "      <td>...</td>\n",
       "      <td>NaN</td>\n",
       "      <td>NaN</td>\n",
       "      <td>NaN</td>\n",
       "      <td>NaN</td>\n",
       "      <td>No</td>\n",
       "      <td>NaN</td>\n",
       "      <td>NaN</td>\n",
       "      <td>NaN</td>\n",
       "      <td>NaN</td>\n",
       "      <td>yes</td>\n",
       "    </tr>\n",
       "    <tr>\n",
       "      <th>1</th>\n",
       "      <td>0.7</td>\n",
       "      <td>1</td>\n",
       "      <td>0</td>\n",
       "      <td>0.0</td>\n",
       "      <td>f</td>\n",
       "      <td>2019,3,12,13,0</td>\n",
       "      <td>2019,3,12,13,0</td>\n",
       "      <td>2019,3,19,13,0</td>\n",
       "      <td>0.753</td>\n",
       "      <td>50.0</td>\n",
       "      <td>...</td>\n",
       "      <td>NaN</td>\n",
       "      <td>NaN</td>\n",
       "      <td>NaN</td>\n",
       "      <td>NaN</td>\n",
       "      <td>No</td>\n",
       "      <td>NaN</td>\n",
       "      <td>NaN</td>\n",
       "      <td>NaN</td>\n",
       "      <td>NaN</td>\n",
       "      <td>yes</td>\n",
       "    </tr>\n",
       "    <tr>\n",
       "      <th>2</th>\n",
       "      <td>1.0</td>\n",
       "      <td>1</td>\n",
       "      <td>1</td>\n",
       "      <td>1.0</td>\n",
       "      <td>i</td>\n",
       "      <td>2019,3,19,13,0</td>\n",
       "      <td>2019,3,19,13,0</td>\n",
       "      <td>2019,3,19,13,0</td>\n",
       "      <td>0.144</td>\n",
       "      <td>NaN</td>\n",
       "      <td>...</td>\n",
       "      <td>1.0</td>\n",
       "      <td>1000.0</td>\n",
       "      <td>168.0</td>\n",
       "      <td>1000.0</td>\n",
       "      <td>No</td>\n",
       "      <td>NaN</td>\n",
       "      <td>NaN</td>\n",
       "      <td>NaN</td>\n",
       "      <td>NaN</td>\n",
       "      <td>yes</td>\n",
       "    </tr>\n",
       "    <tr>\n",
       "      <th>3</th>\n",
       "      <td>2.0</td>\n",
       "      <td>1</td>\n",
       "      <td>2</td>\n",
       "      <td>1.0</td>\n",
       "      <td>i</td>\n",
       "      <td>2019,3,19,13,0</td>\n",
       "      <td>2019,3,19,13,0</td>\n",
       "      <td>2019,3,19,13,0</td>\n",
       "      <td>0.153</td>\n",
       "      <td>NaN</td>\n",
       "      <td>...</td>\n",
       "      <td>1.0</td>\n",
       "      <td>1000.0</td>\n",
       "      <td>168.0</td>\n",
       "      <td>1000.0</td>\n",
       "      <td>No</td>\n",
       "      <td>NaN</td>\n",
       "      <td>NaN</td>\n",
       "      <td>NaN</td>\n",
       "      <td>NaN</td>\n",
       "      <td>yes</td>\n",
       "    </tr>\n",
       "    <tr>\n",
       "      <th>4</th>\n",
       "      <td>3.0</td>\n",
       "      <td>1</td>\n",
       "      <td>3</td>\n",
       "      <td>1.0</td>\n",
       "      <td>i</td>\n",
       "      <td>2019,3,19,13,0</td>\n",
       "      <td>2019,3,19,13,0</td>\n",
       "      <td>2019,3,19,13,0</td>\n",
       "      <td>0.159</td>\n",
       "      <td>NaN</td>\n",
       "      <td>...</td>\n",
       "      <td>1.0</td>\n",
       "      <td>1000.0</td>\n",
       "      <td>168.0</td>\n",
       "      <td>1000.0</td>\n",
       "      <td>No</td>\n",
       "      <td>NaN</td>\n",
       "      <td>NaN</td>\n",
       "      <td>NaN</td>\n",
       "      <td>NaN</td>\n",
       "      <td>yes</td>\n",
       "    </tr>\n",
       "  </tbody>\n",
       "</table>\n",
       "<p>5 rows × 40 columns</p>\n",
       "</div>"
      ],
      "text/plain": [
       "   Sample  Exp  Sleeve  Week Stage           Timei           Timeh  \\\n",
       "0     0.0    1       0   0.0     i  2019,3,12,13,0  2019,3,12,13,0   \n",
       "1     0.7    1       0   0.0     f  2019,3,12,13,0  2019,3,12,13,0   \n",
       "2     1.0    1       1   1.0     i  2019,3,19,13,0  2019,3,19,13,0   \n",
       "3     2.0    1       2   1.0     i  2019,3,19,13,0  2019,3,19,13,0   \n",
       "4     3.0    1       3   1.0     i  2019,3,19,13,0  2019,3,19,13,0   \n",
       "\n",
       "             Time     DW   mmi  ...  Frequency  Amplitude  Duration    Flux  \\\n",
       "0  2019,3,12,13,0  0.750   NaN  ...        NaN        NaN       NaN     NaN   \n",
       "1  2019,3,19,13,0  0.753  50.0  ...        NaN        NaN       NaN     NaN   \n",
       "2  2019,3,19,13,0  0.144   NaN  ...        1.0     1000.0     168.0  1000.0   \n",
       "3  2019,3,19,13,0  0.153   NaN  ...        1.0     1000.0     168.0  1000.0   \n",
       "4  2019,3,19,13,0  0.159   NaN  ...        1.0     1000.0     168.0  1000.0   \n",
       "\n",
       "   Sporulated  Comment  Day  Comment2  Unnamed: 38  N_Saturation  \n",
       "0          No      NaN  NaN       NaN          NaN           yes  \n",
       "1          No      NaN  NaN       NaN          NaN           yes  \n",
       "2          No      NaN  NaN       NaN          NaN           yes  \n",
       "3          No      NaN  NaN       NaN          NaN           yes  \n",
       "4          No      NaN  NaN       NaN          NaN           yes  \n",
       "\n",
       "[5 rows x 40 columns]"
      ]
     },
     "execution_count": 4,
     "metadata": {},
     "output_type": "execute_result"
    }
   ],
   "source": [
    "df2.head()"
   ]
  },
  {
   "cell_type": "code",
   "execution_count": 5,
   "metadata": {},
   "outputs": [
    {
     "name": "stdout",
     "output_type": "stream",
     "text": [
      "\n",
      "\n"
     ]
    },
    {
     "name": "stderr",
     "output_type": "stream",
     "text": [
      "C:\\Users\\meiro\\Anaconda3new\\lib\\site-packages\\scipy\\stats\\_distn_infrastructure.py:1996: RuntimeWarning: invalid value encountered in greater\n",
      "  cond0 = self._argcheck(*args) & (scale > 0) & (loc == loc)\n"
     ]
    },
    {
     "data": {
      "text/html": [
       "<div>\n",
       "<style scoped>\n",
       "    .dataframe tbody tr th:only-of-type {\n",
       "        vertical-align: middle;\n",
       "    }\n",
       "\n",
       "    .dataframe tbody tr th {\n",
       "        vertical-align: top;\n",
       "    }\n",
       "\n",
       "    .dataframe thead th {\n",
       "        text-align: right;\n",
       "    }\n",
       "</style>\n",
       "<table border=\"1\" class=\"dataframe\">\n",
       "  <thead>\n",
       "    <tr style=\"text-align: right;\">\n",
       "      <th></th>\n",
       "      <th>N</th>\n",
       "      <th>Mean</th>\n",
       "      <th>SD</th>\n",
       "      <th>SE</th>\n",
       "      <th>95% Conf.</th>\n",
       "      <th>Interval</th>\n",
       "    </tr>\n",
       "    <tr>\n",
       "      <th>Weighing</th>\n",
       "      <th></th>\n",
       "      <th></th>\n",
       "      <th></th>\n",
       "      <th></th>\n",
       "      <th></th>\n",
       "      <th></th>\n",
       "    </tr>\n",
       "  </thead>\n",
       "  <tbody>\n",
       "    <tr>\n",
       "      <th>0.0</th>\n",
       "      <td>9</td>\n",
       "      <td>0.2191</td>\n",
       "      <td>0.0850</td>\n",
       "      <td>0.0283</td>\n",
       "      <td>0.1538</td>\n",
       "      <td>0.2844</td>\n",
       "    </tr>\n",
       "    <tr>\n",
       "      <th>1.0</th>\n",
       "      <td>3</td>\n",
       "      <td>0.1968</td>\n",
       "      <td>0.0478</td>\n",
       "      <td>0.0276</td>\n",
       "      <td>0.0780</td>\n",
       "      <td>0.3156</td>\n",
       "    </tr>\n",
       "    <tr>\n",
       "      <th>2.0</th>\n",
       "      <td>4</td>\n",
       "      <td>0.0955</td>\n",
       "      <td>0.0959</td>\n",
       "      <td>0.0479</td>\n",
       "      <td>-0.0571</td>\n",
       "      <td>0.2480</td>\n",
       "    </tr>\n",
       "    <tr>\n",
       "      <th>4.0</th>\n",
       "      <td>1</td>\n",
       "      <td>0.2274</td>\n",
       "      <td>NaN</td>\n",
       "      <td>NaN</td>\n",
       "      <td>NaN</td>\n",
       "      <td>NaN</td>\n",
       "    </tr>\n",
       "  </tbody>\n",
       "</table>\n",
       "</div>"
      ],
      "text/plain": [
       "          N    Mean      SD      SE  95% Conf.  Interval\n",
       "Weighing                                                \n",
       "0.0       9  0.2191  0.0850  0.0283     0.1538    0.2844\n",
       "1.0       3  0.1968  0.0478  0.0276     0.0780    0.3156\n",
       "2.0       4  0.0955  0.0959  0.0479    -0.0571    0.2480\n",
       "4.0       1  0.2274     NaN     NaN        NaN       NaN"
      ]
     },
     "execution_count": 5,
     "metadata": {},
     "output_type": "execute_result"
    }
   ],
   "source": [
    "# data summary of treatment 500/2/168 DGR, by number of weighings, all weeks\n",
    "dW = df2[(df2.Stage == 'f')&(df2.Treatment == '500/2/168')&(df2.Week == 1)]\n",
    "rp.summary_cont(dW['DGR'].groupby(dW['Weighing']))"
   ]
  },
  {
   "cell_type": "code",
   "execution_count": 6,
   "metadata": {},
   "outputs": [
    {
     "name": "stdout",
     "output_type": "stream",
     "text": [
      "\n",
      "\n"
     ]
    },
    {
     "data": {
      "text/html": [
       "<div>\n",
       "<style scoped>\n",
       "    .dataframe tbody tr th:only-of-type {\n",
       "        vertical-align: middle;\n",
       "    }\n",
       "\n",
       "    .dataframe tbody tr th {\n",
       "        vertical-align: top;\n",
       "    }\n",
       "\n",
       "    .dataframe thead th {\n",
       "        text-align: right;\n",
       "    }\n",
       "</style>\n",
       "<table border=\"1\" class=\"dataframe\">\n",
       "  <thead>\n",
       "    <tr style=\"text-align: right;\">\n",
       "      <th></th>\n",
       "      <th>N</th>\n",
       "      <th>Mean</th>\n",
       "      <th>SD</th>\n",
       "      <th>SE</th>\n",
       "      <th>95% Conf.</th>\n",
       "      <th>Interval</th>\n",
       "    </tr>\n",
       "    <tr>\n",
       "      <th>Weighing</th>\n",
       "      <th></th>\n",
       "      <th></th>\n",
       "      <th></th>\n",
       "      <th></th>\n",
       "      <th></th>\n",
       "      <th></th>\n",
       "    </tr>\n",
       "  </thead>\n",
       "  <tbody>\n",
       "    <tr>\n",
       "      <th>0.0</th>\n",
       "      <td>8</td>\n",
       "      <td>0.2338</td>\n",
       "      <td>0.0425</td>\n",
       "      <td>0.0150</td>\n",
       "      <td>0.1983</td>\n",
       "      <td>0.2693</td>\n",
       "    </tr>\n",
       "    <tr>\n",
       "      <th>2.0</th>\n",
       "      <td>3</td>\n",
       "      <td>0.1449</td>\n",
       "      <td>0.0601</td>\n",
       "      <td>0.0347</td>\n",
       "      <td>-0.0043</td>\n",
       "      <td>0.2942</td>\n",
       "    </tr>\n",
       "  </tbody>\n",
       "</table>\n",
       "</div>"
      ],
      "text/plain": [
       "          N    Mean      SD      SE  95% Conf.  Interval\n",
       "Weighing                                                \n",
       "0.0       8  0.2338  0.0425  0.0150     0.1983    0.2693\n",
       "2.0       3  0.1449  0.0601  0.0347    -0.0043    0.2942"
      ]
     },
     "execution_count": 6,
     "metadata": {},
     "output_type": "execute_result"
    }
   ],
   "source": [
    "# data summary of treatment 500/2/168 DGR, by number of weighings, all weeks\n",
    "dW = df2[(df2.Stage == 'f')&(df2.Treatment == '1000/1/168')&(df2.Week == 1)]\n",
    "rp.summary_cont(dW['DGR'].groupby(dW['Weighing']))"
   ]
  },
  {
   "cell_type": "code",
   "execution_count": 8,
   "metadata": {},
   "outputs": [
    {
     "name": "stdout",
     "output_type": "stream",
     "text": [
      "\n",
      "\n"
     ]
    },
    {
     "data": {
      "text/html": [
       "<div>\n",
       "<style scoped>\n",
       "    .dataframe tbody tr th:only-of-type {\n",
       "        vertical-align: middle;\n",
       "    }\n",
       "\n",
       "    .dataframe tbody tr th {\n",
       "        vertical-align: top;\n",
       "    }\n",
       "\n",
       "    .dataframe thead th {\n",
       "        text-align: right;\n",
       "    }\n",
       "</style>\n",
       "<table border=\"1\" class=\"dataframe\">\n",
       "  <thead>\n",
       "    <tr style=\"text-align: right;\">\n",
       "      <th></th>\n",
       "      <th>N</th>\n",
       "      <th>Mean</th>\n",
       "      <th>SD</th>\n",
       "      <th>SE</th>\n",
       "      <th>95% Conf.</th>\n",
       "      <th>Interval</th>\n",
       "    </tr>\n",
       "    <tr>\n",
       "      <th>Weighing</th>\n",
       "      <th></th>\n",
       "      <th></th>\n",
       "      <th></th>\n",
       "      <th></th>\n",
       "      <th></th>\n",
       "      <th></th>\n",
       "    </tr>\n",
       "  </thead>\n",
       "  <tbody>\n",
       "    <tr>\n",
       "      <th>0.0</th>\n",
       "      <td>8</td>\n",
       "      <td>14.9671</td>\n",
       "      <td>1.6817</td>\n",
       "      <td>0.5946</td>\n",
       "      <td>13.5612</td>\n",
       "      <td>16.3731</td>\n",
       "    </tr>\n",
       "    <tr>\n",
       "      <th>2.0</th>\n",
       "      <td>3</td>\n",
       "      <td>10.5149</td>\n",
       "      <td>3.4377</td>\n",
       "      <td>1.9848</td>\n",
       "      <td>1.9752</td>\n",
       "      <td>19.0546</td>\n",
       "    </tr>\n",
       "  </tbody>\n",
       "</table>\n",
       "</div>"
      ],
      "text/plain": [
       "          N     Mean      SD      SE  95% Conf.  Interval\n",
       "Weighing                                                 \n",
       "0.0       8  14.9671  1.6817  0.5946    13.5612   16.3731\n",
       "2.0       3  10.5149  3.4377  1.9848     1.9752   19.0546"
      ]
     },
     "execution_count": 8,
     "metadata": {},
     "output_type": "execute_result"
    }
   ],
   "source": [
    "# data summary of treatment 500/2/168 DGR, by number of weighings, all weeks\n",
    "dW = df2[(df2.Stage == 'f')&(df2.Treatment == '1000/1/168')&(df2.Week == 1)]\n",
    "rp.summary_cont(dW['GR'].groupby(dW['Weighing']))"
   ]
  },
  {
   "cell_type": "code",
   "execution_count": 7,
   "metadata": {},
   "outputs": [
    {
     "name": "stdout",
     "output_type": "stream",
     "text": [
      "\n",
      "\n"
     ]
    },
    {
     "name": "stderr",
     "output_type": "stream",
     "text": [
      "C:\\Users\\meiro\\Anaconda3new\\lib\\site-packages\\scipy\\stats\\_distn_infrastructure.py:1996: RuntimeWarning: invalid value encountered in greater\n",
      "  cond0 = self._argcheck(*args) & (scale > 0) & (loc == loc)\n"
     ]
    },
    {
     "data": {
      "text/html": [
       "<div>\n",
       "<style scoped>\n",
       "    .dataframe tbody tr th:only-of-type {\n",
       "        vertical-align: middle;\n",
       "    }\n",
       "\n",
       "    .dataframe tbody tr th {\n",
       "        vertical-align: top;\n",
       "    }\n",
       "\n",
       "    .dataframe thead th {\n",
       "        text-align: right;\n",
       "    }\n",
       "</style>\n",
       "<table border=\"1\" class=\"dataframe\">\n",
       "  <thead>\n",
       "    <tr style=\"text-align: right;\">\n",
       "      <th></th>\n",
       "      <th>N</th>\n",
       "      <th>Mean</th>\n",
       "      <th>SD</th>\n",
       "      <th>SE</th>\n",
       "      <th>95% Conf.</th>\n",
       "      <th>Interval</th>\n",
       "    </tr>\n",
       "    <tr>\n",
       "      <th>Weighing</th>\n",
       "      <th></th>\n",
       "      <th></th>\n",
       "      <th></th>\n",
       "      <th></th>\n",
       "      <th></th>\n",
       "      <th></th>\n",
       "    </tr>\n",
       "  </thead>\n",
       "  <tbody>\n",
       "    <tr>\n",
       "      <th>0.0</th>\n",
       "      <td>9</td>\n",
       "      <td>13.9309</td>\n",
       "      <td>4.1492</td>\n",
       "      <td>1.3831</td>\n",
       "      <td>10.7415</td>\n",
       "      <td>17.1203</td>\n",
       "    </tr>\n",
       "    <tr>\n",
       "      <th>1.0</th>\n",
       "      <td>3</td>\n",
       "      <td>13.2932</td>\n",
       "      <td>2.0364</td>\n",
       "      <td>1.1757</td>\n",
       "      <td>8.2343</td>\n",
       "      <td>18.3520</td>\n",
       "    </tr>\n",
       "    <tr>\n",
       "      <th>2.0</th>\n",
       "      <td>4</td>\n",
       "      <td>6.8305</td>\n",
       "      <td>5.2976</td>\n",
       "      <td>2.6488</td>\n",
       "      <td>-1.5992</td>\n",
       "      <td>15.2601</td>\n",
       "    </tr>\n",
       "    <tr>\n",
       "      <th>4.0</th>\n",
       "      <td>1</td>\n",
       "      <td>14.2440</td>\n",
       "      <td>NaN</td>\n",
       "      <td>NaN</td>\n",
       "      <td>NaN</td>\n",
       "      <td>NaN</td>\n",
       "    </tr>\n",
       "  </tbody>\n",
       "</table>\n",
       "</div>"
      ],
      "text/plain": [
       "          N     Mean      SD      SE  95% Conf.  Interval\n",
       "Weighing                                                 \n",
       "0.0       9  13.9309  4.1492  1.3831    10.7415   17.1203\n",
       "1.0       3  13.2932  2.0364  1.1757     8.2343   18.3520\n",
       "2.0       4   6.8305  5.2976  2.6488    -1.5992   15.2601\n",
       "4.0       1  14.2440     NaN     NaN        NaN       NaN"
      ]
     },
     "execution_count": 7,
     "metadata": {},
     "output_type": "execute_result"
    }
   ],
   "source": [
    "# data summary of treatment 500/2/168 GR, by number of weighings, all weeks\n",
    "dW = df2[(df2.Stage == 'f')&(df2.Treatment == '500/2/168')&(df2.Week == 1)]\n",
    "rp.summary_cont(dW['GR'].groupby(dW['Weighing']))"
   ]
  },
  {
   "cell_type": "code",
   "execution_count": null,
   "metadata": {},
   "outputs": [],
   "source": [
    "# data summary of treatment 500/2/168 DGR, by number of weighings, all weeks\n",
    "dW = df2[(df2.Stage == 'f')&(df2.Treatment == '500/2/168')&(df2.Week == 2)]\n",
    "rp.summary_cont(dW['DGR'].groupby(dW['Weighing']))"
   ]
  },
  {
   "cell_type": "code",
   "execution_count": null,
   "metadata": {},
   "outputs": [],
   "source": [
    "# data summary of treatment 500/2/168 DGR, by number of weighings, all weeks\n",
    "dW = df2[(df2.Stage == 'f')&(df2.Treatment == '500/2/168')&(df2.Week == 2)]\n",
    "rp.summary_cont(dW['GR'].groupby(dW['Weighing']))"
   ]
  },
  {
   "cell_type": "code",
   "execution_count": null,
   "metadata": {},
   "outputs": [],
   "source": [
    "# data summary of treatment 500/2/168 DGR, by number of weighings, all weeks\n",
    "dW = df2[(df2.Stage == 'f')&(df2.Treatment == '500/2/168')&(df2.Week == 3)]\n",
    "rp.summary_cont(dW['DGR'].groupby(dW['Weighing']))"
   ]
  },
  {
   "cell_type": "code",
   "execution_count": null,
   "metadata": {},
   "outputs": [],
   "source": [
    "# data summary of treatment 500/2/168 DGR, by number of weighings, all weeks\n",
    "dW = df2[(df2.Stage == 'f')&(df2.Treatment == '500/2/168')&(df2.Week == 3)]\n",
    "rp.summary_cont(dW['GR'].groupby(dW['Weighing']))"
   ]
  },
  {
   "cell_type": "code",
   "execution_count": null,
   "metadata": {},
   "outputs": [],
   "source": [
    "# data summary of treatment 500/2/168 DGR, by number of weighings, all weeks\n",
    "dW = df2[(df2.Stage == 'f')&(df2.Treatment == '500/2/168')&(df2.Week == 1)]\n",
    "rp.summary_cont(dW['DGR'].groupby(dW['Trimming']))"
   ]
  },
  {
   "cell_type": "code",
   "execution_count": null,
   "metadata": {},
   "outputs": [],
   "source": [
    "# data summary of treatment 500/2/168 DGR, by number of weighings, all weeks\n",
    "dW = df2[(df2.Stage == 'f')&(df2.Treatment == '500/2/168')&(df2.Week == 1)]\n",
    "rp.summary_cont(dW['GR'].groupby(dW['Trimming']))"
   ]
  },
  {
   "cell_type": "code",
   "execution_count": null,
   "metadata": {},
   "outputs": [],
   "source": [
    "# data summary of treatment 500/2/168 DGR, by number of weighings, all weeks\n",
    "dW = df2[(df2.Stage == 'f')&(df2.Treatment == '500/2/168')&(df2.Week == 2)]\n",
    "rp.summary_cont(dW['DGR'].groupby(dW['Trimming']))"
   ]
  },
  {
   "cell_type": "code",
   "execution_count": null,
   "metadata": {},
   "outputs": [],
   "source": [
    "# data summary of treatment 500/2/168 DGR, by number of weighings, all weeks\n",
    "dW = df2[(df2.Stage == 'f')&(df2.Treatment == '500/2/168')&(df2.Week == 2)]\n",
    "rp.summary_cont(dW['GR'].groupby(dW['Trimming']))"
   ]
  },
  {
   "cell_type": "code",
   "execution_count": null,
   "metadata": {},
   "outputs": [],
   "source": [
    "# data summary of treatment 500/2/168 DGR, by number of weighings, all weeks\n",
    "dW = df2[(df2.Stage == 'f')&(df2.Treatment == '500/2/168')&(df2.Week == 3)]\n",
    "rp.summary_cont(dW['DGR'].groupby(dW['Trimming']))"
   ]
  },
  {
   "cell_type": "code",
   "execution_count": null,
   "metadata": {},
   "outputs": [],
   "source": [
    "# data summary of treatment 500/2/168 DGR, by number of weighings, all weeks\n",
    "dW = df2[(df2.Stage == 'f')&(df2.Treatment == '500/2/168')&(df2.Week == 3)]\n",
    "rp.summary_cont(dW['GR'].groupby(dW['Trimming']))"
   ]
  },
  {
   "cell_type": "code",
   "execution_count": null,
   "metadata": {},
   "outputs": [],
   "source": [
    "# S.A #1 - growth rates in different amplitudes - all weeks together\n",
    "sns.set_context(\"paper\", rc={\"font.size\":16,\"axes.titlesize\":16,\"axes.labelsize\":16}) \n",
    "\n",
    "# combined strip plot - all data\n",
    "SA1_TRM = sns.catplot(x = 'Week', y = 'DGR', data = df2[(df2.Stage == 'f')&(df2.Treatment == '500/2/168')&(df2.Week == 1)&(df2.Weighing != 4)],kind='box',hue='Weighing').set(ylabel='Daily growth rate')\n",
    "\n",
    "#SA1_TRM.set_xticklabels(['1000/1', '500/2','200/5'],fontdict= { 'fontsize': 14, 'fontweight':'bold','color': 'k'})\n",
    "#SA1_TRM = sns.stripplot(x = 'Week', y = 'DGR', data = df2[(df2.Stage == 'f')&(df2.Treatment == '500/2/168')],hue = 'Weighing').set(xlabel='\\n Week #', ylabel='Daily growth rate')\n"
   ]
  },
  {
   "cell_type": "code",
   "execution_count": null,
   "metadata": {},
   "outputs": [],
   "source": [
    "# S.A #1 - growth rates in different amplitudes - all weeks together\n",
    "sns.set_context(\"paper\", rc={\"font.size\":16,\"axes.titlesize\":16,\"axes.labelsize\":16}) \n",
    "\n",
    "# combined strip plot - all data\n",
    "SA1_TRM = sns.catplot(x = 'Week', y = 'GR', data = df2[(df2.Stage == 'f')&(df2.Treatment == '500/2/168')&(df2.Week == 1)&(df2.Weighing != 4)],kind='box',hue='Weighing').set(ylabel='Daily growth rate\\n[% $day^{-1}$]')\n",
    "\n",
    "#SA1_TRM.set_xticklabels(['1000/1', '500/2','200/5'],fontdict= { 'fontsize': 14, 'fontweight':'bold','color': 'k'})\n",
    "#SA1_TRM = sns.stripplot(x = 'Week', y = 'DGR', data = df2[(df2.Stage == 'f')&(df2.Treatment == '500/2/168')],hue = 'Weighing').set(xlabel='\\n Week #', ylabel='Daily growth rate')\n"
   ]
  },
  {
   "cell_type": "code",
   "execution_count": null,
   "metadata": {},
   "outputs": [],
   "source": [
    "# S.A #1 - growth rates in different amplitudes - all weeks together\n",
    "sns.set_context(\"paper\", rc={\"font.size\":16,\"axes.titlesize\":16,\"axes.labelsize\":16}) \n",
    "\n",
    "# combined strip plot - all data\n",
    "SA1_TRM = sns.catplot(x = 'Week', y = 'DGR', data = df2[(df2.Stage == 'f')&(df2.Treatment == '500/2/168')&(df2.Week == 1)],kind='box',hue='Trimming').set(ylabel='Daily growth rate\\n[% $day^{-1}$]')\n",
    "SA1_TRM.set_xticklabels([''])\n",
    "#SA1_TRM.set_xticklabels(['1000/1', '500/2','200/5'],fontdict= { 'fontsize': 14, 'fontweight':'bold','color': 'k'})\n",
    "#SA1_TRM = sns.stripplot(x = 'Week', y = 'DGR', data = df2[(df2.Treatment != 'Acclimation')&(df2.Stage == 'f')&(df2.Duration == 168)&(df2.Flux == 1000)&(df2.Treatment == '500/2/168')],hue = 'Trimming').set(xlabel='\\n Week #', ylabel='Daily growth rate')\n"
   ]
  },
  {
   "cell_type": "code",
   "execution_count": null,
   "metadata": {},
   "outputs": [],
   "source": [
    "# S.A #1 - growth rates in different amplitudes - all weeks together\n",
    "sns.set_context(\"paper\", rc={\"font.size\":16,\"axes.titlesize\":16,\"axes.labelsize\":16}) \n",
    "\n",
    "# combined strip plot - all data\n",
    "SA1_TRM = sns.catplot(x = 'Week', y = 'GR', data = df2[(df2.Stage == 'f')&(df2.Treatment == '500/2/168')&(df2.Week == 1)],kind='box',hue='Trimming').set(ylabel='Daily growth rate\\n[% $day^{-1}$]')\n",
    "SA1_TRM.set_xticklabels([''])\n",
    "#SA1_TRM.set_xticklabels(['1000/1', '500/2','200/5'],fontdict= { 'fontsize': 14, 'fontweight':'bold','color': 'k'})\n",
    "#SA1_TRM = sns.stripplot(x = 'Week', y = 'DGR', data = df2[(df2.Treatment != 'Acclimation')&(df2.Stage == 'f')&(df2.Duration == 168)&(df2.Flux == 1000)&(df2.Treatment == '500/2/168')],hue = 'Trimming').set(xlabel='\\n Week #', ylabel='Daily growth rate')\n"
   ]
  },
  {
   "cell_type": "code",
   "execution_count": null,
   "metadata": {},
   "outputs": [],
   "source": [
    "# S.A #1 - growth rates in different amplitudes - all weeks together\n",
    "sns.set_context(\"paper\", rc={\"font.size\":16,\"axes.titlesize\":16,\"axes.labelsize\":16}) \n",
    "\n",
    "# combined strip plot - all data\n",
    "SA1_TRM = sns.catplot(x = 'Treatment', y = 'DGR', data = df2[(df2.Stage == 'f')&(df2.Treatment != 'Acclimation')&(df2.Week == 1)&(df2.Exp == 4)],hue='Trimming').set(xlabel='Added N $Frequency^{-1}$ \\n [µM NH4] / [1/week]', ylabel='Daily growth rate\\n[% $day^{-1}$]')\n",
    "SA1_TRM.set_xticklabels(['1000/1', '500/2','500/3'],fontdict= { 'fontsize': 14, 'fontweight':'bold','color': 'k'})\n",
    "\n",
    "#SA1_TRM.set_xticklabels([''])\n",
    "#SA1_TRM.set_xticklabels(['1000/1', '500/2','200/5'],fontdict= { 'fontsize': 14, 'fontweight':'bold','color': 'k'})\n",
    "#SA1_TRM = sns.stripplot(x = 'Week', y = 'DGR', data = df2[(df2.Treatment != 'Acclimation')&(df2.Stage == 'f')&(df2.Duration == 168)&(df2.Flux == 1000)&(df2.Treatment == '500/2/168')],hue = 'Trimming').set(xlabel='\\n Week #', ylabel='Daily growth rate')\n"
   ]
  },
  {
   "cell_type": "code",
   "execution_count": null,
   "metadata": {},
   "outputs": [],
   "source": [
    "# S.A #1 - growth rates in different amplitudes - all weeks together\n",
    "sns.set_context(\"paper\", rc={\"font.size\":16,\"axes.titlesize\":16,\"axes.labelsize\":16}) \n",
    "\n",
    "# combined strip plot - all data\n",
    "SA1_TRM = sns.catplot(x = 'Treatment', y = 'GR', data = df2[(df2.Stage == 'f')&(df2.Treatment != 'Acclimation')&(df2.Week == 1)&(df2.Exp == 4)],hue='Trimming').set(xlabel='Added N $Frequency^{-1}$ \\n [µM NH4 / $week^{-1}$]', ylabel='Daily growth rate\\n[% $day^{-1}$]')\n",
    "SA1_TRM.set_xticklabels(['1000/1', '500/2','500/3'],fontdict= { 'fontsize': 16, 'fontweight':'bold','color': 'k'})\n",
    "\n",
    "#SA1_TRM.set_xticklabels([''])\n",
    "#SA1_TRM.set_xticklabels(['1000/1', '500/2','200/5'],fontdict= { 'fontsize': 14, 'fontweight':'bold','color': 'k'})\n",
    "#SA1_TRM = sns.stripplot(x = 'Week', y = 'DGR', data = df2[(df2.Treatment != 'Acclimation')&(df2.Stage == 'f')&(df2.Duration == 168)&(df2.Flux == 1000)&(df2.Treatment == '500/2/168')],hue = 'Trimming').set(xlabel='\\n Week #', ylabel='Daily growth rate')\n"
   ]
  },
  {
   "cell_type": "code",
   "execution_count": null,
   "metadata": {},
   "outputs": [],
   "source": [
    "# weighing effect\n",
    "palette = sns.color_palette(\"tab10\",4)\n",
    "\n",
    "d = df2[(df2.Stage == 'f')&(df2.Treatment == '500/2/168')]#&(np.isnan(df2.Weighing)!= True)]\n",
    "ax = sns.pointplot(data=d,palette=palette, x=\"Week\", y=\"DGR\", hue=\"Weighing\",err_kws=None,ci=None).set(xlabel='Week', ylabel='Daily growth rate\\n[% $day^{-1}$]')\n",
    "#ax.setp(ax.get_xticklabels([1,2,3]), rotation=45)\n",
    "\n",
    "#ax.set_xticklabels([1,2,3],fontdict= { 'fontsize': 14, 'fontweight':'bold','color': 'k'})\n"
   ]
  },
  {
   "cell_type": "code",
   "execution_count": null,
   "metadata": {},
   "outputs": [],
   "source": [
    "# weighing effect\n",
    "palette = sns.color_palette(\"tab10\",4)\n",
    "\n",
    "d = df2[(df2.Stage == 'f')&(df2.Treatment == '500/2/168')]#&(np.isnan(df2.Weighing)!= True)]\n",
    "ax = sns.pointplot(data=d,palette=palette, x=\"Week\", y=\"GR\", hue=\"Weighing\",err_kws=None,ci=None).set(xlabel='Week', ylabel='Daily growth rate\\n[% $day^{-1}$]')\n",
    "#ax.setp(ax.get_xticklabels([1,2,3]), rotation=45)\n",
    "\n",
    "#ax.set_xticklabels([1,2,3],fontdict= { 'fontsize': 14, 'fontweight':'bold','color': 'k'})\n"
   ]
  },
  {
   "cell_type": "code",
   "execution_count": null,
   "metadata": {},
   "outputs": [],
   "source": [
    "rp.summary_cont(df2[(df2.Stage == 'f')&(df2.Treatment == '500/2/168')]['DGR'].groupby(df2[(df2.Stage == 'f')&(df2.Treatment == '500/2/168')]['Weighing']))"
   ]
  },
  {
   "cell_type": "code",
   "execution_count": null,
   "metadata": {},
   "outputs": [],
   "source": [
    "rp.summary_cont(df2[(df2.Stage == 'f')&(df2.Treatment == '500/2/168')]['GR'].groupby(df2[(df2.Stage == 'f')&(df2.Treatment == '500/2/168')]['Weighing']))"
   ]
  },
  {
   "cell_type": "code",
   "execution_count": null,
   "metadata": {},
   "outputs": [],
   "source": [
    "rp.summary_cont(df2[(df2.Stage == 'f')&(df2.Treatment == '500/2/168')]['DGR'].groupby(df2[(df2.Stage == 'f')&(df2.Treatment == '500/2/168')]['Trimming']))"
   ]
  },
  {
   "cell_type": "code",
   "execution_count": null,
   "metadata": {},
   "outputs": [],
   "source": [
    "rp.summary_cont(df2[(df2.Stage == 'f')&(df2.Treatment == '500/2/168')]['GR'].groupby(df2[(df2.Stage == 'f')&(df2.Treatment == '500/2/168')]['Trimming']))"
   ]
  },
  {
   "cell_type": "code",
   "execution_count": null,
   "metadata": {},
   "outputs": [],
   "source": [
    "# weighing effect\n",
    "palette = sns.color_palette(\"tab10\",4)\n",
    "\n",
    "d = df2[(df2.Stage == 'f')&(df2.Treatment == '500/2/168')]#&(np.isnan(df2.Weighing)!= True)]\n",
    "ax = sns.pointplot(data=d,palette=palette, x=\"Week\", y=\"DGR\", hue=\"Trimming\",err_kws=None,ci=None).set(xlabel='Week', ylabel='Daily growth rate\\n[% $day^{-1}$]')\n",
    "#ax.setp(ax.get_xticklabels([1,2,3]), rotation=45)\n",
    "\n",
    "#ax.set_xticklabels([1,2,3],fontdict= { 'fontsize': 14, 'fontweight':'bold','color': 'k'})\n"
   ]
  },
  {
   "cell_type": "code",
   "execution_count": null,
   "metadata": {},
   "outputs": [],
   "source": [
    "# weighing effect\n",
    "palette = sns.color_palette(\"tab10\",4)\n",
    "\n",
    "d = df2[(df2.Stage == 'f')&(df2.Treatment == '500/2/168')]#&(np.isnan(df2.Weighing)!= True)]\n",
    "ax = sns.pointplot(data=d,palette=palette, x=\"Week\", y=\"GR\", hue=\"Trimming\",err_kws=None,ci=None).set(xlabel='Week', ylabel='Daily growth rate\\n[% $day^{-1}$]')\n",
    "#ax.setp(ax.get_xticklabels([1,2,3]), rotation=45)\n",
    "\n",
    "#ax.set_xticklabels([1,2,3],fontdict= { 'fontsize': 14, 'fontweight':'bold','color': 'k'})\n"
   ]
  },
  {
   "cell_type": "code",
   "execution_count": null,
   "metadata": {},
   "outputs": [],
   "source": [
    "# trimming effect\n",
    "palette = sns.color_palette(\"tab10\",3)\n",
    "\n",
    "d = df2[(df2.Stage == 'f')&(df2.Treatment == '500/2/168')]#&(np.isnan(df2.Weighing)!= True)]\n",
    "sns.pointplot('Week','DGR', data=d,palette=palette,hue=\"Trimming\",err_kws=None,ci=None,ax=ax).set(xlabel='Week', ylabel='Daily growth rate\\n[% $day^{-1}$]')\n",
    "#,err_style=\"band\", ci=\"sd\")\n",
    "#ax.set_xticklabels(['1','2','3'])\n"
   ]
  },
  {
   "cell_type": "code",
   "execution_count": null,
   "metadata": {},
   "outputs": [],
   "source": []
  }
 ],
 "metadata": {
  "kernelspec": {
   "display_name": "Python 3",
   "language": "python",
   "name": "python3"
  },
  "language_info": {
   "codemirror_mode": {
    "name": "ipython",
    "version": 3
   },
   "file_extension": ".py",
   "mimetype": "text/x-python",
   "name": "python",
   "nbconvert_exporter": "python",
   "pygments_lexer": "ipython3",
   "version": "3.7.3"
  }
 },
 "nbformat": 4,
 "nbformat_minor": 4
}
