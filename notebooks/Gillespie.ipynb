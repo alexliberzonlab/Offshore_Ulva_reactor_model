{
 "cells": [
  {
   "cell_type": "code",
   "execution_count": 1,
   "metadata": {},
   "outputs": [
    {
     "name": "stdout",
     "output_type": "stream",
     "text": [
      "Requirement already up-to-date: gillespy2 in c:\\users\\meiro\\appdata\\roaming\\python\\python37\\site-packages (1.5.4)\n",
      "Requirement already satisfied, skipping upgrade: plotly>=4.1.0 in c:\\users\\meiro\\anaconda3new\\lib\\site-packages (from gillespy2) (4.8.1)\n",
      "Requirement already satisfied, skipping upgrade: scipy>=1.3.1 in c:\\users\\meiro\\anaconda3new\\lib\\site-packages (from gillespy2) (1.4.1)\n",
      "Requirement already satisfied, skipping upgrade: setuptools>=41.0.1 in c:\\users\\meiro\\anaconda3new\\lib\\site-packages (from gillespy2) (45.2.0.post20200210)\n",
      "Requirement already satisfied, skipping upgrade: matplotlib>=3.0.3 in c:\\users\\meiro\\anaconda3new\\lib\\site-packages (from gillespy2) (3.1.3)\n",
      "Requirement already satisfied, skipping upgrade: six in c:\\users\\meiro\\anaconda3new\\lib\\site-packages (from plotly>=4.1.0->gillespy2) (1.14.0)\n",
      "Requirement already satisfied, skipping upgrade: retrying>=1.3.3 in c:\\users\\meiro\\anaconda3new\\lib\\site-packages (from plotly>=4.1.0->gillespy2) (1.3.3)\n",
      "Requirement already satisfied, skipping upgrade: numpy>=1.13.3 in c:\\users\\meiro\\anaconda3new\\lib\\site-packages (from scipy>=1.3.1->gillespy2) (1.18.1)\n",
      "Requirement already satisfied, skipping upgrade: python-dateutil>=2.1 in c:\\users\\meiro\\anaconda3new\\lib\\site-packages (from matplotlib>=3.0.3->gillespy2) (2.8.1)\n",
      "Requirement already satisfied, skipping upgrade: kiwisolver>=1.0.1 in c:\\users\\meiro\\anaconda3new\\lib\\site-packages (from matplotlib>=3.0.3->gillespy2) (1.1.0)\n",
      "Requirement already satisfied, skipping upgrade: cycler>=0.10 in c:\\users\\meiro\\anaconda3new\\lib\\site-packages (from matplotlib>=3.0.3->gillespy2) (0.10.0)\n",
      "Requirement already satisfied, skipping upgrade: pyparsing!=2.0.4,!=2.1.2,!=2.1.6,>=2.0.1 in c:\\users\\meiro\\anaconda3new\\lib\\site-packages (from matplotlib>=3.0.3->gillespy2) (2.4.6)\n",
      "Note: you may need to restart the kernel to use updated packages.\n"
     ]
    }
   ],
   "source": [
    "pip install gillespy2 --user --upgrade"
   ]
  },
  {
   "cell_type": "code",
   "execution_count": null,
   "metadata": {},
   "outputs": [],
   "source": [
    "# adding stochastic elements to the deterministic model - Uri Obolosky\n",
    "\n",
    "#Gillespie stochstic simulation algorythem\n",
    "#Tau lipping algorythem\n",
    "\n",
    "#https://pypi.org/project/gillespy2/#installation\n",
    "\n",
    "#Suggested steps:\n",
    "\n",
    "# 1. add a fourth defrential equation for sporulation\n",
    "# 2. Learn the Gillespie method and apply it"
   ]
  }
 ],
 "metadata": {
  "kernelspec": {
   "display_name": "Python 3",
   "language": "python",
   "name": "python3"
  },
  "language_info": {
   "codemirror_mode": {
    "name": "ipython",
    "version": 3
   },
   "file_extension": ".py",
   "mimetype": "text/x-python",
   "name": "python",
   "nbconvert_exporter": "python",
   "pygments_lexer": "ipython3",
   "version": "3.7.3"
  }
 },
 "nbformat": 4,
 "nbformat_minor": 4
}
