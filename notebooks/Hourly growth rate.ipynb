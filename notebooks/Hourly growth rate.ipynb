{
 "cells": [
  {
   "cell_type": "code",
   "execution_count": 4,
   "metadata": {},
   "outputs": [
    {
     "name": "stdout",
     "output_type": "stream",
     "text": [
      "1 1.016\n",
      "2 1.032256\n",
      "3 1.048772096\n",
      "4 1.065552449536\n",
      "5 1.082601288728576\n",
      "6 1.0999229093482332\n",
      "7 1.117521675897805\n",
      "8 1.13540202271217\n",
      "9 1.1535684550755647\n",
      "10 1.1720255503567738\n",
      "11 1.190777959162482\n",
      "12 1.2098304065090817\n",
      "13 1.229187693013227\n",
      "14 1.2488546961014386\n",
      "15 1.2688363712390616\n",
      "16 1.2891377531788866\n",
      "17 1.3097639572297488\n"
     ]
    }
   ],
   "source": [
    "m0 = 1\n",
    "miu = 0.016\n",
    "m = m0\n",
    "for i in list(range(1,18)):\n",
    "    m = m + m * miu\n",
    "    print(i,m)"
   ]
  },
  {
   "cell_type": "code",
   "execution_count": null,
   "metadata": {},
   "outputs": [],
   "source": []
  }
 ],
 "metadata": {
  "kernelspec": {
   "display_name": "Python 3",
   "language": "python",
   "name": "python3"
  },
  "language_info": {
   "codemirror_mode": {
    "name": "ipython",
    "version": 3
   },
   "file_extension": ".py",
   "mimetype": "text/x-python",
   "name": "python",
   "nbconvert_exporter": "python",
   "pygments_lexer": "ipython3",
   "version": "3.7.3"
  }
 },
 "nbformat": 4,
 "nbformat_minor": 4
}
