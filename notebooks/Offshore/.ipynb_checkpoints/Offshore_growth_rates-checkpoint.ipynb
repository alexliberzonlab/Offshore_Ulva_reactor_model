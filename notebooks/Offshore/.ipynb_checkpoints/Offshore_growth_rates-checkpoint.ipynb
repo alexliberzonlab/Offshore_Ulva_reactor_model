{
 "cells": [
  {
   "cell_type": "markdown",
   "metadata": {
    "colab_type": "text",
    "id": "raGTYa1h4iD_"
   },
   "source": [
    "# Closed system simulation with experimental data markers\n",
    "\n",
    "In this simulation we have a system of 5 liters in which we start with Next = 1000/500/200, some Nint (measured) of some mass (m). After this we \"feed\" for a period of 7/3.5/2.33 days, i.e. solve the \"feeding\" part of the simulation. After that, we add 1000/500/200 uM to the last value of Next and keep \"feeding\". After one duration (7 days) we reset the water, mass and the amplitude to the beginning of the first cycle. The only difference from the t_0 is the Nint which is accumulating all the effects through the time. The mass is reset to m_0 and Next is reset to 1000 ppm (per something per something)\n"
   ]
  },
  {
   "cell_type": "code",
   "execution_count": 1,
   "metadata": {
    "colab": {},
    "colab_type": "code",
    "id": "yUfAvi3l4iEA"
   },
   "outputs": [
    {
     "ename": "ModuleNotFoundError",
     "evalue": "No module named 'myfunctions'",
     "output_type": "error",
     "traceback": [
      "\u001b[1;31m---------------------------------------------------------------------------\u001b[0m",
      "\u001b[1;31mModuleNotFoundError\u001b[0m                       Traceback (most recent call last)",
      "\u001b[1;32m<ipython-input-1-91dcd782bab6>\u001b[0m in \u001b[0;36m<module>\u001b[1;34m\u001b[0m\n\u001b[0;32m     12\u001b[0m \u001b[0mget_ipython\u001b[0m\u001b[1;33m(\u001b[0m\u001b[1;33m)\u001b[0m\u001b[1;33m.\u001b[0m\u001b[0mrun_line_magic\u001b[0m\u001b[1;33m(\u001b[0m\u001b[1;34m'matplotlib'\u001b[0m\u001b[1;33m,\u001b[0m \u001b[1;34m'inline'\u001b[0m\u001b[1;33m)\u001b[0m\u001b[1;33m\u001b[0m\u001b[1;33m\u001b[0m\u001b[0m\n\u001b[0;32m     13\u001b[0m \u001b[1;33m\u001b[0m\u001b[0m\n\u001b[1;32m---> 14\u001b[1;33m \u001b[1;32mfrom\u001b[0m \u001b[0mmyfunctions\u001b[0m \u001b[1;32mimport\u001b[0m \u001b[1;33m*\u001b[0m\u001b[1;33m\u001b[0m\u001b[1;33m\u001b[0m\u001b[0m\n\u001b[0m\u001b[0;32m     15\u001b[0m \u001b[1;33m\u001b[0m\u001b[0m\n\u001b[0;32m     16\u001b[0m \u001b[1;32mimport\u001b[0m \u001b[0mdatetime\u001b[0m\u001b[1;33m\u001b[0m\u001b[1;33m\u001b[0m\u001b[0m\n",
      "\u001b[1;31mModuleNotFoundError\u001b[0m: No module named 'myfunctions'"
     ]
    }
   ],
   "source": [
    "from __future__ import division\n",
    "import numpy as np\n",
    "import scipy as sp\n",
    "from scipy.integrate import odeint\n",
    "from scipy import stats\n",
    "import matplotlib.pyplot as plt\n",
    "import pandas as pd # to read excel\n",
    "import seaborn as sns\n",
    "from array import *\n",
    "import researchpy as rp\n",
    "import scipy.stats as stats\n",
    "%matplotlib inline\n",
    "\n",
    "from myfunctions_offshore import *\n",
    "\n",
    "import datetime"
   ]
  },
  {
   "cell_type": "code",
   "execution_count": null,
   "metadata": {},
   "outputs": [],
   "source": [
    "# statistics functions\n",
    "\n",
    "import scikit_posthocs as scp"
   ]
  },
  {
   "cell_type": "code",
   "execution_count": null,
   "metadata": {
    "colab": {
     "base_uri": "https://localhost:8080/",
     "height": 277
    },
    "colab_type": "code",
    "executionInfo": {
     "elapsed": 62295,
     "status": "ok",
     "timestamp": 1565466545086,
     "user": {
      "displayName": "Meiron Zollmann",
      "photoUrl": "",
      "userId": "18114482091462006341"
     },
     "user_tz": -180
    },
    "id": "d4VzbZ484iED",
    "inputHidden": false,
    "outputHidden": false,
    "outputId": "6d76a9eb-17b9-400c-de1d-c0cec8fc215c"
   },
   "outputs": [],
   "source": [
    "# Import data and parameters\n",
    "\n",
    "xl = pd.ExcelFile('../data/Parameters.xlsx')\n",
    "x2 = pd.ExcelFile('../data/Data.xlsx')\n",
    "\n",
    "# Import parameters into df1\n",
    "df1 = xl.parse('Parameters',header=None)\n",
    "\n",
    "# Import indoor data into df2\n",
    "df2 = x2.parse('Indoor')\n",
    "\n",
    "# Import offshore data ito df2\n",
    "df3 = x2.parse('Offshore')\n",
    "\n",
    "# Import outdoor data ito df4\n",
    "df4 = x2.parse('Outdoor')"
   ]
  },
  {
   "cell_type": "code",
   "execution_count": null,
   "metadata": {},
   "outputs": [],
   "source": [
    "df3.head()"
   ]
  },
  {
   "cell_type": "code",
   "execution_count": null,
   "metadata": {},
   "outputs": [],
   "source": [
    "# SA #2\n",
    "# Statistical analysis for offshore experiments results\n",
    "# ANOVA / Multiple T-test 2-side unequal...\n",
    "# Effect of Date, depth, period and duration on DGR/Nint"
   ]
  },
  {
   "cell_type": "code",
   "execution_count": null,
   "metadata": {},
   "outputs": [],
   "source": [
    "# Reduced datastes\n",
    "d = df3[(df3.Stage == 'f')&(np.isnan(df3.DGR)!= True)&(df3.Comment != 'Losses')]\n",
    "dN = df3[(df3.Stage == 'f')&(np.isnan(df3.N)!= True)]"
   ]
  },
  {
   "cell_type": "code",
   "execution_count": null,
   "metadata": {},
   "outputs": [],
   "source": [
    "dNormfull = df3[(df3.Stage == 'f')&(np.isnan(df3.DGR)!= True)&(df3.Comment != 'Losses')&(df3.Treatment != 'Acclimation')]\n",
    "print(len(dNormfull.DGR))\n",
    "plt.hist(dNormfull['DGR'], bins = 20)#,density = True,stacked =True)\n",
    "#n, bins, patches = plt.hist(x, num_bins, facecolor='blue', alpha=0.5)\n",
    "plt.xlabel(xlabel = 'DGR\\n [% per day]')#, fontdict=None, labelpad=None, **kwargs)\n",
    "plt.ylabel(ylabel = 'Frequency of observations')"
   ]
  },
  {
   "cell_type": "code",
   "execution_count": null,
   "metadata": {},
   "outputs": [],
   "source": [
    "dNormfullN = df3[(df3.Stage == 'f')&(np.isnan(df3.N)!= True)&(df3.Treatment != 'Acclimation')]\n",
    "print(len(dNormfullN.N))\n",
    "plt.hist(dNormfullN['N'], bins = 20)#,density = True,stacked =True)\n",
    "#n, bins, patches = plt.hist(x, num_bins, facecolor='blue', alpha=0.5)\n",
    "plt.xlabel(xlabel = 'N\\n [% gN / gDW]')#, fontdict=None, labelpad=None, **kwargs)\n",
    "plt.ylabel(ylabel = 'Frequency of observations')"
   ]
  },
  {
   "cell_type": "code",
   "execution_count": null,
   "metadata": {},
   "outputs": [],
   "source": [
    "rp.summary_cont(d['DGR'])"
   ]
  },
  {
   "cell_type": "code",
   "execution_count": null,
   "metadata": {},
   "outputs": [],
   "source": [
    "rp.summary_cont(dN['N'])"
   ]
  },
  {
   "cell_type": "code",
   "execution_count": null,
   "metadata": {},
   "outputs": [],
   "source": [
    "rp.summary_cont(d[(d.Period == 'Rapid')&(d.Depth == 5)]['DGR'].groupby(d['Exp']))#,rp.summary_cont(d['N'].groupby(d['Exp']))"
   ]
  },
  {
   "cell_type": "code",
   "execution_count": null,
   "metadata": {},
   "outputs": [],
   "source": [
    "rp.summary_cont(d[(d.Period == 'Continuous')&(d.Depth == 5)]['DGR'].groupby(d['Exp']))#,rp.summary_cont(d['N'].groupby(d['Exp']))"
   ]
  },
  {
   "cell_type": "code",
   "execution_count": null,
   "metadata": {},
   "outputs": [],
   "source": [
    "palette = sns.color_palette(\"hls\",4)\n"
   ]
  },
  {
   "cell_type": "code",
   "execution_count": null,
   "metadata": {},
   "outputs": [],
   "source": [
    "# Mann-Whitney U Test between short and long fertilizing - DGR and N\n",
    "print(stats.mannwhitneyu(d[(d['Period'] == 'Continuous')]['DGR'],d[(d['Period'] == 'Rapid')]['DGR']))\n",
    "print(stats.mannwhitneyu(dN[(dN['Period'] == 'Continuous')]['N'],dN[(dN['Period'] == 'Rapid')]['N']))"
   ]
  },
  {
   "cell_type": "code",
   "execution_count": null,
   "metadata": {},
   "outputs": [],
   "source": [
    "# Mann-Whitney U Test between rapid fertilizing in sea water and rapid fertilizing in enriched seawater\n",
    "seawater = [-8.3,-11.3,-2.8,-10.0,-12.5,-12.9,-9.4,-12.1,-7.6,-7.0,-4.6]\n",
    "enriched_seawater = [-11.9,-12.3,0.1,-10.2,-12.5,-4.1,-13.5,-7.9,-11.7,-8.3,-8.3]\n",
    "\n",
    "print(stats.mannwhitneyu(seawater,enriched_seawater))"
   ]
  },
  {
   "cell_type": "code",
   "execution_count": null,
   "metadata": {},
   "outputs": [],
   "source": [
    "# Mann-Whitney U test for N and DGR in different periods in depth 1 and 5\n",
    "for i in [1,5]:\n",
    "    print('\\nDepth: ' + str(i))\n",
    "    print(stats.mannwhitneyu(d[(d['Depth'] == i)&(d['Period'] == 'Continuous')]['DGR'],d[(d['Depth'] == i)&(d['Period'] == 'Rapid')]['DGR']))\n",
    "    print(stats.mannwhitneyu(dN[(dN['Depth'] == i)&(dN['Period'] == 'Continuous')]['N'],dN[(dN['Depth'] == i)&(dN['Period'] == 'Rapid')]['N']))"
   ]
  },
  {
   "cell_type": "code",
   "execution_count": null,
   "metadata": {},
   "outputs": [],
   "source": [
    "# Mann-Whitney U test for N and DGR in different periods in depth 1 and 5 - preliminary run and run 1\n",
    "for i in [1,5]:\n",
    "    print('\\nDepth: ' + str(i))\n",
    "    print(stats.mannwhitneyu(d[(d.Exp != 3)&(d.Exp != 4)&(d.Exp != 5)&(d['Depth'] == i)&(d['Period'] == 'Continuous')]['DGR'],d[(d.Exp != 3)&(d.Exp != 4)&(d.Exp != 5)&(d['Depth'] == i)&(d['Period'] == 'Rapid')]['DGR']))\n",
    "    print(stats.mannwhitneyu(dN[(dN.Exp != 3)&(dN.Exp != 4)&(dN.Exp != 5)&(dN['Depth'] == i)&(dN['Period'] == 'Continuous')]['N'],dN[(dN.Exp != 3)&(dN.Exp != 4)&(dN.Exp != 5)&(dN['Depth'] == i)&(dN['Period'] == 'Rapid')]['N']))"
   ]
  },
  {
   "cell_type": "code",
   "execution_count": null,
   "metadata": {},
   "outputs": [],
   "source": []
  },
  {
   "cell_type": "code",
   "execution_count": null,
   "metadata": {},
   "outputs": [],
   "source": [
    "# Mann-Whitney U test for N and DGR in different periods in depth 1 and 5 - only exp 2\n",
    "print(stats.mannwhitneyu(d[(d['Exp'] != 3)&(d['Exp'] != 4)&(d['Exp'] != 5)&(d['Period'] == 'Continuous')]['DGR'],d[(d['Exp'] != 3)&(d['Exp'] != 4)&(d['Exp'] != 5)&(d['Period'] == 'Rapid')]['DGR']))\n",
    "print(stats.mannwhitneyu(dN[(dN['Exp'] != 3)&(dN['Exp'] != 4)&(dN['Exp'] != 5)&(dN['Period'] == 'Continuous')]['N'],dN[(dN['Exp'] != 3)&(dN['Exp'] != 4)&(dN['Exp'] != 5)&(dN['Period'] == 'Rapid')]['N']))"
   ]
  },
  {
   "cell_type": "raw",
   "metadata": {},
   "source": [
    "# T-test for N and DGR in different periods in depth 1 and 5\n",
    "for i in [1,5]:\n",
    "    t_statDGR, p_valDGR = stats.ttest_ind(d[(d.Period == 1)&(d.Depth == i)]['DGR'],d[(d.Period == 2)&(d.Depth == i)]['DGR'], equal_var=False)\n",
    "    t_statN, p_valN = stats.ttest_ind(dN[(dN.Period == 1)&(dN.Depth == i)]['N'],dN[(dN.Period == 2)&(dN.Depth == i)]['N'], equal_var=False)\n",
    "    print('for DGR in depth ' + str(i) + ' t-stat is: ' + str(t_statDGR) + ' and p-val is ' +str(p_valDGR))\n",
    "    print('for N in depth ' + str(i) + ' t-stat is: ' + str(t_statN) + ' and p-val is ' +str(p_valN) + '\\n')\n"
   ]
  },
  {
   "cell_type": "raw",
   "metadata": {},
   "source": [
    "# T-test for N and DGR in different periods - all experiments\n",
    "t_statDGR, p_valDGR = stats.ttest_ind(d[(d['Period'] == 1)]['DGR'],d[(d['Period'] == 2)]['DGR'], equal_var=False)\n",
    "t_statN, p_valN = stats.ttest_ind(dN[(dN['Period'] == 1)]['N'],dN[(dN['Period'] == 2)]['N'], equal_var=False)\n",
    "\n",
    "print(t_statDGR, p_valDGR)\n",
    "print(t_statN,p_valN)"
   ]
  },
  {
   "cell_type": "code",
   "execution_count": null,
   "metadata": {},
   "outputs": [],
   "source": [
    "# growth rates in different fertilizing regimes - preliminary run and run 1\n",
    "sns.set_context(\"paper\", rc={\"font.size\":16,\"axes.titlesize\":16,\"axes.labelsize\":16}) \n",
    "\n",
    "# combined strip plot - all data\n",
    "SA2_DEP_DGR = sns.catplot(x = 'Period', y = 'DGR', data = df3[(df3.Exp == 2)&(df3.Comment != 'Losses')&(df3.Stage == 'f')],kind='box',palette=palette,order = ['Rapid','Continuous'])\n",
    "#SA2_PER_DGR.set(xlabel = ['a','b'])#, ylabel=y_axis)\n",
    "SA2_DEP_DGR.set_xticklabels(['Continuous N \\nEnrichment', '1-day N\\n Enrichment'],fontdict= { 'fontsize': 14, 'fontweight':'bold','color': 'k'})\n",
    "#SA2_DEP_DGR = sns.stripplot(x = 'Period', y = 'DGR', data = df3[(df3.Exp != 2)&(df3.Comment != 'Losses')&(df3.Stage == 'f')],color='k').set(xlabel='Fertilizing regime', ylabel='Daily growth rate')\n",
    "SA2_DEP_DGR = sns.stripplot(x = 'Period', y = 'DGR', data = df3[(df3.Exp == 2)&(df3.Comment != 'Losses')&(df3.Stage == 'f')],color='k',order = ['Rapid','Continuous']).set(xlabel='Fertilizing regime', ylabel='Daily growth rate')"
   ]
  },
  {
   "cell_type": "code",
   "execution_count": null,
   "metadata": {},
   "outputs": [],
   "source": [
    "df3[(df3.Exp == 2)&(df3.Comment != 'Losses')&(df3.Stage == 'f')&(df3.Period == 'Rapid')]['DGR']"
   ]
  },
  {
   "cell_type": "code",
   "execution_count": null,
   "metadata": {},
   "outputs": [],
   "source": [
    "# growth rates in different fertilizing regimes - preliminary run and run 1 - without scatter\n",
    "sns.set_context(\"paper\", rc={\"font.size\":16,\"axes.titlesize\":16,\"axes.labelsize\":16}) \n",
    "\n",
    "# combined strip plot - all data\n",
    "SA2_DEP_DGR = sns.catplot(x = 'Period', y = 'DGR', data = df3[(df3.Exp == 2)&(df3.Comment != 'Losses')&(df3.Stage == 'f')],kind='box',palette=palette,order = ['Rapid','Continuous']).set(xlabel='\\nFertilizing regime', ylabel='Daily growth rate')\n",
    "#SA2_PER_DGR.set(xlabel = ['a','b'])#, ylabel=y_axis)\n",
    "SA2_DEP_DGR.set_xticklabels(['1-day N\\n Enrichment','Continuous N \\nEnrichment'],fontdict= { 'fontsize': 14, 'fontweight':'bold','color': 'k'})\n",
    "#SA2_DEP_DGR = sns.stripplot(x = 'Period', y = 'DGR', data = df3[(df3.Exp != 2)&(df3.Comment != 'Losses')&(df3.Stage == 'f')],color='k').set(xlabel='Fertilizing regime', ylabel='Daily growth rate')\n",
    "#SA2_DEP_DGR = sns.stripplot(x = 'Period', y = 'DGR', data = df3[(df3.Exp == 2)&(df3.Comment != 'Losses')&(df3.Stage == 'f')],color='k',order = ['Rapid','Continuous']).set(xlabel='Fertilizing regime', ylabel='Daily growth rate')"
   ]
  },
  {
   "cell_type": "code",
   "execution_count": null,
   "metadata": {},
   "outputs": [],
   "source": [
    "# N in different fertilizing regimes - preliminary run and run 1\n",
    "sns.set_context(\"paper\", rc={\"font.size\":16,\"axes.titlesize\":16,\"axes.labelsize\":16}) \n",
    "\n",
    "# combined strip plot - all data\n",
    "SA2_DEP_N = sns.catplot(x = 'Period', y = 'N', data = dN[(dN.Exp != 3)&(dN.Exp != 4)&(dN.Exp != 5)],kind='box',palette=palette,order = ['Rapid','Continuous']).set(xlabel='\\nFertilizing regime', ylabel='Internal N \\n[% g N / g DW]')\n",
    "SA2_DEP_N.set_xticklabels(['1-day N\\n Enrichment','Continuous N \\nEnrichment'],fontdict= { 'fontsize': 14, 'fontweight':'bold','color': 'k'})\n",
    "#SA2_DEP_N = sns.stripplot(x = 'Period', y = 'N', data = dN[(dN.Exp != 2)],color='k',order = ['Rapid','Continuous']).set(xlabel='Fertilizing regime', ylabel='Internal N \\n[% gN / gDW]')\n",
    "#SA2_DEP_N = sns.stripplot(x = 'Period', y = 'N', data = dN[(dN.Exp != 3)&(dN.Exp != 4)&(dN.Exp != 5)],color='k',order = ['Rapid','Continuous']).set(xlabel='Fertilizing regime', ylabel='Internal N \\n[% gN / gDW]')"
   ]
  },
  {
   "cell_type": "code",
   "execution_count": null,
   "metadata": {},
   "outputs": [],
   "source": [
    "df3[(df3.Exp != 3)&(df3.Exp != 4)&(df3.Exp != 5)&(df3.Comment != 'Losses')&(df3.Stage == 'f')&(df3.Period == 'Rapid')&(df3.Depth == 1)]['N']"
   ]
  },
  {
   "cell_type": "raw",
   "metadata": {},
   "source": [
    "# growth rates in different periods - by depth\n",
    "sns.set_context(\"paper\", rc={\"font.size\":16,\"axes.titlesize\":16,\"axes.labelsize\":16}) \n",
    "\n",
    "# combined strip plot - all data\n",
    "for i in [1,5]:\n",
    "    SA2_DEP_DGR_D = sns.catplot(x = 'Period', y = 'DGR', data = d[(d.Depth == i)],kind='box',palette=palette)#.set(xlabel='Fertilization Duration\\n [hours]', ylabel='Daily growth rate')\n",
    "    SA2_DEP_DGR_D.set_xticklabels([1, 5],fontdict= { 'fontsize': 14, 'fontweight':'bold','color': 'k'})\n",
    "    SA2_DEP_DGR_D = sns.stripplot(x = 'Period', y = 'DGR', data = d[(d.Depth == i)],color='k').set(xlabel='Period', ylabel='Daily growth rate')"
   ]
  },
  {
   "cell_type": "code",
   "execution_count": null,
   "metadata": {},
   "outputs": [],
   "source": [
    "dc = d[(d['Exp'] != 1)&(d['Exp'] != 4)&(d['Exp'] != 5)]\n",
    "dNc = dN[(dN['Exp'] != 1)&(dN['Exp'] != 4)&(dN['Exp'] != 5)]"
   ]
  },
  {
   "cell_type": "code",
   "execution_count": null,
   "metadata": {},
   "outputs": [],
   "source": [
    "# growth rates in different periods - by depth\n",
    "sns.set_context(\"paper\", rc={\"font.size\":16,\"axes.titlesize\":16,\"axes.labelsize\":16}) \n",
    "\n",
    "# combined strip plot - all data\n",
    "#for i in [1,5]:\n",
    "SA2_DEP_DGR_D = sns.catplot(x = 'Period', y = 'DGR', data = d,kind='box',palette=palette,hue = 'Depth').set(xlabel='', ylabel='Daily growth rate')\n",
    "SA2_DEP_DGR_D.set_xticklabels(['1-day N\\n Enrichment','Continuous N \\nEnrichment'],fontdict= { 'fontsize': 14, 'fontweight':'bold','color': 'k'})\n",
    "#SA2_DEP_DGR_W = sns.stripplot(x = 'Period', y = 'DGR', data = d,color='k').set(xlabel='Period', ylabel='Daily growth rate')"
   ]
  },
  {
   "cell_type": "code",
   "execution_count": null,
   "metadata": {},
   "outputs": [],
   "source": [
    "# growth rates in different periods - by depth - only run 1\n",
    "sns.set_context(\"paper\", rc={\"font.size\":16,\"axes.titlesize\":16,\"axes.labelsize\":16}) \n",
    "\n",
    "# combined strip plot - all data\n",
    "#for i in [1,5]:\n",
    "SA2_DEP_DGR_D = sns.catplot(x = 'Period', y = 'DGR', data = d[(d.Exp != 3)&(d.Exp != 4)&(d.Exp != 5)],kind='box',palette=palette,hue = 'Depth',order = ['Rapid','Continuous']).set(xlabel='', ylabel='Daily growth rate')\n",
    "SA2_DEP_DGR_D.set_xticklabels(['1-day N\\n Enrichment','Continuous N \\nEnrichment'],fontdict= { 'fontsize': 14, 'fontweight':'bold','color': 'k'})\n",
    "#SA2_DEP_DGR_W = sns.stripplot(x = 'Period', y = 'DGR', data = d,color='k').set(xlabel='Period', ylabel='Daily growth rate')"
   ]
  },
  {
   "cell_type": "code",
   "execution_count": null,
   "metadata": {},
   "outputs": [],
   "source": [
    "# N in different periods - by depth\n",
    "sns.set_context(\"paper\", rc={\"font.size\":16,\"axes.titlesize\":16,\"axes.labelsize\":16}) \n",
    "\n",
    "# combined strip plot - all data\n",
    "#for i in [1,5]:\n",
    "SA2_DEP_N_D = sns.catplot(x = 'Period', y = 'N', data = dN,kind='box',palette=palette,hue='Depth',order = ['Rapid','Continuous']).set(xlabel='', ylabel='Internal N\\n[% g N $g^{-1}$ DW]')\n",
    "SA2_DEP_N_D.set_xticklabels(['1-day N\\n Enrichment','Continuous N \\nEnrichment'],fontdict= { 'fontsize': 14, 'fontweight':'bold','color': 'k'})\n",
    "#SA2_DEP_N_D = sns.stripplot(x = 'Period', y = 'N', data = dN[(dN.Depth == i)&(dN.Exp == j)],color='k').set(xlabel='Period', ylabel='Internal N\\n[% gN / gDW]')"
   ]
  },
  {
   "cell_type": "code",
   "execution_count": null,
   "metadata": {},
   "outputs": [],
   "source": [
    "# N in different periods - by depth - run 1 + preliminary\n",
    "sns.set_context(\"paper\", rc={\"font.size\":16,\"axes.titlesize\":16,\"axes.labelsize\":16}) \n",
    "\n",
    "# combined strip plot - all data\n",
    "#for i in [1,5]:\n",
    "SA2_DEP_N_D = sns.catplot(x = 'Period', y = 'N', data = dN[(dN.Exp != 3)&(dN.Exp != 4)&(dN.Exp != 5)],kind='box',palette=palette,hue='Depth',order = ['Rapid','Continuous']).set(xlabel='', ylabel='Internal N\\n[% g N $g^{-1}$ DW]')\n",
    "SA2_DEP_N_D.set_xticklabels(['1-day N\\n Enrichment','Continuous N \\nEnrichment'],fontdict= { 'fontsize': 14, 'fontweight':'bold','color': 'k'})\n",
    "#SA2_DEP_N_D = sns.stripplot(x = 'Period', y = 'N', data = dN[(dN.Depth == i)&(dN.Exp == j)],color='k').set(xlabel='Period', ylabel='Internal N\\n[% gN / gDW]')"
   ]
  },
  {
   "cell_type": "code",
   "execution_count": null,
   "metadata": {},
   "outputs": [],
   "source": [
    "dN[(dN.Exp != 3)&(dN.Exp != 4)&(dN.Exp != 5)].N"
   ]
  },
  {
   "cell_type": "raw",
   "metadata": {},
   "source": [
    "# N in different periods - by depth\n",
    "sns.set_context(\"paper\", rc={\"font.size\":16,\"axes.titlesize\":16,\"axes.labelsize\":16}) \n",
    "\n",
    "# combined strip plot - all data\n",
    "for i in [1,5]:\n",
    "    SA2_DEP_N_W = sns.catplot(x = 'Exp', y = 'N', data = dN[(dN.Depth == i)],kind='box',palette=palette,hue='Period')#.set(xlabel='Fertilization Duration\\n [hours]', ylabel='Daily growth rate')\n",
    "    SA2_DEP_N_W.set_xticklabels([1, 5],fontdict= { 'fontsize': 14, 'fontweight':'bold','color': 'k'})\n",
    "    SA2_DEP_N_W = sns.stripplot(x = 'Exp', y = 'N', data = dN[(dN.Depth == i)],color='k').set(xlabel='Period', ylabel='Internal N\\n[% gN / gDW]')"
   ]
  },
  {
   "cell_type": "raw",
   "metadata": {},
   "source": [
    "# T-test for N and DGR in different depths - all experiments\n",
    "t_statDGR, p_valDGR = stats.ttest_ind(d[(d['Period'] == 1)&(d['Depth'] == 1)]['DGR'],d[(d['Period'] == 1)&(d['Depth'] == 5)]['DGR'], equal_var=False)\n",
    "t_statN, p_valN = stats.ttest_ind(dN[(dN['Period'] == 1)&(dN['Depth'] == 1)]['N'],dN[(dN['Period'] == 1)&(dN['Depth'] == 5)]['N'], equal_var=False)\n",
    "\n",
    "print(t_statDGR, p_valDGR)\n",
    "print(t_statN,p_valN)"
   ]
  },
  {
   "cell_type": "code",
   "execution_count": null,
   "metadata": {},
   "outputs": [],
   "source": [
    "# Mann-Whitney U test for N and DGR in different periods in depth 1 and 5\n",
    "dc = d[(d['Period'] == 'Continuous')&(d['Exp'] != 1)&(d['Exp'] != 4)&(d['Exp'] != 5)]\n",
    "dNc = dN[(dN['Period'] == 'Continuous')&(dN['Exp'] != 1)&(dN['Exp'] != 4)&(dN['Exp'] != 5)]\n",
    "\n",
    "print(stats.mannwhitneyu(dc[(dc['Depth'] == 1)]['DGR'],dc[(dc['Depth'] == 5)]['DGR']))\n",
    "print(stats.mannwhitneyu(dNc[(dN['Depth'] == 1)]['N'],dNc[(dNc['Depth'] == 5)]['N']))"
   ]
  },
  {
   "cell_type": "code",
   "execution_count": null,
   "metadata": {},
   "outputs": [],
   "source": [
    "# growth rates in different depths - all data\n",
    "sns.set_context(\"paper\", rc={\"font.size\":16,\"axes.titlesize\":16,\"axes.labelsize\":16}) \n",
    "\n",
    "# combined strip plot - all data\n",
    "SA1_DUR_DGR = sns.catplot(x = 'Depth', y = 'DGR', data = dc,kind='box',palette=palette)\n",
    "SA1_DUR_DGR.set_xticklabels([1, 5],fontdict= { 'fontsize': 14, 'fontweight':'bold','color': 'k'})\n",
    "SA1_DUR_DGR = sns.stripplot(x = 'Depth', y = 'DGR', data = dc,color='k').set(xlabel='Depth\\n [m]', ylabel='Daily growth rate')"
   ]
  },
  {
   "cell_type": "code",
   "execution_count": null,
   "metadata": {},
   "outputs": [],
   "source": [
    "# growth rates in different depths - all data\n",
    "sns.set_context(\"paper\", rc={\"font.size\":16,\"axes.titlesize\":16,\"axes.labelsize\":16}) \n",
    "\n",
    "# combined strip plot - all data\n",
    "SA1_DUR_DGR = sns.catplot(x = 'Depth', y = 'DGR', data = dc,kind='box',palette=palette)\n",
    "SA1_DUR_DGR.set_xticklabels([1, 5],fontdict= { 'fontsize': 14, 'fontweight':'bold','color': 'k'}).set(xlabel='Depth\\n [m]', ylabel='Daily growth rate')\n",
    "#SA1_DUR_DGR = sns.stripplot(x = 'Depth', y = 'DGR', data = dc,color='k').set(xlabel='Depth\\n [m]', ylabel='Daily growth rate')"
   ]
  },
  {
   "cell_type": "code",
   "execution_count": null,
   "metadata": {},
   "outputs": [],
   "source": [
    "# N in different depths - all data\n",
    "sns.set_context(\"paper\", rc={\"font.size\":16,\"axes.titlesize\":16,\"axes.labelsize\":16}) \n",
    "\n",
    "# combined strip plot - all data\n",
    "SA2_DUR_DGR = sns.catplot(x = 'Depth', y = 'N', data = dNc,kind='box',palette=palette)#.set(xlabel='Fertilization Duration\\n [hours]', ylabel='Daily growth rate')\n",
    "SA2_DUR_DGR.set_xticklabels([1, 5],fontdict= { 'fontsize': 14, 'fontweight':'bold','color': 'k'})\n",
    "SA2_DUR_DGR = sns.stripplot(x = 'Depth', y = 'N', data = dNc,color='k').set(xlabel='Depth\\n [m]', ylabel='Internal N\\n [% gN / gDW]')"
   ]
  },
  {
   "cell_type": "code",
   "execution_count": null,
   "metadata": {},
   "outputs": [],
   "source": [
    "# N in different depths - all data\n",
    "sns.set_context(\"paper\", rc={\"font.size\":16,\"axes.titlesize\":16,\"axes.labelsize\":16}) \n",
    "\n",
    "# combined strip plot - all data\n",
    "SA2_DUR_DGR = sns.catplot(x = 'Depth', y = 'N', data = dNc,kind='box',palette=palette)#.set(xlabel='Fertilization Duration\\n [hours]', ylabel='Daily growth rate')\n",
    "SA2_DUR_DGR.set_xticklabels([1, 5],fontdict= { 'fontsize': 14, 'fontweight':'bold','color': 'k'}).set(xlabel='Depth\\n [m]', ylabel='Internal N\\n [% g N $g^{-1}$ DW]')\n",
    "#SA2_DUR_DGR = sns.stripplot(x = 'Depth', y = 'N', data = dNc,color='k').set(xlabel='Depth\\n [m]', ylabel='Internal N\\n [% gN / gDW]')"
   ]
  },
  {
   "cell_type": "code",
   "execution_count": null,
   "metadata": {},
   "outputs": [],
   "source": [
    "# data summary of depth = 5, period =1, by exp (DGR)\n",
    "d5 = d[(d['Depth'] == 5)&(d['Period'] == 'Continuous')&(d['Exp'] != 1)]\n",
    "d5N = dN[(dN['Depth'] == 5)&(dN['Period'] == 'Continuous')&(np.isnan(dN.N) != True)]\n",
    "rp.summary_cont(d5['DGR'].groupby(d5['Exp']))"
   ]
  },
  {
   "cell_type": "code",
   "execution_count": null,
   "metadata": {},
   "outputs": [],
   "source": [
    "# data summary of depth = 5, period =1, by exp (DGR)\n",
    "d1 = d[(d['Depth'] == 1)&(d['Period'] == 'Continuous')&(d['Exp'] != 1)]\n",
    "d1N = dN[(dN['Depth'] == 1)&(dN['Period'] == 'Continuous')&(np.isnan(dN.N) != True)]\n",
    "rp.summary_cont(d1['DGR'].groupby(d1['Exp']))"
   ]
  },
  {
   "cell_type": "code",
   "execution_count": null,
   "metadata": {},
   "outputs": [],
   "source": [
    "#Offshore results for D = 5, first period, without the preliminary experiment\n",
    "sns.set_context(\"paper\", rc={\"font.size\":14,\"axes.titlesize\":14,\"axes.labelsize\":14}) \n",
    "SA2D5 = sns.catplot(x = 'Exp', y = 'DGR', data = df3[(df3.Depth == 5)&(df3.Period == 'Continuous')&(df3.Exp != 1)],hue='Depth',palette=palette).set(xlabel='', ylabel='Daily growth rate\\n[% / day]')\n",
    "#SA2D5 = sns.catplot(x = 'Exp', y = 'N', data = df3[(df3.Depth == 5)&(df3.Period == 'Continuous')&(df3.Exp != 1)],hue='Depth',palette=palette).set(xlabel='', ylabel='Daily growth rate')\n",
    "SA2D5.set_xticklabels([\"Jul\\n19\", \"Oct-Nov\\n19\",\"Dec\\n19\",\"Apr-May\\n20\"],fontdict= { 'fontsize': 12, 'fontweight':'bold','color': 'k'})\n",
    "SA2D5.set_yticklabels(fontdict= { 'fontsize': 10, 'fontweight':'bold','color': 'k'})"
   ]
  },
  {
   "cell_type": "code",
   "execution_count": null,
   "metadata": {},
   "outputs": [],
   "source": [
    "# kruskal test - diffrences between experiments (depth 5m, period 1)\n",
    "\n",
    "sp.stats.kruskal(d5[(d5['Exp'] == 2)]['DGR'],\n",
    "                d5[(d5['Exp'] == 3)]['DGR'],\n",
    "                d5[(d5['Exp'] == 4)]['DGR'],\n",
    "                d5[(d5['Exp'] == 5)]['DGR'])\n",
    "\n",
    "# There is a significant difference between frequencies"
   ]
  },
  {
   "cell_type": "code",
   "execution_count": null,
   "metadata": {},
   "outputs": [],
   "source": [
    "# post - hoc multiple comparisons between frequencies\n",
    "\n",
    "data = [d5[(d5['Exp'] == 2)]['DGR'],\n",
    "                d5[(d5['Exp'] == 3)]['DGR'],\n",
    "                d5[(d5['Exp'] == 4)]['DGR'],\n",
    "                d5[(d5['Exp'] == 5)]['DGR']]\n",
    "\n",
    "scp.posthoc_dunn(data, p_adjust = 'bonferroni')\n",
    "\n",
    "#results: Significan difference between:\n",
    "#No significant difference between any two frequencies"
   ]
  },
  {
   "cell_type": "code",
   "execution_count": null,
   "metadata": {},
   "outputs": [],
   "source": [
    "# Internal N at beggining and end of experiments - period 1 (starting with N rich Ulva)\n",
    "\n",
    "# strip plot\n",
    "sns.set_context(\"paper\", rc={\"font.size\":14,\"axes.titlesize\":14,\"axes.labelsize\":14})\n",
    "N1 = sns.catplot(x = 'Exp', y = 'N', data = df3[(df3.Depth == 5)&(df3.Period == 'Continuous')],hue = 'Stage',palette=palette).set(xlabel='', ylabel='Internal N\\n[% g N $g^{-1}$ DW]')\n",
    "N1.set_xticklabels([\"May*\\n  19\", \"Jul\\n  19\", \"Oct-Nov\\n  19\",\"Dec\\n  19\",\"Apr-May\\n  20\"],fontdict= { 'fontsize': 11, 'fontweight':'bold','color': 'k'})\n",
    "N1.set_yticklabels(fontdict= { 'fontsize': 12, 'fontweight':'bold','color': 'k'})\n",
    "\n",
    "# box plot\n",
    "#N1BOX = sns.catplot(x = 'Exp', y = 'N', data = df3[(df3.Period == 1)],hue = 'Stage',kind = 'box').set(xlabel='', ylabel='Internal N')\n",
    "#N1BOX.set_xticklabels([\"May-Jun*\\n  19\", \"Jul-Aug\\n  19\", \"Oct-Nov\\n  19\",\"Dec\\n  19\",\"Apr-May\\n  20\"],fontdict= { 'fontsize': 11, 'fontweight':'bold','color': 'k'})\n",
    "#N1BOX.set_yticklabels(fontdict= { 'fontsize': 12, 'fontweight':'bold','color': 'k'})"
   ]
  },
  {
   "cell_type": "code",
   "execution_count": null,
   "metadata": {},
   "outputs": [],
   "source": [
    "# average DGR and N in 5m depth, continuous fertilizing\n",
    "\n",
    "DGR_V,N_V = [],[]\n",
    "for i in [2,3,4,5]:\n",
    "    Dval = df3[(df3.Depth == 5)&(df3.Period == 'Continuous')&(df3.Exp == i)].DGR\n",
    "    Nval = df3[(df3.Depth == 5)&(df3.Period == 'Continuous')&(df3.Exp == i)].N\n",
    "    DGR_V.append(Dval)\n",
    "    N_V.append(Nval)\n",
    "    \n",
    "print(DGR_V)\n",
    "print(N_V)"
   ]
  },
  {
   "cell_type": "code",
   "execution_count": null,
   "metadata": {},
   "outputs": [],
   "source": [
    "Dval = df3[(df3.Depth == 5)&(df3.Period == 'Continuous')&(df3.Exp != 1)&(np.isnan(df3.dN)!= True)].DGR\n",
    "Nval = df3[(df3.Depth == 5)&(df3.Period == 'Continuous')&(df3.Exp != 1)&(np.isnan(df3.dN)!= True)].dN"
   ]
  },
  {
   "cell_type": "code",
   "execution_count": null,
   "metadata": {},
   "outputs": [],
   "source": [
    "# Pearson DGR vs N offshore (except exp 5)\n",
    "\n",
    "from scipy.stats import pearsonr \n",
    "   \n",
    "# Apply the pearsonr() \n",
    "corr, _ = pearsonr(Dval, Nval)\n",
    "print('Pearsons correlation: %.3f' % corr) \n",
    "  \n",
    "# This code is contributed by Amiya Rout "
   ]
  },
  {
   "cell_type": "code",
   "execution_count": null,
   "metadata": {},
   "outputs": [],
   "source": [
    "#Offshore results for D = 5, first period, without the preliminary experiment\n",
    "sns.set_context(\"paper\", rc={\"font.size\":14,\"axes.titlesize\":14,\"axes.labelsize\":14}) \n",
    "SA2D5 = sns.catplot(x = 'DGR', y = 'dN', data = df3[(df3.Depth == 5)&(df3.Period == 'Continuous')&(df3.Exp != 1)&(np.isnan(df3.dN)!= True)],hue='Exp').set(xlabel='DGR', ylabel='Used internal N')\n",
    "#SA2D5 = sns.catplot(x = 'Exp', y = 'N', data = df3[(df3.Depth == 5)&(df3.Period == 'Continuous')&(df3.Exp != 1)],hue='Depth',palette=palette).set(xlabel='', ylabel='Daily growth rate')\n",
    "SA2D5.set_xticklabels([\"\"],fontdict= { 'fontsize': 12, 'fontweight':'bold','color': 'k'})\n",
    "SA2D5.set_yticklabels(fontdict= { 'fontsize': 10, 'fontweight':'bold','color': 'k'})"
   ]
  },
  {
   "cell_type": "code",
   "execution_count": null,
   "metadata": {},
   "outputs": [],
   "source": [
    "# Mann-Whitney U Test between beggining and end of cultivation experiments-  N\n",
    "#print(stats.mannwhitneyu(dN[(dN['Period'] == 'Continuous')&(dN['Stage'] == 'i')]['N'],dN[(dN['Period'] == 'Continuous')&(dN['Stage'] == 'f')])\n",
    "#print(stats.mannwhitneyu(dN[(dN['Period'] == 'Continuous')]['N'],dN[(dN['Period'] == 'Rapid')]['N']))\n",
    "      \n",
    "    \n",
    "# Mann-Whitney U Test between short and long fertilizing - DGR and N\n",
    "stats.mannwhitneyu(df3[(df3.Depth == 5)&(df3.Period == 'Continuous')&(df3['Stage'] == 'i')]['N'],df3[(df3.Depth == 5)&(df3.Period == 'Continuous')&(df3['Stage'] == 'f')]['N'])"
   ]
  },
  {
   "cell_type": "code",
   "execution_count": null,
   "metadata": {},
   "outputs": [],
   "source": [
    "for i in [1,2,3,4,5]:\n",
    "    a = stats.mannwhitneyu(df3[(df3.Depth == 5)&(df3.Period == 'Continuous')&(df3['Stage'] == 'i')&(df3['Exp'] == i)]['N'],df3[(df3.Depth == 5)&(df3.Period == 'Continuous')&(df3['Stage'] == 'f')&(df3['Exp'] == i)]['N'])\n",
    "    print(a)"
   ]
  },
  {
   "cell_type": "code",
   "execution_count": null,
   "metadata": {},
   "outputs": [],
   "source": [
    "dN.Stage"
   ]
  },
  {
   "cell_type": "code",
   "execution_count": null,
   "metadata": {},
   "outputs": [],
   "source": [
    "# Internal N at beggining and end of experiments - period 1 (starting with N rich Ulva)\n",
    "\n",
    "# strip plot\n",
    "sns.set_context(\"paper\", rc={\"font.size\":14,\"axes.titlesize\":14,\"axes.labelsize\":14})\n",
    "N1 = sns.catplot(x = 'Exp', y = 'N', data = df3[(df3.Stage == 'f')],hue = 'Period').set(xlabel='', ylabel='Internal N')\n",
    "N1.set_xticklabels([\"May-Jun*\\n  19\", \"Jul-Aug\\n  19\", \"Oct-Nov\\n  19\",\"Dec\\n  19\",\"Apr-May\\n  20\"],fontdict= { 'fontsize': 11, 'fontweight':'bold','color': 'k'})\n",
    "N1.set_yticklabels(fontdict= { 'fontsize': 12, 'fontweight':'bold','color': 'k'})\n",
    "\n",
    "# box plot\n",
    "#N1BOX = sns.catplot(x = 'Exp', y = 'N', data = df3[(df3.Period == 1)],hue = 'Stage',kind = 'box').set(xlabel='', ylabel='Internal N')\n",
    "#N1BOX.set_xticklabels([\"May-Jun*\\n  19\", \"Jul-Aug\\n  19\", \"Oct-Nov\\n  19\",\"Dec\\n  19\",\"Apr-May\\n  20\"],fontdict= { 'fontsize': 11, 'fontweight':'bold','color': 'k'})\n",
    "#N1BOX.set_yticklabels(fontdict= { 'fontsize': 12, 'fontweight':'bold','color': 'k'})"
   ]
  },
  {
   "cell_type": "code",
   "execution_count": null,
   "metadata": {},
   "outputs": [],
   "source": [
    "# kruskal test - diffrences between experiments (depth 5m, period 1)\n",
    "\n",
    "sp.stats.kruskal(d5N[(d5N['Exp'] == 1)]['N'],\n",
    "                d5N[(d5N['Exp'] == 2)]['N'],\n",
    "                d5N[(d5N['Exp'] == 3)]['N'],\n",
    "                d5N[(d5N['Exp'] == 4)]['N'],\n",
    "                d5N[(d5N['Exp'] == 5)]['N'])\n",
    "\n",
    "# There is a significant difference between frequencies"
   ]
  },
  {
   "cell_type": "code",
   "execution_count": null,
   "metadata": {},
   "outputs": [],
   "source": [
    "# post - hoc multiple comparisons between frequencies\n",
    "\n",
    "data = [d5N[(d5N['Exp'] == 1)]['N'],\n",
    "                d5N[(d5N['Exp'] == 2)]['N'],\n",
    "                d5N[(d5N['Exp'] == 3)]['N'],\n",
    "                d5N[(d5N['Exp'] == 4)]['N'],\n",
    "                d5N[(d5N['Exp'] == 5)]['N']]\n",
    "\n",
    "scp.posthoc_dunn(data, p_adjust = 'bonferroni')\n",
    "\n",
    "#results: Significan difference between:\n",
    "#No significant difference between any two frequencies"
   ]
  },
  {
   "cell_type": "raw",
   "metadata": {},
   "source": [
    "# T-test for N and DGR in different depths - all experiments\n",
    "\n",
    "d5N = d[(d['Depth'] == 5)&(d['Period'] == 'Continuous')&(np.isnan(d.N) != True)]\n",
    "dN = df3[(df3.Stage == 'f')&(np.isnan(df3.N)!= True)]\n",
    "\n",
    "t_statN, p_valN = stats.ttest_ind(df3[(df3['Depth'] == 5)&(df3['Period'] == 1)&(df3.Stage == 'f')&(np.isnan(df3.N)!= True)].N,df3[(df3['Depth'] == 5)&(df3['Period'] == 1)&(df3.Stage == 'i')&(np.isnan(df3.N)!= True)].N, equal_var=False)\n",
    "\n",
    "#print(t_statDGR, p_valDGR)\n",
    "print(t_statN,p_valN)"
   ]
  },
  {
   "cell_type": "raw",
   "metadata": {},
   "source": [
    "# growth rates in different experiments\n",
    "sns.set_context(\"paper\", rc={\"font.size\":16,\"axes.titlesize\":16,\"axes.labelsize\":16}) \n",
    "\n",
    "# combined strip plot - all data\n",
    "SA2_5_DGR = sns.catplot(x = 'Exp', y = 'DGR', data = d[(d['Exp'] != 1)&(d['Period'] == 'Continuous')&(d['Depth'] == 5)],kind='box',palette=palette)#.set(xlabel='Fertilization Duration\\n [hours]', ylabel='Daily growth rate')\n",
    "SA2_5_DGR.set_xticklabels([2, 5],fontdict= { 'fontsize': 14, 'fontweight':'bold','color': 'k'})\n",
    "SA2_5_DGR = sns.stripplot(x = 'Exp', y = 'DGR', data = d[(d['Exp'] != 1)&(d['Period'] == 'Continuous')&(d['Depth'] == 5)],color='k').set(xlabel='Depth\\n [m]', ylabel='Daily growth rate')"
   ]
  },
  {
   "cell_type": "code",
   "execution_count": null,
   "metadata": {},
   "outputs": [],
   "source": [
    "#Offshore results for D = 5, first period - comparison between 2 different cultivation periods\n",
    "\n",
    "# strip plot\n",
    "sns.set_context(\"paper\", rc={\"font.size\":14,\"axes.titlesize\":14,\"axes.labelsize\":14}) \n",
    "SA2Days = sns.catplot(x = 'Exp', y = 'DGR', data = df3[(df3.Depth == 5)&(df3.Exp == 4)],palette = palette,hue = 'Days').set(xlabel='', ylabel='Daily growth rate')\n",
    "SA2Days.set_xticklabels([\"Dec\\n 19\"],fontdict= {'fontsize': 12, 'fontweight':'bold','color': 'k'})\n",
    "SA2Days.set_yticklabels(fontdict= {'fontsize': 12, 'fontweight':'bold','color': 'k'})\n",
    "\n",
    "\n",
    "#N1.set_xticklabels([\"May-Jun*\\n  19\", \"Jul-Aug\\n  19\", \"Oct-Nov\\n  19\",\"Dec\\n  19\",\"Apr-May\\n  20\"],fontdict= { 'fontsize': 11, 'fontweight':'bold','color': 'k'})\n",
    "#N1.set_yticklabels(fontdict= { 'fontsize': 12, 'fontweight':'bold','color': 'k'})\n",
    "\n",
    "# box plot\n",
    "SA2DaysBOX = sns.catplot(x = 'Exp', y = 'DGR', data = df3[(df3.Depth == 5)&(df3.Exp == 4)],hue = 'Days',kind = 'box').set(xlabel='', ylabel='Daily growth rate')\n",
    "SA2DaysBOX = sns.catplot(x = 'Exp', y = 'DGR', data = df3[(df3.Depth == 5)&(df3.Exp == 4)],palette = palette,hue = 'Days').set(xlabel='', ylabel='Daily growth rate')\n",
    "SA2DaysBOX.set_xticklabels([\"Dec\\n 20\"],fontdict= {'fontsize': 12, 'fontweight':'bold','color': 'k'})\n",
    "SA2DaysBOX.set_yticklabels(fontdict= { 'fontsize': 10, 'fontweight':'bold','color': 'k'})\n"
   ]
  },
  {
   "cell_type": "code",
   "execution_count": null,
   "metadata": {},
   "outputs": [],
   "source": [
    "# Mann-Whitney U Test between short and long cultivation duration - DGR and N\n",
    "print(stats.mannwhitneyu(df3[(df3.Depth == 5)&(df3.Period == 'Continuous')&(df3.Stage == 'f')&(df3['Exp'] == 4)&(df3['Days'] == 7)]['DGR'],df3[(df3.Depth == 5)&(df3.Period == 'Continuous')&(df3.Stage == 'f')&(df3['Exp'] == 4)&(df3['Days'] == 12)]['DGR']))\n",
    "print(stats.mannwhitneyu(df3[(df3.Depth == 5)&(df3.Period == 'Continuous')&(df3.Stage == 'f')&(df3['Exp'] == 4)&(df3['Days'] == 7)]['N'],df3[(df3.Depth == 5)&(df3.Period == 'Continuous')&(df3.Stage == 'f')&(df3['Exp'] == 4)&(df3['Days'] == 12)]['N']))"
   ]
  },
  {
   "cell_type": "code",
   "execution_count": null,
   "metadata": {},
   "outputs": [],
   "source": [
    "# Mann-Whitney U Test between short and long cultivation duration - DGR and N\n",
    "print(stats.mannwhitneyu(df3[(df3.Depth == 5)&(df3.Exp == 4)&(df3['Days'] == 7)]['DGR'],df3[(df3.Depth == 5)&(df3.Exp == 4)&(df3['Days'] == 12)]['DGR']))\n",
    "print(stats.mannwhitneyu(df3[(df3.Depth == 5)&(df3.Exp == 4)&(df3['Days'] == 7)]['N'],df3[(df3.Depth == 5)&(df3.Exp == 4)&(df3['Days'] == 12)]['N']))"
   ]
  },
  {
   "cell_type": "code",
   "execution_count": null,
   "metadata": {},
   "outputs": [],
   "source": [
    "t_statN, p_valN = stats.ttest_ind(df3[(df3.Depth == 5)&(df3.Period == 'Continuous')&(df3.Stage == 'f')&(df3['Exp'] == 4)&(df3['Days'] == 7)]['N'],df3[(df3.Depth == 5)&(df3.Period == 'Continuous')&(df3.Stage == 'f')&(df3['Exp'] == 4)&(df3['Days'] == 12)]['N'], equal_var=False)\n"
   ]
  },
  {
   "cell_type": "code",
   "execution_count": null,
   "metadata": {},
   "outputs": [],
   "source": [
    "# N in different depths - all data\n",
    "sns.set_context(\"paper\", rc={\"font.size\":16,\"axes.titlesize\":16,\"axes.labelsize\":16}) \n",
    "\n",
    "# combined strip plot - all data\n",
    "SA2_DUR_DGR = sns.catplot(x = 'Days', y = 'DGR', data = df3[(df3.Depth == 5)&(df3.Exp == 4)],kind='box',palette=palette,hue='Days')#.set(xlabel='Fertilization Duration\\n [hours]', ylabel='Daily growth rate')\n",
    "SA2_DUR_DGR.set_xticklabels([1, 5],fontdict= { 'fontsize': 14, 'fontweight':'bold','color': 'k'})\n",
    "SA2_DUR_DGR = sns.stripplot(x = 'Days', y = 'DGR', data = df3[(df3.Depth == 5)&(df3.Exp == 4)],color='k').set(xlabel='Cultivation duration\\n [Days]', ylabel='Daily growth rate')"
   ]
  },
  {
   "cell_type": "code",
   "execution_count": null,
   "metadata": {},
   "outputs": [],
   "source": [
    "# N in different depths - all data\n",
    "sns.set_context(\"paper\", rc={\"font.size\":16,\"axes.titlesize\":16,\"axes.labelsize\":16}) \n",
    "\n",
    "# combined strip plot - all data\n",
    "SA2_DUR_DGR = sns.catplot(x = 'Days', y = 'N', data = df3[(df3.Depth == 5)&(df3.Exp == 4)&(df3.Stage == 'f')],kind='box',palette=palette,hue='Days')#.set(xlabel='Fertilization Duration\\n [hours]', ylabel='Daily growth rate')\n",
    "SA2_DUR_DGR.set_xticklabels([1, 5],fontdict= { 'fontsize': 14, 'fontweight':'bold','color': 'k'})\n",
    "SA2_DUR_DGR = sns.stripplot(x = 'Days', y = 'N', data = df3[(df3.Depth == 5)&(df3.Exp == 4)&(df3.Stage == 'f')],color='k').set(xlabel='Cultivation duration\\n [Days]', ylabel='Internal N\\n[% g N / g DW]')"
   ]
  },
  {
   "cell_type": "code",
   "execution_count": null,
   "metadata": {},
   "outputs": [],
   "source": [
    "# N in different depths - all data\n",
    "sns.set_context(\"paper\", rc={\"font.size\":16,\"axes.titlesize\":16,\"axes.labelsize\":16}) \n",
    "\n",
    "# combined strip plot - all data\n",
    "SA2_DUR_DGR = sns.catplot(x = 'Exp', y = 'DGR', data = df3[(df3.Depth == 5)&(df3.Exp == 4)],palette = palette,hue = 'Days').set(xlabel='', ylabel='Daily growth rate')\n",
    "#SA2Days = sns.catplot(x = 'Exp', y = 'DGR', data = df3[(df3.Depth == 5)&(df3.Exp == 4)],palette = palette,hue = 'Days').set(xlabel='', ylabel='Daily growth rate')\n",
    "SA2_DUR_DGR.set_xticklabels([\"Dec\\n 19\"],fontdict= {'fontsize': 12, 'fontweight':'bold','color': 'k'})\n",
    "\n",
    "#SA2_DUR_DGR.set_xticklabels([1, 5],fontdict= { 'fontsize': 14, 'fontweight':'bold','color': 'k'})\n",
    "SA2_DUR_DGR = sns.stripplot((x = 'Exp', y = 'DGR', data = df3[(df3.Depth == 5)&(df3.Exp == 4)],color='k').set(xlabel='Depth\\n [m]', ylabel='Internal N\\n [% gN / gDW]')"
   ]
  },
  {
   "cell_type": "code",
   "execution_count": null,
   "metadata": {},
   "outputs": [],
   "source": [
    "#Offshore results for D = 5, first period - comparison between 2 different cultivation periods\n",
    "\n",
    "# strip plot\n",
    "sns.set_context(\"paper\", rc={\"font.size\":14,\"axes.titlesize\":14,\"axes.labelsize\":14}) \n",
    "SA2Days = sns.catplot(x = 'Exp', y = 'N', data = df3[(df3.Depth == 5)&(df3.Exp == 4)],palette = palette,hue = 'Days').set(xlabel='', ylabel='Internal N\\n[% gN / gDW]')\n",
    "SA2Days.set_xticklabels([\"Dec\\n 19\"],fontdict= {'fontsize': 12, 'fontweight':'bold','color': 'k'})\n",
    "SA2Days.set_yticklabels(fontdict= {'fontsize': 12, 'fontweight':'bold','color': 'k'})\n",
    "\n",
    "\n",
    "# box plot\n",
    "SA2DaysBOX = sns.catplot(x = 'Exp', y = 'N', data = df3[(df3.Depth == 5)&(df3.Exp == 4)],hue = 'Days',kind = 'box').set(xlabel='', ylabel='Internal N\\n[% gN / gDW]')\n",
    "SA2DaysBOX.set_xticklabels([\"Dec\\n 20\"],fontdict= { 'fontsize': 12, 'fontweight':'bold','color': 'k'})\n",
    "SA2DaysBOX.set_yticklabels(fontdict= { 'fontsize': 10, 'fontweight':'bold','color': 'k'})\n"
   ]
  },
  {
   "cell_type": "code",
   "execution_count": null,
   "metadata": {},
   "outputs": [],
   "source": [
    "# T-test for N and DGR in different durations of exp 4 (only positive DGR)\n",
    "dN = df3[(df3.Stage == 'f')&(np.isnan(df3.N)!= True)]\n",
    "#for i in [7,12]:\n",
    "t_statDGR, p_valDGR = stats.ttest_ind(d[(d['Exp'] == 4)&(d['Days'] == 7)&(d['DGR'] > 0)]['DGR'],d[(d['Exp'] == 4)&(d['Days'] == 12)&(d['DGR'] > 0)]['DGR'], equal_var=False)\n",
    "t_statN, p_valN = stats.ttest_ind(dN[(dN['Exp'] == 4)&(dN['Days'] == 7)&(dN['DGR'] > 0)]['N'],dN[(dN['Exp'] == 4)&(dN['Days'] == 12)&(dN['DGR'] > 0)]['N'], equal_var=False)\n",
    "\n",
    "print(t_statDGR, p_valDGR)\n",
    "print(t_statN,p_valN)"
   ]
  },
  {
   "cell_type": "code",
   "execution_count": null,
   "metadata": {},
   "outputs": [],
   "source": [
    "# growth rates in different depths - all data\n",
    "sns.set_context(\"paper\", rc={\"font.size\":16,\"axes.titlesize\":16,\"axes.labelsize\":16}) \n",
    "\n",
    "# combined strip plot - all data\n",
    "SA1_DUR_DGR = sns.catplot(x = 'Depth', y = 'DGR', data = d[(d['Period'] == 'Continuous')],kind='box',palette=palette)#.set(xlabel='Fertilization Duration\\n [hours]', ylabel='Daily growth rate')\n",
    "SA1_DUR_DGR.set_xticklabels([1, 5],fontdict= { 'fontsize': 14, 'fontweight':'bold','color': 'k'})\n",
    "SA1_DUR_DGR = sns.stripplot(x = 'Depth', y = 'DGR', data = d[(d['Period'] == 'Continuous')],color='k').set(xlabel='Depth\\n [m]', ylabel='Daily growth rate')"
   ]
  },
  {
   "cell_type": "code",
   "execution_count": null,
   "metadata": {},
   "outputs": [],
   "source": [
    "# T-test for N and DGR in different periods\n",
    "t_statDGR, p_valDGR = stats.ttest_ind(d[(d['Period'] == 1)]['DGR'],d[(d['Period'] == 2)]['DGR'], equal_var=False)\n",
    "t_statN, p_valN = stats.ttest_ind(dN[(dN['Period'] == 1)]['N'],dN[(dN['Period'] == 2)]['N'], equal_var=False)\n",
    "\n",
    "print(t_statDGR, p_valDGR)\n",
    "print(t_statN,p_valN)"
   ]
  },
  {
   "cell_type": "code",
   "execution_count": null,
   "metadata": {},
   "outputs": [],
   "source": [
    "# S.A #2 - growth rates in different periods\n",
    "sns.set_context(\"paper\", rc={\"font.size\":16,\"axes.titlesize\":16,\"axes.labelsize\":16}) \n",
    "\n",
    "# combined strip plot - all data\n",
    "SA1_DUR_DGR = sns.catplot(x = 'Period', y = 'DGR', data = df3[(df3.Exp != 1)&(df3.Stage == 'f')],kind='box')\n",
    "SA1_DUR_DGR.set_xticklabels([1, 2],fontdict= { 'fontsize': 14, 'fontweight':'bold','color': 'k'})\n",
    "SA1_DUR_DGR = sns.stripplot(x = 'Period', y = 'DGR', data = df3[(df3.Exp != 1)&(df3.Stage == 'f')],color='k').set(xlabel='Depth\\n [m]', ylabel='Daily growth rate')"
   ]
  },
  {
   "cell_type": "code",
   "execution_count": null,
   "metadata": {},
   "outputs": [],
   "source": [
    "# S.A #2 - growth rates in different periods\n",
    "sns.set_context(\"paper\", rc={\"font.size\":16,\"axes.titlesize\":16,\"axes.labelsize\":16}) \n",
    "\n",
    "# combined strip plot - all data\n",
    "SA1_DUR_DGR = sns.catplot(x = 'Period', y = 'N', data = df3[(df3.Exp != 1)&(df3.Stage == 'f')],kind='box')\n",
    "SA1_DUR_DGR.set_xticklabels([1, 2],fontdict= { 'fontsize': 14, 'fontweight':'bold','color': 'k'})\n",
    "SA1_DUR_DGR = sns.stripplot(x = 'Period', y = 'N', data = df3[(df3.Exp != 1)&(df3.Stage == 'f')],color='k').set(xlabel='Depth\\n [m]', ylabel='Internal N\\n [% gN / gDW]')"
   ]
  },
  {
   "cell_type": "code",
   "execution_count": null,
   "metadata": {},
   "outputs": [],
   "source": [
    "# data summary of depth = 5, period =1, by exp (DGR)\n",
    "d5 = d[(d['Depth'] == 5)&(d['Period'] == 1)&(d['Exp'] != 1)&(np.isnan(d.N)!= True)]\n",
    "rp.summary_cont(d5['DGR'].groupby(d5['Exp']))"
   ]
  },
  {
   "cell_type": "code",
   "execution_count": null,
   "metadata": {},
   "outputs": [],
   "source": [
    "# data summary of depth = 5, period =1, by exp (N)\n",
    "d5 = d[(d['Depth'] == 5)&(d['Period'] == 1)&(d['Exp'] != 1)]\n",
    "rp.summary_cont(d5['DGR'].groupby(d5['Exp']))"
   ]
  },
  {
   "cell_type": "code",
   "execution_count": null,
   "metadata": {},
   "outputs": [],
   "source": []
  },
  {
   "cell_type": "code",
   "execution_count": null,
   "metadata": {},
   "outputs": [],
   "source": [
    "dN = df3[(df3.Stage == 'f')&(np.isnan(df3.N)!= True)]\n",
    "rp.summary_cont(dN['N'].groupby(dN['Exp']))"
   ]
  },
  {
   "cell_type": "raw",
   "metadata": {},
   "source": [
    "#Offshore experiments figures/statistics:\n",
    "1. Comparison between experiments in final DGR + statistical analysis (ANNOVA?).\n",
    "2. Comparison between initial and final Nint (ANNOVA?).\n",
    "3. Comarison between depths - DGR and Nint \n",
    "4. Comparison between periods (1 and 2) - DGR and Nint"
   ]
  },
  {
   "cell_type": "code",
   "execution_count": null,
   "metadata": {},
   "outputs": [],
   "source": [
    "df3.head()"
   ]
  },
  {
   "cell_type": "code",
   "execution_count": null,
   "metadata": {},
   "outputs": [],
   "source": [
    "#Offshore results by period (all results)\n",
    "\n",
    "# strip plot - all data\n",
    "SA2Per = sns.catplot(x = 'Exp', y = 'DGR', data = df3[(df3.Comment != 'Losses')],hue = 'Period').set(xlabel='', ylabel='Daily growth rate')\n",
    "SA2Per.set_xticklabels([\"May-Jun*\\n  19\", \"Jul-Aug\\n  19\", \"Oct-Nov\\n  19\",\"Dec\\n  19\",\"Apr-May\\n  20\"],fontdict= { 'fontsize': 11, 'fontweight':'bold','color': 'k'})\n",
    "SA2Per.set_yticklabels(fontdict= { 'fontsize': 12, 'fontweight':'bold','color': 'k'})\n",
    "\n",
    "# box plot\n",
    "#SA2PerBOX = sns.catplot(x = 'Exp', y = 'DGR', data = df3[(df3.Comment != 'Losses')],hue = 'Period',kind = 'box').set(xlabel='', ylabel='Daily growth rate')\n",
    "#SA2PerBOX.set_xticklabels([\"May-Jun*\\n  19\", \"Jul-Aug\\n  19\", \"Oct-Nov\\n  19\",\"Dec\\n  19\",\"Apr-May\\n  20\"],fontdict= { 'fontsize': 11, 'fontweight':'bold','color': 'k'})\n",
    "#SA2PerBOX.set_yticklabels(fontdict= { 'fontsize': 12, 'fontweight':'bold','color': 'k'})"
   ]
  },
  {
   "cell_type": "raw",
   "metadata": {},
   "source": [
    "#Offshore results by period (all results)\n",
    "sns.set_context(\"paper\", rc={\"font.size\":16,\"axes.titlesize\":16,\"axes.labelsize\":16}) \n",
    "\n",
    "SA2Per = sns.catplot(x = 'Exp', y = 'DGR', data = df3[(df3.Depth == 5)&(df3.Exp != 1)],hue = 'Period').set(xlabel='', ylabel='Daily growth rate')#,kind=\"box\")\n",
    "SA2Per.set_xticklabels([\"Jul-Aug\", \"Oct-Nov\",\"Dec\",\"Apr-May\"],fontdict= { 'fontsize': 14, 'fontweight':'bold','color': 'k'})\n",
    "\n",
    "#SA2D5 = sns.catplot(x = 'Exp', y = 'DGR', data = df3[(df3.Depth == 5)&(df3.Period == 1)&(df3.Exp != 1)],hue='Depth').set(xlabel='', ylabel='Daily growth rate')#,hue = 'Depth')#,kind=\"box\")\n",
    "#SA2D5.set_xticklabels([\"Jul-Aug\", \"Oct-Nov\",\"Dec\",\"Apr-May\"],fontdict= { 'fontsize': 12, 'fontweight':'bold','color': 'k'})\n",
    "\n",
    "#N1.set_xticklabels([\"May-Jun\", \"Jul-Aug\", \"Oct-Nov\",\"3\\nDec\",\"4\\nApr-May\"],fontdict= { 'fontsize': 14, 'fontweight':'bold','color': 'darkred'})#,fontsize = 12, fontweight = bold)\n",
    "SA2Per.set_yticklabels(fontdict= { 'fontsize': 12, 'fontweight':'bold','color': 'k'})#,fontsize = 12, fontweight = bold)\n",
    "#N1.set_ylabel('lololo')"
   ]
  },
  {
   "cell_type": "code",
   "execution_count": null,
   "metadata": {},
   "outputs": [],
   "source": [
    "#Offshore growth rates by Depth (all results)\n",
    "\n",
    "# strip plot - all data\n",
    "SA2D = sns.catplot(x = 'Exp', y = 'DGR', data = df3[(df3.Exp != 1)&(df3.Period == 1)],hue = 'Depth').set(xlabel='', ylabel='Daily growth rate')\n",
    "SA2D.set_xticklabels([\"Jul-Aug\\n  19\", \"Oct-Nov\\n  19\",\"Dec\\n  19\",\"Apr-May\\n  20\"],fontdict= { 'fontsize': 11, 'fontweight':'bold','color': 'k'})\n",
    "SA2D.set_yticklabels(fontdict= { 'fontsize': 12, 'fontweight':'bold','color': 'k'})\n",
    "\n",
    "# box plot\n",
    "#SA2DBOX = sns.catplot(x = 'Exp', y = 'DGR', data = df3[(df3.Exp != 1)&(df3.Period == 1)],hue = 'Depth',kind = 'box').set(xlabel='', ylabel='Daily growth rate')\n",
    "#SA2DBOX.set_xticklabels([\"Jul-Aug\\n  19\", \"Oct-Nov\\n  19\",\"Dec\\n  19\",\"Apr-May\\n  20\"],fontdict= { 'fontsize': 11, 'fontweight':'bold','color': 'k'})\n",
    "#SA2DBOX.set_yticklabels(fontdict= { 'fontsize': 12, 'fontweight':'bold','color': 'k'})\n",
    "\n",
    "#SA2D.set_xticklabels([\"Pre\\nMay-Jun\", \"1\\nJul-Aug\", \"2\\nOct-Nov\",\"3\\nDec\",\"4\\nApr-May\"])\n",
    "\n",
    "\n",
    "# strip plot - all data\n",
    "#SA2Per = sns.catplot(x = 'Exp', y = 'DGR', data = df3[(df3.Comment != 'Losses')],hue = 'Period').set(xlabel='', ylabel='Daily growth rate')\n",
    "#SA2Per.set_xticklabels([\"May-Jun*\\n  19\", \"Jul-Aug\\n  19\", \"Oct-Nov\\n  19\",\"Dec\\n  19\",\"Apr-May\\n  20\"],fontdict= { 'fontsize': 11, 'fontweight':'bold','color': 'k'})\n",
    "#SA2Per.set_yticklabels(fontdict= { 'fontsize': 12, 'fontweight':'bold','color': 'k'})\n"
   ]
  },
  {
   "cell_type": "code",
   "execution_count": null,
   "metadata": {},
   "outputs": [],
   "source": [
    "#Offshore results for D = 5, first period - comparison between 2 different cultivation periods (cages with losses are ommited)\n",
    "\n",
    "# strip plot\n",
    "sns.set_context(\"paper\", rc={\"font.size\":14,\"axes.titlesize\":14,\"axes.labelsize\":14})\n",
    "SA2DaysL = sns.catplot(x = 'Exp', y = 'DGR', data = df3[(df3.Depth == 5)&(df3.Exp == 4)&(df3.Comment != 'Losses')],hue = 'Days').set(xlabel='', ylabel='Daily growth rate')\n",
    "SA2DaysL.set_xticklabels([\"Dec\\n 20\"],fontdict= { 'fontsize': 12, 'fontweight':'bold','color': 'k'})\n",
    "SA2DaysL.set_yticklabels(fontdict= { 'fontsize': 10, 'fontweight':'bold','color': 'k'})\n",
    "\n",
    "# box plot\n",
    "SA2DaysLBOX = sns.catplot(x = 'Exp', y = 'DGR', data = df3[(df3.Depth == 5)&(df3.Exp == 4)&(df3.Comment != 'Losses')],hue = 'Days',kind = 'box').set(xlabel='', ylabel='Daily growth rate')\n",
    "SA2DaysLBOX.set_xticklabels([\"Dec\\n 20\"],fontdict= { 'fontsize': 12, 'fontweight':'bold','color': 'k'})\n",
    "SA2DaysLBOX.set_yticklabels(fontdict= { 'fontsize': 10, 'fontweight':'bold','color': 'k'})"
   ]
  },
  {
   "cell_type": "code",
   "execution_count": null,
   "metadata": {},
   "outputs": [],
   "source": [
    "# Internal N at beggining and end of experiments - period 1 (starting with N rich Ulva)\n",
    "\n",
    "# strip plot\n",
    "sns.set_context(\"paper\", rc={\"font.size\":14,\"axes.titlesize\":14,\"axes.labelsize\":14})\n",
    "N1 = sns.catplot(x = 'Exp', y = 'N', data = df3[(df3.Period == 1)&(df3.Depth == 5)],hue = 'Stage').set(xlabel='', ylabel='Internal N\\n[% gN / gDW]')\n",
    "N1.set_xticklabels([\"May-Jun*\\n  19\", \"Jul-Aug\\n  19\", \"Oct-Nov\\n  19\",\"Dec\\n  19\",\"Apr-May\\n  20\"],fontdict= { 'fontsize': 11, 'fontweight':'bold','color': 'k'})\n",
    "N1.set_yticklabels(fontdict= { 'fontsize': 12, 'fontweight':'bold','color': 'k'})\n",
    "\n",
    "# box plot\n",
    "N1BOX = sns.catplot(x = 'Exp', y = 'N', data = df3[(df3.Period == 1)&(df3.Depth == 5)],hue = 'Stage',kind = 'box').set(xlabel='', ylabel='Internal N\\n[% gN / gDW]')\n",
    "N1BOX.set_xticklabels([\"May-Jun*\\n  19\", \"Jul-Aug\\n  19\", \"Oct-Nov\\n  19\",\"Dec\\n  19\",\"Apr-May\\n  20\"],fontdict= { 'fontsize': 11, 'fontweight':'bold','color': 'k'})\n",
    "N1BOX.set_yticklabels(fontdict= { 'fontsize': 12, 'fontweight':'bold','color': 'k'})"
   ]
  },
  {
   "cell_type": "code",
   "execution_count": null,
   "metadata": {},
   "outputs": [],
   "source": [
    "# Internal N at beggining and end of experiments - period 2 (using Ulva that was cultivated offshore and fertilized onshore for ~20 hours)\n",
    "\n",
    "# strip plot\n",
    "N2 = sns.catplot(x = 'Exp', y = 'N', data = df3[(df3.Period == 2)],hue = 'Stage').set(xlabel='', ylabel='Internal N')\n",
    "N2.set_xticklabels([\"May-Jun*\\n  19\", \"Jul-Aug\\n  19\", \"Oct-Nov\\n  19\",\"Dec\\n  19\",\"Apr-May\\n  20\"],fontdict= { 'fontsize': 11, 'fontweight':'bold','color': 'k'})\n",
    "N2.set_yticklabels(fontdict= { 'fontsize': 12, 'fontweight':'bold','color': 'k'})\n",
    "\n",
    "# box plot\n",
    "N2BOX = sns.catplot(x = 'Exp', y = 'N', data = df3[(df3.Period == 2)],hue = 'Stage',kind='box').set(xlabel='', ylabel='Internal N')\n",
    "N2BOX.set_xticklabels([\"May-Jun*\\n  19\", \"Jul-Aug\\n  19\", \"Oct-Nov\\n  19\",\"Dec\\n  19\",\"Apr-May\\n  20\"],fontdict= { 'fontsize': 11, 'fontweight':'bold','color': 'k'})\n",
    "N2BOX.set_yticklabels(fontdict= { 'fontsize': 12, 'fontweight':'bold','color': 'k'})\n"
   ]
  },
  {
   "cell_type": "code",
   "execution_count": null,
   "metadata": {},
   "outputs": [],
   "source": [
    "# Internal N at beggining and end of experiments - period 2 (using Ulva that was cultivated offshore and fertilized onshore for ~20 hours)\n",
    "\n",
    "# strip plot\n",
    "N2 = sns.catplot(x = 'Exp', y = 'N', data = df3[(df3.Stage == 'f')&(df3.Exp != 4)&(df3.Exp != 5)],hue = 'Depth').set(xlabel='', ylabel='Internal N')\n",
    "N2.set_xticklabels([\"May-Jun*\\n  19\", \"Jul-Aug\\n  19\", \"Oct-Nov\\n  19\",\"Dec\\n  19\",\"Apr-May\\n  20\"],fontdict= { 'fontsize': 11, 'fontweight':'bold','color': 'k'})\n",
    "N2.set_yticklabels(fontdict= { 'fontsize': 12, 'fontweight':'bold','color': 'k'})\n",
    "\n",
    "# box plot\n",
    "#N2BOX = sns.catplot(x = 'Exp', y = 'N', data = df3[(df3.Stage == 'f')&(df3.Exp != 4)&(df3.Exp != 5)],hue = 'Depth',kind='box').set(xlabel='', ylabel='Internal N')\n",
    "#N2BOX.set_xticklabels([\"May-Jun*\\n  19\", \"Jul-Aug\\n  19\", \"Oct-Nov\\n  19\",\"Dec\\n  19\",\"Apr-May\\n  20\"],fontdict= { 'fontsize': 11, 'fontweight':'bold','color': 'k'})\n",
    "#N2BOX.set_yticklabels(fontdict= { 'fontsize': 12, 'fontweight':'bold','color': 'k'})\n"
   ]
  },
  {
   "cell_type": "code",
   "execution_count": null,
   "metadata": {},
   "outputs": [],
   "source": [
    "# Pearson onshore fertilizing\n",
    "\n",
    "from scipy.stats import pearsonr \n",
    "   \n",
    "list1a = [310,442,246] \n",
    "list1b = [301,350,346]\n",
    "\n",
    "list13a = [382,216,240]\n",
    "list13b = [292,351,228]\n",
    "\n",
    "# Apply the pearsonr() \n",
    "corr, _ = pearsonr(list1a, list1b) \n",
    "print('\\nPearsons correlation for no-shade bottles, 1000/1/168: %.3f' % corr) \n",
    "# Mann-Whitney U Test\n",
    "print(stats.mannwhitneyu(list1a,list1b))\n",
    "      \n",
    "corr, _ = pearsonr(list13a, list13b) \n",
    "print('\\nPearsons correlation for exp 2, 1000/1/168: %.3f' % corr) \n",
    "print(stats.mannwhitneyu(list13a,list13b))"
   ]
  },
  {
   "cell_type": "code",
   "execution_count": null,
   "metadata": {},
   "outputs": [],
   "source": []
  }
 ],
 "metadata": {
  "colab": {
   "collapsed_sections": [],
   "name": "Meiron_closed_system_simulation.ipynb",
   "provenance": [
    {
     "file_id": "1uKvJsJ-_1-aLrYIrSnGQNnOsG9l8ysjY",
     "timestamp": 1561926275385
    }
   ],
   "version": "0.3.2"
  },
  "kernel_info": {
   "name": "python3"
  },
  "kernelspec": {
   "display_name": "Python 3",
   "language": "python",
   "name": "python3"
  },
  "language_info": {
   "codemirror_mode": {
    "name": "ipython",
    "version": 3
   },
   "file_extension": ".py",
   "mimetype": "text/x-python",
   "name": "python",
   "nbconvert_exporter": "python",
   "pygments_lexer": "ipython3",
   "version": "3.7.3"
  },
  "nteract": {
   "version": "0.15.0"
  }
 },
 "nbformat": 4,
 "nbformat_minor": 4
}
