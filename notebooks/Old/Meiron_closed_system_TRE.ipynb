{
 "cells": [
  {
   "cell_type": "markdown",
   "metadata": {
    "colab_type": "text",
    "id": "raGTYa1h4iD_"
   },
   "source": [
    "# Closed system simulation with experimental data markers\n",
    "\n",
    "In this simulation we have a system of 5 liters in which we start with Next = 1000, some Nint (measured) of some mass (m). After this we \"feed\" for a period of 3.5 days, i.e. solve the \"feeding\" part of the simulation. After that, we add 1000 uM to the last value of Next and keep \"feeding\". After one duration (7 days) we reset the water, mass and the amplitude to the beginning of the first cycle. The only difference from the t_0 is the Nint which is accumulating all the effects through the time. The mass is reset to m_0 and Next is reset to 1000 ppm (per something per something)\n"
   ]
  },
  {
   "cell_type": "code",
   "execution_count": 1,
   "metadata": {
    "colab": {},
    "colab_type": "code",
    "id": "yUfAvi3l4iEA"
   },
   "outputs": [],
   "source": [
    "# N_simulation\n",
    "from __future__ import division\n",
    "import numpy as np\n",
    "from scipy.integrate import odeint\n",
    "from scipy import interpolate\n",
    "import matplotlib.pyplot as plt\n",
    "import pandas as pd # to read excel\n",
    "from pandas import DataFrame\n",
    "from statistics import mean, stdev\n",
    "import plotly.graph_objects as go\n",
    "import plotly.express as px\n",
    "%matplotlib inline\n",
    "\n",
    "from myfunctions import *\n",
    "\n",
    "\n",
    "# from datetime import datetime"
   ]
  },
  {
   "cell_type": "code",
   "execution_count": 2,
   "metadata": {
    "colab": {
     "base_uri": "https://localhost:8080/",
     "height": 277
    },
    "colab_type": "code",
    "executionInfo": {
     "elapsed": 62295,
     "status": "ok",
     "timestamp": 1565466545086,
     "user": {
      "displayName": "Meiron Zollmann",
      "photoUrl": "",
      "userId": "18114482091462006341"
     },
     "user_tz": -180
    },
    "id": "d4VzbZ484iED",
    "inputHidden": false,
    "outputHidden": false,
    "outputId": "6d76a9eb-17b9-400c-de1d-c0cec8fc215c"
   },
   "outputs": [
    {
     "name": "stdout",
     "output_type": "stream",
     "text": [
      "dNextoutdt 0.03\n",
      "dNextindt 0.0\n",
      "dmoutdt 0.0\n",
      "miu 0.014583333333333332\n",
      "Nintmax 4.23\n",
      "Nintmin 1.0\n",
      "NH4max 100.0\n",
      "NH4min 0.0\n",
      "KNH4 10.0\n",
      "KN 2.0\n",
      "Ks 14.0\n",
      "Vmax 60.0\n",
      "Vassim 60.0\n",
      "Next0 0.0\n",
      "NH40 0.0\n",
      "Nint0 1.85\n",
      "m0 0.15\n",
      "Amplitude 500.0\n",
      "Duration 7.0\n",
      "Period 3.5\n",
      "Kd 0.4\n",
      "Nintcrit 3.0\n"
     ]
    }
   ],
   "source": [
    "xl = pd.ExcelFile('../data/input_format.xlsx')\n",
    "\n",
    "df1 = xl.parse('Parameters',header=None)\n",
    "df2 = xl.parse('500.3.5.168')#header=None)\n",
    "\n",
    "\n",
    "# which parameters? and values we read? if you want to print, uncomment:\n",
    "# print(df.iloc[:][0],df.iloc[:][1])\n",
    "\n",
    "# assigmment of parameters to values: \n",
    "for key,val in zip(df1.iloc[:][0],df1.iloc[:][1]):\n",
    "    exec(key + '=val')\n",
    "    print(key,val)"
   ]
  },
  {
   "cell_type": "raw",
   "metadata": {},
   "source": [
    "df2.head()"
   ]
  },
  {
   "cell_type": "raw",
   "metadata": {},
   "source": [
    "df2.tail()"
   ]
  },
  {
   "cell_type": "code",
   "execution_count": 3,
   "metadata": {},
   "outputs": [
    {
     "name": "stdout",
     "output_type": "stream",
     "text": [
      "N of experiments = 15\n"
     ]
    }
   ],
   "source": [
    "# find out how many experiments are in the file\n",
    "n_exp = df2['day i'].dropna().shape[0] # number of items that have day i property and not NaN\n",
    "\n",
    "# it should be equal to the number of day f - just for a test. will pop an error if the file is corrupted\n",
    "assert (n_exp == df2['day f'].dropna().shape[0])\n",
    "\n",
    "print('N of experiments = {}'.format(n_exp))"
   ]
  },
  {
   "cell_type": "code",
   "execution_count": 4,
   "metadata": {},
   "outputs": [
    {
     "data": {
      "text/plain": [
       "0     b'22.07.19'\n",
       "7     b'22.07.19'\n",
       "14    b'22.07.19'\n",
       "21    b'22.07.19'\n",
       "28    b'22.07.19'\n",
       "35    b'22.07.19'\n",
       "42    b'22.07.19'\n",
       "49    b'22.07.19'\n",
       "56    b'22.07.19'\n",
       "62    b'06.05.19'\n",
       "68    b'06.05.19'\n",
       "74    b'06.05.19'\n",
       "80    b'03.10.19'\n",
       "86    b'03.10.19'\n",
       "92    b'03.10.19'\n",
       "Name: day i, dtype: bytes64"
      ]
     },
     "execution_count": 4,
     "metadata": {},
     "output_type": "execute_result"
    }
   ],
   "source": [
    "day_i = df2['day i'].dropna()\n",
    "day_i.astype('S')"
   ]
  },
  {
   "cell_type": "code",
   "execution_count": 5,
   "metadata": {},
   "outputs": [
    {
     "name": "stdout",
     "output_type": "stream",
     "text": [
      "sleeve 1\n",
      "sleeve 2\n",
      "sleeve 3\n",
      "sleeve 4\n",
      "sleeve 5\n",
      "sleeve 6\n",
      "sleeve 7\n",
      "sleeve 8\n",
      "sleeve 9\n",
      "sleeve 7\n",
      "sleeve 8\n",
      "sleeve 9\n",
      "sleeve 4\n",
      "sleeve 5\n",
      "sleeve 6\n"
     ]
    }
   ],
   "source": [
    "# find out the sleeve number in each experiment\n",
    "sleeves = df2['sleeve'].dropna().astype(int)\n",
    "for s in sleeves:\n",
    "    print('sleeve {}'.format(s))"
   ]
  },
  {
   "cell_type": "code",
   "execution_count": 6,
   "metadata": {},
   "outputs": [
    {
     "name": "stdout",
     "output_type": "stream",
     "text": [
      "Int64Index([3, 10, 17, 24, 31, 38, 45, 52, 59, 65, 71, 77, 83, 89, 95], dtype='int64')\n"
     ]
    },
    {
     "data": {
      "text/plain": [
       "Unnamed: 4      1.5702\n",
       "Unnamed: 5     2.93388\n",
       "Unnamed: 6        2.05\n",
       "Unnamed: 7     2.50798\n",
       "Unnamed: 8     2.25557\n",
       "Unnamed: 9     3.00527\n",
       "Unnamed: 10    2.45769\n",
       "Name: 10, dtype: object"
      ]
     },
     "execution_count": 6,
     "metadata": {},
     "output_type": "execute_result"
    }
   ],
   "source": [
    "ind_Nint = df2.index[df2['parameter'] == 'Nint'] # find index of the Nint rows\n",
    "print(ind_Nint) # print it for the reference, these are rows 2, 6 and 10\n",
    "\n",
    "# small test\n",
    "assert(len(ind_Nint) == n_exp) # if we found less Nint than experiments, then something is wrong\n",
    "\n",
    "\n",
    "df2.iloc[ind_Nint[1],4:].dropna() # take the 2nd element of that index, i.e. 2nd experiment and show the data:"
   ]
  },
  {
   "cell_type": "code",
   "execution_count": 7,
   "metadata": {},
   "outputs": [
    {
     "name": "stdout",
     "output_type": "stream",
     "text": [
      "Unnamed: 4    2019-07-22 15:00:00\n",
      "Unnamed: 5    2019-07-25 10:00:00\n",
      "Unnamed: 6    2019-07-29 20:30:00\n",
      "Unnamed: 7    2019-08-01 12:45:00\n",
      "Unnamed: 8    2019-08-05 16:15:00\n",
      "Unnamed: 9    2019-08-06 12:00:00\n",
      "Unnamed: 10   2019-08-07 09:00:00\n",
      "Unnamed: 11   2019-08-08 10:00:00\n",
      "Unnamed: 12   2019-08-11 09:00:00\n",
      "Unnamed: 13   2019-08-12 13:00:00\n",
      "Name: 0, dtype: datetime64[ns]\n"
     ]
    }
   ],
   "source": [
    "ind_Next = df2.index[df2['parameter'] == 'Next'] # find index of the Next \n",
    "Next_measurement_times = pd.to_datetime(df2.iloc[ind_Next[0]-1,4:].dropna(),dayfirst=True)\n",
    "print(Next_measurement_times)"
   ]
  },
  {
   "cell_type": "code",
   "execution_count": 8,
   "metadata": {},
   "outputs": [
    {
     "name": "stdout",
     "output_type": "stream",
     "text": [
      "0 22.07.19 sleeve1\n",
      "1 22.07.19 sleeve2\n",
      "2 22.07.19 sleeve3\n",
      "3 22.07.19 sleeve4\n",
      "4 22.07.19 sleeve5\n",
      "5 22.07.19 sleeve6\n",
      "6 22.07.19 sleeve7\n",
      "7 22.07.19 sleeve8\n",
      "8 22.07.19 sleeve9\n",
      "9 06.05.19 sleeve7\n",
      "10 06.05.19 sleeve8\n",
      "11 06.05.19 sleeve9\n",
      "12 03.10.19 sleeve4\n",
      "13 03.10.19 sleeve5\n",
      "14 03.10.19 sleeve6\n"
     ]
    }
   ],
   "source": [
    "# plot all sleeves m data\n",
    "ind_m = df2.index[df2['parameter'] == 'm'] # find index of the mass was measured (this is the only data available so far)\n",
    "# small test\n",
    "assert(len(ind_m) == n_exp) # if we found less Nint than experiments, then something is wrong\n",
    "\n",
    "\n",
    "# fig,ax = plt.subplots(figsize=(12,10))\n",
    "\n",
    "# plt.legend()\n",
    "# plt.xlabel('Time')\n",
    "# plt.ylabel('mass');\n",
    "\n",
    "m_all, m_times_all, Nint_all, Nint_times_all, Next_all, Next_times_all = [], [], [], [], [], []\n",
    "\n",
    "for counter,value in enumerate(ind_m):\n",
    "    m = df2.iloc[value,4:]\n",
    "    val = []\n",
    "    for number in m:\n",
    "        a=~np.isnan(number)\n",
    "        val.append(a)\n",
    "    m = df2.iloc[value,4:][val] #'value' gives row number, '4:' goes column by column starting at 4.\n",
    "    m_measurement_times = pd.to_datetime(df2.iloc[value-1,4:][val],dayfirst=True)\n",
    "    hours = pd.Series((m_measurement_times - m_measurement_times[0]).astype('timedelta64[h]'))\n",
    "    label = '{} sleeve{:d}'.format(day_i.iloc[counter],sleeves.iloc[counter])\n",
    "    print(counter, label)\n",
    " #   ax.plot(hours,m,':o',label=label,lw=2)\n",
    "    \n",
    "    for sample in m:\n",
    "        m_all.append(sample)\n",
    "    \n",
    "    for h in hours:\n",
    "        m_times_all.append(h)\n",
    "        \n",
    "\n",
    "m_times_all = np.array(m_times_all, dtype='int')\n",
    "        \n",
    "# ax.legend()\n",
    "# ax.set_xlabel('Time (hours)')\n",
    "# ax.set_ylabel('mass (g DW / l)');"
   ]
  },
  {
   "cell_type": "code",
   "execution_count": 9,
   "metadata": {},
   "outputs": [],
   "source": [
    "# plot all sleeves Nint data\n",
    "ind_Nint = df2.index[df2['parameter'] == 'Nint'] # find index of the mass was measured (this is the only data available so far)\n",
    "# small test\n",
    "assert(len(ind_Nint) == n_exp) # if we found less Nint than experiments, then something is wrong\n",
    "\n",
    "# fig,ax = plt.subplots(figsize=(12,10))\n",
    "\n",
    "# plt.legend()\n",
    "# plt.xlabel('Time')\n",
    "# plt.ylabel('Nint');\n",
    "\n",
    "Nint_all, Nint_times_all = [], []\n",
    "for counter,value in enumerate(ind_Nint):\n",
    "    Nint = df2.iloc[value,4:] #'value' gives row number, '4:' goes column by column starting at 4.\n",
    "    val = []\n",
    "    for number in Nint:\n",
    "        a=~np.isnan(number)\n",
    "        val.append(a)\n",
    "    Nint = df2.iloc[value,4:][val]\n",
    "    Nint_measurement_times = pd.to_datetime(df2.iloc[value-1,4:],dayfirst=True)\n",
    "    hours = pd.Series((Nint_measurement_times - Nint_measurement_times[0])[val].astype('timedelta64[h]'))\n",
    "    label = '{} sleeve{:d}'.format(day_i.iloc[counter],sleeves.iloc[counter])\n",
    "    # print(counter, label)\n",
    "#    ax.plot(hours,Nint,':o',label=label,lw=2)\n",
    "    \n",
    "    for sample in Nint:\n",
    "        Nint_all.append(sample)\n",
    "    \n",
    "    for h in hours:\n",
    "        Nint_times_all.append(h)\n",
    "\n",
    "\n",
    "Nint_times_all = np.array(Nint_times_all, dtype='int')\n",
    "        \n",
    "# ax.legend()\n",
    "# ax.set_xlabel('Time (hours)')\n",
    "# ax.set_ylabel('Nint (% g N / g DW)');"
   ]
  },
  {
   "cell_type": "code",
   "execution_count": 10,
   "metadata": {},
   "outputs": [],
   "source": [
    "# plot all sleeves Next data\n",
    "ind_Next = df2.index[df2['parameter'] == 'Next'] # find index of the mass was measured (this is the only data available so far)\n",
    "# small test\n",
    "assert(len(ind_Next) == n_exp) # if we found less Nint than experiments, then something is wrong\n",
    "\n",
    "#fig,ax = plt.subplots(figsize=(12,10))\n",
    "\n",
    "#plt.legend()\n",
    "#plt.xlabel('Time')\n",
    "#plt.ylabel('Next');\n",
    "\n",
    "Next_all, Next_times_all = [], []\n",
    "for counter,value in enumerate(ind_Next):\n",
    "    Next = df2.iloc[value,4:] #'value' gives row number, '4:' goes column by column starting at 4.\n",
    "    val = []\n",
    "    for number in Next:\n",
    "        a=~np.isnan(number)\n",
    "        val.append(a)\n",
    "    Next = df2.iloc[value,4:][val]\n",
    "    Next_measurement_times = pd.to_datetime(df2.iloc[value-1,4:],dayfirst=True)\n",
    "    hours = pd.Series((Next_measurement_times - Next_measurement_times[0])[val].astype('timedelta64[h]'))\n",
    "    label = '{} sleeve{:d}'.format(day_i.iloc[counter],sleeves.iloc[counter])\n",
    "    # print(counter, label)\n",
    "#    ax.plot(hours,Next,':o',label=label,lw=2)\n",
    "    \n",
    "    for sample in Next:\n",
    "        Next_all.append(sample)\n",
    "    \n",
    "    for h in hours:\n",
    "        Next_times_all.append(h)\n",
    "\n",
    "Next_times_all = np.array(Next_times_all, dtype='int')\n",
    "#ax.legend()\n",
    "#ax.set_xlabel('Time (hours)')\n",
    "#ax.set_ylabel('Next (umol N / l)');"
   ]
  },
  {
   "cell_type": "code",
   "execution_count": 11,
   "metadata": {},
   "outputs": [],
   "source": [
    "# Create time array of 500 hours, integer types, used for data interpolation (t_hours)\n",
    "\n",
    "t_hours = np.linspace(0,499,500)\n",
    "t_hours = np.array(t_hours, dtype='int')"
   ]
  },
  {
   "cell_type": "code",
   "execution_count": 12,
   "metadata": {},
   "outputs": [],
   "source": [
    "# Reduce Nint measurements into 4 arrays: 1. Measurement times (Nint_times_reduced); 2. Mean values (Nint_mean_values); \n",
    "# 3. STDEV values (Nint_stdev_values); and 4. Number of measurements per time (N_Nint_values)\n",
    "\n",
    "Nint_times_all, Nint_all = zip(*sorted(zip(Nint_times_all, Nint_all)))\n",
    "Nint_values, Nint_times_reduced, Nint_mean_values, Nint_stdev_values,N_Nint_values = [], [], [], [], []\n",
    "i = 0\n",
    "for TNint in Nint_times_all:\n",
    "    TNint = int(TNint)\n",
    "    Nint_values.append(Nint_all[i])\n",
    "    Mean_Nint = mean(Nint_values)\n",
    "    N_Nint = len(Nint_values)\n",
    "    if len(Nint_values) >= 2:\n",
    "        STDEV_Nint = stdev(Nint_values)\n",
    "    else:\n",
    "        STDEV_Nint = 0\n",
    "    if  i == len(Nint_times_all)-1 or Nint_times_all[i] != Nint_times_all[i + 1]:\n",
    "        Nint_times_reduced.append(TNint)\n",
    "        Nint_values = []\n",
    "        Nint_mean_values.append(Mean_Nint)\n",
    "        Nint_stdev_values.append(STDEV_Nint)\n",
    "        N_Nint_values.append(N_Nint)\n",
    "    i += 1"
   ]
  },
  {
   "cell_type": "code",
   "execution_count": 13,
   "metadata": {},
   "outputs": [
    {
     "data": {
      "image/png": "[encoded data removed]",
      "text/plain": [
       "<Figure size 432x288 with 1 Axes>"
      ]
     },
     "metadata": {
      "needs_background": "light"
     },
     "output_type": "display_data"
    }
   ],
   "source": [
    "# Interpolate Nint data (Nint_interp)\n",
    "\n",
    "f1 = interpolate.interp1d(Nint_times_reduced, Nint_mean_values,kind = 'linear')\n",
    "Nint_interp = f1(t_hours)\n",
    "plt.plot(t_hours, Nint_interp, ':')\n",
    "plt.errorbar(Nint_times_reduced,Nint_mean_values,yerr=Nint_stdev_values,fmt='o',color='black',ecolor='lightgray',elinewidth=3,capsize=0)\n",
    "plt.plot()\n",
    "\n",
    "N_Nint_values = list(map(str, N_Nint_values))"
   ]
  },
  {
   "cell_type": "raw",
   "metadata": {},
   "source": [
    "# Alternative visualization - with N in hovertext\n",
    "\n",
    "fig = go.Figure(data=go.Scatter(\n",
    "        x=Nint_times_reduced,\n",
    "        y=Nint_mean_values,\n",
    "        hovertext=N_Nint_values,\n",
    "        hoverinfo=\"text\",\n",
    "        error_y=dict(\n",
    "            type='data', # value of error bar given in data coordinates\n",
    "            array=Nint_stdev_values,\n",
    "            visible=True)\n",
    "    ))\n",
    "fig.show()"
   ]
  },
  {
   "cell_type": "code",
   "execution_count": 14,
   "metadata": {},
   "outputs": [],
   "source": [
    "# Reduce Next measurements into 4 arrays: 1. Measurement times (Next_times_reduced); 2. Mean values (Next_mean_values); \n",
    "# 3. STDEV values (Next_stdev_values); and 4. Number of measurements per time (N_Next_values)\n",
    "\n",
    "Next_times_all, Next_all = zip(*sorted(zip(Next_times_all, Next_all)))\n",
    "Next_values, Next_times_reduced, Next_mean_values, Next_stdev_values,N_Next_values = [], [], [], [], []\n",
    "i = 0\n",
    "for TNext in Next_times_all:\n",
    "    TNext = int(TNext)\n",
    "    Next_values.append(Next_all[i])\n",
    "    Mean_Next = mean(Next_values)\n",
    "    N_Next = len(Next_values)\n",
    "    if len(Next_values) >= 2:\n",
    "        STDEV_Next = stdev(Next_values)\n",
    "    else:\n",
    "        STDEV_Next = 0\n",
    "    if  i == len(Next_times_all)-1 or Next_times_all[i] != Next_times_all[i + 1]:\n",
    "        Next_times_reduced.append(TNext)\n",
    "        Next_values = []\n",
    "        Next_mean_values.append(Mean_Next)\n",
    "        Next_stdev_values.append(STDEV_Next)\n",
    "        N_Next_values.append(N_Next)\n",
    "    i += 1"
   ]
  },
  {
   "cell_type": "code",
   "execution_count": 15,
   "metadata": {},
   "outputs": [
    {
     "data": {
      "text/plain": [
       "[]"
      ]
     },
     "execution_count": 15,
     "metadata": {},
     "output_type": "execute_result"
    },
    {
     "data": {
      "image/png": "[encoded data removed]",
      "text/plain": [
       "<Figure size 432x288 with 1 Axes>"
      ]
     },
     "metadata": {
      "needs_background": "light"
     },
     "output_type": "display_data"
    }
   ],
   "source": [
    "# Interpolate Nint data (Next_interp)\n",
    "\n",
    "f2 = interpolate.interp1d(Next_times_reduced, Next_mean_values,kind = 'linear')\n",
    "Next_interp = f2(t_hours)\n",
    "plt.plot(t_hours, Next_interp, ':')\n",
    "plt.errorbar(Next_times_reduced,Next_mean_values,yerr=Next_stdev_values,fmt='o',color='black',ecolor='lightgray',elinewidth=3,capsize=0)\n",
    "plt.plot()"
   ]
  },
  {
   "cell_type": "code",
   "execution_count": 16,
   "metadata": {},
   "outputs": [],
   "source": [
    "# Reduce m measurements into 4 arrays: 1. Measurement times (m_times_reduced); 2. Mean values (m_mean_values); \n",
    "# 3. STDEV values (m_stdev_values); and 4. Number of measurements per time (N_m_values)\n",
    "\n",
    "m_times_all, m_all = zip(*sorted(zip(m_times_all, m_all)))\n",
    "m_values, m_times_reduced, m_mean_values, m_stdev_values,N_m_values = [], [], [], [], []\n",
    "i = 0\n",
    "for Tm in m_times_all:\n",
    "    Tm = int(Tm)\n",
    "    m_values.append(m_all[i])\n",
    "    Mean_m = mean(m_values)\n",
    "    N_m = len(m_values)\n",
    "    if len(m_values) >= 2:\n",
    "        STDEV_m = stdev(m_values)\n",
    "    else:\n",
    "        STDEV_m = 0\n",
    "    if  i == len(m_times_all)-1 or m_times_all[i] != m_times_all[i + 1]:\n",
    "        m_times_reduced.append(Tm)\n",
    "        m_values = []\n",
    "        m_mean_values.append(Mean_m)\n",
    "        m_stdev_values.append(STDEV_m)\n",
    "        N_m_values.append(N_m)\n",
    "    i += 1\n"
   ]
  },
  {
   "cell_type": "code",
   "execution_count": 17,
   "metadata": {},
   "outputs": [
    {
     "data": {
      "text/plain": [
       "[]"
      ]
     },
     "execution_count": 17,
     "metadata": {},
     "output_type": "execute_result"
    },
    {
     "data": {
      "image/png": "[encoded data removed]",
      "text/plain": [
       "<Figure size 432x288 with 1 Axes>"
      ]
     },
     "metadata": {
      "needs_background": "light"
     },
     "output_type": "display_data"
    }
   ],
   "source": [
    "# Interpolate Nint data (m_interp)\n",
    "\n",
    "f3 = interpolate.interp1d(m_times_reduced, m_mean_values,kind = 'linear')\n",
    "m_interp = f3(t_hours)\n",
    "plt.plot(t_hours, m_interp, ':')\n",
    "plt.errorbar(m_times_reduced,m_mean_values,yerr=m_stdev_values,fmt='o',color='black',ecolor='lightgray',elinewidth=3,capsize=0)\n",
    "plt.plot()"
   ]
  },
  {
   "cell_type": "code",
   "execution_count": 18,
   "metadata": {},
   "outputs": [],
   "source": [
    "t_hours2 = np.linspace(0,504,505)\n",
    "t_hours2 = np.array(t_hours2, dtype='int')"
   ]
  },
  {
   "cell_type": "code",
   "execution_count": 19,
   "metadata": {
    "colab": {
     "base_uri": "https://localhost:8080/",
     "height": 225
    },
    "colab_type": "code",
    "executionInfo": {
     "elapsed": 64857,
     "status": "ok",
     "timestamp": 1565466547653,
     "user": {
      "displayName": "Meiron Zollmann",
      "photoUrl": "",
      "userId": "18114482091462006341"
     },
     "user_tz": -180
    },
    "id": "56GciWDw4iEJ",
    "outputId": "212b5b39-6e16-4e92-f9b3-4767f05cdf4a",
    "scrolled": true
   },
   "outputs": [
    {
     "name": "stdout",
     "output_type": "stream",
     "text": [
      "0\n",
      "Starting point\n",
      "84\n",
      "Period\n",
      "168\n",
      "Duration\n",
      "252\n",
      "Period\n",
      "336\n",
      "Duration\n",
      "420\n",
      "Period\n",
      "[  0  84 168 252 336 420 504]\n",
      "[  0 168 336 504]\n"
     ]
    }
   ],
   "source": [
    "# now combine the two:\n",
    "# decide how many cycles you want, e.g. 10 days, with a daily feeding\n",
    "NEXT, NINT, M, T = [],[],[],[]\n",
    "NINT = [] #[[Nint0]]\n",
    "#bbb = NINT[-1]\n",
    "#print (bbb)\n",
    "Period_times = [0]\n",
    "Duration_times = [0]\n",
    "n_days = Duration*3\n",
    "\n",
    "\n",
    "for hour in np.arange(0,n_days*24,Period*24):\n",
    "    hour = int(hour)\n",
    "    print(hour)\n",
    "    \n",
    "    if hour == 0:\n",
    "        print('Starting point')\n",
    "        Nint_0 = Nint0\n",
    "        m_0 = m0\n",
    "        Next_0 = Amplitude\n",
    "    \n",
    "    if hour > 0 and np.mod(hour,Period*24) == 0:\n",
    "        if np.mod(hour,Duration*24) == 0:\n",
    "            print('Duration')\n",
    "            # reset everything, except Nint\n",
    "            Nint_0 = NINT[-1][-1]\n",
    "            Next_0 = Amplitude\n",
    "            m_0 = m0\n",
    "            Period_times.append(hour)# + 10)\n",
    "            Duration_times.append(hour)# + 10)\n",
    "            \n",
    "        else:    \n",
    "            # period passed, not Duration\n",
    "            # add amplitude, keep going \n",
    "            print('Period')\n",
    "            Next_0 = NEXT[-1][-1] + Amplitude\n",
    "            Nint_0 = NINT[-1][-1]\n",
    "            m_0 = M[-1][-1]\n",
    "            Period_times.append(hour)# + 10)\n",
    "\n",
    "        \n",
    "    # setup initial conditions\n",
    "    x0 = [Next_0,Nint_0,m_0]\n",
    "    #t = np.linspace(hour,hour+Period*24)\n",
    "    #t = t_hours[hour:int(Period*24+hour)]\n",
    "    t = t_hours2[hour:int(Period*24+hour)]\n",
    "    #print(t)\n",
    "    x = odeint(N_feeding,x0,t,args=(Nintmax,Nintmin,Vmax,Ks,KN,dNextoutdt,dNextindt,miu,dmoutdt))\n",
    "\n",
    "    NEXT.append(x[: , 0])\n",
    "    NINT.append(x[: , 1])\n",
    "    M.append(x[: , 2])\n",
    "    T.append(t)\n",
    "    \n",
    "    t_model = np.hstack(T)\n",
    "    Next_model = np.hstack(NEXT)\n",
    "    Nint_model = np.hstack(NINT)\n",
    "    m_model = np.hstack(M)\n",
    "\n",
    "Period_times.append(Duration*3*24)# + 10)\n",
    "Duration_times.append(Duration*3*24)#+10)\n",
    "Period_times = np.array(Period_times, dtype='int')\n",
    "Duration_times = np.array(Duration_times, dtype='int')\n",
    "print(Period_times)\n",
    "print(Duration_times)"
   ]
  },
  {
   "cell_type": "raw",
   "metadata": {},
   "source": [
    "t_model = np.linspace(0,504,503)\n",
    "t_model = np.array(t_model, dtype='int')\n",
    "t_model"
   ]
  },
  {
   "cell_type": "markdown",
   "metadata": {
    "colab_type": "text",
    "id": "QcYNkB9i_qzG"
   },
   "source": [
    "# Read the experimental data from the same file, second sheet"
   ]
  },
  {
   "cell_type": "code",
   "execution_count": 20,
   "metadata": {
    "colab": {
     "base_uri": "https://localhost:8080/",
     "height": 609
    },
    "colab_type": "code",
    "executionInfo": {
     "elapsed": 64853,
     "status": "ok",
     "timestamp": 1565466547664,
     "user": {
      "displayName": "Meiron Zollmann",
      "photoUrl": "",
      "userId": "18114482091462006341"
     },
     "user_tz": -180
    },
    "id": "Y3S108QvLvFG",
    "outputId": "ed4b6371-8942-42a8-c154-fee251ad0c0c"
   },
   "outputs": [
    {
     "data": {
      "image/png": "[encoded data removed]",
      "text/plain": [
       "<Figure size 864x720 with 3 Axes>"
      ]
     },
     "metadata": {
      "needs_background": "light"
     },
     "output_type": "display_data"
    }
   ],
   "source": [
    "plot_result(t_model,Next_model,Nint_model,m_model,Nint=Nint_mean_values, yerrNint=Nint_stdev_values ,tNint=Nint_times_reduced,m=m_mean_values, yerrm=m_stdev_values, tm=m_times_reduced,Next=Next_mean_values,yerrNext=Next_stdev_values, tNext=Next_times_reduced)"
   ]
  },
  {
   "cell_type": "code",
   "execution_count": 21,
   "metadata": {},
   "outputs": [
    {
     "data": {
      "text/plain": [
       "504"
      ]
     },
     "execution_count": 21,
     "metadata": {},
     "output_type": "execute_result"
    }
   ],
   "source": [
    "len(t_model)"
   ]
  },
  {
   "cell_type": "raw",
   "metadata": {
    "scrolled": true
   },
   "source": [
    "# TRE = (100/n) * sqrt (sigma[1:m]((PVi-Si)/Si)^2)\n",
    "\n",
    "# where n is the number of measurements, Si is the measured values,and PVi is the predicted value\n",
    "\n",
    "#TRE m\n",
    "\n",
    "Sim, PVim, squere_error_m, trem = [], [], [], []\n",
    "nmt = len(m_times_all)\n",
    "nm = len(m_all)\n",
    "\n",
    "m_times_all_tup = np.array(m_times_all)\n",
    "t_model_tup = np.array(t_model)\n",
    "\n",
    "#print(nmt)\n",
    "#print(nm)\n",
    "# add a test - \n",
    "\n",
    "m_all_ind = np.linspace(0,nmt - 1,nmt)\n",
    "m_all_ind = np.array(m_all_ind, dtype='int')\n",
    "\n",
    "for i in m_all_ind:\n",
    "    if i < 1 or m_times_all_tup[i] != m_times_all_tup[i-1]:\n",
    "        j = m_times_all_tup[i]\n",
    "    PVim.append(m_model[j])\n",
    "    Sim.append(m_all[i])\n",
    "    squere_error_m = ((PVim[-1] - Sim[-1]) / Sim[-1]) ** 2\n",
    "    #if squere_error_m.size > 0:\n",
    "    #trem.append(squere_error_m)\n",
    "    trem.append(((PVim[-1] - Sim[-1]) / Sim[-1]) ** 2)\n",
    "    #print(j,i)\n",
    "    #print(PVim[-1])\n",
    "    #print(Sim[-1])\n",
    "    #print(squere_error_m, '\\n')\n",
    "\n",
    "TREm = round((100/nm) * (sum(trem)) ** 0.5,1)\n",
    "\n",
    "#TRE Nint\n",
    "\n",
    "SiNint, PViNint, squere_error_Nint, treNint = [], [], [], []\n",
    "\n",
    "nNintt = len(Nint_times_all)\n",
    "nNint = len(Nint_all)\n",
    "\n",
    "Nint_times_all_tup = np.array(Nint_times_all)\n",
    "t_model_tup = np.array(t_model)\n",
    "\n",
    "#print(nmt)\n",
    "#print(nm)\n",
    "# add a test - \n",
    "\n",
    "Nint_all_ind = np.linspace(0,nNintt - 1,nNintt)\n",
    "Nint_all_ind = np.array(Nint_all_ind, dtype='int')\n",
    "\n",
    "for i in Nint_all_ind:\n",
    "    if i < 1 or Nint_times_all_tup[i] != Nint_times_all_tup[i-1]:\n",
    "        j = Nint_times_all_tup[i]\n",
    "    PViNint.append(Nint_model[j])\n",
    "    SiNint.append(Nint_all[i])\n",
    "    squere_error_Nint = ((PViNint[-1] - SiNint[-1]) / SiNint[-1]) ** 2\n",
    "    #if squere_error_Nint.size > 0:\n",
    "    treNint.append(((PViNint[-1] - SiNint[-1]) / SiNint[-1]) ** 2)\n",
    "    #print(j,i)\n",
    "    #print(PVim[-1])\n",
    "    #print(Sim[-1])\n",
    "    #print(squere_error_m, '\\n')\n",
    "\n",
    "TRENint = round((100/nNint) * (sum(treNint)) ** 0.5,1)\n",
    "\n",
    "#TRE Next\n",
    "\n",
    "SiNext, PViNext, squere_error_Next, treNext = [], [], [], []\n",
    "\n",
    "nNextt = len(Next_times_all)\n",
    "nNext = len(Next_all)\n",
    "\n",
    "Next_times_all_tup = np.array(Next_times_all)\n",
    "t_model_tup = np.array(t_model)\n",
    "\n",
    "#print(nmt)\n",
    "#print(nm)\n",
    "# add a test - \n",
    "\n",
    "Next_all_ind = np.linspace(0,nNextt - 1,nNextt)\n",
    "Next_all_ind = np.array(Next_all_ind, dtype='int')\n",
    "\n",
    "for i in Next_all_ind:\n",
    "    if i < 1 or Next_times_all_tup[i] != Next_times_all_tup[i-1]:\n",
    "        j = Next_times_all_tup[i]\n",
    "    PViNext.append(Next_model[j])\n",
    "    SiNext.append(Next_all[i])\n",
    "    squere_error_Next = ((PViNext[-1] - SiNext[-1]) / SiNext[-1]) ** 2\n",
    "    #if squere_error_Next.size > 0:\n",
    "    treNext.append(((PViNext[-1] - SiNext[-1]) / SiNext[-1]) ** 2)\n",
    "    #print(j,i)\n",
    "    #print(PViNext[-1])\n",
    "    #print(SiNext[-1])\n",
    "    #print(squere_error_Next, '\\n')\n",
    "\n",
    "TRENext = round((100/nNext) * (sum(treNext)) ** 0.5,1)\n",
    "#print(treNext)\n",
    "print(\"Model TRE: \\n \")\n",
    "print(\"mass TRE: \" + str(TREm))\n",
    "print(\"Nint TRE: \" + str(TRENint))\n",
    "print(\"Next TRE: \" + str(TRENext))"
   ]
  },
  {
   "cell_type": "code",
   "execution_count": 22,
   "metadata": {},
   "outputs": [
    {
     "name": "stdout",
     "output_type": "stream",
     "text": [
      "Model TRE: \n",
      " \n",
      "mass TRE: 7.0\n",
      "Nint TRE: 5.1\n",
      "Next TRE: 150.2\n"
     ]
    }
   ],
   "source": [
    "# TRE = (100/n) * sqrt (sigma[1:m]((PVi-Si)/Si)^2)\n",
    "\n",
    "# where n is the number of measurements, Si is the measured values,and PVi is the predicted value\n",
    "\n",
    "#TRE m\n",
    "\n",
    "Sim, PVim, squere_error_m, trem = [], [], [], []\n",
    "nmt = len(m_times_all)\n",
    "nm = len(m_all)\n",
    "\n",
    "m_times_all_tup = np.array(m_times_all)\n",
    "t_model_tup = np.array(t_model)\n",
    "\n",
    "#print(nmt)\n",
    "#print(nm)\n",
    "# add a test - \n",
    "\n",
    "m_all_ind = np.linspace(0,nmt - 1,nmt)\n",
    "m_all_ind = np.array(m_all_ind, dtype='int')\n",
    "\n",
    "for i in m_all_ind:\n",
    "    if i < 1 or m_times_all_tup[i] != m_times_all_tup[i-1]:\n",
    "        j = m_times_all_tup[i]\n",
    "        while j >= len(m_model):\n",
    "            #m_model.append(m_model[-1])\n",
    "            m_model = np.append(m_model, m_model[-1])\n",
    "            #print(len(m_model))\n",
    "    PVim.append(m_model[j])\n",
    "    Sim.append(m_all[i])\n",
    "    squere_error_m = ((PVim[-1] - Sim[-1]) / Sim[-1]) ** 2\n",
    "    #if squere_error_m.size > 0:\n",
    "    #trem.append(squere_error_m)\n",
    "    trem.append(((PVim[-1] - Sim[-1]) / Sim[-1]) ** 2)\n",
    "    #print(j,i)\n",
    "    #print(PVim[-1])\n",
    "    #print(Sim[-1])\n",
    "    #print(squere_error_m, '\\n')\n",
    "\n",
    "TREm = round((100/nm * (sum(trem) ** 0.5)),1)\n",
    "\n",
    "#TRE Nint\n",
    "\n",
    "SiNint, PViNint, squere_error_Nint, treNint = [], [], [], []\n",
    "\n",
    "nNintt = len(Nint_times_all)\n",
    "nNint = len(Nint_all)\n",
    "\n",
    "Nint_times_all_tup = np.array(Nint_times_all)\n",
    "t_model_tup = np.array(t_model)\n",
    "\n",
    "#print(nmt)\n",
    "#print(nm)\n",
    "# add a test - \n",
    "\n",
    "Nint_all_ind = np.linspace(0,nNintt - 1,nNintt)\n",
    "Nint_all_ind = np.array(Nint_all_ind, dtype='int')\n",
    "\n",
    "for i in Nint_all_ind:\n",
    "    if i < 1 or Nint_times_all_tup[i] != Nint_times_all_tup[i-1]:\n",
    "        j = Nint_times_all_tup[i]\n",
    "        while j >= len(Nint_model):\n",
    "            #Nint_model.append(Nint_model[-1])\n",
    "            Nint_model = np.append(Nint_model,Nint_model[-1])\n",
    "            #print(len(Nint_model))\n",
    "    PViNint.append(Nint_model[j])\n",
    "    SiNint.append(Nint_all[i])\n",
    "    squere_error_Nint = ((PViNint[-1] - SiNint[-1]) / SiNint[-1]) ** 2\n",
    "    #if squere_error_Nint.size > 0:\n",
    "    treNint.append(((PViNint[-1] - SiNint[-1]) / SiNint[-1]) ** 2)\n",
    "    #print(j,i)\n",
    "    #print(PVim[-1])\n",
    "    #print(Sim[-1])\n",
    "    #print(squere_error_m, '\\n')\n",
    "\n",
    "TRENint = round((100/nNint * (sum(treNint) ** 0.5)),1)\n",
    "\n",
    "#TRE Next\n",
    "\n",
    "SiNext, PViNext, squere_error_Next, treNext = [], [], [], []\n",
    "\n",
    "nNextt = len(Next_times_all)\n",
    "nNext = len(Next_all)\n",
    "\n",
    "Next_times_all_tup = np.array(Next_times_all)\n",
    "t_model_tup = np.array(t_model)\n",
    "\n",
    "#print(nmt)\n",
    "#print(nm)\n",
    "# add a test - \n",
    "\n",
    "Next_all_ind = np.linspace(0,nNextt - 1,nNextt)\n",
    "Next_all_ind = np.array(Next_all_ind, dtype='int')\n",
    "\n",
    "for i in Next_all_ind:\n",
    "    if i < 1 or Next_times_all_tup[i] != Next_times_all_tup[i-1]:\n",
    "        j = Next_times_all_tup[i]\n",
    "        while j >= len(Next_model):\n",
    "            Next_model.append(Next_model[-1])\n",
    "            #print(len(Next_model))\n",
    "    PViNext.append(Next_model[j])\n",
    "    SiNext.append(Next_all[i])\n",
    "    squere_error_Next = ((PViNext[-1] - SiNext[-1]) / SiNext[-1]) ** 2\n",
    "    #if squere_error_Next.size > 0:\n",
    "    treNext.append(((PViNext[-1] - SiNext[-1]) / SiNext[-1]) ** 2)\n",
    "    #print(j,i)\n",
    "    #print(PViNext[-1])\n",
    "    #print(SiNext[-1])\n",
    "    #print(squere_error_Next, '\\n')\n",
    "\n",
    "\n",
    "TRENext = round((100/nNext * (sum(treNext) ** 0.5)),1)\n",
    "#print(TRENext)\n",
    "\n",
    "print(\"Model TRE: \\n \")\n",
    "print(\"mass TRE: \" + str(TREm))\n",
    "print(\"Nint TRE: \" + str(TRENint))\n",
    "print(\"Next TRE: \" + str(TRENext))"
   ]
  },
  {
   "cell_type": "markdown",
   "metadata": {},
   "source": [
    "# Model dmdt based on measured Nint"
   ]
  },
  {
   "cell_type": "code",
   "execution_count": 23,
   "metadata": {},
   "outputs": [],
   "source": [
    "# Model dmdt based on measured Nint. Next has no direct effect on dmdt\n",
    "\n",
    "M = []\n",
    "Next_model = 0\n",
    "Nint_model = np.hstack(Nint_interp)\n",
    "A = [1, 2, 3]\n",
    "t = 0\n",
    "for i in A:\n",
    "    m = m0\n",
    "    while t < Duration * 24 * i and t < 500:\n",
    "        Nint = Nint_interp[t]\n",
    "        fN = (Nint - Nintmin)/(KN + (Nint - Nintmin)) # units: [-]\n",
    "        #fN = ((Nint - Nintmin)/Nint) / ((Nintmax - Nintmin)/Nintmax) # units: [-]\n",
    "        M.append(m)\n",
    "        dm = miu * fN * m - dmoutdt #units: [g DW/l/h]\n",
    "        m = M[t] + dm\n",
    "        t = t + 1      \n",
    "m_model = M\n",
    "Next_model = [0] * 500"
   ]
  },
  {
   "cell_type": "code",
   "execution_count": 24,
   "metadata": {},
   "outputs": [
    {
     "data": {
      "image/png": "[encoded data removed]",
      "text/plain": [
       "<Figure size 864x720 with 3 Axes>"
      ]
     },
     "metadata": {
      "needs_background": "light"
     },
     "output_type": "display_data"
    }
   ],
   "source": [
    "plot_result(t_hours,Next_model,Nint_model,m_model,Nint=Nint_mean_values, yerrNint=Nint_stdev_values ,tNint=Nint_times_reduced,m=m_mean_values, yerrm=m_stdev_values, tm=m_times_reduced,Next=Next_mean_values,yerrNext=Next_stdev_values, tNext=Next_times_reduced)"
   ]
  },
  {
   "cell_type": "code",
   "execution_count": 25,
   "metadata": {},
   "outputs": [
    {
     "name": "stdout",
     "output_type": "stream",
     "text": [
      "Model TRE (based on measured Nint and constant 0 Next): \n",
      " \n",
      "mass TRE: 5.6\n",
      "Nint TRE: 1.4\n",
      "Next TRE: 10.8\n"
     ]
    }
   ],
   "source": [
    "# TRE = (100/n) * sqrt (sigma[1:m]((PVi-Si)/Si)^2)\n",
    "\n",
    "# where n is the number of measurements, Si is the measured values,and PVi is the predicted value\n",
    "\n",
    "#TRE m\n",
    "\n",
    "Sim, PVim, squere_error_m, trem = [], [], [], []\n",
    "nmt = len(m_times_all)\n",
    "nm = len(m_all)\n",
    "\n",
    "m_times_all_tup = np.array(m_times_all)\n",
    "t_model_tup = np.array(t_model)\n",
    "\n",
    "#print(nmt)\n",
    "#print(nm)\n",
    "# add a test - \n",
    "\n",
    "m_all_ind = np.linspace(0,nmt - 1,nmt)\n",
    "m_all_ind = np.array(m_all_ind, dtype='int')\n",
    "\n",
    "for i in m_all_ind:\n",
    "    if i < 1 or m_times_all_tup[i] != m_times_all_tup[i-1]:\n",
    "        j = m_times_all_tup[i]\n",
    "        while j >= len(m_model):\n",
    "            m_model.append(m_model[-1])\n",
    "            #print(len(m_model))\n",
    "    PVim.append(m_model[j])\n",
    "    Sim.append(m_all[i])\n",
    "    squere_error_m = ((PVim[-1] - Sim[-1]) / Sim[-1]) ** 2\n",
    "    #if squere_error_m.size > 0:\n",
    "    #trem.append(squere_error_m)\n",
    "    trem.append(((PVim[-1] - Sim[-1]) / Sim[-1]) ** 2)\n",
    "    #print(j,i)\n",
    "    #print(PVim[-1])\n",
    "    #print(Sim[-1])\n",
    "    #print(squere_error_m, '\\n')\n",
    "\n",
    "TREm = round((100/nm * (sum(trem) ** 0.5)),1)\n",
    "\n",
    "#TRE Nint\n",
    "\n",
    "SiNint, PViNint, squere_error_Nint, treNint = [], [], [], []\n",
    "\n",
    "nNintt = len(Nint_times_all)\n",
    "nNint = len(Nint_all)\n",
    "\n",
    "Nint_times_all_tup = np.array(Nint_times_all)\n",
    "t_model_tup = np.array(t_model)\n",
    "\n",
    "#print(nmt)\n",
    "#print(nm)\n",
    "# add a test - \n",
    "\n",
    "Nint_all_ind = np.linspace(0,nNintt - 1,nNintt)\n",
    "Nint_all_ind = np.array(Nint_all_ind, dtype='int')\n",
    "\n",
    "for i in Nint_all_ind:\n",
    "    if i < 1 or Nint_times_all_tup[i] != Nint_times_all_tup[i-1]:\n",
    "        j = Nint_times_all_tup[i]\n",
    "        while j >= len(Nint_model):\n",
    "            #Nint_model.append(Nint_model[-1])\n",
    "            Nint_model = np.append(Nint_model,Nint_model[-1])\n",
    "            #print(len(Nint_model))\n",
    "    PViNint.append(Nint_model[j])\n",
    "    SiNint.append(Nint_all[i])\n",
    "    squere_error_Nint = ((PViNint[-1] - SiNint[-1]) / SiNint[-1]) ** 2\n",
    "    #if squere_error_Nint.size > 0:\n",
    "    treNint.append(((PViNint[-1] - SiNint[-1]) / SiNint[-1]) ** 2)\n",
    "    #print(j,i)\n",
    "    #print(PVim[-1])\n",
    "    #print(Sim[-1])\n",
    "    #print(squere_error_m, '\\n')\n",
    "\n",
    "TRENint = round((100/nNint * (sum(treNint) ** 0.5)),1)\n",
    "\n",
    "#TRE Next\n",
    "\n",
    "SiNext, PViNext, squere_error_Next, treNext = [], [], [], []\n",
    "\n",
    "nNextt = len(Next_times_all)\n",
    "nNext = len(Next_all)\n",
    "\n",
    "Next_times_all_tup = np.array(Next_times_all)\n",
    "t_model_tup = np.array(t_model)\n",
    "\n",
    "#print(nmt)\n",
    "#print(nm)\n",
    "# add a test - \n",
    "\n",
    "Next_all_ind = np.linspace(0,nNextt - 1,nNextt)\n",
    "Next_all_ind = np.array(Next_all_ind, dtype='int')\n",
    "\n",
    "for i in Next_all_ind:\n",
    "    if i < 1 or Next_times_all_tup[i] != Next_times_all_tup[i-1]:\n",
    "        j = Next_times_all_tup[i]\n",
    "        while j >= len(Next_model):\n",
    "            Next_model.append(Next_model[-1])\n",
    "            #print(len(Next_model))\n",
    "    PViNext.append(Next_model[j])\n",
    "    SiNext.append(Next_all[i])\n",
    "    squere_error_Next = ((PViNext[-1] - SiNext[-1]) / SiNext[-1]) ** 2\n",
    "    #if squere_error_Next.size > 0:\n",
    "    treNext.append(((PViNext[-1] - SiNext[-1]) / SiNext[-1]) ** 2)\n",
    "    #print(j,i)\n",
    "    #print(PViNext[-1])\n",
    "    #print(SiNext[-1])\n",
    "    #print(squere_error_Next, '\\n')\n",
    "\n",
    "\n",
    "TRENext = round((100/nNext * (sum(treNext) ** 0.5)),1)\n",
    "#print(treNext)\n",
    "print(\"Model TRE (based on measured Nint and constant 0 Next): \\n \")\n",
    "print(\"mass TRE: \" + str(TREm))\n",
    "print(\"Nint TRE: \" + str(TRENint))\n",
    "print(\"Next TRE: \" + str(TRENext))"
   ]
  },
  {
   "cell_type": "markdown",
   "metadata": {},
   "source": [
    "# Model dNextdt based on measured Nint and m"
   ]
  },
  {
   "cell_type": "code",
   "execution_count": 26,
   "metadata": {},
   "outputs": [],
   "source": [
    "# Model dNextdt based on measured Nint and m.\n",
    "\n",
    "NEXT = []\n",
    "m_model = m_interp\n",
    "Nint_model = Nint_interp\n",
    "A = [1, 2, 3]\n",
    "t = 0\n",
    "for i in A:\n",
    "    Next = Amplitude\n",
    "    while t < Duration * 24 * i and t < 500:\n",
    "        m = m_interp[t]\n",
    "        Nint = Nint_interp[t]\n",
    "        Neff = (Nintmax - Nint)/(Nintmax - Nintmin) # units: [-]\n",
    "        uN = Vmax * Next / (Ks + Next) # units: [umol N/g DW/h]\n",
    "        #fN = ((Nint - Nintmin)/Nint) / ((Nintmax - Nintmin)/Nintmax) # units: [-]\n",
    "        NEXT.append(Next)\n",
    "        dNext = -Neff * uN * m - dNextoutdt + dNextindt # units: [umol N/l/h]\n",
    "        Next = NEXT[t] + dNext\n",
    "        if t > 0 and np.mod(t,Period*24) == 0 and np.mod(t,Duration*24) != 0:\n",
    "            # period passed, not Duration\n",
    "            # add amplitude, keep going \n",
    "            Next = NEXT[-1] + Amplitude\n",
    "        t = t + 1\n",
    "Next_model = NEXT"
   ]
  },
  {
   "cell_type": "code",
   "execution_count": 27,
   "metadata": {},
   "outputs": [
    {
     "data": {
      "image/png": "[encoded data removed]",
      "text/plain": [
       "<Figure size 864x720 with 3 Axes>"
      ]
     },
     "metadata": {
      "needs_background": "light"
     },
     "output_type": "display_data"
    }
   ],
   "source": [
    "plot_result(t_hours,Next_model,Nint_model,m_model,Nint=Nint_mean_values, yerrNint=Nint_stdev_values ,tNint=Nint_times_reduced,m=m_mean_values, yerrm=m_stdev_values, tm=m_times_reduced,Next=Next_mean_values,yerrNext=Next_stdev_values, tNext=Next_times_reduced)"
   ]
  },
  {
   "cell_type": "code",
   "execution_count": 28,
   "metadata": {},
   "outputs": [
    {
     "name": "stdout",
     "output_type": "stream",
     "text": [
      "Model TRE (based on measured Nint and m): \n",
      " \n",
      "mass TRE: 1.5\n",
      "Nint TRE: 1.4\n",
      "Next TRE: 139.2\n"
     ]
    }
   ],
   "source": [
    "# TRE = (100/n) * sqrt (sigma[1:m]((PVi-Si)/Si)^2)\n",
    "\n",
    "# where n is the number of measurements, Si is the measured values,and PVi is the predicted value\n",
    "\n",
    "#TRE m\n",
    "\n",
    "Sim, PVim, squere_error_m, trem = [], [], [], []\n",
    "nmt = len(m_times_all)\n",
    "nm = len(m_all)\n",
    "\n",
    "m_times_all_tup = np.array(m_times_all)\n",
    "t_model_tup = np.array(t_model)\n",
    "\n",
    "#print(nmt)\n",
    "#print(nm)\n",
    "# add a test - \n",
    "\n",
    "m_all_ind = np.linspace(0,nmt - 1,nmt)\n",
    "m_all_ind = np.array(m_all_ind, dtype='int')\n",
    "\n",
    "for i in m_all_ind:\n",
    "    if i < 1 or m_times_all_tup[i] != m_times_all_tup[i-1]:\n",
    "        j = m_times_all_tup[i]\n",
    "        while j >= len(m_model):\n",
    "            #m_model.append(m_model[-1])\n",
    "            m_model = np.append(m_model,m_model[-1])\n",
    "            #print(len(m_model))\n",
    "    PVim.append(m_model[j])\n",
    "    Sim.append(m_all[i])\n",
    "    squere_error_m = ((PVim[-1] - Sim[-1]) / Sim[-1]) ** 2\n",
    "    #if squere_error_m.size > 0:\n",
    "    #trem.append(squere_error_m)\n",
    "    trem.append(((PVim[-1] - Sim[-1]) / Sim[-1]) ** 2)\n",
    "    #print(j,i)\n",
    "    #print(PVim[-1])\n",
    "    #print(Sim[-1])\n",
    "    #print(squere_error_m, '\\n')\n",
    "\n",
    "TREm = round((100/nm * (sum(trem) ** 0.5)),1)\n",
    "\n",
    "#TRE Nint\n",
    "\n",
    "SiNint, PViNint, squere_error_Nint, treNint = [], [], [], []\n",
    "\n",
    "nNintt = len(Nint_times_all)\n",
    "nNint = len(Nint_all)\n",
    "\n",
    "Nint_times_all_tup = np.array(Nint_times_all)\n",
    "t_model_tup = np.array(t_model)\n",
    "\n",
    "#print(nmt)\n",
    "#print(nm)\n",
    "# add a test - \n",
    "\n",
    "Nint_all_ind = np.linspace(0,nNintt - 1,nNintt)\n",
    "Nint_all_ind = np.array(Nint_all_ind, dtype='int')\n",
    "\n",
    "for i in Nint_all_ind:\n",
    "    if i < 1 or Nint_times_all_tup[i] != Nint_times_all_tup[i-1]:\n",
    "        j = Nint_times_all_tup[i]\n",
    "        while j >= len(Nint_model):\n",
    "            #Nint_model.append(Nint_model[-1])\n",
    "            Nint_model = np.append(Nint_model,Nint_model[-1])\n",
    "            #print(len(Nint_model))\n",
    "    PViNint.append(Nint_model[j])\n",
    "    SiNint.append(Nint_all[i])\n",
    "    squere_error_Nint = ((PViNint[-1] - SiNint[-1]) / SiNint[-1]) ** 2\n",
    "    #if squere_error_Nint.size > 0:\n",
    "    treNint.append(((PViNint[-1] - SiNint[-1]) / SiNint[-1]) ** 2)\n",
    "    #print(j,i)\n",
    "    #print(PVim[-1])\n",
    "    #print(Sim[-1])\n",
    "    #print(squere_error_m, '\\n')\n",
    "\n",
    "TRENint = round((100/nNint * (sum(treNint) ** 0.5)),1)\n",
    "\n",
    "#TRE Next\n",
    "\n",
    "SiNext, PViNext, squere_error_Next, treNext = [], [], [], []\n",
    "\n",
    "nNextt = len(Next_times_all)\n",
    "nNext = len(Next_all)\n",
    "\n",
    "Next_times_all_tup = np.array(Next_times_all)\n",
    "t_model_tup = np.array(t_model)\n",
    "\n",
    "#print(nmt)\n",
    "#print(nm)\n",
    "# add a test - \n",
    "\n",
    "Next_all_ind = np.linspace(0,nNextt - 1,nNextt)\n",
    "Next_all_ind = np.array(Next_all_ind, dtype='int')\n",
    "\n",
    "for i in Next_all_ind:\n",
    "    if i < 1 or Next_times_all_tup[i] != Next_times_all_tup[i-1]:\n",
    "        j = Next_times_all_tup[i]\n",
    "        while j >= len(Next_model):\n",
    "            Next_model.append(Next_model[-1])\n",
    "            #print(len(Next_model))\n",
    "    PViNext.append(Next_model[j])\n",
    "    SiNext.append(Next_all[i])\n",
    "    squere_error_Next = ((PViNext[-1] - SiNext[-1]) / SiNext[-1]) ** 2\n",
    "    #if squere_error_Next.size > 0:\n",
    "    treNext.append(((PViNext[-1] - SiNext[-1]) / SiNext[-1]) ** 2)\n",
    "    #print(j,i)\n",
    "    #print(PViNext[-1])\n",
    "    #print(SiNext[-1])\n",
    "    #print(squere_error_Next, '\\n')\n",
    "\n",
    "\n",
    "TRENext = round((100/nNext * (sum(treNext) ** 0.5)),1)\n",
    "#print(treNext)\n",
    "print(\"Model TRE (based on measured Nint and m): \\n \")\n",
    "print(\"mass TRE: \" + str(TREm))\n",
    "print(\"Nint TRE: \" + str(TRENint))\n",
    "print(\"Next TRE: \" + str(TRENext))"
   ]
  },
  {
   "cell_type": "raw",
   "metadata": {},
   "source": [
    "# Adjust!\n",
    "\n",
    "# TRE = (100/n) * sqrt (sigma[1:m]((Si-PVi)/PVi)^2)\n",
    "\n",
    "# where n is the number of measurements, Si is the measured values,and PVi is the predicted value\n",
    "\n",
    "\n",
    "Sim, PVim, squere_error_m, trem = [], [], [], []\n",
    "nmt = len(m_times_all)\n",
    "nm = len(m_all)\n",
    "\n",
    "m_times_all_tup = np.array(m_times_all)\n",
    "t_model_tup = np.array(t_model)\n",
    "\n",
    "print(nmt)\n",
    "print(nm)\n",
    "# add a test - nm == nmt?\n",
    "\n",
    "m_all_ind = np.linspace(0,nmt - 1,nmt)\n",
    "m_all_ind = np.array(m_all_ind, dtype='int')\n",
    "\n",
    "for i in m_all_ind:\n",
    "    if i < 1 or m_times_all_tup[i] != m_times_all_tup[i-1]:\n",
    "        j = m_times_all_tup[i]\n",
    "    PVim.append(m_model[j])\n",
    "    Sim.append(m_all[i])\n",
    "    squere_error_m = ((Sim[-1] - PVim[-1]) / PVim[-1]) ** 2\n",
    "    if squere_error_m.size > 0:\n",
    "        trem.append(squere_error_m)\n",
    "    #print(j,i)\n",
    "    #print(PVim[-1])\n",
    "    #print(Sim[-1])\n",
    "    #print(squere_error_m, '\\n')\n",
    "\n",
    "TREm = (100/nm) * (sum(trem)) ** 0.5\n",
    "print(\"mass TRE: \" + str(TREm))"
   ]
  },
  {
   "cell_type": "code",
   "execution_count": 31,
   "metadata": {},
   "outputs": [
    {
     "name": "stdout",
     "output_type": "stream",
     "text": [
      "Leftover external N [umol/l]:         Decrease in external N [umol/l]:         Decrease in external N [g N/l]:\n",
      "\n",
      "\n",
      "0\n",
      "Period 1:   17                          482.17                               0.0068\n",
      "1\n",
      "Period 2:   6                          493.18                               0.0069\n",
      "2\n",
      "Period 3:   16                          483.08                               0.0068\n",
      "3\n",
      "Period 4:   29                          470.66                               0.0066\n",
      "4\n",
      "Period 5:   20                          479.46                               0.0067\n",
      "5\n",
      "Period 6:   37                          462.79                               0.0065\n",
      "\n",
      "Accumulated m [g FW/l]:          Added m [g DW/l]:    Internal N [% g N/g DW]:    Added N [g N / l]:  Added N gap [g N /l]: \n",
      "\n",
      "\n",
      "Week 1:   0.45                          0.3                  1.74                         0.0078              0.0059\n",
      "Week 2:   0.38                          0.23                  2.22                         0.0084              0.005\n",
      "Week 3:   0.36                          0.21                  2.73                         0.0098              0.0034\n",
      "\n",
      "percent of N which entered biomass in each week is:[0.57, 0.63, 0.74]\n"
     ]
    }
   ],
   "source": [
    "Next_leftover, Next_decrease, NEXT_decrease_g, m_accumulated, m_added, ADDED_N_gap_per = [],[],[],[], [], []\n",
    "\n",
    "print(\"Leftover external N [umol/l]:         Decrease in external N [umol/l]:         Decrease in external N [g N/l]:\\n\\n\")\n",
    "for i in range(len(Period_times)):\n",
    "    print(i)\n",
    "    if i + 2 == len(Period_times):\n",
    "        min_Next = round(min(Next_interp[range(Period_times[i],len(Next_interp))]),2) \n",
    "        Next_leftover.append(min_Next)\n",
    "        Next_decrease.append(round(Amplitude - min_Next,2))\n",
    "        Next_decrease_g = 14e-6 * (Amplitude - min_Next)\n",
    "        NEXT_decrease_g.append(round(Next_decrease_g,4))\n",
    "        print(\"Period \" + str(i+1) + \":   \" + str(int(min_Next)) + \"                          \" + str(Next_decrease[i])+ \"                               \" + str(NEXT_decrease_g[i]))\n",
    "        break\n",
    "    else:\n",
    "        min_Next = round(min(Next_interp[range(Period_times[i],Period_times[i+1])]),2)\n",
    "        Next_leftover.append(min_Next)\n",
    "        Next_decrease.append(round(Amplitude - min_Next,2))\n",
    "        Next_decrease_g = 14e-6 * (Amplitude - min_Next)\n",
    "        NEXT_decrease_g.append(round(Next_decrease_g,4))\n",
    "        print(\"Period \" + str(i+1) + \":   \" + str(int(min_Next)) + \"                          \" + str(Next_decrease[i])+ \"                               \" + str(NEXT_decrease_g[i]))\n",
    "\n",
    "print(\"\\nAccumulated m [g FW/l]:          Added m [g DW/l]:    Internal N [% g N/g DW]:    Added N [g N / l]:  Added N gap [g N /l]: \\n\\n\")\n",
    "for i in range(len(Duration_times)):\n",
    "    if i + 2 == len(Duration_times):\n",
    "        m_max = round(max(m_interp[range(Duration_times[i],len(m_interp))]),2)\n",
    "        index_m_max = Duration_times[i] + np.argmax(m_interp[range(Duration_times[i],len(m_interp))])\n",
    "        Nint_m_max = round(Nint_interp[index_m_max],2)\n",
    "        Added_N = round(0.01 * Nint_m_max * m_max,4)\n",
    "        Added_N_gap = round(NEXT_decrease_g[int(Duration/Period)*i+1] + NEXT_decrease_g[int(Duration/Period)*i]- Added_N,4)\n",
    "        Added_N_gap_per = Added_N / (NEXT_decrease_g[int(Duration/Period)*i+1] + NEXT_decrease_g[int(Duration/Period)*i])\n",
    "        ADDED_N_gap_per.append(round(Added_N_gap_per,2))\n",
    "        m_accumulated.append(round(m_max,2))\n",
    "        m_added.append(round(m_max - m0,2))\n",
    "        print(\"Week \" + str(i+1) + \":   \" + str(round(m_max,2)) + \"                          \" + str(m_added[i]) + \"                  \" + str(Nint_m_max) + \"                         \" + str(Added_N) + \"              \" + str(Added_N_gap))\n",
    "        break\n",
    "    else:\n",
    "        m_max = round(max(m_interp[range(Duration_times[i],Duration_times[i+1])]),2)\n",
    "        index_m_max = Duration_times[i] + np.argmax(m_interp[range(Duration_times[i],len(m_interp))])\n",
    "        Nint_m_max = round(Nint_interp[index_m_max],2)\n",
    "        Added_N = round(0.01 * Nint_m_max * m_max,4)\n",
    "        Added_N_gap = round(NEXT_decrease_g[int(Duration/Period)*i+1] + NEXT_decrease_g[int(Duration/Period)*i]- Added_N,4) #need to generalize\n",
    "        Added_N_gap_per = Added_N / (NEXT_decrease_g[int(Duration/Period)*i+1] + NEXT_decrease_g[int(Duration/Period)*i])\n",
    "        ADDED_N_gap_per.append(round(Added_N_gap_per,2))\n",
    "        m_accumulated.append(round(m_max,2))\n",
    "        m_added.append(round(m_max - round(m0,2),2))\n",
    "        print(\"Week \" + str(i+1) + \":   \" + str(m_max) + \"                          \" + str(m_added[i])  + \"                  \" + str(Nint_m_max) + \"                         \" + str(Added_N) + \"              \" + str(Added_N_gap))\n",
    "        \n",
    "    \n",
    "print(\"\\npercent of N which entered biomass in each week is:\" + str(ADDED_N_gap_per))"
   ]
  },
  {
   "cell_type": "code",
   "execution_count": null,
   "metadata": {},
   "outputs": [],
   "source": []
  }
 ],
 "metadata": {
  "colab": {
   "collapsed_sections": [],
   "name": "Meiron_closed_system_simulation.ipynb",
   "provenance": [
    {
     "file_id": "1uKvJsJ-_1-aLrYIrSnGQNnOsG9l8ysjY",
     "timestamp": 1561926275385
    }
   ],
   "version": "0.3.2"
  },
  "kernel_info": {
   "name": "python3"
  },
  "kernelspec": {
   "display_name": "Python 3",
   "language": "python",
   "name": "python3"
  },
  "language_info": {
   "codemirror_mode": {
    "name": "ipython",
    "version": 3
   },
   "file_extension": ".py",
   "mimetype": "text/x-python",
   "name": "python",
   "nbconvert_exporter": "python",
   "pygments_lexer": "ipython3",
   "version": "3.7.3"
  },
  "nteract": {
   "version": "0.15.0"
  }
 },
 "nbformat": 4,
 "nbformat_minor": 1
}
