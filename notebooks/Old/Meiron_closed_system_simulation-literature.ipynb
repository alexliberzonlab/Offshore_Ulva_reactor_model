{
 "cells": [
  {
   "cell_type": "markdown",
   "metadata": {
    "colab_type": "text",
    "id": "raGTYa1h4iD_"
   },
   "source": [
    "# Closed system simulation with experimental data markers\n",
    "\n",
    "In this simulation we have a system of 5 liters in which we start with Next = 1000, some Nint (measured) of some mass (m). After this we \"feed\" for a period of 3.5 days, i.e. solve the \"feeding\" part of the simulation. After that, we add 1000 uM to the last value of Next and keep \"feeding\". After one duration (7 days) we reset the water, mass and the amplitude to the beginning of the first cycle. The only difference from the t_0 is the Nint which is accumulating all the effects through the time. The mass is reset to m_0 and Next is reset to 1000 ppm (per something per something)\n"
   ]
  },
  {
   "cell_type": "code",
   "execution_count": 1,
   "metadata": {
    "colab": {},
    "colab_type": "code",
    "id": "yUfAvi3l4iEA"
   },
   "outputs": [],
   "source": [
    "# N_simulation\n",
    "from __future__ import division\n",
    "import numpy as np\n",
    "from scipy.integrate import odeint\n",
    "from matplotlib.pylab import *\n",
    "import matplotlib.pyplot as plt\n",
    "import pandas as pd # to read excel\n",
    "%matplotlib inline\n",
    "\n",
    "# from datetime import datetime"
   ]
  },
  {
   "cell_type": "code",
   "execution_count": 2,
   "metadata": {
    "colab": {},
    "colab_type": "code",
    "id": "wWAzXnis4iEG",
    "inputHidden": false,
    "outputHidden": false
   },
   "outputs": [],
   "source": [
    "# During feeding we have N_ext concentration and it changes due to growth for some time\n",
    "def N_feeding(x,t):\n",
    "    \"\"\" See powerpoint with the formulae \n",
    "    During feeding we supply an initially high Next and let the algae to consume it \n",
    "    \"\"\"\n",
    "    Next = x[0] # units: [umol N/l]\n",
    "    Nint = x[1] # units: [% g N/g DW]\n",
    "    m = x[2] # units: [g DW/l]\n",
    "    Neff = (Nintmax - Nint)/(Nintmax - Nintmin) # units: [-]\n",
    "    uN = Vmax * Next / (KN + Next) # units: [umol N/g DW/h]\n",
    "    fN = (Nint - Nintmin)/(Ks + (Nint - Nintmin)) # units: [-]\n",
    "    fD =  Kd**2/(Kd**2+m**2) #test - density effect\n",
    "    umol_to_percent_DW = 100*14e-6 #[% g N/umol N] \n",
    "    dNextdt = -Neff * uN * m - dNextoutdt + dNextindt # units: [umol N/l/h]\n",
    "    dNintdt = umol_to_percent_DW * Neff * uN - Nint * miu * fN #units: [%g N/g DW/h]\n",
    "    dmdt = miu * fN * m - dmoutdt #units: [g DW/l/h]\n",
    "    \n",
    "    return [dNextdt,dNintdt,dmdt]\n",
    "\n",
    "def N_growing(x,t):\n",
    "    \"\"\" See powerpoint with the formulae \n",
    "    ! we assume during growing that there is Next = 0 \n",
    "    \"\"\"\n",
    "    Next = 0 # units: [umol N/l]\n",
    "    Nint = x[1] # units: [% g N/g DW]\n",
    "    m = x[2] # units: [g DW/l]\n",
    "    Neff = (Nintmax - Nint)/(Nintmax - Nintmin) # units: [-]\n",
    "    uN = Vmax * Next / (KN + Next) # units: [umol N/g DW/h]\n",
    "    fN = (Nint - Nintmin)/(Ks + (Nint - Nintmin)) # units: [-]\n",
    "    umol_to_percent_DW = 100*14e-6 #[% g N/umol N] \n",
    "    dNextdt = 0\n",
    "    dNintdt = umol_to_percent_DW * Neff * uN - Nint * miu * fN #units: [%g N/g DW/h]\n",
    "    dmdt = miu * fN * m - dmoutdt #units: [g DW/l/h]\n",
    "    \n",
    "    return [dNextdt,dNintdt,dmdt]\n",
    "\n",
    "def plot_result(t_model,Next_model,Nint_model,m_model,Nint=None,tNint=None,m=None,tm=None,Next=None,tNext=None):\n",
    "    \"\"\" Plot time series of the results \"\"\"\n",
    "    fig,ax = plt.subplots(3,1,sharex=True,figsize=(12,10))\n",
    "    ax[0].plot(t_model,Next_model,'r.--')\n",
    "    if Next is not None:\n",
    "        ax[0].plot(tNext[::],Next[::],'s')\n",
    "    ax[0].set_ylabel('Next \\n [umol / l]')\n",
    "    # plt.axis([0, 180, 0, 430])\n",
    "    ax[1].plot(t_model,Nint_model,'gx--')\n",
    "    ax[1].set_ylabel('Nint \\n [% g N / g DW]')\n",
    "    if Nint is not None:\n",
    "        ax[1].plot(tNint[::],Nint[::],'s')\n",
    "    # plt.axis([0, 180, 2.0, 4.0])\n",
    "    ax[2].plot(t_model,m_model,'b+--')\n",
    "    ax[2].set_xlabel('time [hours]')\n",
    "    if m is not None:\n",
    "        ax[2].plot(tm[::],m[::],'s')\n",
    "    ax[2].set_ylabel('m \\n [g DW / l]')\n",
    "    # plt.axis([0, 1, 0.03, 0.3])\n",
    "    # plt.axis([0, 180, 0.03, 0.3])\n",
    "    # plot_result(np.hstack(T),np.hstack(NEXT),np.hstack(NINT),np.hstack(M))\n",
    "    # ax[0].plot(df.iloc[:][1::2],df.iloc[:][2::2],'--s')\n"
   ]
  },
  {
   "cell_type": "markdown",
   "metadata": {
    "colab_type": "text",
    "id": "nMvBrGOH_qy7"
   },
   "source": [
    "## Read the inputs file, model parameters\n"
   ]
  },
  {
   "cell_type": "code",
   "execution_count": 3,
   "metadata": {
    "colab": {
     "base_uri": "https://localhost:8080/",
     "height": 277
    },
    "colab_type": "code",
    "executionInfo": {
     "elapsed": 62295,
     "status": "ok",
     "timestamp": 1565466545086,
     "user": {
      "displayName": "Meiron Zollmann",
      "photoUrl": "",
      "userId": "18114482091462006341"
     },
     "user_tz": -180
    },
    "id": "d4VzbZ484iED",
    "inputHidden": false,
    "outputHidden": false,
    "outputId": "6d76a9eb-17b9-400c-de1d-c0cec8fc215c"
   },
   "outputs": [
    {
     "name": "stdout",
     "output_type": "stream",
     "text": [
      "dNextoutdt 0.0\n",
      "dNextindt 0.0\n",
      "dmoutdt 0.0\n",
      "miu 0.016666666666666666\n",
      "Nintmax 4.75\n",
      "Nintmin 1.0\n",
      "Ks 3.0\n",
      "KN 31.0\n",
      "Vmax 340.0\n",
      "Next0 0.0\n",
      "Nint0 4.42\n",
      "m0 0.15\n",
      "Amplitude 0.0\n",
      "Duration 21.0\n",
      "Period 3.5\n",
      "Kd 0.4\n",
      "Nintcrit 3.0\n"
     ]
    }
   ],
   "source": [
    "xl = pd.ExcelFile('../data/input_format.xlsx')\n",
    "\n",
    "df1 = xl.parse('Parameters_Liu_&_Dong',header=None)\n",
    "df2 = xl.parse('Data_Liu_&_Dong')#header=None)\n",
    "\n",
    "\n",
    "# which parameters? and values we read? if you want to print, uncomment:\n",
    "# print(df.iloc[:][0],df.iloc[:][1])\n",
    "\n",
    "# assigmment of parameters to values: \n",
    "for key,val in zip(df1.iloc[:][0],df1.iloc[:][1]):\n",
    "    exec(key + '=val')\n",
    "    print(key,val)"
   ]
  },
  {
   "cell_type": "code",
   "execution_count": 4,
   "metadata": {},
   "outputs": [
    {
     "data": {
      "text/html": [
       "<div>\n",
       "<style scoped>\n",
       "    .dataframe tbody tr th:only-of-type {\n",
       "        vertical-align: middle;\n",
       "    }\n",
       "\n",
       "    .dataframe tbody tr th {\n",
       "        vertical-align: top;\n",
       "    }\n",
       "\n",
       "    .dataframe thead th {\n",
       "        text-align: right;\n",
       "    }\n",
       "</style>\n",
       "<table border=\"1\" class=\"dataframe\">\n",
       "  <thead>\n",
       "    <tr style=\"text-align: right;\">\n",
       "      <th></th>\n",
       "      <th>day i</th>\n",
       "      <th>day f</th>\n",
       "      <th>sleeve</th>\n",
       "      <th>parameter</th>\n",
       "      <th>Unnamed: 4</th>\n",
       "      <th>Unnamed: 5</th>\n",
       "      <th>Unnamed: 6</th>\n",
       "      <th>Unnamed: 7</th>\n",
       "      <th>Unnamed: 8</th>\n",
       "    </tr>\n",
       "  </thead>\n",
       "  <tbody>\n",
       "    <tr>\n",
       "      <th>0</th>\n",
       "      <td>22.07.19</td>\n",
       "      <td>12.08.19</td>\n",
       "      <td>1.0</td>\n",
       "      <td>Time</td>\n",
       "      <td>NaN</td>\n",
       "      <td>NaN</td>\n",
       "      <td>NaN</td>\n",
       "      <td>NaN</td>\n",
       "      <td>NaN</td>\n",
       "    </tr>\n",
       "    <tr>\n",
       "      <th>1</th>\n",
       "      <td>NaN</td>\n",
       "      <td>NaN</td>\n",
       "      <td>NaN</td>\n",
       "      <td>Next</td>\n",
       "      <td>NaN</td>\n",
       "      <td>NaN</td>\n",
       "      <td>NaN</td>\n",
       "      <td>NaN</td>\n",
       "      <td>NaN</td>\n",
       "    </tr>\n",
       "    <tr>\n",
       "      <th>2</th>\n",
       "      <td>NaN</td>\n",
       "      <td>NaN</td>\n",
       "      <td>NaN</td>\n",
       "      <td>Time</td>\n",
       "      <td>22.07.19 15:00</td>\n",
       "      <td>26.07.19 15:00</td>\n",
       "      <td>31.07.19 15:00</td>\n",
       "      <td>05.08.19 15:00</td>\n",
       "      <td>10.08.19 15:00</td>\n",
       "    </tr>\n",
       "    <tr>\n",
       "      <th>3</th>\n",
       "      <td>NaN</td>\n",
       "      <td>NaN</td>\n",
       "      <td>NaN</td>\n",
       "      <td>Nint</td>\n",
       "      <td>4.42</td>\n",
       "      <td>3.12</td>\n",
       "      <td>2.04</td>\n",
       "      <td>1.66</td>\n",
       "      <td>1.29</td>\n",
       "    </tr>\n",
       "    <tr>\n",
       "      <th>4</th>\n",
       "      <td>NaN</td>\n",
       "      <td>NaN</td>\n",
       "      <td>NaN</td>\n",
       "      <td>Time</td>\n",
       "      <td>22.07.19 15:00</td>\n",
       "      <td>26.07.19 15:00</td>\n",
       "      <td>31.07.19 15:00</td>\n",
       "      <td>05.08.19 15:00</td>\n",
       "      <td>10.08.19 15:00</td>\n",
       "    </tr>\n",
       "  </tbody>\n",
       "</table>\n",
       "</div>"
      ],
      "text/plain": [
       "      day i     day f  sleeve parameter      Unnamed: 4      Unnamed: 5  \\\n",
       "0  22.07.19  12.08.19     1.0      Time             NaN             NaN   \n",
       "1       NaN       NaN     NaN      Next             NaN             NaN   \n",
       "2       NaN       NaN     NaN      Time  22.07.19 15:00  26.07.19 15:00   \n",
       "3       NaN       NaN     NaN      Nint            4.42            3.12   \n",
       "4       NaN       NaN     NaN      Time  22.07.19 15:00  26.07.19 15:00   \n",
       "\n",
       "       Unnamed: 6      Unnamed: 7      Unnamed: 8  \n",
       "0             NaN             NaN             NaN  \n",
       "1             NaN             NaN             NaN  \n",
       "2  31.07.19 15:00  05.08.19 15:00  10.08.19 15:00  \n",
       "3            2.04            1.66            1.29  \n",
       "4  31.07.19 15:00  05.08.19 15:00  10.08.19 15:00  "
      ]
     },
     "execution_count": 4,
     "metadata": {},
     "output_type": "execute_result"
    }
   ],
   "source": [
    "df2.head()"
   ]
  },
  {
   "cell_type": "code",
   "execution_count": 5,
   "metadata": {},
   "outputs": [
    {
     "data": {
      "text/html": [
       "<div>\n",
       "<style scoped>\n",
       "    .dataframe tbody tr th:only-of-type {\n",
       "        vertical-align: middle;\n",
       "    }\n",
       "\n",
       "    .dataframe tbody tr th {\n",
       "        vertical-align: top;\n",
       "    }\n",
       "\n",
       "    .dataframe thead th {\n",
       "        text-align: right;\n",
       "    }\n",
       "</style>\n",
       "<table border=\"1\" class=\"dataframe\">\n",
       "  <thead>\n",
       "    <tr style=\"text-align: right;\">\n",
       "      <th></th>\n",
       "      <th>day i</th>\n",
       "      <th>day f</th>\n",
       "      <th>sleeve</th>\n",
       "      <th>parameter</th>\n",
       "      <th>Unnamed: 4</th>\n",
       "      <th>Unnamed: 5</th>\n",
       "      <th>Unnamed: 6</th>\n",
       "      <th>Unnamed: 7</th>\n",
       "      <th>Unnamed: 8</th>\n",
       "    </tr>\n",
       "  </thead>\n",
       "  <tbody>\n",
       "    <tr>\n",
       "      <th>1</th>\n",
       "      <td>NaN</td>\n",
       "      <td>NaN</td>\n",
       "      <td>NaN</td>\n",
       "      <td>Next</td>\n",
       "      <td>NaN</td>\n",
       "      <td>NaN</td>\n",
       "      <td>NaN</td>\n",
       "      <td>NaN</td>\n",
       "      <td>NaN</td>\n",
       "    </tr>\n",
       "    <tr>\n",
       "      <th>2</th>\n",
       "      <td>NaN</td>\n",
       "      <td>NaN</td>\n",
       "      <td>NaN</td>\n",
       "      <td>Time</td>\n",
       "      <td>22.07.19 15:00</td>\n",
       "      <td>26.07.19 15:00</td>\n",
       "      <td>31.07.19 15:00</td>\n",
       "      <td>05.08.19 15:00</td>\n",
       "      <td>10.08.19 15:00</td>\n",
       "    </tr>\n",
       "    <tr>\n",
       "      <th>3</th>\n",
       "      <td>NaN</td>\n",
       "      <td>NaN</td>\n",
       "      <td>NaN</td>\n",
       "      <td>Nint</td>\n",
       "      <td>4.42</td>\n",
       "      <td>3.12</td>\n",
       "      <td>2.04</td>\n",
       "      <td>1.66</td>\n",
       "      <td>1.29</td>\n",
       "    </tr>\n",
       "    <tr>\n",
       "      <th>4</th>\n",
       "      <td>NaN</td>\n",
       "      <td>NaN</td>\n",
       "      <td>NaN</td>\n",
       "      <td>Time</td>\n",
       "      <td>22.07.19 15:00</td>\n",
       "      <td>26.07.19 15:00</td>\n",
       "      <td>31.07.19 15:00</td>\n",
       "      <td>05.08.19 15:00</td>\n",
       "      <td>10.08.19 15:00</td>\n",
       "    </tr>\n",
       "    <tr>\n",
       "      <th>5</th>\n",
       "      <td>NaN</td>\n",
       "      <td>NaN</td>\n",
       "      <td>NaN</td>\n",
       "      <td>m</td>\n",
       "      <td>0.15</td>\n",
       "      <td>0.26471</td>\n",
       "      <td>0.437526</td>\n",
       "      <td>0.56744</td>\n",
       "      <td>0.598027</td>\n",
       "    </tr>\n",
       "  </tbody>\n",
       "</table>\n",
       "</div>"
      ],
      "text/plain": [
       "  day i day f  sleeve parameter      Unnamed: 4      Unnamed: 5  \\\n",
       "1   NaN   NaN     NaN      Next             NaN             NaN   \n",
       "2   NaN   NaN     NaN      Time  22.07.19 15:00  26.07.19 15:00   \n",
       "3   NaN   NaN     NaN      Nint            4.42            3.12   \n",
       "4   NaN   NaN     NaN      Time  22.07.19 15:00  26.07.19 15:00   \n",
       "5   NaN   NaN     NaN         m            0.15         0.26471   \n",
       "\n",
       "       Unnamed: 6      Unnamed: 7      Unnamed: 8  \n",
       "1             NaN             NaN             NaN  \n",
       "2  31.07.19 15:00  05.08.19 15:00  10.08.19 15:00  \n",
       "3            2.04            1.66            1.29  \n",
       "4  31.07.19 15:00  05.08.19 15:00  10.08.19 15:00  \n",
       "5        0.437526         0.56744        0.598027  "
      ]
     },
     "execution_count": 5,
     "metadata": {},
     "output_type": "execute_result"
    }
   ],
   "source": [
    "df2.tail()"
   ]
  },
  {
   "cell_type": "code",
   "execution_count": 6,
   "metadata": {},
   "outputs": [
    {
     "name": "stdout",
     "output_type": "stream",
     "text": [
      "N of experiments = 1\n"
     ]
    }
   ],
   "source": [
    "# find out how many experiments are in the file\n",
    "n_exp = df2['day i'].dropna().shape[0] # number of items that have day i property and not NaN\n",
    "\n",
    "# it should be equal to the number of day f - just for a test. will pop an error if the file is corrupted\n",
    "assert (n_exp == df2['day f'].dropna().shape[0])\n",
    "\n",
    "print('N of experiments = {}'.format(n_exp))"
   ]
  },
  {
   "cell_type": "code",
   "execution_count": 7,
   "metadata": {},
   "outputs": [
    {
     "data": {
      "text/plain": [
       "0    b'22.07.19'\n",
       "Name: day i, dtype: bytes64"
      ]
     },
     "execution_count": 7,
     "metadata": {},
     "output_type": "execute_result"
    }
   ],
   "source": [
    "day_i = df2['day i'].dropna()\n",
    "day_i.astype('S')"
   ]
  },
  {
   "cell_type": "code",
   "execution_count": 8,
   "metadata": {},
   "outputs": [
    {
     "name": "stdout",
     "output_type": "stream",
     "text": [
      "sleeve 1\n"
     ]
    }
   ],
   "source": [
    "# find out the sleeve number in each experiment\n",
    "sleeves = df2['sleeve'].dropna().astype(int)\n",
    "for s in sleeves:\n",
    "    print('sleeve {}'.format(s))"
   ]
  },
  {
   "cell_type": "code",
   "execution_count": 9,
   "metadata": {},
   "outputs": [
    {
     "name": "stdout",
     "output_type": "stream",
     "text": [
      "Int64Index([3], dtype='int64')\n"
     ]
    },
    {
     "data": {
      "text/plain": [
       "Unnamed: 4    4.42\n",
       "Unnamed: 5    3.12\n",
       "Unnamed: 6    2.04\n",
       "Unnamed: 7    1.66\n",
       "Unnamed: 8    1.29\n",
       "Name: 3, dtype: object"
      ]
     },
     "execution_count": 9,
     "metadata": {},
     "output_type": "execute_result"
    }
   ],
   "source": [
    "ind_Nint = df2.index[df2['parameter'] == 'Nint'] # find index of the Nint rows\n",
    "print(ind_Nint) # print it for the reference, these are rows 2, 6 and 10\n",
    "\n",
    "# small test\n",
    "assert(len(ind_Nint) == n_exp) # if we found less Nint than experiments, then something is wrong\n",
    "\n",
    "\n",
    "df2.iloc[ind_Nint[0],4:].dropna() # take the 2nd element of that index, i.e. 2nd experiment and show the data:"
   ]
  },
  {
   "cell_type": "code",
   "execution_count": 10,
   "metadata": {},
   "outputs": [
    {
     "name": "stdout",
     "output_type": "stream",
     "text": [
      "Series([], Name: 0, dtype: datetime64[ns])\n"
     ]
    }
   ],
   "source": [
    "ind_Next = df2.index[df2['parameter'] == 'Next'] # find index of the Next \n",
    "Next_measurement_times = pd.to_datetime(df2.iloc[ind_Next[0]-1,4:].dropna(),dayfirst=True)\n",
    "print(Next_measurement_times)"
   ]
  },
  {
   "cell_type": "code",
   "execution_count": 11,
   "metadata": {},
   "outputs": [
    {
     "name": "stderr",
     "output_type": "stream",
     "text": [
      "No handles with labels found to put in legend.\n"
     ]
    },
    {
     "data": {
      "image/png": "[encoded data removed]",
      "text/plain": [
       "<Figure size 864x720 with 1 Axes>"
      ]
     },
     "metadata": {
      "needs_background": "light"
     },
     "output_type": "display_data"
    }
   ],
   "source": [
    "# plot all sleeves data\n",
    "ind_m = df2.index[df2['parameter'] == 'm'] # find index of the mass was measured (this is the only data available so far)\n",
    "# small test\n",
    "assert(len(ind_m) == n_exp) # if we found less Nint than experiments, then something is wrong\n",
    "\n",
    "\n",
    "fig,ax = plt.subplots(figsize=(12,10))\n",
    "\n",
    "plt.legend()\n",
    "plt.xlabel('Time')\n",
    "plt.ylabel('mass');\n",
    "\n",
    "m_all, m_times_all, Nint_all, Nint_times_all, Next_all, Next_times_all = [], [], [], [], [], []\n",
    "\n",
    "for counter,value in enumerate(ind_m):\n",
    "    m = df2.iloc[value,4:]\n",
    "    val = []\n",
    "    for number in m:\n",
    "        a=~np.isnan(number)\n",
    "        val.append(a)\n",
    "    m = df2.iloc[value,4:][val] #'value' gives row number, '4:' goes column by column starting at 4.\n",
    "    m_measurement_times = pd.to_datetime(df2.iloc[value-1,4:][val],dayfirst=True)\n",
    "    hours = pd.Series((m_measurement_times - m_measurement_times[0]).astype('timedelta64[h]'))\n",
    "    label = '{} sleeve{:d}'.format(day_i.iloc[counter],sleeves.iloc[counter])\n",
    "    # print(counter, label)\n",
    "    ax.plot(hours,m,':o',label=label,lw=2)\n",
    "    \n",
    "    for sample in m:\n",
    "        m_all.append(sample)\n",
    "    \n",
    "    for h in hours:\n",
    "        m_times_all.append(h)\n",
    "        \n",
    "ax.legend()\n",
    "ax.set_xlabel('Time (hours)')\n",
    "ax.set_ylabel('mass (g DW / l)');"
   ]
  },
  {
   "cell_type": "code",
   "execution_count": 12,
   "metadata": {},
   "outputs": [
    {
     "name": "stderr",
     "output_type": "stream",
     "text": [
      "No handles with labels found to put in legend.\n"
     ]
    },
    {
     "data": {
      "image/png": "[encoded data removed]",
      "text/plain": [
       "<Figure size 864x720 with 1 Axes>"
      ]
     },
     "metadata": {
      "needs_background": "light"
     },
     "output_type": "display_data"
    }
   ],
   "source": [
    "# plot all sleeves data\n",
    "ind_Nint = df2.index[df2['parameter'] == 'Nint'] # find index of the mass was measured (this is the only data available so far)\n",
    "# small test\n",
    "assert(len(ind_Nint) == n_exp) # if we found less Nint than experiments, then something is wrong\n",
    "\n",
    "fig,ax = plt.subplots(figsize=(12,10))\n",
    "\n",
    "plt.legend()\n",
    "plt.xlabel('Time')\n",
    "plt.ylabel('Nint');\n",
    "\n",
    "Nint_all, Nint_times_all = [], []\n",
    "for counter,value in enumerate(ind_Nint):\n",
    "    Nint = df2.iloc[value,4:] #'value' gives row number, '4:' goes column by column starting at 4.\n",
    "    val = []\n",
    "    for number in Nint:\n",
    "        a=~np.isnan(number)\n",
    "        val.append(a)\n",
    "    Nint = df2.iloc[value,4:][val]\n",
    "    Nint_measurement_times = pd.to_datetime(df2.iloc[value-1,4:],dayfirst=True)\n",
    "    hours = pd.Series((Nint_measurement_times - Nint_measurement_times[0])[val].astype('timedelta64[h]'))\n",
    "    label = '{} sleeve{:d}'.format(day_i.iloc[counter],sleeves.iloc[counter])\n",
    "    # print(counter, label)\n",
    "    ax.plot(hours,Nint,':o',label=label,lw=2)\n",
    "    \n",
    "    for sample in Nint:\n",
    "        Nint_all.append(sample)\n",
    "    \n",
    "    for h in hours:\n",
    "        Nint_times_all.append(h)\n",
    "        \n",
    "ax.legend()\n",
    "ax.set_xlabel('Time (hours)')\n",
    "ax.set_ylabel('Nint (% g N / g DW)');"
   ]
  },
  {
   "cell_type": "raw",
   "metadata": {},
   "source": [
    "# plot all sleeves data\n",
    "ind_Next = df2.index[df2['parameter'] == 'Next'] # find index of the mass was measured (this is the only data available so far)\n",
    "# small test\n",
    "assert(len(ind_Next) == n_exp) # if we found less Nint than experiments, then something is wrong\n",
    "\n",
    "fig,ax = plt.subplots(figsize=(12,10))\n",
    "\n",
    "plt.legend()\n",
    "plt.xlabel('Time')\n",
    "plt.ylabel('Next');\n",
    "\n",
    "Next_all, Next_times_all = [], []\n",
    "for counter,value in enumerate(ind_Next):\n",
    "    Next = df2.iloc[value,4:] #'value' gives row number, '4:' goes column by column starting at 4.\n",
    "    val = []\n",
    "    for number in Next:\n",
    "        a=~np.isnan(number)\n",
    "        val.append(a)\n",
    "    Next = df2.iloc[value,4:][val]\n",
    "    Next_measurement_times = pd.to_datetime(df2.iloc[value-1,4:],dayfirst=True)\n",
    "    hours = pd.Series((Next_measurement_times - Next_measurement_times[0])[val].astype('timedelta64[h]'))\n",
    "    label = '{} sleeve{:d}'.format(day_i.iloc[counter],sleeves.iloc[counter])\n",
    "    # print(counter, label)\n",
    "    ax.plot(hours,Next,':o',label=label,lw=2)\n",
    "    \n",
    "    for sample in Next:\n",
    "        Next_all.append(sample)\n",
    "    \n",
    "    for h in hours:\n",
    "        Next_times_all.append(h)\n",
    "        \n",
    "ax.legend()\n",
    "ax.set_xlabel('Time (hours)')\n",
    "ax.set_ylabel('Next (umol N / l)');"
   ]
  },
  {
   "cell_type": "raw",
   "metadata": {},
   "source": [
    "for counter,value in enumerate(ind_Next):\n",
    "    Next = df2.iloc[value,4:].dropna() #'value' gives row number, '4:' goes column by column starting at 4.\n",
    "    Next_measurement_times = pd.to_datetime(df2.iloc[value-1,4:].dropna(),dayfirst=True)\n",
    "    hours = pd.Series((Next_measurement_times - Next_measurement_times[0]).astype('timedelta64[h]'))\n",
    "    label = '{} sleeve{:d}'.format(day_i.iloc[counter],sleeves.iloc[counter])\n",
    "    # print(counter, label)\n",
    "    ax.plot(hours,Next,':o',label=label,lw=2)\n",
    "    \n",
    "    for sample in Next:\n",
    "        Next_all.append(sample)\n",
    "    \n",
    "    for h in hours:\n",
    "        Next_times_all.append(h)"
   ]
  },
  {
   "cell_type": "code",
   "execution_count": 13,
   "metadata": {
    "colab": {
     "base_uri": "https://localhost:8080/",
     "height": 225
    },
    "colab_type": "code",
    "executionInfo": {
     "elapsed": 64857,
     "status": "ok",
     "timestamp": 1565466547653,
     "user": {
      "displayName": "Meiron Zollmann",
      "photoUrl": "",
      "userId": "18114482091462006341"
     },
     "user_tz": -180
    },
    "id": "56GciWDw4iEJ",
    "outputId": "212b5b39-6e16-4e92-f9b3-4767f05cdf4a"
   },
   "outputs": [
    {
     "name": "stdout",
     "output_type": "stream",
     "text": [
      "0.0\n",
      "Starting point\n",
      "84.0\n",
      "Period\n",
      "168.0\n",
      "Period\n",
      "252.0\n",
      "Period\n",
      "336.0\n",
      "Period\n",
      "420.0\n",
      "Period\n"
     ]
    }
   ],
   "source": [
    "# now combine the two:\n",
    "# decide how many cycles you want, e.g. 10 days, with a daily feeding\n",
    "NEXT, NINT, M, T = [],[],[],[]\n",
    "\n",
    "n_days = Duration\n",
    "\n",
    "for hour in np.arange(0,n_days*24,Period*24):\n",
    "    print(hour)\n",
    "    \n",
    "    if hour == 0:\n",
    "        print('Starting point')\n",
    "        Nint_0 = Nint0\n",
    "        m_0 = m0\n",
    "        Next_0 = Amplitude\n",
    "    \n",
    "    if hour > 0 and np.mod(hour,Period*24) == 0:\n",
    "        if np.mod(hour,Duration*24) == 0:\n",
    "            print('Duration')\n",
    "            # reset everything, except Nint\n",
    "            Nint_0 = NINT[-1][-1]\n",
    "            Next_0 = Amplitude\n",
    "            m_0 = m0\n",
    "        else:    \n",
    "            # period passed, not Duration\n",
    "            # add amplitude, keep going \n",
    "            print('Period')\n",
    "            Next_0 = NEXT[-1][-1] + Amplitude\n",
    "            Nint_0 = NINT[-1][-1]\n",
    "            m_0 = M[-1][-1]\n",
    "\n",
    "        \n",
    "    # setup initial conditions\n",
    "    x0 = [Next_0,Nint_0,m_0]\n",
    "    \n",
    "    t = linspace(hour,hour+Period*24)\n",
    "    x = odeint(N_feeding,x0,t)\n",
    "\n",
    "    NEXT.append(x[: , 0])\n",
    "    NINT.append(x[: , 1])\n",
    "    M.append(x[: , 2])\n",
    "    T.append(t)\n",
    "    \n",
    "    t_model = np.hstack(T)\n",
    "    Next_model = np.hstack(NEXT)\n",
    "    Nint_model = np.hstack(NINT)\n",
    "    m_model = np.hstack(M)"
   ]
  },
  {
   "cell_type": "raw",
   "metadata": {
    "colab": {
     "base_uri": "https://localhost:8080/",
     "height": 815
    },
    "colab_type": "code",
    "executionInfo": {
     "elapsed": 64856,
     "status": "ok",
     "timestamp": 1565466547662,
     "user": {
      "displayName": "Meiron Zollmann",
      "photoUrl": "",
      "userId": "18114482091462006341"
     },
     "user_tz": -180
    },
    "id": "cSNxTEoU_qzH",
    "inputHidden": false,
    "outputHidden": false,
    "outputId": "e67ffaca-3d36-46a7-f444-d96c11cf0ee0"
   },
   "source": [
    "# Read the experimental data. if None, leave the excel file empty rows \n",
    "Next = None\n",
    "Nint = None\n",
    "m = None\n",
    "for i,key in enumerate(df2[0]):\n",
    "  exec(key + '=np.asarray(df2.iloc[i][1:],dtype=np.float)')\n",
    "\n",
    "print(Next, Nint, m)"
   ]
  },
  {
   "cell_type": "markdown",
   "metadata": {
    "colab_type": "text",
    "id": "QcYNkB9i_qzG"
   },
   "source": [
    "## Read the experimental data from the same file, second sheet"
   ]
  },
  {
   "cell_type": "code",
   "execution_count": 14,
   "metadata": {
    "colab": {
     "base_uri": "https://localhost:8080/",
     "height": 609
    },
    "colab_type": "code",
    "executionInfo": {
     "elapsed": 64853,
     "status": "ok",
     "timestamp": 1565466547664,
     "user": {
      "displayName": "Meiron Zollmann",
      "photoUrl": "",
      "userId": "18114482091462006341"
     },
     "user_tz": -180
    },
    "id": "Y3S108QvLvFG",
    "outputId": "ed4b6371-8942-42a8-c154-fee251ad0c0c"
   },
   "outputs": [
    {
     "data": {
      "image/png": "[encoded data removed]",
      "text/plain": [
       "<Figure size 864x720 with 3 Axes>"
      ]
     },
     "metadata": {
      "needs_background": "light"
     },
     "output_type": "display_data"
    }
   ],
   "source": [
    "plot_result(t_model,Next_model,Nint_model,m_model,Nint=Nint_all,tNint=Nint_times_all,m=m_all,tm=m_times_all,Next=Next_all,tNext=Next_times_all)"
   ]
  },
  {
   "cell_type": "code",
   "execution_count": 15,
   "metadata": {
    "inputHidden": false,
    "outputHidden": false
   },
   "outputs": [
    {
     "data": {
      "image/png": "[encoded data removed]",
      "text/plain": [
       "<Figure size 864x720 with 3 Axes>"
      ]
     },
     "metadata": {
      "needs_background": "light"
     },
     "output_type": "display_data"
    }
   ],
   "source": [
    "# New, manual plot, not a function.\n",
    "\n",
    "fig,ax = plt.subplots(3,1,sharex=True,figsize=(12,10))\n",
    "ax[0].plot(t_model,Next_model,'r.--')\n",
    "ax[0].set_ylabel('Next \\n [umol / l]')\n",
    "# plt.axis([0, 180, 0, 430])\n",
    "ax[1].plot(t_model,Nint_model,'gx--')\n",
    "ax[1].set_ylabel('Nint \\n [% g N / g DW]')\n",
    "\n",
    "ax[1].plot(t_model,Nint_model,'gx--')\n",
    "ax[1].set_ylabel('Nint \\n [% g N / g DW]')\n",
    "\n",
    "ax[2].plot(t_model,m_model,'b+--')\n",
    "ax[2].set_xlabel('time [hours]')\n",
    "ax[2].set_ylabel('m \\n [g DW / l]')\n",
    "    \n",
    "# fig,ax = plt.subplots(figsize=(12,10))\n",
    "\n",
    "# plt.legend()\n",
    "# plt.xlabel('Time')\n",
    "# plt.ylabel('mass');\n",
    "\n",
    "m_all, m_times_all = [], []\n",
    "\n",
    "for counter,value in enumerate(ind_m):\n",
    "    m = df2.iloc[value,4:].dropna()\n",
    "    m_measurement_times = pd.to_datetime(df2.iloc[value-1,4:].dropna(),dayfirst=True)\n",
    "    hours = pd.Series((m_measurement_times - m_measurement_times[0]).astype('timedelta64[h]'))\n",
    "    label = '{} sleeve{:d}'.format(day_i.iloc[counter],sleeves.iloc[counter])\n",
    "    # print(counter, label)\n",
    "    ax[2].plot(hours,m,':o',label=label,lw=1)\n",
    "    \n",
    "    for sample in m:\n",
    "        m_all.append(sample)\n",
    "    \n",
    "    for h in hours:\n",
    "        m_times_all.append(h)\n",
    "    \n",
    "    \n",
    "for _ in ax:\n",
    "    box = _.get_position()\n",
    "    _.set_position([box.x0, box.y0, box.width * 0.8, box.height])\n",
    "\n",
    "# Put a legend to the right of the current axis\n",
    "ax[2].legend(loc='center left', bbox_to_anchor=(1, 0.5))\n",
    "# ax[2].legend()\n",
    "\n",
    "\n",
    "\n",
    "ax[2].set_xlabel('Time (hours)')\n",
    "ax[2].set_ylabel('mass (g DW / l)');\n",
    "\n",
    "Nint_all, Nint_times_all = [], []\n",
    "\n",
    "for counter,value in enumerate(ind_Nint):\n",
    "    Nint = df2.iloc[value,4:] #'value' gives row number, '4:' goes column by column starting at 4.\n",
    "    val = []\n",
    "    for number in Nint:\n",
    "        a=~np.isnan(number)\n",
    "        val.append(a)\n",
    "    Nint = df2.iloc[value,4:][val]\n",
    "    Nint_measurement_times = pd.to_datetime(df2.iloc[value-1,4:],dayfirst=True)\n",
    "    hours = pd.Series((Nint_measurement_times - Nint_measurement_times[0])[val].astype('timedelta64[h]'))\n",
    "    label = '{} sleeve{:d}'.format(day_i.iloc[counter],sleeves.iloc[counter])\n",
    "    # print(counter, label)\n",
    "    ax[1].plot(hours,Nint,':o',label=label,lw=2)\n",
    "    \n",
    "    for sample in Nint:\n",
    "        Nint_all.append(sample)\n",
    "    \n",
    "    for h in hours:\n",
    "        Nint_times_all.append(h)\n",
    "\n",
    "Next_all, Next_times_all = [], []\n",
    "for counter,value in enumerate(ind_Next):\n",
    "    Next = df2.iloc[value,4:] #'value' gives row number, '4:' goes column by column starting at 4.\n",
    "    val = []\n",
    "    for number in Next:\n",
    "        a=~np.isnan(number)\n",
    "        val.append(a)\n",
    "    Next = df2.iloc[value,4:][val]\n",
    "    Next_measurement_times = pd.to_datetime(df2.iloc[value-1,4:],dayfirst=True)\n",
    "    hours = pd.Series((Next_measurement_times - Next_measurement_times[0])[val].astype('timedelta64[h]'))\n",
    "    label = '{} sleeve{:d}'.format(day_i.iloc[counter],sleeves.iloc[counter])\n",
    "    # print(counter, label)\n",
    "    ax[0].plot(hours,Next,':o',label=label,lw=2)\n",
    "    \n",
    "    for sample in Next:\n",
    "        Next_all.append(sample)\n",
    "    \n",
    "    for h in hours:\n",
    "        Next_times_all.append(h)\n"
   ]
  }
 ],
 "metadata": {
  "colab": {
   "collapsed_sections": [],
   "name": "Meiron_closed_system_simulation.ipynb",
   "provenance": [
    {
     "file_id": "1uKvJsJ-_1-aLrYIrSnGQNnOsG9l8ysjY",
     "timestamp": 1561926275385
    }
   ],
   "version": "0.3.2"
  },
  "kernel_info": {
   "name": "python3"
  },
  "kernelspec": {
   "display_name": "Python 3",
   "language": "python",
   "name": "python3"
  },
  "language_info": {
   "codemirror_mode": {
    "name": "ipython",
    "version": 3
   },
   "file_extension": ".py",
   "mimetype": "text/x-python",
   "name": "python",
   "nbconvert_exporter": "python",
   "pygments_lexer": "ipython3",
   "version": "3.7.3"
  },
  "nteract": {
   "version": "0.14.5"
  }
 },
 "nbformat": 4,
 "nbformat_minor": 1
}
