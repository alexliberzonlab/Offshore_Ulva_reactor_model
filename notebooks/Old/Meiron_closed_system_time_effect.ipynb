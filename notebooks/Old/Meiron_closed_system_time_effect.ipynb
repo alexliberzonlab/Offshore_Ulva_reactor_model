{
 "cells": [
  {
   "cell_type": "markdown",
   "metadata": {
    "colab_type": "text",
    "id": "raGTYa1h4iD_"
   },
   "source": [
    "# Closed system simulation with experimental data markers\n",
    "\n",
    "In this simulation we have a system of 5 liters in which we start with Next = 1000, some Nint (measured) of some mass (m). After this we \"feed\" for a period of 3.5 days, i.e. solve the \"feeding\" part of the simulation. After that, we add 1000 uM to the last value of Next and keep \"feeding\". After one duration (7 days) we reset the water, mass and the amplitude to the beginning of the first cycle. The only difference from the t_0 is the Nint which is accumulating all the effects through the time. The mass is reset to m_0 and Next is reset to 1000 ppm (per something per something)\n"
   ]
  },
  {
   "cell_type": "code",
   "execution_count": 1,
   "metadata": {
    "colab": {},
    "colab_type": "code",
    "id": "yUfAvi3l4iEA"
   },
   "outputs": [],
   "source": [
    "# N_simulation\n",
    "from __future__ import division\n",
    "import numpy as np\n",
    "from scipy.integrate import odeint\n",
    "from scipy import interpolate\n",
    "import matplotlib.pyplot as plt\n",
    "import pandas as pd # to read excel\n",
    "from pandas import DataFrame\n",
    "from statistics import mean, stdev\n",
    "import plotly.graph_objects as go\n",
    "import plotly.express as px\n",
    "%matplotlib inline\n",
    "\n",
    "from myfunctions import *\n",
    "\n",
    "\n",
    "# from datetime import datetime"
   ]
  },
  {
   "cell_type": "code",
   "execution_count": 2,
   "metadata": {
    "colab": {
     "base_uri": "https://localhost:8080/",
     "height": 277
    },
    "colab_type": "code",
    "executionInfo": {
     "elapsed": 62295,
     "status": "ok",
     "timestamp": 1565466545086,
     "user": {
      "displayName": "Meiron Zollmann",
      "photoUrl": "",
      "userId": "18114482091462006341"
     },
     "user_tz": -180
    },
    "id": "d4VzbZ484iED",
    "inputHidden": false,
    "outputHidden": false,
    "outputId": "6d76a9eb-17b9-400c-de1d-c0cec8fc215c"
   },
   "outputs": [
    {
     "name": "stdout",
     "output_type": "stream",
     "text": [
      "dNextoutdt 0.03\n",
      "dNextindt 0.0\n",
      "dmoutdt 0.0\n",
      "miu 0.014583333333333332\n",
      "Nintmax 4.23\n",
      "Nintmin 1.0\n",
      "NH4max 100.0\n",
      "NH4min 0.0\n",
      "KNH4 10.0\n",
      "KN 2.0\n",
      "Ks 14.0\n",
      "Vmax 60.0\n",
      "Vassim 60.0\n",
      "Next0 0.0\n",
      "NH40 0.0\n",
      "Nint0 1.85\n",
      "m0 0.15\n",
      "Amplitude 500.0\n",
      "Duration 7.0\n",
      "Period 3.5\n",
      "Kd 0.4\n",
      "Nintcrit 3.0\n"
     ]
    }
   ],
   "source": [
    "xl = pd.ExcelFile('../data/input_format.xlsx')\n",
    "\n",
    "df1 = xl.parse('Parameters',header=None)\n",
    "df2 = xl.parse('time_effect')#header=None)\n",
    "\n",
    "\n",
    "# which parameters? and values we read? if you want to print, uncomment:\n",
    "# print(df.iloc[:][0],df.iloc[:][1])\n",
    "\n",
    "# assigmment of parameters to values: \n",
    "for key,val in zip(df1.iloc[:][0],df1.iloc[:][1]):\n",
    "    exec(key + '=val')\n",
    "    print(key,val)"
   ]
  },
  {
   "cell_type": "code",
   "execution_count": 3,
   "metadata": {},
   "outputs": [
    {
     "data": {
      "text/html": [
       "<div>\n",
       "<style scoped>\n",
       "    .dataframe tbody tr th:only-of-type {\n",
       "        vertical-align: middle;\n",
       "    }\n",
       "\n",
       "    .dataframe tbody tr th {\n",
       "        vertical-align: top;\n",
       "    }\n",
       "\n",
       "    .dataframe thead th {\n",
       "        text-align: right;\n",
       "    }\n",
       "</style>\n",
       "<table border=\"1\" class=\"dataframe\">\n",
       "  <thead>\n",
       "    <tr style=\"text-align: right;\">\n",
       "      <th></th>\n",
       "      <th>day i</th>\n",
       "      <th>day f</th>\n",
       "      <th>sleeve</th>\n",
       "      <th>parameter</th>\n",
       "    </tr>\n",
       "  </thead>\n",
       "  <tbody>\n",
       "    <tr>\n",
       "      <th>0</th>\n",
       "      <td>03.10.19</td>\n",
       "      <td>24.10.19</td>\n",
       "      <td>7.0</td>\n",
       "      <td>Time</td>\n",
       "    </tr>\n",
       "    <tr>\n",
       "      <th>1</th>\n",
       "      <td>NaN</td>\n",
       "      <td>NaN</td>\n",
       "      <td>NaN</td>\n",
       "      <td>Next</td>\n",
       "    </tr>\n",
       "    <tr>\n",
       "      <th>2</th>\n",
       "      <td>NaN</td>\n",
       "      <td>NaN</td>\n",
       "      <td>NaN</td>\n",
       "      <td>Time</td>\n",
       "    </tr>\n",
       "    <tr>\n",
       "      <th>3</th>\n",
       "      <td>NaN</td>\n",
       "      <td>NaN</td>\n",
       "      <td>NaN</td>\n",
       "      <td>Nint</td>\n",
       "    </tr>\n",
       "    <tr>\n",
       "      <th>4</th>\n",
       "      <td>NaN</td>\n",
       "      <td>NaN</td>\n",
       "      <td>NaN</td>\n",
       "      <td>Time</td>\n",
       "    </tr>\n",
       "  </tbody>\n",
       "</table>\n",
       "</div>"
      ],
      "text/plain": [
       "      day i     day f  sleeve parameter\n",
       "0  03.10.19  24.10.19     7.0      Time\n",
       "1       NaN       NaN     NaN      Next\n",
       "2       NaN       NaN     NaN      Time\n",
       "3       NaN       NaN     NaN      Nint\n",
       "4       NaN       NaN     NaN      Time"
      ]
     },
     "execution_count": 3,
     "metadata": {},
     "output_type": "execute_result"
    }
   ],
   "source": [
    "df2.head()"
   ]
  },
  {
   "cell_type": "code",
   "execution_count": 4,
   "metadata": {},
   "outputs": [
    {
     "data": {
      "text/html": [
       "<div>\n",
       "<style scoped>\n",
       "    .dataframe tbody tr th:only-of-type {\n",
       "        vertical-align: middle;\n",
       "    }\n",
       "\n",
       "    .dataframe tbody tr th {\n",
       "        vertical-align: top;\n",
       "    }\n",
       "\n",
       "    .dataframe thead th {\n",
       "        text-align: right;\n",
       "    }\n",
       "</style>\n",
       "<table border=\"1\" class=\"dataframe\">\n",
       "  <thead>\n",
       "    <tr style=\"text-align: right;\">\n",
       "      <th></th>\n",
       "      <th>day i</th>\n",
       "      <th>day f</th>\n",
       "      <th>sleeve</th>\n",
       "      <th>parameter</th>\n",
       "    </tr>\n",
       "  </thead>\n",
       "  <tbody>\n",
       "    <tr>\n",
       "      <th>13</th>\n",
       "      <td>NaN</td>\n",
       "      <td>NaN</td>\n",
       "      <td>NaN</td>\n",
       "      <td>Next</td>\n",
       "    </tr>\n",
       "    <tr>\n",
       "      <th>14</th>\n",
       "      <td>NaN</td>\n",
       "      <td>NaN</td>\n",
       "      <td>NaN</td>\n",
       "      <td>Time</td>\n",
       "    </tr>\n",
       "    <tr>\n",
       "      <th>15</th>\n",
       "      <td>NaN</td>\n",
       "      <td>NaN</td>\n",
       "      <td>NaN</td>\n",
       "      <td>Nint</td>\n",
       "    </tr>\n",
       "    <tr>\n",
       "      <th>16</th>\n",
       "      <td>NaN</td>\n",
       "      <td>NaN</td>\n",
       "      <td>NaN</td>\n",
       "      <td>Time</td>\n",
       "    </tr>\n",
       "    <tr>\n",
       "      <th>17</th>\n",
       "      <td>NaN</td>\n",
       "      <td>NaN</td>\n",
       "      <td>NaN</td>\n",
       "      <td>m</td>\n",
       "    </tr>\n",
       "  </tbody>\n",
       "</table>\n",
       "</div>"
      ],
      "text/plain": [
       "   day i day f  sleeve parameter\n",
       "13   NaN   NaN     NaN      Next\n",
       "14   NaN   NaN     NaN      Time\n",
       "15   NaN   NaN     NaN      Nint\n",
       "16   NaN   NaN     NaN      Time\n",
       "17   NaN   NaN     NaN         m"
      ]
     },
     "execution_count": 4,
     "metadata": {},
     "output_type": "execute_result"
    }
   ],
   "source": [
    "df2.tail()"
   ]
  },
  {
   "cell_type": "code",
   "execution_count": 5,
   "metadata": {},
   "outputs": [
    {
     "name": "stdout",
     "output_type": "stream",
     "text": [
      "N of experiments = 3\n"
     ]
    }
   ],
   "source": [
    "# find out how many experiments are in the file\n",
    "n_exp = df2['day i'].dropna().shape[0] # number of items that have day i property and not NaN\n",
    "\n",
    "# it should be equal to the number of day f - just for a test. will pop an error if the file is corrupted\n",
    "assert (n_exp == df2['day f'].dropna().shape[0])\n",
    "\n",
    "print('N of experiments = {}'.format(n_exp))"
   ]
  },
  {
   "cell_type": "code",
   "execution_count": 6,
   "metadata": {},
   "outputs": [
    {
     "data": {
      "text/plain": [
       "0     b'03.10.19'\n",
       "6     b'03.10.19'\n",
       "12    b'03.10.19'\n",
       "Name: day i, dtype: bytes64"
      ]
     },
     "execution_count": 6,
     "metadata": {},
     "output_type": "execute_result"
    }
   ],
   "source": [
    "day_i = df2['day i'].dropna()\n",
    "day_i.astype('S')"
   ]
  },
  {
   "cell_type": "code",
   "execution_count": 7,
   "metadata": {},
   "outputs": [
    {
     "name": "stdout",
     "output_type": "stream",
     "text": [
      "sleeve 7\n",
      "sleeve 8\n",
      "sleeve 9\n"
     ]
    }
   ],
   "source": [
    "# find out the sleeve number in each experiment\n",
    "sleeves = df2['sleeve'].dropna().astype(int)\n",
    "for s in sleeves:\n",
    "    print('sleeve {}'.format(s))"
   ]
  },
  {
   "cell_type": "code",
   "execution_count": 8,
   "metadata": {},
   "outputs": [
    {
     "name": "stdout",
     "output_type": "stream",
     "text": [
      "Int64Index([3, 9, 15], dtype='int64')\n"
     ]
    },
    {
     "data": {
      "text/plain": [
       "Series([], Name: 9, dtype: object)"
      ]
     },
     "execution_count": 8,
     "metadata": {},
     "output_type": "execute_result"
    }
   ],
   "source": [
    "ind_Nint = df2.index[df2['parameter'] == 'Nint'] # find index of the Nint rows\n",
    "print(ind_Nint) # print it for the reference, these are rows 2, 6 and 10\n",
    "\n",
    "# small test\n",
    "assert(len(ind_Nint) == n_exp) # if we found less Nint than experiments, then something is wrong\n",
    "\n",
    "\n",
    "df2.iloc[ind_Nint[1],4:].dropna() # take the 2nd element of that index, i.e. 2nd experiment and show the data:"
   ]
  },
  {
   "cell_type": "code",
   "execution_count": 9,
   "metadata": {},
   "outputs": [
    {
     "name": "stdout",
     "output_type": "stream",
     "text": [
      "Series([], Name: 0, dtype: datetime64[ns])\n"
     ]
    }
   ],
   "source": [
    "ind_Next = df2.index[df2['parameter'] == 'Next'] # find index of the Next \n",
    "Next_measurement_times = pd.to_datetime(df2.iloc[ind_Next[0]-1,4:].dropna(),dayfirst=True)\n",
    "print(Next_measurement_times)"
   ]
  },
  {
   "cell_type": "code",
   "execution_count": 10,
   "metadata": {},
   "outputs": [
    {
     "ename": "IndexError",
     "evalue": "index 0 is out of bounds for axis 0 with size 0",
     "output_type": "error",
     "traceback": [
      "\u001b[1;31m---------------------------------------------------------------------------\u001b[0m",
      "\u001b[1;31mKeyError\u001b[0m                                  Traceback (most recent call last)",
      "\u001b[1;32m~\\Anaconda3new\\lib\\site-packages\\pandas\\core\\indexes\\base.py\u001b[0m in \u001b[0;36mget_loc\u001b[1;34m(self, key, method, tolerance)\u001b[0m\n\u001b[0;32m   2645\u001b[0m             \u001b[1;32mtry\u001b[0m\u001b[1;33m:\u001b[0m\u001b[1;33m\u001b[0m\u001b[1;33m\u001b[0m\u001b[0m\n\u001b[1;32m-> 2646\u001b[1;33m                 \u001b[1;32mreturn\u001b[0m \u001b[0mself\u001b[0m\u001b[1;33m.\u001b[0m\u001b[0m_engine\u001b[0m\u001b[1;33m.\u001b[0m\u001b[0mget_loc\u001b[0m\u001b[1;33m(\u001b[0m\u001b[0mkey\u001b[0m\u001b[1;33m)\u001b[0m\u001b[1;33m\u001b[0m\u001b[1;33m\u001b[0m\u001b[0m\n\u001b[0m\u001b[0;32m   2647\u001b[0m             \u001b[1;32mexcept\u001b[0m \u001b[0mKeyError\u001b[0m\u001b[1;33m:\u001b[0m\u001b[1;33m\u001b[0m\u001b[1;33m\u001b[0m\u001b[0m\n",
      "\u001b[1;32mpandas\\_libs\\index.pyx\u001b[0m in \u001b[0;36mpandas._libs.index.IndexEngine.get_loc\u001b[1;34m()\u001b[0m\n",
      "\u001b[1;32mpandas\\_libs\\index.pyx\u001b[0m in \u001b[0;36mpandas._libs.index.IndexEngine.get_loc\u001b[1;34m()\u001b[0m\n",
      "\u001b[1;32mpandas\\_libs\\hashtable_class_helper.pxi\u001b[0m in \u001b[0;36mpandas._libs.hashtable.PyObjectHashTable.get_item\u001b[1;34m()\u001b[0m\n",
      "\u001b[1;32mpandas\\_libs\\hashtable_class_helper.pxi\u001b[0m in \u001b[0;36mpandas._libs.hashtable.PyObjectHashTable.get_item\u001b[1;34m()\u001b[0m\n",
      "\u001b[1;31mKeyError\u001b[0m: 0",
      "\nDuring handling of the above exception, another exception occurred:\n",
      "\u001b[1;31mKeyError\u001b[0m                                  Traceback (most recent call last)",
      "\u001b[1;32m~\\Anaconda3new\\lib\\site-packages\\pandas\\core\\indexes\\base.py\u001b[0m in \u001b[0;36mget_value\u001b[1;34m(self, series, key)\u001b[0m\n\u001b[0;32m   4387\u001b[0m                 \u001b[1;32mtry\u001b[0m\u001b[1;33m:\u001b[0m\u001b[1;33m\u001b[0m\u001b[1;33m\u001b[0m\u001b[0m\n\u001b[1;32m-> 4388\u001b[1;33m                     \u001b[0miloc\u001b[0m \u001b[1;33m=\u001b[0m \u001b[0mself\u001b[0m\u001b[1;33m.\u001b[0m\u001b[0mget_loc\u001b[0m\u001b[1;33m(\u001b[0m\u001b[0mkey\u001b[0m\u001b[1;33m)\u001b[0m\u001b[1;33m\u001b[0m\u001b[1;33m\u001b[0m\u001b[0m\n\u001b[0m\u001b[0;32m   4389\u001b[0m                     \u001b[1;32mreturn\u001b[0m \u001b[0ms\u001b[0m\u001b[1;33m[\u001b[0m\u001b[0miloc\u001b[0m\u001b[1;33m]\u001b[0m\u001b[1;33m\u001b[0m\u001b[1;33m\u001b[0m\u001b[0m\n",
      "\u001b[1;32m~\\Anaconda3new\\lib\\site-packages\\pandas\\core\\indexes\\base.py\u001b[0m in \u001b[0;36mget_loc\u001b[1;34m(self, key, method, tolerance)\u001b[0m\n\u001b[0;32m   2647\u001b[0m             \u001b[1;32mexcept\u001b[0m \u001b[0mKeyError\u001b[0m\u001b[1;33m:\u001b[0m\u001b[1;33m\u001b[0m\u001b[1;33m\u001b[0m\u001b[0m\n\u001b[1;32m-> 2648\u001b[1;33m                 \u001b[1;32mreturn\u001b[0m \u001b[0mself\u001b[0m\u001b[1;33m.\u001b[0m\u001b[0m_engine\u001b[0m\u001b[1;33m.\u001b[0m\u001b[0mget_loc\u001b[0m\u001b[1;33m(\u001b[0m\u001b[0mself\u001b[0m\u001b[1;33m.\u001b[0m\u001b[0m_maybe_cast_indexer\u001b[0m\u001b[1;33m(\u001b[0m\u001b[0mkey\u001b[0m\u001b[1;33m)\u001b[0m\u001b[1;33m)\u001b[0m\u001b[1;33m\u001b[0m\u001b[1;33m\u001b[0m\u001b[0m\n\u001b[0m\u001b[0;32m   2649\u001b[0m         \u001b[0mindexer\u001b[0m \u001b[1;33m=\u001b[0m \u001b[0mself\u001b[0m\u001b[1;33m.\u001b[0m\u001b[0mget_indexer\u001b[0m\u001b[1;33m(\u001b[0m\u001b[1;33m[\u001b[0m\u001b[0mkey\u001b[0m\u001b[1;33m]\u001b[0m\u001b[1;33m,\u001b[0m \u001b[0mmethod\u001b[0m\u001b[1;33m=\u001b[0m\u001b[0mmethod\u001b[0m\u001b[1;33m,\u001b[0m \u001b[0mtolerance\u001b[0m\u001b[1;33m=\u001b[0m\u001b[0mtolerance\u001b[0m\u001b[1;33m)\u001b[0m\u001b[1;33m\u001b[0m\u001b[1;33m\u001b[0m\u001b[0m\n",
      "\u001b[1;32mpandas\\_libs\\index.pyx\u001b[0m in \u001b[0;36mpandas._libs.index.IndexEngine.get_loc\u001b[1;34m()\u001b[0m\n",
      "\u001b[1;32mpandas\\_libs\\index.pyx\u001b[0m in \u001b[0;36mpandas._libs.index.IndexEngine.get_loc\u001b[1;34m()\u001b[0m\n",
      "\u001b[1;32mpandas\\_libs\\hashtable_class_helper.pxi\u001b[0m in \u001b[0;36mpandas._libs.hashtable.PyObjectHashTable.get_item\u001b[1;34m()\u001b[0m\n",
      "\u001b[1;32mpandas\\_libs\\hashtable_class_helper.pxi\u001b[0m in \u001b[0;36mpandas._libs.hashtable.PyObjectHashTable.get_item\u001b[1;34m()\u001b[0m\n",
      "\u001b[1;31mKeyError\u001b[0m: 0",
      "\nDuring handling of the above exception, another exception occurred:\n",
      "\u001b[1;31mIndexError\u001b[0m                                Traceback (most recent call last)",
      "\u001b[1;32m<ipython-input-10-f56b1b5ef5fe>\u001b[0m in \u001b[0;36m<module>\u001b[1;34m\u001b[0m\n\u001b[0;32m     21\u001b[0m     \u001b[0mm\u001b[0m \u001b[1;33m=\u001b[0m \u001b[0mdf2\u001b[0m\u001b[1;33m.\u001b[0m\u001b[0miloc\u001b[0m\u001b[1;33m[\u001b[0m\u001b[0mvalue\u001b[0m\u001b[1;33m,\u001b[0m\u001b[1;36m4\u001b[0m\u001b[1;33m:\u001b[0m\u001b[1;33m]\u001b[0m\u001b[1;33m[\u001b[0m\u001b[0mval\u001b[0m\u001b[1;33m]\u001b[0m \u001b[1;31m#'value' gives row number, '4:' goes column by column starting at 4.\u001b[0m\u001b[1;33m\u001b[0m\u001b[1;33m\u001b[0m\u001b[0m\n\u001b[0;32m     22\u001b[0m     \u001b[0mm_measurement_times\u001b[0m \u001b[1;33m=\u001b[0m \u001b[0mpd\u001b[0m\u001b[1;33m.\u001b[0m\u001b[0mto_datetime\u001b[0m\u001b[1;33m(\u001b[0m\u001b[0mdf2\u001b[0m\u001b[1;33m.\u001b[0m\u001b[0miloc\u001b[0m\u001b[1;33m[\u001b[0m\u001b[0mvalue\u001b[0m\u001b[1;33m-\u001b[0m\u001b[1;36m1\u001b[0m\u001b[1;33m,\u001b[0m\u001b[1;36m4\u001b[0m\u001b[1;33m:\u001b[0m\u001b[1;33m]\u001b[0m\u001b[1;33m[\u001b[0m\u001b[0mval\u001b[0m\u001b[1;33m]\u001b[0m\u001b[1;33m,\u001b[0m\u001b[0mdayfirst\u001b[0m\u001b[1;33m=\u001b[0m\u001b[1;32mTrue\u001b[0m\u001b[1;33m)\u001b[0m\u001b[1;33m\u001b[0m\u001b[1;33m\u001b[0m\u001b[0m\n\u001b[1;32m---> 23\u001b[1;33m     \u001b[0mhours\u001b[0m \u001b[1;33m=\u001b[0m \u001b[0mpd\u001b[0m\u001b[1;33m.\u001b[0m\u001b[0mSeries\u001b[0m\u001b[1;33m(\u001b[0m\u001b[1;33m(\u001b[0m\u001b[0mm_measurement_times\u001b[0m \u001b[1;33m-\u001b[0m \u001b[0mm_measurement_times\u001b[0m\u001b[1;33m[\u001b[0m\u001b[1;36m0\u001b[0m\u001b[1;33m]\u001b[0m\u001b[1;33m)\u001b[0m\u001b[1;33m.\u001b[0m\u001b[0mastype\u001b[0m\u001b[1;33m(\u001b[0m\u001b[1;34m'timedelta64[h]'\u001b[0m\u001b[1;33m)\u001b[0m\u001b[1;33m)\u001b[0m\u001b[1;33m\u001b[0m\u001b[1;33m\u001b[0m\u001b[0m\n\u001b[0m\u001b[0;32m     24\u001b[0m     \u001b[0mlabel\u001b[0m \u001b[1;33m=\u001b[0m \u001b[1;34m'{} sleeve{:d}'\u001b[0m\u001b[1;33m.\u001b[0m\u001b[0mformat\u001b[0m\u001b[1;33m(\u001b[0m\u001b[0mday_i\u001b[0m\u001b[1;33m.\u001b[0m\u001b[0miloc\u001b[0m\u001b[1;33m[\u001b[0m\u001b[0mcounter\u001b[0m\u001b[1;33m]\u001b[0m\u001b[1;33m,\u001b[0m\u001b[0msleeves\u001b[0m\u001b[1;33m.\u001b[0m\u001b[0miloc\u001b[0m\u001b[1;33m[\u001b[0m\u001b[0mcounter\u001b[0m\u001b[1;33m]\u001b[0m\u001b[1;33m)\u001b[0m\u001b[1;33m\u001b[0m\u001b[1;33m\u001b[0m\u001b[0m\n\u001b[0;32m     25\u001b[0m     \u001b[0mprint\u001b[0m\u001b[1;33m(\u001b[0m\u001b[0mcounter\u001b[0m\u001b[1;33m,\u001b[0m \u001b[0mlabel\u001b[0m\u001b[1;33m)\u001b[0m\u001b[1;33m\u001b[0m\u001b[1;33m\u001b[0m\u001b[0m\n",
      "\u001b[1;32m~\\Anaconda3new\\lib\\site-packages\\pandas\\core\\series.py\u001b[0m in \u001b[0;36m__getitem__\u001b[1;34m(self, key)\u001b[0m\n\u001b[0;32m    869\u001b[0m         \u001b[0mkey\u001b[0m \u001b[1;33m=\u001b[0m \u001b[0mcom\u001b[0m\u001b[1;33m.\u001b[0m\u001b[0mapply_if_callable\u001b[0m\u001b[1;33m(\u001b[0m\u001b[0mkey\u001b[0m\u001b[1;33m,\u001b[0m \u001b[0mself\u001b[0m\u001b[1;33m)\u001b[0m\u001b[1;33m\u001b[0m\u001b[1;33m\u001b[0m\u001b[0m\n\u001b[0;32m    870\u001b[0m         \u001b[1;32mtry\u001b[0m\u001b[1;33m:\u001b[0m\u001b[1;33m\u001b[0m\u001b[1;33m\u001b[0m\u001b[0m\n\u001b[1;32m--> 871\u001b[1;33m             \u001b[0mresult\u001b[0m \u001b[1;33m=\u001b[0m \u001b[0mself\u001b[0m\u001b[1;33m.\u001b[0m\u001b[0mindex\u001b[0m\u001b[1;33m.\u001b[0m\u001b[0mget_value\u001b[0m\u001b[1;33m(\u001b[0m\u001b[0mself\u001b[0m\u001b[1;33m,\u001b[0m \u001b[0mkey\u001b[0m\u001b[1;33m)\u001b[0m\u001b[1;33m\u001b[0m\u001b[1;33m\u001b[0m\u001b[0m\n\u001b[0m\u001b[0;32m    872\u001b[0m \u001b[1;33m\u001b[0m\u001b[0m\n\u001b[0;32m    873\u001b[0m             \u001b[1;32mif\u001b[0m \u001b[1;32mnot\u001b[0m \u001b[0mis_scalar\u001b[0m\u001b[1;33m(\u001b[0m\u001b[0mresult\u001b[0m\u001b[1;33m)\u001b[0m\u001b[1;33m:\u001b[0m\u001b[1;33m\u001b[0m\u001b[1;33m\u001b[0m\u001b[0m\n",
      "\u001b[1;32m~\\Anaconda3new\\lib\\site-packages\\pandas\\core\\indexes\\base.py\u001b[0m in \u001b[0;36mget_value\u001b[1;34m(self, series, key)\u001b[0m\n\u001b[0;32m   4392\u001b[0m                         \u001b[1;32mraise\u001b[0m\u001b[1;33m\u001b[0m\u001b[1;33m\u001b[0m\u001b[0m\n\u001b[0;32m   4393\u001b[0m                     \u001b[1;32melif\u001b[0m \u001b[0mis_integer\u001b[0m\u001b[1;33m(\u001b[0m\u001b[0mkey\u001b[0m\u001b[1;33m)\u001b[0m\u001b[1;33m:\u001b[0m\u001b[1;33m\u001b[0m\u001b[1;33m\u001b[0m\u001b[0m\n\u001b[1;32m-> 4394\u001b[1;33m                         \u001b[1;32mreturn\u001b[0m \u001b[0ms\u001b[0m\u001b[1;33m[\u001b[0m\u001b[0mkey\u001b[0m\u001b[1;33m]\u001b[0m\u001b[1;33m\u001b[0m\u001b[1;33m\u001b[0m\u001b[0m\n\u001b[0m\u001b[0;32m   4395\u001b[0m             \u001b[1;32melse\u001b[0m\u001b[1;33m:\u001b[0m\u001b[1;33m\u001b[0m\u001b[1;33m\u001b[0m\u001b[0m\n\u001b[0;32m   4396\u001b[0m                 \u001b[1;31m# if key is not a scalar, directly raise an error (the code below\u001b[0m\u001b[1;33m\u001b[0m\u001b[1;33m\u001b[0m\u001b[1;33m\u001b[0m\u001b[0m\n",
      "\u001b[1;32m~\\Anaconda3new\\lib\\site-packages\\pandas\\core\\arrays\\datetimelike.py\u001b[0m in \u001b[0;36m__getitem__\u001b[1;34m(self, key)\u001b[0m\n\u001b[0;32m    512\u001b[0m         \u001b[0mgetitem\u001b[0m \u001b[1;33m=\u001b[0m \u001b[0mself\u001b[0m\u001b[1;33m.\u001b[0m\u001b[0m_data\u001b[0m\u001b[1;33m.\u001b[0m\u001b[0m__getitem__\u001b[0m\u001b[1;33m\u001b[0m\u001b[1;33m\u001b[0m\u001b[0m\n\u001b[0;32m    513\u001b[0m         \u001b[1;32mif\u001b[0m \u001b[0mis_int\u001b[0m\u001b[1;33m:\u001b[0m\u001b[1;33m\u001b[0m\u001b[1;33m\u001b[0m\u001b[0m\n\u001b[1;32m--> 514\u001b[1;33m             \u001b[0mval\u001b[0m \u001b[1;33m=\u001b[0m \u001b[0mgetitem\u001b[0m\u001b[1;33m(\u001b[0m\u001b[0mkey\u001b[0m\u001b[1;33m)\u001b[0m\u001b[1;33m\u001b[0m\u001b[1;33m\u001b[0m\u001b[0m\n\u001b[0m\u001b[0;32m    515\u001b[0m             \u001b[1;32mif\u001b[0m \u001b[0mlib\u001b[0m\u001b[1;33m.\u001b[0m\u001b[0mis_scalar\u001b[0m\u001b[1;33m(\u001b[0m\u001b[0mval\u001b[0m\u001b[1;33m)\u001b[0m\u001b[1;33m:\u001b[0m\u001b[1;33m\u001b[0m\u001b[1;33m\u001b[0m\u001b[0m\n\u001b[0;32m    516\u001b[0m                 \u001b[1;31m# i.e. self.ndim == 1\u001b[0m\u001b[1;33m\u001b[0m\u001b[1;33m\u001b[0m\u001b[1;33m\u001b[0m\u001b[0m\n",
      "\u001b[1;31mIndexError\u001b[0m: index 0 is out of bounds for axis 0 with size 0"
     ]
    }
   ],
   "source": [
    "# plot all sleeves data\n",
    "ind_m = df2.index[df2['parameter'] == 'm'] # find index of the mass was measured (this is the only data available so far)\n",
    "# small test\n",
    "assert(len(ind_m) == n_exp) # if we found less Nint than experiments, then something is wrong\n",
    "\n",
    "\n",
    "# fig,ax = plt.subplots(figsize=(12,10))\n",
    "\n",
    "# plt.legend()\n",
    "# plt.xlabel('Time')\n",
    "# plt.ylabel('mass');\n",
    "\n",
    "m_all, m_times_all, Nint_all, Nint_times_all, Next_all, Next_times_all = [], [], [], [], [], []\n",
    "\n",
    "for counter,value in enumerate(ind_m):\n",
    "    m = df2.iloc[value,4:]\n",
    "    val = []\n",
    "    for number in m:\n",
    "        a=~np.isnan(number)\n",
    "        val.append(a)\n",
    "    m = df2.iloc[value,4:][val] #'value' gives row number, '4:' goes column by column starting at 4.\n",
    "    m_measurement_times = pd.to_datetime(df2.iloc[value-1,4:][val],dayfirst=True)\n",
    "    hours = pd.Series((m_measurement_times - m_measurement_times[0]).astype('timedelta64[h]'))\n",
    "    label = '{} sleeve{:d}'.format(day_i.iloc[counter],sleeves.iloc[counter])\n",
    "    print(counter, label)\n",
    " #   ax.plot(hours,m,':o',label=label,lw=2)\n",
    "    \n",
    "    for sample in m:\n",
    "        m_all.append(sample)\n",
    "    \n",
    "    for h in hours:\n",
    "        m_times_all.append(h)\n",
    "        \n",
    "# ax.legend()\n",
    "# ax.set_xlabel('Time (hours)')\n",
    "# ax.set_ylabel('mass (g DW / l)');"
   ]
  },
  {
   "cell_type": "code",
   "execution_count": null,
   "metadata": {},
   "outputs": [],
   "source": [
    "# plot all sleeves data\n",
    "ind_Nint = df2.index[df2['parameter'] == 'Nint'] # find index of the mass was measured (this is the only data available so far)\n",
    "# small test\n",
    "assert(len(ind_Nint) == n_exp) # if we found less Nint than experiments, then something is wrong\n",
    "\n",
    "# fig,ax = plt.subplots(figsize=(12,10))\n",
    "\n",
    "# plt.legend()\n",
    "# plt.xlabel('Time')\n",
    "# plt.ylabel('Nint');\n",
    "\n",
    "Nint_all, Nint_times_all = [], []\n",
    "for counter,value in enumerate(ind_Nint):\n",
    "    Nint = df2.iloc[value,4:] #'value' gives row number, '4:' goes column by column starting at 4.\n",
    "    val = []\n",
    "    for number in Nint:\n",
    "        a=~np.isnan(number)\n",
    "        val.append(a)\n",
    "    Nint = df2.iloc[value,4:][val]\n",
    "    Nint_measurement_times = pd.to_datetime(df2.iloc[value-1,4:],dayfirst=True)\n",
    "    hours = pd.Series((Nint_measurement_times - Nint_measurement_times[0])[val].astype('timedelta64[h]'))\n",
    "    label = '{} sleeve{:d}'.format(day_i.iloc[counter],sleeves.iloc[counter])\n",
    "    # print(counter, label)\n",
    "#    ax.plot(hours,Nint,':o',label=label,lw=2)\n",
    "    \n",
    "    for sample in Nint:\n",
    "        Nint_all.append(sample)\n",
    "    \n",
    "    for h in hours:\n",
    "        Nint_times_all.append(h)\n",
    "        \n",
    "# ax.legend()\n",
    "# ax.set_xlabel('Time (hours)')\n",
    "# ax.set_ylabel('Nint (% g N / g DW)');"
   ]
  },
  {
   "cell_type": "code",
   "execution_count": null,
   "metadata": {},
   "outputs": [],
   "source": [
    "# plot all sleeves data\n",
    "ind_Next = df2.index[df2['parameter'] == 'Next'] # find index of the mass was measured (this is the only data available so far)\n",
    "# small test\n",
    "assert(len(ind_Next) == n_exp) # if we found less Nint than experiments, then something is wrong\n",
    "\n",
    "#fig,ax = plt.subplots(figsize=(12,10))\n",
    "\n",
    "#plt.legend()\n",
    "#plt.xlabel('Time')\n",
    "#plt.ylabel('Next');\n",
    "\n",
    "Next_all, Next_times_all = [], []\n",
    "for counter,value in enumerate(ind_Next):\n",
    "    Next = df2.iloc[value,4:] #'value' gives row number, '4:' goes column by column starting at 4.\n",
    "    val = []\n",
    "    for number in Next:\n",
    "        a=~np.isnan(number)\n",
    "        val.append(a)\n",
    "    Next = df2.iloc[value,4:][val]\n",
    "    Next_measurement_times = pd.to_datetime(df2.iloc[value-1,4:],dayfirst=True)\n",
    "    hours = pd.Series((Next_measurement_times - Next_measurement_times[0])[val].astype('timedelta64[h]'))\n",
    "    label = '{} sleeve{:d}'.format(day_i.iloc[counter],sleeves.iloc[counter])\n",
    "    # print(counter, label)\n",
    "#    ax.plot(hours,Next,':o',label=label,lw=2)\n",
    "    \n",
    "    for sample in Next:\n",
    "        Next_all.append(sample)\n",
    "    \n",
    "    for h in hours:\n",
    "        Next_times_all.append(h)\n",
    "        \n",
    "#ax.legend()\n",
    "#ax.set_xlabel('Time (hours)')\n",
    "#ax.set_ylabel('Next (umol N / l)');"
   ]
  },
  {
   "cell_type": "code",
   "execution_count": null,
   "metadata": {},
   "outputs": [],
   "source": [
    "# Create time array of 500 hours, integer types, used for data interpolation (t_hours)\n",
    "\n",
    "t_hours = np.linspace(0,499,500)\n",
    "t_hours = np.array(t_hours, dtype='int')"
   ]
  },
  {
   "cell_type": "code",
   "execution_count": null,
   "metadata": {},
   "outputs": [],
   "source": [
    "# Reduce Nint measurements into 4 arrays: 1. Measurement times (Nint_times_reduced); 2. Mean values (Nint_mean_values); \n",
    "# 3. STDEV values (Nint_stdev_values); and 4. Number of measurements per time (N_Nint_values)\n",
    "\n",
    "Nint_times_all, Nint_all = zip(*sorted(zip(Nint_times_all, Nint_all)))\n",
    "Nint_values, Nint_times_reduced, Nint_mean_values, Nint_stdev_values,N_Nint_values = [], [], [], [], []\n",
    "i = 0\n",
    "for TNint in Nint_times_all:\n",
    "    TNint = int(TNint)\n",
    "    Nint_values.append(Nint_all[i])\n",
    "    Mean_Nint = mean(Nint_values)\n",
    "    N_Nint = len(Nint_values)\n",
    "    if len(Nint_values) >= 2:\n",
    "        STDEV_Nint = stdev(Nint_values)\n",
    "    else:\n",
    "        STDEV_Nint = 0\n",
    "    if  i == len(Nint_times_all)-1 or Nint_times_all[i] != Nint_times_all[i + 1]:\n",
    "        Nint_times_reduced.append(TNint)\n",
    "        Nint_values = []\n",
    "        Nint_mean_values.append(Mean_Nint)\n",
    "        Nint_stdev_values.append(STDEV_Nint)\n",
    "        N_Nint_values.append(N_Nint)\n",
    "    i += 1"
   ]
  },
  {
   "cell_type": "code",
   "execution_count": null,
   "metadata": {},
   "outputs": [],
   "source": [
    "# Interpolate Nint data (Nint_interp)\n",
    "\n",
    "f1 = interpolate.interp1d(Nint_times_reduced, Nint_mean_values,kind = 'linear')\n",
    "Nint_interp = f1(t_hours)\n",
    "plt.plot(t_hours, Nint_interp, ':')\n",
    "plt.errorbar(Nint_times_reduced,Nint_mean_values,yerr=Nint_stdev_values,fmt='o',color='black',ecolor='lightgray',elinewidth=3,capsize=0)\n",
    "plt.plot()\n",
    "\n",
    "N_Nint_values = list(map(str, N_Nint_values))\n"
   ]
  },
  {
   "cell_type": "raw",
   "metadata": {},
   "source": [
    "# Alternative visualization - with N in hovertext\n",
    "\n",
    "fig = go.Figure(data=go.Scatter(\n",
    "        x=Nint_times_reduced,\n",
    "        y=Nint_mean_values,\n",
    "        hovertext=N_Nint_values,\n",
    "        hoverinfo=\"text\",\n",
    "        error_y=dict(\n",
    "            type='data', # value of error bar given in data coordinates\n",
    "            array=Nint_stdev_values,\n",
    "            visible=True)\n",
    "    ))\n",
    "fig.show()"
   ]
  },
  {
   "cell_type": "code",
   "execution_count": null,
   "metadata": {},
   "outputs": [],
   "source": [
    "# Reduce Next measurements into 4 arrays: 1. Measurement times (Next_times_reduced); 2. Mean values (Next_mean_values); \n",
    "# 3. STDEV values (Next_stdev_values); and 4. Number of measurements per time (N_Next_values)\n",
    "\n",
    "Next_times_all, Next_all = zip(*sorted(zip(Next_times_all, Next_all)))\n",
    "Next_values, Next_times_reduced, Next_mean_values, Next_stdev_values,N_Next_values = [], [], [], [], []\n",
    "i = 0\n",
    "for TNext in Next_times_all:\n",
    "    TNext = int(TNext)\n",
    "    Next_values.append(Next_all[i])\n",
    "    Mean_Next = mean(Next_values)\n",
    "    N_Next = len(Next_values)\n",
    "    if len(Next_values) >= 2:\n",
    "        STDEV_Next = stdev(Next_values)\n",
    "    else:\n",
    "        STDEV_Next = 0\n",
    "    if  i == len(Next_times_all)-1 or Next_times_all[i] != Next_times_all[i + 1]:\n",
    "        Next_times_reduced.append(TNext)\n",
    "        Next_values = []\n",
    "        Next_mean_values.append(Mean_Next)\n",
    "        Next_stdev_values.append(STDEV_Next)\n",
    "        N_Next_values.append(N_Next)\n",
    "    i += 1"
   ]
  },
  {
   "cell_type": "code",
   "execution_count": null,
   "metadata": {},
   "outputs": [],
   "source": [
    "# Interpolate Nint data (Next_interp)\n",
    "\n",
    "f2 = interpolate.interp1d(Next_times_reduced, Next_mean_values,kind = 'linear')\n",
    "Next_interp = f2(t_hours)\n",
    "plt.plot(t_hours, Next_interp, ':')\n",
    "plt.errorbar(Next_times_reduced,Next_mean_values,yerr=Next_stdev_values,fmt='o',color='black',ecolor='lightgray',elinewidth=3,capsize=0)\n",
    "plt.plot()"
   ]
  },
  {
   "cell_type": "code",
   "execution_count": null,
   "metadata": {},
   "outputs": [],
   "source": [
    "# Reduce m measurements into 4 arrays: 1. Measurement times (m_times_reduced); 2. Mean values (m_mean_values); \n",
    "# 3. STDEV values (m_stdev_values); and 4. Number of measurements per time (N_m_values)\n",
    "\n",
    "m_times_all, m_all = zip(*sorted(zip(m_times_all, m_all)))\n",
    "m_values, m_times_reduced, m_mean_values, m_stdev_values,N_m_values = [], [], [], [], []\n",
    "i = 0\n",
    "for Tm in m_times_all:\n",
    "    Tm = int(Tm)\n",
    "    m_values.append(m_all[i])\n",
    "    Mean_m = mean(m_values)\n",
    "    N_m = len(m_values)\n",
    "    if len(m_values) >= 2:\n",
    "        STDEV_m = stdev(m_values)\n",
    "    else:\n",
    "        STDEV_m = 0\n",
    "    if  i == len(m_times_all)-1 or m_times_all[i] != m_times_all[i + 1]:\n",
    "        m_times_reduced.append(Tm)\n",
    "        m_values = []\n",
    "        m_mean_values.append(Mean_m)\n",
    "        m_stdev_values.append(STDEV_m)\n",
    "        N_m_values.append(N_m)\n",
    "    i += 1"
   ]
  },
  {
   "cell_type": "code",
   "execution_count": null,
   "metadata": {},
   "outputs": [],
   "source": [
    "# Interpolate Nint data (m_interp)\n",
    "\n",
    "f3 = interpolate.interp1d(m_times_reduced, m_mean_values,kind = 'linear')\n",
    "m_interp = f3(t_hours)\n",
    "plt.plot(t_hours, m_interp, ':')\n",
    "plt.errorbar(m_times_reduced,m_mean_values,yerr=m_stdev_values,fmt='o',color='black',ecolor='lightgray',elinewidth=3,capsize=0)\n",
    "plt.plot()"
   ]
  },
  {
   "cell_type": "code",
   "execution_count": null,
   "metadata": {
    "colab": {
     "base_uri": "https://localhost:8080/",
     "height": 225
    },
    "colab_type": "code",
    "executionInfo": {
     "elapsed": 64857,
     "status": "ok",
     "timestamp": 1565466547653,
     "user": {
      "displayName": "Meiron Zollmann",
      "photoUrl": "",
      "userId": "18114482091462006341"
     },
     "user_tz": -180
    },
    "id": "56GciWDw4iEJ",
    "outputId": "212b5b39-6e16-4e92-f9b3-4767f05cdf4a",
    "scrolled": true
   },
   "outputs": [],
   "source": [
    "# now combine the two:\n",
    "# decide how many cycles you want, e.g. 10 days, with a daily feeding\n",
    "NEXT, NINT, M, T = [],[],[],[]\n",
    "Period_times = [0]\n",
    "Duration_times = [0]\n",
    "n_days = Duration*7\n",
    "\n",
    "for hour in np.arange(0,n_days*24,Period*24):\n",
    "    print(hour)\n",
    "    \n",
    "    if hour == 0:\n",
    "        print('Starting point')\n",
    "        Nint_0 = Nint0\n",
    "        m_0 = m0\n",
    "        Next_0 = Amplitude\n",
    "    \n",
    "    if hour > 0 and np.mod(hour,Period*24) == 0:\n",
    "        if np.mod(hour,Duration*24) == 0:\n",
    "            print('Duration')\n",
    "            # reset everything, except Nint\n",
    "            Nint_0 = NINT[-1][-1]\n",
    "            Next_0 = Amplitude\n",
    "            m_0 = m0\n",
    "            Period_times.append(hour + 10)\n",
    "            Duration_times.append(hour + 10)\n",
    "            \n",
    "        else:    \n",
    "            # period passed, not Duration\n",
    "            # add amplitude, keep going \n",
    "            print('Period')\n",
    "            Next_0 = NEXT[-1][-1] + Amplitude\n",
    "            Nint_0 = NINT[-1][-1]\n",
    "            m_0 = M[-1][-1]\n",
    "            Period_times.append(hour + 10)\n",
    "\n",
    "        \n",
    "    # setup initial conditions\n",
    "    x0 = [Next_0,Nint_0,m_0]\n",
    "    \n",
    "    t = np.linspace(hour,hour+Period*24)\n",
    "    x = odeint(N_feeding,x0,t,args=(Nintmax,Nintmin,Vmax,Ks,KN,dNextoutdt,dNextindt,miu,dmoutdt))\n",
    "\n",
    "    NEXT.append(x[: , 0])\n",
    "    NINT.append(x[: , 1])\n",
    "    M.append(x[: , 2])\n",
    "    T.append(t)\n",
    "    \n",
    "    t_model = np.hstack(T)\n",
    "    Next_model = np.hstack(NEXT)\n",
    "    Nint_model = np.hstack(NINT)\n",
    "    m_model = np.hstack(M)\n",
    "\n",
    "Period_times.append(Duration*3*24 + 10)\n",
    "Duration_times.append(Duration*3*24+10)\n",
    "Period_times = np.array(Period_times, dtype='int')\n",
    "Duration_times = np.array(Duration_times, dtype='int')"
   ]
  },
  {
   "cell_type": "markdown",
   "metadata": {
    "colab_type": "text",
    "id": "QcYNkB9i_qzG"
   },
   "source": [
    "# Read the experimental data from the same file, second sheet"
   ]
  },
  {
   "cell_type": "code",
   "execution_count": null,
   "metadata": {
    "colab": {
     "base_uri": "https://localhost:8080/",
     "height": 609
    },
    "colab_type": "code",
    "executionInfo": {
     "elapsed": 64853,
     "status": "ok",
     "timestamp": 1565466547664,
     "user": {
      "displayName": "Meiron Zollmann",
      "photoUrl": "",
      "userId": "18114482091462006341"
     },
     "user_tz": -180
    },
    "id": "Y3S108QvLvFG",
    "outputId": "ed4b6371-8942-42a8-c154-fee251ad0c0c"
   },
   "outputs": [],
   "source": [
    "plot_result(t_model,Next_model,Nint_model,m_model,Nint=Nint_mean_values, yerrNint=Nint_stdev_values ,tNint=Nint_times_reduced,m=m_mean_values, yerrm=m_stdev_values, tm=m_times_reduced,Next=Next_mean_values,yerrNext=Next_stdev_values, tNext=Next_times_reduced)"
   ]
  },
  {
   "cell_type": "markdown",
   "metadata": {},
   "source": [
    "# Model dmdt based on measured Nint"
   ]
  },
  {
   "cell_type": "code",
   "execution_count": null,
   "metadata": {},
   "outputs": [],
   "source": [
    "# Model dmdt based on measured Nint. Next has no direct effect on dmdt\n",
    "\n",
    "M = []\n",
    "Next_model = 0\n",
    "Nint_model = Nint_interp\n",
    "A = [1, 2, 3]\n",
    "t = 0\n",
    "for i in A:\n",
    "    m = m0\n",
    "    while t < Duration * 24 * i and t < 500:\n",
    "        Nint = Nint_interp[t]\n",
    "        fN = (Nint - Nintmin)/(KN + (Nint - Nintmin)) # units: [-]\n",
    "        #fN = ((Nint - Nintmin)/Nint) / ((Nintmax - Nintmin)/Nintmax) # units: [-]\n",
    "        M.append(m)\n",
    "        dm = miu * fN * m - dmoutdt #units: [g DW/l/h]\n",
    "        m = M[t] + dm\n",
    "        t = t + 1      \n",
    "m_model = M\n",
    "Next_model = [0] * 500"
   ]
  },
  {
   "cell_type": "code",
   "execution_count": null,
   "metadata": {},
   "outputs": [],
   "source": [
    "plot_result(t_hours,Next_model,Nint_model,m_model,Nint=Nint_mean_values, yerrNint=Nint_stdev_values ,tNint=Nint_times_reduced,m=m_mean_values, yerrm=m_stdev_values, tm=m_times_reduced,Next=Next_mean_values,yerrNext=Next_stdev_values, tNext=Next_times_reduced)"
   ]
  },
  {
   "cell_type": "markdown",
   "metadata": {},
   "source": [
    "# Model dNextdt based on measured Nint and m"
   ]
  },
  {
   "cell_type": "code",
   "execution_count": null,
   "metadata": {},
   "outputs": [],
   "source": [
    "# Model dNextdt based on measured Nint and m.\n",
    "\n",
    "NEXT = []\n",
    "m_model = m_interp\n",
    "Nint_model = Nint_interp\n",
    "A = [1, 2, 3]\n",
    "t = 0\n",
    "for i in A:\n",
    "    Next = Amplitude\n",
    "    while t < Duration * 24 * i and t < 500:\n",
    "        m = m_interp[t]\n",
    "        Nint = Nint_interp[t]\n",
    "        Neff = (Nintmax - Nint)/(Nintmax - Nintmin) # units: [-]\n",
    "        uN = Vmax * Next / (Ks + Next) # units: [umol N/g DW/h]\n",
    "        #fN = ((Nint - Nintmin)/Nint) / ((Nintmax - Nintmin)/Nintmax) # units: [-]\n",
    "        NEXT.append(Next)\n",
    "        dNext = -Neff * uN * m - dNextoutdt + dNextindt # units: [umol N/l/h]\n",
    "        Next = NEXT[t] + dNext\n",
    "        if t > 0 and np.mod(t,Period*24) == 0 and np.mod(t,Duration*24) != 0:\n",
    "            # period passed, not Duration\n",
    "            # add amplitude, keep going \n",
    "            Next = NEXT[-1] + Amplitude\n",
    "        t = t + 1\n",
    "Next_model = NEXT"
   ]
  },
  {
   "cell_type": "code",
   "execution_count": null,
   "metadata": {},
   "outputs": [],
   "source": [
    "plot_result(t_hours,Next_model,Nint_model,m_model,Nint=Nint_mean_values, yerrNint=Nint_stdev_values ,tNint=Nint_times_reduced,m=m_mean_values, yerrm=m_stdev_values, tm=m_times_reduced,Next=Next_mean_values,yerrNext=Next_stdev_values, tNext=Next_times_reduced)"
   ]
  },
  {
   "cell_type": "code",
   "execution_count": null,
   "metadata": {},
   "outputs": [],
   "source": [
    "Next_leftover,Next_decrease, NEXT_decrease_g, m_accumulated, m_added, ADDED_N_gap_per = [],[],[],[], [], []\n",
    "\n",
    "print(\"Leftover external N [umol/l]:         Decrease in external N [umol/l]:         Decrease in external N [g N/l]:\\n\\n\")\n",
    "for i in range(len(Period_times)):\n",
    "    if i + 2 == len(Period_times):\n",
    "        min_Next = round(min(Next_interp[range(Period_times[i],len(Next_interp))]),2) \n",
    "        Next_leftover.append(min_Next)\n",
    "        Next_decrease.append(round(Amplitude - min_Next,2))\n",
    "        Next_decrease_g = 14e-6 * (Amplitude - min_Next)\n",
    "        NEXT_decrease_g.append(round(Next_decrease_g,4))\n",
    "        print(\"Period \" + str(i+1) + \":   \" + str(int(min_Next)) + \"                          \" + str(Next_decrease[i])+ \"                               \" + str(NEXT_decrease_g[i]))\n",
    "        break\n",
    "    else:\n",
    "        min_Next = round(min(Next_interp[range(Period_times[i],Period_times[i+1])]),2)\n",
    "        Next_leftover.append(min_Next)\n",
    "        Next_decrease.append(round(Amplitude - min_Next,2))\n",
    "        Next_decrease_g = 14e-6 * (Amplitude - min_Next)\n",
    "        NEXT_decrease_g.append(round(Next_decrease_g,4))\n",
    "        print(\"Period \" + str(i+1) + \":   \" + str(int(min_Next)) + \"                          \" + str(Next_decrease[i])+ \"                               \" + str(NEXT_decrease_g[i]))\n",
    "\n",
    "print(\"\\nAccumulated m [g FW/l]:          Added m [g DW/l]:    Internal N [% g N/g DW]:    Added N [g N / l]:  Added N gap [g N /l]: \\n\\n\")\n",
    "for i in range(len(Duration_times)):\n",
    "    if i + 2 == len(Duration_times):\n",
    "        m_max = round(max(m_interp[range(Duration_times[i],len(m_interp))]),2)\n",
    "        index_m_max = Duration_times[i] + np.argmax(m_interp[range(Duration_times[i],len(m_interp))])\n",
    "        Nint_m_max = round(Nint_interp[index_m_max],2)\n",
    "        Added_N = round(0.01 * Nint_m_max * m_max,4)\n",
    "        Added_N_gap = round(NEXT_decrease_g[int(Duration/Period)*i+1] + NEXT_decrease_g[int(Duration/Period)*i]- Added_N,4)\n",
    "        Added_N_gap_per = Added_N / (NEXT_decrease_g[int(Duration/Period)*i+1] + NEXT_decrease_g[int(Duration/Period)*i])\n",
    "        ADDED_N_gap_per.append(round(Added_N_gap_per,2))\n",
    "        m_accumulated.append(round(m_max,2))\n",
    "        m_added.append(round(m_max - m0,2))\n",
    "        print(\"Week \" + str(i+1) + \":   \" + str(round(m_max,2)) + \"                          \" + str(m_added[i]) + \"                  \" + str(Nint_m_max) + \"                         \" + str(Added_N) + \"              \" + str(Added_N_gap))\n",
    "        break\n",
    "    else:\n",
    "        m_max = round(max(m_interp[range(Duration_times[i],Duration_times[i+1])]),2)\n",
    "        index_m_max = Duration_times[i] + np.argmax(m_interp[range(Duration_times[i],len(m_interp))])\n",
    "        Nint_m_max = round(Nint_interp[index_m_max],2)\n",
    "        Added_N = round(0.01 * Nint_m_max * m_max,4)\n",
    "        Added_N_gap = round(NEXT_decrease_g[int(Duration/Period)*i+1] + NEXT_decrease_g[int(Duration/Period)*i]- Added_N,4) #need to generalize\n",
    "        Added_N_gap_per = Added_N / (NEXT_decrease_g[int(Duration/Period)*i+1] + NEXT_decrease_g[int(Duration/Period)*i])\n",
    "        ADDED_N_gap_per.append(round(Added_N_gap_per,2))\n",
    "        m_accumulated.append(round(m_max,2))\n",
    "        m_added.append(round(m_max - round(m0,2),2))\n",
    "        print(\"Week \" + str(i+1) + \":   \" + str(m_max) + \"                          \" + str(m_added[i])  + \"                  \" + str(Nint_m_max) + \"                         \" + str(Added_N) + \"              \" + str(Added_N_gap))\n",
    "        \n",
    "    \n",
    "print(\"\\npercent of N which entered biomass in each week is is:\" + str(ADDED_N_gap_per))"
   ]
  },
  {
   "cell_type": "code",
   "execution_count": null,
   "metadata": {},
   "outputs": [],
   "source": [
    "# for hour in week1:\n",
    "    #max_m_week1 = max(m_interp(range178)) \n",
    "#print(week1)\n",
    "# weeks = [1,2,3]\n",
    "# for i in week:\n",
    "#    for hour in [0:178]:\n",
    "#        min_Next_week_1 = min(Next_interp[hour])\n",
    "#        max_Next_week_1 = min(Next_interp[hour])\n",
    "#for hour in np.arange(0,n_days*24,Period*24)\n",
    "\n",
    "#for i in (1:duration * 3 * 24):\n",
    "#    print i\n",
    "\n",
    "#Next_times_reduced, Nint_times_reduced, m_times_reduced\n",
    "#t_hours"
   ]
  },
  {
   "cell_type": "raw",
   "metadata": {},
   "source": [
    "x2 = pd.ExcelFile('../data/input_output.xlsx')\n",
    "\n",
    "dg1 = x2.parse('Input',header=None)\n",
    "dg2 = x2.parse('Output',header=None)\n",
    "\n",
    "import xlwt\n",
    "\n",
    "book = xlwt.Workbook(encoding=\"utf-8\")\n",
    "\n",
    "sheet1 = book.add_sheet(\"Output\")\n",
    "\n",
    "sheet1.write(2, 4, \"1\")\n",
    "\n",
    "# sheet1.write(2, 4, Next_leftover[0])\n",
    "\n"
   ]
  },
  {
   "cell_type": "raw",
   "metadata": {},
   "source": [
    "# import openpyxl module \n",
    "import openpyxl \n",
    "  \n",
    "# Call a Workbook() function of openpyxl  \n",
    "# to create a new blank Workbook object \n",
    "wb = openpyxl.input_output() \n",
    "  \n",
    "# Get workbook active sheet   \n",
    "# from the active attribute.  \n",
    "sheet = wb.active \n",
    "  \n",
    "# Once have the Worksheet object, \n",
    "# one can get its name from the \n",
    "# title attribute. \n",
    "sheet_title = sheet.title "
   ]
  }
 ],
 "metadata": {
  "colab": {
   "collapsed_sections": [],
   "name": "Meiron_closed_system_simulation.ipynb",
   "provenance": [
    {
     "file_id": "1uKvJsJ-_1-aLrYIrSnGQNnOsG9l8ysjY",
     "timestamp": 1561926275385
    }
   ],
   "version": "0.3.2"
  },
  "kernel_info": {
   "name": "python3"
  },
  "kernelspec": {
   "display_name": "Python 3",
   "language": "python",
   "name": "python3"
  },
  "language_info": {
   "codemirror_mode": {
    "name": "ipython",
    "version": 3
   },
   "file_extension": ".py",
   "mimetype": "text/x-python",
   "name": "python",
   "nbconvert_exporter": "python",
   "pygments_lexer": "ipython3",
   "version": "3.7.3"
  },
  "nteract": {
   "version": "0.15.0"
  }
 },
 "nbformat": 4,
 "nbformat_minor": 1
}
