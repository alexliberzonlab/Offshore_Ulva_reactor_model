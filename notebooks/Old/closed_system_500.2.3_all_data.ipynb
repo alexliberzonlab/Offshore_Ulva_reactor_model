{
 "cells": [
  {
   "cell_type": "markdown",
   "metadata": {
    "colab_type": "text",
    "id": "raGTYa1h4iD_"
   },
   "source": [
    "# Closed system simulation with experimental data markers\n",
    "\n",
    "In this simulation we have a system of 5 liters in which we start with Next = 1000, some Nint (measured) of some mass (m). After this we \"feed\" for a period of 3.5 days, i.e. solve the \"feeding\" part of the simulation. After that, we add 1000 uM to the last value of Next and keep \"feeding\". After one duration (7 days) we reset the water, mass and the amplitude to the beginning of the first cycle. The only difference from the t_0 is the Nint which is accumulating all the effects through the time. The mass is reset to m_0 and Next is reset to 1000 ppm (per something per something)\n"
   ]
  },
  {
   "cell_type": "code",
   "execution_count": 1,
   "metadata": {
    "colab": {},
    "colab_type": "code",
    "id": "yUfAvi3l4iEA"
   },
   "outputs": [],
   "source": [
    "# N_simulation\n",
    "from __future__ import division\n",
    "import numpy as np\n",
    "from scipy.integrate import odeint\n",
    "import matplotlib.pyplot as plt\n",
    "import pandas as pd # to read excel\n",
    "%matplotlib inline\n",
    "\n",
    "from myfunctions import *\n",
    "\n",
    "\n",
    "# from datetime import datetime"
   ]
  },
  {
   "cell_type": "code",
   "execution_count": 2,
   "metadata": {
    "colab": {
     "base_uri": "https://localhost:8080/",
     "height": 277
    },
    "colab_type": "code",
    "executionInfo": {
     "elapsed": 62295,
     "status": "ok",
     "timestamp": 1565466545086,
     "user": {
      "displayName": "Meiron Zollmann",
      "photoUrl": "",
      "userId": "18114482091462006341"
     },
     "user_tz": -180
    },
    "id": "d4VzbZ484iED",
    "inputHidden": false,
    "outputHidden": false,
    "outputId": "6d76a9eb-17b9-400c-de1d-c0cec8fc215c"
   },
   "outputs": [
    {
     "name": "stdout",
     "output_type": "stream",
     "text": [
      "dNextoutdt 0.03\n",
      "dNextindt 0.0\n",
      "dmoutdt 0.0\n",
      "miu 0.014583333333333332\n",
      "Nintmax 4.23\n",
      "Nintmin 1.0\n",
      "NH4max 100.0\n",
      "NH4min 0.0\n",
      "KNH4 10.0\n",
      "KN 2.0\n",
      "Ks 14.0\n",
      "Vmax 60.0\n",
      "Vassim 60.0\n",
      "Next0 0.0\n",
      "NH40 0.0\n",
      "Nint0 1.85\n",
      "m0 0.15\n",
      "Amplitude 500.0\n",
      "Duration 7.0\n",
      "Period 3.5\n",
      "Kd 0.4\n",
      "Nintcrit 3.0\n"
     ]
    }
   ],
   "source": [
    "xl = pd.ExcelFile('../data/input_format.xlsx')\n",
    "\n",
    "df1 = xl.parse('Parameters',header=None)\n",
    "df2 = xl.parse('500.2.3.168')#header=None)\n",
    "\n",
    "\n",
    "# which parameters? and values we read? if you want to print, uncomment:\n",
    "# print(df.iloc[:][0],df.iloc[:][1])\n",
    "\n",
    "# assigmment of parameters to values: \n",
    "for key,val in zip(df1.iloc[:][0],df1.iloc[:][1]):\n",
    "    exec(key + '=val')\n",
    "    print(key,val)\n",
    "    \n",
    "\n",
    "Amplitude = 500\n",
    "Period = 2.333"
   ]
  },
  {
   "cell_type": "code",
   "execution_count": 3,
   "metadata": {},
   "outputs": [
    {
     "data": {
      "text/html": [
       "<div>\n",
       "<style scoped>\n",
       "    .dataframe tbody tr th:only-of-type {\n",
       "        vertical-align: middle;\n",
       "    }\n",
       "\n",
       "    .dataframe tbody tr th {\n",
       "        vertical-align: top;\n",
       "    }\n",
       "\n",
       "    .dataframe thead th {\n",
       "        text-align: right;\n",
       "    }\n",
       "</style>\n",
       "<table border=\"1\" class=\"dataframe\">\n",
       "  <thead>\n",
       "    <tr style=\"text-align: right;\">\n",
       "      <th></th>\n",
       "      <th>day i</th>\n",
       "      <th>day f</th>\n",
       "      <th>sleeve</th>\n",
       "      <th>parameter</th>\n",
       "      <th>Unnamed: 4</th>\n",
       "      <th>Unnamed: 5</th>\n",
       "      <th>Unnamed: 6</th>\n",
       "      <th>Unnamed: 7</th>\n",
       "      <th>Unnamed: 8</th>\n",
       "      <th>Unnamed: 9</th>\n",
       "      <th>Unnamed: 10</th>\n",
       "      <th>Unnamed: 11</th>\n",
       "      <th>Unnamed: 12</th>\n",
       "      <th>Unnamed: 13</th>\n",
       "      <th>Unnamed: 14</th>\n",
       "      <th>Unnamed: 15</th>\n",
       "    </tr>\n",
       "  </thead>\n",
       "  <tbody>\n",
       "    <tr>\n",
       "      <th>0</th>\n",
       "      <td>03.10.19</td>\n",
       "      <td>24.10.19</td>\n",
       "      <td>7.0</td>\n",
       "      <td>Time</td>\n",
       "      <td>22.10.2019  07:00</td>\n",
       "      <td>24.10.2019  09:30</td>\n",
       "      <td>NaN</td>\n",
       "      <td>NaN</td>\n",
       "      <td>NaN</td>\n",
       "      <td>NaN</td>\n",
       "      <td>NaN</td>\n",
       "      <td>NaN</td>\n",
       "      <td>NaN</td>\n",
       "      <td>NaN</td>\n",
       "      <td>NaN</td>\n",
       "      <td>NaN</td>\n",
       "    </tr>\n",
       "    <tr>\n",
       "      <th>1</th>\n",
       "      <td>NaN</td>\n",
       "      <td>NaN</td>\n",
       "      <td>NaN</td>\n",
       "      <td>Next</td>\n",
       "      <td>41.3182</td>\n",
       "      <td>23.3848</td>\n",
       "      <td>NaN</td>\n",
       "      <td>NaN</td>\n",
       "      <td>NaN</td>\n",
       "      <td>NaN</td>\n",
       "      <td>NaN</td>\n",
       "      <td>NaN</td>\n",
       "      <td>NaN</td>\n",
       "      <td>NaN</td>\n",
       "      <td>NaN</td>\n",
       "      <td>NaN</td>\n",
       "    </tr>\n",
       "    <tr>\n",
       "      <th>2</th>\n",
       "      <td>NaN</td>\n",
       "      <td>NaN</td>\n",
       "      <td>NaN</td>\n",
       "      <td>Time</td>\n",
       "      <td>NaN</td>\n",
       "      <td>NaN</td>\n",
       "      <td>NaN</td>\n",
       "      <td>NaN</td>\n",
       "      <td>NaN</td>\n",
       "      <td>NaN</td>\n",
       "      <td>NaN</td>\n",
       "      <td>NaN</td>\n",
       "      <td>NaN</td>\n",
       "      <td>NaN</td>\n",
       "      <td>NaN</td>\n",
       "      <td>NaN</td>\n",
       "    </tr>\n",
       "    <tr>\n",
       "      <th>3</th>\n",
       "      <td>NaN</td>\n",
       "      <td>NaN</td>\n",
       "      <td>NaN</td>\n",
       "      <td>Nint</td>\n",
       "      <td>NaN</td>\n",
       "      <td>NaN</td>\n",
       "      <td>NaN</td>\n",
       "      <td>NaN</td>\n",
       "      <td>NaN</td>\n",
       "      <td>NaN</td>\n",
       "      <td>NaN</td>\n",
       "      <td>NaN</td>\n",
       "      <td>NaN</td>\n",
       "      <td>NaN</td>\n",
       "      <td>NaN</td>\n",
       "      <td>NaN</td>\n",
       "    </tr>\n",
       "    <tr>\n",
       "      <th>4</th>\n",
       "      <td>NaN</td>\n",
       "      <td>NaN</td>\n",
       "      <td>NaN</td>\n",
       "      <td>Time</td>\n",
       "      <td>03.10.19 11:30</td>\n",
       "      <td>06.10.19 10:00</td>\n",
       "      <td>08.10.19 12:00</td>\n",
       "      <td>10.10.19 11:30</td>\n",
       "      <td>10.10.19 12:30</td>\n",
       "      <td>13.10.19 08:00</td>\n",
       "      <td>15.10.19 10:45</td>\n",
       "      <td>17.10.19 10:00</td>\n",
       "      <td>17.10.19 11:00</td>\n",
       "      <td>20.10.19 10:00</td>\n",
       "      <td>22.10.19 08:00</td>\n",
       "      <td>24.10.19 12:00</td>\n",
       "    </tr>\n",
       "  </tbody>\n",
       "</table>\n",
       "</div>"
      ],
      "text/plain": [
       "      day i     day f  sleeve parameter         Unnamed: 4         Unnamed: 5  \\\n",
       "0  03.10.19  24.10.19     7.0      Time  22.10.2019  07:00  24.10.2019  09:30   \n",
       "1       NaN       NaN     NaN      Next            41.3182            23.3848   \n",
       "2       NaN       NaN     NaN      Time                NaN                NaN   \n",
       "3       NaN       NaN     NaN      Nint                NaN                NaN   \n",
       "4       NaN       NaN     NaN      Time     03.10.19 11:30     06.10.19 10:00   \n",
       "\n",
       "       Unnamed: 6      Unnamed: 7      Unnamed: 8      Unnamed: 9  \\\n",
       "0             NaN             NaN             NaN             NaN   \n",
       "1             NaN             NaN             NaN             NaN   \n",
       "2             NaN             NaN             NaN             NaN   \n",
       "3             NaN             NaN             NaN             NaN   \n",
       "4  08.10.19 12:00  10.10.19 11:30  10.10.19 12:30  13.10.19 08:00   \n",
       "\n",
       "      Unnamed: 10     Unnamed: 11     Unnamed: 12     Unnamed: 13  \\\n",
       "0             NaN             NaN             NaN             NaN   \n",
       "1             NaN             NaN             NaN             NaN   \n",
       "2             NaN             NaN             NaN             NaN   \n",
       "3             NaN             NaN             NaN             NaN   \n",
       "4  15.10.19 10:45  17.10.19 10:00  17.10.19 11:00  20.10.19 10:00   \n",
       "\n",
       "      Unnamed: 14     Unnamed: 15  \n",
       "0             NaN             NaN  \n",
       "1             NaN             NaN  \n",
       "2             NaN             NaN  \n",
       "3             NaN             NaN  \n",
       "4  22.10.19 08:00  24.10.19 12:00  "
      ]
     },
     "execution_count": 3,
     "metadata": {},
     "output_type": "execute_result"
    }
   ],
   "source": [
    "df2.head()"
   ]
  },
  {
   "cell_type": "code",
   "execution_count": 4,
   "metadata": {},
   "outputs": [
    {
     "data": {
      "text/html": [
       "<div>\n",
       "<style scoped>\n",
       "    .dataframe tbody tr th:only-of-type {\n",
       "        vertical-align: middle;\n",
       "    }\n",
       "\n",
       "    .dataframe tbody tr th {\n",
       "        vertical-align: top;\n",
       "    }\n",
       "\n",
       "    .dataframe thead th {\n",
       "        text-align: right;\n",
       "    }\n",
       "</style>\n",
       "<table border=\"1\" class=\"dataframe\">\n",
       "  <thead>\n",
       "    <tr style=\"text-align: right;\">\n",
       "      <th></th>\n",
       "      <th>day i</th>\n",
       "      <th>day f</th>\n",
       "      <th>sleeve</th>\n",
       "      <th>parameter</th>\n",
       "      <th>Unnamed: 4</th>\n",
       "      <th>Unnamed: 5</th>\n",
       "      <th>Unnamed: 6</th>\n",
       "      <th>Unnamed: 7</th>\n",
       "      <th>Unnamed: 8</th>\n",
       "      <th>Unnamed: 9</th>\n",
       "      <th>Unnamed: 10</th>\n",
       "      <th>Unnamed: 11</th>\n",
       "      <th>Unnamed: 12</th>\n",
       "      <th>Unnamed: 13</th>\n",
       "      <th>Unnamed: 14</th>\n",
       "      <th>Unnamed: 15</th>\n",
       "    </tr>\n",
       "  </thead>\n",
       "  <tbody>\n",
       "    <tr>\n",
       "      <th>13</th>\n",
       "      <td>NaN</td>\n",
       "      <td>NaN</td>\n",
       "      <td>NaN</td>\n",
       "      <td>Next</td>\n",
       "      <td>86.9002</td>\n",
       "      <td>NaN</td>\n",
       "      <td>NaN</td>\n",
       "      <td>NaN</td>\n",
       "      <td>NaN</td>\n",
       "      <td>NaN</td>\n",
       "      <td>NaN</td>\n",
       "      <td>NaN</td>\n",
       "      <td>NaN</td>\n",
       "      <td>NaN</td>\n",
       "      <td>NaN</td>\n",
       "      <td>NaN</td>\n",
       "    </tr>\n",
       "    <tr>\n",
       "      <th>14</th>\n",
       "      <td>NaN</td>\n",
       "      <td>NaN</td>\n",
       "      <td>NaN</td>\n",
       "      <td>Time</td>\n",
       "      <td>NaN</td>\n",
       "      <td>NaN</td>\n",
       "      <td>NaN</td>\n",
       "      <td>NaN</td>\n",
       "      <td>NaN</td>\n",
       "      <td>NaN</td>\n",
       "      <td>NaN</td>\n",
       "      <td>NaN</td>\n",
       "      <td>NaN</td>\n",
       "      <td>NaN</td>\n",
       "      <td>NaN</td>\n",
       "      <td>NaN</td>\n",
       "    </tr>\n",
       "    <tr>\n",
       "      <th>15</th>\n",
       "      <td>NaN</td>\n",
       "      <td>NaN</td>\n",
       "      <td>NaN</td>\n",
       "      <td>Nint</td>\n",
       "      <td>NaN</td>\n",
       "      <td>NaN</td>\n",
       "      <td>NaN</td>\n",
       "      <td>NaN</td>\n",
       "      <td>NaN</td>\n",
       "      <td>NaN</td>\n",
       "      <td>NaN</td>\n",
       "      <td>NaN</td>\n",
       "      <td>NaN</td>\n",
       "      <td>NaN</td>\n",
       "      <td>NaN</td>\n",
       "      <td>NaN</td>\n",
       "    </tr>\n",
       "    <tr>\n",
       "      <th>16</th>\n",
       "      <td>NaN</td>\n",
       "      <td>NaN</td>\n",
       "      <td>NaN</td>\n",
       "      <td>Time</td>\n",
       "      <td>03.10.19 11:30</td>\n",
       "      <td>06.10.19 10:00</td>\n",
       "      <td>08.10.19 12:00</td>\n",
       "      <td>10.10.19 11:30</td>\n",
       "      <td>10.10.19 12:30</td>\n",
       "      <td>13.10.19 08:00</td>\n",
       "      <td>15.10.19 10:45</td>\n",
       "      <td>17.10.19 10:00</td>\n",
       "      <td>17.10.19 11:00</td>\n",
       "      <td>20.10.19 10:00</td>\n",
       "      <td>22.10.19 08:00</td>\n",
       "      <td>24.10.19 12:00</td>\n",
       "    </tr>\n",
       "    <tr>\n",
       "      <th>17</th>\n",
       "      <td>NaN</td>\n",
       "      <td>NaN</td>\n",
       "      <td>NaN</td>\n",
       "      <td>m</td>\n",
       "      <td>0.15</td>\n",
       "      <td>0.141</td>\n",
       "      <td>0.147</td>\n",
       "      <td>0.207</td>\n",
       "      <td>0.15</td>\n",
       "      <td>0.24</td>\n",
       "      <td>0.366</td>\n",
       "      <td>0.45</td>\n",
       "      <td>0.15</td>\n",
       "      <td>0.291</td>\n",
       "      <td>0.384</td>\n",
       "      <td>0.441</td>\n",
       "    </tr>\n",
       "  </tbody>\n",
       "</table>\n",
       "</div>"
      ],
      "text/plain": [
       "   day i day f  sleeve parameter      Unnamed: 4      Unnamed: 5  \\\n",
       "13   NaN   NaN     NaN      Next         86.9002             NaN   \n",
       "14   NaN   NaN     NaN      Time             NaN             NaN   \n",
       "15   NaN   NaN     NaN      Nint             NaN             NaN   \n",
       "16   NaN   NaN     NaN      Time  03.10.19 11:30  06.10.19 10:00   \n",
       "17   NaN   NaN     NaN         m            0.15           0.141   \n",
       "\n",
       "        Unnamed: 6      Unnamed: 7      Unnamed: 8      Unnamed: 9  \\\n",
       "13             NaN             NaN             NaN             NaN   \n",
       "14             NaN             NaN             NaN             NaN   \n",
       "15             NaN             NaN             NaN             NaN   \n",
       "16  08.10.19 12:00  10.10.19 11:30  10.10.19 12:30  13.10.19 08:00   \n",
       "17           0.147           0.207            0.15            0.24   \n",
       "\n",
       "       Unnamed: 10     Unnamed: 11     Unnamed: 12     Unnamed: 13  \\\n",
       "13             NaN             NaN             NaN             NaN   \n",
       "14             NaN             NaN             NaN             NaN   \n",
       "15             NaN             NaN             NaN             NaN   \n",
       "16  15.10.19 10:45  17.10.19 10:00  17.10.19 11:00  20.10.19 10:00   \n",
       "17           0.366            0.45            0.15           0.291   \n",
       "\n",
       "       Unnamed: 14     Unnamed: 15  \n",
       "13             NaN             NaN  \n",
       "14             NaN             NaN  \n",
       "15             NaN             NaN  \n",
       "16  22.10.19 08:00  24.10.19 12:00  \n",
       "17           0.384           0.441  "
      ]
     },
     "execution_count": 4,
     "metadata": {},
     "output_type": "execute_result"
    }
   ],
   "source": [
    "df2.tail()"
   ]
  },
  {
   "cell_type": "code",
   "execution_count": 5,
   "metadata": {},
   "outputs": [
    {
     "name": "stdout",
     "output_type": "stream",
     "text": [
      "N of experiments = 3\n"
     ]
    }
   ],
   "source": [
    "# find out how many experiments are in the file\n",
    "n_exp = df2['day i'].dropna().shape[0] # number of items that have day i property and not NaN\n",
    "\n",
    "# it should be equal to the number of day f - just for a test. will pop an error if the file is corrupted\n",
    "assert (n_exp == df2['day f'].dropna().shape[0])\n",
    "\n",
    "print('N of experiments = {}'.format(n_exp))"
   ]
  },
  {
   "cell_type": "code",
   "execution_count": 6,
   "metadata": {},
   "outputs": [
    {
     "data": {
      "text/plain": [
       "0     b'03.10.19'\n",
       "6     b'03.10.19'\n",
       "12    b'03.10.19'\n",
       "Name: day i, dtype: bytes64"
      ]
     },
     "execution_count": 6,
     "metadata": {},
     "output_type": "execute_result"
    }
   ],
   "source": [
    "day_i = df2['day i'].dropna()\n",
    "day_i.astype('S')"
   ]
  },
  {
   "cell_type": "code",
   "execution_count": 7,
   "metadata": {},
   "outputs": [
    {
     "name": "stdout",
     "output_type": "stream",
     "text": [
      "sleeve 7\n",
      "sleeve 8\n",
      "sleeve 9\n"
     ]
    }
   ],
   "source": [
    "# find out the sleeve number in each experiment\n",
    "sleeves = df2['sleeve'].dropna().astype(int)\n",
    "for s in sleeves:\n",
    "    print('sleeve {}'.format(s))"
   ]
  },
  {
   "cell_type": "code",
   "execution_count": 8,
   "metadata": {},
   "outputs": [
    {
     "name": "stdout",
     "output_type": "stream",
     "text": [
      "Int64Index([3, 9, 15], dtype='int64')\n"
     ]
    },
    {
     "data": {
      "text/plain": [
       "Unnamed: 4        3\n",
       "Unnamed: 5     2.27\n",
       "Unnamed: 6     3.47\n",
       "Unnamed: 8     4.02\n",
       "Unnamed: 9     3.16\n",
       "Unnamed: 10    1.92\n",
       "Unnamed: 11    3.96\n",
       "Unnamed: 12    3.78\n",
       "Name: 9, dtype: object"
      ]
     },
     "execution_count": 8,
     "metadata": {},
     "output_type": "execute_result"
    }
   ],
   "source": [
    "ind_Nint = df2.index[df2['parameter'] == 'Nint'] # find index of the Nint rows\n",
    "print(ind_Nint) # print it for the reference, these are rows 2, 6 and 10\n",
    "\n",
    "# small test\n",
    "assert(len(ind_Nint) == n_exp) # if we found less Nint than experiments, then something is wrong\n",
    "\n",
    "\n",
    "df2.iloc[ind_Nint[1],4:].dropna() # take the 2nd element of that index, i.e. 2nd experiment and show the data:"
   ]
  },
  {
   "cell_type": "code",
   "execution_count": 9,
   "metadata": {},
   "outputs": [
    {
     "name": "stdout",
     "output_type": "stream",
     "text": [
      "Unnamed: 4   2019-10-22 07:00:00\n",
      "Unnamed: 5   2019-10-24 09:30:00\n",
      "Name: 0, dtype: datetime64[ns]\n"
     ]
    }
   ],
   "source": [
    "ind_Next = df2.index[df2['parameter'] == 'Next'] # find index of the Next \n",
    "Next_measurement_times = pd.to_datetime(df2.iloc[ind_Next[0]-1,4:].dropna(),dayfirst=True)\n",
    "print(Next_measurement_times)"
   ]
  },
  {
   "cell_type": "code",
   "execution_count": 10,
   "metadata": {},
   "outputs": [
    {
     "name": "stdout",
     "output_type": "stream",
     "text": [
      "Unnamed: 4    2019-10-03 11:30:00\n",
      "Unnamed: 5    2019-10-06 10:00:00\n",
      "Unnamed: 6    2019-10-08 12:00:00\n",
      "Unnamed: 7    2019-10-10 11:30:00\n",
      "Unnamed: 8    2019-10-10 12:30:00\n",
      "Unnamed: 9    2019-10-13 08:00:00\n",
      "Unnamed: 10   2019-10-15 10:45:00\n",
      "Unnamed: 11   2019-10-17 10:00:00\n",
      "Unnamed: 12   2019-10-17 11:00:00\n",
      "Unnamed: 13   2019-10-20 10:00:00\n",
      "Unnamed: 14   2019-10-22 08:00:00\n",
      "Unnamed: 15   2019-10-24 12:00:00\n",
      "Name: 4, dtype: datetime64[ns]\n",
      "0 03.10.19 sleeve7\n",
      "Unnamed: 4    2019-10-03 11:30:00\n",
      "Unnamed: 5    2019-10-06 10:00:00\n",
      "Unnamed: 6    2019-10-08 12:00:00\n",
      "Unnamed: 7    2019-10-10 11:30:00\n",
      "Unnamed: 8    2019-10-10 12:30:00\n",
      "Unnamed: 9    2019-10-13 08:00:00\n",
      "Unnamed: 10   2019-10-15 10:45:00\n",
      "Unnamed: 11   2019-10-17 10:00:00\n",
      "Unnamed: 12   2019-10-17 11:00:00\n",
      "Unnamed: 13   2019-10-20 10:00:00\n",
      "Unnamed: 14   2019-10-22 08:00:00\n",
      "Unnamed: 15   2019-10-24 12:00:00\n",
      "Name: 10, dtype: datetime64[ns]\n",
      "1 03.10.19 sleeve8\n",
      "Unnamed: 4    2019-10-03 11:30:00\n",
      "Unnamed: 5    2019-10-06 10:00:00\n",
      "Unnamed: 6    2019-10-08 12:00:00\n",
      "Unnamed: 7    2019-10-10 11:30:00\n",
      "Unnamed: 8    2019-10-10 12:30:00\n",
      "Unnamed: 9    2019-10-13 08:00:00\n",
      "Unnamed: 10   2019-10-15 10:45:00\n",
      "Unnamed: 11   2019-10-17 10:00:00\n",
      "Unnamed: 12   2019-10-17 11:00:00\n",
      "Unnamed: 13   2019-10-20 10:00:00\n",
      "Unnamed: 14   2019-10-22 08:00:00\n",
      "Unnamed: 15   2019-10-24 12:00:00\n",
      "Name: 16, dtype: datetime64[ns]\n",
      "2 03.10.19 sleeve9\n"
     ]
    }
   ],
   "source": [
    "# plot all sleeves data\n",
    "ind_m = df2.index[df2['parameter'] == 'm'] # find index of the mass was measured (this is the only data available so far)\n",
    "\n",
    "# small test\n",
    "assert(len(ind_m) == n_exp) # if we found less Nint than experiments, then something is wrong\n",
    "\n",
    "\n",
    "# fig,ax = plt.subplots(figsize=(12,10))\n",
    "\n",
    "# plt.legend()\n",
    "# plt.xlabel('Time')\n",
    "# plt.ylabel('mass');\n",
    "\n",
    "m_all, m_times_all, Nint_all, Nint_times_all, Next_all, Next_times_all = [], [], [], [], [], []\n",
    "\n",
    "for counter,value in enumerate(ind_m):\n",
    "    m = df2.iloc[value,4:]\n",
    "    val = []\n",
    "    for number in m:\n",
    "        a=~np.isnan(number)\n",
    "        val.append(a)\n",
    "    m = df2.iloc[value,4:][val] #'value' gives row number, '4:' goes column by column starting at 4,'val' keeps only non NaNs\n",
    "    m_measurement_times = pd.to_datetime(df2.iloc[value-1,4:][val],dayfirst=True)\n",
    "    print(m_measurement_times)\n",
    "    hours = pd.Series((m_measurement_times - m_measurement_times[0]).astype('timedelta64[h]'))\n",
    "    label = '{} sleeve{:d}'.format(day_i.iloc[counter],sleeves.iloc[counter])\n",
    "    print(counter, label)\n",
    " #   ax.plot(hours,m,':o',label=label,lw=2)\n",
    "    \n",
    "    for sample in m:\n",
    "        m_all.append(sample)\n",
    "        \n",
    "    for h in hours:\n",
    "        m_times_all.append(h)\n",
    "        \n",
    "# ax.legend()\n",
    "# ax.set_xlabel('Time (hours)')\n",
    "# ax.set_ylabel('mass (g DW / l)');"
   ]
  },
  {
   "cell_type": "code",
   "execution_count": 11,
   "metadata": {},
   "outputs": [],
   "source": [
    "# plot all sleeves data\n",
    "ind_Nint = df2.index[df2['parameter'] == 'Nint'] # find index of the mass was measured (this is the only data available so far)\n",
    "# small test\n",
    "assert(len(ind_Nint) == n_exp) # if we found less Nint than experiments, then something is wrong\n",
    "\n",
    "# fig,ax = plt.subplots(figsize=(12,10))\n",
    "\n",
    "# plt.legend()\n",
    "# plt.xlabel('Time')\n",
    "# plt.ylabel('Nint');\n",
    "\n",
    "Nint_all, Nint_times_all = [], []\n",
    "for counter,value in enumerate(ind_Nint):\n",
    "    Nint = df2.iloc[value,4:] #'value' gives row number, '4:' goes column by column starting at 4.\n",
    "    val = []\n",
    "    for number in Nint:\n",
    "        a=~np.isnan(number)\n",
    "        val.append(a)\n",
    "    Nint = df2.iloc[value,4:][val]\n",
    "    Nint_measurement_times = pd.to_datetime(df2.iloc[value-1,4:],dayfirst=True)\n",
    "    hours = pd.Series((Nint_measurement_times - Nint_measurement_times[0])[val].astype('timedelta64[h]'))\n",
    "    label = '{} sleeve{:d}'.format(day_i.iloc[counter],sleeves.iloc[counter])\n",
    "    # print(counter, label)\n",
    "#    ax.plot(hours,Nint,':o',label=label,lw=2)\n",
    "    \n",
    "    for sample in Nint:\n",
    "        Nint_all.append(sample)\n",
    "    \n",
    "    for h in hours:\n",
    "        Nint_times_all.append(h)\n",
    "        \n",
    "# ax.legend()\n",
    "# ax.set_xlabel('Time (hours)')\n",
    "# ax.set_ylabel('Nint (% g N / g DW)');"
   ]
  },
  {
   "cell_type": "code",
   "execution_count": 12,
   "metadata": {},
   "outputs": [
    {
     "data": {
      "text/plain": [
       "([3, 2.27, 3.47, 4.02, 3.16, 1.92, 3.96, 3.78],\n",
       " [0.0, 70.0, 120.0, 236.0, 287.0, 334.0, 406.0, 504.0])"
      ]
     },
     "execution_count": 12,
     "metadata": {},
     "output_type": "execute_result"
    }
   ],
   "source": [
    "Nint_all, Nint_times_all"
   ]
  },
  {
   "cell_type": "code",
   "execution_count": 13,
   "metadata": {},
   "outputs": [],
   "source": [
    "# plot all sleeves data\n",
    "ind_Next = df2.index[df2['parameter'] == 'Next'] # find index of the mass was measured (this is the only data available so far)\n",
    "# small test\n",
    "assert(len(ind_Next) == n_exp) # if we found less Nint than experiments, then something is wrong\n",
    "\n",
    "#fig,ax = plt.subplots(figsize=(12,10))\n",
    "\n",
    "#plt.legend()\n",
    "#plt.xlabel('Time')\n",
    "#plt.ylabel('Next');\n",
    "\n",
    "Next_all, Next_times_all = [], []\n",
    "for counter,value in enumerate(ind_Next):\n",
    "    Next = df2.iloc[value,4:] #'value' gives row number, '4:' goes column by column starting at 4.\n",
    "    val = []\n",
    "    for number in Next:\n",
    "        a=~np.isnan(number)\n",
    "        val.append(a)\n",
    "    Next = df2.iloc[value,4:][val]\n",
    "    Next_measurement_times = pd.to_datetime(df2.iloc[value-1,4:],dayfirst=True)\n",
    "    hours = pd.Series((Next_measurement_times - Next_measurement_times[0])[val].astype('timedelta64[h]'))\n",
    "    label = '{} sleeve{:d}'.format(day_i.iloc[counter],sleeves.iloc[counter])\n",
    "    # print(counter, label)\n",
    "#    ax.plot(hours,Next,':o',label=label,lw=2)\n",
    "    \n",
    "    for sample in Next:\n",
    "        Next_all.append(sample)\n",
    "    \n",
    "    for h in hours:\n",
    "        Next_times_all.append(h)\n",
    "        \n",
    "#ax.legend()\n",
    "#ax.set_xlabel('Time (hours)')\n",
    "#ax.set_ylabel('Next (umol N / l)');"
   ]
  },
  {
   "cell_type": "code",
   "execution_count": 14,
   "metadata": {
    "colab": {
     "base_uri": "https://localhost:8080/",
     "height": 225
    },
    "colab_type": "code",
    "executionInfo": {
     "elapsed": 64857,
     "status": "ok",
     "timestamp": 1565466547653,
     "user": {
      "displayName": "Meiron Zollmann",
      "photoUrl": "",
      "userId": "18114482091462006341"
     },
     "user_tz": -180
    },
    "id": "56GciWDw4iEJ",
    "outputId": "212b5b39-6e16-4e92-f9b3-4767f05cdf4a"
   },
   "outputs": [
    {
     "name": "stdout",
     "output_type": "stream",
     "text": [
      "0.0\n",
      "Starting point\n",
      "55.992000000000004\n",
      "Period\n",
      "111.98400000000001\n",
      "Period\n",
      "167.976\n",
      "223.96800000000002\n",
      "Period\n",
      "279.96000000000004\n",
      "335.952\n",
      "391.944\n",
      "447.93600000000004\n",
      "Period\n",
      "503.92800000000005\n"
     ]
    }
   ],
   "source": [
    "# now combine the two:\n",
    "# decide how many cycles you want, e.g. 10 days, with a daily feeding\n",
    "NEXT, NINT, M, T = [],[],[],[]\n",
    "\n",
    "n_days = Duration*3\n",
    "\n",
    "for hour in np.arange(0,n_days*24,Period*24):\n",
    "    print(hour)\n",
    "    \n",
    "    if hour == 0:\n",
    "        print('Starting point')\n",
    "        Nint_0 = Nint0\n",
    "        m_0 = m0\n",
    "        Next_0 = Amplitude\n",
    "    \n",
    "    if hour > 0 and np.mod(hour,Period*24) == 0:\n",
    "        if np.mod(hour,Duration*24) == 0:\n",
    "            print('Duration')\n",
    "            # reset everything, except Nint\n",
    "            Nint_0 = NINT[-1][-1]\n",
    "            Next_0 = Amplitude\n",
    "            m_0 = m0\n",
    "        else:    \n",
    "            # period passed, not Duration\n",
    "            # add amplitude, keep going \n",
    "            print('Period')\n",
    "            Next_0 = NEXT[-1][-1] + Amplitude\n",
    "            Nint_0 = NINT[-1][-1]\n",
    "            m_0 = M[-1][-1]\n",
    "\n",
    "        \n",
    "    # setup initial conditions\n",
    "    x0 = [Next_0,Nint_0,m_0]\n",
    "    \n",
    "    t = np.linspace(hour,hour+Period*24)\n",
    "    x = odeint(N_feeding_original,x0,t,args=(Nintmax,Nintmin,Vmax,Ks,KN,dNextoutdt,dNextindt,miu,dmoutdt))\n",
    "\n",
    "    NEXT.append(x[: , 0])\n",
    "    NINT.append(x[: , 1])\n",
    "    M.append(x[: , 2])\n",
    "    T.append(t)\n",
    "    \n",
    "    t_model = np.hstack(T)\n",
    "    Next_model = np.hstack(NEXT)\n",
    "    Nint_model = np.hstack(NINT)\n",
    "    m_model = np.hstack(M)"
   ]
  },
  {
   "cell_type": "markdown",
   "metadata": {
    "colab_type": "text",
    "id": "QcYNkB9i_qzG"
   },
   "source": [
    "## Read the experimental data from the same file, second sheet"
   ]
  },
  {
   "cell_type": "code",
   "execution_count": 15,
   "metadata": {
    "colab": {
     "base_uri": "https://localhost:8080/",
     "height": 609
    },
    "colab_type": "code",
    "executionInfo": {
     "elapsed": 64853,
     "status": "ok",
     "timestamp": 1565466547664,
     "user": {
      "displayName": "Meiron Zollmann",
      "photoUrl": "",
      "userId": "18114482091462006341"
     },
     "user_tz": -180
    },
    "id": "Y3S108QvLvFG",
    "outputId": "ed4b6371-8942-42a8-c154-fee251ad0c0c"
   },
   "outputs": [
    {
     "data": {
      "image/png": "[encoded data removed]",
      "text/plain": [
       "<Figure size 864x720 with 3 Axes>"
      ]
     },
     "metadata": {
      "needs_background": "light"
     },
     "output_type": "display_data"
    }
   ],
   "source": [
    "plot_result(t_model,Next_model,Nint_model,m_model,Nint=Nint_all,tNint=Nint_times_all,m=m_all,tm=m_times_all,Next=Next_all,tNext=Next_times_all)"
   ]
  },
  {
   "cell_type": "code",
   "execution_count": 16,
   "metadata": {},
   "outputs": [
    {
     "name": "stdout",
     "output_type": "stream",
     "text": [
      "36\n",
      "0.132\n"
     ]
    }
   ],
   "source": [
    "print(len(m_all))\n",
    "#sorted(m_all)\n",
    "print(min(m_all))\n"
   ]
  },
  {
   "cell_type": "raw",
   "metadata": {},
   "source": [
    "m_all_sporulated = remove_sporulation_from_m_list(m_all, 0.145)\n",
    "m_all_sporulated\n"
   ]
  },
  {
   "cell_type": "code",
   "execution_count": 17,
   "metadata": {},
   "outputs": [
    {
     "name": "stdout",
     "output_type": "stream",
     "text": [
      "[4, 8, 12, 13, 14, 15, 16, 20, 24, 25, 26, 28, 32]\n",
      "12\n",
      "0.15\n",
      "335.0\n",
      "11\n",
      "0.15\n",
      "169.0\n",
      "10\n",
      "0.14700000000000002\n",
      "120.0\n",
      "9\n",
      "0.14100000000000001\n",
      "70.0\n",
      "8\n",
      "0.15\n",
      "0.0\n",
      "7\n",
      "0.15\n",
      "335.0\n",
      "6\n",
      "0.14100000000000001\n",
      "169.0\n",
      "5\n",
      "0.14700000000000002\n",
      "168.0\n",
      "4\n",
      "0.14700000000000002\n",
      "120.0\n",
      "3\n",
      "0.132\n",
      "70.0\n",
      "2\n",
      "0.15\n",
      "0.0\n",
      "1\n",
      "0.15\n",
      "335.0\n",
      "0\n",
      "0.15\n",
      "169.0\n",
      "0.153\n",
      "[0, 1, 2, 3, 4, 5, 6, 7, 8, 9, 10, 11, 12]\n",
      "12\n",
      "0.378\n",
      "334.0\n",
      "11\n",
      "0.348\n",
      "287.0\n",
      "10\n",
      "0.216\n",
      "236.0\n",
      "9\n",
      "0.41400000000000003\n",
      "504.0\n",
      "8\n",
      "0.345\n",
      "452.0\n",
      "7\n",
      "0.291\n",
      "406.0\n",
      "6\n",
      "0.411\n",
      "334.0\n",
      "5\n",
      "0.345\n",
      "287.0\n",
      "4\n",
      "0.24\n",
      "236.0\n",
      "3\n",
      "0.20700000000000002\n",
      "168.0\n",
      "2\n",
      "0.162\n",
      "120.0\n",
      "1\n",
      "0.162\n",
      "70.0\n",
      "0\n",
      "0.153\n",
      "0.0\n"
     ]
    }
   ],
   "source": [
    "sporulation_indices = [i for i, x in enumerate(m_all) if x <= 0.15]\n",
    "print(sporulation_indices)\n",
    "m_no_sporulation = m_all\n",
    "m_times_no_sporulation = m_times_all\n",
    "\n",
    "for i in range(len(sporulation_indices) - 1, -1,-1):\n",
    "    print(i)\n",
    "    print(m_no_sporulation[sporulation_indices[i]])\n",
    "    del m_no_sporulation[sporulation_indices[i]]\n",
    "    print(m_times_no_sporulation[sporulation_indices[i]])\n",
    "    del m_times_no_sporulation[sporulation_indices[i]]\n",
    "#print (len(m_no_sporulation), len(m_times_no_sporulation))\n",
    "#m_all_non_sporulation = m_all(non_sporulation_indices)\n",
    "#m_no_sporulation\n",
    "\n",
    "print(min(m_no_sporulation))\n",
    "\n",
    "sporulation_indices2 = [i for i, t in enumerate(sporulation_indices) if [t < 10 or 158 < t < 178 or 326 < t < 346]]\n",
    "print(sporulation_indices2)\n",
    "\n",
    "for i in range(len(sporulation_indices2) - 1, -1,-1):\n",
    "    print(i)\n",
    "    print(m_no_sporulation[sporulation_indices2[i]])\n",
    "    del m_no_sporulation[sporulation_indices2[i]]\n",
    "    print(m_times_no_sporulation[sporulation_indices2[i]])\n",
    "    del m_times_no_sporulation[sporulation_indices2[i]]"
   ]
  },
  {
   "cell_type": "code",
   "execution_count": 18,
   "metadata": {},
   "outputs": [
    {
     "data": {
      "image/png": "[encoded data removed]",
      "text/plain": [
       "<Figure size 864x720 with 3 Axes>"
      ]
     },
     "metadata": {
      "needs_background": "light"
     },
     "output_type": "display_data"
    }
   ],
   "source": [
    "plot_result(t_model,Next_model,Nint_model,m_model,Nint=Nint_all,tNint=Nint_times_all,m=m_no_sporulation,tm=m_times_no_sporulation,Next=Next_all,tNext=Next_times_all)"
   ]
  },
  {
   "cell_type": "code",
   "execution_count": null,
   "metadata": {},
   "outputs": [],
   "source": []
  },
  {
   "cell_type": "code",
   "execution_count": null,
   "metadata": {},
   "outputs": [],
   "source": []
  }
 ],
 "metadata": {
  "colab": {
   "collapsed_sections": [],
   "name": "Meiron_closed_system_simulation.ipynb",
   "provenance": [
    {
     "file_id": "1uKvJsJ-_1-aLrYIrSnGQNnOsG9l8ysjY",
     "timestamp": 1561926275385
    }
   ],
   "version": "0.3.2"
  },
  "kernel_info": {
   "name": "python3"
  },
  "kernelspec": {
   "display_name": "Python 3",
   "language": "python",
   "name": "python3"
  },
  "language_info": {
   "codemirror_mode": {
    "name": "ipython",
    "version": 3
   },
   "file_extension": ".py",
   "mimetype": "text/x-python",
   "name": "python",
   "nbconvert_exporter": "python",
   "pygments_lexer": "ipython3",
   "version": "3.7.3"
  },
  "nteract": {
   "version": "0.15.0"
  }
 },
 "nbformat": 4,
 "nbformat_minor": 1
}
