{
 "cells": [
  {
   "cell_type": "code",
   "execution_count": 1,
   "metadata": {},
   "outputs": [],
   "source": [
    "# effects of weighing and trimming"
   ]
  },
  {
   "cell_type": "code",
   "execution_count": 2,
   "metadata": {
    "colab": {},
    "colab_type": "code",
    "id": "yUfAvi3l4iEA"
   },
   "outputs": [],
   "source": [
    "from __future__ import division\n",
    "import numpy as np\n",
    "import scipy as sp\n",
    "from scipy.integrate import odeint\n",
    "from scipy import stats\n",
    "import matplotlib.pyplot as plt\n",
    "import pandas as pd # to read excel\n",
    "import seaborn as sns\n",
    "from array import *\n",
    "import researchpy as rp\n",
    "import scipy.stats as stats\n",
    "%matplotlib inline\n",
    "\n",
    "from myfunctions import *\n",
    "\n",
    "import datetime"
   ]
  },
  {
   "cell_type": "code",
   "execution_count": 3,
   "metadata": {},
   "outputs": [],
   "source": [
    "# statistics functions\n",
    "\n",
    "import scikit_posthocs as scp"
   ]
  },
  {
   "cell_type": "code",
   "execution_count": 4,
   "metadata": {
    "colab": {
     "base_uri": "https://localhost:8080/",
     "height": 277
    },
    "colab_type": "code",
    "executionInfo": {
     "elapsed": 62295,
     "status": "ok",
     "timestamp": 1565466545086,
     "user": {
      "displayName": "Meiron Zollmann",
      "photoUrl": "",
      "userId": "18114482091462006341"
     },
     "user_tz": -180
    },
    "id": "d4VzbZ484iED",
    "inputHidden": false,
    "outputHidden": false,
    "outputId": "6d76a9eb-17b9-400c-de1d-c0cec8fc215c"
   },
   "outputs": [],
   "source": [
    "# Import data and parameters\n",
    "\n",
    "xl = pd.ExcelFile('../data/Parameters.xlsx')\n",
    "x2 = pd.ExcelFile('../data/Data.xlsx')\n",
    "\n",
    "# Import parameters into df1\n",
    "df1 = xl.parse('Parameters',header=None)\n",
    "\n",
    "# Import indoor data into df2\n",
    "df2 = x2.parse('Indoor')\n",
    "\n",
    "# Import offshore data ito df2\n",
    "df3 = x2.parse('Offshore')\n",
    "\n",
    "# Import outdoor data ito df4\n",
    "df4 = x2.parse('Outdoor')"
   ]
  },
  {
   "cell_type": "code",
   "execution_count": 5,
   "metadata": {},
   "outputs": [
    {
     "data": {
      "text/html": [
       "<div>\n",
       "<style scoped>\n",
       "    .dataframe tbody tr th:only-of-type {\n",
       "        vertical-align: middle;\n",
       "    }\n",
       "\n",
       "    .dataframe tbody tr th {\n",
       "        vertical-align: top;\n",
       "    }\n",
       "\n",
       "    .dataframe thead th {\n",
       "        text-align: right;\n",
       "    }\n",
       "</style>\n",
       "<table border=\"1\" class=\"dataframe\">\n",
       "  <thead>\n",
       "    <tr style=\"text-align: right;\">\n",
       "      <th></th>\n",
       "      <th>Sample</th>\n",
       "      <th>Exp</th>\n",
       "      <th>Sleeve</th>\n",
       "      <th>Week</th>\n",
       "      <th>Stage</th>\n",
       "      <th>Timei</th>\n",
       "      <th>Timeh</th>\n",
       "      <th>Time</th>\n",
       "      <th>DW</th>\n",
       "      <th>mmi</th>\n",
       "      <th>...</th>\n",
       "      <th>Frequency</th>\n",
       "      <th>Amplitude</th>\n",
       "      <th>Duration</th>\n",
       "      <th>Flux</th>\n",
       "      <th>Sporulated</th>\n",
       "      <th>Comment</th>\n",
       "      <th>Day</th>\n",
       "      <th>Comment2</th>\n",
       "      <th>Unnamed: 38</th>\n",
       "      <th>N_Saturation</th>\n",
       "    </tr>\n",
       "  </thead>\n",
       "  <tbody>\n",
       "    <tr>\n",
       "      <th>0</th>\n",
       "      <td>0.0</td>\n",
       "      <td>1</td>\n",
       "      <td>0</td>\n",
       "      <td>0.0</td>\n",
       "      <td>i</td>\n",
       "      <td>2019,3,12,13,0</td>\n",
       "      <td>2019,3,12,13,0</td>\n",
       "      <td>2019,3,12,13,0</td>\n",
       "      <td>0.750</td>\n",
       "      <td>NaN</td>\n",
       "      <td>...</td>\n",
       "      <td>NaN</td>\n",
       "      <td>NaN</td>\n",
       "      <td>NaN</td>\n",
       "      <td>NaN</td>\n",
       "      <td>No</td>\n",
       "      <td>NaN</td>\n",
       "      <td>NaN</td>\n",
       "      <td>NaN</td>\n",
       "      <td>NaN</td>\n",
       "      <td>yes</td>\n",
       "    </tr>\n",
       "    <tr>\n",
       "      <th>1</th>\n",
       "      <td>0.7</td>\n",
       "      <td>1</td>\n",
       "      <td>0</td>\n",
       "      <td>0.0</td>\n",
       "      <td>f</td>\n",
       "      <td>2019,3,12,13,0</td>\n",
       "      <td>2019,3,12,13,0</td>\n",
       "      <td>2019,3,19,13,0</td>\n",
       "      <td>0.753</td>\n",
       "      <td>50.0</td>\n",
       "      <td>...</td>\n",
       "      <td>NaN</td>\n",
       "      <td>NaN</td>\n",
       "      <td>NaN</td>\n",
       "      <td>NaN</td>\n",
       "      <td>No</td>\n",
       "      <td>NaN</td>\n",
       "      <td>NaN</td>\n",
       "      <td>NaN</td>\n",
       "      <td>NaN</td>\n",
       "      <td>yes</td>\n",
       "    </tr>\n",
       "    <tr>\n",
       "      <th>2</th>\n",
       "      <td>1.0</td>\n",
       "      <td>1</td>\n",
       "      <td>1</td>\n",
       "      <td>1.0</td>\n",
       "      <td>i</td>\n",
       "      <td>2019,3,19,13,0</td>\n",
       "      <td>2019,3,19,13,0</td>\n",
       "      <td>2019,3,19,13,0</td>\n",
       "      <td>0.144</td>\n",
       "      <td>NaN</td>\n",
       "      <td>...</td>\n",
       "      <td>1.0</td>\n",
       "      <td>1000.0</td>\n",
       "      <td>168.0</td>\n",
       "      <td>1000.0</td>\n",
       "      <td>No</td>\n",
       "      <td>NaN</td>\n",
       "      <td>NaN</td>\n",
       "      <td>NaN</td>\n",
       "      <td>NaN</td>\n",
       "      <td>yes</td>\n",
       "    </tr>\n",
       "    <tr>\n",
       "      <th>3</th>\n",
       "      <td>2.0</td>\n",
       "      <td>1</td>\n",
       "      <td>2</td>\n",
       "      <td>1.0</td>\n",
       "      <td>i</td>\n",
       "      <td>2019,3,19,13,0</td>\n",
       "      <td>2019,3,19,13,0</td>\n",
       "      <td>2019,3,19,13,0</td>\n",
       "      <td>0.153</td>\n",
       "      <td>NaN</td>\n",
       "      <td>...</td>\n",
       "      <td>1.0</td>\n",
       "      <td>1000.0</td>\n",
       "      <td>168.0</td>\n",
       "      <td>1000.0</td>\n",
       "      <td>No</td>\n",
       "      <td>NaN</td>\n",
       "      <td>NaN</td>\n",
       "      <td>NaN</td>\n",
       "      <td>NaN</td>\n",
       "      <td>yes</td>\n",
       "    </tr>\n",
       "    <tr>\n",
       "      <th>4</th>\n",
       "      <td>3.0</td>\n",
       "      <td>1</td>\n",
       "      <td>3</td>\n",
       "      <td>1.0</td>\n",
       "      <td>i</td>\n",
       "      <td>2019,3,19,13,0</td>\n",
       "      <td>2019,3,19,13,0</td>\n",
       "      <td>2019,3,19,13,0</td>\n",
       "      <td>0.159</td>\n",
       "      <td>NaN</td>\n",
       "      <td>...</td>\n",
       "      <td>1.0</td>\n",
       "      <td>1000.0</td>\n",
       "      <td>168.0</td>\n",
       "      <td>1000.0</td>\n",
       "      <td>No</td>\n",
       "      <td>NaN</td>\n",
       "      <td>NaN</td>\n",
       "      <td>NaN</td>\n",
       "      <td>NaN</td>\n",
       "      <td>yes</td>\n",
       "    </tr>\n",
       "  </tbody>\n",
       "</table>\n",
       "<p>5 rows × 40 columns</p>\n",
       "</div>"
      ],
      "text/plain": [
       "   Sample  Exp  Sleeve  Week Stage           Timei           Timeh  \\\n",
       "0     0.0    1       0   0.0     i  2019,3,12,13,0  2019,3,12,13,0   \n",
       "1     0.7    1       0   0.0     f  2019,3,12,13,0  2019,3,12,13,0   \n",
       "2     1.0    1       1   1.0     i  2019,3,19,13,0  2019,3,19,13,0   \n",
       "3     2.0    1       2   1.0     i  2019,3,19,13,0  2019,3,19,13,0   \n",
       "4     3.0    1       3   1.0     i  2019,3,19,13,0  2019,3,19,13,0   \n",
       "\n",
       "             Time     DW   mmi  ...  Frequency  Amplitude  Duration    Flux  \\\n",
       "0  2019,3,12,13,0  0.750   NaN  ...        NaN        NaN       NaN     NaN   \n",
       "1  2019,3,19,13,0  0.753  50.0  ...        NaN        NaN       NaN     NaN   \n",
       "2  2019,3,19,13,0  0.144   NaN  ...        1.0     1000.0     168.0  1000.0   \n",
       "3  2019,3,19,13,0  0.153   NaN  ...        1.0     1000.0     168.0  1000.0   \n",
       "4  2019,3,19,13,0  0.159   NaN  ...        1.0     1000.0     168.0  1000.0   \n",
       "\n",
       "   Sporulated  Comment  Day  Comment2  Unnamed: 38  N_Saturation  \n",
       "0          No      NaN  NaN       NaN          NaN           yes  \n",
       "1          No      NaN  NaN       NaN          NaN           yes  \n",
       "2          No      NaN  NaN       NaN          NaN           yes  \n",
       "3          No      NaN  NaN       NaN          NaN           yes  \n",
       "4          No      NaN  NaN       NaN          NaN           yes  \n",
       "\n",
       "[5 rows x 40 columns]"
      ]
     },
     "execution_count": 5,
     "metadata": {},
     "output_type": "execute_result"
    }
   ],
   "source": [
    "df2.head()"
   ]
  },
  {
   "cell_type": "code",
   "execution_count": 6,
   "metadata": {},
   "outputs": [
    {
     "name": "stdout",
     "output_type": "stream",
     "text": [
      "\n",
      "\n"
     ]
    },
    {
     "name": "stderr",
     "output_type": "stream",
     "text": [
      "C:\\Users\\meiro\\Anaconda3new\\lib\\site-packages\\scipy\\stats\\_distn_infrastructure.py:1996: RuntimeWarning: invalid value encountered in greater\n",
      "  cond0 = self._argcheck(*args) & (scale > 0) & (loc == loc)\n"
     ]
    },
    {
     "data": {
      "text/html": [
       "<div>\n",
       "<style scoped>\n",
       "    .dataframe tbody tr th:only-of-type {\n",
       "        vertical-align: middle;\n",
       "    }\n",
       "\n",
       "    .dataframe tbody tr th {\n",
       "        vertical-align: top;\n",
       "    }\n",
       "\n",
       "    .dataframe thead th {\n",
       "        text-align: right;\n",
       "    }\n",
       "</style>\n",
       "<table border=\"1\" class=\"dataframe\">\n",
       "  <thead>\n",
       "    <tr style=\"text-align: right;\">\n",
       "      <th></th>\n",
       "      <th>N</th>\n",
       "      <th>Mean</th>\n",
       "      <th>SD</th>\n",
       "      <th>SE</th>\n",
       "      <th>95% Conf.</th>\n",
       "      <th>Interval</th>\n",
       "    </tr>\n",
       "    <tr>\n",
       "      <th>Weighing</th>\n",
       "      <th></th>\n",
       "      <th></th>\n",
       "      <th></th>\n",
       "      <th></th>\n",
       "      <th></th>\n",
       "      <th></th>\n",
       "    </tr>\n",
       "  </thead>\n",
       "  <tbody>\n",
       "    <tr>\n",
       "      <th>0.0</th>\n",
       "      <td>9</td>\n",
       "      <td>0.2191</td>\n",
       "      <td>0.0850</td>\n",
       "      <td>0.0283</td>\n",
       "      <td>0.1538</td>\n",
       "      <td>0.2844</td>\n",
       "    </tr>\n",
       "    <tr>\n",
       "      <th>1.0</th>\n",
       "      <td>3</td>\n",
       "      <td>0.1968</td>\n",
       "      <td>0.0478</td>\n",
       "      <td>0.0276</td>\n",
       "      <td>0.0780</td>\n",
       "      <td>0.3156</td>\n",
       "    </tr>\n",
       "    <tr>\n",
       "      <th>2.0</th>\n",
       "      <td>4</td>\n",
       "      <td>0.0955</td>\n",
       "      <td>0.0959</td>\n",
       "      <td>0.0479</td>\n",
       "      <td>-0.0571</td>\n",
       "      <td>0.2480</td>\n",
       "    </tr>\n",
       "    <tr>\n",
       "      <th>4.0</th>\n",
       "      <td>1</td>\n",
       "      <td>0.2274</td>\n",
       "      <td>NaN</td>\n",
       "      <td>NaN</td>\n",
       "      <td>NaN</td>\n",
       "      <td>NaN</td>\n",
       "    </tr>\n",
       "  </tbody>\n",
       "</table>\n",
       "</div>"
      ],
      "text/plain": [
       "          N    Mean      SD      SE  95% Conf.  Interval\n",
       "Weighing                                                \n",
       "0.0       9  0.2191  0.0850  0.0283     0.1538    0.2844\n",
       "1.0       3  0.1968  0.0478  0.0276     0.0780    0.3156\n",
       "2.0       4  0.0955  0.0959  0.0479    -0.0571    0.2480\n",
       "4.0       1  0.2274     NaN     NaN        NaN       NaN"
      ]
     },
     "execution_count": 6,
     "metadata": {},
     "output_type": "execute_result"
    }
   ],
   "source": [
    "# data summary of treatment 500/2/168 DGR, by number of weighings, all weeks\n",
    "dW = df2[(df2.Stage == 'f')&(df2.Treatment == '500/2/168')&(df2.Week == 1)]\n",
    "rp.summary_cont(dW['DGR'].groupby(dW['Weighing']))"
   ]
  },
  {
   "cell_type": "code",
   "execution_count": 7,
   "metadata": {},
   "outputs": [
    {
     "name": "stdout",
     "output_type": "stream",
     "text": [
      "\n",
      "\n"
     ]
    },
    {
     "data": {
      "text/html": [
       "<div>\n",
       "<style scoped>\n",
       "    .dataframe tbody tr th:only-of-type {\n",
       "        vertical-align: middle;\n",
       "    }\n",
       "\n",
       "    .dataframe tbody tr th {\n",
       "        vertical-align: top;\n",
       "    }\n",
       "\n",
       "    .dataframe thead th {\n",
       "        text-align: right;\n",
       "    }\n",
       "</style>\n",
       "<table border=\"1\" class=\"dataframe\">\n",
       "  <thead>\n",
       "    <tr style=\"text-align: right;\">\n",
       "      <th></th>\n",
       "      <th>N</th>\n",
       "      <th>Mean</th>\n",
       "      <th>SD</th>\n",
       "      <th>SE</th>\n",
       "      <th>95% Conf.</th>\n",
       "      <th>Interval</th>\n",
       "    </tr>\n",
       "    <tr>\n",
       "      <th>Weighing</th>\n",
       "      <th></th>\n",
       "      <th></th>\n",
       "      <th></th>\n",
       "      <th></th>\n",
       "      <th></th>\n",
       "      <th></th>\n",
       "    </tr>\n",
       "  </thead>\n",
       "  <tbody>\n",
       "    <tr>\n",
       "      <th>0.0</th>\n",
       "      <td>5</td>\n",
       "      <td>0.1508</td>\n",
       "      <td>0.1129</td>\n",
       "      <td>0.0505</td>\n",
       "      <td>0.0106</td>\n",
       "      <td>0.2909</td>\n",
       "    </tr>\n",
       "    <tr>\n",
       "      <th>1.0</th>\n",
       "      <td>3</td>\n",
       "      <td>0.2150</td>\n",
       "      <td>0.0491</td>\n",
       "      <td>0.0283</td>\n",
       "      <td>0.0931</td>\n",
       "      <td>0.3370</td>\n",
       "    </tr>\n",
       "    <tr>\n",
       "      <th>2.0</th>\n",
       "      <td>4</td>\n",
       "      <td>0.2007</td>\n",
       "      <td>0.0145</td>\n",
       "      <td>0.0072</td>\n",
       "      <td>0.1777</td>\n",
       "      <td>0.2237</td>\n",
       "    </tr>\n",
       "    <tr>\n",
       "      <th>4.0</th>\n",
       "      <td>2</td>\n",
       "      <td>0.1835</td>\n",
       "      <td>0.0292</td>\n",
       "      <td>0.0206</td>\n",
       "      <td>-0.0784</td>\n",
       "      <td>0.4454</td>\n",
       "    </tr>\n",
       "  </tbody>\n",
       "</table>\n",
       "</div>"
      ],
      "text/plain": [
       "          N    Mean      SD      SE  95% Conf.  Interval\n",
       "Weighing                                                \n",
       "0.0       5  0.1508  0.1129  0.0505     0.0106    0.2909\n",
       "1.0       3  0.2150  0.0491  0.0283     0.0931    0.3370\n",
       "2.0       4  0.2007  0.0145  0.0072     0.1777    0.2237\n",
       "4.0       2  0.1835  0.0292  0.0206    -0.0784    0.4454"
      ]
     },
     "execution_count": 7,
     "metadata": {},
     "output_type": "execute_result"
    }
   ],
   "source": [
    "# data summary of treatment 500/2/168 DGR, by number of weighings, all weeks\n",
    "dW = df2[(df2.Stage == 'f')&(df2.Treatment == '500/2/168')&(df2.Week == 2)]\n",
    "rp.summary_cont(dW['DGR'].groupby(dW['Weighing']))"
   ]
  },
  {
   "cell_type": "code",
   "execution_count": 8,
   "metadata": {},
   "outputs": [
    {
     "name": "stdout",
     "output_type": "stream",
     "text": [
      "\n",
      "\n"
     ]
    },
    {
     "name": "stderr",
     "output_type": "stream",
     "text": [
      "C:\\Users\\meiro\\Anaconda3new\\lib\\site-packages\\scipy\\stats\\_distn_infrastructure.py:1996: RuntimeWarning: invalid value encountered in greater\n",
      "  cond0 = self._argcheck(*args) & (scale > 0) & (loc == loc)\n"
     ]
    },
    {
     "data": {
      "text/html": [
       "<div>\n",
       "<style scoped>\n",
       "    .dataframe tbody tr th:only-of-type {\n",
       "        vertical-align: middle;\n",
       "    }\n",
       "\n",
       "    .dataframe tbody tr th {\n",
       "        vertical-align: top;\n",
       "    }\n",
       "\n",
       "    .dataframe thead th {\n",
       "        text-align: right;\n",
       "    }\n",
       "</style>\n",
       "<table border=\"1\" class=\"dataframe\">\n",
       "  <thead>\n",
       "    <tr style=\"text-align: right;\">\n",
       "      <th></th>\n",
       "      <th>N</th>\n",
       "      <th>Mean</th>\n",
       "      <th>SD</th>\n",
       "      <th>SE</th>\n",
       "      <th>95% Conf.</th>\n",
       "      <th>Interval</th>\n",
       "    </tr>\n",
       "    <tr>\n",
       "      <th>Weighing</th>\n",
       "      <th></th>\n",
       "      <th></th>\n",
       "      <th></th>\n",
       "      <th></th>\n",
       "      <th></th>\n",
       "      <th></th>\n",
       "    </tr>\n",
       "  </thead>\n",
       "  <tbody>\n",
       "    <tr>\n",
       "      <th>0.0</th>\n",
       "      <td>6</td>\n",
       "      <td>0.1719</td>\n",
       "      <td>0.0600</td>\n",
       "      <td>0.0245</td>\n",
       "      <td>0.1090</td>\n",
       "      <td>0.2348</td>\n",
       "    </tr>\n",
       "    <tr>\n",
       "      <th>1.0</th>\n",
       "      <td>3</td>\n",
       "      <td>0.1454</td>\n",
       "      <td>0.0209</td>\n",
       "      <td>0.0121</td>\n",
       "      <td>0.0934</td>\n",
       "      <td>0.1974</td>\n",
       "    </tr>\n",
       "    <tr>\n",
       "      <th>2.0</th>\n",
       "      <td>4</td>\n",
       "      <td>0.2107</td>\n",
       "      <td>0.0955</td>\n",
       "      <td>0.0477</td>\n",
       "      <td>0.0588</td>\n",
       "      <td>0.3627</td>\n",
       "    </tr>\n",
       "    <tr>\n",
       "      <th>4.0</th>\n",
       "      <td>1</td>\n",
       "      <td>0.2257</td>\n",
       "      <td>NaN</td>\n",
       "      <td>NaN</td>\n",
       "      <td>NaN</td>\n",
       "      <td>NaN</td>\n",
       "    </tr>\n",
       "  </tbody>\n",
       "</table>\n",
       "</div>"
      ],
      "text/plain": [
       "          N    Mean      SD      SE  95% Conf.  Interval\n",
       "Weighing                                                \n",
       "0.0       6  0.1719  0.0600  0.0245     0.1090    0.2348\n",
       "1.0       3  0.1454  0.0209  0.0121     0.0934    0.1974\n",
       "2.0       4  0.2107  0.0955  0.0477     0.0588    0.3627\n",
       "4.0       1  0.2257     NaN     NaN        NaN       NaN"
      ]
     },
     "execution_count": 8,
     "metadata": {},
     "output_type": "execute_result"
    }
   ],
   "source": [
    "# data summary of treatment 500/2/168 DGR, by number of weighings, all weeks\n",
    "dW = df2[(df2.Stage == 'f')&(df2.Treatment == '500/2/168')&(df2.Week == 3)]\n",
    "rp.summary_cont(dW['DGR'].groupby(dW['Weighing']))"
   ]
  },
  {
   "cell_type": "code",
   "execution_count": 9,
   "metadata": {},
   "outputs": [
    {
     "name": "stdout",
     "output_type": "stream",
     "text": [
      "\n",
      "\n"
     ]
    },
    {
     "name": "stderr",
     "output_type": "stream",
     "text": [
      "C:\\Users\\meiro\\Anaconda3new\\lib\\site-packages\\scipy\\stats\\_distn_infrastructure.py:2003: RuntimeWarning: invalid value encountered in multiply\n",
      "  lower_bound = _a * scale + loc\n",
      "C:\\Users\\meiro\\Anaconda3new\\lib\\site-packages\\scipy\\stats\\_distn_infrastructure.py:2004: RuntimeWarning: invalid value encountered in multiply\n",
      "  upper_bound = _b * scale + loc\n"
     ]
    },
    {
     "data": {
      "text/html": [
       "<div>\n",
       "<style scoped>\n",
       "    .dataframe tbody tr th:only-of-type {\n",
       "        vertical-align: middle;\n",
       "    }\n",
       "\n",
       "    .dataframe tbody tr th {\n",
       "        vertical-align: top;\n",
       "    }\n",
       "\n",
       "    .dataframe thead th {\n",
       "        text-align: right;\n",
       "    }\n",
       "</style>\n",
       "<table border=\"1\" class=\"dataframe\">\n",
       "  <thead>\n",
       "    <tr style=\"text-align: right;\">\n",
       "      <th></th>\n",
       "      <th>N</th>\n",
       "      <th>Mean</th>\n",
       "      <th>SD</th>\n",
       "      <th>SE</th>\n",
       "      <th>95% Conf.</th>\n",
       "      <th>Interval</th>\n",
       "    </tr>\n",
       "    <tr>\n",
       "      <th>Trimming</th>\n",
       "      <th></th>\n",
       "      <th></th>\n",
       "      <th></th>\n",
       "      <th></th>\n",
       "      <th></th>\n",
       "      <th></th>\n",
       "    </tr>\n",
       "  </thead>\n",
       "  <tbody>\n",
       "    <tr>\n",
       "      <th>0.0</th>\n",
       "      <td>11</td>\n",
       "      <td>0.1976</td>\n",
       "      <td>0.0938</td>\n",
       "      <td>0.0283</td>\n",
       "      <td>0.1346</td>\n",
       "      <td>0.2606</td>\n",
       "    </tr>\n",
       "    <tr>\n",
       "      <th>1.0</th>\n",
       "      <td>4</td>\n",
       "      <td>0.2236</td>\n",
       "      <td>0.0329</td>\n",
       "      <td>0.0165</td>\n",
       "      <td>0.1712</td>\n",
       "      <td>0.2760</td>\n",
       "    </tr>\n",
       "    <tr>\n",
       "      <th>2.0</th>\n",
       "      <td>2</td>\n",
       "      <td>0.0514</td>\n",
       "      <td>0.0000</td>\n",
       "      <td>0.0000</td>\n",
       "      <td>NaN</td>\n",
       "      <td>NaN</td>\n",
       "    </tr>\n",
       "  </tbody>\n",
       "</table>\n",
       "</div>"
      ],
      "text/plain": [
       "           N    Mean      SD      SE  95% Conf.  Interval\n",
       "Trimming                                                 \n",
       "0.0       11  0.1976  0.0938  0.0283     0.1346    0.2606\n",
       "1.0        4  0.2236  0.0329  0.0165     0.1712    0.2760\n",
       "2.0        2  0.0514  0.0000  0.0000        NaN       NaN"
      ]
     },
     "execution_count": 9,
     "metadata": {},
     "output_type": "execute_result"
    }
   ],
   "source": [
    "# data summary of treatment 500/2/168 DGR, by number of weighings, all weeks\n",
    "dW = df2[(df2.Stage == 'f')&(df2.Treatment == '500/2/168')&(df2.Week == 1)]\n",
    "rp.summary_cont(dW['DGR'].groupby(dW['Trimming']))"
   ]
  },
  {
   "cell_type": "code",
   "execution_count": 10,
   "metadata": {},
   "outputs": [
    {
     "name": "stdout",
     "output_type": "stream",
     "text": [
      "\n",
      "\n"
     ]
    },
    {
     "data": {
      "text/html": [
       "<div>\n",
       "<style scoped>\n",
       "    .dataframe tbody tr th:only-of-type {\n",
       "        vertical-align: middle;\n",
       "    }\n",
       "\n",
       "    .dataframe tbody tr th {\n",
       "        vertical-align: top;\n",
       "    }\n",
       "\n",
       "    .dataframe thead th {\n",
       "        text-align: right;\n",
       "    }\n",
       "</style>\n",
       "<table border=\"1\" class=\"dataframe\">\n",
       "  <thead>\n",
       "    <tr style=\"text-align: right;\">\n",
       "      <th></th>\n",
       "      <th>N</th>\n",
       "      <th>Mean</th>\n",
       "      <th>SD</th>\n",
       "      <th>SE</th>\n",
       "      <th>95% Conf.</th>\n",
       "      <th>Interval</th>\n",
       "    </tr>\n",
       "    <tr>\n",
       "      <th>Trimming</th>\n",
       "      <th></th>\n",
       "      <th></th>\n",
       "      <th></th>\n",
       "      <th></th>\n",
       "      <th></th>\n",
       "      <th></th>\n",
       "    </tr>\n",
       "  </thead>\n",
       "  <tbody>\n",
       "    <tr>\n",
       "      <th>0.0</th>\n",
       "      <td>8</td>\n",
       "      <td>0.1760</td>\n",
       "      <td>0.0955</td>\n",
       "      <td>0.0338</td>\n",
       "      <td>0.0962</td>\n",
       "      <td>0.2559</td>\n",
       "    </tr>\n",
       "    <tr>\n",
       "      <th>1.0</th>\n",
       "      <td>4</td>\n",
       "      <td>0.1844</td>\n",
       "      <td>0.0170</td>\n",
       "      <td>0.0085</td>\n",
       "      <td>0.1574</td>\n",
       "      <td>0.2114</td>\n",
       "    </tr>\n",
       "    <tr>\n",
       "      <th>2.0</th>\n",
       "      <td>2</td>\n",
       "      <td>0.2114</td>\n",
       "      <td>0.0081</td>\n",
       "      <td>0.0057</td>\n",
       "      <td>0.1388</td>\n",
       "      <td>0.2840</td>\n",
       "    </tr>\n",
       "  </tbody>\n",
       "</table>\n",
       "</div>"
      ],
      "text/plain": [
       "          N    Mean      SD      SE  95% Conf.  Interval\n",
       "Trimming                                                \n",
       "0.0       8  0.1760  0.0955  0.0338     0.0962    0.2559\n",
       "1.0       4  0.1844  0.0170  0.0085     0.1574    0.2114\n",
       "2.0       2  0.2114  0.0081  0.0057     0.1388    0.2840"
      ]
     },
     "execution_count": 10,
     "metadata": {},
     "output_type": "execute_result"
    }
   ],
   "source": [
    "# data summary of treatment 500/2/168 DGR, by number of weighings, all weeks\n",
    "dW = df2[(df2.Stage == 'f')&(df2.Treatment == '500/2/168')&(df2.Week == 2)]\n",
    "rp.summary_cont(dW['DGR'].groupby(dW['Trimming']))"
   ]
  },
  {
   "cell_type": "code",
   "execution_count": 11,
   "metadata": {},
   "outputs": [
    {
     "name": "stdout",
     "output_type": "stream",
     "text": [
      "\n",
      "\n"
     ]
    },
    {
     "data": {
      "text/html": [
       "<div>\n",
       "<style scoped>\n",
       "    .dataframe tbody tr th:only-of-type {\n",
       "        vertical-align: middle;\n",
       "    }\n",
       "\n",
       "    .dataframe tbody tr th {\n",
       "        vertical-align: top;\n",
       "    }\n",
       "\n",
       "    .dataframe thead th {\n",
       "        text-align: right;\n",
       "    }\n",
       "</style>\n",
       "<table border=\"1\" class=\"dataframe\">\n",
       "  <thead>\n",
       "    <tr style=\"text-align: right;\">\n",
       "      <th></th>\n",
       "      <th>N</th>\n",
       "      <th>Mean</th>\n",
       "      <th>SD</th>\n",
       "      <th>SE</th>\n",
       "      <th>95% Conf.</th>\n",
       "      <th>Interval</th>\n",
       "    </tr>\n",
       "    <tr>\n",
       "      <th>Trimming</th>\n",
       "      <th></th>\n",
       "      <th></th>\n",
       "      <th></th>\n",
       "      <th></th>\n",
       "      <th></th>\n",
       "      <th></th>\n",
       "    </tr>\n",
       "  </thead>\n",
       "  <tbody>\n",
       "    <tr>\n",
       "      <th>0.0</th>\n",
       "      <td>9</td>\n",
       "      <td>0.1735</td>\n",
       "      <td>0.0599</td>\n",
       "      <td>0.0200</td>\n",
       "      <td>0.1275</td>\n",
       "      <td>0.2195</td>\n",
       "    </tr>\n",
       "    <tr>\n",
       "      <th>1.0</th>\n",
       "      <td>3</td>\n",
       "      <td>0.1544</td>\n",
       "      <td>0.0778</td>\n",
       "      <td>0.0449</td>\n",
       "      <td>-0.0388</td>\n",
       "      <td>0.3477</td>\n",
       "    </tr>\n",
       "    <tr>\n",
       "      <th>2.0</th>\n",
       "      <td>2</td>\n",
       "      <td>0.2557</td>\n",
       "      <td>0.0384</td>\n",
       "      <td>0.0271</td>\n",
       "      <td>-0.0892</td>\n",
       "      <td>0.6006</td>\n",
       "    </tr>\n",
       "  </tbody>\n",
       "</table>\n",
       "</div>"
      ],
      "text/plain": [
       "          N    Mean      SD      SE  95% Conf.  Interval\n",
       "Trimming                                                \n",
       "0.0       9  0.1735  0.0599  0.0200     0.1275    0.2195\n",
       "1.0       3  0.1544  0.0778  0.0449    -0.0388    0.3477\n",
       "2.0       2  0.2557  0.0384  0.0271    -0.0892    0.6006"
      ]
     },
     "execution_count": 11,
     "metadata": {},
     "output_type": "execute_result"
    }
   ],
   "source": [
    "# data summary of treatment 500/2/168 DGR, by number of weighings, all weeks\n",
    "dW = df2[(df2.Stage == 'f')&(df2.Treatment == '500/2/168')&(df2.Week == 3)]\n",
    "rp.summary_cont(dW['DGR'].groupby(dW['Trimming']))"
   ]
  },
  {
   "cell_type": "code",
   "execution_count": 12,
   "metadata": {},
   "outputs": [
    {
     "data": {
      "image/png": "[encoded data removed]",
      "text/plain": [
       "<Figure size 412.165x360 with 1 Axes>"
      ]
     },
     "metadata": {
      "needs_background": "light"
     },
     "output_type": "display_data"
    }
   ],
   "source": [
    "# S.A #1 - growth rates in different amplitudes - all weeks together\n",
    "sns.set_context(\"paper\", rc={\"font.size\":16,\"axes.titlesize\":16,\"axes.labelsize\":16}) \n",
    "\n",
    "# combined strip plot - all data\n",
    "SA1_TRM = sns.catplot(x = 'Week', y = 'DGR', data = df2[(df2.Stage == 'f')&(df2.Treatment == '500/2/168')&(df2.Week == 1)&(df2.Weighing != 4)],kind='box',hue='Weighing').set(ylabel='Daily growth rate')\n",
    "\n",
    "#SA1_TRM.set_xticklabels(['1000/1', '500/2','200/5'],fontdict= { 'fontsize': 14, 'fontweight':'bold','color': 'k'})\n",
    "#SA1_TRM = sns.stripplot(x = 'Week', y = 'DGR', data = df2[(df2.Stage == 'f')&(df2.Treatment == '500/2/168')],hue = 'Weighing').set(xlabel='\\n Week #', ylabel='Daily growth rate')\n"
   ]
  },
  {
   "cell_type": "code",
   "execution_count": 13,
   "metadata": {},
   "outputs": [
    {
     "data": {
      "text/plain": [
       "<seaborn.axisgrid.FacetGrid at 0x2acb8ad8fd0>"
      ]
     },
     "execution_count": 13,
     "metadata": {},
     "output_type": "execute_result"
    },
    {
     "data": {
      "image/png": "[encoded data removed]",
      "text/plain": [
       "<Figure size 413.149x360 with 1 Axes>"
      ]
     },
     "metadata": {
      "needs_background": "light"
     },
     "output_type": "display_data"
    }
   ],
   "source": [
    "# S.A #1 - growth rates in different amplitudes - all weeks together\n",
    "sns.set_context(\"paper\", rc={\"font.size\":16,\"axes.titlesize\":16,\"axes.labelsize\":16}) \n",
    "\n",
    "# combined strip plot - all data\n",
    "SA1_TRM = sns.catplot(x = 'Week', y = 'DGR', data = df2[(df2.Stage == 'f')&(df2.Treatment == '500/2/168')&(df2.Week == 1)],kind='box',hue='Trimming').set(ylabel='Daily growth rate')\n",
    "SA1_TRM.set_xticklabels([''])\n",
    "#SA1_TRM.set_xticklabels(['1000/1', '500/2','200/5'],fontdict= { 'fontsize': 14, 'fontweight':'bold','color': 'k'})\n",
    "#SA1_TRM = sns.stripplot(x = 'Week', y = 'DGR', data = df2[(df2.Treatment != 'Acclimation')&(df2.Stage == 'f')&(df2.Duration == 168)&(df2.Flux == 1000)&(df2.Treatment == '500/2/168')],hue = 'Trimming').set(xlabel='\\n Week #', ylabel='Daily growth rate')\n"
   ]
  },
  {
   "cell_type": "code",
   "execution_count": 14,
   "metadata": {},
   "outputs": [
    {
     "data": {
      "text/plain": [
       "<seaborn.axisgrid.FacetGrid at 0x2acb8135c50>"
      ]
     },
     "execution_count": 14,
     "metadata": {},
     "output_type": "execute_result"
    },
    {
     "data": {
      "image/png": "[encoded data removed]",
      "text/plain": [
       "<Figure size 413.149x360 with 1 Axes>"
      ]
     },
     "metadata": {
      "needs_background": "light"
     },
     "output_type": "display_data"
    }
   ],
   "source": [
    "# S.A #1 - growth rates in different amplitudes - all weeks together\n",
    "sns.set_context(\"paper\", rc={\"font.size\":16,\"axes.titlesize\":16,\"axes.labelsize\":16}) \n",
    "\n",
    "# combined strip plot - all data\n",
    "SA1_TRM = sns.catplot(x = 'Treatment', y = 'DGR', data = df2[(df2.Stage == 'f')&(df2.Treatment != 'Acclimation')&(df2.Week == 1)&(df2.Exp == 4)],hue='Trimming').set(xlabel='Added N $Frequency^{-1}$ \\n [µM NH4] / [1/week]', ylabel='Daily growth rate')\n",
    "SA1_TRM.set_xticklabels(['1000/1', '500/2','500/3'],fontdict= { 'fontsize': 14, 'fontweight':'bold','color': 'k'})\n",
    "\n",
    "#SA1_TRM.set_xticklabels([''])\n",
    "#SA1_TRM.set_xticklabels(['1000/1', '500/2','200/5'],fontdict= { 'fontsize': 14, 'fontweight':'bold','color': 'k'})\n",
    "#SA1_TRM = sns.stripplot(x = 'Week', y = 'DGR', data = df2[(df2.Treatment != 'Acclimation')&(df2.Stage == 'f')&(df2.Duration == 168)&(df2.Flux == 1000)&(df2.Treatment == '500/2/168')],hue = 'Trimming').set(xlabel='\\n Week #', ylabel='Daily growth rate')\n"
   ]
  },
  {
   "cell_type": "code",
   "execution_count": 15,
   "metadata": {},
   "outputs": [
    {
     "data": {
      "image/png": "[encoded data removed]",
      "text/plain": [
       "<Figure size 432x288 with 1 Axes>"
      ]
     },
     "metadata": {
      "needs_background": "light"
     },
     "output_type": "display_data"
    }
   ],
   "source": [
    "# weighing effect\n",
    "palette = sns.color_palette(\"tab10\",4)\n",
    "\n",
    "d = df2[(df2.Stage == 'f')&(df2.Treatment == '500/2/168')]#&(np.isnan(df2.Weighing)!= True)]\n",
    "ax = sns.pointplot(data=d,palette=palette, x=\"Week\", y=\"DGR\", hue=\"Weighing\",err_kws=None,ci=None).set(xlabel='Week', ylabel='Daily growth rate')\n",
    "#ax.setp(ax.get_xticklabels([1,2,3]), rotation=45)\n",
    "\n",
    "#ax.set_xticklabels([1,2,3],fontdict= { 'fontsize': 14, 'fontweight':'bold','color': 'k'})\n"
   ]
  },
  {
   "cell_type": "code",
   "execution_count": 16,
   "metadata": {},
   "outputs": [
    {
     "name": "stdout",
     "output_type": "stream",
     "text": [
      "\n",
      "\n"
     ]
    },
    {
     "data": {
      "text/html": [
       "<div>\n",
       "<style scoped>\n",
       "    .dataframe tbody tr th:only-of-type {\n",
       "        vertical-align: middle;\n",
       "    }\n",
       "\n",
       "    .dataframe tbody tr th {\n",
       "        vertical-align: top;\n",
       "    }\n",
       "\n",
       "    .dataframe thead th {\n",
       "        text-align: right;\n",
       "    }\n",
       "</style>\n",
       "<table border=\"1\" class=\"dataframe\">\n",
       "  <thead>\n",
       "    <tr style=\"text-align: right;\">\n",
       "      <th></th>\n",
       "      <th>N</th>\n",
       "      <th>Mean</th>\n",
       "      <th>SD</th>\n",
       "      <th>SE</th>\n",
       "      <th>95% Conf.</th>\n",
       "      <th>Interval</th>\n",
       "    </tr>\n",
       "    <tr>\n",
       "      <th>Weighing</th>\n",
       "      <th></th>\n",
       "      <th></th>\n",
       "      <th></th>\n",
       "      <th></th>\n",
       "      <th></th>\n",
       "      <th></th>\n",
       "    </tr>\n",
       "  </thead>\n",
       "  <tbody>\n",
       "    <tr>\n",
       "      <th>0.0</th>\n",
       "      <td>20</td>\n",
       "      <td>0.1878</td>\n",
       "      <td>0.0870</td>\n",
       "      <td>0.0195</td>\n",
       "      <td>0.1471</td>\n",
       "      <td>0.2285</td>\n",
       "    </tr>\n",
       "    <tr>\n",
       "      <th>1.0</th>\n",
       "      <td>9</td>\n",
       "      <td>0.1857</td>\n",
       "      <td>0.0476</td>\n",
       "      <td>0.0159</td>\n",
       "      <td>0.1492</td>\n",
       "      <td>0.2223</td>\n",
       "    </tr>\n",
       "    <tr>\n",
       "      <th>2.0</th>\n",
       "      <td>12</td>\n",
       "      <td>0.1690</td>\n",
       "      <td>0.0895</td>\n",
       "      <td>0.0258</td>\n",
       "      <td>0.1121</td>\n",
       "      <td>0.2259</td>\n",
       "    </tr>\n",
       "    <tr>\n",
       "      <th>4.0</th>\n",
       "      <td>4</td>\n",
       "      <td>0.2050</td>\n",
       "      <td>0.0300</td>\n",
       "      <td>0.0150</td>\n",
       "      <td>0.1572</td>\n",
       "      <td>0.2528</td>\n",
       "    </tr>\n",
       "  </tbody>\n",
       "</table>\n",
       "</div>"
      ],
      "text/plain": [
       "           N    Mean      SD      SE  95% Conf.  Interval\n",
       "Weighing                                                 \n",
       "0.0       20  0.1878  0.0870  0.0195     0.1471    0.2285\n",
       "1.0        9  0.1857  0.0476  0.0159     0.1492    0.2223\n",
       "2.0       12  0.1690  0.0895  0.0258     0.1121    0.2259\n",
       "4.0        4  0.2050  0.0300  0.0150     0.1572    0.2528"
      ]
     },
     "execution_count": 16,
     "metadata": {},
     "output_type": "execute_result"
    }
   ],
   "source": [
    "rp.summary_cont(df2[(df2.Stage == 'f')&(df2.Treatment == '500/2/168')]['DGR'].groupby(df2[(df2.Stage == 'f')&(df2.Treatment == '500/2/168')]['Weighing']))"
   ]
  },
  {
   "cell_type": "code",
   "execution_count": 17,
   "metadata": {},
   "outputs": [
    {
     "name": "stdout",
     "output_type": "stream",
     "text": [
      "\n",
      "\n"
     ]
    },
    {
     "data": {
      "text/html": [
       "<div>\n",
       "<style scoped>\n",
       "    .dataframe tbody tr th:only-of-type {\n",
       "        vertical-align: middle;\n",
       "    }\n",
       "\n",
       "    .dataframe tbody tr th {\n",
       "        vertical-align: top;\n",
       "    }\n",
       "\n",
       "    .dataframe thead th {\n",
       "        text-align: right;\n",
       "    }\n",
       "</style>\n",
       "<table border=\"1\" class=\"dataframe\">\n",
       "  <thead>\n",
       "    <tr style=\"text-align: right;\">\n",
       "      <th></th>\n",
       "      <th>N</th>\n",
       "      <th>Mean</th>\n",
       "      <th>SD</th>\n",
       "      <th>SE</th>\n",
       "      <th>95% Conf.</th>\n",
       "      <th>Interval</th>\n",
       "    </tr>\n",
       "    <tr>\n",
       "      <th>Trimming</th>\n",
       "      <th></th>\n",
       "      <th></th>\n",
       "      <th></th>\n",
       "      <th></th>\n",
       "      <th></th>\n",
       "      <th></th>\n",
       "    </tr>\n",
       "  </thead>\n",
       "  <tbody>\n",
       "    <tr>\n",
       "      <th>0.0</th>\n",
       "      <td>28</td>\n",
       "      <td>0.1837</td>\n",
       "      <td>0.0826</td>\n",
       "      <td>0.0156</td>\n",
       "      <td>0.1517</td>\n",
       "      <td>0.2157</td>\n",
       "    </tr>\n",
       "    <tr>\n",
       "      <th>1.0</th>\n",
       "      <td>11</td>\n",
       "      <td>0.1905</td>\n",
       "      <td>0.0497</td>\n",
       "      <td>0.0150</td>\n",
       "      <td>0.1571</td>\n",
       "      <td>0.2238</td>\n",
       "    </tr>\n",
       "    <tr>\n",
       "      <th>2.0</th>\n",
       "      <td>6</td>\n",
       "      <td>0.1729</td>\n",
       "      <td>0.0977</td>\n",
       "      <td>0.0399</td>\n",
       "      <td>0.0703</td>\n",
       "      <td>0.2754</td>\n",
       "    </tr>\n",
       "  </tbody>\n",
       "</table>\n",
       "</div>"
      ],
      "text/plain": [
       "           N    Mean      SD      SE  95% Conf.  Interval\n",
       "Trimming                                                 \n",
       "0.0       28  0.1837  0.0826  0.0156     0.1517    0.2157\n",
       "1.0       11  0.1905  0.0497  0.0150     0.1571    0.2238\n",
       "2.0        6  0.1729  0.0977  0.0399     0.0703    0.2754"
      ]
     },
     "execution_count": 17,
     "metadata": {},
     "output_type": "execute_result"
    }
   ],
   "source": [
    "rp.summary_cont(df2[(df2.Stage == 'f')&(df2.Treatment == '500/2/168')]['DGR'].groupby(df2[(df2.Stage == 'f')&(df2.Treatment == '500/2/168')]['Trimming']))"
   ]
  },
  {
   "cell_type": "code",
   "execution_count": 18,
   "metadata": {},
   "outputs": [
    {
     "data": {
      "image/png": "[encoded data removed]",
      "text/plain": [
       "<Figure size 432x288 with 1 Axes>"
      ]
     },
     "metadata": {
      "needs_background": "light"
     },
     "output_type": "display_data"
    }
   ],
   "source": [
    "# weighing effect\n",
    "palette = sns.color_palette(\"tab10\",4)\n",
    "\n",
    "d = df2[(df2.Stage == 'f')&(df2.Treatment == '500/2/168')]#&(np.isnan(df2.Weighing)!= True)]\n",
    "ax = sns.pointplot(data=d,palette=palette, x=\"Week\", y=\"DGR\", hue=\"Trimming\",err_kws=None,ci=None).set(xlabel='Week', ylabel='Daily growth rate')\n",
    "#ax.setp(ax.get_xticklabels([1,2,3]), rotation=45)\n",
    "\n",
    "#ax.set_xticklabels([1,2,3],fontdict= { 'fontsize': 14, 'fontweight':'bold','color': 'k'})\n"
   ]
  },
  {
   "cell_type": "code",
   "execution_count": 19,
   "metadata": {},
   "outputs": [
    {
     "name": "stderr",
     "output_type": "stream",
     "text": [
      "C:\\Users\\meiro\\Anaconda3new\\lib\\site-packages\\seaborn\\_decorators.py:43: FutureWarning: Pass the following variables as keyword args: x, y. From version 0.12, the only valid positional argument will be `data`, and passing other arguments without an explicit keyword will result in an error or misinterpretation.\n",
      "  FutureWarning\n"
     ]
    },
    {
     "ename": "AttributeError",
     "evalue": "'list' object has no attribute 'plot'",
     "output_type": "error",
     "traceback": [
      "\u001b[1;31m---------------------------------------------------------------------------\u001b[0m",
      "\u001b[1;31mAttributeError\u001b[0m                            Traceback (most recent call last)",
      "\u001b[1;32m<ipython-input-19-e5ef12ae6e1b>\u001b[0m in \u001b[0;36m<module>\u001b[1;34m\u001b[0m\n\u001b[0;32m      3\u001b[0m \u001b[1;33m\u001b[0m\u001b[0m\n\u001b[0;32m      4\u001b[0m \u001b[0md\u001b[0m \u001b[1;33m=\u001b[0m \u001b[0mdf2\u001b[0m\u001b[1;33m[\u001b[0m\u001b[1;33m(\u001b[0m\u001b[0mdf2\u001b[0m\u001b[1;33m.\u001b[0m\u001b[0mStage\u001b[0m \u001b[1;33m==\u001b[0m \u001b[1;34m'f'\u001b[0m\u001b[1;33m)\u001b[0m\u001b[1;33m&\u001b[0m\u001b[1;33m(\u001b[0m\u001b[0mdf2\u001b[0m\u001b[1;33m.\u001b[0m\u001b[0mTreatment\u001b[0m \u001b[1;33m==\u001b[0m \u001b[1;34m'500/2/168'\u001b[0m\u001b[1;33m)\u001b[0m\u001b[1;33m]\u001b[0m\u001b[1;31m#&(np.isnan(df2.Weighing)!= True)]\u001b[0m\u001b[1;33m\u001b[0m\u001b[1;33m\u001b[0m\u001b[0m\n\u001b[1;32m----> 5\u001b[1;33m \u001b[0msns\u001b[0m\u001b[1;33m.\u001b[0m\u001b[0mpointplot\u001b[0m\u001b[1;33m(\u001b[0m\u001b[1;34m'Week'\u001b[0m\u001b[1;33m,\u001b[0m\u001b[1;34m'DGR'\u001b[0m\u001b[1;33m,\u001b[0m \u001b[0mdata\u001b[0m\u001b[1;33m=\u001b[0m\u001b[0md\u001b[0m\u001b[1;33m,\u001b[0m\u001b[0mpalette\u001b[0m\u001b[1;33m=\u001b[0m\u001b[0mpalette\u001b[0m\u001b[1;33m,\u001b[0m\u001b[0mhue\u001b[0m\u001b[1;33m=\u001b[0m\u001b[1;34m\"Trimming\"\u001b[0m\u001b[1;33m,\u001b[0m\u001b[0merr_kws\u001b[0m\u001b[1;33m=\u001b[0m\u001b[1;32mNone\u001b[0m\u001b[1;33m,\u001b[0m\u001b[0mci\u001b[0m\u001b[1;33m=\u001b[0m\u001b[1;32mNone\u001b[0m\u001b[1;33m,\u001b[0m\u001b[0max\u001b[0m\u001b[1;33m=\u001b[0m\u001b[0max\u001b[0m\u001b[1;33m)\u001b[0m\u001b[1;33m.\u001b[0m\u001b[0mset\u001b[0m\u001b[1;33m(\u001b[0m\u001b[0mxlabel\u001b[0m\u001b[1;33m=\u001b[0m\u001b[1;34m'Week'\u001b[0m\u001b[1;33m,\u001b[0m \u001b[0mylabel\u001b[0m\u001b[1;33m=\u001b[0m\u001b[1;34m'Daily growth rate'\u001b[0m\u001b[1;33m)\u001b[0m\u001b[1;33m\u001b[0m\u001b[1;33m\u001b[0m\u001b[0m\n\u001b[0m\u001b[0;32m      6\u001b[0m \u001b[1;31m#,err_style=\"band\", ci=\"sd\")\u001b[0m\u001b[1;33m\u001b[0m\u001b[1;33m\u001b[0m\u001b[1;33m\u001b[0m\u001b[0m\n\u001b[0;32m      7\u001b[0m \u001b[1;31m#ax.set_xticklabels(['1','2','3'])\u001b[0m\u001b[1;33m\u001b[0m\u001b[1;33m\u001b[0m\u001b[1;33m\u001b[0m\u001b[0m\n",
      "\u001b[1;32m~\\Anaconda3new\\lib\\site-packages\\seaborn\\_decorators.py\u001b[0m in \u001b[0;36minner_f\u001b[1;34m(*args, **kwargs)\u001b[0m\n\u001b[0;32m     44\u001b[0m             )\n\u001b[0;32m     45\u001b[0m         \u001b[0mkwargs\u001b[0m\u001b[1;33m.\u001b[0m\u001b[0mupdate\u001b[0m\u001b[1;33m(\u001b[0m\u001b[1;33m{\u001b[0m\u001b[0mk\u001b[0m\u001b[1;33m:\u001b[0m \u001b[0marg\u001b[0m \u001b[1;32mfor\u001b[0m \u001b[0mk\u001b[0m\u001b[1;33m,\u001b[0m \u001b[0marg\u001b[0m \u001b[1;32min\u001b[0m \u001b[0mzip\u001b[0m\u001b[1;33m(\u001b[0m\u001b[0msig\u001b[0m\u001b[1;33m.\u001b[0m\u001b[0mparameters\u001b[0m\u001b[1;33m,\u001b[0m \u001b[0margs\u001b[0m\u001b[1;33m)\u001b[0m\u001b[1;33m}\u001b[0m\u001b[1;33m)\u001b[0m\u001b[1;33m\u001b[0m\u001b[1;33m\u001b[0m\u001b[0m\n\u001b[1;32m---> 46\u001b[1;33m         \u001b[1;32mreturn\u001b[0m \u001b[0mf\u001b[0m\u001b[1;33m(\u001b[0m\u001b[1;33m**\u001b[0m\u001b[0mkwargs\u001b[0m\u001b[1;33m)\u001b[0m\u001b[1;33m\u001b[0m\u001b[1;33m\u001b[0m\u001b[0m\n\u001b[0m\u001b[0;32m     47\u001b[0m     \u001b[1;32mreturn\u001b[0m \u001b[0minner_f\u001b[0m\u001b[1;33m\u001b[0m\u001b[1;33m\u001b[0m\u001b[0m\n\u001b[0;32m     48\u001b[0m \u001b[1;33m\u001b[0m\u001b[0m\n",
      "\u001b[1;32m~\\Anaconda3new\\lib\\site-packages\\seaborn\\categorical.py\u001b[0m in \u001b[0;36mpointplot\u001b[1;34m(x, y, hue, data, order, hue_order, estimator, ci, n_boot, units, seed, markers, linestyles, dodge, join, scale, orient, color, palette, errwidth, capsize, ax, **kwargs)\u001b[0m\n\u001b[0;32m   3378\u001b[0m         \u001b[0max\u001b[0m \u001b[1;33m=\u001b[0m \u001b[0mplt\u001b[0m\u001b[1;33m.\u001b[0m\u001b[0mgca\u001b[0m\u001b[1;33m(\u001b[0m\u001b[1;33m)\u001b[0m\u001b[1;33m\u001b[0m\u001b[1;33m\u001b[0m\u001b[0m\n\u001b[0;32m   3379\u001b[0m \u001b[1;33m\u001b[0m\u001b[0m\n\u001b[1;32m-> 3380\u001b[1;33m     \u001b[0mplotter\u001b[0m\u001b[1;33m.\u001b[0m\u001b[0mplot\u001b[0m\u001b[1;33m(\u001b[0m\u001b[0max\u001b[0m\u001b[1;33m)\u001b[0m\u001b[1;33m\u001b[0m\u001b[1;33m\u001b[0m\u001b[0m\n\u001b[0m\u001b[0;32m   3381\u001b[0m     \u001b[1;32mreturn\u001b[0m \u001b[0max\u001b[0m\u001b[1;33m\u001b[0m\u001b[1;33m\u001b[0m\u001b[0m\n\u001b[0;32m   3382\u001b[0m \u001b[1;33m\u001b[0m\u001b[0m\n",
      "\u001b[1;32m~\\Anaconda3new\\lib\\site-packages\\seaborn\\categorical.py\u001b[0m in \u001b[0;36mplot\u001b[1;34m(self, ax)\u001b[0m\n\u001b[0;32m   1786\u001b[0m     \u001b[1;32mdef\u001b[0m \u001b[0mplot\u001b[0m\u001b[1;33m(\u001b[0m\u001b[0mself\u001b[0m\u001b[1;33m,\u001b[0m \u001b[0max\u001b[0m\u001b[1;33m)\u001b[0m\u001b[1;33m:\u001b[0m\u001b[1;33m\u001b[0m\u001b[1;33m\u001b[0m\u001b[0m\n\u001b[0;32m   1787\u001b[0m         \u001b[1;34m\"\"\"Make the plot.\"\"\"\u001b[0m\u001b[1;33m\u001b[0m\u001b[1;33m\u001b[0m\u001b[0m\n\u001b[1;32m-> 1788\u001b[1;33m         \u001b[0mself\u001b[0m\u001b[1;33m.\u001b[0m\u001b[0mdraw_points\u001b[0m\u001b[1;33m(\u001b[0m\u001b[0max\u001b[0m\u001b[1;33m)\u001b[0m\u001b[1;33m\u001b[0m\u001b[1;33m\u001b[0m\u001b[0m\n\u001b[0m\u001b[0;32m   1789\u001b[0m         \u001b[0mself\u001b[0m\u001b[1;33m.\u001b[0m\u001b[0mannotate_axes\u001b[0m\u001b[1;33m(\u001b[0m\u001b[0max\u001b[0m\u001b[1;33m)\u001b[0m\u001b[1;33m\u001b[0m\u001b[1;33m\u001b[0m\u001b[0m\n\u001b[0;32m   1790\u001b[0m         \u001b[1;32mif\u001b[0m \u001b[0mself\u001b[0m\u001b[1;33m.\u001b[0m\u001b[0morient\u001b[0m \u001b[1;33m==\u001b[0m \u001b[1;34m\"h\"\u001b[0m\u001b[1;33m:\u001b[0m\u001b[1;33m\u001b[0m\u001b[1;33m\u001b[0m\u001b[0m\n",
      "\u001b[1;32m~\\Anaconda3new\\lib\\site-packages\\seaborn\\categorical.py\u001b[0m in \u001b[0;36mdraw_points\u001b[1;34m(self, ax)\u001b[0m\n\u001b[0;32m   1755\u001b[0m                                 zorder=z, ls=ls, lw=lw)\n\u001b[0;32m   1756\u001b[0m                     \u001b[1;32melse\u001b[0m\u001b[1;33m:\u001b[0m\u001b[1;33m\u001b[0m\u001b[1;33m\u001b[0m\u001b[0m\n\u001b[1;32m-> 1757\u001b[1;33m                         ax.plot(offpos, statistic, color=color,\n\u001b[0m\u001b[0;32m   1758\u001b[0m                                 zorder=z, ls=ls, lw=lw)\n\u001b[0;32m   1759\u001b[0m \u001b[1;33m\u001b[0m\u001b[0m\n",
      "\u001b[1;31mAttributeError\u001b[0m: 'list' object has no attribute 'plot'"
     ]
    }
   ],
   "source": [
    "# trimming effect\n",
    "palette = sns.color_palette(\"tab10\",3)\n",
    "\n",
    "d = df2[(df2.Stage == 'f')&(df2.Treatment == '500/2/168')]#&(np.isnan(df2.Weighing)!= True)]\n",
    "sns.pointplot('Week','DGR', data=d,palette=palette,hue=\"Trimming\",err_kws=None,ci=None,ax=ax).set(xlabel='Week', ylabel='Daily growth rate')\n",
    "#,err_style=\"band\", ci=\"sd\")\n",
    "#ax.set_xticklabels(['1','2','3'])\n"
   ]
  },
  {
   "cell_type": "code",
   "execution_count": null,
   "metadata": {},
   "outputs": [],
   "source": []
  }
 ],
 "metadata": {
  "kernelspec": {
   "display_name": "Python 3",
   "language": "python",
   "name": "python3"
  },
  "language_info": {
   "codemirror_mode": {
    "name": "ipython",
    "version": 3
   },
   "file_extension": ".py",
   "mimetype": "text/x-python",
   "name": "python",
   "nbconvert_exporter": "python",
   "pygments_lexer": "ipython3",
   "version": "3.7.3"
  }
 },
 "nbformat": 4,
 "nbformat_minor": 4
}
